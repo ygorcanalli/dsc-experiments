{
 "cells": [
  {
   "cell_type": "code",
   "execution_count": 1,
   "metadata": {
    "collapsed": true,
    "ExecuteTime": {
     "end_time": "2024-06-18T09:53:15.731882687Z",
     "start_time": "2024-06-18T09:53:15.714508535Z"
    }
   },
   "outputs": [],
   "source": [
    "import pandas as pd\n",
    "import os\n",
    "from IPython.display import display"
   ]
  },
  {
   "cell_type": "code",
   "execution_count": 2,
   "outputs": [],
   "source": [
    "def read_csv_files_from_folder(folder_path):\n",
    "    # Initialize an empty list to store DataFrames\n",
    "    dfs = []\n",
    "\n",
    "    # Get a list of files in the folder\n",
    "    file_list = os.listdir(folder_path)\n",
    "\n",
    "    # Iterate through the files in the folder\n",
    "    for file_name in file_list:\n",
    "        # Check if the file has a .csv extension\n",
    "        if file_name.endswith(\".csv\"):\n",
    "            file_path = os.path.join(folder_path, file_name)\n",
    "\n",
    "            # Read the CSV file into a DataFrame\n",
    "            df = pd.read_csv(file_path, index_col=0, header=0)\n",
    "\n",
    "            # Append the DataFrame to the list\n",
    "            dfs.append(df)\n",
    "\n",
    "    # Concatenate all DataFrames into a single DataFrame\n",
    "    combined_df = pd.concat(dfs, ignore_index=True)\n",
    "\n",
    "    return combined_df"
   ],
   "metadata": {
    "collapsed": false,
    "ExecuteTime": {
     "end_time": "2024-06-18T09:53:15.735020802Z",
     "start_time": "2024-06-18T09:53:15.729886098Z"
    }
   }
  },
  {
   "cell_type": "code",
   "execution_count": 3,
   "outputs": [],
   "source": [
    "cols = ['dataset', 'method', 'fitness_rule', 'fitness', 'ACC', 'MCC', 'avg_odds_diff', 'stat_par_diff', 'eq_opp_diff', 'solution']"
   ],
   "metadata": {
    "collapsed": false,
    "ExecuteTime": {
     "end_time": "2024-06-18T09:53:15.736505277Z",
     "start_time": "2024-06-18T09:53:15.731058721Z"
    }
   }
  },
  {
   "cell_type": "code",
   "execution_count": 4,
   "outputs": [
    {
     "data": {
      "text/plain": "      overall_acc   bal_acc  avg_odds_diff  disp_imp  stat_par_diff  \\\n0        0.834936  0.773424       0.105715  0.749300       0.065635   \n1        0.844002  0.780294       0.049059  0.407614       0.170094   \n2        0.823328  0.824797       0.099124  0.385690       0.259137   \n3        0.836263  0.706579       0.024246  0.359515       0.107601   \n4        0.839469  0.713643       0.015181  0.410020       0.104461   \n...           ...       ...            ...       ...            ...   \n3692     0.790000  0.736491       0.043091  1.016502       0.011905   \n3693     0.790000  0.688927       0.151803  1.142244       0.110883   \n3694     0.640000  0.587186       0.088931  0.888889       0.078125   \n3695     0.720000  0.573337       0.046663  1.032787       0.028571   \n3696     0.785000  0.710000       0.103065  0.861921       0.109227   \n\n      eq_opp_diff  theil_ind       TPR       TNR       FPR  ...       MCC  \\\n0        0.192739   0.121793  0.646253  0.900596  0.099404  ...  0.559881   \n1        0.018271   0.115943  0.652155  0.908433  0.091567  ...  0.575709   \n2        0.061543   0.082246  0.827664  0.821930  0.178070  ...  0.590304   \n3        0.027139   0.163380  0.440656  0.972503  0.027497  ...  0.530541   \n4        0.002116   0.153518  0.464877  0.962408  0.037592  ...  0.526192   \n...           ...        ...       ...       ...       ...  ...       ...   \n3692     0.072250   0.150080  0.850340  0.622642  0.377358  ...  0.467493   \n3693     0.107527   0.095466  0.929577  0.448276  0.551724  ...  0.446281   \n3694     0.056122   0.255102  0.729927  0.444444  0.555556  ...  0.172935   \n3695     0.071446   0.109591  0.922535  0.224138  0.775862  ...  0.204808   \n3696     0.022222   0.146746  0.860000  0.560000  0.440000  ...  0.422857   \n\n      f1_score   fitness                                           solution  \\\n0     0.669031  0.494246  {'corr_type': 'pearson', 'l2': 0.0, 'dropout':...   \n1     0.677633  0.526651  {'corr_type': 'pearson', 'l2': 0.0, 'dropout':...   \n2     0.695503  0.528761  {'corr_type': 'pearson', 'l2': 0.0, 'dropout':...   \n3     0.579620  0.728663  {'corr_type': 'pearson', 'l2': 0.0, 'dropout':...   \n4     0.588669  0.824289  {'corr_type': 'pearson', 'l2': 0.0, 'dropout':...   \n...        ...       ...                                                ...   \n3692  0.856164  0.424402  {'dropout': 0.09627165796913209, 'privileged_d...   \n3693  0.862745  0.338754  {'dropout': 0.08768559611858262, 'privileged_d...   \n3694  0.735294  0.561875  {'dropout': 0.17388236828937342, 'privileged_d...   \n3695  0.823899  0.673337  {'dropout': 0.03445845309731452, 'privileged_d...   \n3696  0.857143  0.762778  {'dropout': 0.07792231776757985, 'privileged_d...   \n\n                                                   corr     fitness_rule  \\\n0     [0.07977566008940401, 0.0008965647325704729, 0...       mcc_parity   \n1     [0.08392866271270276, 0.003902499570566557, 0....         mcc_odds   \n2     [0.07885223051649136, 0.0022813842671083693, 1...  mcc_opportunity   \n3     [0.07787517408620503, 2.246978263011198e-05, 0...       acc_parity   \n4     [0.08580499697981567, 0.00525015314724385, 1.0...         acc_odds   \n...                                                 ...              ...   \n3692                                                NaN         mcc_odds   \n3693                                                NaN  mcc_opportunity   \n3694                                                NaN       acc_parity   \n3695                                                NaN         acc_odds   \n3696                                                NaN  acc_opportunity   \n\n                   method                dataset  \\\n0     ftl_mlp_initializer   adult_dataset_reader   \n1     ftl_mlp_initializer   adult_dataset_reader   \n2     ftl_mlp_initializer   adult_dataset_reader   \n3     ftl_mlp_initializer   adult_dataset_reader   \n4     ftl_mlp_initializer   adult_dataset_reader   \n...                   ...                    ...   \n3692  ftl_mlp_initializer  german_dataset_reader   \n3693  ftl_mlp_initializer  german_dataset_reader   \n3694  ftl_mlp_initializer  german_dataset_reader   \n3695  ftl_mlp_initializer  german_dataset_reader   \n3696  ftl_mlp_initializer  german_dataset_reader   \n\n                               best_solution_tf_history  \\\n0     {'loss': [0.5002829060276536, 0.47760909892786...   \n1     {'loss': [0.5228845256078762, 0.50544403579674...   \n2     {'loss': [0.40941930077154237, 0.3801981820613...   \n3     {'loss': [0.8860432654275967, 0.87261052768394...   \n4     {'loss': [0.6216279075019698, 0.59390508692872...   \n...                                                 ...   \n3692  {'loss': [0.6376810073852539, 0.61503809690475...   \n3693  {'loss': [0.6772245764732361, 0.64736610651016...   \n3694  {'loss': [0.6499606370925903, 0.61459320783615...   \n3695  {'loss': [0.7265857458114624, 0.68753087520599...   \n3696  {'loss': [0.7115918397903442, 0.64547181129455...   \n\n                                   tune_results_history  \n0                                                   NaN  \n1                                                   NaN  \n2                                                   NaN  \n3                                                   NaN  \n4                                                   NaN  \n...                                                 ...  \n3692  [{'overall_acc': 0.4125, 'bal_acc': 0.51663968...  \n3693  [{'overall_acc': 0.24375, 'bal_acc': 0.4461339...  \n3694  [{'overall_acc': 0.625, 'bal_acc': 0.5, 'avg_o...  \n3695  [{'overall_acc': 0.7125, 'bal_acc': 0.70747520...  \n3696  [{'overall_acc': 0.65, 'bal_acc': 0.5, 'avg_od...  \n\n[3697 rows x 30 columns]",
      "text/html": "<div>\n<style scoped>\n    .dataframe tbody tr th:only-of-type {\n        vertical-align: middle;\n    }\n\n    .dataframe tbody tr th {\n        vertical-align: top;\n    }\n\n    .dataframe thead th {\n        text-align: right;\n    }\n</style>\n<table border=\"1\" class=\"dataframe\">\n  <thead>\n    <tr style=\"text-align: right;\">\n      <th></th>\n      <th>overall_acc</th>\n      <th>bal_acc</th>\n      <th>avg_odds_diff</th>\n      <th>disp_imp</th>\n      <th>stat_par_diff</th>\n      <th>eq_opp_diff</th>\n      <th>theil_ind</th>\n      <th>TPR</th>\n      <th>TNR</th>\n      <th>FPR</th>\n      <th>...</th>\n      <th>MCC</th>\n      <th>f1_score</th>\n      <th>fitness</th>\n      <th>solution</th>\n      <th>corr</th>\n      <th>fitness_rule</th>\n      <th>method</th>\n      <th>dataset</th>\n      <th>best_solution_tf_history</th>\n      <th>tune_results_history</th>\n    </tr>\n  </thead>\n  <tbody>\n    <tr>\n      <th>0</th>\n      <td>0.834936</td>\n      <td>0.773424</td>\n      <td>0.105715</td>\n      <td>0.749300</td>\n      <td>0.065635</td>\n      <td>0.192739</td>\n      <td>0.121793</td>\n      <td>0.646253</td>\n      <td>0.900596</td>\n      <td>0.099404</td>\n      <td>...</td>\n      <td>0.559881</td>\n      <td>0.669031</td>\n      <td>0.494246</td>\n      <td>{'corr_type': 'pearson', 'l2': 0.0, 'dropout':...</td>\n      <td>[0.07977566008940401, 0.0008965647325704729, 0...</td>\n      <td>mcc_parity</td>\n      <td>ftl_mlp_initializer</td>\n      <td>adult_dataset_reader</td>\n      <td>{'loss': [0.5002829060276536, 0.47760909892786...</td>\n      <td>NaN</td>\n    </tr>\n    <tr>\n      <th>1</th>\n      <td>0.844002</td>\n      <td>0.780294</td>\n      <td>0.049059</td>\n      <td>0.407614</td>\n      <td>0.170094</td>\n      <td>0.018271</td>\n      <td>0.115943</td>\n      <td>0.652155</td>\n      <td>0.908433</td>\n      <td>0.091567</td>\n      <td>...</td>\n      <td>0.575709</td>\n      <td>0.677633</td>\n      <td>0.526651</td>\n      <td>{'corr_type': 'pearson', 'l2': 0.0, 'dropout':...</td>\n      <td>[0.08392866271270276, 0.003902499570566557, 0....</td>\n      <td>mcc_odds</td>\n      <td>ftl_mlp_initializer</td>\n      <td>adult_dataset_reader</td>\n      <td>{'loss': [0.5228845256078762, 0.50544403579674...</td>\n      <td>NaN</td>\n    </tr>\n    <tr>\n      <th>2</th>\n      <td>0.823328</td>\n      <td>0.824797</td>\n      <td>0.099124</td>\n      <td>0.385690</td>\n      <td>0.259137</td>\n      <td>0.061543</td>\n      <td>0.082246</td>\n      <td>0.827664</td>\n      <td>0.821930</td>\n      <td>0.178070</td>\n      <td>...</td>\n      <td>0.590304</td>\n      <td>0.695503</td>\n      <td>0.528761</td>\n      <td>{'corr_type': 'pearson', 'l2': 0.0, 'dropout':...</td>\n      <td>[0.07885223051649136, 0.0022813842671083693, 1...</td>\n      <td>mcc_opportunity</td>\n      <td>ftl_mlp_initializer</td>\n      <td>adult_dataset_reader</td>\n      <td>{'loss': [0.40941930077154237, 0.3801981820613...</td>\n      <td>NaN</td>\n    </tr>\n    <tr>\n      <th>3</th>\n      <td>0.836263</td>\n      <td>0.706579</td>\n      <td>0.024246</td>\n      <td>0.359515</td>\n      <td>0.107601</td>\n      <td>0.027139</td>\n      <td>0.163380</td>\n      <td>0.440656</td>\n      <td>0.972503</td>\n      <td>0.027497</td>\n      <td>...</td>\n      <td>0.530541</td>\n      <td>0.579620</td>\n      <td>0.728663</td>\n      <td>{'corr_type': 'pearson', 'l2': 0.0, 'dropout':...</td>\n      <td>[0.07787517408620503, 2.246978263011198e-05, 0...</td>\n      <td>acc_parity</td>\n      <td>ftl_mlp_initializer</td>\n      <td>adult_dataset_reader</td>\n      <td>{'loss': [0.8860432654275967, 0.87261052768394...</td>\n      <td>NaN</td>\n    </tr>\n    <tr>\n      <th>4</th>\n      <td>0.839469</td>\n      <td>0.713643</td>\n      <td>0.015181</td>\n      <td>0.410020</td>\n      <td>0.104461</td>\n      <td>0.002116</td>\n      <td>0.153518</td>\n      <td>0.464877</td>\n      <td>0.962408</td>\n      <td>0.037592</td>\n      <td>...</td>\n      <td>0.526192</td>\n      <td>0.588669</td>\n      <td>0.824289</td>\n      <td>{'corr_type': 'pearson', 'l2': 0.0, 'dropout':...</td>\n      <td>[0.08580499697981567, 0.00525015314724385, 1.0...</td>\n      <td>acc_odds</td>\n      <td>ftl_mlp_initializer</td>\n      <td>adult_dataset_reader</td>\n      <td>{'loss': [0.6216279075019698, 0.59390508692872...</td>\n      <td>NaN</td>\n    </tr>\n    <tr>\n      <th>...</th>\n      <td>...</td>\n      <td>...</td>\n      <td>...</td>\n      <td>...</td>\n      <td>...</td>\n      <td>...</td>\n      <td>...</td>\n      <td>...</td>\n      <td>...</td>\n      <td>...</td>\n      <td>...</td>\n      <td>...</td>\n      <td>...</td>\n      <td>...</td>\n      <td>...</td>\n      <td>...</td>\n      <td>...</td>\n      <td>...</td>\n      <td>...</td>\n      <td>...</td>\n      <td>...</td>\n    </tr>\n    <tr>\n      <th>3692</th>\n      <td>0.790000</td>\n      <td>0.736491</td>\n      <td>0.043091</td>\n      <td>1.016502</td>\n      <td>0.011905</td>\n      <td>0.072250</td>\n      <td>0.150080</td>\n      <td>0.850340</td>\n      <td>0.622642</td>\n      <td>0.377358</td>\n      <td>...</td>\n      <td>0.467493</td>\n      <td>0.856164</td>\n      <td>0.424402</td>\n      <td>{'dropout': 0.09627165796913209, 'privileged_d...</td>\n      <td>NaN</td>\n      <td>mcc_odds</td>\n      <td>ftl_mlp_initializer</td>\n      <td>german_dataset_reader</td>\n      <td>{'loss': [0.6376810073852539, 0.61503809690475...</td>\n      <td>[{'overall_acc': 0.4125, 'bal_acc': 0.51663968...</td>\n    </tr>\n    <tr>\n      <th>3693</th>\n      <td>0.790000</td>\n      <td>0.688927</td>\n      <td>0.151803</td>\n      <td>1.142244</td>\n      <td>0.110883</td>\n      <td>0.107527</td>\n      <td>0.095466</td>\n      <td>0.929577</td>\n      <td>0.448276</td>\n      <td>0.551724</td>\n      <td>...</td>\n      <td>0.446281</td>\n      <td>0.862745</td>\n      <td>0.338754</td>\n      <td>{'dropout': 0.08768559611858262, 'privileged_d...</td>\n      <td>NaN</td>\n      <td>mcc_opportunity</td>\n      <td>ftl_mlp_initializer</td>\n      <td>german_dataset_reader</td>\n      <td>{'loss': [0.6772245764732361, 0.64736610651016...</td>\n      <td>[{'overall_acc': 0.24375, 'bal_acc': 0.4461339...</td>\n    </tr>\n    <tr>\n      <th>3694</th>\n      <td>0.640000</td>\n      <td>0.587186</td>\n      <td>0.088931</td>\n      <td>0.888889</td>\n      <td>0.078125</td>\n      <td>0.056122</td>\n      <td>0.255102</td>\n      <td>0.729927</td>\n      <td>0.444444</td>\n      <td>0.555556</td>\n      <td>...</td>\n      <td>0.172935</td>\n      <td>0.735294</td>\n      <td>0.561875</td>\n      <td>{'dropout': 0.17388236828937342, 'privileged_d...</td>\n      <td>NaN</td>\n      <td>acc_parity</td>\n      <td>ftl_mlp_initializer</td>\n      <td>german_dataset_reader</td>\n      <td>{'loss': [0.6499606370925903, 0.61459320783615...</td>\n      <td>[{'overall_acc': 0.625, 'bal_acc': 0.5, 'avg_o...</td>\n    </tr>\n    <tr>\n      <th>3695</th>\n      <td>0.720000</td>\n      <td>0.573337</td>\n      <td>0.046663</td>\n      <td>1.032787</td>\n      <td>0.028571</td>\n      <td>0.071446</td>\n      <td>0.109591</td>\n      <td>0.922535</td>\n      <td>0.224138</td>\n      <td>0.775862</td>\n      <td>...</td>\n      <td>0.204808</td>\n      <td>0.823899</td>\n      <td>0.673337</td>\n      <td>{'dropout': 0.03445845309731452, 'privileged_d...</td>\n      <td>NaN</td>\n      <td>acc_odds</td>\n      <td>ftl_mlp_initializer</td>\n      <td>german_dataset_reader</td>\n      <td>{'loss': [0.7265857458114624, 0.68753087520599...</td>\n      <td>[{'overall_acc': 0.7125, 'bal_acc': 0.70747520...</td>\n    </tr>\n    <tr>\n      <th>3696</th>\n      <td>0.785000</td>\n      <td>0.710000</td>\n      <td>0.103065</td>\n      <td>0.861921</td>\n      <td>0.109227</td>\n      <td>0.022222</td>\n      <td>0.146746</td>\n      <td>0.860000</td>\n      <td>0.560000</td>\n      <td>0.440000</td>\n      <td>...</td>\n      <td>0.422857</td>\n      <td>0.857143</td>\n      <td>0.762778</td>\n      <td>{'dropout': 0.07792231776757985, 'privileged_d...</td>\n      <td>NaN</td>\n      <td>acc_opportunity</td>\n      <td>ftl_mlp_initializer</td>\n      <td>german_dataset_reader</td>\n      <td>{'loss': [0.7115918397903442, 0.64547181129455...</td>\n      <td>[{'overall_acc': 0.65, 'bal_acc': 0.5, 'avg_od...</td>\n    </tr>\n  </tbody>\n</table>\n<p>3697 rows × 30 columns</p>\n</div>"
     },
     "execution_count": 4,
     "metadata": {},
     "output_type": "execute_result"
    }
   ],
   "source": [
    "results = read_csv_files_from_folder('../2024-05-08/results')\n",
    "methods = ['simple_mlp_initializer', 'mlp_xi_reg_initializer', 'ftl_mlp_initializer', 'ftl_mlp_xi_reg_initializer']\n",
    "for method in results.method:\n",
    "    method_results = results[results.method == method]\n",
    "    csv_path = f\"{method.replace('_initializer','')}_results.csv\"\n",
    "    method_results.reset_index(drop=True, inplace=True)\n",
    "    method_results[cols].to_csv(csv_path, index=False)\n",
    "\n",
    "results"
   ],
   "metadata": {
    "collapsed": false,
    "ExecuteTime": {
     "end_time": "2024-06-18T09:54:20.992898171Z",
     "start_time": "2024-06-18T09:53:15.739121666Z"
    }
   }
  },
  {
   "cell_type": "code",
   "execution_count": 4,
   "outputs": [],
   "source": [],
   "metadata": {
    "collapsed": false,
    "ExecuteTime": {
     "end_time": "2024-06-18T09:54:20.993324384Z",
     "start_time": "2024-06-18T09:54:20.989273010Z"
    }
   }
  },
  {
   "cell_type": "code",
   "outputs": [],
   "source": [],
   "metadata": {
    "collapsed": false,
    "ExecuteTime": {
     "end_time": "2024-06-18T09:54:20.993670025Z",
     "start_time": "2024-06-18T09:54:20.990704941Z"
    }
   },
   "execution_count": 4
  }
 ],
 "metadata": {
  "kernelspec": {
   "display_name": "Python 3",
   "language": "python",
   "name": "python3"
  },
  "language_info": {
   "codemirror_mode": {
    "name": "ipython",
    "version": 2
   },
   "file_extension": ".py",
   "mimetype": "text/x-python",
   "name": "python",
   "nbconvert_exporter": "python",
   "pygments_lexer": "ipython2",
   "version": "2.7.6"
  }
 },
 "nbformat": 4,
 "nbformat_minor": 0
}
