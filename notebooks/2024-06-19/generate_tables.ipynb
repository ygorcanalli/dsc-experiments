{
 "cells": [
  {
   "cell_type": "code",
   "execution_count": 23,
   "metadata": {
    "ExecuteTime": {
     "end_time": "2024-06-18T18:13:55.487038745Z",
     "start_time": "2024-06-18T18:13:55.327628836Z"
    }
   },
   "outputs": [],
   "source": [
    "import pandas as pd\n",
    "import json\n",
    "import os\n",
    "import deepsig\n",
    "from IPython.display import display"
   ]
  },
  {
   "cell_type": "code",
   "execution_count": 24,
   "metadata": {
    "ExecuteTime": {
     "end_time": "2024-06-18T18:13:55.516508866Z",
     "start_time": "2024-06-18T18:13:55.431500745Z"
    }
   },
   "outputs": [],
   "source": [
    "cols = ['dataset', 'method', 'fitness_rule', 'fitness', 'ACC', 'MCC', 'f1_score', 'avg_odds_diff', 'stat_par_diff', 'eq_opp_diff']"
   ]
  },
  {
   "cell_type": "code",
   "execution_count": 42,
   "metadata": {
    "ExecuteTime": {
     "end_time": "2024-06-18T18:46:24.594123073Z",
     "start_time": "2024-06-18T18:46:24.417275296Z"
    }
   },
   "outputs": [],
   "source": [
    "mlp_baseline_results = pd.read_csv('simple_mlp_results.csv')\n",
    "mlp_baseline_results.replace({'simple_mlp_initializer': 'MLP'}, inplace=True)\n",
    "\n",
    "mlp_xi_reg_results = pd.read_csv('mlp_xi_reg_results.csv')\n",
    "mlp_xi_reg_results.replace({'mlp_xi_reg_initializer': 'MLP+CRP'}, inplace=True)\n",
    "\n",
    "mlp_results = pd.concat([mlp_baseline_results, mlp_xi_reg_results])\n",
    "\n",
    "ftl_baseline_results = pd.read_csv('ftl_mlp_results.csv')\n",
    "ftl_baseline_results.replace({'ftl_mlp_initializer': 'FTL'}, inplace=True)\n",
    "\n",
    "ftl_xi_reg_results = pd.read_csv('ftl_mlp_xi_reg_results.csv')\n",
    "ftl_xi_reg_results.replace({'ftl_mlp_xi_reg_initializer': 'FTL+CRP'}, inplace=True)\n",
    "\n",
    "ftl_results = pd.concat([ftl_baseline_results, ftl_xi_reg_results])\n",
    "full_results = pd.concat([mlp_results, ftl_results])"
   ]
  },
  {
   "cell_type": "markdown",
   "metadata": {
    "collapsed": false
   },
   "source": []
  },
  {
   "cell_type": "code",
   "execution_count": 43,
   "metadata": {
    "collapsed": false,
    "ExecuteTime": {
     "end_time": "2024-06-18T18:46:25.514144565Z",
     "start_time": "2024-06-18T18:46:25.464145435Z"
    }
   },
   "outputs": [],
   "source": [
    "for results in [mlp_results,ftl_results,full_results]:\n",
    "    results.replace({'adult_dataset_reader': 'Adult Income', 'compas_dataset_reader': 'Compas Recidivism', 'german_dataset_reader': 'German Credit', 'bank_dataset_reader': 'Bank Marketing'}, inplace=True)\n",
    "    results.rename(columns={'avg_odds_diff': 'Equalized Odds', 'stat_par_diff': 'Statistical Parity', 'eq_opp_diff': 'Equal Opportunity', 'MCC': 'Mathew Correlation', 'ACC': 'Accuracy'}, inplace=True)"
   ]
  },
  {
   "cell_type": "code",
   "execution_count": 44,
   "metadata": {
    "ExecuteTime": {
     "end_time": "2024-06-18T18:46:26.271151951Z",
     "start_time": "2024-06-18T18:46:26.037695148Z"
    }
   },
   "outputs": [
    {
     "name": "stderr",
     "output_type": "stream",
     "text": [
      "/tmp/ipykernel_139190/2086419267.py:32: FutureWarning: Setting an item of incompatible dtype is deprecated and will raise in a future error of pandas. Value '[0.58517004 0.58512823 0.5840247  0.5836371  0.57625737 0.5769683\n",
      " 0.58075151 0.57811729 0.57147862 0.55847176 0.56402881 0.58191431\n",
      " 0.58343253 0.57740222 0.51579307 0.30958237 0.37962947 0.55899189\n",
      " 0.53558872 0.2598879  0.57717035 0.50086739 0.33275221 0.37929293\n",
      " 0.47729109 0.29196869 0.29037704 0.52303609 0.27480633 0.38668781\n",
      " 0.50626951 0.29960979 0.4042848  0.52119218 0.2936422  0.33522388\n",
      " 0.49730721 0.25112662 0.35119067 0.510052   0.26843855 0.36081008\n",
      " 0.52157495 0.30114722 0.42995147 0.48267704 0.29056691 0.23139881\n",
      " 0.54223416 0.23653437 0.27041017 0.52121263 0.25759348 0.23912165\n",
      " 0.5223892  0.27406652 0.22303564 0.54094974 0.27699558 0.30939251\n",
      " 0.51731345 0.30339828 0.37825089 0.52113734 0.26323857 0.33963196\n",
      " 0.5538225  0.27850228 0.30234984 0.51877126 0.29494101 0.2648939\n",
      " 0.52742877 0.24492927 0.13407928 0.53530394 0.29087766 0.26820576\n",
      " 0.55204731 0.29318377 0.14015216 0.51983069 0.3145689  0.47077449\n",
      " 0.50770986 0.28880123 0.29866465 0.5180664  0.29093567 0.3636368\n",
      " 0.53289704 0.29737768 0.38084556 0.54328387 0.28002914 0.28232519\n",
      " 0.53457987 0.27840735 0.33593551 0.51796238 0.25832521 0.35528234\n",
      " 0.51043886 0.30283203 0.40103589 0.56749877 0.53823804 0.31508219\n",
      " 0.30011892 0.56841546 0.53593136 0.27736532 0.29276068 0.57486325\n",
      " 0.55475549 0.37742341 0.41386763 0.58054526 0.52683247 0.30308226\n",
      " 0.29262695 0.5799324  0.52052204 0.32271689 0.36757294 0.59460839\n",
      " 0.51334273 0.35016465 0.38279532 0.56696388 0.51290233 0.36145201\n",
      " 0.31417586 0.58536707 0.52205773 0.35505396 0.34556054 0.56656046\n",
      " 0.50583602 0.32985378 0.33067725 0.58034596 0.53345208 0.32170125\n",
      " 0.30777776 0.59105173 0.53641936 0.2978954  0.36302796 0.56022817\n",
      " 0.55256059 0.34881645 0.39408932 0.59294727 0.54603456 0.34966957\n",
      " 0.23577639 0.59038885 0.52721971 0.29670547 0.3451873  0.57735741\n",
      " 0.49288435 0.32695931 0.25449819]' has dtype incompatible with int64, please explicitly cast to a compatible dtype first.\n",
      "  results.loc[results.fitness_rule == fitness_rule,'Performance'] = results.loc[results.fitness_rule == fitness_rule,performance_metric]\n",
      "/tmp/ipykernel_139190/2086419267.py:33: FutureWarning: Setting an item of incompatible dtype is deprecated and will raise in a future error of pandas. Value '[0.19263281 0.18664775 0.20096652 0.19289642 0.19661682 0.17761564\n",
      " 0.19442911 0.19755228 0.19564214 0.19166634 0.18299811 0.17482095\n",
      " 0.20208162 0.18919863 0.1076907  0.21583464 0.07390198 0.18518896\n",
      " 0.01873928 0.21915752 0.00551471 0.06514573 0.27067494 0.10218254\n",
      " 0.09458935 0.20988634 0.15838547 0.0800928  0.22152457 0.04387464\n",
      " 0.0698734  0.21395877 0.         0.07046605 0.25600325 0.1\n",
      " 0.07839351 0.17845842 0.13362425 0.11385009 0.16165928 0.\n",
      " 0.07603398 0.22394599 0.10042067 0.07235512 0.17623094 0.05055147\n",
      " 0.10296647 0.13012843 0.01648841 0.12773041 0.23588101 0.01650837\n",
      " 0.10756357 0.22188463 0.04937755 0.08539799 0.27225208 0.04945055\n",
      " 0.1169952  0.18031026 0.07824514 0.11302381 0.1631723  0.01426025\n",
      " 0.09060303 0.26465511 0.05714286 0.07375941 0.25392869 0.15238095\n",
      " 0.06855833 0.14339139 0.05262482 0.10162526 0.17983738 0.03803214\n",
      " 0.11029739 0.21594265 0.04387464 0.09458175 0.21238761 0.13355998\n",
      " 0.12944543 0.23496771 0.10218254 0.11806774 0.24894357 0.05213764\n",
      " 0.07004917 0.17350555 0.01190476 0.12817972 0.20515527 0.02175742\n",
      " 0.07890663 0.15151805 0.03740065 0.08916093 0.22800167 0.09285714\n",
      " 0.09422782 0.21502555 0.12557513 0.17043743 0.05697608 0.21898748\n",
      " 0.13643948 0.18191969 0.07822294 0.15132607 0.0093861  0.18250066\n",
      " 0.01264665 0.23559673 0.17586248 0.20119128 0.12096531 0.21087333\n",
      " 0.02412748 0.18387142 0.04716656 0.23445073 0.1132209  0.2090674\n",
      " 0.09540628 0.1758396  0.01529371 0.18249025 0.15451562 0.12960218\n",
      " 0.09163816 0.20582866 0.14099926 0.2366753  0.03453453 0.19831842\n",
      " 0.11669678 0.19751087 0.04320503 0.21100369 0.11171009 0.22862629\n",
      " 0.0948225  0.18915521 0.08142121 0.23568945 0.09572439 0.17217966\n",
      " 0.13371856 0.18956381 0.1276793  0.19149507 0.11958928 0.20095979\n",
      " 0.00578666 0.19921783 0.18474625 0.2564805  0.08839473 0.18470594\n",
      " 0.06862094 0.21756002 0.20082564]' has dtype incompatible with int64, please explicitly cast to a compatible dtype first.\n",
      "  results.loc[results.fitness_rule == fitness_rule,'Fairness'] = results.loc[results.fitness_rule == fitness_rule,fairness_metric]\n",
      "/tmp/ipykernel_139190/2086419267.py:32: FutureWarning: Setting an item of incompatible dtype is deprecated and will raise in a future error of pandas. Value '[0.55988104 0.49558867 0.47660518 0.53020884 0.49731155 0.48088379\n",
      " 0.50936495 0.52610501 0.50501965 0.49517103 0.52255177 0.48277552\n",
      " 0.49360563 0.49928347 0.52530243 0.57125798 0.26719272 0.56423655\n",
      " 0.29766735 0.36058206 0.55945517 0.29521281 0.33972048 0.55905592\n",
      " 0.28944609 0.32121258 0.57663382 0.2155363  0.38625136 0.51800512\n",
      " 0.56704115 0.27188547 0.41022625 0.50844818 0.58147742 0.29142379\n",
      " 0.49507377 0.55088849 0.55295167 0.29014972 0.19279691 0.49465293\n",
      " 0.59668217 0.27799102 0.40162431 0.50188368 0.56846199 0.26853883\n",
      " 0.33775631 0.51945194 0.57722113 0.30578801 0.37184421 0.47715381\n",
      " 0.57614687 0.23775601 0.21954087 0.53842681 0.55842342 0.26279497\n",
      " 0.42605779 0.49253568 0.54725326 0.30749867 0.36383745 0.51679929\n",
      " 0.57610948 0.25566031 0.34192284 0.51058757 0.55100198 0.30099598\n",
      " 0.36266223 0.50312394 0.57982145 0.31194314 0.4653263  0.52249054\n",
      " 0.56323123 0.29980176 0.33126974 0.52834554 0.54237727 0.26726369\n",
      " 0.36816239 0.50039978 0.5727549  0.26481789 0.30434518 0.51789531\n",
      " 0.55194807 0.32738467 0.3825255  0.54230176 0.56579268 0.30680214\n",
      " 0.39278864 0.51073529 0.59522064 0.29391861 0.37328124 0.52032505\n",
      " 0.56379222 0.24911704 0.27519161 0.5393946  0.58057704 0.29958191\n",
      " 0.37323672 0.5309838  0.58115681 0.2283129  0.36913557 0.48187784\n",
      " 0.56128043 0.2708281  0.45238095 0.53923437 0.5682019  0.29936516\n",
      " 0.29872459 0.49428725 0.57227051 0.36044719 0.42488276 0.51292128\n",
      " 0.58056377 0.32580119 0.38945521]' has dtype incompatible with int64, please explicitly cast to a compatible dtype first.\n",
      "  results.loc[results.fitness_rule == fitness_rule,'Performance'] = results.loc[results.fitness_rule == fitness_rule,performance_metric]\n",
      "/tmp/ipykernel_139190/2086419267.py:33: FutureWarning: Setting an item of incompatible dtype is deprecated and will raise in a future error of pandas. Value '[0.06563524 0.00434914 0.02991623 0.03287846 0.03464132 0.0015824\n",
      " 0.00711975 0.00623328 0.00497483 0.00291418 0.02981982 0.0109755\n",
      " 0.02228438 0.00327132 0.03014368 0.03368986 0.01061935 0.04884345\n",
      " 0.00318869 0.04725275 0.07879247 0.00767757 0.12307692 0.07240013\n",
      " 0.05023218 0.17032427 0.01610486 0.01464497 0.04113081 0.02539461\n",
      " 0.00738464 0.03314062 0.20443238 0.01405335 0.08464225 0.04418413\n",
      " 0.06341958 0.07260789 0.02708251 0.05161231 0.17274306 0.04830241\n",
      " 0.01979831 0.01559766 0.03448276 0.00257988 0.0483141  0.02840623\n",
      " 0.1267524  0.00821899 0.00903848 0.11110273 0.05313139 0.00603834\n",
      " 0.04068929 0.0526122  0.14506428 0.04578193 0.00695801 0.04242893\n",
      " 0.02784147 0.01113432 0.01962781 0.04470059 0.02865904 0.02775235\n",
      " 0.01574879 0.03630877 0.14705882 0.0109844  0.10781566 0.02974926\n",
      " 0.0452381  0.0050764  0.04388923 0.02444512 0.07446939 0.00696866\n",
      " 0.0599006  0.04742124 0.02566656 0.01850166 0.01588528 0.00798571\n",
      " 0.07470289 0.00492596 0.11916056 0.11480894 0.0967033  0.00527722\n",
      " 0.10149032 0.00326027 0.11536303 0.04272904 0.01503966 0.00821274\n",
      " 0.05773726 0.02078339 0.04197402 0.06509592 0.0600748  0.03245418\n",
      " 0.02382688 0.07972239 0.02245123 0.0381727  0.00426904 0.03826994\n",
      " 0.0041073  0.0661497  0.01623005 0.01917878 0.0258467  0.00536159\n",
      " 0.02439073 0.12379038 0.03421503 0.06870452 0.00874027 0.10842825\n",
      " 0.06250701 0.00047319 0.0856518  0.1045295  0.17064049 0.01275285\n",
      " 0.01676805 0.09199719 0.16263736]' has dtype incompatible with int64, please explicitly cast to a compatible dtype first.\n",
      "  results.loc[results.fitness_rule == fitness_rule,'Fairness'] = results.loc[results.fitness_rule == fitness_rule,fairness_metric]\n",
      "/tmp/ipykernel_139190/2086419267.py:32: FutureWarning: Setting an item of incompatible dtype is deprecated and will raise in a future error of pandas. Value '[0.58517004 0.58512823 0.5840247  0.5836371  0.57625737 0.5769683\n",
      " 0.58075151 0.57811729 0.57147862 0.55847176 0.56402881 0.58191431\n",
      " 0.58343253 0.57740222 0.51579307 0.30958237 0.37962947 0.55899189\n",
      " 0.53558872 0.2598879  0.57717035 0.50086739 0.33275221 0.37929293\n",
      " 0.47729109 0.29196869 0.29037704 0.52303609 0.27480633 0.38668781\n",
      " 0.50626951 0.29960979 0.4042848  0.52119218 0.2936422  0.33522388\n",
      " 0.49730721 0.25112662 0.35119067 0.510052   0.26843855 0.36081008\n",
      " 0.52157495 0.30114722 0.42995147 0.48267704 0.29056691 0.23139881\n",
      " 0.54223416 0.23653437 0.27041017 0.52121263 0.25759348 0.23912165\n",
      " 0.5223892  0.27406652 0.22303564 0.54094974 0.27699558 0.30939251\n",
      " 0.51731345 0.30339828 0.37825089 0.52113734 0.26323857 0.33963196\n",
      " 0.5538225  0.27850228 0.30234984 0.51877126 0.29494101 0.2648939\n",
      " 0.52742877 0.24492927 0.13407928 0.53530394 0.29087766 0.26820576\n",
      " 0.55204731 0.29318377 0.14015216 0.51983069 0.3145689  0.47077449\n",
      " 0.50770986 0.28880123 0.29866465 0.5180664  0.29093567 0.3636368\n",
      " 0.53289704 0.29737768 0.38084556 0.54328387 0.28002914 0.28232519\n",
      " 0.53457987 0.27840735 0.33593551 0.51796238 0.25832521 0.35528234\n",
      " 0.51043886 0.30283203 0.40103589 0.56749877 0.53823804 0.31508219\n",
      " 0.30011892 0.56841546 0.53593136 0.27736532 0.29276068 0.57486325\n",
      " 0.55475549 0.37742341 0.41386763 0.58054526 0.52683247 0.30308226\n",
      " 0.29262695 0.5799324  0.52052204 0.32271689 0.36757294 0.59460839\n",
      " 0.51334273 0.35016465 0.38279532 0.56696388 0.51290233 0.36145201\n",
      " 0.31417586 0.58536707 0.52205773 0.35505396 0.34556054 0.56656046\n",
      " 0.50583602 0.32985378 0.33067725 0.58034596 0.53345208 0.32170125\n",
      " 0.30777776 0.59105173 0.53641936 0.2978954  0.36302796 0.56022817\n",
      " 0.55256059 0.34881645 0.39408932 0.59294727 0.54603456 0.34966957\n",
      " 0.23577639 0.59038885 0.52721971 0.29670547 0.3451873  0.57735741\n",
      " 0.49288435 0.32695931 0.25449819 0.55988104 0.49558867 0.47660518\n",
      " 0.53020884 0.49731155 0.48088379 0.50936495 0.52610501 0.50501965\n",
      " 0.49517103 0.52255177 0.48277552 0.49360563 0.49928347 0.52530243\n",
      " 0.57125798 0.26719272 0.56423655 0.29766735 0.36058206 0.55945517\n",
      " 0.29521281 0.33972048 0.55905592 0.28944609 0.32121258 0.57663382\n",
      " 0.2155363  0.38625136 0.51800512 0.56704115 0.27188547 0.41022625\n",
      " 0.50844818 0.58147742 0.29142379 0.49507377 0.55088849 0.55295167\n",
      " 0.29014972 0.19279691 0.49465293 0.59668217 0.27799102 0.40162431\n",
      " 0.50188368 0.56846199 0.26853883 0.33775631 0.51945194 0.57722113\n",
      " 0.30578801 0.37184421 0.47715381 0.57614687 0.23775601 0.21954087\n",
      " 0.53842681 0.55842342 0.26279497 0.42605779 0.49253568 0.54725326\n",
      " 0.30749867 0.36383745 0.51679929 0.57610948 0.25566031 0.34192284\n",
      " 0.51058757 0.55100198 0.30099598 0.36266223 0.50312394 0.57982145\n",
      " 0.31194314 0.4653263  0.52249054 0.56323123 0.29980176 0.33126974\n",
      " 0.52834554 0.54237727 0.26726369 0.36816239 0.50039978 0.5727549\n",
      " 0.26481789 0.30434518 0.51789531 0.55194807 0.32738467 0.3825255\n",
      " 0.54230176 0.56579268 0.30680214 0.39278864 0.51073529 0.59522064\n",
      " 0.29391861 0.37328124 0.52032505 0.56379222 0.24911704 0.27519161\n",
      " 0.5393946  0.58057704 0.29958191 0.37323672 0.5309838  0.58115681\n",
      " 0.2283129  0.36913557 0.48187784 0.56128043 0.2708281  0.45238095\n",
      " 0.53923437 0.5682019  0.29936516 0.29872459 0.49428725 0.57227051\n",
      " 0.36044719 0.42488276 0.51292128 0.58056377 0.32580119 0.38945521]' has dtype incompatible with int64, please explicitly cast to a compatible dtype first.\n",
      "  results.loc[results.fitness_rule == fitness_rule,'Performance'] = results.loc[results.fitness_rule == fitness_rule,performance_metric]\n",
      "/tmp/ipykernel_139190/2086419267.py:33: FutureWarning: Setting an item of incompatible dtype is deprecated and will raise in a future error of pandas. Value '[0.19263281 0.18664775 0.20096652 0.19289642 0.19661682 0.17761564\n",
      " 0.19442911 0.19755228 0.19564214 0.19166634 0.18299811 0.17482095\n",
      " 0.20208162 0.18919863 0.1076907  0.21583464 0.07390198 0.18518896\n",
      " 0.01873928 0.21915752 0.00551471 0.06514573 0.27067494 0.10218254\n",
      " 0.09458935 0.20988634 0.15838547 0.0800928  0.22152457 0.04387464\n",
      " 0.0698734  0.21395877 0.         0.07046605 0.25600325 0.1\n",
      " 0.07839351 0.17845842 0.13362425 0.11385009 0.16165928 0.\n",
      " 0.07603398 0.22394599 0.10042067 0.07235512 0.17623094 0.05055147\n",
      " 0.10296647 0.13012843 0.01648841 0.12773041 0.23588101 0.01650837\n",
      " 0.10756357 0.22188463 0.04937755 0.08539799 0.27225208 0.04945055\n",
      " 0.1169952  0.18031026 0.07824514 0.11302381 0.1631723  0.01426025\n",
      " 0.09060303 0.26465511 0.05714286 0.07375941 0.25392869 0.15238095\n",
      " 0.06855833 0.14339139 0.05262482 0.10162526 0.17983738 0.03803214\n",
      " 0.11029739 0.21594265 0.04387464 0.09458175 0.21238761 0.13355998\n",
      " 0.12944543 0.23496771 0.10218254 0.11806774 0.24894357 0.05213764\n",
      " 0.07004917 0.17350555 0.01190476 0.12817972 0.20515527 0.02175742\n",
      " 0.07890663 0.15151805 0.03740065 0.08916093 0.22800167 0.09285714\n",
      " 0.09422782 0.21502555 0.12557513 0.17043743 0.05697608 0.21898748\n",
      " 0.13643948 0.18191969 0.07822294 0.15132607 0.0093861  0.18250066\n",
      " 0.01264665 0.23559673 0.17586248 0.20119128 0.12096531 0.21087333\n",
      " 0.02412748 0.18387142 0.04716656 0.23445073 0.1132209  0.2090674\n",
      " 0.09540628 0.1758396  0.01529371 0.18249025 0.15451562 0.12960218\n",
      " 0.09163816 0.20582866 0.14099926 0.2366753  0.03453453 0.19831842\n",
      " 0.11669678 0.19751087 0.04320503 0.21100369 0.11171009 0.22862629\n",
      " 0.0948225  0.18915521 0.08142121 0.23568945 0.09572439 0.17217966\n",
      " 0.13371856 0.18956381 0.1276793  0.19149507 0.11958928 0.20095979\n",
      " 0.00578666 0.19921783 0.18474625 0.2564805  0.08839473 0.18470594\n",
      " 0.06862094 0.21756002 0.20082564 0.06563524 0.00434914 0.02991623\n",
      " 0.03287846 0.03464132 0.0015824  0.00711975 0.00623328 0.00497483\n",
      " 0.00291418 0.02981982 0.0109755  0.02228438 0.00327132 0.03014368\n",
      " 0.03368986 0.01061935 0.04884345 0.00318869 0.04725275 0.07879247\n",
      " 0.00767757 0.12307692 0.07240013 0.05023218 0.17032427 0.01610486\n",
      " 0.01464497 0.04113081 0.02539461 0.00738464 0.03314062 0.20443238\n",
      " 0.01405335 0.08464225 0.04418413 0.06341958 0.07260789 0.02708251\n",
      " 0.05161231 0.17274306 0.04830241 0.01979831 0.01559766 0.03448276\n",
      " 0.00257988 0.0483141  0.02840623 0.1267524  0.00821899 0.00903848\n",
      " 0.11110273 0.05313139 0.00603834 0.04068929 0.0526122  0.14506428\n",
      " 0.04578193 0.00695801 0.04242893 0.02784147 0.01113432 0.01962781\n",
      " 0.04470059 0.02865904 0.02775235 0.01574879 0.03630877 0.14705882\n",
      " 0.0109844  0.10781566 0.02974926 0.0452381  0.0050764  0.04388923\n",
      " 0.02444512 0.07446939 0.00696866 0.0599006  0.04742124 0.02566656\n",
      " 0.01850166 0.01588528 0.00798571 0.07470289 0.00492596 0.11916056\n",
      " 0.11480894 0.0967033  0.00527722 0.10149032 0.00326027 0.11536303\n",
      " 0.04272904 0.01503966 0.00821274 0.05773726 0.02078339 0.04197402\n",
      " 0.06509592 0.0600748  0.03245418 0.02382688 0.07972239 0.02245123\n",
      " 0.0381727  0.00426904 0.03826994 0.0041073  0.0661497  0.01623005\n",
      " 0.01917878 0.0258467  0.00536159 0.02439073 0.12379038 0.03421503\n",
      " 0.06870452 0.00874027 0.10842825 0.06250701 0.00047319 0.0856518\n",
      " 0.1045295  0.17064049 0.01275285 0.01676805 0.09199719 0.16263736]' has dtype incompatible with int64, please explicitly cast to a compatible dtype first.\n",
      "  results.loc[results.fitness_rule == fitness_rule,'Fairness'] = results.loc[results.fitness_rule == fitness_rule,fairness_metric]\n"
     ]
    }
   ],
   "source": [
    "fitness_rules_target_metrics = {\n",
    "    'mcc_parity': {'performance': 'Mathew Correlation', 'fairness': 'Statistical Parity'},\n",
    "    'mcc_opportunity': {'performance': 'Mathew Correlation', 'fairness': 'Equal Opportunity'},\n",
    "    'mcc_odds': {'performance': 'Mathew Correlation', 'fairness': 'Equalized Odds'},\n",
    "    'acc_parity': {'performance': 'Accuracy', 'fairness': 'Statistical Parity'},\n",
    "    'acc_opportunity': {'performance': 'Accuracy', 'fairness': 'Equal Opportunity'},\n",
    "    'acc_odds': {'performance': 'Accuracy', 'fairness': 'Equalized Odds'}\n",
    "}\n",
    "\n",
    "fitness_rules_target_metrics = {\n",
    "    'mcc_parity': ('Mathew Correlation', 'Statistical Parity'),\n",
    "    'mcc_opportunity': ('Mathew Correlation', 'Equal Opportunity'),\n",
    "    'mcc_odds': ('Mathew Correlation', 'Equalized Odds'),\n",
    "    'acc_parity': ('Accuracy', 'Statistical Parity'),\n",
    "    'acc_opportunity': ('Accuracy', 'Equal Opportunity'),\n",
    "    'acc_odds': ('Accuracy', 'Equalized Odds')\n",
    "}\n",
    "fitness_rules_abvr = {\n",
    "    'mcc_parity': 'Max(MCC - Stat. Parity)',\n",
    "    'mcc_opportunity': 'Max(MCC - Eq. Odds)',\n",
    "    'mcc_odds': 'Max(MCC - Eq. Opp.)',\n",
    "    'acc_parity': 'Max(Acc - Stat. Parity)',\n",
    "    'acc_opportunity': 'Max(Acc - Eq. Odds)',\n",
    "    'acc_odds': 'Max(Acc - Eq. Opp.)'\n",
    "}\n",
    "\n",
    "for results in [mlp_results,ftl_results,full_results]:\n",
    "    results['Performance'] = 0\n",
    "    results['Fairness'] = 0\n",
    "    results['Fitness Rule'] = ''\n",
    "    for fitness_rule, (performance_metric, fairness_metric) in fitness_rules_target_metrics.items():\n",
    "        results.loc[results.fitness_rule == fitness_rule,'Performance'] = results.loc[results.fitness_rule == fitness_rule,performance_metric]\n",
    "        results.loc[results.fitness_rule == fitness_rule,'Fairness'] = results.loc[results.fitness_rule == fitness_rule,fairness_metric]\n",
    "        results.loc[results.fitness_rule == fitness_rule,'Fitness Rule Abvr'] = fitness_rules_abvr[fitness_rule]\n",
    "        results.loc[results.fitness_rule == fitness_rule,'Fitness Rule'] = 'Max(%s - %s)' % fitness_rules_target_metrics[fitness_rule]"
   ]
  },
  {
   "cell_type": "code",
   "execution_count": 28,
   "metadata": {
    "ExecuteTime": {
     "end_time": "2024-06-18T18:13:55.679772404Z",
     "start_time": "2024-06-18T18:13:55.634730979Z"
    }
   },
   "outputs": [
    {
     "data": {
      "text/plain": "['Adult Income', 'Bank Marketing', 'Compas Recidivism', 'German Credit']"
     },
     "execution_count": 28,
     "metadata": {},
     "output_type": "execute_result"
    }
   ],
   "source": [
    "datasets = ['Adult Income', 'Bank Marketing', 'Compas Recidivism','German Credit']\n",
    "datasets"
   ]
  },
  {
   "cell_type": "code",
   "execution_count": 29,
   "metadata": {
    "ExecuteTime": {
     "end_time": "2024-06-18T18:13:55.765454711Z",
     "start_time": "2024-06-18T18:13:55.658544386Z"
    }
   },
   "outputs": [
    {
     "data": {
      "text/plain": "['mcc_parity',\n 'mcc_opportunity',\n 'mcc_odds',\n 'acc_parity',\n 'acc_opportunity',\n 'acc_odds']"
     },
     "execution_count": 29,
     "metadata": {},
     "output_type": "execute_result"
    }
   ],
   "source": [
    "fitness_rules = ['mcc_parity', 'mcc_opportunity', 'mcc_odds', 'acc_parity', 'acc_opportunity', 'acc_odds']\n",
    "fitness_rules"
   ]
  },
  {
   "cell_type": "code",
   "execution_count": 53,
   "metadata": {
    "ExecuteTime": {
     "end_time": "2024-06-18T19:01:32.326121046Z",
     "start_time": "2024-06-18T19:01:31.998911570Z"
    }
   },
   "outputs": [],
   "source": [
    "ftl_methods = ['FTL', 'FTL+CRP']\n",
    "mlp_methods = ['MLP', 'MLP+CRP']\n",
    "significances = []\n",
    "grouped_results_list = []"
   ]
  },
  {
   "cell_type": "code",
   "execution_count": 69,
   "metadata": {
    "collapsed": false,
    "ExecuteTime": {
     "end_time": "2024-06-18T19:17:24.186360576Z",
     "start_time": "2024-06-18T19:17:23.806291752Z"
    }
   },
   "outputs": [
    {
     "name": "stdout",
     "output_type": "stream",
     "text": [
      "MLP CRP ASO Results\n"
     ]
    },
    {
     "data": {
      "text/plain": "dataset          Adult Income  Bank Marketing  Compas Recidivism  \\\nfitness_rule                                                       \nmcc_parity           0.785045        0.989348           0.033061   \nmcc_opportunity      0.264258        1.000000           0.005210   \nmcc_odds             0.077738        1.000000           0.201501   \nacc_parity           0.752638        1.000000           0.393764   \nacc_opportunity      1.000000        0.177703           0.074456   \nacc_odds             0.325908        1.000000           0.008194   \n\ndataset          German Credit  \nfitness_rule                    \nmcc_parity            1.000000  \nmcc_opportunity       1.000000  \nmcc_odds              1.000000  \nacc_parity            0.873975  \nacc_opportunity       0.235600  \nacc_odds              0.622009  ",
      "text/html": "<div>\n<style scoped>\n    .dataframe tbody tr th:only-of-type {\n        vertical-align: middle;\n    }\n\n    .dataframe tbody tr th {\n        vertical-align: top;\n    }\n\n    .dataframe thead th {\n        text-align: right;\n    }\n</style>\n<table border=\"1\" class=\"dataframe\">\n  <thead>\n    <tr style=\"text-align: right;\">\n      <th>dataset</th>\n      <th>Adult Income</th>\n      <th>Bank Marketing</th>\n      <th>Compas Recidivism</th>\n      <th>German Credit</th>\n    </tr>\n    <tr>\n      <th>fitness_rule</th>\n      <th></th>\n      <th></th>\n      <th></th>\n      <th></th>\n    </tr>\n  </thead>\n  <tbody>\n    <tr>\n      <th>mcc_parity</th>\n      <td>0.785045</td>\n      <td>0.989348</td>\n      <td>0.033061</td>\n      <td>1.000000</td>\n    </tr>\n    <tr>\n      <th>mcc_opportunity</th>\n      <td>0.264258</td>\n      <td>1.000000</td>\n      <td>0.005210</td>\n      <td>1.000000</td>\n    </tr>\n    <tr>\n      <th>mcc_odds</th>\n      <td>0.077738</td>\n      <td>1.000000</td>\n      <td>0.201501</td>\n      <td>1.000000</td>\n    </tr>\n    <tr>\n      <th>acc_parity</th>\n      <td>0.752638</td>\n      <td>1.000000</td>\n      <td>0.393764</td>\n      <td>0.873975</td>\n    </tr>\n    <tr>\n      <th>acc_opportunity</th>\n      <td>1.000000</td>\n      <td>0.177703</td>\n      <td>0.074456</td>\n      <td>0.235600</td>\n    </tr>\n    <tr>\n      <th>acc_odds</th>\n      <td>0.325908</td>\n      <td>1.000000</td>\n      <td>0.008194</td>\n      <td>0.622009</td>\n    </tr>\n  </tbody>\n</table>\n</div>"
     },
     "metadata": {},
     "output_type": "display_data"
    },
    {
     "name": "stdout",
     "output_type": "stream",
     "text": [
      "FTL CRP ASO Results\n"
     ]
    },
    {
     "data": {
      "text/plain": "dataset          Adult Income  Bank Marketing  Compas Recidivism  \\\nfitness_rule                                                       \nmcc_parity           0.338501        1.000000           1.000000   \nmcc_opportunity      0.349227        1.000000           0.194598   \nmcc_odds             0.298353        1.000000           0.559465   \nacc_parity           0.442553        1.000000           0.021590   \nacc_opportunity      0.580331        0.674064           1.000000   \nacc_odds             0.397716        1.000000           0.202845   \n\ndataset          German Credit  \nfitness_rule                    \nmcc_parity            0.314726  \nmcc_opportunity       1.000000  \nmcc_odds              1.000000  \nacc_parity            1.000000  \nacc_opportunity       1.000000  \nacc_odds              1.000000  ",
      "text/html": "<div>\n<style scoped>\n    .dataframe tbody tr th:only-of-type {\n        vertical-align: middle;\n    }\n\n    .dataframe tbody tr th {\n        vertical-align: top;\n    }\n\n    .dataframe thead th {\n        text-align: right;\n    }\n</style>\n<table border=\"1\" class=\"dataframe\">\n  <thead>\n    <tr style=\"text-align: right;\">\n      <th>dataset</th>\n      <th>Adult Income</th>\n      <th>Bank Marketing</th>\n      <th>Compas Recidivism</th>\n      <th>German Credit</th>\n    </tr>\n    <tr>\n      <th>fitness_rule</th>\n      <th></th>\n      <th></th>\n      <th></th>\n      <th></th>\n    </tr>\n  </thead>\n  <tbody>\n    <tr>\n      <th>mcc_parity</th>\n      <td>0.338501</td>\n      <td>1.000000</td>\n      <td>1.000000</td>\n      <td>0.314726</td>\n    </tr>\n    <tr>\n      <th>mcc_opportunity</th>\n      <td>0.349227</td>\n      <td>1.000000</td>\n      <td>0.194598</td>\n      <td>1.000000</td>\n    </tr>\n    <tr>\n      <th>mcc_odds</th>\n      <td>0.298353</td>\n      <td>1.000000</td>\n      <td>0.559465</td>\n      <td>1.000000</td>\n    </tr>\n    <tr>\n      <th>acc_parity</th>\n      <td>0.442553</td>\n      <td>1.000000</td>\n      <td>0.021590</td>\n      <td>1.000000</td>\n    </tr>\n    <tr>\n      <th>acc_opportunity</th>\n      <td>0.580331</td>\n      <td>0.674064</td>\n      <td>1.000000</td>\n      <td>1.000000</td>\n    </tr>\n    <tr>\n      <th>acc_odds</th>\n      <td>0.397716</td>\n      <td>1.000000</td>\n      <td>0.202845</td>\n      <td>1.000000</td>\n    </tr>\n  </tbody>\n</table>\n</div>"
     },
     "metadata": {},
     "output_type": "display_data"
    }
   ],
   "source": [
    "for path, methods, results in zip(['mlp_multi_aso_data_list.json', 'ftl_multi_aso_data_list.json'],\n",
    "                                  [mlp_methods, ftl_methods],\n",
    "                                  (mlp_results,ftl_results)):\n",
    "    method = methods[0]\n",
    "    if os.path.exists(path):\n",
    "        with open(path) as file:\n",
    "            multi_aso_data_list = json.load(file)\n",
    "    else:    \n",
    "        multi_aso_data_list = []\n",
    "        for d in datasets:\n",
    "            for f in fitness_rules:\n",
    "                \n",
    "                baseline = results.loc[ (results['dataset'] == d) &\n",
    "                                         (results['fitness_rule'] == f) &\n",
    "                                         (results['method'] == methods[0]) ]\\\n",
    "                                .fitness.tolist()\n",
    "                crp = results.loc[ (results['dataset'] == d) &\n",
    "                                         (results['fitness_rule'] == f) &\n",
    "                                         (results['method'] == methods[1]) ]\\\n",
    "                                .fitness.tolist()\n",
    "\n",
    "                min_eps = deepsig.aso(crp, baseline, confidence_level=0.95)\n",
    "                multi_aso_data_list.append({'fitness_rule': f, 'dataset': d, 'min_eps': min_eps})\n",
    "        with open(path, 'w') as file:\n",
    "            json.dump(multi_aso_data_list, file)\n",
    "\n",
    "    significance = pd.DataFrame(multi_aso_data_list)\n",
    "    \n",
    "    pivot_df = significance.pivot_table(index='fitness_rule', columns='dataset', values='min_eps').sort_values(by='fitness_rule', ascending=False)\n",
    "    pivot_df.to_latex(f'tables/aso_results_{method.lower()}_crp.tex')\n",
    "    print(method + ' CRP ASO Results')\n",
    "    display(pivot_df)"
   ]
  },
  {
   "cell_type": "code",
   "execution_count": 76,
   "metadata": {
    "collapsed": false,
    "ExecuteTime": {
     "end_time": "2024-06-18T19:21:31.166501935Z",
     "start_time": "2024-06-18T19:21:31.009613791Z"
    }
   },
   "outputs": [
    {
     "data": {
      "text/plain": "                                         fitness                 Performance  \\\n                                            mean       std count        mean   \nfitness_rule dataset           method                                          \nmcc_parity   German Credit     FTL+CRP  0.302067  0.062075    15    0.370891   \n                               MLP      0.265661  0.099801    30    0.329468   \n                               FTL      0.255934  0.122275    14    0.354889   \n                               MLP+CRP  0.245571  0.070406    15    0.329368   \n             Compas Recidivism FTL      0.239206  0.031594    15    0.275636   \n...                                          ...       ...   ...         ...   \nacc_odds     Bank Marketing    MLP+CRP  0.830051  0.031753    15    0.902197   \n             Adult Income      FTL+CRP  0.805417  0.018968    15    0.843169   \n                               FTL      0.797546  0.022527    25    0.840876   \n                               MLP+CRP  0.771922  0.023962    15    0.848719   \n                               MLP      0.760493  0.020149    15    0.849110   \n\n                                                  Fairness            \\\n                                             std      mean       std   \nfitness_rule dataset           method                                  \nmcc_parity   German Credit     FTL+CRP  0.053377  0.068824  0.049439   \n                               MLP      0.090834  0.063807  0.046639   \n                               FTL      0.077343  0.098955  0.062630   \n                               MLP+CRP  0.050637  0.083796  0.060963   \n             Compas Recidivism FTL      0.025629  0.036430  0.026733   \n...                                          ...       ...       ...   \nacc_odds     Bank Marketing    MLP+CRP  0.003271  0.072146  0.030545   \n             Adult Income      FTL+CRP  0.005611  0.037752  0.017930   \n                               FTL      0.007559  0.043330  0.023855   \n                               MLP+CRP  0.003999  0.076798  0.023499   \n                               MLP      0.003824  0.088617  0.019533   \n\n                                        formatted_fitness  \\\n                                                            \nfitness_rule dataset           method                       \nmcc_parity   German Credit     FTL+CRP  $0.302 (\\pm0.06)$   \n                               MLP      $0.266 (\\pm0.10)$   \n                               FTL      $0.256 (\\pm0.12)$   \n                               MLP+CRP  $0.246 (\\pm0.07)$   \n             Compas Recidivism FTL      $0.239 (\\pm0.03)$   \n...                                                   ...   \nacc_odds     Bank Marketing    MLP+CRP  $0.830 (\\pm0.03)$   \n             Adult Income      FTL+CRP  $0.805 (\\pm0.02)$   \n                               FTL      $0.798 (\\pm0.02)$   \n                               MLP+CRP  $0.772 (\\pm0.02)$   \n                               MLP      $0.760 (\\pm0.02)$   \n\n                                       formatted_performance  \\\n                                                               \nfitness_rule dataset           method                          \nmcc_parity   German Credit     FTL+CRP     $0.371 (\\pm0.05)$   \n                               MLP         $0.329 (\\pm0.09)$   \n                               FTL         $0.355 (\\pm0.08)$   \n                               MLP+CRP     $0.329 (\\pm0.05)$   \n             Compas Recidivism FTL         $0.276 (\\pm0.03)$   \n...                                                      ...   \nacc_odds     Bank Marketing    MLP+CRP     $0.902 (\\pm0.00)$   \n             Adult Income      FTL+CRP     $0.843 (\\pm0.01)$   \n                               FTL         $0.841 (\\pm0.01)$   \n                               MLP+CRP     $0.849 (\\pm0.00)$   \n                               MLP         $0.849 (\\pm0.00)$   \n\n                                       formatted_fairness  \n                                                           \nfitness_rule dataset           method                      \nmcc_parity   German Credit     FTL+CRP  $0.069 (\\pm0.05)$  \n                               MLP      $0.064 (\\pm0.05)$  \n                               FTL      $0.099 (\\pm0.06)$  \n                               MLP+CRP  $0.084 (\\pm0.06)$  \n             Compas Recidivism FTL      $0.036 (\\pm0.03)$  \n...                                                   ...  \nacc_odds     Bank Marketing    MLP+CRP  $0.072 (\\pm0.03)$  \n             Adult Income      FTL+CRP  $0.038 (\\pm0.02)$  \n                               FTL      $0.043 (\\pm0.02)$  \n                               MLP+CRP  $0.077 (\\pm0.02)$  \n                               MLP      $0.089 (\\pm0.02)$  \n\n[96 rows x 10 columns]",
      "text/html": "<div>\n<style scoped>\n    .dataframe tbody tr th:only-of-type {\n        vertical-align: middle;\n    }\n\n    .dataframe tbody tr th {\n        vertical-align: top;\n    }\n\n    .dataframe thead tr th {\n        text-align: left;\n    }\n\n    .dataframe thead tr:last-of-type th {\n        text-align: right;\n    }\n</style>\n<table border=\"1\" class=\"dataframe\">\n  <thead>\n    <tr>\n      <th></th>\n      <th></th>\n      <th></th>\n      <th colspan=\"3\" halign=\"left\">fitness</th>\n      <th colspan=\"2\" halign=\"left\">Performance</th>\n      <th colspan=\"2\" halign=\"left\">Fairness</th>\n      <th>formatted_fitness</th>\n      <th>formatted_performance</th>\n      <th>formatted_fairness</th>\n    </tr>\n    <tr>\n      <th></th>\n      <th></th>\n      <th></th>\n      <th>mean</th>\n      <th>std</th>\n      <th>count</th>\n      <th>mean</th>\n      <th>std</th>\n      <th>mean</th>\n      <th>std</th>\n      <th></th>\n      <th></th>\n      <th></th>\n    </tr>\n    <tr>\n      <th>fitness_rule</th>\n      <th>dataset</th>\n      <th>method</th>\n      <th></th>\n      <th></th>\n      <th></th>\n      <th></th>\n      <th></th>\n      <th></th>\n      <th></th>\n      <th></th>\n      <th></th>\n      <th></th>\n    </tr>\n  </thead>\n  <tbody>\n    <tr>\n      <th rowspan=\"5\" valign=\"top\">mcc_parity</th>\n      <th rowspan=\"4\" valign=\"top\">German Credit</th>\n      <th>FTL+CRP</th>\n      <td>0.302067</td>\n      <td>0.062075</td>\n      <td>15</td>\n      <td>0.370891</td>\n      <td>0.053377</td>\n      <td>0.068824</td>\n      <td>0.049439</td>\n      <td>$0.302 (\\pm0.06)$</td>\n      <td>$0.371 (\\pm0.05)$</td>\n      <td>$0.069 (\\pm0.05)$</td>\n    </tr>\n    <tr>\n      <th>MLP</th>\n      <td>0.265661</td>\n      <td>0.099801</td>\n      <td>30</td>\n      <td>0.329468</td>\n      <td>0.090834</td>\n      <td>0.063807</td>\n      <td>0.046639</td>\n      <td>$0.266 (\\pm0.10)$</td>\n      <td>$0.329 (\\pm0.09)$</td>\n      <td>$0.064 (\\pm0.05)$</td>\n    </tr>\n    <tr>\n      <th>FTL</th>\n      <td>0.255934</td>\n      <td>0.122275</td>\n      <td>14</td>\n      <td>0.354889</td>\n      <td>0.077343</td>\n      <td>0.098955</td>\n      <td>0.062630</td>\n      <td>$0.256 (\\pm0.12)$</td>\n      <td>$0.355 (\\pm0.08)$</td>\n      <td>$0.099 (\\pm0.06)$</td>\n    </tr>\n    <tr>\n      <th>MLP+CRP</th>\n      <td>0.245571</td>\n      <td>0.070406</td>\n      <td>15</td>\n      <td>0.329368</td>\n      <td>0.050637</td>\n      <td>0.083796</td>\n      <td>0.060963</td>\n      <td>$0.246 (\\pm0.07)$</td>\n      <td>$0.329 (\\pm0.05)$</td>\n      <td>$0.084 (\\pm0.06)$</td>\n    </tr>\n    <tr>\n      <th>Compas Recidivism</th>\n      <th>FTL</th>\n      <td>0.239206</td>\n      <td>0.031594</td>\n      <td>15</td>\n      <td>0.275636</td>\n      <td>0.025629</td>\n      <td>0.036430</td>\n      <td>0.026733</td>\n      <td>$0.239 (\\pm0.03)$</td>\n      <td>$0.276 (\\pm0.03)$</td>\n      <td>$0.036 (\\pm0.03)$</td>\n    </tr>\n    <tr>\n      <th>...</th>\n      <th>...</th>\n      <th>...</th>\n      <td>...</td>\n      <td>...</td>\n      <td>...</td>\n      <td>...</td>\n      <td>...</td>\n      <td>...</td>\n      <td>...</td>\n      <td>...</td>\n      <td>...</td>\n      <td>...</td>\n    </tr>\n    <tr>\n      <th rowspan=\"5\" valign=\"top\">acc_odds</th>\n      <th>Bank Marketing</th>\n      <th>MLP+CRP</th>\n      <td>0.830051</td>\n      <td>0.031753</td>\n      <td>15</td>\n      <td>0.902197</td>\n      <td>0.003271</td>\n      <td>0.072146</td>\n      <td>0.030545</td>\n      <td>$0.830 (\\pm0.03)$</td>\n      <td>$0.902 (\\pm0.00)$</td>\n      <td>$0.072 (\\pm0.03)$</td>\n    </tr>\n    <tr>\n      <th rowspan=\"4\" valign=\"top\">Adult Income</th>\n      <th>FTL+CRP</th>\n      <td>0.805417</td>\n      <td>0.018968</td>\n      <td>15</td>\n      <td>0.843169</td>\n      <td>0.005611</td>\n      <td>0.037752</td>\n      <td>0.017930</td>\n      <td>$0.805 (\\pm0.02)$</td>\n      <td>$0.843 (\\pm0.01)$</td>\n      <td>$0.038 (\\pm0.02)$</td>\n    </tr>\n    <tr>\n      <th>FTL</th>\n      <td>0.797546</td>\n      <td>0.022527</td>\n      <td>25</td>\n      <td>0.840876</td>\n      <td>0.007559</td>\n      <td>0.043330</td>\n      <td>0.023855</td>\n      <td>$0.798 (\\pm0.02)$</td>\n      <td>$0.841 (\\pm0.01)$</td>\n      <td>$0.043 (\\pm0.02)$</td>\n    </tr>\n    <tr>\n      <th>MLP+CRP</th>\n      <td>0.771922</td>\n      <td>0.023962</td>\n      <td>15</td>\n      <td>0.848719</td>\n      <td>0.003999</td>\n      <td>0.076798</td>\n      <td>0.023499</td>\n      <td>$0.772 (\\pm0.02)$</td>\n      <td>$0.849 (\\pm0.00)$</td>\n      <td>$0.077 (\\pm0.02)$</td>\n    </tr>\n    <tr>\n      <th>MLP</th>\n      <td>0.760493</td>\n      <td>0.020149</td>\n      <td>15</td>\n      <td>0.849110</td>\n      <td>0.003824</td>\n      <td>0.088617</td>\n      <td>0.019533</td>\n      <td>$0.760 (\\pm0.02)$</td>\n      <td>$0.849 (\\pm0.00)$</td>\n      <td>$0.089 (\\pm0.02)$</td>\n    </tr>\n  </tbody>\n</table>\n<p>96 rows × 10 columns</p>\n</div>"
     },
     "execution_count": 76,
     "metadata": {},
     "output_type": "execute_result"
    }
   ],
   "source": [
    "grouped_results = full_results\\\n",
    "    .groupby(['fitness_rule', 'dataset', 'method'])\\\n",
    "    .agg({'fitness': ['mean', 'std', 'count'], 'Performance': ['mean', 'std'], 'Fairness': ['mean', 'std']})\\\n",
    "    .sort_values(by=['fitness_rule', 'dataset', ('fitness','mean')], ascending=False)\n",
    "grouped_results['formatted_fitness'] = grouped_results.apply(lambda row: f\"${row[('fitness', 'mean')]:.3f} (\\pm{row[('fitness', 'std')]:.2f})$\", axis=1)\n",
    "grouped_results['formatted_performance'] = grouped_results.apply(lambda row: f\"${row[('Performance', 'mean')]:.3f} (\\pm{row[('Performance', 'std')]:.2f})$\", axis=1)\n",
    "grouped_results['formatted_fairness'] = grouped_results.apply(lambda row: f\"${row[('Fairness', 'mean')]:.3f} (\\pm{row[('Fairness', 'std')]:.2f})$\", axis=1)\n",
    "grouped_results"
   ]
  },
  {
   "cell_type": "code",
   "execution_count": 97,
   "outputs": [],
   "source": [
    "selected_columns = ['formatted_fitness', 'formatted_performance', 'formatted_fairness']\n",
    "\n",
    "for fitness_rule in fitness_rules:\n",
    "    grouped_results.loc[fitness_rule][selected_columns].to_latex(f'tables/grouped_results_{fitness_rule}_crp.tex')\n",
    "     #.to_latex(f'tables/grouped_results_{fitness_rule}_crp.tex', columns=selected_columns))"
   ],
   "metadata": {
    "collapsed": false,
    "ExecuteTime": {
     "end_time": "2024-06-18T19:44:32.540627287Z",
     "start_time": "2024-06-18T19:44:32.406162964Z"
    }
   }
  },
  {
   "cell_type": "code",
   "execution_count": null,
   "outputs": [],
   "source": [],
   "metadata": {
    "collapsed": false
   }
  }
 ],
 "metadata": {
  "kernelspec": {
   "display_name": "Python 3 (ipykernel)",
   "language": "python",
   "name": "python3"
  },
  "language_info": {
   "codemirror_mode": {
    "name": "ipython",
    "version": 3
   },
   "file_extension": ".py",
   "mimetype": "text/x-python",
   "name": "python",
   "nbconvert_exporter": "python",
   "pygments_lexer": "ipython3",
   "version": "3.11.5"
  }
 },
 "nbformat": 4,
 "nbformat_minor": 4
}
