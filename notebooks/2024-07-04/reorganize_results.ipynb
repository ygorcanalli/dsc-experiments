{
 "cells": [
  {
   "cell_type": "code",
   "execution_count": 9,
   "metadata": {
    "collapsed": true,
    "ExecuteTime": {
     "end_time": "2024-07-01T09:26:51.779129742Z",
     "start_time": "2024-07-01T09:26:51.748598965Z"
    }
   },
   "outputs": [],
   "source": [
    "import pandas as pd\n",
    "import os\n",
    "from IPython.display import display"
   ]
  },
  {
   "cell_type": "code",
   "execution_count": 14,
   "outputs": [],
   "source": [
    "def read_csv_files_from_folders(folder_paths):\n",
    "    # Initialize an empty list to store DataFrames\n",
    "    dfs = []\n",
    "\n",
    "    for folder_path in folder_paths:\n",
    "        # Get a list of files in the folder\n",
    "        file_list = os.listdir(folder_path)\n",
    "    \n",
    "        # Iterate through the files in the folder\n",
    "        for file_name in file_list:\n",
    "            # Check if the file has a .csv extension\n",
    "            if file_name.endswith(\".csv\"):\n",
    "                file_path = os.path.join(folder_path, file_name)\n",
    "    \n",
    "                # Read the CSV file into a DataFrame\n",
    "                df = pd.read_csv(file_path, index_col=0, header=0)\n",
    "    \n",
    "                # Append the DataFrame to the list\n",
    "                dfs.append(df)\n",
    "\n",
    "    # Concatenate all DataFrames into a single DataFrame\n",
    "    combined_df = pd.concat(dfs, ignore_index=True)\n",
    "\n",
    "    return combined_df"
   ],
   "metadata": {
    "collapsed": false,
    "ExecuteTime": {
     "end_time": "2024-07-01T09:28:16.282311106Z",
     "start_time": "2024-07-01T09:28:16.240904168Z"
    }
   }
  },
  {
   "cell_type": "code",
   "execution_count": 15,
   "outputs": [],
   "source": [
    "cols = ['dataset', 'method', 'fitness_rule', 'fitness', 'ACC', 'MCC', 'avg_odds_diff', 'stat_par_diff', 'eq_opp_diff', 'solution']"
   ],
   "metadata": {
    "collapsed": false,
    "ExecuteTime": {
     "end_time": "2024-07-01T09:28:16.912095327Z",
     "start_time": "2024-07-01T09:28:16.908397903Z"
    }
   }
  },
  {
   "cell_type": "code",
   "execution_count": 17,
   "outputs": [
    {
     "data": {
      "text/plain": "      overall_acc   bal_acc  avg_odds_diff  disp_imp  stat_par_diff  \\\n0        0.834936  0.773424       0.105715  0.749300       0.065635   \n1        0.844002  0.780294       0.049059  0.407614       0.170094   \n2        0.823328  0.824797       0.099124  0.385690       0.259137   \n3        0.836263  0.706579       0.024246  0.359515       0.107601   \n4        0.839469  0.713643       0.015181  0.410020       0.104461   \n...           ...       ...            ...       ...            ...   \n4170     0.780000  0.712800       0.067783  0.903904       0.076190   \n4171     0.755000  0.675092       0.031269  1.007989       0.006257   \n4172     0.750000  0.646043       0.039123  0.926129       0.062890   \n4173     0.720000  0.641293       0.102428  1.062500       0.046875   \n4174     0.765000  0.682713       0.130286  0.856173       0.118214   \n\n      eq_opp_diff  theil_ind       TPR       TNR       FPR  ...       MCC  \\\n0        0.192739   0.121793  0.646253  0.900596  0.099404  ...  0.559881   \n1        0.018271   0.115943  0.652155  0.908433  0.091567  ...  0.575709   \n2        0.061543   0.082246  0.827664  0.821930  0.178070  ...  0.590304   \n3        0.027139   0.163380  0.440656  0.972503  0.027497  ...  0.530541   \n4        0.002116   0.153518  0.464877  0.962408  0.037592  ...  0.526192   \n...           ...        ...       ...       ...       ...  ...       ...   \n4170     0.021930   0.106333  0.910448  0.515152  0.484848  ...  0.475539   \n4171     0.033298   0.119704  0.897059  0.453125  0.546875  ...  0.397623   \n4172     0.027083   0.101333  0.927007  0.365079  0.634921  ...  0.365533   \n4173     0.024856   0.154088  0.854015  0.428571  0.571429  ...  0.309590   \n4174     0.123604   0.113431  0.905109  0.460317  0.539683  ...  0.416752   \n\n      f1_score   fitness                                           solution  \\\n0     0.669031  0.494246  {'corr_type': 'pearson', 'l2': 0.0, 'dropout':...   \n1     0.677633  0.526651  {'corr_type': 'pearson', 'l2': 0.0, 'dropout':...   \n2     0.695503  0.528761  {'corr_type': 'pearson', 'l2': 0.0, 'dropout':...   \n3     0.579620  0.728663  {'corr_type': 'pearson', 'l2': 0.0, 'dropout':...   \n4     0.588669  0.824289  {'corr_type': 'pearson', 'l2': 0.0, 'dropout':...   \n...        ...       ...                                                ...   \n4170  0.847222  0.703810        {'l2': 0.001, 'dropout': 0.131908832037227}   \n4171  0.832765  0.723731        {'l2': 0.01, 'dropout': 0.1939983840267889}   \n4172  0.835526  0.710877       {'l2': 0.01, 'dropout': 0.06397590198723654}   \n4173  0.806897  0.695144     {'l2': 0.0001, 'dropout': 0.07600791282041937}   \n4174  0.840678  0.641396      {'l2': 0.01, 'dropout': 0.019077769078934347}   \n\n                                                   corr     fitness_rule  \\\n0     [0.07977566008940401, 0.0008965647325704729, 0...       mcc_parity   \n1     [0.08392866271270276, 0.003902499570566557, 0....         mcc_odds   \n2     [0.07885223051649136, 0.0022813842671083693, 1...  mcc_opportunity   \n3     [0.07787517408620503, 2.246978263011198e-05, 0...       acc_parity   \n4     [0.08580499697981567, 0.00525015314724385, 1.0...         acc_odds   \n...                                                 ...              ...   \n4170                                                NaN       acc_parity   \n4171  [0.06545391034620708, 0.09357035326323625, 0.0...         acc_odds   \n4172                                                NaN         acc_odds   \n4173  [0.05049671580639349, 0.08736709626071326, 0.0...  acc_opportunity   \n4174                                                NaN  acc_opportunity   \n\n                           method                dataset  \\\n0             ftl_mlp_initializer   adult_dataset_reader   \n1             ftl_mlp_initializer   adult_dataset_reader   \n2             ftl_mlp_initializer   adult_dataset_reader   \n3             ftl_mlp_initializer   adult_dataset_reader   \n4             ftl_mlp_initializer   adult_dataset_reader   \n...                           ...                    ...   \n4170  mlp_standard_l2_initializer  german_dataset_reader   \n4171         mlp_kreg_initializer  german_dataset_reader   \n4172  mlp_standard_l2_initializer  german_dataset_reader   \n4173         mlp_kreg_initializer  german_dataset_reader   \n4174  mlp_standard_l2_initializer  german_dataset_reader   \n\n                               best_solution_tf_history  \\\n0     {'loss': [0.5002829060276536, 0.47760909892786...   \n1     {'loss': [0.5228845256078762, 0.50544403579674...   \n2     {'loss': [0.40941930077154237, 0.3801981820613...   \n3     {'loss': [0.8860432654275967, 0.87261052768394...   \n4     {'loss': [0.6216279075019698, 0.59390508692872...   \n...                                                 ...   \n4170  {'loss': [0.6545706391334534, 0.61958032846450...   \n4171  {'loss': [0.7830065488815308, 0.69674015045166...   \n4172  {'loss': [0.7342745661735535, 0.61750286817550...   \n4173  {'loss': [0.677704393863678, 0.612007915973663...   \n4174  {'loss': [0.6375523209571838, 0.58554846048355...   \n\n                                   tune_results_history  \n0                                                   NaN  \n1                                                   NaN  \n2                                                   NaN  \n3                                                   NaN  \n4                                                   NaN  \n...                                                 ...  \n4170  [{'overall_acc': 0.7375, 'bal_acc': 0.51178520...  \n4171  [{'overall_acc': 0.73125, 'bal_acc': 0.5964187...  \n4172  [{'overall_acc': 0.66875, 'bal_acc': 0.5637665...  \n4173  [{'overall_acc': 0.7625, 'bal_acc': 0.66452991...  \n4174  [{'overall_acc': 0.79375, 'bal_acc': 0.6456966...  \n\n[4175 rows x 30 columns]",
      "text/html": "<div>\n<style scoped>\n    .dataframe tbody tr th:only-of-type {\n        vertical-align: middle;\n    }\n\n    .dataframe tbody tr th {\n        vertical-align: top;\n    }\n\n    .dataframe thead th {\n        text-align: right;\n    }\n</style>\n<table border=\"1\" class=\"dataframe\">\n  <thead>\n    <tr style=\"text-align: right;\">\n      <th></th>\n      <th>overall_acc</th>\n      <th>bal_acc</th>\n      <th>avg_odds_diff</th>\n      <th>disp_imp</th>\n      <th>stat_par_diff</th>\n      <th>eq_opp_diff</th>\n      <th>theil_ind</th>\n      <th>TPR</th>\n      <th>TNR</th>\n      <th>FPR</th>\n      <th>...</th>\n      <th>MCC</th>\n      <th>f1_score</th>\n      <th>fitness</th>\n      <th>solution</th>\n      <th>corr</th>\n      <th>fitness_rule</th>\n      <th>method</th>\n      <th>dataset</th>\n      <th>best_solution_tf_history</th>\n      <th>tune_results_history</th>\n    </tr>\n  </thead>\n  <tbody>\n    <tr>\n      <th>0</th>\n      <td>0.834936</td>\n      <td>0.773424</td>\n      <td>0.105715</td>\n      <td>0.749300</td>\n      <td>0.065635</td>\n      <td>0.192739</td>\n      <td>0.121793</td>\n      <td>0.646253</td>\n      <td>0.900596</td>\n      <td>0.099404</td>\n      <td>...</td>\n      <td>0.559881</td>\n      <td>0.669031</td>\n      <td>0.494246</td>\n      <td>{'corr_type': 'pearson', 'l2': 0.0, 'dropout':...</td>\n      <td>[0.07977566008940401, 0.0008965647325704729, 0...</td>\n      <td>mcc_parity</td>\n      <td>ftl_mlp_initializer</td>\n      <td>adult_dataset_reader</td>\n      <td>{'loss': [0.5002829060276536, 0.47760909892786...</td>\n      <td>NaN</td>\n    </tr>\n    <tr>\n      <th>1</th>\n      <td>0.844002</td>\n      <td>0.780294</td>\n      <td>0.049059</td>\n      <td>0.407614</td>\n      <td>0.170094</td>\n      <td>0.018271</td>\n      <td>0.115943</td>\n      <td>0.652155</td>\n      <td>0.908433</td>\n      <td>0.091567</td>\n      <td>...</td>\n      <td>0.575709</td>\n      <td>0.677633</td>\n      <td>0.526651</td>\n      <td>{'corr_type': 'pearson', 'l2': 0.0, 'dropout':...</td>\n      <td>[0.08392866271270276, 0.003902499570566557, 0....</td>\n      <td>mcc_odds</td>\n      <td>ftl_mlp_initializer</td>\n      <td>adult_dataset_reader</td>\n      <td>{'loss': [0.5228845256078762, 0.50544403579674...</td>\n      <td>NaN</td>\n    </tr>\n    <tr>\n      <th>2</th>\n      <td>0.823328</td>\n      <td>0.824797</td>\n      <td>0.099124</td>\n      <td>0.385690</td>\n      <td>0.259137</td>\n      <td>0.061543</td>\n      <td>0.082246</td>\n      <td>0.827664</td>\n      <td>0.821930</td>\n      <td>0.178070</td>\n      <td>...</td>\n      <td>0.590304</td>\n      <td>0.695503</td>\n      <td>0.528761</td>\n      <td>{'corr_type': 'pearson', 'l2': 0.0, 'dropout':...</td>\n      <td>[0.07885223051649136, 0.0022813842671083693, 1...</td>\n      <td>mcc_opportunity</td>\n      <td>ftl_mlp_initializer</td>\n      <td>adult_dataset_reader</td>\n      <td>{'loss': [0.40941930077154237, 0.3801981820613...</td>\n      <td>NaN</td>\n    </tr>\n    <tr>\n      <th>3</th>\n      <td>0.836263</td>\n      <td>0.706579</td>\n      <td>0.024246</td>\n      <td>0.359515</td>\n      <td>0.107601</td>\n      <td>0.027139</td>\n      <td>0.163380</td>\n      <td>0.440656</td>\n      <td>0.972503</td>\n      <td>0.027497</td>\n      <td>...</td>\n      <td>0.530541</td>\n      <td>0.579620</td>\n      <td>0.728663</td>\n      <td>{'corr_type': 'pearson', 'l2': 0.0, 'dropout':...</td>\n      <td>[0.07787517408620503, 2.246978263011198e-05, 0...</td>\n      <td>acc_parity</td>\n      <td>ftl_mlp_initializer</td>\n      <td>adult_dataset_reader</td>\n      <td>{'loss': [0.8860432654275967, 0.87261052768394...</td>\n      <td>NaN</td>\n    </tr>\n    <tr>\n      <th>4</th>\n      <td>0.839469</td>\n      <td>0.713643</td>\n      <td>0.015181</td>\n      <td>0.410020</td>\n      <td>0.104461</td>\n      <td>0.002116</td>\n      <td>0.153518</td>\n      <td>0.464877</td>\n      <td>0.962408</td>\n      <td>0.037592</td>\n      <td>...</td>\n      <td>0.526192</td>\n      <td>0.588669</td>\n      <td>0.824289</td>\n      <td>{'corr_type': 'pearson', 'l2': 0.0, 'dropout':...</td>\n      <td>[0.08580499697981567, 0.00525015314724385, 1.0...</td>\n      <td>acc_odds</td>\n      <td>ftl_mlp_initializer</td>\n      <td>adult_dataset_reader</td>\n      <td>{'loss': [0.6216279075019698, 0.59390508692872...</td>\n      <td>NaN</td>\n    </tr>\n    <tr>\n      <th>...</th>\n      <td>...</td>\n      <td>...</td>\n      <td>...</td>\n      <td>...</td>\n      <td>...</td>\n      <td>...</td>\n      <td>...</td>\n      <td>...</td>\n      <td>...</td>\n      <td>...</td>\n      <td>...</td>\n      <td>...</td>\n      <td>...</td>\n      <td>...</td>\n      <td>...</td>\n      <td>...</td>\n      <td>...</td>\n      <td>...</td>\n      <td>...</td>\n      <td>...</td>\n      <td>...</td>\n    </tr>\n    <tr>\n      <th>4170</th>\n      <td>0.780000</td>\n      <td>0.712800</td>\n      <td>0.067783</td>\n      <td>0.903904</td>\n      <td>0.076190</td>\n      <td>0.021930</td>\n      <td>0.106333</td>\n      <td>0.910448</td>\n      <td>0.515152</td>\n      <td>0.484848</td>\n      <td>...</td>\n      <td>0.475539</td>\n      <td>0.847222</td>\n      <td>0.703810</td>\n      <td>{'l2': 0.001, 'dropout': 0.131908832037227}</td>\n      <td>NaN</td>\n      <td>acc_parity</td>\n      <td>mlp_standard_l2_initializer</td>\n      <td>german_dataset_reader</td>\n      <td>{'loss': [0.6545706391334534, 0.61958032846450...</td>\n      <td>[{'overall_acc': 0.7375, 'bal_acc': 0.51178520...</td>\n    </tr>\n    <tr>\n      <th>4171</th>\n      <td>0.755000</td>\n      <td>0.675092</td>\n      <td>0.031269</td>\n      <td>1.007989</td>\n      <td>0.006257</td>\n      <td>0.033298</td>\n      <td>0.119704</td>\n      <td>0.897059</td>\n      <td>0.453125</td>\n      <td>0.546875</td>\n      <td>...</td>\n      <td>0.397623</td>\n      <td>0.832765</td>\n      <td>0.723731</td>\n      <td>{'l2': 0.01, 'dropout': 0.1939983840267889}</td>\n      <td>[0.06545391034620708, 0.09357035326323625, 0.0...</td>\n      <td>acc_odds</td>\n      <td>mlp_kreg_initializer</td>\n      <td>german_dataset_reader</td>\n      <td>{'loss': [0.7830065488815308, 0.69674015045166...</td>\n      <td>[{'overall_acc': 0.73125, 'bal_acc': 0.5964187...</td>\n    </tr>\n    <tr>\n      <th>4172</th>\n      <td>0.750000</td>\n      <td>0.646043</td>\n      <td>0.039123</td>\n      <td>0.926129</td>\n      <td>0.062890</td>\n      <td>0.027083</td>\n      <td>0.101333</td>\n      <td>0.927007</td>\n      <td>0.365079</td>\n      <td>0.634921</td>\n      <td>...</td>\n      <td>0.365533</td>\n      <td>0.835526</td>\n      <td>0.710877</td>\n      <td>{'l2': 0.01, 'dropout': 0.06397590198723654}</td>\n      <td>NaN</td>\n      <td>acc_odds</td>\n      <td>mlp_standard_l2_initializer</td>\n      <td>german_dataset_reader</td>\n      <td>{'loss': [0.7342745661735535, 0.61750286817550...</td>\n      <td>[{'overall_acc': 0.66875, 'bal_acc': 0.5637665...</td>\n    </tr>\n    <tr>\n      <th>4173</th>\n      <td>0.720000</td>\n      <td>0.641293</td>\n      <td>0.102428</td>\n      <td>1.062500</td>\n      <td>0.046875</td>\n      <td>0.024856</td>\n      <td>0.154088</td>\n      <td>0.854015</td>\n      <td>0.428571</td>\n      <td>0.571429</td>\n      <td>...</td>\n      <td>0.309590</td>\n      <td>0.806897</td>\n      <td>0.695144</td>\n      <td>{'l2': 0.0001, 'dropout': 0.07600791282041937}</td>\n      <td>[0.05049671580639349, 0.08736709626071326, 0.0...</td>\n      <td>acc_opportunity</td>\n      <td>mlp_kreg_initializer</td>\n      <td>german_dataset_reader</td>\n      <td>{'loss': [0.677704393863678, 0.612007915973663...</td>\n      <td>[{'overall_acc': 0.7625, 'bal_acc': 0.66452991...</td>\n    </tr>\n    <tr>\n      <th>4174</th>\n      <td>0.765000</td>\n      <td>0.682713</td>\n      <td>0.130286</td>\n      <td>0.856173</td>\n      <td>0.118214</td>\n      <td>0.123604</td>\n      <td>0.113431</td>\n      <td>0.905109</td>\n      <td>0.460317</td>\n      <td>0.539683</td>\n      <td>...</td>\n      <td>0.416752</td>\n      <td>0.840678</td>\n      <td>0.641396</td>\n      <td>{'l2': 0.01, 'dropout': 0.019077769078934347}</td>\n      <td>NaN</td>\n      <td>acc_opportunity</td>\n      <td>mlp_standard_l2_initializer</td>\n      <td>german_dataset_reader</td>\n      <td>{'loss': [0.6375523209571838, 0.58554846048355...</td>\n      <td>[{'overall_acc': 0.79375, 'bal_acc': 0.6456966...</td>\n    </tr>\n  </tbody>\n</table>\n<p>4175 rows × 30 columns</p>\n</div>"
     },
     "execution_count": 17,
     "metadata": {},
     "output_type": "execute_result"
    }
   ],
   "source": [
    "results = read_csv_files_from_folders(['../2024-05-08/results', 'results'])\n",
    "methods = ['simple_mlp_initializer', 'mlp_standard_l2_initializer', 'mlp_preg_initializer','mlp_sreg_initializer','mlp_kreg_initializer', 'mlp_xi_reg_initializer']\n",
    "for method in methods:\n",
    "    method_results = results[results.method == method]\n",
    "    csv_path = f\"{method.replace('_initializer','')}_results.csv\"\n",
    "    method_results.reset_index(drop=True, inplace=True)\n",
    "    method_results[cols].to_csv(csv_path, index=False)\n",
    "\n",
    "results"
   ],
   "metadata": {
    "collapsed": false,
    "ExecuteTime": {
     "end_time": "2024-07-01T09:28:36.588188663Z",
     "start_time": "2024-07-01T09:28:31.133506969Z"
    }
   }
  },
  {
   "cell_type": "code",
   "execution_count": 12,
   "outputs": [],
   "source": [],
   "metadata": {
    "collapsed": false,
    "ExecuteTime": {
     "end_time": "2024-07-01T09:26:57.237260622Z",
     "start_time": "2024-07-01T09:26:57.232857543Z"
    }
   }
  },
  {
   "cell_type": "code",
   "outputs": [],
   "source": [],
   "metadata": {
    "collapsed": false,
    "ExecuteTime": {
     "end_time": "2024-07-01T09:26:57.237535100Z",
     "start_time": "2024-07-01T09:26:57.235040372Z"
    }
   },
   "execution_count": 12
  }
 ],
 "metadata": {
  "kernelspec": {
   "display_name": "Python 3",
   "language": "python",
   "name": "python3"
  },
  "language_info": {
   "codemirror_mode": {
    "name": "ipython",
    "version": 2
   },
   "file_extension": ".py",
   "mimetype": "text/x-python",
   "name": "python",
   "nbconvert_exporter": "python",
   "pygments_lexer": "ipython2",
   "version": "2.7.6"
  }
 },
 "nbformat": 4,
 "nbformat_minor": 0
}
