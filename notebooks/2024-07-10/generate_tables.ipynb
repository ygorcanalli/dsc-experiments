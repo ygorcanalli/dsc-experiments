{
 "cells": [
  {
   "cell_type": "code",
   "metadata": {
    "ExecuteTime": {
     "end_time": "2024-07-07T03:11:25.749388865Z",
     "start_time": "2024-07-07T03:11:25.715427544Z"
    }
   },
   "source": [
    "import pandas as pd\n",
    "import json\n",
    "import os\n",
    "import deepsig\n",
    "from IPython.display import display"
   ],
   "outputs": [],
   "execution_count": 38
  },
  {
   "cell_type": "code",
   "metadata": {
    "ExecuteTime": {
     "end_time": "2024-07-07T03:11:25.751180151Z",
     "start_time": "2024-07-07T03:11:25.749675182Z"
    }
   },
   "source": [
    "cols = ['dataset', 'method', 'fitness_rule', 'fitness', 'ACC', 'MCC', 'f1_score', 'avg_odds_diff', 'stat_par_diff', 'eq_opp_diff']"
   ],
   "outputs": [],
   "execution_count": 39
  },
  {
   "cell_type": "code",
   "metadata": {
    "ExecuteTime": {
     "end_time": "2024-07-07T03:11:25.787147632Z",
     "start_time": "2024-07-07T03:11:25.754045610Z"
    }
   },
   "source": [
    "mlp_baseline_results = pd.read_csv('simple_mlp_results.csv')\n",
    "mlp_baseline_results.replace({'simple_mlp_initializer': r'MLP'}, inplace=True)\n",
    "\n",
    "mlp_standard_l2_results = pd.read_csv('mlp_standard_l2_results.csv')\n",
    "mlp_standard_l2_results.replace({'mlp_standard_l2_initializer': r'MLP+L2'}, inplace=True)\n",
    "\n",
    "mlp_preg_results = pd.read_csv('mlp_preg_results.csv')\n",
    "mlp_preg_results.replace({'mlp_preg_initializer': r'MLP+RPR$_{\\rho}$'}, inplace=True)\n",
    "\n",
    "mlp_sreg_results = pd.read_csv('mlp_sreg_results.csv')\n",
    "mlp_sreg_results.replace({'mlp_sreg_initializer': r'MLP+RPR$_{\\rho_s}$'}, inplace=True)\n",
    "\n",
    "mlp_kreg_results = pd.read_csv('mlp_kreg_results.csv')\n",
    "mlp_kreg_results.replace({'mlp_kreg_initializer': r'MLP+RPR$_{\\tau}$'}, inplace=True)\n",
    "\n",
    "mlp_xi_reg_results = pd.read_csv('mlp_xi_reg_results.csv')\n",
    "mlp_xi_reg_results.replace({'mlp_xi_reg_initializer': r'MLP+RPR$_{\\xi}$'}, inplace=True)\n",
    "\n",
    "ftl_baseline_results = pd.read_csv('ftl_mlp_results.csv')\n",
    "ftl_baseline_results.replace({'ftl_mlp_initializer': r'FTL'}, inplace=True)\n",
    "\n",
    "ftl_xi_reg_results = pd.read_csv('ftl_mlp_xi_reg_results.csv')\n",
    "ftl_xi_reg_results.replace({'ftl_mlp_xi_reg_initializer': r'FTL+RPR$_{\\xi}$'}, inplace=True)\n",
    "\n",
    "\n",
    "results = pd.concat([mlp_baseline_results, mlp_standard_l2_results, mlp_preg_results, mlp_sreg_results, mlp_kreg_results, mlp_xi_reg_results, ftl_baseline_results, ftl_xi_reg_results], ignore_index=True)\n"
   ],
   "outputs": [],
   "execution_count": 40
  },
  {
   "cell_type": "markdown",
   "metadata": {
    "collapsed": false
   },
   "source": []
  },
  {
   "cell_type": "code",
   "metadata": {
    "collapsed": false,
    "ExecuteTime": {
     "end_time": "2024-07-07T03:11:25.802771944Z",
     "start_time": "2024-07-07T03:11:25.802273449Z"
    }
   },
   "source": [
    "results.replace({'adult_dataset_reader': 'Adult Income', 'compas_dataset_reader': 'Compas Recidivism', 'german_dataset_reader': 'German Credit', 'bank_dataset_reader': 'Bank Marketing'}, inplace=True)\n",
    "results.rename(columns={'avg_odds_diff': 'Equalized Odds', 'stat_par_diff': 'Statistical Parity', 'eq_opp_diff': 'Equal Opportunity', 'MCC': 'Mathew Correlation', 'ACC': 'Accuracy'}, inplace=True)"
   ],
   "outputs": [],
   "execution_count": 41
  },
  {
   "cell_type": "code",
   "metadata": {
    "ExecuteTime": {
     "end_time": "2024-07-07T03:11:25.846419838Z",
     "start_time": "2024-07-07T03:11:25.802380015Z"
    }
   },
   "source": [
    "fitness_rules_target_metrics = {\n",
    "    'mcc_parity': {'performance': 'Mathew Correlation', 'fairness': 'Statistical Parity'},\n",
    "    'mcc_opportunity': {'performance': 'Mathew Correlation', 'fairness': 'Equal Opportunity'},\n",
    "    'mcc_odds': {'performance': 'Mathew Correlation', 'fairness': 'Equalized Odds'},\n",
    "    'acc_parity': {'performance': 'Accuracy', 'fairness': 'Statistical Parity'},\n",
    "    'acc_opportunity': {'performance': 'Accuracy', 'fairness': 'Equal Opportunity'},\n",
    "    'acc_odds': {'performance': 'Accuracy', 'fairness': 'Equalized Odds'}\n",
    "}\n",
    "\n",
    "fitness_rules_target_metrics = {\n",
    "    'mcc_parity': ('Mathew Correlation', 'Statistical Parity'),\n",
    "    'mcc_opportunity': ('Mathew Correlation', 'Equal Opportunity'),\n",
    "    'mcc_odds': ('Mathew Correlation', 'Equalized Odds'),\n",
    "    'acc_parity': ('Accuracy', 'Statistical Parity'),\n",
    "    'acc_opportunity': ('Accuracy', 'Equal Opportunity'),\n",
    "    'acc_odds': ('Accuracy', 'Equalized Odds')\n",
    "}\n",
    "fitness_rules_abvr = {\n",
    "    'mcc_parity': 'Max(MCC - Stat. Parity)',\n",
    "    'mcc_opportunity': 'Max(MCC - Eq. Odds)',\n",
    "    'mcc_odds': 'Max(MCC - Eq. Opp.)',\n",
    "    'acc_parity': 'Max(Acc - Stat. Parity)',\n",
    "    'acc_opportunity': 'Max(Acc - Eq. Odds)',\n",
    "    'acc_odds': 'Max(Acc - Eq. Opp.)'\n",
    "}\n",
    "\n",
    "results['Performance'] = 0\n",
    "results['Fairness'] = 0\n",
    "results['Fitness Rule'] = ''\n",
    "for fitness_rule, (performance_metric, fairness_metric) in fitness_rules_target_metrics.items():\n",
    "    results.loc[results.fitness_rule == fitness_rule,'Performance'] = results.loc[results.fitness_rule == fitness_rule,performance_metric]\n",
    "    results.loc[results.fitness_rule == fitness_rule,'Fairness'] = results.loc[results.fitness_rule == fitness_rule,fairness_metric]\n",
    "    results.loc[results.fitness_rule == fitness_rule,'Fitness Rule Abvr'] = fitness_rules_abvr[fitness_rule]\n",
    "    results.loc[results.fitness_rule == fitness_rule,'Fitness Rule'] = 'Max(%s - %s)' % fitness_rules_target_metrics[fitness_rule]"
   ],
   "outputs": [
    {
     "name": "stderr",
     "output_type": "stream",
     "text": [
      "/tmp/ipykernel_2226130/3340472993.py:31: FutureWarning: Setting an item of incompatible dtype is deprecated and will raise in a future error of pandas. Value '[0.58517004 0.58512823 0.5840247  0.5836371  0.57625737 0.5769683\n",
      " 0.58075151 0.57811729 0.57147862 0.55847176 0.56402881 0.58191431\n",
      " 0.58343253 0.57740222 0.51579307 0.30958237 0.37962947 0.55899189\n",
      " 0.53558872 0.2598879  0.57717035 0.50086739 0.33275221 0.37929293\n",
      " 0.47729109 0.29196869 0.29037704 0.52303609 0.27480633 0.38668781\n",
      " 0.50626951 0.29960979 0.4042848  0.52119218 0.2936422  0.33522388\n",
      " 0.49730721 0.25112662 0.35119067 0.510052   0.26843855 0.36081008\n",
      " 0.52157495 0.30114722 0.42995147 0.48267704 0.29056691 0.23139881\n",
      " 0.54223416 0.23653437 0.27041017 0.52121263 0.25759348 0.23912165\n",
      " 0.5223892  0.27406652 0.22303564 0.54094974 0.27699558 0.30939251\n",
      " 0.51731345 0.30339828 0.37825089 0.52113734 0.26323857 0.33963196\n",
      " 0.5538225  0.27850228 0.30234984 0.51877126 0.29494101 0.2648939\n",
      " 0.52742877 0.24492927 0.13407928 0.53530394 0.29087766 0.26820576\n",
      " 0.55204731 0.29318377 0.14015216 0.51983069 0.3145689  0.47077449\n",
      " 0.50770986 0.28880123 0.29866465 0.5180664  0.29093567 0.3636368\n",
      " 0.53289704 0.29737768 0.38084556 0.54328387 0.28002914 0.28232519\n",
      " 0.53457987 0.27840735 0.33593551 0.51796238 0.25832521 0.35528234\n",
      " 0.51043886 0.30283203 0.40103589 0.58070551 0.52018535 0.29655197\n",
      " 0.47568263 0.57556857 0.4830075  0.28451811 0.45966628 0.56390249\n",
      " 0.50399739 0.29592974 0.40844112 0.57035482 0.51343466 0.26678803\n",
      " 0.42633265 0.56603901 0.56247684 0.25744332 0.37124592 0.58820616\n",
      " 0.5265673  0.30763987 0.33949448 0.59003607 0.52782167 0.27597802\n",
      " 0.17785946 0.57784061 0.51747652 0.27693768 0.4019954  0.58246514\n",
      " 0.50669613 0.28033877 0.37713259 0.58299125 0.52769824 0.29070644\n",
      " 0.44543433 0.57307304 0.5301395  0.32123244 0.20458494 0.5709584\n",
      " 0.56062881 0.29330813 0.41761288 0.57130473 0.48822413 0.58829309\n",
      " 0.52447717 0.28703819 0.27574114 0.55289194 0.52620217 0.33787721\n",
      " 0.45311014 0.57466433 0.51930203 0.25052381 0.30794088 0.58313411\n",
      " 0.57795296 0.54079623 0.25897255 0.4042125  0.57206622 0.518845\n",
      " 0.30638323 0.32257035 0.57976269 0.52973098 0.25717832 0.31379034\n",
      " 0.58818853 0.49845362 0.25129032 0.38992888 0.58971511 0.54694928\n",
      " 0.31603351 0.33516905 0.58141285 0.52219135 0.53112315 0.3032368\n",
      " 0.1982092  0.50904351 0.30428123 0.34543836 0.5102087  0.26061765\n",
      " 0.42432587 0.51644184 0.28540937 0.4238192  0.53781479 0.30380433\n",
      " 0.34569643 0.52951691 0.29353726 0.39008688 0.51919422 0.27575294\n",
      " 0.21283727 0.52769146 0.25688588 0.29143638 0.53178158 0.26280136\n",
      " 0.34901327 0.50261295 0.32250375 0.40869968 0.59528125 0.59244978\n",
      " 0.59065496 0.55831068 0.588155   0.58449354 0.57387745 0.55895378\n",
      " 0.57493657 0.5775283  0.57647678 0.52642995 0.28724449 0.26433395\n",
      " 0.59264796 0.58906505 0.50296471 0.32061516 0.20426879 0.5783063\n",
      " 0.54125565 0.25533358 0.31398373 0.57382763 0.52812916 0.28813949\n",
      " 0.33649556 0.56434931 0.53883593 0.26741183 0.37670184 0.59083709\n",
      " 0.53254304 0.2951865  0.28218602 0.56119935 0.50701858 0.4999707\n",
      " 0.28816213 0.23516056 0.5191908  0.30355288 0.36852719 0.53425053\n",
      " 0.31485449 0.37073799 0.53486715 0.2587397  0.19258469 0.53449692\n",
      " 0.24920875 0.4078551  0.51292741 0.27000453 0.29651763 0.52123107\n",
      " 0.3030348  0.1761725  0.55678632 0.35226511 0.35762447 0.52426605\n",
      " 0.31631181 0.25984182 0.54517277 0.31496799 0.22501758 0.56577541\n",
      " 0.58589138 0.57703846 0.5746733  0.57444626 0.57768448 0.59588216\n",
      " 0.55512651 0.56863559 0.5750216  0.57914629 0.54265554 0.27597238\n",
      " 0.26870387 0.56349333 0.52140215 0.26938037 0.36960758 0.57083242\n",
      " 0.51347821 0.24090819 0.28710275 0.57666634 0.54384497 0.27772097\n",
      " 0.34760994 0.57249077 0.51943546 0.28278293 0.2864844  0.58307741\n",
      " 0.50213968 0.27159645 0.3657349  0.58546026 0.54927203 0.29197604\n",
      " 0.36468597 0.55720714 0.50442182 0.29284583 0.26761547 0.58195998\n",
      " 0.49896727 0.27633919 0.27275473 0.58959145 0.513672   0.31540199\n",
      " 0.34298103 0.58321734 0.51355534 0.2483968  0.39684062 0.57757971\n",
      " 0.51146256 0.30258288 0.39138126 0.58001239 0.5311578  0.574884\n",
      " 0.52043603 0.30270446 0.41054179 0.57643602 0.51190431 0.28900139\n",
      " 0.40921679 0.56749877 0.53823804 0.31508219 0.30011892 0.56841546\n",
      " 0.53593136 0.27736532 0.29276068 0.57486325 0.55475549 0.37742341\n",
      " 0.41386763 0.58054526 0.52683247 0.30308226 0.29262695 0.5799324\n",
      " 0.52052204 0.32271689 0.36757294 0.59460839 0.51334273 0.35016465\n",
      " 0.38279532 0.56696388 0.51290233 0.36145201 0.31417586 0.58536707\n",
      " 0.52205773 0.35505396 0.34556054 0.56656046 0.50583602 0.32985378\n",
      " 0.33067725 0.58034596 0.53345208 0.32170125 0.30777776 0.59105173\n",
      " 0.53641936 0.2978954  0.36302796 0.56022817 0.55256059 0.34881645\n",
      " 0.39408932 0.59294727 0.54603456 0.34966957 0.23577639 0.59038885\n",
      " 0.52721971 0.29670547 0.3451873  0.57735741 0.49288435 0.32695931\n",
      " 0.25449819 0.55988104 0.49558867 0.47660518 0.53020884 0.49731155\n",
      " 0.48088379 0.50936495 0.52610501 0.50501965 0.49517103 0.52255177\n",
      " 0.48277552 0.49360563 0.49928347 0.52530243 0.57125798 0.26719272\n",
      " 0.56423655 0.29766735 0.36058206 0.55945517 0.29521281 0.33972048\n",
      " 0.55905592 0.28944609 0.32121258 0.57663382 0.2155363  0.38625136\n",
      " 0.51800512 0.56704115 0.27188547 0.41022625 0.50844818 0.58147742\n",
      " 0.29142379 0.49507377 0.55088849 0.55295167 0.29014972 0.19279691\n",
      " 0.49465293 0.59668217 0.27799102 0.40162431 0.50188368 0.56846199\n",
      " 0.26853883 0.33775631 0.51945194 0.57722113 0.30578801 0.37184421\n",
      " 0.47715381 0.57614687 0.23775601 0.21954087 0.53842681 0.55842342\n",
      " 0.26279497 0.42605779 0.49253568 0.54725326 0.30749867 0.36383745\n",
      " 0.51679929 0.57610948 0.25566031 0.34192284 0.51058757 0.55100198\n",
      " 0.30099598 0.36266223 0.50312394 0.57982145 0.31194314 0.4653263\n",
      " 0.52249054 0.56323123 0.29980176 0.33126974 0.52834554 0.54237727\n",
      " 0.26726369 0.36816239 0.50039978 0.5727549  0.26481789 0.30434518\n",
      " 0.51789531 0.55194807 0.32738467 0.3825255  0.54230176 0.56579268\n",
      " 0.30680214 0.39278864 0.51073529 0.59522064 0.29391861 0.37328124\n",
      " 0.52032505 0.56379222 0.24911704 0.27519161 0.5393946  0.58057704\n",
      " 0.29958191 0.37323672 0.5309838  0.58115681 0.2283129  0.36913557\n",
      " 0.48187784 0.56128043 0.2708281  0.45238095 0.53923437 0.5682019\n",
      " 0.29936516 0.29872459 0.49428725 0.57227051 0.36044719 0.42488276\n",
      " 0.51292128 0.58056377 0.32580119 0.38945521]' has dtype incompatible with int64, please explicitly cast to a compatible dtype first.\n",
      "  results.loc[results.fitness_rule == fitness_rule,'Performance'] = results.loc[results.fitness_rule == fitness_rule,performance_metric]\n",
      "/tmp/ipykernel_2226130/3340472993.py:32: FutureWarning: Setting an item of incompatible dtype is deprecated and will raise in a future error of pandas. Value '[0.19263281 0.18664775 0.20096652 0.19289642 0.19661682 0.17761564\n",
      " 0.19442911 0.19755228 0.19564214 0.19166634 0.18299811 0.17482095\n",
      " 0.20208162 0.18919863 0.1076907  0.21583464 0.07390198 0.18518896\n",
      " 0.01873928 0.21915752 0.00551471 0.06514573 0.27067494 0.10218254\n",
      " 0.09458935 0.20988634 0.15838547 0.0800928  0.22152457 0.04387464\n",
      " 0.0698734  0.21395877 0.         0.07046605 0.25600325 0.1\n",
      " 0.07839351 0.17845842 0.13362425 0.11385009 0.16165928 0.\n",
      " 0.07603398 0.22394599 0.10042067 0.07235512 0.17623094 0.05055147\n",
      " 0.10296647 0.13012843 0.01648841 0.12773041 0.23588101 0.01650837\n",
      " 0.10756357 0.22188463 0.04937755 0.08539799 0.27225208 0.04945055\n",
      " 0.1169952  0.18031026 0.07824514 0.11302381 0.1631723  0.01426025\n",
      " 0.09060303 0.26465511 0.05714286 0.07375941 0.25392869 0.15238095\n",
      " 0.06855833 0.14339139 0.05262482 0.10162526 0.17983738 0.03803214\n",
      " 0.11029739 0.21594265 0.04387464 0.09458175 0.21238761 0.13355998\n",
      " 0.12944543 0.23496771 0.10218254 0.11806774 0.24894357 0.05213764\n",
      " 0.07004917 0.17350555 0.01190476 0.12817972 0.20515527 0.02175742\n",
      " 0.07890663 0.15151805 0.03740065 0.08916093 0.22800167 0.09285714\n",
      " 0.09422782 0.21502555 0.12557513 0.19297299 0.0942531  0.1533921\n",
      " 0.18233618 0.20275833 0.08075607 0.21997842 0.20512821 0.16921181\n",
      " 0.17706808 0.21288299 0.00594771 0.19148155 0.11337866 0.20273788\n",
      " 0.05965579 0.19189651 0.14797976 0.24500422 0.10460788 0.19688237\n",
      " 0.06393486 0.23354214 0.10238095 0.196791   0.13650086 0.24512717\n",
      " 0.06851785 0.196771   0.07994067 0.14996115 0.16440618 0.17857155\n",
      " 0.06346618 0.1540618  0.14108698 0.18730482 0.11052331 0.15034961\n",
      " 0.05974265 0.16551881 0.13342455 0.23315771 0.04443905 0.1856936\n",
      " 0.09710474 0.20270866 0.17362637 0.18893156 0.11639506 0.20224738\n",
      " 0.13437819 0.20595256 0.20783302 0.20566925 0.09594731 0.22213642\n",
      " 0.05982906 0.19673904 0.07724191 0.18208848 0.05189291 0.1979969\n",
      " 0.16262277 0.09982972 0.15384795 0.09926471 0.18815544 0.0974843\n",
      " 0.24042647 0.03439867 0.19958771 0.10303715 0.16065963 0.07935255\n",
      " 0.17916636 0.07705072 0.21424319 0.16417565 0.19892363 0.0722992\n",
      " 0.2284043  0.06984013 0.20349203 0.12410495 0.10754735 0.1934033\n",
      " 0.13487611 0.12927991 0.22735281 0.08088235 0.06580864 0.10141357\n",
      " 0.0769051  0.10645766 0.14522853 0.12182554 0.14669979 0.20984412\n",
      " 0.11271707 0.10243238 0.17642319 0.12949012 0.08578567 0.21693176\n",
      " 0.01821272 0.14976519 0.22976602 0.07766346 0.10869613 0.27249434\n",
      " 0.11666667 0.03820365 0.16893176 0.01904762 0.1939596  0.18837321\n",
      " 0.18999305 0.18391646 0.18465345 0.19731304 0.17978833 0.15197031\n",
      " 0.17523225 0.19323672 0.17527401 0.13034124 0.19933198 0.2\n",
      " 0.19799709 0.20457963 0.08334361 0.15514718 0.12602402 0.19743834\n",
      " 0.08816558 0.28631322 0.06373626 0.18567119 0.09349354 0.18878133\n",
      " 0.14561136 0.17498725 0.06571671 0.19250183 0.14824374 0.1936076\n",
      " 0.06308722 0.28391847 0.01192288 0.2068789  0.06458775 0.10060397\n",
      " 0.16227387 0.06862745 0.08530839 0.23391456 0.08243897 0.09657061\n",
      " 0.21559633 0.07892356 0.14592844 0.19097359 0.12068758 0.09813634\n",
      " 0.2208153  0.05347594 0.17005926 0.19910901 0.02234927 0.12420934\n",
      " 0.17343018 0.19980086 0.11393804 0.22028576 0.06863806 0.1143237\n",
      " 0.21256051 0.17142857 0.15650847 0.21808615 0.02900783 0.19535513\n",
      " 0.19877265 0.18870041 0.19782785 0.18142385 0.1818443  0.18552387\n",
      " 0.1921391  0.19370712 0.20988364 0.18940802 0.03662524 0.18495889\n",
      " 0.15494651 0.17410365 0.11515537 0.19333444 0.14430147 0.20291153\n",
      " 0.061012   0.18149105 0.06646825 0.17638763 0.14212408 0.15594825\n",
      " 0.13253857 0.17386783 0.07556185 0.20576981 0.0673537  0.20928098\n",
      " 0.09399411 0.16807518 0.03846154 0.19641764 0.14072513 0.16508132\n",
      " 0.04579877 0.19717944 0.12255145 0.20479517 0.10803161 0.17916251\n",
      " 0.12072567 0.18665269 0.05165704 0.19201546 0.12939977 0.25319802\n",
      " 0.01426025 0.20129346 0.08260405 0.19556346 0.21569647 0.18938551\n",
      " 0.11160194 0.26913959 0.0434677  0.19651181 0.10089307 0.19819977\n",
      " 0.15421014 0.18437722 0.05952381 0.19165184 0.13481181 0.20591014\n",
      " 0.05688796 0.17043743 0.05697608 0.21898748 0.13643948 0.18191969\n",
      " 0.07822294 0.15132607 0.0093861  0.18250066 0.01264665 0.23559673\n",
      " 0.17586248 0.20119128 0.12096531 0.21087333 0.02412748 0.18387142\n",
      " 0.04716656 0.23445073 0.1132209  0.2090674  0.09540628 0.1758396\n",
      " 0.01529371 0.18249025 0.15451562 0.12960218 0.09163816 0.20582866\n",
      " 0.14099926 0.2366753  0.03453453 0.19831842 0.11669678 0.19751087\n",
      " 0.04320503 0.21100369 0.11171009 0.22862629 0.0948225  0.18915521\n",
      " 0.08142121 0.23568945 0.09572439 0.17217966 0.13371856 0.18956381\n",
      " 0.1276793  0.19149507 0.11958928 0.20095979 0.00578666 0.19921783\n",
      " 0.18474625 0.2564805  0.08839473 0.18470594 0.06862094 0.21756002\n",
      " 0.20082564 0.06563524 0.00434914 0.02991623 0.03287846 0.03464132\n",
      " 0.0015824  0.00711975 0.00623328 0.00497483 0.00291418 0.02981982\n",
      " 0.0109755  0.02228438 0.00327132 0.03014368 0.03368986 0.01061935\n",
      " 0.04884345 0.00318869 0.04725275 0.07879247 0.00767757 0.12307692\n",
      " 0.07240013 0.05023218 0.17032427 0.01610486 0.01464497 0.04113081\n",
      " 0.02539461 0.00738464 0.03314062 0.20443238 0.01405335 0.08464225\n",
      " 0.04418413 0.06341958 0.07260789 0.02708251 0.05161231 0.17274306\n",
      " 0.04830241 0.01979831 0.01559766 0.03448276 0.00257988 0.0483141\n",
      " 0.02840623 0.1267524  0.00821899 0.00903848 0.11110273 0.05313139\n",
      " 0.00603834 0.04068929 0.0526122  0.14506428 0.04578193 0.00695801\n",
      " 0.04242893 0.02784147 0.01113432 0.01962781 0.04470059 0.02865904\n",
      " 0.02775235 0.01574879 0.03630877 0.14705882 0.0109844  0.10781566\n",
      " 0.02974926 0.0452381  0.0050764  0.04388923 0.02444512 0.07446939\n",
      " 0.00696866 0.0599006  0.04742124 0.02566656 0.01850166 0.01588528\n",
      " 0.00798571 0.07470289 0.00492596 0.11916056 0.11480894 0.0967033\n",
      " 0.00527722 0.10149032 0.00326027 0.11536303 0.04272904 0.01503966\n",
      " 0.00821274 0.05773726 0.02078339 0.04197402 0.06509592 0.0600748\n",
      " 0.03245418 0.02382688 0.07972239 0.02245123 0.0381727  0.00426904\n",
      " 0.03826994 0.0041073  0.0661497  0.01623005 0.01917878 0.0258467\n",
      " 0.00536159 0.02439073 0.12379038 0.03421503 0.06870452 0.00874027\n",
      " 0.10842825 0.06250701 0.00047319 0.0856518  0.1045295  0.17064049\n",
      " 0.01275285 0.01676805 0.09199719 0.16263736]' has dtype incompatible with int64, please explicitly cast to a compatible dtype first.\n",
      "  results.loc[results.fitness_rule == fitness_rule,'Fairness'] = results.loc[results.fitness_rule == fitness_rule,fairness_metric]\n"
     ]
    }
   ],
   "execution_count": 42
  },
  {
   "cell_type": "code",
   "metadata": {
    "ExecuteTime": {
     "end_time": "2024-07-07T03:11:25.846976465Z",
     "start_time": "2024-07-07T03:11:25.842548819Z"
    }
   },
   "source": [
    "datasets = ['Adult Income', 'Bank Marketing', 'Compas Recidivism','German Credit']\n",
    "datasets"
   ],
   "outputs": [
    {
     "data": {
      "text/plain": "['Adult Income', 'Bank Marketing', 'Compas Recidivism', 'German Credit']"
     },
     "execution_count": 43,
     "metadata": {},
     "output_type": "execute_result"
    }
   ],
   "execution_count": 43
  },
  {
   "cell_type": "code",
   "metadata": {
    "ExecuteTime": {
     "end_time": "2024-07-07T03:11:25.847336667Z",
     "start_time": "2024-07-07T03:11:25.842647692Z"
    }
   },
   "source": [
    "fitness_rules = ['mcc_parity', 'mcc_opportunity', 'mcc_odds', 'acc_parity', 'acc_opportunity', 'acc_odds']\n",
    "fitness_rules"
   ],
   "outputs": [
    {
     "data": {
      "text/plain": "['mcc_parity',\n 'mcc_opportunity',\n 'mcc_odds',\n 'acc_parity',\n 'acc_opportunity',\n 'acc_odds']"
     },
     "execution_count": 44,
     "metadata": {},
     "output_type": "execute_result"
    }
   ],
   "execution_count": 44
  },
  {
   "cell_type": "code",
   "metadata": {
    "ExecuteTime": {
     "end_time": "2024-07-07T03:11:25.847594161Z",
     "start_time": "2024-07-07T03:11:25.842700708Z"
    }
   },
   "source": [
    "methods = [r'MLP', r'MLP+L2', r'MLP+RPR$_{\\rho}$', r'MLP+RPR$_{\\rho_s}$', r'MLP+RPR$_{\\tau}$', r'MLP+RPR$_{\\xi}$', r'FTL', r'FTL+RPR$_{\\xi}$']"
   ],
   "outputs": [],
   "execution_count": 45
  },
  {
   "cell_type": "code",
   "metadata": {
    "collapsed": false,
    "ExecuteTime": {
     "end_time": "2024-07-07T03:11:25.862366119Z",
     "start_time": "2024-07-07T03:11:25.842738845Z"
    }
   },
   "source": [
    "grouped_results = results\\\n",
    "    .groupby(['fitness_rule', 'dataset', 'method'])\\\n",
    "    .agg({'fitness': ['mean', 'std', 'count'], 'Performance': ['mean', 'std'], 'Fairness': ['mean', 'std']})\\\n",
    "    #.sort_values(by=['fitness_rule', 'dataset', ('fitness','mean')], ascending=[False, True, False])\n",
    "grouped_results['formatted_fitness'] = grouped_results.apply(lambda row: f\"${row[('fitness', 'mean')]:.3f} (\\pm{row[('fitness', 'std')]:.2f})$\", axis=1)\n",
    "grouped_results['formatted_performance'] = grouped_results.apply(lambda row: f\"${row[('Performance', 'mean')]:.3f} (\\pm{row[('Performance', 'std')]:.2f})$\", axis=1)\n",
    "grouped_results['formatted_fairness'] = grouped_results.apply(lambda row: f\"${row[('Fairness', 'mean')]:.3f} (\\pm{row[('Fairness', 'std')]:.2f})$\", axis=1)\n",
    "grouped_results"
   ],
   "outputs": [
    {
     "data": {
      "text/plain": "                                                fitness                  \\\n                                                   mean       std count   \nfitness_rule dataset       method                                         \nacc_odds     Adult Income  FTL                 0.797546  0.022527    25   \n                           FTL+RPR$_{\\xi}$     0.805417  0.018968    15   \n                           MLP                 0.760493  0.020149    15   \n                           MLP+L2              0.762226  0.018550    15   \n                           MLP+RPR$_{\\rho_s}$  0.772452  0.020815    16   \n...                                                 ...       ...   ...   \nmcc_parity   German Credit MLP+L2              0.261057  0.102972    14   \n                           MLP+RPR$_{\\rho_s}$  0.192318  0.107623    16   \n                           MLP+RPR$_{\\rho}$    0.254748  0.071677    16   \n                           MLP+RPR$_{\\tau}$    0.255848  0.079738    14   \n                           MLP+RPR$_{\\xi}$     0.245571  0.070406    15   \n\n                                              Performance            Fairness  \\\n                                                     mean       std      mean   \nfitness_rule dataset       method                                               \nacc_odds     Adult Income  FTL                   0.840876  0.007559  0.043330   \n                           FTL+RPR$_{\\xi}$       0.843169  0.005611  0.037752   \n                           MLP                   0.849110  0.003824  0.088617   \n                           MLP+L2                0.848631  0.002860  0.086405   \n                           MLP+RPR$_{\\rho_s}$    0.848646  0.002916  0.076194   \n...                                                   ...       ...       ...   \nmcc_parity   German Credit MLP+L2                0.373881  0.093515  0.112824   \n                           MLP+RPR$_{\\rho_s}$    0.291751  0.073053  0.099432   \n                           MLP+RPR$_{\\rho}$      0.341448  0.067708  0.086701   \n                           MLP+RPR$_{\\tau}$      0.341519  0.054298  0.085671   \n                           MLP+RPR$_{\\xi}$       0.329368  0.050637  0.083796   \n\n                                                         formatted_fitness  \\\n                                                    std                      \nfitness_rule dataset       method                                            \nacc_odds     Adult Income  FTL                 0.023855  $0.798 (\\pm0.02)$   \n                           FTL+RPR$_{\\xi}$     0.017930  $0.805 (\\pm0.02)$   \n                           MLP                 0.019533  $0.760 (\\pm0.02)$   \n                           MLP+L2              0.018986  $0.762 (\\pm0.02)$   \n                           MLP+RPR$_{\\rho_s}$  0.020507  $0.772 (\\pm0.02)$   \n...                                                 ...                ...   \nmcc_parity   German Credit MLP+L2              0.065766  $0.261 (\\pm0.10)$   \n                           MLP+RPR$_{\\rho_s}$  0.060881  $0.192 (\\pm0.11)$   \n                           MLP+RPR$_{\\rho}$    0.042336  $0.255 (\\pm0.07)$   \n                           MLP+RPR$_{\\tau}$    0.056780  $0.256 (\\pm0.08)$   \n                           MLP+RPR$_{\\xi}$     0.060963  $0.246 (\\pm0.07)$   \n\n                                              formatted_performance  \\\n                                                                      \nfitness_rule dataset       method                                     \nacc_odds     Adult Income  FTL                    $0.841 (\\pm0.01)$   \n                           FTL+RPR$_{\\xi}$        $0.843 (\\pm0.01)$   \n                           MLP                    $0.849 (\\pm0.00)$   \n                           MLP+L2                 $0.849 (\\pm0.00)$   \n                           MLP+RPR$_{\\rho_s}$     $0.849 (\\pm0.00)$   \n...                                                             ...   \nmcc_parity   German Credit MLP+L2                 $0.374 (\\pm0.09)$   \n                           MLP+RPR$_{\\rho_s}$     $0.292 (\\pm0.07)$   \n                           MLP+RPR$_{\\rho}$       $0.341 (\\pm0.07)$   \n                           MLP+RPR$_{\\tau}$       $0.342 (\\pm0.05)$   \n                           MLP+RPR$_{\\xi}$        $0.329 (\\pm0.05)$   \n\n                                              formatted_fairness  \n                                                                  \nfitness_rule dataset       method                                 \nacc_odds     Adult Income  FTL                 $0.043 (\\pm0.02)$  \n                           FTL+RPR$_{\\xi}$     $0.038 (\\pm0.02)$  \n                           MLP                 $0.089 (\\pm0.02)$  \n                           MLP+L2              $0.086 (\\pm0.02)$  \n                           MLP+RPR$_{\\rho_s}$  $0.076 (\\pm0.02)$  \n...                                                          ...  \nmcc_parity   German Credit MLP+L2              $0.113 (\\pm0.07)$  \n                           MLP+RPR$_{\\rho_s}$  $0.099 (\\pm0.06)$  \n                           MLP+RPR$_{\\rho}$    $0.087 (\\pm0.04)$  \n                           MLP+RPR$_{\\tau}$    $0.086 (\\pm0.06)$  \n                           MLP+RPR$_{\\xi}$     $0.084 (\\pm0.06)$  \n\n[192 rows x 10 columns]",
      "text/html": "<div>\n<style scoped>\n    .dataframe tbody tr th:only-of-type {\n        vertical-align: middle;\n    }\n\n    .dataframe tbody tr th {\n        vertical-align: top;\n    }\n\n    .dataframe thead tr th {\n        text-align: left;\n    }\n\n    .dataframe thead tr:last-of-type th {\n        text-align: right;\n    }\n</style>\n<table border=\"1\" class=\"dataframe\">\n  <thead>\n    <tr>\n      <th></th>\n      <th></th>\n      <th></th>\n      <th colspan=\"3\" halign=\"left\">fitness</th>\n      <th colspan=\"2\" halign=\"left\">Performance</th>\n      <th colspan=\"2\" halign=\"left\">Fairness</th>\n      <th>formatted_fitness</th>\n      <th>formatted_performance</th>\n      <th>formatted_fairness</th>\n    </tr>\n    <tr>\n      <th></th>\n      <th></th>\n      <th></th>\n      <th>mean</th>\n      <th>std</th>\n      <th>count</th>\n      <th>mean</th>\n      <th>std</th>\n      <th>mean</th>\n      <th>std</th>\n      <th></th>\n      <th></th>\n      <th></th>\n    </tr>\n    <tr>\n      <th>fitness_rule</th>\n      <th>dataset</th>\n      <th>method</th>\n      <th></th>\n      <th></th>\n      <th></th>\n      <th></th>\n      <th></th>\n      <th></th>\n      <th></th>\n      <th></th>\n      <th></th>\n      <th></th>\n    </tr>\n  </thead>\n  <tbody>\n    <tr>\n      <th rowspan=\"5\" valign=\"top\">acc_odds</th>\n      <th rowspan=\"5\" valign=\"top\">Adult Income</th>\n      <th>FTL</th>\n      <td>0.797546</td>\n      <td>0.022527</td>\n      <td>25</td>\n      <td>0.840876</td>\n      <td>0.007559</td>\n      <td>0.043330</td>\n      <td>0.023855</td>\n      <td>$0.798 (\\pm0.02)$</td>\n      <td>$0.841 (\\pm0.01)$</td>\n      <td>$0.043 (\\pm0.02)$</td>\n    </tr>\n    <tr>\n      <th>FTL+RPR$_{\\xi}$</th>\n      <td>0.805417</td>\n      <td>0.018968</td>\n      <td>15</td>\n      <td>0.843169</td>\n      <td>0.005611</td>\n      <td>0.037752</td>\n      <td>0.017930</td>\n      <td>$0.805 (\\pm0.02)$</td>\n      <td>$0.843 (\\pm0.01)$</td>\n      <td>$0.038 (\\pm0.02)$</td>\n    </tr>\n    <tr>\n      <th>MLP</th>\n      <td>0.760493</td>\n      <td>0.020149</td>\n      <td>15</td>\n      <td>0.849110</td>\n      <td>0.003824</td>\n      <td>0.088617</td>\n      <td>0.019533</td>\n      <td>$0.760 (\\pm0.02)$</td>\n      <td>$0.849 (\\pm0.00)$</td>\n      <td>$0.089 (\\pm0.02)$</td>\n    </tr>\n    <tr>\n      <th>MLP+L2</th>\n      <td>0.762226</td>\n      <td>0.018550</td>\n      <td>15</td>\n      <td>0.848631</td>\n      <td>0.002860</td>\n      <td>0.086405</td>\n      <td>0.018986</td>\n      <td>$0.762 (\\pm0.02)$</td>\n      <td>$0.849 (\\pm0.00)$</td>\n      <td>$0.086 (\\pm0.02)$</td>\n    </tr>\n    <tr>\n      <th>MLP+RPR$_{\\rho_s}$</th>\n      <td>0.772452</td>\n      <td>0.020815</td>\n      <td>16</td>\n      <td>0.848646</td>\n      <td>0.002916</td>\n      <td>0.076194</td>\n      <td>0.020507</td>\n      <td>$0.772 (\\pm0.02)$</td>\n      <td>$0.849 (\\pm0.00)$</td>\n      <td>$0.076 (\\pm0.02)$</td>\n    </tr>\n    <tr>\n      <th>...</th>\n      <th>...</th>\n      <th>...</th>\n      <td>...</td>\n      <td>...</td>\n      <td>...</td>\n      <td>...</td>\n      <td>...</td>\n      <td>...</td>\n      <td>...</td>\n      <td>...</td>\n      <td>...</td>\n      <td>...</td>\n    </tr>\n    <tr>\n      <th rowspan=\"5\" valign=\"top\">mcc_parity</th>\n      <th rowspan=\"5\" valign=\"top\">German Credit</th>\n      <th>MLP+L2</th>\n      <td>0.261057</td>\n      <td>0.102972</td>\n      <td>14</td>\n      <td>0.373881</td>\n      <td>0.093515</td>\n      <td>0.112824</td>\n      <td>0.065766</td>\n      <td>$0.261 (\\pm0.10)$</td>\n      <td>$0.374 (\\pm0.09)$</td>\n      <td>$0.113 (\\pm0.07)$</td>\n    </tr>\n    <tr>\n      <th>MLP+RPR$_{\\rho_s}$</th>\n      <td>0.192318</td>\n      <td>0.107623</td>\n      <td>16</td>\n      <td>0.291751</td>\n      <td>0.073053</td>\n      <td>0.099432</td>\n      <td>0.060881</td>\n      <td>$0.192 (\\pm0.11)$</td>\n      <td>$0.292 (\\pm0.07)$</td>\n      <td>$0.099 (\\pm0.06)$</td>\n    </tr>\n    <tr>\n      <th>MLP+RPR$_{\\rho}$</th>\n      <td>0.254748</td>\n      <td>0.071677</td>\n      <td>16</td>\n      <td>0.341448</td>\n      <td>0.067708</td>\n      <td>0.086701</td>\n      <td>0.042336</td>\n      <td>$0.255 (\\pm0.07)$</td>\n      <td>$0.341 (\\pm0.07)$</td>\n      <td>$0.087 (\\pm0.04)$</td>\n    </tr>\n    <tr>\n      <th>MLP+RPR$_{\\tau}$</th>\n      <td>0.255848</td>\n      <td>0.079738</td>\n      <td>14</td>\n      <td>0.341519</td>\n      <td>0.054298</td>\n      <td>0.085671</td>\n      <td>0.056780</td>\n      <td>$0.256 (\\pm0.08)$</td>\n      <td>$0.342 (\\pm0.05)$</td>\n      <td>$0.086 (\\pm0.06)$</td>\n    </tr>\n    <tr>\n      <th>MLP+RPR$_{\\xi}$</th>\n      <td>0.245571</td>\n      <td>0.070406</td>\n      <td>15</td>\n      <td>0.329368</td>\n      <td>0.050637</td>\n      <td>0.083796</td>\n      <td>0.060963</td>\n      <td>$0.246 (\\pm0.07)$</td>\n      <td>$0.329 (\\pm0.05)$</td>\n      <td>$0.084 (\\pm0.06)$</td>\n    </tr>\n  </tbody>\n</table>\n<p>192 rows × 10 columns</p>\n</div>"
     },
     "execution_count": 46,
     "metadata": {},
     "output_type": "execute_result"
    }
   ],
   "execution_count": 46
  },
  {
   "cell_type": "code",
   "source": [
    "selected_columns = ['formatted_fitness', 'formatted_performance', 'formatted_fairness']\n",
    "for fitness_rule in fitness_rules:\n",
    "    grouped_results.loc[fitness_rule][selected_columns].to_latex(f'tables/grouped_results_{fitness_rule}_crp.tex')\n",
    "     #.to_latex(f'tables/grouped_results_{fitness_rule}_crp.tex', columns=selected_columns))"
   ],
   "metadata": {
    "collapsed": false,
    "ExecuteTime": {
     "end_time": "2024-07-07T03:11:25.960192530Z",
     "start_time": "2024-07-07T03:11:25.858160311Z"
    }
   },
   "outputs": [],
   "execution_count": 47
  },
  {
   "metadata": {
    "ExecuteTime": {
     "end_time": "2024-07-07T03:11:25.960539554Z",
     "start_time": "2024-07-07T03:11:25.898604771Z"
    }
   },
   "cell_type": "code",
   "source": [],
   "outputs": [],
   "execution_count": 47
  }
 ],
 "metadata": {
  "kernelspec": {
   "display_name": "Python 3 (ipykernel)",
   "language": "python",
   "name": "python3"
  },
  "language_info": {
   "codemirror_mode": {
    "name": "ipython",
    "version": 3
   },
   "file_extension": ".py",
   "mimetype": "text/x-python",
   "name": "python",
   "nbconvert_exporter": "python",
   "pygments_lexer": "ipython3",
   "version": "3.11.5"
  }
 },
 "nbformat": 4,
 "nbformat_minor": 4
}
