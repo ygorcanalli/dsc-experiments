{
 "cells": [
  {
   "cell_type": "code",
   "metadata": {
    "collapsed": true,
    "ExecuteTime": {
     "end_time": "2024-07-07T03:02:11.405717591Z",
     "start_time": "2024-07-07T03:02:11.364683927Z"
    }
   },
   "source": [
    "import pandas as pd\n",
    "import os\n",
    "from IPython.display import display"
   ],
   "outputs": [],
   "execution_count": 1
  },
  {
   "cell_type": "code",
   "source": [
    "def read_csv_files_from_folders(folder_paths):\n",
    "    # Initialize an empty list to store DataFrames\n",
    "    dfs = []\n",
    "\n",
    "    for folder_path in folder_paths:\n",
    "        # Get a list of files in the folder\n",
    "        file_list = os.listdir(folder_path)\n",
    "    \n",
    "        # Iterate through the files in the folder\n",
    "        for file_name in file_list:\n",
    "            # Check if the file has a .csv extension\n",
    "            if file_name.endswith(\".csv\"):\n",
    "                file_path = os.path.join(folder_path, file_name)\n",
    "    \n",
    "                # Read the CSV file into a DataFrame\n",
    "                df = pd.read_csv(file_path, index_col=0, header=0)\n",
    "    \n",
    "                # Append the DataFrame to the list\n",
    "                dfs.append(df)\n",
    "\n",
    "    # Concatenate all DataFrames into a single DataFrame\n",
    "    combined_df = pd.concat(dfs, ignore_index=True)\n",
    "\n",
    "    return combined_df"
   ],
   "metadata": {
    "collapsed": false,
    "ExecuteTime": {
     "end_time": "2024-07-07T03:02:11.406025894Z",
     "start_time": "2024-07-07T03:02:11.405601484Z"
    }
   },
   "outputs": [],
   "execution_count": 2
  },
  {
   "cell_type": "code",
   "source": [
    "cols = ['dataset', 'method', 'fitness_rule', 'fitness', 'ACC', 'MCC', 'avg_odds_diff', 'stat_par_diff', 'eq_opp_diff', 'solution']"
   ],
   "metadata": {
    "collapsed": false,
    "ExecuteTime": {
     "end_time": "2024-07-07T03:02:11.406174451Z",
     "start_time": "2024-07-07T03:02:11.405721820Z"
    }
   },
   "outputs": [],
   "execution_count": 3
  },
  {
   "cell_type": "code",
   "source": [
    "results = read_csv_files_from_folders(['../2024-05-08/results', '../2024-07-04/results'])\n",
    "methods = ['simple_mlp_initializer', 'mlp_standard_l2_initializer', 'mlp_preg_initializer','mlp_sreg_initializer','mlp_kreg_initializer', 'mlp_xi_reg_initializer','ftl_mlp_initializer', 'ftl_mlp_xi_reg_initializer']\n",
    "for method in methods:\n",
    "    method_results = results[results.method == method]\n",
    "    csv_path = f\"{method.replace('_initializer','')}_results.csv\"\n",
    "    method_results.reset_index(drop=True, inplace=True)\n",
    "    method_results[cols].to_csv(csv_path, index=False)\n",
    "\n",
    "results"
   ],
   "metadata": {
    "collapsed": false,
    "ExecuteTime": {
     "end_time": "2024-07-07T03:02:17.154509651Z",
     "start_time": "2024-07-07T03:02:11.405775813Z"
    }
   },
   "outputs": [
    {
     "data": {
      "text/plain": "      overall_acc   bal_acc  avg_odds_diff  disp_imp  stat_par_diff  \\\n0        0.834936  0.773424       0.105715  0.749300       0.065635   \n1        0.844002  0.780294       0.049059  0.407614       0.170094   \n2        0.823328  0.824797       0.099124  0.385690       0.259137   \n3        0.836263  0.706579       0.024246  0.359515       0.107601   \n4        0.839469  0.713643       0.015181  0.410020       0.104461   \n...           ...       ...            ...       ...            ...   \n4381     0.810000  0.715637       0.025455  0.947941       0.042245   \n4382     0.765000  0.689286       0.187852  0.760302       0.198860   \n4383     0.730000  0.626984       0.130993  0.826752       0.143582   \n4384     0.725000  0.585977       0.050576  0.987039       0.011586   \n4385     0.695000  0.602073       0.139957  0.865859       0.105999   \n\n      eq_opp_diff  theil_ind       TPR       TNR       FPR  ...       MCC  \\\n0        0.192739   0.121793  0.646253  0.900596  0.099404  ...  0.559881   \n1        0.018271   0.115943  0.652155  0.908433  0.091567  ...  0.575709   \n2        0.061543   0.082246  0.827664  0.821930  0.178070  ...  0.590304   \n3        0.027139   0.163380  0.440656  0.972503  0.027497  ...  0.530541   \n4        0.002116   0.153518  0.464877  0.962408  0.037592  ...  0.526192   \n...           ...        ...       ...       ...       ...  ...       ...   \n4381     0.034188   0.114071  0.900662  0.530612  0.469388  ...  0.459462   \n4382     0.160393   0.132278  0.878571  0.500000  0.500000  ...  0.409160   \n4383     0.161172   0.152594  0.861111  0.392857  0.607143  ...  0.279964   \n4384     0.041628   0.094472  0.942446  0.229508  0.770492  ...  0.253025   \n4385     0.032051   0.188138  0.818182  0.385965  0.614035  ...  0.215777   \n\n      f1_score   fitness                                           solution  \\\n0     0.669031  0.494246  {'corr_type': 'pearson', 'l2': 0.0, 'dropout':...   \n1     0.677633  0.526651  {'corr_type': 'pearson', 'l2': 0.0, 'dropout':...   \n2     0.695503  0.528761  {'corr_type': 'pearson', 'l2': 0.0, 'dropout':...   \n3     0.579620  0.728663  {'corr_type': 'pearson', 'l2': 0.0, 'dropout':...   \n4     0.588669  0.824289  {'corr_type': 'pearson', 'l2': 0.0, 'dropout':...   \n...        ...       ...                                                ...   \n4381  0.877419  0.767755       {'l2': 0.01, 'dropout': 0.01981571023885787}   \n4382  0.839590  0.577148       {'l2': 0.01, 'dropout': 0.07613108037474185}   \n4383  0.821192  0.599007      {'l2': 0.0001, 'dropout': 0.1142026662719527}   \n4384  0.826498  0.683372      {'l2': 0.001, 'dropout': 0.13663924613507508}   \n4385  0.793220  0.662949      {'l2': 0.001, 'dropout': 0.17589842462796224}   \n\n                                                   corr     fitness_rule  \\\n0     [0.07977566008940401, 0.0008965647325704729, 0...       mcc_parity   \n1     [0.08392866271270276, 0.003902499570566557, 0....         mcc_odds   \n2     [0.07885223051649136, 0.0022813842671083693, 1...  mcc_opportunity   \n3     [0.07787517408620503, 2.246978263011198e-05, 0...       acc_parity   \n4     [0.08580499697981567, 0.00525015314724385, 1.0...         acc_odds   \n...                                                 ...              ...   \n4381                                                NaN       acc_parity   \n4382  [0.05717171503473566, 0.08053835113499958, 0.0...         acc_odds   \n4383                                                NaN         acc_odds   \n4384  [0.05562166374804833, 0.11511854897339678, 0.0...  acc_opportunity   \n4385                                                NaN  acc_opportunity   \n\n                           method                dataset  \\\n0             ftl_mlp_initializer   adult_dataset_reader   \n1             ftl_mlp_initializer   adult_dataset_reader   \n2             ftl_mlp_initializer   adult_dataset_reader   \n3             ftl_mlp_initializer   adult_dataset_reader   \n4             ftl_mlp_initializer   adult_dataset_reader   \n...                           ...                    ...   \n4381  mlp_standard_l2_initializer  german_dataset_reader   \n4382         mlp_kreg_initializer  german_dataset_reader   \n4383  mlp_standard_l2_initializer  german_dataset_reader   \n4384         mlp_kreg_initializer  german_dataset_reader   \n4385  mlp_standard_l2_initializer  german_dataset_reader   \n\n                               best_solution_tf_history  \\\n0     {'loss': [0.5002829060276536, 0.47760909892786...   \n1     {'loss': [0.5228845256078762, 0.50544403579674...   \n2     {'loss': [0.40941930077154237, 0.3801981820613...   \n3     {'loss': [0.8860432654275967, 0.87261052768394...   \n4     {'loss': [0.6216279075019698, 0.59390508692872...   \n...                                                 ...   \n4381  {'loss': [0.8078611493110657, 0.66318547725677...   \n4382  {'loss': [1.0001260042190552, 0.73124593496322...   \n4383  {'loss': [0.6823934316635132, 0.61071455478668...   \n4384  {'loss': [0.9276112914085388, 0.66055017709732...   \n4385  {'loss': [0.8332062363624573, 0.64872676134109...   \n\n                                   tune_results_history  \n0                                                   NaN  \n1                                                   NaN  \n2                                                   NaN  \n3                                                   NaN  \n4                                                   NaN  \n...                                                 ...  \n4381  [{'overall_acc': 0.7125, 'bal_acc': 0.64497433...  \n4382  [{'overall_acc': 0.69375, 'bal_acc': 0.5455966...  \n4383  [{'overall_acc': 0.7375, 'bal_acc': 0.64415584...  \n4384  [{'overall_acc': 0.8125, 'bal_acc': 0.74107142...  \n4385  [{'overall_acc': 0.775, 'bal_acc': 0.644089732...  \n\n[4386 rows x 30 columns]",
      "text/html": "<div>\n<style scoped>\n    .dataframe tbody tr th:only-of-type {\n        vertical-align: middle;\n    }\n\n    .dataframe tbody tr th {\n        vertical-align: top;\n    }\n\n    .dataframe thead th {\n        text-align: right;\n    }\n</style>\n<table border=\"1\" class=\"dataframe\">\n  <thead>\n    <tr style=\"text-align: right;\">\n      <th></th>\n      <th>overall_acc</th>\n      <th>bal_acc</th>\n      <th>avg_odds_diff</th>\n      <th>disp_imp</th>\n      <th>stat_par_diff</th>\n      <th>eq_opp_diff</th>\n      <th>theil_ind</th>\n      <th>TPR</th>\n      <th>TNR</th>\n      <th>FPR</th>\n      <th>...</th>\n      <th>MCC</th>\n      <th>f1_score</th>\n      <th>fitness</th>\n      <th>solution</th>\n      <th>corr</th>\n      <th>fitness_rule</th>\n      <th>method</th>\n      <th>dataset</th>\n      <th>best_solution_tf_history</th>\n      <th>tune_results_history</th>\n    </tr>\n  </thead>\n  <tbody>\n    <tr>\n      <th>0</th>\n      <td>0.834936</td>\n      <td>0.773424</td>\n      <td>0.105715</td>\n      <td>0.749300</td>\n      <td>0.065635</td>\n      <td>0.192739</td>\n      <td>0.121793</td>\n      <td>0.646253</td>\n      <td>0.900596</td>\n      <td>0.099404</td>\n      <td>...</td>\n      <td>0.559881</td>\n      <td>0.669031</td>\n      <td>0.494246</td>\n      <td>{'corr_type': 'pearson', 'l2': 0.0, 'dropout':...</td>\n      <td>[0.07977566008940401, 0.0008965647325704729, 0...</td>\n      <td>mcc_parity</td>\n      <td>ftl_mlp_initializer</td>\n      <td>adult_dataset_reader</td>\n      <td>{'loss': [0.5002829060276536, 0.47760909892786...</td>\n      <td>NaN</td>\n    </tr>\n    <tr>\n      <th>1</th>\n      <td>0.844002</td>\n      <td>0.780294</td>\n      <td>0.049059</td>\n      <td>0.407614</td>\n      <td>0.170094</td>\n      <td>0.018271</td>\n      <td>0.115943</td>\n      <td>0.652155</td>\n      <td>0.908433</td>\n      <td>0.091567</td>\n      <td>...</td>\n      <td>0.575709</td>\n      <td>0.677633</td>\n      <td>0.526651</td>\n      <td>{'corr_type': 'pearson', 'l2': 0.0, 'dropout':...</td>\n      <td>[0.08392866271270276, 0.003902499570566557, 0....</td>\n      <td>mcc_odds</td>\n      <td>ftl_mlp_initializer</td>\n      <td>adult_dataset_reader</td>\n      <td>{'loss': [0.5228845256078762, 0.50544403579674...</td>\n      <td>NaN</td>\n    </tr>\n    <tr>\n      <th>2</th>\n      <td>0.823328</td>\n      <td>0.824797</td>\n      <td>0.099124</td>\n      <td>0.385690</td>\n      <td>0.259137</td>\n      <td>0.061543</td>\n      <td>0.082246</td>\n      <td>0.827664</td>\n      <td>0.821930</td>\n      <td>0.178070</td>\n      <td>...</td>\n      <td>0.590304</td>\n      <td>0.695503</td>\n      <td>0.528761</td>\n      <td>{'corr_type': 'pearson', 'l2': 0.0, 'dropout':...</td>\n      <td>[0.07885223051649136, 0.0022813842671083693, 1...</td>\n      <td>mcc_opportunity</td>\n      <td>ftl_mlp_initializer</td>\n      <td>adult_dataset_reader</td>\n      <td>{'loss': [0.40941930077154237, 0.3801981820613...</td>\n      <td>NaN</td>\n    </tr>\n    <tr>\n      <th>3</th>\n      <td>0.836263</td>\n      <td>0.706579</td>\n      <td>0.024246</td>\n      <td>0.359515</td>\n      <td>0.107601</td>\n      <td>0.027139</td>\n      <td>0.163380</td>\n      <td>0.440656</td>\n      <td>0.972503</td>\n      <td>0.027497</td>\n      <td>...</td>\n      <td>0.530541</td>\n      <td>0.579620</td>\n      <td>0.728663</td>\n      <td>{'corr_type': 'pearson', 'l2': 0.0, 'dropout':...</td>\n      <td>[0.07787517408620503, 2.246978263011198e-05, 0...</td>\n      <td>acc_parity</td>\n      <td>ftl_mlp_initializer</td>\n      <td>adult_dataset_reader</td>\n      <td>{'loss': [0.8860432654275967, 0.87261052768394...</td>\n      <td>NaN</td>\n    </tr>\n    <tr>\n      <th>4</th>\n      <td>0.839469</td>\n      <td>0.713643</td>\n      <td>0.015181</td>\n      <td>0.410020</td>\n      <td>0.104461</td>\n      <td>0.002116</td>\n      <td>0.153518</td>\n      <td>0.464877</td>\n      <td>0.962408</td>\n      <td>0.037592</td>\n      <td>...</td>\n      <td>0.526192</td>\n      <td>0.588669</td>\n      <td>0.824289</td>\n      <td>{'corr_type': 'pearson', 'l2': 0.0, 'dropout':...</td>\n      <td>[0.08580499697981567, 0.00525015314724385, 1.0...</td>\n      <td>acc_odds</td>\n      <td>ftl_mlp_initializer</td>\n      <td>adult_dataset_reader</td>\n      <td>{'loss': [0.6216279075019698, 0.59390508692872...</td>\n      <td>NaN</td>\n    </tr>\n    <tr>\n      <th>...</th>\n      <td>...</td>\n      <td>...</td>\n      <td>...</td>\n      <td>...</td>\n      <td>...</td>\n      <td>...</td>\n      <td>...</td>\n      <td>...</td>\n      <td>...</td>\n      <td>...</td>\n      <td>...</td>\n      <td>...</td>\n      <td>...</td>\n      <td>...</td>\n      <td>...</td>\n      <td>...</td>\n      <td>...</td>\n      <td>...</td>\n      <td>...</td>\n      <td>...</td>\n      <td>...</td>\n    </tr>\n    <tr>\n      <th>4381</th>\n      <td>0.810000</td>\n      <td>0.715637</td>\n      <td>0.025455</td>\n      <td>0.947941</td>\n      <td>0.042245</td>\n      <td>0.034188</td>\n      <td>0.114071</td>\n      <td>0.900662</td>\n      <td>0.530612</td>\n      <td>0.469388</td>\n      <td>...</td>\n      <td>0.459462</td>\n      <td>0.877419</td>\n      <td>0.767755</td>\n      <td>{'l2': 0.01, 'dropout': 0.01981571023885787}</td>\n      <td>NaN</td>\n      <td>acc_parity</td>\n      <td>mlp_standard_l2_initializer</td>\n      <td>german_dataset_reader</td>\n      <td>{'loss': [0.8078611493110657, 0.66318547725677...</td>\n      <td>[{'overall_acc': 0.7125, 'bal_acc': 0.64497433...</td>\n    </tr>\n    <tr>\n      <th>4382</th>\n      <td>0.765000</td>\n      <td>0.689286</td>\n      <td>0.187852</td>\n      <td>0.760302</td>\n      <td>0.198860</td>\n      <td>0.160393</td>\n      <td>0.132278</td>\n      <td>0.878571</td>\n      <td>0.500000</td>\n      <td>0.500000</td>\n      <td>...</td>\n      <td>0.409160</td>\n      <td>0.839590</td>\n      <td>0.577148</td>\n      <td>{'l2': 0.01, 'dropout': 0.07613108037474185}</td>\n      <td>[0.05717171503473566, 0.08053835113499958, 0.0...</td>\n      <td>acc_odds</td>\n      <td>mlp_kreg_initializer</td>\n      <td>german_dataset_reader</td>\n      <td>{'loss': [1.0001260042190552, 0.73124593496322...</td>\n      <td>[{'overall_acc': 0.69375, 'bal_acc': 0.5455966...</td>\n    </tr>\n    <tr>\n      <th>4383</th>\n      <td>0.730000</td>\n      <td>0.626984</td>\n      <td>0.130993</td>\n      <td>0.826752</td>\n      <td>0.143582</td>\n      <td>0.161172</td>\n      <td>0.152594</td>\n      <td>0.861111</td>\n      <td>0.392857</td>\n      <td>0.607143</td>\n      <td>...</td>\n      <td>0.279964</td>\n      <td>0.821192</td>\n      <td>0.599007</td>\n      <td>{'l2': 0.0001, 'dropout': 0.1142026662719527}</td>\n      <td>NaN</td>\n      <td>acc_odds</td>\n      <td>mlp_standard_l2_initializer</td>\n      <td>german_dataset_reader</td>\n      <td>{'loss': [0.6823934316635132, 0.61071455478668...</td>\n      <td>[{'overall_acc': 0.7375, 'bal_acc': 0.64415584...</td>\n    </tr>\n    <tr>\n      <th>4384</th>\n      <td>0.725000</td>\n      <td>0.585977</td>\n      <td>0.050576</td>\n      <td>0.987039</td>\n      <td>0.011586</td>\n      <td>0.041628</td>\n      <td>0.094472</td>\n      <td>0.942446</td>\n      <td>0.229508</td>\n      <td>0.770492</td>\n      <td>...</td>\n      <td>0.253025</td>\n      <td>0.826498</td>\n      <td>0.683372</td>\n      <td>{'l2': 0.001, 'dropout': 0.13663924613507508}</td>\n      <td>[0.05562166374804833, 0.11511854897339678, 0.0...</td>\n      <td>acc_opportunity</td>\n      <td>mlp_kreg_initializer</td>\n      <td>german_dataset_reader</td>\n      <td>{'loss': [0.9276112914085388, 0.66055017709732...</td>\n      <td>[{'overall_acc': 0.8125, 'bal_acc': 0.74107142...</td>\n    </tr>\n    <tr>\n      <th>4385</th>\n      <td>0.695000</td>\n      <td>0.602073</td>\n      <td>0.139957</td>\n      <td>0.865859</td>\n      <td>0.105999</td>\n      <td>0.032051</td>\n      <td>0.188138</td>\n      <td>0.818182</td>\n      <td>0.385965</td>\n      <td>0.614035</td>\n      <td>...</td>\n      <td>0.215777</td>\n      <td>0.793220</td>\n      <td>0.662949</td>\n      <td>{'l2': 0.001, 'dropout': 0.17589842462796224}</td>\n      <td>NaN</td>\n      <td>acc_opportunity</td>\n      <td>mlp_standard_l2_initializer</td>\n      <td>german_dataset_reader</td>\n      <td>{'loss': [0.8332062363624573, 0.64872676134109...</td>\n      <td>[{'overall_acc': 0.775, 'bal_acc': 0.644089732...</td>\n    </tr>\n  </tbody>\n</table>\n<p>4386 rows × 30 columns</p>\n</div>"
     },
     "execution_count": 4,
     "metadata": {},
     "output_type": "execute_result"
    }
   ],
   "execution_count": 4
  },
  {
   "cell_type": "code",
   "source": [],
   "metadata": {
    "collapsed": false,
    "ExecuteTime": {
     "end_time": "2024-07-07T03:02:17.222231014Z",
     "start_time": "2024-07-07T03:02:17.151418666Z"
    }
   },
   "outputs": [],
   "execution_count": 4
  },
  {
   "cell_type": "code",
   "source": [],
   "metadata": {
    "collapsed": false,
    "ExecuteTime": {
     "end_time": "2024-07-07T03:02:17.222498790Z",
     "start_time": "2024-07-07T03:02:17.192575323Z"
    }
   },
   "outputs": [],
   "execution_count": 4
  }
 ],
 "metadata": {
  "kernelspec": {
   "display_name": "Python 3",
   "language": "python",
   "name": "python3"
  },
  "language_info": {
   "codemirror_mode": {
    "name": "ipython",
    "version": 2
   },
   "file_extension": ".py",
   "mimetype": "text/x-python",
   "name": "python",
   "nbconvert_exporter": "python",
   "pygments_lexer": "ipython2",
   "version": "2.7.6"
  }
 },
 "nbformat": 4,
 "nbformat_minor": 0
}
