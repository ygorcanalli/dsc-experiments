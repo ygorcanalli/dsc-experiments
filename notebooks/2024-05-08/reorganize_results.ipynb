{
 "cells": [
  {
   "cell_type": "code",
   "execution_count": 6,
   "metadata": {
    "collapsed": true,
    "ExecuteTime": {
     "end_time": "2024-05-09T22:50:45.183951758Z",
     "start_time": "2024-05-09T22:50:45.178884468Z"
    }
   },
   "outputs": [],
   "source": [
    "import pandas as pd\n",
    "import os\n",
    "from IPython.display import display"
   ]
  },
  {
   "cell_type": "code",
   "execution_count": 7,
   "outputs": [],
   "source": [
    "def read_csv_files_from_folder(folder_path):\n",
    "    # Initialize an empty list to store DataFrames\n",
    "    dfs = []\n",
    "\n",
    "    # Get a list of files in the folder\n",
    "    file_list = os.listdir(folder_path)\n",
    "\n",
    "    # Iterate through the files in the folder\n",
    "    for file_name in file_list:\n",
    "        # Check if the file has a .csv extension\n",
    "        if file_name.endswith(\".csv\"):\n",
    "            file_path = os.path.join(folder_path, file_name)\n",
    "\n",
    "            # Read the CSV file into a DataFrame\n",
    "            df = pd.read_csv(file_path, index_col=0)\n",
    "\n",
    "            # Append the DataFrame to the list\n",
    "            dfs.append(df)\n",
    "\n",
    "    # Concatenate all DataFrames into a single DataFrame\n",
    "    combined_df = pd.concat(dfs, ignore_index=True)\n",
    "\n",
    "    return combined_df"
   ],
   "metadata": {
    "collapsed": false,
    "ExecuteTime": {
     "end_time": "2024-05-09T22:50:45.222493795Z",
     "start_time": "2024-05-09T22:50:45.221977128Z"
    }
   }
  },
  {
   "cell_type": "code",
   "execution_count": 8,
   "outputs": [],
   "source": [
    "cols = ['dataset', 'method', 'fitness_rule', 'fitness', 'ACC', 'MCC', 'avg_odds_diff', 'stat_par_diff', 'eq_opp_diff', 'solution']"
   ],
   "metadata": {
    "collapsed": false,
    "ExecuteTime": {
     "end_time": "2024-05-09T22:50:45.222851309Z",
     "start_time": "2024-05-09T22:50:45.222265458Z"
    }
   }
  },
  {
   "cell_type": "code",
   "execution_count": 9,
   "outputs": [
    {
     "data": {
      "text/plain": "      overall_acc   bal_acc  avg_odds_diff  disp_imp  stat_par_diff  \\\n0        0.851299  0.776851       0.113127  0.302886       0.192633   \n1        0.851520  0.781719       0.111565  0.301498       0.198915   \n2        0.851410  0.780878       0.103235  0.319506       0.191606   \n3        0.844887  0.763239       0.082386  0.308388       0.183090   \n4        0.850857  0.775601       0.084687  0.332983       0.180366   \n...           ...       ...            ...       ...            ...   \n1075     0.846545  0.770469       0.043047  0.403239       0.157957   \n1076     0.849530  0.773823       0.109943  0.268486       0.203492   \n1077     0.843339  0.772352       0.111395  0.283413       0.206879   \n1078     0.856495  0.788731       0.070811  0.343356       0.184454   \n1079     0.850415  0.778185       0.131419  0.255264       0.212382   \n\n      eq_opp_diff  theil_ind       TPR       TNR       FPR  ...       MCC  \\\n0        0.142532   0.117850  0.628495  0.925206  0.074794  ...  0.585170   \n1        0.132052   0.113320  0.644856  0.918583  0.081417  ...  0.585500   \n2        0.124889   0.113980  0.642342  0.919414  0.080586  ...  0.585064   \n3        0.084174   0.126322  0.599383  0.927096  0.072904  ...  0.565373   \n4        0.093891   0.115760  0.629562  0.921640  0.078360  ...  0.577932   \n...           ...        ...       ...       ...       ...  ...       ...   \n1075     0.020982   0.120147  0.620458  0.920481  0.079519  ...  0.569525   \n1076     0.127736   0.120371  0.621753  0.925893  0.074107  ...  0.581413   \n1077     0.117333   0.116776  0.634950  0.909754  0.090246  ...  0.561199   \n1078     0.067066   0.110623  0.654464  0.922998  0.077002  ...  0.601709   \n1079     0.162373   0.114017  0.638317  0.918052  0.081948  ...  0.578427   \n\n      f1_score   fitness                                      solution  \\\n0     0.677999  0.392537              {'dropout': 0.16228954240968418}   \n1     0.680314  0.473935               {'dropout': 0.1482543145261793}   \n2     0.679695  0.460175              {'dropout': 0.17861515209545933}   \n3     0.659714  0.661796              {'dropout': 0.15655371267306142}   \n4     0.671696  0.766170               {'dropout': 0.1698638434734938}   \n...        ...       ...                                           ...   \n1075  0.665864  0.411567            {'l2': 0.001, 'corr_type': 'none'}   \n1076  0.674791  0.377921  {'l2': 0.01, 'dropout': 0.18426662396226412}   \n1077  0.662056  0.354320  {'l2': 0.01, 'dropout': 0.03688336359030004}   \n1078  0.693144  0.530898          {'l2': 0.01, 'corr_type': 'pearson'}   \n1079  0.673583  0.447008   {'l2': 0.01, 'dropout': 0.1695039368017731}   \n\n                                                   corr     fitness_rule  \\\n0                                                   NaN       mcc_parity   \n1                                                   NaN         mcc_odds   \n2                                                   NaN  mcc_opportunity   \n3                                                   NaN       acc_parity   \n4                                                   NaN         acc_odds   \n...                                                 ...              ...   \n1075                                                NaN       mcc_parity   \n1076  [0.08426450502455708, 0.0006575566025273321, 0...       mcc_parity   \n1077  [0.09465732122424926, 7.58893521948754e-05, 1....       mcc_parity   \n1078  [0.08602028821689614, 0.00023593668586524173, ...         mcc_odds   \n1079  [0.08032339051268238, 0.0032069935225244456, 0...         mcc_odds   \n\n                        method               dataset  \\\n0       simple_mlp_initializer  adult_dataset_reader   \n1       simple_mlp_initializer  adult_dataset_reader   \n2       simple_mlp_initializer  adult_dataset_reader   \n3       simple_mlp_initializer  adult_dataset_reader   \n4       simple_mlp_initializer  adult_dataset_reader   \n...                        ...                   ...   \n1075  mlp_auto_reg_initializer  adult_dataset_reader   \n1076      mlp_preg_initializer  adult_dataset_reader   \n1077      mlp_sreg_initializer  adult_dataset_reader   \n1078  mlp_auto_reg_initializer  adult_dataset_reader   \n1079      mlp_preg_initializer  adult_dataset_reader   \n\n                               best_solution_tf_history  \\\n0     {'loss': [0.3897703690160027, 0.34068391078622...   \n1     {'loss': [0.4009664287344603, 0.34305514207044...   \n2     {'loss': [0.40314989690662156, 0.3452559707361...   \n3     {'loss': [0.3903123053694252, 0.33910286278168...   \n4     {'loss': [0.39678069996564325, 0.3418175098418...   \n...                                                 ...   \n1075  {'loss': [0.38866326212882996, 0.3333345651626...   \n1076  {'loss': [0.44177043437957764, 0.3817477226257...   \n1077  {'loss': [0.43776553869247437, 0.3772622048854...   \n1078  {'loss': [0.4436900317668915, 0.38186529278755...   \n1079  {'loss': [0.46185266971588135, 0.3892354369163...   \n\n                                   tune_results_history  \n0                                                   NaN  \n1                                                   NaN  \n2                                                   NaN  \n3                                                   NaN  \n4                                                   NaN  \n...                                                 ...  \n1075  [{'overall_acc': 0.8483969043670536, 'bal_acc'...  \n1076  [{'overall_acc': 0.8485351022664456, 'bal_acc'...  \n1077  [{'overall_acc': 0.8507462686567164, 'bal_acc'...  \n1078  [{'overall_acc': 0.8399668325041459, 'bal_acc'...  \n1079  [{'overall_acc': 0.8459093421779988, 'bal_acc'...  \n\n[1080 rows x 30 columns]",
      "text/html": "<div>\n<style scoped>\n    .dataframe tbody tr th:only-of-type {\n        vertical-align: middle;\n    }\n\n    .dataframe tbody tr th {\n        vertical-align: top;\n    }\n\n    .dataframe thead th {\n        text-align: right;\n    }\n</style>\n<table border=\"1\" class=\"dataframe\">\n  <thead>\n    <tr style=\"text-align: right;\">\n      <th></th>\n      <th>overall_acc</th>\n      <th>bal_acc</th>\n      <th>avg_odds_diff</th>\n      <th>disp_imp</th>\n      <th>stat_par_diff</th>\n      <th>eq_opp_diff</th>\n      <th>theil_ind</th>\n      <th>TPR</th>\n      <th>TNR</th>\n      <th>FPR</th>\n      <th>...</th>\n      <th>MCC</th>\n      <th>f1_score</th>\n      <th>fitness</th>\n      <th>solution</th>\n      <th>corr</th>\n      <th>fitness_rule</th>\n      <th>method</th>\n      <th>dataset</th>\n      <th>best_solution_tf_history</th>\n      <th>tune_results_history</th>\n    </tr>\n  </thead>\n  <tbody>\n    <tr>\n      <th>0</th>\n      <td>0.851299</td>\n      <td>0.776851</td>\n      <td>0.113127</td>\n      <td>0.302886</td>\n      <td>0.192633</td>\n      <td>0.142532</td>\n      <td>0.117850</td>\n      <td>0.628495</td>\n      <td>0.925206</td>\n      <td>0.074794</td>\n      <td>...</td>\n      <td>0.585170</td>\n      <td>0.677999</td>\n      <td>0.392537</td>\n      <td>{'dropout': 0.16228954240968418}</td>\n      <td>NaN</td>\n      <td>mcc_parity</td>\n      <td>simple_mlp_initializer</td>\n      <td>adult_dataset_reader</td>\n      <td>{'loss': [0.3897703690160027, 0.34068391078622...</td>\n      <td>NaN</td>\n    </tr>\n    <tr>\n      <th>1</th>\n      <td>0.851520</td>\n      <td>0.781719</td>\n      <td>0.111565</td>\n      <td>0.301498</td>\n      <td>0.198915</td>\n      <td>0.132052</td>\n      <td>0.113320</td>\n      <td>0.644856</td>\n      <td>0.918583</td>\n      <td>0.081417</td>\n      <td>...</td>\n      <td>0.585500</td>\n      <td>0.680314</td>\n      <td>0.473935</td>\n      <td>{'dropout': 0.1482543145261793}</td>\n      <td>NaN</td>\n      <td>mcc_odds</td>\n      <td>simple_mlp_initializer</td>\n      <td>adult_dataset_reader</td>\n      <td>{'loss': [0.4009664287344603, 0.34305514207044...</td>\n      <td>NaN</td>\n    </tr>\n    <tr>\n      <th>2</th>\n      <td>0.851410</td>\n      <td>0.780878</td>\n      <td>0.103235</td>\n      <td>0.319506</td>\n      <td>0.191606</td>\n      <td>0.124889</td>\n      <td>0.113980</td>\n      <td>0.642342</td>\n      <td>0.919414</td>\n      <td>0.080586</td>\n      <td>...</td>\n      <td>0.585064</td>\n      <td>0.679695</td>\n      <td>0.460175</td>\n      <td>{'dropout': 0.17861515209545933}</td>\n      <td>NaN</td>\n      <td>mcc_opportunity</td>\n      <td>simple_mlp_initializer</td>\n      <td>adult_dataset_reader</td>\n      <td>{'loss': [0.40314989690662156, 0.3452559707361...</td>\n      <td>NaN</td>\n    </tr>\n    <tr>\n      <th>3</th>\n      <td>0.844887</td>\n      <td>0.763239</td>\n      <td>0.082386</td>\n      <td>0.308388</td>\n      <td>0.183090</td>\n      <td>0.084174</td>\n      <td>0.126322</td>\n      <td>0.599383</td>\n      <td>0.927096</td>\n      <td>0.072904</td>\n      <td>...</td>\n      <td>0.565373</td>\n      <td>0.659714</td>\n      <td>0.661796</td>\n      <td>{'dropout': 0.15655371267306142}</td>\n      <td>NaN</td>\n      <td>acc_parity</td>\n      <td>simple_mlp_initializer</td>\n      <td>adult_dataset_reader</td>\n      <td>{'loss': [0.3903123053694252, 0.33910286278168...</td>\n      <td>NaN</td>\n    </tr>\n    <tr>\n      <th>4</th>\n      <td>0.850857</td>\n      <td>0.775601</td>\n      <td>0.084687</td>\n      <td>0.332983</td>\n      <td>0.180366</td>\n      <td>0.093891</td>\n      <td>0.115760</td>\n      <td>0.629562</td>\n      <td>0.921640</td>\n      <td>0.078360</td>\n      <td>...</td>\n      <td>0.577932</td>\n      <td>0.671696</td>\n      <td>0.766170</td>\n      <td>{'dropout': 0.1698638434734938}</td>\n      <td>NaN</td>\n      <td>acc_odds</td>\n      <td>simple_mlp_initializer</td>\n      <td>adult_dataset_reader</td>\n      <td>{'loss': [0.39678069996564325, 0.3418175098418...</td>\n      <td>NaN</td>\n    </tr>\n    <tr>\n      <th>...</th>\n      <td>...</td>\n      <td>...</td>\n      <td>...</td>\n      <td>...</td>\n      <td>...</td>\n      <td>...</td>\n      <td>...</td>\n      <td>...</td>\n      <td>...</td>\n      <td>...</td>\n      <td>...</td>\n      <td>...</td>\n      <td>...</td>\n      <td>...</td>\n      <td>...</td>\n      <td>...</td>\n      <td>...</td>\n      <td>...</td>\n      <td>...</td>\n      <td>...</td>\n      <td>...</td>\n    </tr>\n    <tr>\n      <th>1075</th>\n      <td>0.846545</td>\n      <td>0.770469</td>\n      <td>0.043047</td>\n      <td>0.403239</td>\n      <td>0.157957</td>\n      <td>0.020982</td>\n      <td>0.120147</td>\n      <td>0.620458</td>\n      <td>0.920481</td>\n      <td>0.079519</td>\n      <td>...</td>\n      <td>0.569525</td>\n      <td>0.665864</td>\n      <td>0.411567</td>\n      <td>{'l2': 0.001, 'corr_type': 'none'}</td>\n      <td>NaN</td>\n      <td>mcc_parity</td>\n      <td>mlp_auto_reg_initializer</td>\n      <td>adult_dataset_reader</td>\n      <td>{'loss': [0.38866326212882996, 0.3333345651626...</td>\n      <td>[{'overall_acc': 0.8483969043670536, 'bal_acc'...</td>\n    </tr>\n    <tr>\n      <th>1076</th>\n      <td>0.849530</td>\n      <td>0.773823</td>\n      <td>0.109943</td>\n      <td>0.268486</td>\n      <td>0.203492</td>\n      <td>0.127736</td>\n      <td>0.120371</td>\n      <td>0.621753</td>\n      <td>0.925893</td>\n      <td>0.074107</td>\n      <td>...</td>\n      <td>0.581413</td>\n      <td>0.674791</td>\n      <td>0.377921</td>\n      <td>{'l2': 0.01, 'dropout': 0.18426662396226412}</td>\n      <td>[0.08426450502455708, 0.0006575566025273321, 0...</td>\n      <td>mcc_parity</td>\n      <td>mlp_preg_initializer</td>\n      <td>adult_dataset_reader</td>\n      <td>{'loss': [0.44177043437957764, 0.3817477226257...</td>\n      <td>[{'overall_acc': 0.8485351022664456, 'bal_acc'...</td>\n    </tr>\n    <tr>\n      <th>1077</th>\n      <td>0.843339</td>\n      <td>0.772352</td>\n      <td>0.111395</td>\n      <td>0.283413</td>\n      <td>0.206879</td>\n      <td>0.117333</td>\n      <td>0.116776</td>\n      <td>0.634950</td>\n      <td>0.909754</td>\n      <td>0.090246</td>\n      <td>...</td>\n      <td>0.561199</td>\n      <td>0.662056</td>\n      <td>0.354320</td>\n      <td>{'l2': 0.01, 'dropout': 0.03688336359030004}</td>\n      <td>[0.09465732122424926, 7.58893521948754e-05, 1....</td>\n      <td>mcc_parity</td>\n      <td>mlp_sreg_initializer</td>\n      <td>adult_dataset_reader</td>\n      <td>{'loss': [0.43776553869247437, 0.3772622048854...</td>\n      <td>[{'overall_acc': 0.8507462686567164, 'bal_acc'...</td>\n    </tr>\n    <tr>\n      <th>1078</th>\n      <td>0.856495</td>\n      <td>0.788731</td>\n      <td>0.070811</td>\n      <td>0.343356</td>\n      <td>0.184454</td>\n      <td>0.067066</td>\n      <td>0.110623</td>\n      <td>0.654464</td>\n      <td>0.922998</td>\n      <td>0.077002</td>\n      <td>...</td>\n      <td>0.601709</td>\n      <td>0.693144</td>\n      <td>0.530898</td>\n      <td>{'l2': 0.01, 'corr_type': 'pearson'}</td>\n      <td>[0.08602028821689614, 0.00023593668586524173, ...</td>\n      <td>mcc_odds</td>\n      <td>mlp_auto_reg_initializer</td>\n      <td>adult_dataset_reader</td>\n      <td>{'loss': [0.4436900317668915, 0.38186529278755...</td>\n      <td>[{'overall_acc': 0.8399668325041459, 'bal_acc'...</td>\n    </tr>\n    <tr>\n      <th>1079</th>\n      <td>0.850415</td>\n      <td>0.778185</td>\n      <td>0.131419</td>\n      <td>0.255264</td>\n      <td>0.212382</td>\n      <td>0.162373</td>\n      <td>0.114017</td>\n      <td>0.638317</td>\n      <td>0.918052</td>\n      <td>0.081948</td>\n      <td>...</td>\n      <td>0.578427</td>\n      <td>0.673583</td>\n      <td>0.447008</td>\n      <td>{'l2': 0.01, 'dropout': 0.1695039368017731}</td>\n      <td>[0.08032339051268238, 0.0032069935225244456, 0...</td>\n      <td>mcc_odds</td>\n      <td>mlp_preg_initializer</td>\n      <td>adult_dataset_reader</td>\n      <td>{'loss': [0.46185266971588135, 0.3892354369163...</td>\n      <td>[{'overall_acc': 0.8459093421779988, 'bal_acc'...</td>\n    </tr>\n  </tbody>\n</table>\n<p>1080 rows × 30 columns</p>\n</div>"
     },
     "execution_count": 9,
     "metadata": {},
     "output_type": "execute_result"
    }
   ],
   "source": [
    "mlp_results = read_csv_files_from_folder('mlp_results')\n",
    "mlp_baseline_results = mlp_results[mlp_results.method == 'simple_mlp_initializer']\n",
    "mlp_pearson_results = mlp_results[mlp_results.method == 'mlp_preg_initializer']\n",
    "mlp_spearman_results = mlp_results[mlp_results.method == 'mlp_sreg_initializer']\n",
    "mlp_auto_reg_results = mlp_results[mlp_results.method == 'mlp_auto_reg_initializer']\n",
    "\n",
    "csv_path = 'mlp_baseline_results' + '.csv'\n",
    "mlp_baseline_results.reset_index(drop=True, inplace=True)\n",
    "mlp_baseline_results[cols].to_csv(csv_path, index=False)\n",
    "\n",
    "csv_path = 'mlp_pearson_results' + '.csv'\n",
    "mlp_pearson_results.reset_index(drop=True, inplace=True)\n",
    "mlp_pearson_results[cols].to_csv(csv_path, index=False)\n",
    "\n",
    "csv_path = 'mlp_spearman_results' + '.csv'\n",
    "mlp_spearman_results.reset_index(drop=True, inplace=True)\n",
    "mlp_spearman_results[cols].to_csv(csv_path, index=False)\n",
    "\n",
    "csv_path = 'mlp_auto_reg_results' + '.csv'\n",
    "mlp_auto_reg_results.reset_index(drop=True, inplace=True)\n",
    "mlp_auto_reg_results[cols].to_csv(csv_path, index=False)\n",
    "\n",
    "mlp_results"
   ],
   "metadata": {
    "collapsed": false,
    "ExecuteTime": {
     "end_time": "2024-05-09T22:50:46.047200482Z",
     "start_time": "2024-05-09T22:50:45.222367372Z"
    }
   }
  },
  {
   "cell_type": "code",
   "execution_count": 10,
   "outputs": [
    {
     "data": {
      "text/plain": "     overall_acc   bal_acc  avg_odds_diff  disp_imp  stat_par_diff  \\\n0       0.879633  0.824660       0.221741  0.739824       0.048843   \n1       0.889472  0.822149       0.060966  1.325740       0.054601   \n2       0.869465  0.850119       0.077815  1.317943       0.068115   \n3       0.870941  0.851805       0.041738  1.669665       0.136583   \n4       0.889636  0.816130       0.102769  0.988805       0.001864   \n..           ...       ...            ...       ...            ...   \n754     0.755000  0.500000       0.000000  1.000000       0.000000   \n755     0.720000  0.726535       0.234824  0.647402       0.237799   \n756     0.765000  0.683288       0.031920  0.958327       0.032079   \n757     0.660000  0.500000       0.000000  1.000000       0.000000   \n758     0.680000  0.685791       0.132176  0.846293       0.093407   \n\n     eq_opp_diff  theil_ind       TPR       TNR       FPR  ...       MCC  \\\n0       0.414511   0.061900  0.750000  0.899320  0.100680  ...  0.564237   \n1       0.085032   0.059943  0.732120  0.912179  0.087821  ...  0.570648   \n2       0.142911   0.056539  0.823821  0.876417  0.123583  ...  0.576172   \n3       0.002869   0.054321  0.826558  0.877052  0.122948  ...  0.565306   \n4       0.182242   0.062080  0.717005  0.915254  0.084746  ...  0.569394   \n..           ...        ...       ...       ...       ...  ...       ...   \n754     0.000000   0.053669  1.000000  0.000000  1.000000  ...  0.000000   \n755     0.201250   0.263661  0.712329  0.740741  0.259259  ...  0.408969   \n756     0.050327   0.151130  0.857143  0.509434  0.490566  ...  0.378808   \n757     0.000000   0.059077  1.000000  0.000000  1.000000  ...  0.000000   \n758     0.020412   0.306381  0.673469  0.698113  0.301887  ...  0.331737   \n\n     f1_score   fitness                                           solution  \\\n0    0.621649  0.515393  {'dropout': 0.1378715585343612, 'privileged_de...   \n1    0.625556  0.516047  {'l2': 0.01, 'dropout': 0.1332251502720709, 'p...   \n2    0.625235  0.508056  {'l2': 0.001, 'dropout': 0.012254051999757744,...   \n3    0.607872  0.523568  {'dropout': 0.07708775474706811, 'privileged_d...   \n4    0.626733  0.466624  {'l2': 0.01, 'dropout': 0.08245243158440899, '...   \n..        ...       ...                                                ...   \n754  0.860399  0.000000  {'l2': 0.01, 'corr_type': 'pearson', 'privileg...   \n755  0.787879  0.207719  {'l2': 0.01, 'corr_type': 'none', 'privileged_...   \n756  0.842809  0.732921  {'l2': 0.001, 'corr_type': 'none', 'privileged...   \n757  0.795181  0.660000  {'l2': 0.0001, 'corr_type': 'spearman', 'privi...   \n758  0.755725  0.659588  {'l2': 0.01, 'corr_type': 'none', 'privileged_...   \n\n                                                  corr  \\\n0                                                  NaN   \n1    [1.0, 0.007689367415894552, 0.0179196949542496...   \n2    [0.9999999999999999, 0.013781101062701062, 0.0...   \n3                                                  NaN   \n4    [1.0, 0.008261333577649804, 0.0086909772742412...   \n..                                                 ...   \n754  [0.08729302740614661, 0.1126330352709721, 0.06...   \n755                                                NaN   \n756                                                NaN   \n757  [0.05028610977355817, 0.11575029414705006, 0.0...   \n758                                                NaN   \n\n                                  tune_results_history     fitness_rule  \\\n0    [{'overall_acc': 0.8888888888888888, 'bal_acc'...       mcc_parity   \n1    [{'overall_acc': 0.9040590405904059, 'bal_acc'...       mcc_parity   \n2    [{'overall_acc': 0.8872488724887249, 'bal_acc'...       mcc_parity   \n3    [{'overall_acc': 0.11992619926199262, 'bal_acc...         mcc_odds   \n4    [{'overall_acc': 0.11562115621156212, 'bal_acc...         mcc_odds   \n..                                                 ...              ...   \n754  [{'overall_acc': 0.4375, 'bal_acc': 0.49313186...         mcc_odds   \n755  [{'overall_acc': 0.725, 'bal_acc': 0.627039627...  mcc_opportunity   \n756  [{'overall_acc': 0.675, 'bal_acc': 0.5, 'avg_o...       acc_parity   \n757  [{'overall_acc': 0.30625, 'bal_acc': 0.5, 'avg...         acc_odds   \n758  [{'overall_acc': 0.2, 'bal_acc': 0.28764166216...  acc_opportunity   \n\n                           method                dataset  \\\n0             ftl_mlp_initializer    bank_dataset_reader   \n1        ftl_mlp_preg_initializer    bank_dataset_reader   \n2        ftl_mlp_sreg_initializer    bank_dataset_reader   \n3             ftl_mlp_initializer    bank_dataset_reader   \n4        ftl_mlp_preg_initializer    bank_dataset_reader   \n..                            ...                    ...   \n754  ftl_mlp_auto_reg_initializer  german_dataset_reader   \n755  ftl_mlp_auto_reg_initializer  german_dataset_reader   \n756  ftl_mlp_auto_reg_initializer  german_dataset_reader   \n757  ftl_mlp_auto_reg_initializer  german_dataset_reader   \n758  ftl_mlp_auto_reg_initializer  german_dataset_reader   \n\n                              best_solution_tf_history  \n0    {'loss': [0.3116914632162805, 0.25669191370064...  \n1    {'loss': [0.31384556477981995, 0.2603439912264...  \n2    {'loss': [0.2767862527408522, 0.22369481209353...  \n3    {'loss': [0.31521967323319167, 0.2780486762898...  \n4    {'loss': [0.3658251037052305, 0.29424992402408...  \n..                                                 ...  \n754  {'loss': [0.8590578436851501, 0.81151354312896...  \n755  {'loss': [0.6630194783210754, 0.64666181802749...  \n756  {'loss': [0.6309508681297302, 0.59258335828781...  \n757  {'loss': [0.7330774664878845, 0.71253484487533...  \n758  {'loss': [0.6579881310462952, 0.61434358358383...  \n\n[759 rows x 30 columns]",
      "text/html": "<div>\n<style scoped>\n    .dataframe tbody tr th:only-of-type {\n        vertical-align: middle;\n    }\n\n    .dataframe tbody tr th {\n        vertical-align: top;\n    }\n\n    .dataframe thead th {\n        text-align: right;\n    }\n</style>\n<table border=\"1\" class=\"dataframe\">\n  <thead>\n    <tr style=\"text-align: right;\">\n      <th></th>\n      <th>overall_acc</th>\n      <th>bal_acc</th>\n      <th>avg_odds_diff</th>\n      <th>disp_imp</th>\n      <th>stat_par_diff</th>\n      <th>eq_opp_diff</th>\n      <th>theil_ind</th>\n      <th>TPR</th>\n      <th>TNR</th>\n      <th>FPR</th>\n      <th>...</th>\n      <th>MCC</th>\n      <th>f1_score</th>\n      <th>fitness</th>\n      <th>solution</th>\n      <th>corr</th>\n      <th>tune_results_history</th>\n      <th>fitness_rule</th>\n      <th>method</th>\n      <th>dataset</th>\n      <th>best_solution_tf_history</th>\n    </tr>\n  </thead>\n  <tbody>\n    <tr>\n      <th>0</th>\n      <td>0.879633</td>\n      <td>0.824660</td>\n      <td>0.221741</td>\n      <td>0.739824</td>\n      <td>0.048843</td>\n      <td>0.414511</td>\n      <td>0.061900</td>\n      <td>0.750000</td>\n      <td>0.899320</td>\n      <td>0.100680</td>\n      <td>...</td>\n      <td>0.564237</td>\n      <td>0.621649</td>\n      <td>0.515393</td>\n      <td>{'dropout': 0.1378715585343612, 'privileged_de...</td>\n      <td>NaN</td>\n      <td>[{'overall_acc': 0.8888888888888888, 'bal_acc'...</td>\n      <td>mcc_parity</td>\n      <td>ftl_mlp_initializer</td>\n      <td>bank_dataset_reader</td>\n      <td>{'loss': [0.3116914632162805, 0.25669191370064...</td>\n    </tr>\n    <tr>\n      <th>1</th>\n      <td>0.889472</td>\n      <td>0.822149</td>\n      <td>0.060966</td>\n      <td>1.325740</td>\n      <td>0.054601</td>\n      <td>0.085032</td>\n      <td>0.059943</td>\n      <td>0.732120</td>\n      <td>0.912179</td>\n      <td>0.087821</td>\n      <td>...</td>\n      <td>0.570648</td>\n      <td>0.625556</td>\n      <td>0.516047</td>\n      <td>{'l2': 0.01, 'dropout': 0.1332251502720709, 'p...</td>\n      <td>[1.0, 0.007689367415894552, 0.0179196949542496...</td>\n      <td>[{'overall_acc': 0.9040590405904059, 'bal_acc'...</td>\n      <td>mcc_parity</td>\n      <td>ftl_mlp_preg_initializer</td>\n      <td>bank_dataset_reader</td>\n      <td>{'loss': [0.31384556477981995, 0.2603439912264...</td>\n    </tr>\n    <tr>\n      <th>2</th>\n      <td>0.869465</td>\n      <td>0.850119</td>\n      <td>0.077815</td>\n      <td>1.317943</td>\n      <td>0.068115</td>\n      <td>0.142911</td>\n      <td>0.056539</td>\n      <td>0.823821</td>\n      <td>0.876417</td>\n      <td>0.123583</td>\n      <td>...</td>\n      <td>0.576172</td>\n      <td>0.625235</td>\n      <td>0.508056</td>\n      <td>{'l2': 0.001, 'dropout': 0.012254051999757744,...</td>\n      <td>[0.9999999999999999, 0.013781101062701062, 0.0...</td>\n      <td>[{'overall_acc': 0.8872488724887249, 'bal_acc'...</td>\n      <td>mcc_parity</td>\n      <td>ftl_mlp_sreg_initializer</td>\n      <td>bank_dataset_reader</td>\n      <td>{'loss': [0.2767862527408522, 0.22369481209353...</td>\n    </tr>\n    <tr>\n      <th>3</th>\n      <td>0.870941</td>\n      <td>0.851805</td>\n      <td>0.041738</td>\n      <td>1.669665</td>\n      <td>0.136583</td>\n      <td>0.002869</td>\n      <td>0.054321</td>\n      <td>0.826558</td>\n      <td>0.877052</td>\n      <td>0.122948</td>\n      <td>...</td>\n      <td>0.565306</td>\n      <td>0.607872</td>\n      <td>0.523568</td>\n      <td>{'dropout': 0.07708775474706811, 'privileged_d...</td>\n      <td>NaN</td>\n      <td>[{'overall_acc': 0.11992619926199262, 'bal_acc...</td>\n      <td>mcc_odds</td>\n      <td>ftl_mlp_initializer</td>\n      <td>bank_dataset_reader</td>\n      <td>{'loss': [0.31521967323319167, 0.2780486762898...</td>\n    </tr>\n    <tr>\n      <th>4</th>\n      <td>0.889636</td>\n      <td>0.816130</td>\n      <td>0.102769</td>\n      <td>0.988805</td>\n      <td>0.001864</td>\n      <td>0.182242</td>\n      <td>0.062080</td>\n      <td>0.717005</td>\n      <td>0.915254</td>\n      <td>0.084746</td>\n      <td>...</td>\n      <td>0.569394</td>\n      <td>0.626733</td>\n      <td>0.466624</td>\n      <td>{'l2': 0.01, 'dropout': 0.08245243158440899, '...</td>\n      <td>[1.0, 0.008261333577649804, 0.0086909772742412...</td>\n      <td>[{'overall_acc': 0.11562115621156212, 'bal_acc...</td>\n      <td>mcc_odds</td>\n      <td>ftl_mlp_preg_initializer</td>\n      <td>bank_dataset_reader</td>\n      <td>{'loss': [0.3658251037052305, 0.29424992402408...</td>\n    </tr>\n    <tr>\n      <th>...</th>\n      <td>...</td>\n      <td>...</td>\n      <td>...</td>\n      <td>...</td>\n      <td>...</td>\n      <td>...</td>\n      <td>...</td>\n      <td>...</td>\n      <td>...</td>\n      <td>...</td>\n      <td>...</td>\n      <td>...</td>\n      <td>...</td>\n      <td>...</td>\n      <td>...</td>\n      <td>...</td>\n      <td>...</td>\n      <td>...</td>\n      <td>...</td>\n      <td>...</td>\n      <td>...</td>\n    </tr>\n    <tr>\n      <th>754</th>\n      <td>0.755000</td>\n      <td>0.500000</td>\n      <td>0.000000</td>\n      <td>1.000000</td>\n      <td>0.000000</td>\n      <td>0.000000</td>\n      <td>0.053669</td>\n      <td>1.000000</td>\n      <td>0.000000</td>\n      <td>1.000000</td>\n      <td>...</td>\n      <td>0.000000</td>\n      <td>0.860399</td>\n      <td>0.000000</td>\n      <td>{'l2': 0.01, 'corr_type': 'pearson', 'privileg...</td>\n      <td>[0.08729302740614661, 0.1126330352709721, 0.06...</td>\n      <td>[{'overall_acc': 0.4375, 'bal_acc': 0.49313186...</td>\n      <td>mcc_odds</td>\n      <td>ftl_mlp_auto_reg_initializer</td>\n      <td>german_dataset_reader</td>\n      <td>{'loss': [0.8590578436851501, 0.81151354312896...</td>\n    </tr>\n    <tr>\n      <th>755</th>\n      <td>0.720000</td>\n      <td>0.726535</td>\n      <td>0.234824</td>\n      <td>0.647402</td>\n      <td>0.237799</td>\n      <td>0.201250</td>\n      <td>0.263661</td>\n      <td>0.712329</td>\n      <td>0.740741</td>\n      <td>0.259259</td>\n      <td>...</td>\n      <td>0.408969</td>\n      <td>0.787879</td>\n      <td>0.207719</td>\n      <td>{'l2': 0.01, 'corr_type': 'none', 'privileged_...</td>\n      <td>NaN</td>\n      <td>[{'overall_acc': 0.725, 'bal_acc': 0.627039627...</td>\n      <td>mcc_opportunity</td>\n      <td>ftl_mlp_auto_reg_initializer</td>\n      <td>german_dataset_reader</td>\n      <td>{'loss': [0.6630194783210754, 0.64666181802749...</td>\n    </tr>\n    <tr>\n      <th>756</th>\n      <td>0.765000</td>\n      <td>0.683288</td>\n      <td>0.031920</td>\n      <td>0.958327</td>\n      <td>0.032079</td>\n      <td>0.050327</td>\n      <td>0.151130</td>\n      <td>0.857143</td>\n      <td>0.509434</td>\n      <td>0.490566</td>\n      <td>...</td>\n      <td>0.378808</td>\n      <td>0.842809</td>\n      <td>0.732921</td>\n      <td>{'l2': 0.001, 'corr_type': 'none', 'privileged...</td>\n      <td>NaN</td>\n      <td>[{'overall_acc': 0.675, 'bal_acc': 0.5, 'avg_o...</td>\n      <td>acc_parity</td>\n      <td>ftl_mlp_auto_reg_initializer</td>\n      <td>german_dataset_reader</td>\n      <td>{'loss': [0.6309508681297302, 0.59258335828781...</td>\n    </tr>\n    <tr>\n      <th>757</th>\n      <td>0.660000</td>\n      <td>0.500000</td>\n      <td>0.000000</td>\n      <td>1.000000</td>\n      <td>0.000000</td>\n      <td>0.000000</td>\n      <td>0.059077</td>\n      <td>1.000000</td>\n      <td>0.000000</td>\n      <td>1.000000</td>\n      <td>...</td>\n      <td>0.000000</td>\n      <td>0.795181</td>\n      <td>0.660000</td>\n      <td>{'l2': 0.0001, 'corr_type': 'spearman', 'privi...</td>\n      <td>[0.05028610977355817, 0.11575029414705006, 0.0...</td>\n      <td>[{'overall_acc': 0.30625, 'bal_acc': 0.5, 'avg...</td>\n      <td>acc_odds</td>\n      <td>ftl_mlp_auto_reg_initializer</td>\n      <td>german_dataset_reader</td>\n      <td>{'loss': [0.7330774664878845, 0.71253484487533...</td>\n    </tr>\n    <tr>\n      <th>758</th>\n      <td>0.680000</td>\n      <td>0.685791</td>\n      <td>0.132176</td>\n      <td>0.846293</td>\n      <td>0.093407</td>\n      <td>0.020412</td>\n      <td>0.306381</td>\n      <td>0.673469</td>\n      <td>0.698113</td>\n      <td>0.301887</td>\n      <td>...</td>\n      <td>0.331737</td>\n      <td>0.755725</td>\n      <td>0.659588</td>\n      <td>{'l2': 0.01, 'corr_type': 'none', 'privileged_...</td>\n      <td>NaN</td>\n      <td>[{'overall_acc': 0.2, 'bal_acc': 0.28764166216...</td>\n      <td>acc_opportunity</td>\n      <td>ftl_mlp_auto_reg_initializer</td>\n      <td>german_dataset_reader</td>\n      <td>{'loss': [0.6579881310462952, 0.61434358358383...</td>\n    </tr>\n  </tbody>\n</table>\n<p>759 rows × 30 columns</p>\n</div>"
     },
     "execution_count": 10,
     "metadata": {},
     "output_type": "execute_result"
    }
   ],
   "source": [
    "ftl_results = read_csv_files_from_folder('ftl_results')\n",
    "ftl_baseline_results = ftl_results[ftl_results.method == 'ftl_mlp_initializer']\n",
    "ftl_pearson_results = ftl_results[ftl_results.method == 'ftl_mlp_preg_initializer']\n",
    "ftl_spearman_results = ftl_results[ftl_results.method == 'ftl_mlp_sreg_initializer']\n",
    "ftl_auto_reg_results = ftl_results[ftl_results.method == 'ftl_mlp_auto_reg_initializer']\n",
    "\n",
    "csv_path = 'ftl_baseline_results' + '.csv'\n",
    "ftl_baseline_results.reset_index(drop=True, inplace=True)\n",
    "ftl_baseline_results[cols].to_csv(csv_path, index=False)\n",
    "\n",
    "csv_path = 'ftl_pearson_results' + '.csv'\n",
    "ftl_pearson_results.reset_index(drop=True, inplace=True)\n",
    "ftl_pearson_results[cols].to_csv(csv_path, index=False)\n",
    "\n",
    "csv_path = 'ftl_spearman_results' + '.csv'\n",
    "ftl_spearman_results.reset_index(drop=True, inplace=True)\n",
    "ftl_spearman_results[cols].to_csv(csv_path, index=False)\n",
    "\n",
    "csv_path = 'ftl_auto_reg_results' + '.csv'\n",
    "ftl_auto_reg_results.reset_index(drop=True, inplace=True)\n",
    "ftl_auto_reg_results[cols].to_csv(csv_path, index=False)\n",
    "\n",
    "ftl_results"
   ],
   "metadata": {
    "collapsed": false,
    "ExecuteTime": {
     "end_time": "2024-05-09T22:50:46.884830816Z",
     "start_time": "2024-05-09T22:50:46.050937131Z"
    }
   }
  },
  {
   "cell_type": "code",
   "execution_count": 10,
   "outputs": [],
   "source": [],
   "metadata": {
    "collapsed": false,
    "ExecuteTime": {
     "end_time": "2024-05-09T22:50:46.889694233Z",
     "start_time": "2024-05-09T22:50:46.883077796Z"
    }
   }
  },
  {
   "cell_type": "code",
   "outputs": [],
   "source": [],
   "metadata": {
    "collapsed": false,
    "ExecuteTime": {
     "end_time": "2024-05-09T22:50:46.890079243Z",
     "start_time": "2024-05-09T22:50:46.888271888Z"
    }
   },
   "execution_count": 10
  }
 ],
 "metadata": {
  "kernelspec": {
   "display_name": "Python 3",
   "language": "python",
   "name": "python3"
  },
  "language_info": {
   "codemirror_mode": {
    "name": "ipython",
    "version": 2
   },
   "file_extension": ".py",
   "mimetype": "text/x-python",
   "name": "python",
   "nbconvert_exporter": "python",
   "pygments_lexer": "ipython2",
   "version": "2.7.6"
  }
 },
 "nbformat": 4,
 "nbformat_minor": 0
}
