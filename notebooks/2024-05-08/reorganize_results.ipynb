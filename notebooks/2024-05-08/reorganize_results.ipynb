{
 "cells": [
  {
   "cell_type": "code",
   "execution_count": 5,
   "metadata": {
    "collapsed": true,
    "ExecuteTime": {
     "end_time": "2024-05-18T15:53:41.217996670Z",
     "start_time": "2024-05-18T15:53:41.210725903Z"
    }
   },
   "outputs": [],
   "source": [
    "import pandas as pd\n",
    "import os\n",
    "from IPython.display import display"
   ]
  },
  {
   "cell_type": "code",
   "execution_count": 6,
   "outputs": [],
   "source": [
    "def read_csv_files_from_folder(folder_path):\n",
    "    # Initialize an empty list to store DataFrames\n",
    "    dfs = []\n",
    "\n",
    "    # Get a list of files in the folder\n",
    "    file_list = os.listdir(folder_path)\n",
    "\n",
    "    # Iterate through the files in the folder\n",
    "    for file_name in file_list:\n",
    "        # Check if the file has a .csv extension\n",
    "        if file_name.endswith(\".csv\"):\n",
    "            file_path = os.path.join(folder_path, file_name)\n",
    "\n",
    "            # Read the CSV file into a DataFrame\n",
    "            df = pd.read_csv(file_path, index_col=0, header=0)\n",
    "\n",
    "            # Append the DataFrame to the list\n",
    "            dfs.append(df)\n",
    "\n",
    "    # Concatenate all DataFrames into a single DataFrame\n",
    "    combined_df = pd.concat(dfs, ignore_index=True)\n",
    "\n",
    "    return combined_df"
   ],
   "metadata": {
    "collapsed": false,
    "ExecuteTime": {
     "end_time": "2024-05-18T15:53:41.219885855Z",
     "start_time": "2024-05-18T15:53:41.218256615Z"
    }
   }
  },
  {
   "cell_type": "code",
   "execution_count": 7,
   "outputs": [],
   "source": [
    "cols = ['dataset', 'method', 'fitness_rule', 'fitness', 'ACC', 'MCC', 'avg_odds_diff', 'stat_par_diff', 'eq_opp_diff', 'solution']"
   ],
   "metadata": {
    "collapsed": false,
    "ExecuteTime": {
     "end_time": "2024-05-18T15:53:41.230307762Z",
     "start_time": "2024-05-18T15:53:41.219957577Z"
    }
   }
  },
  {
   "cell_type": "code",
   "execution_count": 8,
   "outputs": [
    {
     "data": {
      "text/plain": "      overall_acc   bal_acc  avg_odds_diff  disp_imp  stat_par_diff  \\\n0        0.851299  0.776851       0.113127  0.302886       0.192633   \n1        0.851520  0.781719       0.111565  0.301498       0.198915   \n2        0.851410  0.780878       0.103235  0.319506       0.191606   \n3        0.844887  0.763239       0.082386  0.308388       0.183090   \n4        0.850857  0.775601       0.084687  0.332983       0.180366   \n...           ...       ...            ...       ...            ...   \n3692     0.790000  0.736491       0.043091  1.016502       0.011905   \n3693     0.790000  0.688927       0.151803  1.142244       0.110883   \n3694     0.640000  0.587186       0.088931  0.888889       0.078125   \n3695     0.720000  0.573337       0.046663  1.032787       0.028571   \n3696     0.785000  0.710000       0.103065  0.861921       0.109227   \n\n      eq_opp_diff  theil_ind       TPR       TNR       FPR  ...       MCC  \\\n0        0.142532   0.117850  0.628495  0.925206  0.074794  ...  0.585170   \n1        0.132052   0.113320  0.644856  0.918583  0.081417  ...  0.585500   \n2        0.124889   0.113980  0.642342  0.919414  0.080586  ...  0.585064   \n3        0.084174   0.126322  0.599383  0.927096  0.072904  ...  0.565373   \n4        0.093891   0.115760  0.629562  0.921640  0.078360  ...  0.577932   \n...           ...        ...       ...       ...       ...  ...       ...   \n3692     0.072250   0.150080  0.850340  0.622642  0.377358  ...  0.467493   \n3693     0.107527   0.095466  0.929577  0.448276  0.551724  ...  0.446281   \n3694     0.056122   0.255102  0.729927  0.444444  0.555556  ...  0.172935   \n3695     0.071446   0.109591  0.922535  0.224138  0.775862  ...  0.204808   \n3696     0.022222   0.146746  0.860000  0.560000  0.440000  ...  0.422857   \n\n      f1_score   fitness                                           solution  \\\n0     0.677999  0.392537                   {'dropout': 0.16228954240968418}   \n1     0.680314  0.473935                    {'dropout': 0.1482543145261793}   \n2     0.679695  0.460175                   {'dropout': 0.17861515209545933}   \n3     0.659714  0.661796                   {'dropout': 0.15655371267306142}   \n4     0.671696  0.766170                    {'dropout': 0.1698638434734938}   \n...        ...       ...                                                ...   \n3692  0.856164  0.424402  {'dropout': 0.09627165796913209, 'privileged_d...   \n3693  0.862745  0.338754  {'dropout': 0.08768559611858262, 'privileged_d...   \n3694  0.735294  0.561875  {'dropout': 0.17388236828937342, 'privileged_d...   \n3695  0.823899  0.673337  {'dropout': 0.03445845309731452, 'privileged_d...   \n3696  0.857143  0.762778  {'dropout': 0.07792231776757985, 'privileged_d...   \n\n      corr     fitness_rule                  method                dataset  \\\n0      NaN       mcc_parity  simple_mlp_initializer   adult_dataset_reader   \n1      NaN         mcc_odds  simple_mlp_initializer   adult_dataset_reader   \n2      NaN  mcc_opportunity  simple_mlp_initializer   adult_dataset_reader   \n3      NaN       acc_parity  simple_mlp_initializer   adult_dataset_reader   \n4      NaN         acc_odds  simple_mlp_initializer   adult_dataset_reader   \n...    ...              ...                     ...                    ...   \n3692   NaN         mcc_odds     ftl_mlp_initializer  german_dataset_reader   \n3693   NaN  mcc_opportunity     ftl_mlp_initializer  german_dataset_reader   \n3694   NaN       acc_parity     ftl_mlp_initializer  german_dataset_reader   \n3695   NaN         acc_odds     ftl_mlp_initializer  german_dataset_reader   \n3696   NaN  acc_opportunity     ftl_mlp_initializer  german_dataset_reader   \n\n                               best_solution_tf_history  \\\n0     {'loss': [0.3897703690160027, 0.34068391078622...   \n1     {'loss': [0.4009664287344603, 0.34305514207044...   \n2     {'loss': [0.40314989690662156, 0.3452559707361...   \n3     {'loss': [0.3903123053694252, 0.33910286278168...   \n4     {'loss': [0.39678069996564325, 0.3418175098418...   \n...                                                 ...   \n3692  {'loss': [0.6376810073852539, 0.61503809690475...   \n3693  {'loss': [0.6772245764732361, 0.64736610651016...   \n3694  {'loss': [0.6499606370925903, 0.61459320783615...   \n3695  {'loss': [0.7265857458114624, 0.68753087520599...   \n3696  {'loss': [0.7115918397903442, 0.64547181129455...   \n\n                                   tune_results_history  \n0                                                   NaN  \n1                                                   NaN  \n2                                                   NaN  \n3                                                   NaN  \n4                                                   NaN  \n...                                                 ...  \n3692  [{'overall_acc': 0.4125, 'bal_acc': 0.51663968...  \n3693  [{'overall_acc': 0.24375, 'bal_acc': 0.4461339...  \n3694  [{'overall_acc': 0.625, 'bal_acc': 0.5, 'avg_o...  \n3695  [{'overall_acc': 0.7125, 'bal_acc': 0.70747520...  \n3696  [{'overall_acc': 0.65, 'bal_acc': 0.5, 'avg_od...  \n\n[3697 rows x 30 columns]",
      "text/html": "<div>\n<style scoped>\n    .dataframe tbody tr th:only-of-type {\n        vertical-align: middle;\n    }\n\n    .dataframe tbody tr th {\n        vertical-align: top;\n    }\n\n    .dataframe thead th {\n        text-align: right;\n    }\n</style>\n<table border=\"1\" class=\"dataframe\">\n  <thead>\n    <tr style=\"text-align: right;\">\n      <th></th>\n      <th>overall_acc</th>\n      <th>bal_acc</th>\n      <th>avg_odds_diff</th>\n      <th>disp_imp</th>\n      <th>stat_par_diff</th>\n      <th>eq_opp_diff</th>\n      <th>theil_ind</th>\n      <th>TPR</th>\n      <th>TNR</th>\n      <th>FPR</th>\n      <th>...</th>\n      <th>MCC</th>\n      <th>f1_score</th>\n      <th>fitness</th>\n      <th>solution</th>\n      <th>corr</th>\n      <th>fitness_rule</th>\n      <th>method</th>\n      <th>dataset</th>\n      <th>best_solution_tf_history</th>\n      <th>tune_results_history</th>\n    </tr>\n  </thead>\n  <tbody>\n    <tr>\n      <th>0</th>\n      <td>0.851299</td>\n      <td>0.776851</td>\n      <td>0.113127</td>\n      <td>0.302886</td>\n      <td>0.192633</td>\n      <td>0.142532</td>\n      <td>0.117850</td>\n      <td>0.628495</td>\n      <td>0.925206</td>\n      <td>0.074794</td>\n      <td>...</td>\n      <td>0.585170</td>\n      <td>0.677999</td>\n      <td>0.392537</td>\n      <td>{'dropout': 0.16228954240968418}</td>\n      <td>NaN</td>\n      <td>mcc_parity</td>\n      <td>simple_mlp_initializer</td>\n      <td>adult_dataset_reader</td>\n      <td>{'loss': [0.3897703690160027, 0.34068391078622...</td>\n      <td>NaN</td>\n    </tr>\n    <tr>\n      <th>1</th>\n      <td>0.851520</td>\n      <td>0.781719</td>\n      <td>0.111565</td>\n      <td>0.301498</td>\n      <td>0.198915</td>\n      <td>0.132052</td>\n      <td>0.113320</td>\n      <td>0.644856</td>\n      <td>0.918583</td>\n      <td>0.081417</td>\n      <td>...</td>\n      <td>0.585500</td>\n      <td>0.680314</td>\n      <td>0.473935</td>\n      <td>{'dropout': 0.1482543145261793}</td>\n      <td>NaN</td>\n      <td>mcc_odds</td>\n      <td>simple_mlp_initializer</td>\n      <td>adult_dataset_reader</td>\n      <td>{'loss': [0.4009664287344603, 0.34305514207044...</td>\n      <td>NaN</td>\n    </tr>\n    <tr>\n      <th>2</th>\n      <td>0.851410</td>\n      <td>0.780878</td>\n      <td>0.103235</td>\n      <td>0.319506</td>\n      <td>0.191606</td>\n      <td>0.124889</td>\n      <td>0.113980</td>\n      <td>0.642342</td>\n      <td>0.919414</td>\n      <td>0.080586</td>\n      <td>...</td>\n      <td>0.585064</td>\n      <td>0.679695</td>\n      <td>0.460175</td>\n      <td>{'dropout': 0.17861515209545933}</td>\n      <td>NaN</td>\n      <td>mcc_opportunity</td>\n      <td>simple_mlp_initializer</td>\n      <td>adult_dataset_reader</td>\n      <td>{'loss': [0.40314989690662156, 0.3452559707361...</td>\n      <td>NaN</td>\n    </tr>\n    <tr>\n      <th>3</th>\n      <td>0.844887</td>\n      <td>0.763239</td>\n      <td>0.082386</td>\n      <td>0.308388</td>\n      <td>0.183090</td>\n      <td>0.084174</td>\n      <td>0.126322</td>\n      <td>0.599383</td>\n      <td>0.927096</td>\n      <td>0.072904</td>\n      <td>...</td>\n      <td>0.565373</td>\n      <td>0.659714</td>\n      <td>0.661796</td>\n      <td>{'dropout': 0.15655371267306142}</td>\n      <td>NaN</td>\n      <td>acc_parity</td>\n      <td>simple_mlp_initializer</td>\n      <td>adult_dataset_reader</td>\n      <td>{'loss': [0.3903123053694252, 0.33910286278168...</td>\n      <td>NaN</td>\n    </tr>\n    <tr>\n      <th>4</th>\n      <td>0.850857</td>\n      <td>0.775601</td>\n      <td>0.084687</td>\n      <td>0.332983</td>\n      <td>0.180366</td>\n      <td>0.093891</td>\n      <td>0.115760</td>\n      <td>0.629562</td>\n      <td>0.921640</td>\n      <td>0.078360</td>\n      <td>...</td>\n      <td>0.577932</td>\n      <td>0.671696</td>\n      <td>0.766170</td>\n      <td>{'dropout': 0.1698638434734938}</td>\n      <td>NaN</td>\n      <td>acc_odds</td>\n      <td>simple_mlp_initializer</td>\n      <td>adult_dataset_reader</td>\n      <td>{'loss': [0.39678069996564325, 0.3418175098418...</td>\n      <td>NaN</td>\n    </tr>\n    <tr>\n      <th>...</th>\n      <td>...</td>\n      <td>...</td>\n      <td>...</td>\n      <td>...</td>\n      <td>...</td>\n      <td>...</td>\n      <td>...</td>\n      <td>...</td>\n      <td>...</td>\n      <td>...</td>\n      <td>...</td>\n      <td>...</td>\n      <td>...</td>\n      <td>...</td>\n      <td>...</td>\n      <td>...</td>\n      <td>...</td>\n      <td>...</td>\n      <td>...</td>\n      <td>...</td>\n      <td>...</td>\n    </tr>\n    <tr>\n      <th>3692</th>\n      <td>0.790000</td>\n      <td>0.736491</td>\n      <td>0.043091</td>\n      <td>1.016502</td>\n      <td>0.011905</td>\n      <td>0.072250</td>\n      <td>0.150080</td>\n      <td>0.850340</td>\n      <td>0.622642</td>\n      <td>0.377358</td>\n      <td>...</td>\n      <td>0.467493</td>\n      <td>0.856164</td>\n      <td>0.424402</td>\n      <td>{'dropout': 0.09627165796913209, 'privileged_d...</td>\n      <td>NaN</td>\n      <td>mcc_odds</td>\n      <td>ftl_mlp_initializer</td>\n      <td>german_dataset_reader</td>\n      <td>{'loss': [0.6376810073852539, 0.61503809690475...</td>\n      <td>[{'overall_acc': 0.4125, 'bal_acc': 0.51663968...</td>\n    </tr>\n    <tr>\n      <th>3693</th>\n      <td>0.790000</td>\n      <td>0.688927</td>\n      <td>0.151803</td>\n      <td>1.142244</td>\n      <td>0.110883</td>\n      <td>0.107527</td>\n      <td>0.095466</td>\n      <td>0.929577</td>\n      <td>0.448276</td>\n      <td>0.551724</td>\n      <td>...</td>\n      <td>0.446281</td>\n      <td>0.862745</td>\n      <td>0.338754</td>\n      <td>{'dropout': 0.08768559611858262, 'privileged_d...</td>\n      <td>NaN</td>\n      <td>mcc_opportunity</td>\n      <td>ftl_mlp_initializer</td>\n      <td>german_dataset_reader</td>\n      <td>{'loss': [0.6772245764732361, 0.64736610651016...</td>\n      <td>[{'overall_acc': 0.24375, 'bal_acc': 0.4461339...</td>\n    </tr>\n    <tr>\n      <th>3694</th>\n      <td>0.640000</td>\n      <td>0.587186</td>\n      <td>0.088931</td>\n      <td>0.888889</td>\n      <td>0.078125</td>\n      <td>0.056122</td>\n      <td>0.255102</td>\n      <td>0.729927</td>\n      <td>0.444444</td>\n      <td>0.555556</td>\n      <td>...</td>\n      <td>0.172935</td>\n      <td>0.735294</td>\n      <td>0.561875</td>\n      <td>{'dropout': 0.17388236828937342, 'privileged_d...</td>\n      <td>NaN</td>\n      <td>acc_parity</td>\n      <td>ftl_mlp_initializer</td>\n      <td>german_dataset_reader</td>\n      <td>{'loss': [0.6499606370925903, 0.61459320783615...</td>\n      <td>[{'overall_acc': 0.625, 'bal_acc': 0.5, 'avg_o...</td>\n    </tr>\n    <tr>\n      <th>3695</th>\n      <td>0.720000</td>\n      <td>0.573337</td>\n      <td>0.046663</td>\n      <td>1.032787</td>\n      <td>0.028571</td>\n      <td>0.071446</td>\n      <td>0.109591</td>\n      <td>0.922535</td>\n      <td>0.224138</td>\n      <td>0.775862</td>\n      <td>...</td>\n      <td>0.204808</td>\n      <td>0.823899</td>\n      <td>0.673337</td>\n      <td>{'dropout': 0.03445845309731452, 'privileged_d...</td>\n      <td>NaN</td>\n      <td>acc_odds</td>\n      <td>ftl_mlp_initializer</td>\n      <td>german_dataset_reader</td>\n      <td>{'loss': [0.7265857458114624, 0.68753087520599...</td>\n      <td>[{'overall_acc': 0.7125, 'bal_acc': 0.70747520...</td>\n    </tr>\n    <tr>\n      <th>3696</th>\n      <td>0.785000</td>\n      <td>0.710000</td>\n      <td>0.103065</td>\n      <td>0.861921</td>\n      <td>0.109227</td>\n      <td>0.022222</td>\n      <td>0.146746</td>\n      <td>0.860000</td>\n      <td>0.560000</td>\n      <td>0.440000</td>\n      <td>...</td>\n      <td>0.422857</td>\n      <td>0.857143</td>\n      <td>0.762778</td>\n      <td>{'dropout': 0.07792231776757985, 'privileged_d...</td>\n      <td>NaN</td>\n      <td>acc_opportunity</td>\n      <td>ftl_mlp_initializer</td>\n      <td>german_dataset_reader</td>\n      <td>{'loss': [0.7115918397903442, 0.64547181129455...</td>\n      <td>[{'overall_acc': 0.65, 'bal_acc': 0.5, 'avg_od...</td>\n    </tr>\n  </tbody>\n</table>\n<p>3697 rows × 30 columns</p>\n</div>"
     },
     "execution_count": 8,
     "metadata": {},
     "output_type": "execute_result"
    }
   ],
   "source": [
    "results = read_csv_files_from_folder('results')\n",
    "\n",
    "for method in results.method:\n",
    "    method_results = results[results.method == method]\n",
    "    csv_path = f\"{method.replace('_initializer','')}_results.csv\"\n",
    "    method_results.reset_index(drop=True, inplace=True)\n",
    "    method_results[cols].to_csv(csv_path, index=False)\n",
    "\n",
    "results"
   ],
   "metadata": {
    "collapsed": false,
    "ExecuteTime": {
     "end_time": "2024-05-18T15:54:03.200525478Z",
     "start_time": "2024-05-18T15:53:41.262893679Z"
    }
   }
  },
  {
   "cell_type": "code",
   "execution_count": 8,
   "outputs": [],
   "source": [],
   "metadata": {
    "collapsed": false,
    "ExecuteTime": {
     "end_time": "2024-05-18T15:54:03.200778474Z",
     "start_time": "2024-05-18T15:54:03.197929646Z"
    }
   }
  },
  {
   "cell_type": "code",
   "outputs": [],
   "source": [],
   "metadata": {
    "collapsed": false,
    "ExecuteTime": {
     "end_time": "2024-05-18T15:54:03.203994959Z",
     "start_time": "2024-05-18T15:54:03.199914666Z"
    }
   },
   "execution_count": 8
  }
 ],
 "metadata": {
  "kernelspec": {
   "display_name": "Python 3",
   "language": "python",
   "name": "python3"
  },
  "language_info": {
   "codemirror_mode": {
    "name": "ipython",
    "version": 2
   },
   "file_extension": ".py",
   "mimetype": "text/x-python",
   "name": "python",
   "nbconvert_exporter": "python",
   "pygments_lexer": "ipython2",
   "version": "2.7.6"
  }
 },
 "nbformat": 4,
 "nbformat_minor": 0
}
