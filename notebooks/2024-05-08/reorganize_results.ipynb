{
 "cells": [
  {
   "cell_type": "code",
   "execution_count": 43,
   "metadata": {
    "collapsed": true,
    "ExecuteTime": {
     "end_time": "2024-05-08T13:55:30.730713665Z",
     "start_time": "2024-05-08T13:55:30.658526043Z"
    }
   },
   "outputs": [],
   "source": [
    "import pandas as pd\n",
    "import os\n",
    "from IPython.display import display"
   ]
  },
  {
   "cell_type": "code",
   "execution_count": 44,
   "outputs": [],
   "source": [
    "def read_csv_files_from_folder(folder_path):\n",
    "    # Initialize an empty list to store DataFrames\n",
    "    dfs = []\n",
    "\n",
    "    # Get a list of files in the folder\n",
    "    file_list = os.listdir(folder_path)\n",
    "\n",
    "    # Iterate through the files in the folder\n",
    "    for file_name in file_list:\n",
    "        # Check if the file has a .csv extension\n",
    "        if file_name.endswith(\".csv\"):\n",
    "            file_path = os.path.join(folder_path, file_name)\n",
    "\n",
    "            # Read the CSV file into a DataFrame\n",
    "            df = pd.read_csv(file_path, index_col=0)\n",
    "\n",
    "            # Append the DataFrame to the list\n",
    "            dfs.append(df)\n",
    "\n",
    "    # Concatenate all DataFrames into a single DataFrame\n",
    "    combined_df = pd.concat(dfs, ignore_index=True)\n",
    "\n",
    "    return combined_df"
   ],
   "metadata": {
    "collapsed": false,
    "ExecuteTime": {
     "end_time": "2024-05-08T13:55:30.761122645Z",
     "start_time": "2024-05-08T13:55:30.725847256Z"
    }
   }
  },
  {
   "cell_type": "code",
   "execution_count": 45,
   "outputs": [],
   "source": [
    "cols = ['dataset', 'method', 'fitness_rule', 'fitness', 'ACC', 'MCC', 'avg_odds_diff', 'stat_par_diff', 'eq_opp_diff', 'solution']"
   ],
   "metadata": {
    "collapsed": false,
    "ExecuteTime": {
     "end_time": "2024-05-08T13:55:30.794590956Z",
     "start_time": "2024-05-08T13:55:30.736330233Z"
    }
   }
  },
  {
   "cell_type": "code",
   "execution_count": 46,
   "outputs": [
    {
     "data": {
      "text/plain": "     overall_acc   bal_acc  avg_odds_diff  disp_imp  stat_par_diff  \\\n0       0.851299  0.776851       0.113127  0.302886       0.192633   \n1       0.851520  0.781719       0.111565  0.301498       0.198915   \n2       0.851410  0.780878       0.103235  0.319506       0.191606   \n3       0.844887  0.763239       0.082386  0.308388       0.183090   \n4       0.850857  0.775601       0.084687  0.332983       0.180366   \n..           ...       ...            ...       ...            ...   \n625     0.795000  0.701190       0.061373  0.879253       0.101725   \n626     0.775000  0.697535       0.073028  0.856818       0.118495   \n627     0.765000  0.672817       0.088074  0.877632       0.099015   \n628     0.785000  0.734163       0.256057  0.671651       0.261292   \n629     0.770000  0.677743       0.104908  0.808713       0.160114   \n\n     eq_opp_diff  theil_ind       TPR       TNR       FPR  ...       ACC  \\\n0       0.142532   0.117850  0.628495  0.925206  0.074794  ...  0.851299   \n1       0.132052   0.113320  0.644856  0.918583  0.081417  ...  0.851520   \n2       0.124889   0.113980  0.642342  0.919414  0.080586  ...  0.851410   \n3       0.084174   0.126322  0.599383  0.927096  0.072904  ...  0.844887   \n4       0.093891   0.115760  0.629562  0.921640  0.078360  ...  0.850857   \n..           ...        ...       ...       ...       ...  ...       ...   \n625     0.034834   0.090076  0.935714  0.466667  0.533333  ...  0.795000   \n626     0.066176   0.097863  0.925373  0.469697  0.530303  ...  0.775000   \n627     0.024723   0.146420  0.864865  0.480769  0.519231  ...  0.765000   \n628     0.107937   0.142179  0.858156  0.610169  0.389831  ...  0.785000   \n629     0.085148   0.131366  0.882759  0.472727  0.527273  ...  0.770000   \n\n          MCC  f1_score   fitness                          solution  corr  \\\n0    0.585170  0.677999  0.392537  {'dropout': 0.16228954240968418}   NaN   \n1    0.585500  0.680314  0.473935   {'dropout': 0.1482543145261793}   NaN   \n2    0.585064  0.679695  0.460175  {'dropout': 0.17861515209545933}   NaN   \n3    0.565373  0.659714  0.661796  {'dropout': 0.15655371267306142}   NaN   \n4    0.577932  0.671696  0.766170   {'dropout': 0.1698638434734938}   NaN   \n..        ...       ...       ...                               ...   ...   \n625  0.474878  0.864686  0.413505  {'dropout': 0.04174378541383102}   NaN   \n626  0.460159  0.846416  0.393983  {'dropout': 0.15414316585162524}   NaN   \n627  0.363059  0.844884  0.665985  {'dropout': 0.11471946539325475}   NaN   \n628  0.475673  0.849123  0.528943  {'dropout': 0.10025775349172394}   NaN   \n629  0.386370  0.847682  0.684852  {'dropout': 0.05003579439121596}   NaN   \n\n        fitness_rule                  method                dataset  \\\n0         mcc_parity  simple_mlp_initializer   adult_dataset_reader   \n1           mcc_odds  simple_mlp_initializer   adult_dataset_reader   \n2    mcc_opportunity  simple_mlp_initializer   adult_dataset_reader   \n3         acc_parity  simple_mlp_initializer   adult_dataset_reader   \n4           acc_odds  simple_mlp_initializer   adult_dataset_reader   \n..               ...                     ...                    ...   \n625         mcc_odds  simple_mlp_initializer  german_dataset_reader   \n626  mcc_opportunity  simple_mlp_initializer  german_dataset_reader   \n627       acc_parity  simple_mlp_initializer  german_dataset_reader   \n628         acc_odds  simple_mlp_initializer  german_dataset_reader   \n629  acc_opportunity  simple_mlp_initializer  german_dataset_reader   \n\n                              best_solution_tf_history  \n0    {'loss': [0.3897703690160027, 0.34068391078622...  \n1    {'loss': [0.4009664287344603, 0.34305514207044...  \n2    {'loss': [0.40314989690662156, 0.3452559707361...  \n3    {'loss': [0.3903123053694252, 0.33910286278168...  \n4    {'loss': [0.39678069996564325, 0.3418175098418...  \n..                                                 ...  \n625  {'loss': [0.659037059545517, 0.591483239332834...  \n626  {'loss': [0.6557630883322821, 0.58877752489513...  \n627  {'loss': [0.675941018263499, 0.615310306019253...  \n628  {'loss': [0.6868500908215841, 0.59347383711073...  \n629  {'loss': [0.7784001721276177, 0.65875955952538...  \n\n[630 rows x 29 columns]",
      "text/html": "<div>\n<style scoped>\n    .dataframe tbody tr th:only-of-type {\n        vertical-align: middle;\n    }\n\n    .dataframe tbody tr th {\n        vertical-align: top;\n    }\n\n    .dataframe thead th {\n        text-align: right;\n    }\n</style>\n<table border=\"1\" class=\"dataframe\">\n  <thead>\n    <tr style=\"text-align: right;\">\n      <th></th>\n      <th>overall_acc</th>\n      <th>bal_acc</th>\n      <th>avg_odds_diff</th>\n      <th>disp_imp</th>\n      <th>stat_par_diff</th>\n      <th>eq_opp_diff</th>\n      <th>theil_ind</th>\n      <th>TPR</th>\n      <th>TNR</th>\n      <th>FPR</th>\n      <th>...</th>\n      <th>ACC</th>\n      <th>MCC</th>\n      <th>f1_score</th>\n      <th>fitness</th>\n      <th>solution</th>\n      <th>corr</th>\n      <th>fitness_rule</th>\n      <th>method</th>\n      <th>dataset</th>\n      <th>best_solution_tf_history</th>\n    </tr>\n  </thead>\n  <tbody>\n    <tr>\n      <th>0</th>\n      <td>0.851299</td>\n      <td>0.776851</td>\n      <td>0.113127</td>\n      <td>0.302886</td>\n      <td>0.192633</td>\n      <td>0.142532</td>\n      <td>0.117850</td>\n      <td>0.628495</td>\n      <td>0.925206</td>\n      <td>0.074794</td>\n      <td>...</td>\n      <td>0.851299</td>\n      <td>0.585170</td>\n      <td>0.677999</td>\n      <td>0.392537</td>\n      <td>{'dropout': 0.16228954240968418}</td>\n      <td>NaN</td>\n      <td>mcc_parity</td>\n      <td>simple_mlp_initializer</td>\n      <td>adult_dataset_reader</td>\n      <td>{'loss': [0.3897703690160027, 0.34068391078622...</td>\n    </tr>\n    <tr>\n      <th>1</th>\n      <td>0.851520</td>\n      <td>0.781719</td>\n      <td>0.111565</td>\n      <td>0.301498</td>\n      <td>0.198915</td>\n      <td>0.132052</td>\n      <td>0.113320</td>\n      <td>0.644856</td>\n      <td>0.918583</td>\n      <td>0.081417</td>\n      <td>...</td>\n      <td>0.851520</td>\n      <td>0.585500</td>\n      <td>0.680314</td>\n      <td>0.473935</td>\n      <td>{'dropout': 0.1482543145261793}</td>\n      <td>NaN</td>\n      <td>mcc_odds</td>\n      <td>simple_mlp_initializer</td>\n      <td>adult_dataset_reader</td>\n      <td>{'loss': [0.4009664287344603, 0.34305514207044...</td>\n    </tr>\n    <tr>\n      <th>2</th>\n      <td>0.851410</td>\n      <td>0.780878</td>\n      <td>0.103235</td>\n      <td>0.319506</td>\n      <td>0.191606</td>\n      <td>0.124889</td>\n      <td>0.113980</td>\n      <td>0.642342</td>\n      <td>0.919414</td>\n      <td>0.080586</td>\n      <td>...</td>\n      <td>0.851410</td>\n      <td>0.585064</td>\n      <td>0.679695</td>\n      <td>0.460175</td>\n      <td>{'dropout': 0.17861515209545933}</td>\n      <td>NaN</td>\n      <td>mcc_opportunity</td>\n      <td>simple_mlp_initializer</td>\n      <td>adult_dataset_reader</td>\n      <td>{'loss': [0.40314989690662156, 0.3452559707361...</td>\n    </tr>\n    <tr>\n      <th>3</th>\n      <td>0.844887</td>\n      <td>0.763239</td>\n      <td>0.082386</td>\n      <td>0.308388</td>\n      <td>0.183090</td>\n      <td>0.084174</td>\n      <td>0.126322</td>\n      <td>0.599383</td>\n      <td>0.927096</td>\n      <td>0.072904</td>\n      <td>...</td>\n      <td>0.844887</td>\n      <td>0.565373</td>\n      <td>0.659714</td>\n      <td>0.661796</td>\n      <td>{'dropout': 0.15655371267306142}</td>\n      <td>NaN</td>\n      <td>acc_parity</td>\n      <td>simple_mlp_initializer</td>\n      <td>adult_dataset_reader</td>\n      <td>{'loss': [0.3903123053694252, 0.33910286278168...</td>\n    </tr>\n    <tr>\n      <th>4</th>\n      <td>0.850857</td>\n      <td>0.775601</td>\n      <td>0.084687</td>\n      <td>0.332983</td>\n      <td>0.180366</td>\n      <td>0.093891</td>\n      <td>0.115760</td>\n      <td>0.629562</td>\n      <td>0.921640</td>\n      <td>0.078360</td>\n      <td>...</td>\n      <td>0.850857</td>\n      <td>0.577932</td>\n      <td>0.671696</td>\n      <td>0.766170</td>\n      <td>{'dropout': 0.1698638434734938}</td>\n      <td>NaN</td>\n      <td>acc_odds</td>\n      <td>simple_mlp_initializer</td>\n      <td>adult_dataset_reader</td>\n      <td>{'loss': [0.39678069996564325, 0.3418175098418...</td>\n    </tr>\n    <tr>\n      <th>...</th>\n      <td>...</td>\n      <td>...</td>\n      <td>...</td>\n      <td>...</td>\n      <td>...</td>\n      <td>...</td>\n      <td>...</td>\n      <td>...</td>\n      <td>...</td>\n      <td>...</td>\n      <td>...</td>\n      <td>...</td>\n      <td>...</td>\n      <td>...</td>\n      <td>...</td>\n      <td>...</td>\n      <td>...</td>\n      <td>...</td>\n      <td>...</td>\n      <td>...</td>\n      <td>...</td>\n    </tr>\n    <tr>\n      <th>625</th>\n      <td>0.795000</td>\n      <td>0.701190</td>\n      <td>0.061373</td>\n      <td>0.879253</td>\n      <td>0.101725</td>\n      <td>0.034834</td>\n      <td>0.090076</td>\n      <td>0.935714</td>\n      <td>0.466667</td>\n      <td>0.533333</td>\n      <td>...</td>\n      <td>0.795000</td>\n      <td>0.474878</td>\n      <td>0.864686</td>\n      <td>0.413505</td>\n      <td>{'dropout': 0.04174378541383102}</td>\n      <td>NaN</td>\n      <td>mcc_odds</td>\n      <td>simple_mlp_initializer</td>\n      <td>german_dataset_reader</td>\n      <td>{'loss': [0.659037059545517, 0.591483239332834...</td>\n    </tr>\n    <tr>\n      <th>626</th>\n      <td>0.775000</td>\n      <td>0.697535</td>\n      <td>0.073028</td>\n      <td>0.856818</td>\n      <td>0.118495</td>\n      <td>0.066176</td>\n      <td>0.097863</td>\n      <td>0.925373</td>\n      <td>0.469697</td>\n      <td>0.530303</td>\n      <td>...</td>\n      <td>0.775000</td>\n      <td>0.460159</td>\n      <td>0.846416</td>\n      <td>0.393983</td>\n      <td>{'dropout': 0.15414316585162524}</td>\n      <td>NaN</td>\n      <td>mcc_opportunity</td>\n      <td>simple_mlp_initializer</td>\n      <td>german_dataset_reader</td>\n      <td>{'loss': [0.6557630883322821, 0.58877752489513...</td>\n    </tr>\n    <tr>\n      <th>627</th>\n      <td>0.765000</td>\n      <td>0.672817</td>\n      <td>0.088074</td>\n      <td>0.877632</td>\n      <td>0.099015</td>\n      <td>0.024723</td>\n      <td>0.146420</td>\n      <td>0.864865</td>\n      <td>0.480769</td>\n      <td>0.519231</td>\n      <td>...</td>\n      <td>0.765000</td>\n      <td>0.363059</td>\n      <td>0.844884</td>\n      <td>0.665985</td>\n      <td>{'dropout': 0.11471946539325475}</td>\n      <td>NaN</td>\n      <td>acc_parity</td>\n      <td>simple_mlp_initializer</td>\n      <td>german_dataset_reader</td>\n      <td>{'loss': [0.675941018263499, 0.615310306019253...</td>\n    </tr>\n    <tr>\n      <th>628</th>\n      <td>0.785000</td>\n      <td>0.734163</td>\n      <td>0.256057</td>\n      <td>0.671651</td>\n      <td>0.261292</td>\n      <td>0.107937</td>\n      <td>0.142179</td>\n      <td>0.858156</td>\n      <td>0.610169</td>\n      <td>0.389831</td>\n      <td>...</td>\n      <td>0.785000</td>\n      <td>0.475673</td>\n      <td>0.849123</td>\n      <td>0.528943</td>\n      <td>{'dropout': 0.10025775349172394}</td>\n      <td>NaN</td>\n      <td>acc_odds</td>\n      <td>simple_mlp_initializer</td>\n      <td>german_dataset_reader</td>\n      <td>{'loss': [0.6868500908215841, 0.59347383711073...</td>\n    </tr>\n    <tr>\n      <th>629</th>\n      <td>0.770000</td>\n      <td>0.677743</td>\n      <td>0.104908</td>\n      <td>0.808713</td>\n      <td>0.160114</td>\n      <td>0.085148</td>\n      <td>0.131366</td>\n      <td>0.882759</td>\n      <td>0.472727</td>\n      <td>0.527273</td>\n      <td>...</td>\n      <td>0.770000</td>\n      <td>0.386370</td>\n      <td>0.847682</td>\n      <td>0.684852</td>\n      <td>{'dropout': 0.05003579439121596}</td>\n      <td>NaN</td>\n      <td>acc_opportunity</td>\n      <td>simple_mlp_initializer</td>\n      <td>german_dataset_reader</td>\n      <td>{'loss': [0.7784001721276177, 0.65875955952538...</td>\n    </tr>\n  </tbody>\n</table>\n<p>630 rows × 29 columns</p>\n</div>"
     },
     "execution_count": 46,
     "metadata": {},
     "output_type": "execute_result"
    }
   ],
   "source": [
    "mlp_results = read_csv_files_from_folder('mlp_results')\n",
    "mlp_baseline_results = mlp_results[mlp_results.method == 'simple_mlp_initializer']\n",
    "mlp_pearson_results = mlp_results[mlp_results.method == 'mlp_preg_initializer']\n",
    "mlp_spearman_results = mlp_results[mlp_results.method == 'mlp_sreg_initializer']\n",
    "\n",
    "csv_path = 'mlp_baseline_results' + '.csv'\n",
    "mlp_baseline_results.reset_index(drop=True, inplace=True)\n",
    "mlp_baseline_results[cols].to_csv(csv_path, index=False)\n",
    "\n",
    "csv_path = 'mlp_pearson_results' + '.csv'\n",
    "mlp_pearson_results.reset_index(drop=True, inplace=True)\n",
    "mlp_pearson_results[cols].to_csv(csv_path, index=False)\n",
    "\n",
    "csv_path = 'mlp_spearman_results' + '.csv'\n",
    "mlp_spearman_results.reset_index(drop=True, inplace=True)\n",
    "mlp_spearman_results[cols].to_csv(csv_path, index=False)\n",
    "\n",
    "mlp_results"
   ],
   "metadata": {
    "collapsed": false,
    "ExecuteTime": {
     "end_time": "2024-05-08T13:55:30.867782446Z",
     "start_time": "2024-05-08T13:55:30.795095479Z"
    }
   }
  },
  {
   "cell_type": "code",
   "execution_count": 47,
   "outputs": [
    {
     "data": {
      "text/plain": "     overall_acc   bal_acc  avg_odds_diff  disp_imp  stat_par_diff  \\\n0       0.831509  0.746003       0.157184  0.860678       0.030144   \n1       0.815920  0.750269       0.158410  0.950866       0.012162   \n2       0.840354  0.736545       0.115208  0.717911       0.053877   \n3       0.838474  0.811140       0.057387  0.414123       0.209132   \n4       0.846766  0.790359       0.040754  0.386043       0.185545   \n..           ...       ...            ...       ...            ...   \n490     0.843449  0.782419       0.040919  0.428589       0.166083   \n491     0.842233  0.804628       0.046258  0.432947       0.188986   \n492     0.815810  0.658170       0.218489  1.240899       0.024396   \n493     0.844223  0.760768       0.051423  0.493301       0.122700   \n494     0.839801  0.720565       0.039787  0.507617       0.086346   \n\n     eq_opp_diff  theil_ind       TPR       TNR       FPR  ...       MCC  \\\n0       0.269769   0.134433  0.576135  0.915870  0.084130  ...  0.525302   \n1       0.257481   0.130425  0.618921  0.881616  0.118384  ...  0.505004   \n2       0.213692   0.142877  0.527193  0.945898  0.054102  ...  0.542637   \n3       0.005088   0.094381  0.757168  0.865111  0.134889  ...  0.592184   \n4       0.003290   0.109223  0.677906  0.902813  0.097187  ...  0.586569   \n..           ...        ...       ...       ...       ...  ...       ...   \n490     0.012468   0.116561  0.657044  0.907793  0.092207  ...  0.580012   \n491     0.004459   0.098490  0.730926  0.878331  0.121669  ...  0.589531   \n492     0.389870   0.185103  0.347865  0.968475  0.031525  ...  0.436570   \n493     0.063949   0.125279  0.596847  0.924689  0.075311  ...  0.557665   \n494     0.069241   0.155546  0.475064  0.966066  0.033934  ...  0.543909   \n\n     f1_score   fitness                                           solution  \\\n0    0.629377  0.495159  {'dropout': 0.17164236382117906, 'privileged_d...   \n1    0.627100  0.492841  {'l2': 0.001, 'dropout': 0.16357115085831844, ...   \n2    0.624740  0.488760  {'l2': 0.001, 'dropout': 0.14664763054745145, ...   \n3    0.698203  0.534797  {'dropout': 0.1574805419448912, 'privileged_de...   \n4    0.687978  0.545814  {'l2': 0.001, 'dropout': 0.18338485157833279, ...   \n..        ...       ...                                                ...   \n490  0.682938  0.539093  {'corr_type': 'spearman', 'l2': 0.001, 'dropou...   \n491  0.694105  0.585072  {'corr_type': 'spearman', 'l2': 0.0001, 'dropo...   \n492  0.481643  0.791413  {'corr_type': 'spearman', 'l2': 0.0001, 'dropo...   \n493  0.652870  0.792800  {'corr_type': 'spearman', 'l2': 0.0001, 'dropo...   \n494  0.603990  0.770560  {'corr_type': 'spearman', 'l2': 0.0001, 'dropo...   \n\n                                                  corr  \\\n0                                                  NaN   \n1    [0.0817118679094823, 0.006445210194887691, 0.9...   \n2    [0.08945397105197903, 0.0015084899303753738, 0...   \n3                                                  NaN   \n4    [0.07910008945154558, 0.0007902931143702738, 0...   \n..                                                 ...   \n490  [0.096087442757451, 0.003561703941670227, 0.99...   \n491  [0.09823228901512733, 0.0031289214943356525, 1...   \n492  [0.08894067450131099, 0.0010973097546299764, 1...   \n493  [0.0908362421613103, 0.0011968123215304353, 1....   \n494  [0.09319811006662707, 0.0013356306918269564, 0...   \n\n                                  tune_results_history     fitness_rule  \\\n0    [{'overall_acc': 0.8548922056384743, 'bal_acc'...       mcc_parity   \n1    [{'overall_acc': 0.1838032061912659, 'bal_acc'...       mcc_parity   \n2    [{'overall_acc': 0.2357656163626313, 'bal_acc'...       mcc_parity   \n3    [{'overall_acc': 0.49267551133222776, 'bal_acc...         mcc_odds   \n4    [{'overall_acc': 0.8313985627418463, 'bal_acc'...         mcc_odds   \n..                                                 ...              ...   \n490                                                NaN         mcc_odds   \n491                                                NaN  mcc_opportunity   \n492                                                NaN       acc_parity   \n493                                                NaN         acc_odds   \n494                                                NaN  acc_opportunity   \n\n                       method               dataset  \\\n0         ftl_mlp_initializer  adult_dataset_reader   \n1    ftl_mlp_preg_initializer  adult_dataset_reader   \n2    ftl_mlp_sreg_initializer  adult_dataset_reader   \n3         ftl_mlp_initializer  adult_dataset_reader   \n4    ftl_mlp_preg_initializer  adult_dataset_reader   \n..                        ...                   ...   \n490  ftl_mlp_sreg_initializer  adult_dataset_reader   \n491  ftl_mlp_sreg_initializer  adult_dataset_reader   \n492  ftl_mlp_sreg_initializer  adult_dataset_reader   \n493  ftl_mlp_sreg_initializer  adult_dataset_reader   \n494  ftl_mlp_sreg_initializer  adult_dataset_reader   \n\n                              best_solution_tf_history  \n0    {'loss': [0.4321238949142959, 0.39786454022210...  \n1    {'loss': [0.5102667829027018, 0.48939236487802...  \n2    {'loss': [0.5017233110595648, 0.46502473797433...  \n3    {'loss': [0.4434747670879345, 0.42005598868553...  \n4    {'loss': [0.5087338825422033, 0.49352050842862...  \n..                                                 ...  \n490  {'loss': [0.553842155162084, 0.539324351242951...  \n491  {'loss': [0.4026459111874159, 0.36595486461422...  \n492  {'loss': [0.529733629919262, 0.502449468970426...  \n493  {'loss': [0.4790230469483042, 0.45546600418377...  \n494  {'loss': [0.6103821333395131, 0.58180446046668...  \n\n[495 rows x 30 columns]",
      "text/html": "<div>\n<style scoped>\n    .dataframe tbody tr th:only-of-type {\n        vertical-align: middle;\n    }\n\n    .dataframe tbody tr th {\n        vertical-align: top;\n    }\n\n    .dataframe thead th {\n        text-align: right;\n    }\n</style>\n<table border=\"1\" class=\"dataframe\">\n  <thead>\n    <tr style=\"text-align: right;\">\n      <th></th>\n      <th>overall_acc</th>\n      <th>bal_acc</th>\n      <th>avg_odds_diff</th>\n      <th>disp_imp</th>\n      <th>stat_par_diff</th>\n      <th>eq_opp_diff</th>\n      <th>theil_ind</th>\n      <th>TPR</th>\n      <th>TNR</th>\n      <th>FPR</th>\n      <th>...</th>\n      <th>MCC</th>\n      <th>f1_score</th>\n      <th>fitness</th>\n      <th>solution</th>\n      <th>corr</th>\n      <th>tune_results_history</th>\n      <th>fitness_rule</th>\n      <th>method</th>\n      <th>dataset</th>\n      <th>best_solution_tf_history</th>\n    </tr>\n  </thead>\n  <tbody>\n    <tr>\n      <th>0</th>\n      <td>0.831509</td>\n      <td>0.746003</td>\n      <td>0.157184</td>\n      <td>0.860678</td>\n      <td>0.030144</td>\n      <td>0.269769</td>\n      <td>0.134433</td>\n      <td>0.576135</td>\n      <td>0.915870</td>\n      <td>0.084130</td>\n      <td>...</td>\n      <td>0.525302</td>\n      <td>0.629377</td>\n      <td>0.495159</td>\n      <td>{'dropout': 0.17164236382117906, 'privileged_d...</td>\n      <td>NaN</td>\n      <td>[{'overall_acc': 0.8548922056384743, 'bal_acc'...</td>\n      <td>mcc_parity</td>\n      <td>ftl_mlp_initializer</td>\n      <td>adult_dataset_reader</td>\n      <td>{'loss': [0.4321238949142959, 0.39786454022210...</td>\n    </tr>\n    <tr>\n      <th>1</th>\n      <td>0.815920</td>\n      <td>0.750269</td>\n      <td>0.158410</td>\n      <td>0.950866</td>\n      <td>0.012162</td>\n      <td>0.257481</td>\n      <td>0.130425</td>\n      <td>0.618921</td>\n      <td>0.881616</td>\n      <td>0.118384</td>\n      <td>...</td>\n      <td>0.505004</td>\n      <td>0.627100</td>\n      <td>0.492841</td>\n      <td>{'l2': 0.001, 'dropout': 0.16357115085831844, ...</td>\n      <td>[0.0817118679094823, 0.006445210194887691, 0.9...</td>\n      <td>[{'overall_acc': 0.1838032061912659, 'bal_acc'...</td>\n      <td>mcc_parity</td>\n      <td>ftl_mlp_preg_initializer</td>\n      <td>adult_dataset_reader</td>\n      <td>{'loss': [0.5102667829027018, 0.48939236487802...</td>\n    </tr>\n    <tr>\n      <th>2</th>\n      <td>0.840354</td>\n      <td>0.736545</td>\n      <td>0.115208</td>\n      <td>0.717911</td>\n      <td>0.053877</td>\n      <td>0.213692</td>\n      <td>0.142877</td>\n      <td>0.527193</td>\n      <td>0.945898</td>\n      <td>0.054102</td>\n      <td>...</td>\n      <td>0.542637</td>\n      <td>0.624740</td>\n      <td>0.488760</td>\n      <td>{'l2': 0.001, 'dropout': 0.14664763054745145, ...</td>\n      <td>[0.08945397105197903, 0.0015084899303753738, 0...</td>\n      <td>[{'overall_acc': 0.2357656163626313, 'bal_acc'...</td>\n      <td>mcc_parity</td>\n      <td>ftl_mlp_sreg_initializer</td>\n      <td>adult_dataset_reader</td>\n      <td>{'loss': [0.5017233110595648, 0.46502473797433...</td>\n    </tr>\n    <tr>\n      <th>3</th>\n      <td>0.838474</td>\n      <td>0.811140</td>\n      <td>0.057387</td>\n      <td>0.414123</td>\n      <td>0.209132</td>\n      <td>0.005088</td>\n      <td>0.094381</td>\n      <td>0.757168</td>\n      <td>0.865111</td>\n      <td>0.134889</td>\n      <td>...</td>\n      <td>0.592184</td>\n      <td>0.698203</td>\n      <td>0.534797</td>\n      <td>{'dropout': 0.1574805419448912, 'privileged_de...</td>\n      <td>NaN</td>\n      <td>[{'overall_acc': 0.49267551133222776, 'bal_acc...</td>\n      <td>mcc_odds</td>\n      <td>ftl_mlp_initializer</td>\n      <td>adult_dataset_reader</td>\n      <td>{'loss': [0.4434747670879345, 0.42005598868553...</td>\n    </tr>\n    <tr>\n      <th>4</th>\n      <td>0.846766</td>\n      <td>0.790359</td>\n      <td>0.040754</td>\n      <td>0.386043</td>\n      <td>0.185545</td>\n      <td>0.003290</td>\n      <td>0.109223</td>\n      <td>0.677906</td>\n      <td>0.902813</td>\n      <td>0.097187</td>\n      <td>...</td>\n      <td>0.586569</td>\n      <td>0.687978</td>\n      <td>0.545814</td>\n      <td>{'l2': 0.001, 'dropout': 0.18338485157833279, ...</td>\n      <td>[0.07910008945154558, 0.0007902931143702738, 0...</td>\n      <td>[{'overall_acc': 0.8313985627418463, 'bal_acc'...</td>\n      <td>mcc_odds</td>\n      <td>ftl_mlp_preg_initializer</td>\n      <td>adult_dataset_reader</td>\n      <td>{'loss': [0.5087338825422033, 0.49352050842862...</td>\n    </tr>\n    <tr>\n      <th>...</th>\n      <td>...</td>\n      <td>...</td>\n      <td>...</td>\n      <td>...</td>\n      <td>...</td>\n      <td>...</td>\n      <td>...</td>\n      <td>...</td>\n      <td>...</td>\n      <td>...</td>\n      <td>...</td>\n      <td>...</td>\n      <td>...</td>\n      <td>...</td>\n      <td>...</td>\n      <td>...</td>\n      <td>...</td>\n      <td>...</td>\n      <td>...</td>\n      <td>...</td>\n      <td>...</td>\n    </tr>\n    <tr>\n      <th>490</th>\n      <td>0.843449</td>\n      <td>0.782419</td>\n      <td>0.040919</td>\n      <td>0.428589</td>\n      <td>0.166083</td>\n      <td>0.012468</td>\n      <td>0.116561</td>\n      <td>0.657044</td>\n      <td>0.907793</td>\n      <td>0.092207</td>\n      <td>...</td>\n      <td>0.580012</td>\n      <td>0.682938</td>\n      <td>0.539093</td>\n      <td>{'corr_type': 'spearman', 'l2': 0.001, 'dropou...</td>\n      <td>[0.096087442757451, 0.003561703941670227, 0.99...</td>\n      <td>NaN</td>\n      <td>mcc_odds</td>\n      <td>ftl_mlp_sreg_initializer</td>\n      <td>adult_dataset_reader</td>\n      <td>{'loss': [0.553842155162084, 0.539324351242951...</td>\n    </tr>\n    <tr>\n      <th>491</th>\n      <td>0.842233</td>\n      <td>0.804628</td>\n      <td>0.046258</td>\n      <td>0.432947</td>\n      <td>0.188986</td>\n      <td>0.004459</td>\n      <td>0.098490</td>\n      <td>0.730926</td>\n      <td>0.878331</td>\n      <td>0.121669</td>\n      <td>...</td>\n      <td>0.589531</td>\n      <td>0.694105</td>\n      <td>0.585072</td>\n      <td>{'corr_type': 'spearman', 'l2': 0.0001, 'dropo...</td>\n      <td>[0.09823228901512733, 0.0031289214943356525, 1...</td>\n      <td>NaN</td>\n      <td>mcc_opportunity</td>\n      <td>ftl_mlp_sreg_initializer</td>\n      <td>adult_dataset_reader</td>\n      <td>{'loss': [0.4026459111874159, 0.36595486461422...</td>\n    </tr>\n    <tr>\n      <th>492</th>\n      <td>0.815810</td>\n      <td>0.658170</td>\n      <td>0.218489</td>\n      <td>1.240899</td>\n      <td>0.024396</td>\n      <td>0.389870</td>\n      <td>0.185103</td>\n      <td>0.347865</td>\n      <td>0.968475</td>\n      <td>0.031525</td>\n      <td>...</td>\n      <td>0.436570</td>\n      <td>0.481643</td>\n      <td>0.791413</td>\n      <td>{'corr_type': 'spearman', 'l2': 0.0001, 'dropo...</td>\n      <td>[0.08894067450131099, 0.0010973097546299764, 1...</td>\n      <td>NaN</td>\n      <td>acc_parity</td>\n      <td>ftl_mlp_sreg_initializer</td>\n      <td>adult_dataset_reader</td>\n      <td>{'loss': [0.529733629919262, 0.502449468970426...</td>\n    </tr>\n    <tr>\n      <th>493</th>\n      <td>0.844223</td>\n      <td>0.760768</td>\n      <td>0.051423</td>\n      <td>0.493301</td>\n      <td>0.122700</td>\n      <td>0.063949</td>\n      <td>0.125279</td>\n      <td>0.596847</td>\n      <td>0.924689</td>\n      <td>0.075311</td>\n      <td>...</td>\n      <td>0.557665</td>\n      <td>0.652870</td>\n      <td>0.792800</td>\n      <td>{'corr_type': 'spearman', 'l2': 0.0001, 'dropo...</td>\n      <td>[0.0908362421613103, 0.0011968123215304353, 1....</td>\n      <td>NaN</td>\n      <td>acc_odds</td>\n      <td>ftl_mlp_sreg_initializer</td>\n      <td>adult_dataset_reader</td>\n      <td>{'loss': [0.4790230469483042, 0.45546600418377...</td>\n    </tr>\n    <tr>\n      <th>494</th>\n      <td>0.839801</td>\n      <td>0.720565</td>\n      <td>0.039787</td>\n      <td>0.507617</td>\n      <td>0.086346</td>\n      <td>0.069241</td>\n      <td>0.155546</td>\n      <td>0.475064</td>\n      <td>0.966066</td>\n      <td>0.033934</td>\n      <td>...</td>\n      <td>0.543909</td>\n      <td>0.603990</td>\n      <td>0.770560</td>\n      <td>{'corr_type': 'spearman', 'l2': 0.0001, 'dropo...</td>\n      <td>[0.09319811006662707, 0.0013356306918269564, 0...</td>\n      <td>NaN</td>\n      <td>acc_opportunity</td>\n      <td>ftl_mlp_sreg_initializer</td>\n      <td>adult_dataset_reader</td>\n      <td>{'loss': [0.6103821333395131, 0.58180446046668...</td>\n    </tr>\n  </tbody>\n</table>\n<p>495 rows × 30 columns</p>\n</div>"
     },
     "execution_count": 47,
     "metadata": {},
     "output_type": "execute_result"
    }
   ],
   "source": [
    "ftl_results = read_csv_files_from_folder('ftl_results')\n",
    "ftl_baseline_results = ftl_results[ftl_results.method == 'ftl_mlp_initializer']\n",
    "ftl_pearson_results = ftl_results[ftl_results.method == 'ftl_mlp_preg_initializer']\n",
    "ftl_spearman_results = ftl_results[ftl_results.method == 'ftl_mlp_sreg_initializer']\n",
    "\n",
    "csv_path = 'ftl_baseline_results' + '.csv'\n",
    "ftl_baseline_results.reset_index(drop=True, inplace=True)\n",
    "ftl_baseline_results[cols].to_csv(csv_path, index=False)\n",
    "\n",
    "csv_path = 'ftl_pearson_results' + '.csv'\n",
    "ftl_pearson_results.reset_index(drop=True, inplace=True)\n",
    "ftl_pearson_results[cols].to_csv(csv_path, index=False)\n",
    "\n",
    "csv_path = 'ftl_spearman_results' + '.csv'\n",
    "ftl_spearman_results.reset_index(drop=True, inplace=True)\n",
    "ftl_spearman_results[cols].to_csv(csv_path, index=False)\n",
    "\n",
    "ftl_results"
   ],
   "metadata": {
    "collapsed": false,
    "ExecuteTime": {
     "end_time": "2024-05-08T13:55:31.516235049Z",
     "start_time": "2024-05-08T13:55:30.865772324Z"
    }
   }
  },
  {
   "cell_type": "code",
   "execution_count": 47,
   "outputs": [],
   "source": [],
   "metadata": {
    "collapsed": false,
    "ExecuteTime": {
     "end_time": "2024-05-08T13:55:31.521513674Z",
     "start_time": "2024-05-08T13:55:31.518728488Z"
    }
   }
  }
 ],
 "metadata": {
  "kernelspec": {
   "display_name": "Python 3",
   "language": "python",
   "name": "python3"
  },
  "language_info": {
   "codemirror_mode": {
    "name": "ipython",
    "version": 2
   },
   "file_extension": ".py",
   "mimetype": "text/x-python",
   "name": "python",
   "nbconvert_exporter": "python",
   "pygments_lexer": "ipython2",
   "version": "2.7.6"
  }
 },
 "nbformat": 4,
 "nbformat_minor": 0
}
