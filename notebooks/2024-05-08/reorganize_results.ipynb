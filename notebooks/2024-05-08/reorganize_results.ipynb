{
 "cells": [
  {
   "cell_type": "code",
   "execution_count": 38,
   "metadata": {
    "collapsed": true,
    "ExecuteTime": {
     "end_time": "2024-05-12T01:01:10.643175229Z",
     "start_time": "2024-05-12T01:01:10.601679984Z"
    }
   },
   "outputs": [],
   "source": [
    "import pandas as pd\n",
    "import os\n",
    "from IPython.display import display"
   ]
  },
  {
   "cell_type": "code",
   "execution_count": 39,
   "outputs": [],
   "source": [
    "def read_csv_files_from_folder(folder_path):\n",
    "    # Initialize an empty list to store DataFrames\n",
    "    dfs = []\n",
    "\n",
    "    # Get a list of files in the folder\n",
    "    file_list = os.listdir(folder_path)\n",
    "\n",
    "    # Iterate through the files in the folder\n",
    "    for file_name in file_list:\n",
    "        # Check if the file has a .csv extension\n",
    "        if file_name.endswith(\".csv\"):\n",
    "            file_path = os.path.join(folder_path, file_name)\n",
    "\n",
    "            # Read the CSV file into a DataFrame\n",
    "            df = pd.read_csv(file_path, index_col=0, header=0)\n",
    "\n",
    "            # Append the DataFrame to the list\n",
    "            dfs.append(df)\n",
    "\n",
    "    # Concatenate all DataFrames into a single DataFrame\n",
    "    combined_df = pd.concat(dfs, ignore_index=True)\n",
    "\n",
    "    return combined_df"
   ],
   "metadata": {
    "collapsed": false,
    "ExecuteTime": {
     "end_time": "2024-05-12T01:01:10.645464556Z",
     "start_time": "2024-05-12T01:01:10.643064618Z"
    }
   }
  },
  {
   "cell_type": "code",
   "execution_count": 40,
   "outputs": [],
   "source": [
    "cols = ['dataset', 'method', 'fitness_rule', 'fitness', 'ACC', 'MCC', 'avg_odds_diff', 'stat_par_diff', 'eq_opp_diff', 'solution']"
   ],
   "metadata": {
    "collapsed": false,
    "ExecuteTime": {
     "end_time": "2024-05-12T01:01:10.645628937Z",
     "start_time": "2024-05-12T01:01:10.643199071Z"
    }
   }
  },
  {
   "cell_type": "code",
   "execution_count": 41,
   "outputs": [
    {
     "data": {
      "text/plain": "      overall_acc   bal_acc  avg_odds_diff  disp_imp  stat_par_diff  \\\n0        0.851299  0.776851       0.113127  0.302886       0.192633   \n1        0.851520  0.781719       0.111565  0.301498       0.198915   \n2        0.851410  0.780878       0.103235  0.319506       0.191606   \n3        0.844887  0.763239       0.082386  0.308388       0.183090   \n4        0.850857  0.775601       0.084687  0.332983       0.180366   \n...           ...       ...            ...       ...            ...   \n2511     0.735000  0.653075       0.187438  0.843470       0.132107   \n2512     0.770000  0.594157       0.112169  0.856750       0.136587   \n2513     0.720000  0.645276       0.093898  0.855950       0.118056   \n2514     0.735000  0.625877       0.202788  0.793651       0.185714   \n2515     0.710000  0.630120       0.144290  0.824713       0.145238   \n\n      eq_opp_diff  theil_ind       TPR       TNR       FPR  ...       MCC  \\\n0        0.142532   0.117850  0.628495  0.925206  0.074794  ...  0.585170   \n1        0.132052   0.113320  0.644856  0.918583  0.081417  ...  0.585500   \n2        0.124889   0.113980  0.642342  0.919414  0.080586  ...  0.585064   \n3        0.084174   0.126322  0.599383  0.927096  0.072904  ...  0.565373   \n4        0.093891   0.115760  0.629562  0.921640  0.078360  ...  0.577932   \n...           ...        ...       ...       ...       ...  ...       ...   \n2511     0.016543   0.112797  0.909091  0.397059  0.602941  ...  0.366041   \n2512     0.117856   0.084621  0.953020  0.235294  0.764706  ...  0.279927   \n2513     0.107210   0.134224  0.878788  0.411765  0.588235  ...  0.332260   \n2514     0.101792   0.112797  0.913043  0.338710  0.661290  ...  0.313686   \n2515     0.085023   0.140413  0.872180  0.388060  0.611940  ...  0.298988   \n\n      f1_score   fitness                                           solution  \\\n0     0.677999  0.392537                   {'dropout': 0.16228954240968418}   \n1     0.680314  0.473935                    {'dropout': 0.1482543145261793}   \n2     0.679695  0.460175                   {'dropout': 0.17861515209545933}   \n3     0.659714  0.661796                   {'dropout': 0.15655371267306142}   \n4     0.671696  0.766170                    {'dropout': 0.1698638434734938}   \n...        ...       ...                                                ...   \n2511  0.819113  0.602893     {'l2': 0.01, 'dropout': 0.0025547106441535516}   \n2512  0.860606  0.657831  {'l2': 0.01, 'dropout': 0.008890798210780246, ...   \n2513  0.805556  0.626102       {'l2': 0.01, 'dropout': 0.08920765135324987}   \n2514  0.826230  0.633208  {'l2': 0.001, 'dropout': 0.08404784542829823, ...   \n2515  0.800000  0.624977    {'l2': 0.0001, 'dropout': 0.052250198230964086}   \n\n                                                   corr     fitness_rule  \\\n0                                                   NaN       mcc_parity   \n1                                                   NaN         mcc_odds   \n2                                                   NaN  mcc_opportunity   \n3                                                   NaN       acc_parity   \n4                                                   NaN         acc_odds   \n...                                                 ...              ...   \n2511  [0.44563918757467147, 0.47590601354042217, 0.5...       acc_parity   \n2512  [0.45604048070841263, 0.5145477545857055, 0.47...         acc_odds   \n2513  [0.438816759404575, 0.476863080800875, 0.47052...         acc_odds   \n2514  [0.48734075818979083, 0.4999990110739936, 0.49...  acc_opportunity   \n2515  [0.43960087482761157, 0.47462582015088584, 0.4...  acc_opportunity   \n\n                          method                dataset  \\\n0         simple_mlp_initializer   adult_dataset_reader   \n1         simple_mlp_initializer   adult_dataset_reader   \n2         simple_mlp_initializer   adult_dataset_reader   \n3         simple_mlp_initializer   adult_dataset_reader   \n4         simple_mlp_initializer   adult_dataset_reader   \n...                          ...                    ...   \n2511      mlp_xi_reg_initializer  german_dataset_reader   \n2512  ftl_mlp_xi_reg_initializer  german_dataset_reader   \n2513      mlp_xi_reg_initializer  german_dataset_reader   \n2514  ftl_mlp_xi_reg_initializer  german_dataset_reader   \n2515      mlp_xi_reg_initializer  german_dataset_reader   \n\n                               best_solution_tf_history  \\\n0     {'loss': [0.3897703690160027, 0.34068391078622...   \n1     {'loss': [0.4009664287344603, 0.34305514207044...   \n2     {'loss': [0.40314989690662156, 0.3452559707361...   \n3     {'loss': [0.3903123053694252, 0.33910286278168...   \n4     {'loss': [0.39678069996564325, 0.3418175098418...   \n...                                                 ...   \n2511  {'loss': [1.0835460424423218, 0.98518145084381...   \n2512  {'loss': [1.2328652143478394, 1.12673759460449...   \n2513  {'loss': [1.0363792181015015, 0.93499070405960...   \n2514  {'loss': [0.7540064454078674, 0.72109055519104...   \n2515  {'loss': [0.9059877991676331, 0.66475844383239...   \n\n                                   tune_results_history  \n0                                                   NaN  \n1                                                   NaN  \n2                                                   NaN  \n3                                                   NaN  \n4                                                   NaN  \n...                                                 ...  \n2511  [{'overall_acc': 0.75625, 'bal_acc': 0.6207729...  \n2512  [{'overall_acc': 0.325, 'bal_acc': 0.5, 'avg_o...  \n2513  [{'overall_acc': 0.775, 'bal_acc': 0.672550101...  \n2514  [{'overall_acc': 0.475, 'bal_acc': 0.566742944...  \n2515  [{'overall_acc': 0.71875, 'bal_acc': 0.5663636...  \n\n[2516 rows x 30 columns]",
      "text/html": "<div>\n<style scoped>\n    .dataframe tbody tr th:only-of-type {\n        vertical-align: middle;\n    }\n\n    .dataframe tbody tr th {\n        vertical-align: top;\n    }\n\n    .dataframe thead th {\n        text-align: right;\n    }\n</style>\n<table border=\"1\" class=\"dataframe\">\n  <thead>\n    <tr style=\"text-align: right;\">\n      <th></th>\n      <th>overall_acc</th>\n      <th>bal_acc</th>\n      <th>avg_odds_diff</th>\n      <th>disp_imp</th>\n      <th>stat_par_diff</th>\n      <th>eq_opp_diff</th>\n      <th>theil_ind</th>\n      <th>TPR</th>\n      <th>TNR</th>\n      <th>FPR</th>\n      <th>...</th>\n      <th>MCC</th>\n      <th>f1_score</th>\n      <th>fitness</th>\n      <th>solution</th>\n      <th>corr</th>\n      <th>fitness_rule</th>\n      <th>method</th>\n      <th>dataset</th>\n      <th>best_solution_tf_history</th>\n      <th>tune_results_history</th>\n    </tr>\n  </thead>\n  <tbody>\n    <tr>\n      <th>0</th>\n      <td>0.851299</td>\n      <td>0.776851</td>\n      <td>0.113127</td>\n      <td>0.302886</td>\n      <td>0.192633</td>\n      <td>0.142532</td>\n      <td>0.117850</td>\n      <td>0.628495</td>\n      <td>0.925206</td>\n      <td>0.074794</td>\n      <td>...</td>\n      <td>0.585170</td>\n      <td>0.677999</td>\n      <td>0.392537</td>\n      <td>{'dropout': 0.16228954240968418}</td>\n      <td>NaN</td>\n      <td>mcc_parity</td>\n      <td>simple_mlp_initializer</td>\n      <td>adult_dataset_reader</td>\n      <td>{'loss': [0.3897703690160027, 0.34068391078622...</td>\n      <td>NaN</td>\n    </tr>\n    <tr>\n      <th>1</th>\n      <td>0.851520</td>\n      <td>0.781719</td>\n      <td>0.111565</td>\n      <td>0.301498</td>\n      <td>0.198915</td>\n      <td>0.132052</td>\n      <td>0.113320</td>\n      <td>0.644856</td>\n      <td>0.918583</td>\n      <td>0.081417</td>\n      <td>...</td>\n      <td>0.585500</td>\n      <td>0.680314</td>\n      <td>0.473935</td>\n      <td>{'dropout': 0.1482543145261793}</td>\n      <td>NaN</td>\n      <td>mcc_odds</td>\n      <td>simple_mlp_initializer</td>\n      <td>adult_dataset_reader</td>\n      <td>{'loss': [0.4009664287344603, 0.34305514207044...</td>\n      <td>NaN</td>\n    </tr>\n    <tr>\n      <th>2</th>\n      <td>0.851410</td>\n      <td>0.780878</td>\n      <td>0.103235</td>\n      <td>0.319506</td>\n      <td>0.191606</td>\n      <td>0.124889</td>\n      <td>0.113980</td>\n      <td>0.642342</td>\n      <td>0.919414</td>\n      <td>0.080586</td>\n      <td>...</td>\n      <td>0.585064</td>\n      <td>0.679695</td>\n      <td>0.460175</td>\n      <td>{'dropout': 0.17861515209545933}</td>\n      <td>NaN</td>\n      <td>mcc_opportunity</td>\n      <td>simple_mlp_initializer</td>\n      <td>adult_dataset_reader</td>\n      <td>{'loss': [0.40314989690662156, 0.3452559707361...</td>\n      <td>NaN</td>\n    </tr>\n    <tr>\n      <th>3</th>\n      <td>0.844887</td>\n      <td>0.763239</td>\n      <td>0.082386</td>\n      <td>0.308388</td>\n      <td>0.183090</td>\n      <td>0.084174</td>\n      <td>0.126322</td>\n      <td>0.599383</td>\n      <td>0.927096</td>\n      <td>0.072904</td>\n      <td>...</td>\n      <td>0.565373</td>\n      <td>0.659714</td>\n      <td>0.661796</td>\n      <td>{'dropout': 0.15655371267306142}</td>\n      <td>NaN</td>\n      <td>acc_parity</td>\n      <td>simple_mlp_initializer</td>\n      <td>adult_dataset_reader</td>\n      <td>{'loss': [0.3903123053694252, 0.33910286278168...</td>\n      <td>NaN</td>\n    </tr>\n    <tr>\n      <th>4</th>\n      <td>0.850857</td>\n      <td>0.775601</td>\n      <td>0.084687</td>\n      <td>0.332983</td>\n      <td>0.180366</td>\n      <td>0.093891</td>\n      <td>0.115760</td>\n      <td>0.629562</td>\n      <td>0.921640</td>\n      <td>0.078360</td>\n      <td>...</td>\n      <td>0.577932</td>\n      <td>0.671696</td>\n      <td>0.766170</td>\n      <td>{'dropout': 0.1698638434734938}</td>\n      <td>NaN</td>\n      <td>acc_odds</td>\n      <td>simple_mlp_initializer</td>\n      <td>adult_dataset_reader</td>\n      <td>{'loss': [0.39678069996564325, 0.3418175098418...</td>\n      <td>NaN</td>\n    </tr>\n    <tr>\n      <th>...</th>\n      <td>...</td>\n      <td>...</td>\n      <td>...</td>\n      <td>...</td>\n      <td>...</td>\n      <td>...</td>\n      <td>...</td>\n      <td>...</td>\n      <td>...</td>\n      <td>...</td>\n      <td>...</td>\n      <td>...</td>\n      <td>...</td>\n      <td>...</td>\n      <td>...</td>\n      <td>...</td>\n      <td>...</td>\n      <td>...</td>\n      <td>...</td>\n      <td>...</td>\n      <td>...</td>\n    </tr>\n    <tr>\n      <th>2511</th>\n      <td>0.735000</td>\n      <td>0.653075</td>\n      <td>0.187438</td>\n      <td>0.843470</td>\n      <td>0.132107</td>\n      <td>0.016543</td>\n      <td>0.112797</td>\n      <td>0.909091</td>\n      <td>0.397059</td>\n      <td>0.602941</td>\n      <td>...</td>\n      <td>0.366041</td>\n      <td>0.819113</td>\n      <td>0.602893</td>\n      <td>{'l2': 0.01, 'dropout': 0.0025547106441535516}</td>\n      <td>[0.44563918757467147, 0.47590601354042217, 0.5...</td>\n      <td>acc_parity</td>\n      <td>mlp_xi_reg_initializer</td>\n      <td>german_dataset_reader</td>\n      <td>{'loss': [1.0835460424423218, 0.98518145084381...</td>\n      <td>[{'overall_acc': 0.75625, 'bal_acc': 0.6207729...</td>\n    </tr>\n    <tr>\n      <th>2512</th>\n      <td>0.770000</td>\n      <td>0.594157</td>\n      <td>0.112169</td>\n      <td>0.856750</td>\n      <td>0.136587</td>\n      <td>0.117856</td>\n      <td>0.084621</td>\n      <td>0.953020</td>\n      <td>0.235294</td>\n      <td>0.764706</td>\n      <td>...</td>\n      <td>0.279927</td>\n      <td>0.860606</td>\n      <td>0.657831</td>\n      <td>{'l2': 0.01, 'dropout': 0.008890798210780246, ...</td>\n      <td>[0.45604048070841263, 0.5145477545857055, 0.47...</td>\n      <td>acc_odds</td>\n      <td>ftl_mlp_xi_reg_initializer</td>\n      <td>german_dataset_reader</td>\n      <td>{'loss': [1.2328652143478394, 1.12673759460449...</td>\n      <td>[{'overall_acc': 0.325, 'bal_acc': 0.5, 'avg_o...</td>\n    </tr>\n    <tr>\n      <th>2513</th>\n      <td>0.720000</td>\n      <td>0.645276</td>\n      <td>0.093898</td>\n      <td>0.855950</td>\n      <td>0.118056</td>\n      <td>0.107210</td>\n      <td>0.134224</td>\n      <td>0.878788</td>\n      <td>0.411765</td>\n      <td>0.588235</td>\n      <td>...</td>\n      <td>0.332260</td>\n      <td>0.805556</td>\n      <td>0.626102</td>\n      <td>{'l2': 0.01, 'dropout': 0.08920765135324987}</td>\n      <td>[0.438816759404575, 0.476863080800875, 0.47052...</td>\n      <td>acc_odds</td>\n      <td>mlp_xi_reg_initializer</td>\n      <td>german_dataset_reader</td>\n      <td>{'loss': [1.0363792181015015, 0.93499070405960...</td>\n      <td>[{'overall_acc': 0.775, 'bal_acc': 0.672550101...</td>\n    </tr>\n    <tr>\n      <th>2514</th>\n      <td>0.735000</td>\n      <td>0.625877</td>\n      <td>0.202788</td>\n      <td>0.793651</td>\n      <td>0.185714</td>\n      <td>0.101792</td>\n      <td>0.112797</td>\n      <td>0.913043</td>\n      <td>0.338710</td>\n      <td>0.661290</td>\n      <td>...</td>\n      <td>0.313686</td>\n      <td>0.826230</td>\n      <td>0.633208</td>\n      <td>{'l2': 0.001, 'dropout': 0.08404784542829823, ...</td>\n      <td>[0.48734075818979083, 0.4999990110739936, 0.49...</td>\n      <td>acc_opportunity</td>\n      <td>ftl_mlp_xi_reg_initializer</td>\n      <td>german_dataset_reader</td>\n      <td>{'loss': [0.7540064454078674, 0.72109055519104...</td>\n      <td>[{'overall_acc': 0.475, 'bal_acc': 0.566742944...</td>\n    </tr>\n    <tr>\n      <th>2515</th>\n      <td>0.710000</td>\n      <td>0.630120</td>\n      <td>0.144290</td>\n      <td>0.824713</td>\n      <td>0.145238</td>\n      <td>0.085023</td>\n      <td>0.140413</td>\n      <td>0.872180</td>\n      <td>0.388060</td>\n      <td>0.611940</td>\n      <td>...</td>\n      <td>0.298988</td>\n      <td>0.800000</td>\n      <td>0.624977</td>\n      <td>{'l2': 0.0001, 'dropout': 0.052250198230964086}</td>\n      <td>[0.43960087482761157, 0.47462582015088584, 0.4...</td>\n      <td>acc_opportunity</td>\n      <td>mlp_xi_reg_initializer</td>\n      <td>german_dataset_reader</td>\n      <td>{'loss': [0.9059877991676331, 0.66475844383239...</td>\n      <td>[{'overall_acc': 0.71875, 'bal_acc': 0.5663636...</td>\n    </tr>\n  </tbody>\n</table>\n<p>2516 rows × 30 columns</p>\n</div>"
     },
     "execution_count": 41,
     "metadata": {},
     "output_type": "execute_result"
    }
   ],
   "source": [
    "results = read_csv_files_from_folder('results')\n",
    "\n",
    "for method in results.method:\n",
    "    method_results = results[results.method == method]\n",
    "    csv_path = f\"{method.replace('_initializer','')}_results.csv\"\n",
    "    method_results.reset_index(drop=True, inplace=True)\n",
    "    method_results[cols].to_csv(csv_path, index=False)\n",
    "\n",
    "results"
   ],
   "metadata": {
    "collapsed": false,
    "ExecuteTime": {
     "end_time": "2024-05-12T01:01:24.345887881Z",
     "start_time": "2024-05-12T01:01:10.643248681Z"
    }
   }
  },
  {
   "cell_type": "code",
   "execution_count": 41,
   "outputs": [],
   "source": [],
   "metadata": {
    "collapsed": false,
    "ExecuteTime": {
     "end_time": "2024-05-12T01:01:24.355711338Z",
     "start_time": "2024-05-12T01:01:24.321966696Z"
    }
   }
  },
  {
   "cell_type": "code",
   "outputs": [],
   "source": [],
   "metadata": {
    "collapsed": false,
    "ExecuteTime": {
     "end_time": "2024-05-12T01:01:24.355942920Z",
     "start_time": "2024-05-12T01:01:24.322067539Z"
    }
   },
   "execution_count": 41
  }
 ],
 "metadata": {
  "kernelspec": {
   "display_name": "Python 3",
   "language": "python",
   "name": "python3"
  },
  "language_info": {
   "codemirror_mode": {
    "name": "ipython",
    "version": 2
   },
   "file_extension": ".py",
   "mimetype": "text/x-python",
   "name": "python",
   "nbconvert_exporter": "python",
   "pygments_lexer": "ipython2",
   "version": "2.7.6"
  }
 },
 "nbformat": 4,
 "nbformat_minor": 0
}
