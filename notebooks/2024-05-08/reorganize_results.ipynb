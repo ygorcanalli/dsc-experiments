{
 "cells": [
  {
   "cell_type": "code",
   "execution_count": 30,
   "metadata": {
    "collapsed": true,
    "ExecuteTime": {
     "end_time": "2024-05-10T13:34:10.838095418Z",
     "start_time": "2024-05-10T13:34:10.796769184Z"
    }
   },
   "outputs": [],
   "source": [
    "import pandas as pd\n",
    "import os\n",
    "from IPython.display import display"
   ]
  },
  {
   "cell_type": "code",
   "execution_count": 31,
   "outputs": [],
   "source": [
    "def read_csv_files_from_folder(folder_path):\n",
    "    # Initialize an empty list to store DataFrames\n",
    "    dfs = []\n",
    "\n",
    "    # Get a list of files in the folder\n",
    "    file_list = os.listdir(folder_path)\n",
    "\n",
    "    # Iterate through the files in the folder\n",
    "    for file_name in file_list:\n",
    "        # Check if the file has a .csv extension\n",
    "        if file_name.endswith(\".csv\"):\n",
    "            file_path = os.path.join(folder_path, file_name)\n",
    "\n",
    "            # Read the CSV file into a DataFrame\n",
    "            df = pd.read_csv(file_path, index_col=0, header=0)\n",
    "\n",
    "            # Append the DataFrame to the list\n",
    "            dfs.append(df)\n",
    "\n",
    "    # Concatenate all DataFrames into a single DataFrame\n",
    "    combined_df = pd.concat(dfs, ignore_index=True)\n",
    "\n",
    "    return combined_df"
   ],
   "metadata": {
    "collapsed": false,
    "ExecuteTime": {
     "end_time": "2024-05-10T13:34:10.841117126Z",
     "start_time": "2024-05-10T13:34:10.838043839Z"
    }
   }
  },
  {
   "cell_type": "code",
   "execution_count": 32,
   "outputs": [],
   "source": [
    "cols = ['dataset', 'method', 'fitness_rule', 'fitness', 'ACC', 'MCC', 'avg_odds_diff', 'stat_par_diff', 'eq_opp_diff', 'solution']"
   ],
   "metadata": {
    "collapsed": false,
    "ExecuteTime": {
     "end_time": "2024-05-10T13:34:10.841295846Z",
     "start_time": "2024-05-10T13:34:10.838147693Z"
    }
   }
  },
  {
   "cell_type": "code",
   "execution_count": 33,
   "outputs": [
    {
     "data": {
      "text/plain": "      overall_acc   bal_acc  avg_odds_diff  disp_imp  stat_par_diff  \\\n0        0.851299  0.776851       0.113127  0.302886       0.192633   \n1        0.851520  0.781719       0.111565  0.301498       0.198915   \n2        0.851410  0.780878       0.103235  0.319506       0.191606   \n3        0.844887  0.763239       0.082386  0.308388       0.183090   \n4        0.850857  0.775601       0.084687  0.332983       0.180366   \n...           ...       ...            ...       ...            ...   \n2031     0.775000  0.668443       0.083113  1.024213       0.019233   \n2032     0.710000  0.500000       0.000000  1.000000       0.000000   \n2033     0.725000  0.617682       0.085569  0.938399       0.050948   \n2034     0.725000  0.687500       0.150377  0.760401       0.186922   \n2035     0.780000  0.690282       0.051750  0.930553       0.055656   \n\n      eq_opp_diff  theil_ind       TPR       TNR       FPR  ...       MCC  \\\n0        0.142532   0.117850  0.628495  0.925206  0.074794  ...  0.585170   \n1        0.132052   0.113320  0.644856  0.918583  0.081417  ...  0.585500   \n2        0.124889   0.113980  0.642342  0.919414  0.080586  ...  0.585064   \n3        0.084174   0.126322  0.599383  0.927096  0.072904  ...  0.565373   \n4        0.093891   0.115760  0.629562  0.921640  0.078360  ...  0.577932   \n...           ...        ...       ...       ...       ...  ...       ...   \n2031     0.047179   0.130422  0.885906  0.450980  0.549020  ...  0.367089   \n2032     0.000000   0.057005  1.000000  0.000000  1.000000  ...  0.000000   \n2033     0.013889   0.138522  0.879433  0.355932  0.644068  ...  0.273607   \n2034     0.135919   0.128669  0.875000  0.500000  0.500000  ...  0.411435   \n2035     0.010643   0.124827  0.889655  0.490909  0.509091  ...  0.413627   \n\n      f1_score   fitness                                           solution  \\\n0     0.677999  0.392537                   {'dropout': 0.16228954240968418}   \n1     0.680314  0.473935                    {'dropout': 0.1482543145261793}   \n2     0.679695  0.460175                   {'dropout': 0.17861515209545933}   \n3     0.659714  0.661796                   {'dropout': 0.15655371267306142}   \n4     0.671696  0.766170                    {'dropout': 0.1698638434734938}   \n...        ...       ...                                                ...   \n2031  0.854369  0.755767     {'l2': 0.0001, 'dropout': 0.18988472963313535}   \n2032  0.830409  0.710000  {'l2': 0.0001, 'dropout': 0.052120058951547456...   \n2033  0.818482  0.639431     {'l2': 0.0001, 'dropout': 0.03731911057833773}   \n2034  0.792453  0.589081  {'l2': 0.01, 'dropout': 0.17335278243153418, '...   \n2035  0.854305  0.769357     {'l2': 0.0001, 'dropout': 0.01991555395528114}   \n\n                                                   corr     fitness_rule  \\\n0                                                   NaN       mcc_parity   \n1                                                   NaN         mcc_odds   \n2                                                   NaN  mcc_opportunity   \n3                                                   NaN       acc_parity   \n4                                                   NaN         acc_odds   \n...                                                 ...              ...   \n2031  [0.47431302270011944, 0.48068498606133014, 0.4...       acc_parity   \n2032  [0.4606205250596659, 0.47653142402545745, 0.47...         acc_odds   \n2033  [0.47369255401785004, 0.4943009781075125, 0.47...         acc_odds   \n2034  [0.46316208681800075, 0.4854639585822381, 0.46...  acc_opportunity   \n2035  [0.45041816009557945, 0.46794105933890884, 0.4...  acc_opportunity   \n\n                          method                dataset  \\\n0         simple_mlp_initializer   adult_dataset_reader   \n1         simple_mlp_initializer   adult_dataset_reader   \n2         simple_mlp_initializer   adult_dataset_reader   \n3         simple_mlp_initializer   adult_dataset_reader   \n4         simple_mlp_initializer   adult_dataset_reader   \n...                          ...                    ...   \n2031      mlp_xi_reg_initializer  german_dataset_reader   \n2032  ftl_mlp_xi_reg_initializer  german_dataset_reader   \n2033      mlp_xi_reg_initializer  german_dataset_reader   \n2034  ftl_mlp_xi_reg_initializer  german_dataset_reader   \n2035      mlp_xi_reg_initializer  german_dataset_reader   \n\n                               best_solution_tf_history  \\\n0     {'loss': [0.3897703690160027, 0.34068391078622...   \n1     {'loss': [0.4009664287344603, 0.34305514207044...   \n2     {'loss': [0.40314989690662156, 0.3452559707361...   \n3     {'loss': [0.3903123053694252, 0.33910286278168...   \n4     {'loss': [0.39678069996564325, 0.3418175098418...   \n...                                                 ...   \n2031  {'loss': [0.7158758640289307, 0.66559970378875...   \n2032  {'loss': [0.6527844071388245, 0.6372030377388,...   \n2033  {'loss': [0.6456667184829712, 0.57032680511474...   \n2034  {'loss': [1.0723375082015991, 0.96666777133941...   \n2035  {'loss': [0.6756961941719055, 0.61548334360122...   \n\n                                   tune_results_history  \n0                                                   NaN  \n1                                                   NaN  \n2                                                   NaN  \n3                                                   NaN  \n4                                                   NaN  \n...                                                 ...  \n2031  [{'overall_acc': 0.7125, 'bal_acc': 0.53369905...  \n2032  [{'overall_acc': 0.71875, 'bal_acc': 0.4956896...  \n2033  [{'overall_acc': 0.6875, 'bal_acc': 0.60363636...  \n2034  [{'overall_acc': 0.68125, 'bal_acc': 0.6842211...  \n2035  [{'overall_acc': 0.7125, 'bal_acc': 0.64221477...  \n\n[2036 rows x 30 columns]",
      "text/html": "<div>\n<style scoped>\n    .dataframe tbody tr th:only-of-type {\n        vertical-align: middle;\n    }\n\n    .dataframe tbody tr th {\n        vertical-align: top;\n    }\n\n    .dataframe thead th {\n        text-align: right;\n    }\n</style>\n<table border=\"1\" class=\"dataframe\">\n  <thead>\n    <tr style=\"text-align: right;\">\n      <th></th>\n      <th>overall_acc</th>\n      <th>bal_acc</th>\n      <th>avg_odds_diff</th>\n      <th>disp_imp</th>\n      <th>stat_par_diff</th>\n      <th>eq_opp_diff</th>\n      <th>theil_ind</th>\n      <th>TPR</th>\n      <th>TNR</th>\n      <th>FPR</th>\n      <th>...</th>\n      <th>MCC</th>\n      <th>f1_score</th>\n      <th>fitness</th>\n      <th>solution</th>\n      <th>corr</th>\n      <th>fitness_rule</th>\n      <th>method</th>\n      <th>dataset</th>\n      <th>best_solution_tf_history</th>\n      <th>tune_results_history</th>\n    </tr>\n  </thead>\n  <tbody>\n    <tr>\n      <th>0</th>\n      <td>0.851299</td>\n      <td>0.776851</td>\n      <td>0.113127</td>\n      <td>0.302886</td>\n      <td>0.192633</td>\n      <td>0.142532</td>\n      <td>0.117850</td>\n      <td>0.628495</td>\n      <td>0.925206</td>\n      <td>0.074794</td>\n      <td>...</td>\n      <td>0.585170</td>\n      <td>0.677999</td>\n      <td>0.392537</td>\n      <td>{'dropout': 0.16228954240968418}</td>\n      <td>NaN</td>\n      <td>mcc_parity</td>\n      <td>simple_mlp_initializer</td>\n      <td>adult_dataset_reader</td>\n      <td>{'loss': [0.3897703690160027, 0.34068391078622...</td>\n      <td>NaN</td>\n    </tr>\n    <tr>\n      <th>1</th>\n      <td>0.851520</td>\n      <td>0.781719</td>\n      <td>0.111565</td>\n      <td>0.301498</td>\n      <td>0.198915</td>\n      <td>0.132052</td>\n      <td>0.113320</td>\n      <td>0.644856</td>\n      <td>0.918583</td>\n      <td>0.081417</td>\n      <td>...</td>\n      <td>0.585500</td>\n      <td>0.680314</td>\n      <td>0.473935</td>\n      <td>{'dropout': 0.1482543145261793}</td>\n      <td>NaN</td>\n      <td>mcc_odds</td>\n      <td>simple_mlp_initializer</td>\n      <td>adult_dataset_reader</td>\n      <td>{'loss': [0.4009664287344603, 0.34305514207044...</td>\n      <td>NaN</td>\n    </tr>\n    <tr>\n      <th>2</th>\n      <td>0.851410</td>\n      <td>0.780878</td>\n      <td>0.103235</td>\n      <td>0.319506</td>\n      <td>0.191606</td>\n      <td>0.124889</td>\n      <td>0.113980</td>\n      <td>0.642342</td>\n      <td>0.919414</td>\n      <td>0.080586</td>\n      <td>...</td>\n      <td>0.585064</td>\n      <td>0.679695</td>\n      <td>0.460175</td>\n      <td>{'dropout': 0.17861515209545933}</td>\n      <td>NaN</td>\n      <td>mcc_opportunity</td>\n      <td>simple_mlp_initializer</td>\n      <td>adult_dataset_reader</td>\n      <td>{'loss': [0.40314989690662156, 0.3452559707361...</td>\n      <td>NaN</td>\n    </tr>\n    <tr>\n      <th>3</th>\n      <td>0.844887</td>\n      <td>0.763239</td>\n      <td>0.082386</td>\n      <td>0.308388</td>\n      <td>0.183090</td>\n      <td>0.084174</td>\n      <td>0.126322</td>\n      <td>0.599383</td>\n      <td>0.927096</td>\n      <td>0.072904</td>\n      <td>...</td>\n      <td>0.565373</td>\n      <td>0.659714</td>\n      <td>0.661796</td>\n      <td>{'dropout': 0.15655371267306142}</td>\n      <td>NaN</td>\n      <td>acc_parity</td>\n      <td>simple_mlp_initializer</td>\n      <td>adult_dataset_reader</td>\n      <td>{'loss': [0.3903123053694252, 0.33910286278168...</td>\n      <td>NaN</td>\n    </tr>\n    <tr>\n      <th>4</th>\n      <td>0.850857</td>\n      <td>0.775601</td>\n      <td>0.084687</td>\n      <td>0.332983</td>\n      <td>0.180366</td>\n      <td>0.093891</td>\n      <td>0.115760</td>\n      <td>0.629562</td>\n      <td>0.921640</td>\n      <td>0.078360</td>\n      <td>...</td>\n      <td>0.577932</td>\n      <td>0.671696</td>\n      <td>0.766170</td>\n      <td>{'dropout': 0.1698638434734938}</td>\n      <td>NaN</td>\n      <td>acc_odds</td>\n      <td>simple_mlp_initializer</td>\n      <td>adult_dataset_reader</td>\n      <td>{'loss': [0.39678069996564325, 0.3418175098418...</td>\n      <td>NaN</td>\n    </tr>\n    <tr>\n      <th>...</th>\n      <td>...</td>\n      <td>...</td>\n      <td>...</td>\n      <td>...</td>\n      <td>...</td>\n      <td>...</td>\n      <td>...</td>\n      <td>...</td>\n      <td>...</td>\n      <td>...</td>\n      <td>...</td>\n      <td>...</td>\n      <td>...</td>\n      <td>...</td>\n      <td>...</td>\n      <td>...</td>\n      <td>...</td>\n      <td>...</td>\n      <td>...</td>\n      <td>...</td>\n      <td>...</td>\n    </tr>\n    <tr>\n      <th>2031</th>\n      <td>0.775000</td>\n      <td>0.668443</td>\n      <td>0.083113</td>\n      <td>1.024213</td>\n      <td>0.019233</td>\n      <td>0.047179</td>\n      <td>0.130422</td>\n      <td>0.885906</td>\n      <td>0.450980</td>\n      <td>0.549020</td>\n      <td>...</td>\n      <td>0.367089</td>\n      <td>0.854369</td>\n      <td>0.755767</td>\n      <td>{'l2': 0.0001, 'dropout': 0.18988472963313535}</td>\n      <td>[0.47431302270011944, 0.48068498606133014, 0.4...</td>\n      <td>acc_parity</td>\n      <td>mlp_xi_reg_initializer</td>\n      <td>german_dataset_reader</td>\n      <td>{'loss': [0.7158758640289307, 0.66559970378875...</td>\n      <td>[{'overall_acc': 0.7125, 'bal_acc': 0.53369905...</td>\n    </tr>\n    <tr>\n      <th>2032</th>\n      <td>0.710000</td>\n      <td>0.500000</td>\n      <td>0.000000</td>\n      <td>1.000000</td>\n      <td>0.000000</td>\n      <td>0.000000</td>\n      <td>0.057005</td>\n      <td>1.000000</td>\n      <td>0.000000</td>\n      <td>1.000000</td>\n      <td>...</td>\n      <td>0.000000</td>\n      <td>0.830409</td>\n      <td>0.710000</td>\n      <td>{'l2': 0.0001, 'dropout': 0.052120058951547456...</td>\n      <td>[0.4606205250596659, 0.47653142402545745, 0.47...</td>\n      <td>acc_odds</td>\n      <td>ftl_mlp_xi_reg_initializer</td>\n      <td>german_dataset_reader</td>\n      <td>{'loss': [0.6527844071388245, 0.6372030377388,...</td>\n      <td>[{'overall_acc': 0.71875, 'bal_acc': 0.4956896...</td>\n    </tr>\n    <tr>\n      <th>2033</th>\n      <td>0.725000</td>\n      <td>0.617682</td>\n      <td>0.085569</td>\n      <td>0.938399</td>\n      <td>0.050948</td>\n      <td>0.013889</td>\n      <td>0.138522</td>\n      <td>0.879433</td>\n      <td>0.355932</td>\n      <td>0.644068</td>\n      <td>...</td>\n      <td>0.273607</td>\n      <td>0.818482</td>\n      <td>0.639431</td>\n      <td>{'l2': 0.0001, 'dropout': 0.03731911057833773}</td>\n      <td>[0.47369255401785004, 0.4943009781075125, 0.47...</td>\n      <td>acc_odds</td>\n      <td>mlp_xi_reg_initializer</td>\n      <td>german_dataset_reader</td>\n      <td>{'loss': [0.6456667184829712, 0.57032680511474...</td>\n      <td>[{'overall_acc': 0.6875, 'bal_acc': 0.60363636...</td>\n    </tr>\n    <tr>\n      <th>2034</th>\n      <td>0.725000</td>\n      <td>0.687500</td>\n      <td>0.150377</td>\n      <td>0.760401</td>\n      <td>0.186922</td>\n      <td>0.135919</td>\n      <td>0.128669</td>\n      <td>0.875000</td>\n      <td>0.500000</td>\n      <td>0.500000</td>\n      <td>...</td>\n      <td>0.411435</td>\n      <td>0.792453</td>\n      <td>0.589081</td>\n      <td>{'l2': 0.01, 'dropout': 0.17335278243153418, '...</td>\n      <td>[0.46316208681800075, 0.4854639585822381, 0.46...</td>\n      <td>acc_opportunity</td>\n      <td>ftl_mlp_xi_reg_initializer</td>\n      <td>german_dataset_reader</td>\n      <td>{'loss': [1.0723375082015991, 0.96666777133941...</td>\n      <td>[{'overall_acc': 0.68125, 'bal_acc': 0.6842211...</td>\n    </tr>\n    <tr>\n      <th>2035</th>\n      <td>0.780000</td>\n      <td>0.690282</td>\n      <td>0.051750</td>\n      <td>0.930553</td>\n      <td>0.055656</td>\n      <td>0.010643</td>\n      <td>0.124827</td>\n      <td>0.889655</td>\n      <td>0.490909</td>\n      <td>0.509091</td>\n      <td>...</td>\n      <td>0.413627</td>\n      <td>0.854305</td>\n      <td>0.769357</td>\n      <td>{'l2': 0.0001, 'dropout': 0.01991555395528114}</td>\n      <td>[0.45041816009557945, 0.46794105933890884, 0.4...</td>\n      <td>acc_opportunity</td>\n      <td>mlp_xi_reg_initializer</td>\n      <td>german_dataset_reader</td>\n      <td>{'loss': [0.6756961941719055, 0.61548334360122...</td>\n      <td>[{'overall_acc': 0.7125, 'bal_acc': 0.64221477...</td>\n    </tr>\n  </tbody>\n</table>\n<p>2036 rows × 30 columns</p>\n</div>"
     },
     "execution_count": 33,
     "metadata": {},
     "output_type": "execute_result"
    }
   ],
   "source": [
    "results = read_csv_files_from_folder('results')\n",
    "\n",
    "for method in results.method:\n",
    "    method_results = results[results.method == method]\n",
    "    csv_path = f\"{method.replace('_initializer','')}_results.csv\"\n",
    "    method_results.reset_index(drop=True, inplace=True)\n",
    "    method_results[cols].to_csv(csv_path, index=False)\n",
    "\n",
    "results"
   ],
   "metadata": {
    "collapsed": false,
    "ExecuteTime": {
     "end_time": "2024-05-10T13:34:21.034130744Z",
     "start_time": "2024-05-10T13:34:10.838198811Z"
    }
   }
  },
  {
   "cell_type": "code",
   "execution_count": 33,
   "outputs": [],
   "source": [],
   "metadata": {
    "collapsed": false,
    "ExecuteTime": {
     "end_time": "2024-05-10T13:34:21.034528844Z",
     "start_time": "2024-05-10T13:34:21.032970389Z"
    }
   }
  },
  {
   "cell_type": "code",
   "outputs": [],
   "source": [],
   "metadata": {
    "collapsed": false,
    "ExecuteTime": {
     "end_time": "2024-05-10T13:34:21.038589049Z",
     "start_time": "2024-05-10T13:34:21.034862702Z"
    }
   },
   "execution_count": 33
  }
 ],
 "metadata": {
  "kernelspec": {
   "display_name": "Python 3",
   "language": "python",
   "name": "python3"
  },
  "language_info": {
   "codemirror_mode": {
    "name": "ipython",
    "version": 2
   },
   "file_extension": ".py",
   "mimetype": "text/x-python",
   "name": "python",
   "nbconvert_exporter": "python",
   "pygments_lexer": "ipython2",
   "version": "2.7.6"
  }
 },
 "nbformat": 4,
 "nbformat_minor": 0
}
