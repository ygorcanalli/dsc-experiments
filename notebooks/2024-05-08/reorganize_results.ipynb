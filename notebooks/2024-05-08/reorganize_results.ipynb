{
 "cells": [
  {
   "cell_type": "code",
   "execution_count": 11,
   "metadata": {
    "collapsed": true,
    "ExecuteTime": {
     "end_time": "2024-05-10T02:17:46.077559172Z",
     "start_time": "2024-05-10T02:17:46.064894921Z"
    }
   },
   "outputs": [],
   "source": [
    "import pandas as pd\n",
    "import os\n",
    "from IPython.display import display"
   ]
  },
  {
   "cell_type": "code",
   "execution_count": 12,
   "outputs": [],
   "source": [
    "def read_csv_files_from_folder(folder_path):\n",
    "    # Initialize an empty list to store DataFrames\n",
    "    dfs = []\n",
    "\n",
    "    # Get a list of files in the folder\n",
    "    file_list = os.listdir(folder_path)\n",
    "\n",
    "    # Iterate through the files in the folder\n",
    "    for file_name in file_list:\n",
    "        # Check if the file has a .csv extension\n",
    "        if file_name.endswith(\".csv\"):\n",
    "            file_path = os.path.join(folder_path, file_name)\n",
    "\n",
    "            # Read the CSV file into a DataFrame\n",
    "            df = pd.read_csv(file_path, index_col=0)\n",
    "\n",
    "            # Append the DataFrame to the list\n",
    "            dfs.append(df)\n",
    "\n",
    "    # Concatenate all DataFrames into a single DataFrame\n",
    "    combined_df = pd.concat(dfs, ignore_index=True)\n",
    "\n",
    "    return combined_df"
   ],
   "metadata": {
    "collapsed": false,
    "ExecuteTime": {
     "end_time": "2024-05-10T02:17:46.094663900Z",
     "start_time": "2024-05-10T02:17:46.083220657Z"
    }
   }
  },
  {
   "cell_type": "code",
   "execution_count": 13,
   "outputs": [],
   "source": [
    "cols = ['dataset', 'method', 'fitness_rule', 'fitness', 'ACC', 'MCC', 'avg_odds_diff', 'stat_par_diff', 'eq_opp_diff', 'solution']"
   ],
   "metadata": {
    "collapsed": false,
    "ExecuteTime": {
     "end_time": "2024-05-10T02:17:46.094963299Z",
     "start_time": "2024-05-10T02:17:46.093703996Z"
    }
   }
  },
  {
   "cell_type": "code",
   "execution_count": 14,
   "outputs": [
    {
     "data": {
      "text/plain": "      overall_acc   bal_acc  avg_odds_diff  disp_imp  stat_par_diff  \\\n0        0.851299  0.776851       0.113127  0.302886       0.192633   \n1        0.851520  0.781719       0.111565  0.301498       0.198915   \n2        0.851410  0.780878       0.103235  0.319506       0.191606   \n3        0.844887  0.763239       0.082386  0.308388       0.183090   \n4        0.850857  0.775601       0.084687  0.332983       0.180366   \n...           ...       ...            ...       ...            ...   \n1887     0.834826  0.712815       0.194563  1.017703       0.002689   \n1888     0.841902  0.791256       0.056631  0.466677       0.162426   \n1889     0.830072  0.796676       0.056111  0.468332       0.183029   \n1890     0.832062  0.709825       0.163951  0.901153       0.015384   \n1891     0.837700  0.689960       0.064041  0.540695       0.062156   \n\n      eq_opp_diff  theil_ind       TPR       TNR       FPR  ...       MCC  \\\n0        0.142532   0.117850  0.628495  0.925206  0.074794  ...  0.585170   \n1        0.132052   0.113320  0.644856  0.918583  0.081417  ...  0.585500   \n2        0.124889   0.113980  0.642342  0.919414  0.080586  ...  0.585064   \n3        0.084174   0.126322  0.599383  0.927096  0.072904  ...  0.565373   \n4        0.093891   0.115760  0.629562  0.921640  0.078360  ...  0.577932   \n...           ...        ...       ...       ...       ...  ...       ...   \n1887     0.344431   0.152011  0.474615  0.951016  0.048984  ...  0.508018   \n1888     0.043571   0.105896  0.692763  0.889749  0.110251  ...  0.575559   \n1889     0.024796   0.102251  0.730477  0.862875  0.137125  ...  0.567975   \n1890     0.301306   0.157353  0.465487  0.954164  0.045836  ...  0.507846   \n1891     0.122280   0.164410  0.402273  0.977648  0.022352  ...  0.511396   \n\n      f1_score   fitness                                           solution  \\\n0     0.677999  0.392537                   {'dropout': 0.16228954240968418}   \n1     0.680314  0.473935                    {'dropout': 0.1482543145261793}   \n2     0.679695  0.460175                   {'dropout': 0.17861515209545933}   \n3     0.659714  0.661796                   {'dropout': 0.15655371267306142}   \n4     0.671696  0.766170                    {'dropout': 0.1698638434734938}   \n...        ...       ...                                                ...   \n1887  0.583612  0.505328  {'l2': 0.001, 'corr_type': 'pearson', 'privile...   \n1888  0.680376  0.518928  {'l2': 0.0001, 'corr_type': 'none', 'privilege...   \n1889  0.680524  0.543179  {'l2': 0.01, 'corr_type': 'none', 'privileged_...   \n1890  0.580734  0.816677  {'l2': 0.001, 'corr_type': 'pearson', 'privile...   \n1891  0.546634  0.773660  {'l2': 0.0001, 'corr_type': 'pearson', 'privil...   \n\n                                                   corr     fitness_rule  \\\n0                                                   NaN       mcc_parity   \n1                                                   NaN         mcc_odds   \n2                                                   NaN  mcc_opportunity   \n3                                                   NaN       acc_parity   \n4                                                   NaN         acc_odds   \n...                                                 ...              ...   \n1887  [0.07949581520504043, 0.006564163118755443, 1....       mcc_parity   \n1888                                                NaN         mcc_odds   \n1889                                                NaN  mcc_opportunity   \n1890  [0.08226560040428527, 0.001627179599881047, 0....       acc_parity   \n1891  [0.07654610971882586, 0.006627337426814415, 1....         acc_odds   \n\n                            method               dataset  \\\n0           simple_mlp_initializer  adult_dataset_reader   \n1           simple_mlp_initializer  adult_dataset_reader   \n2           simple_mlp_initializer  adult_dataset_reader   \n3           simple_mlp_initializer  adult_dataset_reader   \n4           simple_mlp_initializer  adult_dataset_reader   \n...                            ...                   ...   \n1887  ftl_mlp_auto_reg_initializer  adult_dataset_reader   \n1888  ftl_mlp_auto_reg_initializer  adult_dataset_reader   \n1889  ftl_mlp_auto_reg_initializer  adult_dataset_reader   \n1890  ftl_mlp_auto_reg_initializer  adult_dataset_reader   \n1891  ftl_mlp_auto_reg_initializer  adult_dataset_reader   \n\n                               best_solution_tf_history  \\\n0     {'loss': [0.3897703690160027, 0.34068391078622...   \n1     {'loss': [0.4009664287344603, 0.34305514207044...   \n2     {'loss': [0.40314989690662156, 0.3452559707361...   \n3     {'loss': [0.3903123053694252, 0.33910286278168...   \n4     {'loss': [0.39678069996564325, 0.3418175098418...   \n...                                                 ...   \n1887  {'loss': [0.5290058255195618, 0.50226402282714...   \n1888  {'loss': [0.4514363408088684, 0.42550694942474...   \n1889  {'loss': [0.4924320876598358, 0.47653138637542...   \n1890  {'loss': [0.5364723205566406, 0.51021206378936...   \n1891  {'loss': [0.7936046719551086, 0.79043370485305...   \n\n                                   tune_results_history  \n0                                                   NaN  \n1                                                   NaN  \n2                                                   NaN  \n3                                                   NaN  \n4                                                   NaN  \n...                                                 ...  \n1887  [{'overall_acc': 0.5793255942509674, 'bal_acc'...  \n1888  [{'overall_acc': 0.4244057490326147, 'bal_acc'...  \n1889  [{'overall_acc': 0.5239082365948038, 'bal_acc'...  \n1890  [{'overall_acc': 0.5863736871199557, 'bal_acc'...  \n1891  [{'overall_acc': 0.535240464344942, 'bal_acc':...  \n\n[1892 rows x 30 columns]",
      "text/html": "<div>\n<style scoped>\n    .dataframe tbody tr th:only-of-type {\n        vertical-align: middle;\n    }\n\n    .dataframe tbody tr th {\n        vertical-align: top;\n    }\n\n    .dataframe thead th {\n        text-align: right;\n    }\n</style>\n<table border=\"1\" class=\"dataframe\">\n  <thead>\n    <tr style=\"text-align: right;\">\n      <th></th>\n      <th>overall_acc</th>\n      <th>bal_acc</th>\n      <th>avg_odds_diff</th>\n      <th>disp_imp</th>\n      <th>stat_par_diff</th>\n      <th>eq_opp_diff</th>\n      <th>theil_ind</th>\n      <th>TPR</th>\n      <th>TNR</th>\n      <th>FPR</th>\n      <th>...</th>\n      <th>MCC</th>\n      <th>f1_score</th>\n      <th>fitness</th>\n      <th>solution</th>\n      <th>corr</th>\n      <th>fitness_rule</th>\n      <th>method</th>\n      <th>dataset</th>\n      <th>best_solution_tf_history</th>\n      <th>tune_results_history</th>\n    </tr>\n  </thead>\n  <tbody>\n    <tr>\n      <th>0</th>\n      <td>0.851299</td>\n      <td>0.776851</td>\n      <td>0.113127</td>\n      <td>0.302886</td>\n      <td>0.192633</td>\n      <td>0.142532</td>\n      <td>0.117850</td>\n      <td>0.628495</td>\n      <td>0.925206</td>\n      <td>0.074794</td>\n      <td>...</td>\n      <td>0.585170</td>\n      <td>0.677999</td>\n      <td>0.392537</td>\n      <td>{'dropout': 0.16228954240968418}</td>\n      <td>NaN</td>\n      <td>mcc_parity</td>\n      <td>simple_mlp_initializer</td>\n      <td>adult_dataset_reader</td>\n      <td>{'loss': [0.3897703690160027, 0.34068391078622...</td>\n      <td>NaN</td>\n    </tr>\n    <tr>\n      <th>1</th>\n      <td>0.851520</td>\n      <td>0.781719</td>\n      <td>0.111565</td>\n      <td>0.301498</td>\n      <td>0.198915</td>\n      <td>0.132052</td>\n      <td>0.113320</td>\n      <td>0.644856</td>\n      <td>0.918583</td>\n      <td>0.081417</td>\n      <td>...</td>\n      <td>0.585500</td>\n      <td>0.680314</td>\n      <td>0.473935</td>\n      <td>{'dropout': 0.1482543145261793}</td>\n      <td>NaN</td>\n      <td>mcc_odds</td>\n      <td>simple_mlp_initializer</td>\n      <td>adult_dataset_reader</td>\n      <td>{'loss': [0.4009664287344603, 0.34305514207044...</td>\n      <td>NaN</td>\n    </tr>\n    <tr>\n      <th>2</th>\n      <td>0.851410</td>\n      <td>0.780878</td>\n      <td>0.103235</td>\n      <td>0.319506</td>\n      <td>0.191606</td>\n      <td>0.124889</td>\n      <td>0.113980</td>\n      <td>0.642342</td>\n      <td>0.919414</td>\n      <td>0.080586</td>\n      <td>...</td>\n      <td>0.585064</td>\n      <td>0.679695</td>\n      <td>0.460175</td>\n      <td>{'dropout': 0.17861515209545933}</td>\n      <td>NaN</td>\n      <td>mcc_opportunity</td>\n      <td>simple_mlp_initializer</td>\n      <td>adult_dataset_reader</td>\n      <td>{'loss': [0.40314989690662156, 0.3452559707361...</td>\n      <td>NaN</td>\n    </tr>\n    <tr>\n      <th>3</th>\n      <td>0.844887</td>\n      <td>0.763239</td>\n      <td>0.082386</td>\n      <td>0.308388</td>\n      <td>0.183090</td>\n      <td>0.084174</td>\n      <td>0.126322</td>\n      <td>0.599383</td>\n      <td>0.927096</td>\n      <td>0.072904</td>\n      <td>...</td>\n      <td>0.565373</td>\n      <td>0.659714</td>\n      <td>0.661796</td>\n      <td>{'dropout': 0.15655371267306142}</td>\n      <td>NaN</td>\n      <td>acc_parity</td>\n      <td>simple_mlp_initializer</td>\n      <td>adult_dataset_reader</td>\n      <td>{'loss': [0.3903123053694252, 0.33910286278168...</td>\n      <td>NaN</td>\n    </tr>\n    <tr>\n      <th>4</th>\n      <td>0.850857</td>\n      <td>0.775601</td>\n      <td>0.084687</td>\n      <td>0.332983</td>\n      <td>0.180366</td>\n      <td>0.093891</td>\n      <td>0.115760</td>\n      <td>0.629562</td>\n      <td>0.921640</td>\n      <td>0.078360</td>\n      <td>...</td>\n      <td>0.577932</td>\n      <td>0.671696</td>\n      <td>0.766170</td>\n      <td>{'dropout': 0.1698638434734938}</td>\n      <td>NaN</td>\n      <td>acc_odds</td>\n      <td>simple_mlp_initializer</td>\n      <td>adult_dataset_reader</td>\n      <td>{'loss': [0.39678069996564325, 0.3418175098418...</td>\n      <td>NaN</td>\n    </tr>\n    <tr>\n      <th>...</th>\n      <td>...</td>\n      <td>...</td>\n      <td>...</td>\n      <td>...</td>\n      <td>...</td>\n      <td>...</td>\n      <td>...</td>\n      <td>...</td>\n      <td>...</td>\n      <td>...</td>\n      <td>...</td>\n      <td>...</td>\n      <td>...</td>\n      <td>...</td>\n      <td>...</td>\n      <td>...</td>\n      <td>...</td>\n      <td>...</td>\n      <td>...</td>\n      <td>...</td>\n      <td>...</td>\n    </tr>\n    <tr>\n      <th>1887</th>\n      <td>0.834826</td>\n      <td>0.712815</td>\n      <td>0.194563</td>\n      <td>1.017703</td>\n      <td>0.002689</td>\n      <td>0.344431</td>\n      <td>0.152011</td>\n      <td>0.474615</td>\n      <td>0.951016</td>\n      <td>0.048984</td>\n      <td>...</td>\n      <td>0.508018</td>\n      <td>0.583612</td>\n      <td>0.505328</td>\n      <td>{'l2': 0.001, 'corr_type': 'pearson', 'privile...</td>\n      <td>[0.07949581520504043, 0.006564163118755443, 1....</td>\n      <td>mcc_parity</td>\n      <td>ftl_mlp_auto_reg_initializer</td>\n      <td>adult_dataset_reader</td>\n      <td>{'loss': [0.5290058255195618, 0.50226402282714...</td>\n      <td>[{'overall_acc': 0.5793255942509674, 'bal_acc'...</td>\n    </tr>\n    <tr>\n      <th>1888</th>\n      <td>0.841902</td>\n      <td>0.791256</td>\n      <td>0.056631</td>\n      <td>0.466677</td>\n      <td>0.162426</td>\n      <td>0.043571</td>\n      <td>0.105896</td>\n      <td>0.692763</td>\n      <td>0.889749</td>\n      <td>0.110251</td>\n      <td>...</td>\n      <td>0.575559</td>\n      <td>0.680376</td>\n      <td>0.518928</td>\n      <td>{'l2': 0.0001, 'corr_type': 'none', 'privilege...</td>\n      <td>NaN</td>\n      <td>mcc_odds</td>\n      <td>ftl_mlp_auto_reg_initializer</td>\n      <td>adult_dataset_reader</td>\n      <td>{'loss': [0.4514363408088684, 0.42550694942474...</td>\n      <td>[{'overall_acc': 0.4244057490326147, 'bal_acc'...</td>\n    </tr>\n    <tr>\n      <th>1889</th>\n      <td>0.830072</td>\n      <td>0.796676</td>\n      <td>0.056111</td>\n      <td>0.468332</td>\n      <td>0.183029</td>\n      <td>0.024796</td>\n      <td>0.102251</td>\n      <td>0.730477</td>\n      <td>0.862875</td>\n      <td>0.137125</td>\n      <td>...</td>\n      <td>0.567975</td>\n      <td>0.680524</td>\n      <td>0.543179</td>\n      <td>{'l2': 0.01, 'corr_type': 'none', 'privileged_...</td>\n      <td>NaN</td>\n      <td>mcc_opportunity</td>\n      <td>ftl_mlp_auto_reg_initializer</td>\n      <td>adult_dataset_reader</td>\n      <td>{'loss': [0.4924320876598358, 0.47653138637542...</td>\n      <td>[{'overall_acc': 0.5239082365948038, 'bal_acc'...</td>\n    </tr>\n    <tr>\n      <th>1890</th>\n      <td>0.832062</td>\n      <td>0.709825</td>\n      <td>0.163951</td>\n      <td>0.901153</td>\n      <td>0.015384</td>\n      <td>0.301306</td>\n      <td>0.157353</td>\n      <td>0.465487</td>\n      <td>0.954164</td>\n      <td>0.045836</td>\n      <td>...</td>\n      <td>0.507846</td>\n      <td>0.580734</td>\n      <td>0.816677</td>\n      <td>{'l2': 0.001, 'corr_type': 'pearson', 'privile...</td>\n      <td>[0.08226560040428527, 0.001627179599881047, 0....</td>\n      <td>acc_parity</td>\n      <td>ftl_mlp_auto_reg_initializer</td>\n      <td>adult_dataset_reader</td>\n      <td>{'loss': [0.5364723205566406, 0.51021206378936...</td>\n      <td>[{'overall_acc': 0.5863736871199557, 'bal_acc'...</td>\n    </tr>\n    <tr>\n      <th>1891</th>\n      <td>0.837700</td>\n      <td>0.689960</td>\n      <td>0.064041</td>\n      <td>0.540695</td>\n      <td>0.062156</td>\n      <td>0.122280</td>\n      <td>0.164410</td>\n      <td>0.402273</td>\n      <td>0.977648</td>\n      <td>0.022352</td>\n      <td>...</td>\n      <td>0.511396</td>\n      <td>0.546634</td>\n      <td>0.773660</td>\n      <td>{'l2': 0.0001, 'corr_type': 'pearson', 'privil...</td>\n      <td>[0.07654610971882586, 0.006627337426814415, 1....</td>\n      <td>acc_odds</td>\n      <td>ftl_mlp_auto_reg_initializer</td>\n      <td>adult_dataset_reader</td>\n      <td>{'loss': [0.7936046719551086, 0.79043370485305...</td>\n      <td>[{'overall_acc': 0.535240464344942, 'bal_acc':...</td>\n    </tr>\n  </tbody>\n</table>\n<p>1892 rows × 30 columns</p>\n</div>"
     },
     "execution_count": 14,
     "metadata": {},
     "output_type": "execute_result"
    }
   ],
   "source": [
    "results = read_csv_files_from_folder('results')\n",
    "mlp_baseline_results = results[results.method == 'simple_mlp_initializer']\n",
    "mlp_pearson_results = results[results.method == 'mlp_preg_initializer']\n",
    "mlp_spearman_results = results[results.method == 'mlp_sreg_initializer']\n",
    "mlp_auto_reg_results = results[results.method == 'mlp_auto_reg_initializer']\n",
    "\n",
    "ftl_baseline_results = results[results.method == 'ftl_mlp_initializer']\n",
    "ftl_pearson_results = results[results.method == 'ftl_mlp_preg_initializer']\n",
    "ftl_spearman_results = results[results.method == 'ftl_mlp_sreg_initializer']\n",
    "ftl_auto_reg_results = results[results.method == 'ftl_mlp_auto_reg_initializer']\n",
    "\n",
    "csv_path = 'mlp_baseline_results' + '.csv'\n",
    "mlp_baseline_results.reset_index(drop=True, inplace=True)\n",
    "mlp_baseline_results[cols].to_csv(csv_path, index=False)\n",
    "\n",
    "csv_path = 'mlp_pearson_results' + '.csv'\n",
    "mlp_pearson_results.reset_index(drop=True, inplace=True)\n",
    "mlp_pearson_results[cols].to_csv(csv_path, index=False)\n",
    "\n",
    "csv_path = 'mlp_spearman_results' + '.csv'\n",
    "mlp_spearman_results.reset_index(drop=True, inplace=True)\n",
    "mlp_spearman_results[cols].to_csv(csv_path, index=False)\n",
    "\n",
    "csv_path = 'mlp_auto_reg_results' + '.csv'\n",
    "mlp_auto_reg_results.reset_index(drop=True, inplace=True)\n",
    "mlp_auto_reg_results[cols].to_csv(csv_path, index=False)\n",
    "\n",
    "csv_path = 'ftl_baseline_results' + '.csv'\n",
    "ftl_baseline_results.reset_index(drop=True, inplace=True)\n",
    "ftl_baseline_results[cols].to_csv(csv_path, index=False)\n",
    "\n",
    "csv_path = 'ftl_pearson_results' + '.csv'\n",
    "ftl_pearson_results.reset_index(drop=True, inplace=True)\n",
    "ftl_pearson_results[cols].to_csv(csv_path, index=False)\n",
    "\n",
    "csv_path = 'ftl_spearman_results' + '.csv'\n",
    "ftl_spearman_results.reset_index(drop=True, inplace=True)\n",
    "ftl_spearman_results[cols].to_csv(csv_path, index=False)\n",
    "\n",
    "csv_path = 'ftl_auto_reg_results' + '.csv'\n",
    "ftl_auto_reg_results.reset_index(drop=True, inplace=True)\n",
    "ftl_auto_reg_results[cols].to_csv(csv_path, index=False)\n",
    "\n",
    "results"
   ],
   "metadata": {
    "collapsed": false,
    "ExecuteTime": {
     "end_time": "2024-05-10T02:17:47.815626539Z",
     "start_time": "2024-05-10T02:17:46.098811835Z"
    }
   }
  },
  {
   "cell_type": "code",
   "execution_count": 14,
   "outputs": [],
   "source": [],
   "metadata": {
    "collapsed": false,
    "ExecuteTime": {
     "end_time": "2024-05-10T02:17:47.815974645Z",
     "start_time": "2024-05-10T02:17:47.812915171Z"
    }
   }
  },
  {
   "cell_type": "code",
   "outputs": [],
   "source": [],
   "metadata": {
    "collapsed": false,
    "ExecuteTime": {
     "end_time": "2024-05-10T02:17:47.819906994Z",
     "start_time": "2024-05-10T02:17:47.815409545Z"
    }
   },
   "execution_count": 14
  }
 ],
 "metadata": {
  "kernelspec": {
   "display_name": "Python 3",
   "language": "python",
   "name": "python3"
  },
  "language_info": {
   "codemirror_mode": {
    "name": "ipython",
    "version": 2
   },
   "file_extension": ".py",
   "mimetype": "text/x-python",
   "name": "python",
   "nbconvert_exporter": "python",
   "pygments_lexer": "ipython2",
   "version": "2.7.6"
  }
 },
 "nbformat": 4,
 "nbformat_minor": 0
}
