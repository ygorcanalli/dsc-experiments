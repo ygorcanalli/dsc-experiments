{
 "cells": [
  {
   "cell_type": "code",
   "execution_count": 51,
   "metadata": {
    "collapsed": true,
    "ExecuteTime": {
     "end_time": "2024-05-08T17:04:17.750664319Z",
     "start_time": "2024-05-08T17:04:17.654543179Z"
    }
   },
   "outputs": [],
   "source": [
    "import pandas as pd\n",
    "import os\n",
    "from IPython.display import display"
   ]
  },
  {
   "cell_type": "code",
   "execution_count": 52,
   "outputs": [],
   "source": [
    "def read_csv_files_from_folder(folder_path):\n",
    "    # Initialize an empty list to store DataFrames\n",
    "    dfs = []\n",
    "\n",
    "    # Get a list of files in the folder\n",
    "    file_list = os.listdir(folder_path)\n",
    "\n",
    "    # Iterate through the files in the folder\n",
    "    for file_name in file_list:\n",
    "        # Check if the file has a .csv extension\n",
    "        if file_name.endswith(\".csv\"):\n",
    "            file_path = os.path.join(folder_path, file_name)\n",
    "\n",
    "            # Read the CSV file into a DataFrame\n",
    "            df = pd.read_csv(file_path, index_col=0)\n",
    "\n",
    "            # Append the DataFrame to the list\n",
    "            dfs.append(df)\n",
    "\n",
    "    # Concatenate all DataFrames into a single DataFrame\n",
    "    combined_df = pd.concat(dfs, ignore_index=True)\n",
    "\n",
    "    return combined_df"
   ],
   "metadata": {
    "collapsed": false,
    "ExecuteTime": {
     "end_time": "2024-05-08T17:04:17.805626735Z",
     "start_time": "2024-05-08T17:04:17.683026422Z"
    }
   }
  },
  {
   "cell_type": "code",
   "execution_count": 53,
   "outputs": [],
   "source": [
    "cols = ['dataset', 'method', 'fitness_rule', 'fitness', 'ACC', 'MCC', 'avg_odds_diff', 'stat_par_diff', 'eq_opp_diff', 'solution']"
   ],
   "metadata": {
    "collapsed": false,
    "ExecuteTime": {
     "end_time": "2024-05-08T17:04:17.886270021Z",
     "start_time": "2024-05-08T17:04:17.760175018Z"
    }
   }
  },
  {
   "cell_type": "code",
   "execution_count": 54,
   "outputs": [
    {
     "data": {
      "text/plain": "     overall_acc   bal_acc  avg_odds_diff  disp_imp  stat_par_diff  \\\n0       0.851299  0.776851       0.113127  0.302886       0.192633   \n1       0.851520  0.781719       0.111565  0.301498       0.198915   \n2       0.851410  0.780878       0.103235  0.319506       0.191606   \n3       0.844887  0.763239       0.082386  0.308388       0.183090   \n4       0.850857  0.775601       0.084687  0.332983       0.180366   \n..           ...       ...            ...       ...            ...   \n861     0.847319  0.767226       0.099500  0.302022       0.185671   \n862     0.847430  0.760867       0.077861  0.308489       0.174510   \n863     0.844002  0.776494       0.068422  0.354321       0.184916   \n864     0.849088  0.768748       0.054287  0.333990       0.175794   \n865     0.847430  0.779008       0.106897  0.281968       0.209313   \n\n     eq_opp_diff  theil_ind       TPR       TNR       FPR  ...       MCC  \\\n0       0.142532   0.117850  0.628495  0.925206  0.074794  ...  0.585170   \n1       0.132052   0.113320  0.644856  0.918583  0.081417  ...  0.585500   \n2       0.124889   0.113980  0.642342  0.919414  0.080586  ...  0.585064   \n3       0.084174   0.126322  0.599383  0.927096  0.072904  ...  0.565373   \n4       0.093891   0.115760  0.629562  0.921640  0.078360  ...  0.577932   \n..           ...        ...       ...       ...       ...  ...       ...   \n861     0.127242   0.124644  0.605702  0.928751  0.071249  ...  0.573828   \n862     0.083271   0.127806  0.587379  0.934356  0.065644  ...  0.569120   \n863     0.058441   0.119031  0.639738  0.913249  0.086751  ...  0.574249   \n864     0.034028   0.120065  0.612171  0.925325  0.074675  ...  0.570852   \n865     0.119846   0.116816  0.641817  0.916199  0.083801  ...  0.580357   \n\n     f1_score   fitness                                       solution  \\\n0    0.677999  0.392537               {'dropout': 0.16228954240968418}   \n1    0.680314  0.473935                {'dropout': 0.1482543145261793}   \n2    0.679695  0.460175               {'dropout': 0.17861515209545933}   \n3    0.659714  0.661796               {'dropout': 0.15655371267306142}   \n4    0.671696  0.766170                {'dropout': 0.1698638434734938}   \n..        ...       ...                                            ...   \n861  0.666667  0.388156  {'l2': 0.0001, 'dropout': 0.1857562299640131}   \n862  0.658585  0.491259              {'l2': 0.01, 'corr_type': 'none'}   \n863  0.674960  0.505826  {'l2': 0.001, 'dropout': 0.02614545095217384}   \n864  0.663876  0.516566   {'l2': 0.01, 'dropout': 0.04767341755861925}   \n865  0.678322  0.460511              {'l2': 0.01, 'corr_type': 'none'}   \n\n                                                  corr     fitness_rule  \\\n0                                                  NaN       mcc_parity   \n1                                                  NaN         mcc_odds   \n2                                                  NaN  mcc_opportunity   \n3                                                  NaN       acc_parity   \n4                                                  NaN         acc_odds   \n..                                                 ...              ...   \n861  [0.09743776826927335, 0.00114968521804583, 0.9...       mcc_parity   \n862                                                NaN         mcc_odds   \n863  [0.08445229913815229, 0.00034336219828059317, ...         mcc_odds   \n864  [0.09270752085793302, 0.004951997621533634, 1....         mcc_odds   \n865                                                NaN  mcc_opportunity   \n\n                       method               dataset  \\\n0      simple_mlp_initializer  adult_dataset_reader   \n1      simple_mlp_initializer  adult_dataset_reader   \n2      simple_mlp_initializer  adult_dataset_reader   \n3      simple_mlp_initializer  adult_dataset_reader   \n4      simple_mlp_initializer  adult_dataset_reader   \n..                        ...                   ...   \n861      mlp_sreg_initializer  adult_dataset_reader   \n862  mlp_auto_reg_initializer  adult_dataset_reader   \n863      mlp_preg_initializer  adult_dataset_reader   \n864      mlp_sreg_initializer  adult_dataset_reader   \n865  mlp_auto_reg_initializer  adult_dataset_reader   \n\n                              best_solution_tf_history  \\\n0    {'loss': [0.3897703690160027, 0.34068391078622...   \n1    {'loss': [0.4009664287344603, 0.34305514207044...   \n2    {'loss': [0.40314989690662156, 0.3452559707361...   \n3    {'loss': [0.3903123053694252, 0.33910286278168...   \n4    {'loss': [0.39678069996564325, 0.3418175098418...   \n..                                                 ...   \n861  {'loss': [0.39841753244400024, 0.3448292613029...   \n862  {'loss': [0.38722044229507446, 0.3352578580379...   \n863  {'loss': [0.401528000831604, 0.33710977435112,...   \n864  {'loss': [0.4490545690059662, 0.37847325205802...   \n865  {'loss': [0.38060829043388367, 0.3368454575538...   \n\n                                  tune_results_history  \n0                                                  NaN  \n1                                                  NaN  \n2                                                  NaN  \n3                                                  NaN  \n4                                                  NaN  \n..                                                 ...  \n861  [{'overall_acc': 0.8518518518518519, 'bal_acc'...  \n862  [{'overall_acc': 0.8528192371475953, 'bal_acc'...  \n863  [{'overall_acc': 0.8446655610834716, 'bal_acc'...  \n864  [{'overall_acc': 0.845771144278607, 'bal_acc':...  \n865  [{'overall_acc': 0.8463239358761747, 'bal_acc'...  \n\n[866 rows x 30 columns]",
      "text/html": "<div>\n<style scoped>\n    .dataframe tbody tr th:only-of-type {\n        vertical-align: middle;\n    }\n\n    .dataframe tbody tr th {\n        vertical-align: top;\n    }\n\n    .dataframe thead th {\n        text-align: right;\n    }\n</style>\n<table border=\"1\" class=\"dataframe\">\n  <thead>\n    <tr style=\"text-align: right;\">\n      <th></th>\n      <th>overall_acc</th>\n      <th>bal_acc</th>\n      <th>avg_odds_diff</th>\n      <th>disp_imp</th>\n      <th>stat_par_diff</th>\n      <th>eq_opp_diff</th>\n      <th>theil_ind</th>\n      <th>TPR</th>\n      <th>TNR</th>\n      <th>FPR</th>\n      <th>...</th>\n      <th>MCC</th>\n      <th>f1_score</th>\n      <th>fitness</th>\n      <th>solution</th>\n      <th>corr</th>\n      <th>fitness_rule</th>\n      <th>method</th>\n      <th>dataset</th>\n      <th>best_solution_tf_history</th>\n      <th>tune_results_history</th>\n    </tr>\n  </thead>\n  <tbody>\n    <tr>\n      <th>0</th>\n      <td>0.851299</td>\n      <td>0.776851</td>\n      <td>0.113127</td>\n      <td>0.302886</td>\n      <td>0.192633</td>\n      <td>0.142532</td>\n      <td>0.117850</td>\n      <td>0.628495</td>\n      <td>0.925206</td>\n      <td>0.074794</td>\n      <td>...</td>\n      <td>0.585170</td>\n      <td>0.677999</td>\n      <td>0.392537</td>\n      <td>{'dropout': 0.16228954240968418}</td>\n      <td>NaN</td>\n      <td>mcc_parity</td>\n      <td>simple_mlp_initializer</td>\n      <td>adult_dataset_reader</td>\n      <td>{'loss': [0.3897703690160027, 0.34068391078622...</td>\n      <td>NaN</td>\n    </tr>\n    <tr>\n      <th>1</th>\n      <td>0.851520</td>\n      <td>0.781719</td>\n      <td>0.111565</td>\n      <td>0.301498</td>\n      <td>0.198915</td>\n      <td>0.132052</td>\n      <td>0.113320</td>\n      <td>0.644856</td>\n      <td>0.918583</td>\n      <td>0.081417</td>\n      <td>...</td>\n      <td>0.585500</td>\n      <td>0.680314</td>\n      <td>0.473935</td>\n      <td>{'dropout': 0.1482543145261793}</td>\n      <td>NaN</td>\n      <td>mcc_odds</td>\n      <td>simple_mlp_initializer</td>\n      <td>adult_dataset_reader</td>\n      <td>{'loss': [0.4009664287344603, 0.34305514207044...</td>\n      <td>NaN</td>\n    </tr>\n    <tr>\n      <th>2</th>\n      <td>0.851410</td>\n      <td>0.780878</td>\n      <td>0.103235</td>\n      <td>0.319506</td>\n      <td>0.191606</td>\n      <td>0.124889</td>\n      <td>0.113980</td>\n      <td>0.642342</td>\n      <td>0.919414</td>\n      <td>0.080586</td>\n      <td>...</td>\n      <td>0.585064</td>\n      <td>0.679695</td>\n      <td>0.460175</td>\n      <td>{'dropout': 0.17861515209545933}</td>\n      <td>NaN</td>\n      <td>mcc_opportunity</td>\n      <td>simple_mlp_initializer</td>\n      <td>adult_dataset_reader</td>\n      <td>{'loss': [0.40314989690662156, 0.3452559707361...</td>\n      <td>NaN</td>\n    </tr>\n    <tr>\n      <th>3</th>\n      <td>0.844887</td>\n      <td>0.763239</td>\n      <td>0.082386</td>\n      <td>0.308388</td>\n      <td>0.183090</td>\n      <td>0.084174</td>\n      <td>0.126322</td>\n      <td>0.599383</td>\n      <td>0.927096</td>\n      <td>0.072904</td>\n      <td>...</td>\n      <td>0.565373</td>\n      <td>0.659714</td>\n      <td>0.661796</td>\n      <td>{'dropout': 0.15655371267306142}</td>\n      <td>NaN</td>\n      <td>acc_parity</td>\n      <td>simple_mlp_initializer</td>\n      <td>adult_dataset_reader</td>\n      <td>{'loss': [0.3903123053694252, 0.33910286278168...</td>\n      <td>NaN</td>\n    </tr>\n    <tr>\n      <th>4</th>\n      <td>0.850857</td>\n      <td>0.775601</td>\n      <td>0.084687</td>\n      <td>0.332983</td>\n      <td>0.180366</td>\n      <td>0.093891</td>\n      <td>0.115760</td>\n      <td>0.629562</td>\n      <td>0.921640</td>\n      <td>0.078360</td>\n      <td>...</td>\n      <td>0.577932</td>\n      <td>0.671696</td>\n      <td>0.766170</td>\n      <td>{'dropout': 0.1698638434734938}</td>\n      <td>NaN</td>\n      <td>acc_odds</td>\n      <td>simple_mlp_initializer</td>\n      <td>adult_dataset_reader</td>\n      <td>{'loss': [0.39678069996564325, 0.3418175098418...</td>\n      <td>NaN</td>\n    </tr>\n    <tr>\n      <th>...</th>\n      <td>...</td>\n      <td>...</td>\n      <td>...</td>\n      <td>...</td>\n      <td>...</td>\n      <td>...</td>\n      <td>...</td>\n      <td>...</td>\n      <td>...</td>\n      <td>...</td>\n      <td>...</td>\n      <td>...</td>\n      <td>...</td>\n      <td>...</td>\n      <td>...</td>\n      <td>...</td>\n      <td>...</td>\n      <td>...</td>\n      <td>...</td>\n      <td>...</td>\n      <td>...</td>\n    </tr>\n    <tr>\n      <th>861</th>\n      <td>0.847319</td>\n      <td>0.767226</td>\n      <td>0.099500</td>\n      <td>0.302022</td>\n      <td>0.185671</td>\n      <td>0.127242</td>\n      <td>0.124644</td>\n      <td>0.605702</td>\n      <td>0.928751</td>\n      <td>0.071249</td>\n      <td>...</td>\n      <td>0.573828</td>\n      <td>0.666667</td>\n      <td>0.388156</td>\n      <td>{'l2': 0.0001, 'dropout': 0.1857562299640131}</td>\n      <td>[0.09743776826927335, 0.00114968521804583, 0.9...</td>\n      <td>mcc_parity</td>\n      <td>mlp_sreg_initializer</td>\n      <td>adult_dataset_reader</td>\n      <td>{'loss': [0.39841753244400024, 0.3448292613029...</td>\n      <td>[{'overall_acc': 0.8518518518518519, 'bal_acc'...</td>\n    </tr>\n    <tr>\n      <th>862</th>\n      <td>0.847430</td>\n      <td>0.760867</td>\n      <td>0.077861</td>\n      <td>0.308489</td>\n      <td>0.174510</td>\n      <td>0.083271</td>\n      <td>0.127806</td>\n      <td>0.587379</td>\n      <td>0.934356</td>\n      <td>0.065644</td>\n      <td>...</td>\n      <td>0.569120</td>\n      <td>0.658585</td>\n      <td>0.491259</td>\n      <td>{'l2': 0.01, 'corr_type': 'none'}</td>\n      <td>NaN</td>\n      <td>mcc_odds</td>\n      <td>mlp_auto_reg_initializer</td>\n      <td>adult_dataset_reader</td>\n      <td>{'loss': [0.38722044229507446, 0.3352578580379...</td>\n      <td>[{'overall_acc': 0.8528192371475953, 'bal_acc'...</td>\n    </tr>\n    <tr>\n      <th>863</th>\n      <td>0.844002</td>\n      <td>0.776494</td>\n      <td>0.068422</td>\n      <td>0.354321</td>\n      <td>0.184916</td>\n      <td>0.058441</td>\n      <td>0.119031</td>\n      <td>0.639738</td>\n      <td>0.913249</td>\n      <td>0.086751</td>\n      <td>...</td>\n      <td>0.574249</td>\n      <td>0.674960</td>\n      <td>0.505826</td>\n      <td>{'l2': 0.001, 'dropout': 0.02614545095217384}</td>\n      <td>[0.08445229913815229, 0.00034336219828059317, ...</td>\n      <td>mcc_odds</td>\n      <td>mlp_preg_initializer</td>\n      <td>adult_dataset_reader</td>\n      <td>{'loss': [0.401528000831604, 0.33710977435112,...</td>\n      <td>[{'overall_acc': 0.8446655610834716, 'bal_acc'...</td>\n    </tr>\n    <tr>\n      <th>864</th>\n      <td>0.849088</td>\n      <td>0.768748</td>\n      <td>0.054287</td>\n      <td>0.333990</td>\n      <td>0.175794</td>\n      <td>0.034028</td>\n      <td>0.120065</td>\n      <td>0.612171</td>\n      <td>0.925325</td>\n      <td>0.074675</td>\n      <td>...</td>\n      <td>0.570852</td>\n      <td>0.663876</td>\n      <td>0.516566</td>\n      <td>{'l2': 0.01, 'dropout': 0.04767341755861925}</td>\n      <td>[0.09270752085793302, 0.004951997621533634, 1....</td>\n      <td>mcc_odds</td>\n      <td>mlp_sreg_initializer</td>\n      <td>adult_dataset_reader</td>\n      <td>{'loss': [0.4490545690059662, 0.37847325205802...</td>\n      <td>[{'overall_acc': 0.845771144278607, 'bal_acc':...</td>\n    </tr>\n    <tr>\n      <th>865</th>\n      <td>0.847430</td>\n      <td>0.779008</td>\n      <td>0.106897</td>\n      <td>0.281968</td>\n      <td>0.209313</td>\n      <td>0.119846</td>\n      <td>0.116816</td>\n      <td>0.641817</td>\n      <td>0.916199</td>\n      <td>0.083801</td>\n      <td>...</td>\n      <td>0.580357</td>\n      <td>0.678322</td>\n      <td>0.460511</td>\n      <td>{'l2': 0.01, 'corr_type': 'none'}</td>\n      <td>NaN</td>\n      <td>mcc_opportunity</td>\n      <td>mlp_auto_reg_initializer</td>\n      <td>adult_dataset_reader</td>\n      <td>{'loss': [0.38060829043388367, 0.3368454575538...</td>\n      <td>[{'overall_acc': 0.8463239358761747, 'bal_acc'...</td>\n    </tr>\n  </tbody>\n</table>\n<p>866 rows × 30 columns</p>\n</div>"
     },
     "execution_count": 54,
     "metadata": {},
     "output_type": "execute_result"
    }
   ],
   "source": [
    "mlp_results = read_csv_files_from_folder('mlp_results')\n",
    "mlp_baseline_results = mlp_results[mlp_results.method == 'simple_mlp_initializer']\n",
    "mlp_pearson_results = mlp_results[mlp_results.method == 'mlp_preg_initializer']\n",
    "mlp_spearman_results = mlp_results[mlp_results.method == 'mlp_sreg_initializer']\n",
    "mlp_auto_reg_results = mlp_results[mlp_results.method == 'mlp_auto_reg_initializer']\n",
    "\n",
    "csv_path = 'mlp_baseline_results' + '.csv'\n",
    "mlp_baseline_results.reset_index(drop=True, inplace=True)\n",
    "mlp_baseline_results[cols].to_csv(csv_path, index=False)\n",
    "\n",
    "csv_path = 'mlp_pearson_results' + '.csv'\n",
    "mlp_pearson_results.reset_index(drop=True, inplace=True)\n",
    "mlp_pearson_results[cols].to_csv(csv_path, index=False)\n",
    "\n",
    "csv_path = 'mlp_spearman_results' + '.csv'\n",
    "mlp_spearman_results.reset_index(drop=True, inplace=True)\n",
    "mlp_spearman_results[cols].to_csv(csv_path, index=False)\n",
    "\n",
    "csv_path = 'mlp_auto_reg_results' + '.csv'\n",
    "mlp_auto_reg_results.reset_index(drop=True, inplace=True)\n",
    "mlp_auto_reg_results[cols].to_csv(csv_path, index=False)\n",
    "\n",
    "mlp_results"
   ],
   "metadata": {
    "collapsed": false,
    "ExecuteTime": {
     "end_time": "2024-05-08T17:04:18.637403372Z",
     "start_time": "2024-05-08T17:04:17.819411668Z"
    }
   }
  },
  {
   "cell_type": "code",
   "execution_count": 55,
   "outputs": [
    {
     "data": {
      "text/plain": "     overall_acc   bal_acc  avg_odds_diff  disp_imp  stat_par_diff  \\\n0       0.831509  0.746003       0.157184  0.860678       0.030144   \n1       0.815920  0.750269       0.158410  0.950866       0.012162   \n2       0.840354  0.736545       0.115208  0.717911       0.053877   \n3       0.838474  0.811140       0.057387  0.414123       0.209132   \n4       0.846766  0.790359       0.040754  0.386043       0.185545   \n..           ...       ...            ...       ...            ...   \n490     0.843449  0.782419       0.040919  0.428589       0.166083   \n491     0.842233  0.804628       0.046258  0.432947       0.188986   \n492     0.815810  0.658170       0.218489  1.240899       0.024396   \n493     0.844223  0.760768       0.051423  0.493301       0.122700   \n494     0.839801  0.720565       0.039787  0.507617       0.086346   \n\n     eq_opp_diff  theil_ind       TPR       TNR       FPR  ...       MCC  \\\n0       0.269769   0.134433  0.576135  0.915870  0.084130  ...  0.525302   \n1       0.257481   0.130425  0.618921  0.881616  0.118384  ...  0.505004   \n2       0.213692   0.142877  0.527193  0.945898  0.054102  ...  0.542637   \n3       0.005088   0.094381  0.757168  0.865111  0.134889  ...  0.592184   \n4       0.003290   0.109223  0.677906  0.902813  0.097187  ...  0.586569   \n..           ...        ...       ...       ...       ...  ...       ...   \n490     0.012468   0.116561  0.657044  0.907793  0.092207  ...  0.580012   \n491     0.004459   0.098490  0.730926  0.878331  0.121669  ...  0.589531   \n492     0.389870   0.185103  0.347865  0.968475  0.031525  ...  0.436570   \n493     0.063949   0.125279  0.596847  0.924689  0.075311  ...  0.557665   \n494     0.069241   0.155546  0.475064  0.966066  0.033934  ...  0.543909   \n\n     f1_score   fitness                                           solution  \\\n0    0.629377  0.495159  {'dropout': 0.17164236382117906, 'privileged_d...   \n1    0.627100  0.492841  {'l2': 0.001, 'dropout': 0.16357115085831844, ...   \n2    0.624740  0.488760  {'l2': 0.001, 'dropout': 0.14664763054745145, ...   \n3    0.698203  0.534797  {'dropout': 0.1574805419448912, 'privileged_de...   \n4    0.687978  0.545814  {'l2': 0.001, 'dropout': 0.18338485157833279, ...   \n..        ...       ...                                                ...   \n490  0.682938  0.539093  {'corr_type': 'spearman', 'l2': 0.001, 'dropou...   \n491  0.694105  0.585072  {'corr_type': 'spearman', 'l2': 0.0001, 'dropo...   \n492  0.481643  0.791413  {'corr_type': 'spearman', 'l2': 0.0001, 'dropo...   \n493  0.652870  0.792800  {'corr_type': 'spearman', 'l2': 0.0001, 'dropo...   \n494  0.603990  0.770560  {'corr_type': 'spearman', 'l2': 0.0001, 'dropo...   \n\n                                                  corr  \\\n0                                                  NaN   \n1    [0.0817118679094823, 0.006445210194887691, 0.9...   \n2    [0.08945397105197903, 0.0015084899303753738, 0...   \n3                                                  NaN   \n4    [0.07910008945154558, 0.0007902931143702738, 0...   \n..                                                 ...   \n490  [0.096087442757451, 0.003561703941670227, 0.99...   \n491  [0.09823228901512733, 0.0031289214943356525, 1...   \n492  [0.08894067450131099, 0.0010973097546299764, 1...   \n493  [0.0908362421613103, 0.0011968123215304353, 1....   \n494  [0.09319811006662707, 0.0013356306918269564, 0...   \n\n                                  tune_results_history     fitness_rule  \\\n0    [{'overall_acc': 0.8548922056384743, 'bal_acc'...       mcc_parity   \n1    [{'overall_acc': 0.1838032061912659, 'bal_acc'...       mcc_parity   \n2    [{'overall_acc': 0.2357656163626313, 'bal_acc'...       mcc_parity   \n3    [{'overall_acc': 0.49267551133222776, 'bal_acc...         mcc_odds   \n4    [{'overall_acc': 0.8313985627418463, 'bal_acc'...         mcc_odds   \n..                                                 ...              ...   \n490                                                NaN         mcc_odds   \n491                                                NaN  mcc_opportunity   \n492                                                NaN       acc_parity   \n493                                                NaN         acc_odds   \n494                                                NaN  acc_opportunity   \n\n                       method               dataset  \\\n0         ftl_mlp_initializer  adult_dataset_reader   \n1    ftl_mlp_preg_initializer  adult_dataset_reader   \n2    ftl_mlp_sreg_initializer  adult_dataset_reader   \n3         ftl_mlp_initializer  adult_dataset_reader   \n4    ftl_mlp_preg_initializer  adult_dataset_reader   \n..                        ...                   ...   \n490  ftl_mlp_sreg_initializer  adult_dataset_reader   \n491  ftl_mlp_sreg_initializer  adult_dataset_reader   \n492  ftl_mlp_sreg_initializer  adult_dataset_reader   \n493  ftl_mlp_sreg_initializer  adult_dataset_reader   \n494  ftl_mlp_sreg_initializer  adult_dataset_reader   \n\n                              best_solution_tf_history  \n0    {'loss': [0.4321238949142959, 0.39786454022210...  \n1    {'loss': [0.5102667829027018, 0.48939236487802...  \n2    {'loss': [0.5017233110595648, 0.46502473797433...  \n3    {'loss': [0.4434747670879345, 0.42005598868553...  \n4    {'loss': [0.5087338825422033, 0.49352050842862...  \n..                                                 ...  \n490  {'loss': [0.553842155162084, 0.539324351242951...  \n491  {'loss': [0.4026459111874159, 0.36595486461422...  \n492  {'loss': [0.529733629919262, 0.502449468970426...  \n493  {'loss': [0.4790230469483042, 0.45546600418377...  \n494  {'loss': [0.6103821333395131, 0.58180446046668...  \n\n[495 rows x 30 columns]",
      "text/html": "<div>\n<style scoped>\n    .dataframe tbody tr th:only-of-type {\n        vertical-align: middle;\n    }\n\n    .dataframe tbody tr th {\n        vertical-align: top;\n    }\n\n    .dataframe thead th {\n        text-align: right;\n    }\n</style>\n<table border=\"1\" class=\"dataframe\">\n  <thead>\n    <tr style=\"text-align: right;\">\n      <th></th>\n      <th>overall_acc</th>\n      <th>bal_acc</th>\n      <th>avg_odds_diff</th>\n      <th>disp_imp</th>\n      <th>stat_par_diff</th>\n      <th>eq_opp_diff</th>\n      <th>theil_ind</th>\n      <th>TPR</th>\n      <th>TNR</th>\n      <th>FPR</th>\n      <th>...</th>\n      <th>MCC</th>\n      <th>f1_score</th>\n      <th>fitness</th>\n      <th>solution</th>\n      <th>corr</th>\n      <th>tune_results_history</th>\n      <th>fitness_rule</th>\n      <th>method</th>\n      <th>dataset</th>\n      <th>best_solution_tf_history</th>\n    </tr>\n  </thead>\n  <tbody>\n    <tr>\n      <th>0</th>\n      <td>0.831509</td>\n      <td>0.746003</td>\n      <td>0.157184</td>\n      <td>0.860678</td>\n      <td>0.030144</td>\n      <td>0.269769</td>\n      <td>0.134433</td>\n      <td>0.576135</td>\n      <td>0.915870</td>\n      <td>0.084130</td>\n      <td>...</td>\n      <td>0.525302</td>\n      <td>0.629377</td>\n      <td>0.495159</td>\n      <td>{'dropout': 0.17164236382117906, 'privileged_d...</td>\n      <td>NaN</td>\n      <td>[{'overall_acc': 0.8548922056384743, 'bal_acc'...</td>\n      <td>mcc_parity</td>\n      <td>ftl_mlp_initializer</td>\n      <td>adult_dataset_reader</td>\n      <td>{'loss': [0.4321238949142959, 0.39786454022210...</td>\n    </tr>\n    <tr>\n      <th>1</th>\n      <td>0.815920</td>\n      <td>0.750269</td>\n      <td>0.158410</td>\n      <td>0.950866</td>\n      <td>0.012162</td>\n      <td>0.257481</td>\n      <td>0.130425</td>\n      <td>0.618921</td>\n      <td>0.881616</td>\n      <td>0.118384</td>\n      <td>...</td>\n      <td>0.505004</td>\n      <td>0.627100</td>\n      <td>0.492841</td>\n      <td>{'l2': 0.001, 'dropout': 0.16357115085831844, ...</td>\n      <td>[0.0817118679094823, 0.006445210194887691, 0.9...</td>\n      <td>[{'overall_acc': 0.1838032061912659, 'bal_acc'...</td>\n      <td>mcc_parity</td>\n      <td>ftl_mlp_preg_initializer</td>\n      <td>adult_dataset_reader</td>\n      <td>{'loss': [0.5102667829027018, 0.48939236487802...</td>\n    </tr>\n    <tr>\n      <th>2</th>\n      <td>0.840354</td>\n      <td>0.736545</td>\n      <td>0.115208</td>\n      <td>0.717911</td>\n      <td>0.053877</td>\n      <td>0.213692</td>\n      <td>0.142877</td>\n      <td>0.527193</td>\n      <td>0.945898</td>\n      <td>0.054102</td>\n      <td>...</td>\n      <td>0.542637</td>\n      <td>0.624740</td>\n      <td>0.488760</td>\n      <td>{'l2': 0.001, 'dropout': 0.14664763054745145, ...</td>\n      <td>[0.08945397105197903, 0.0015084899303753738, 0...</td>\n      <td>[{'overall_acc': 0.2357656163626313, 'bal_acc'...</td>\n      <td>mcc_parity</td>\n      <td>ftl_mlp_sreg_initializer</td>\n      <td>adult_dataset_reader</td>\n      <td>{'loss': [0.5017233110595648, 0.46502473797433...</td>\n    </tr>\n    <tr>\n      <th>3</th>\n      <td>0.838474</td>\n      <td>0.811140</td>\n      <td>0.057387</td>\n      <td>0.414123</td>\n      <td>0.209132</td>\n      <td>0.005088</td>\n      <td>0.094381</td>\n      <td>0.757168</td>\n      <td>0.865111</td>\n      <td>0.134889</td>\n      <td>...</td>\n      <td>0.592184</td>\n      <td>0.698203</td>\n      <td>0.534797</td>\n      <td>{'dropout': 0.1574805419448912, 'privileged_de...</td>\n      <td>NaN</td>\n      <td>[{'overall_acc': 0.49267551133222776, 'bal_acc...</td>\n      <td>mcc_odds</td>\n      <td>ftl_mlp_initializer</td>\n      <td>adult_dataset_reader</td>\n      <td>{'loss': [0.4434747670879345, 0.42005598868553...</td>\n    </tr>\n    <tr>\n      <th>4</th>\n      <td>0.846766</td>\n      <td>0.790359</td>\n      <td>0.040754</td>\n      <td>0.386043</td>\n      <td>0.185545</td>\n      <td>0.003290</td>\n      <td>0.109223</td>\n      <td>0.677906</td>\n      <td>0.902813</td>\n      <td>0.097187</td>\n      <td>...</td>\n      <td>0.586569</td>\n      <td>0.687978</td>\n      <td>0.545814</td>\n      <td>{'l2': 0.001, 'dropout': 0.18338485157833279, ...</td>\n      <td>[0.07910008945154558, 0.0007902931143702738, 0...</td>\n      <td>[{'overall_acc': 0.8313985627418463, 'bal_acc'...</td>\n      <td>mcc_odds</td>\n      <td>ftl_mlp_preg_initializer</td>\n      <td>adult_dataset_reader</td>\n      <td>{'loss': [0.5087338825422033, 0.49352050842862...</td>\n    </tr>\n    <tr>\n      <th>...</th>\n      <td>...</td>\n      <td>...</td>\n      <td>...</td>\n      <td>...</td>\n      <td>...</td>\n      <td>...</td>\n      <td>...</td>\n      <td>...</td>\n      <td>...</td>\n      <td>...</td>\n      <td>...</td>\n      <td>...</td>\n      <td>...</td>\n      <td>...</td>\n      <td>...</td>\n      <td>...</td>\n      <td>...</td>\n      <td>...</td>\n      <td>...</td>\n      <td>...</td>\n      <td>...</td>\n    </tr>\n    <tr>\n      <th>490</th>\n      <td>0.843449</td>\n      <td>0.782419</td>\n      <td>0.040919</td>\n      <td>0.428589</td>\n      <td>0.166083</td>\n      <td>0.012468</td>\n      <td>0.116561</td>\n      <td>0.657044</td>\n      <td>0.907793</td>\n      <td>0.092207</td>\n      <td>...</td>\n      <td>0.580012</td>\n      <td>0.682938</td>\n      <td>0.539093</td>\n      <td>{'corr_type': 'spearman', 'l2': 0.001, 'dropou...</td>\n      <td>[0.096087442757451, 0.003561703941670227, 0.99...</td>\n      <td>NaN</td>\n      <td>mcc_odds</td>\n      <td>ftl_mlp_sreg_initializer</td>\n      <td>adult_dataset_reader</td>\n      <td>{'loss': [0.553842155162084, 0.539324351242951...</td>\n    </tr>\n    <tr>\n      <th>491</th>\n      <td>0.842233</td>\n      <td>0.804628</td>\n      <td>0.046258</td>\n      <td>0.432947</td>\n      <td>0.188986</td>\n      <td>0.004459</td>\n      <td>0.098490</td>\n      <td>0.730926</td>\n      <td>0.878331</td>\n      <td>0.121669</td>\n      <td>...</td>\n      <td>0.589531</td>\n      <td>0.694105</td>\n      <td>0.585072</td>\n      <td>{'corr_type': 'spearman', 'l2': 0.0001, 'dropo...</td>\n      <td>[0.09823228901512733, 0.0031289214943356525, 1...</td>\n      <td>NaN</td>\n      <td>mcc_opportunity</td>\n      <td>ftl_mlp_sreg_initializer</td>\n      <td>adult_dataset_reader</td>\n      <td>{'loss': [0.4026459111874159, 0.36595486461422...</td>\n    </tr>\n    <tr>\n      <th>492</th>\n      <td>0.815810</td>\n      <td>0.658170</td>\n      <td>0.218489</td>\n      <td>1.240899</td>\n      <td>0.024396</td>\n      <td>0.389870</td>\n      <td>0.185103</td>\n      <td>0.347865</td>\n      <td>0.968475</td>\n      <td>0.031525</td>\n      <td>...</td>\n      <td>0.436570</td>\n      <td>0.481643</td>\n      <td>0.791413</td>\n      <td>{'corr_type': 'spearman', 'l2': 0.0001, 'dropo...</td>\n      <td>[0.08894067450131099, 0.0010973097546299764, 1...</td>\n      <td>NaN</td>\n      <td>acc_parity</td>\n      <td>ftl_mlp_sreg_initializer</td>\n      <td>adult_dataset_reader</td>\n      <td>{'loss': [0.529733629919262, 0.502449468970426...</td>\n    </tr>\n    <tr>\n      <th>493</th>\n      <td>0.844223</td>\n      <td>0.760768</td>\n      <td>0.051423</td>\n      <td>0.493301</td>\n      <td>0.122700</td>\n      <td>0.063949</td>\n      <td>0.125279</td>\n      <td>0.596847</td>\n      <td>0.924689</td>\n      <td>0.075311</td>\n      <td>...</td>\n      <td>0.557665</td>\n      <td>0.652870</td>\n      <td>0.792800</td>\n      <td>{'corr_type': 'spearman', 'l2': 0.0001, 'dropo...</td>\n      <td>[0.0908362421613103, 0.0011968123215304353, 1....</td>\n      <td>NaN</td>\n      <td>acc_odds</td>\n      <td>ftl_mlp_sreg_initializer</td>\n      <td>adult_dataset_reader</td>\n      <td>{'loss': [0.4790230469483042, 0.45546600418377...</td>\n    </tr>\n    <tr>\n      <th>494</th>\n      <td>0.839801</td>\n      <td>0.720565</td>\n      <td>0.039787</td>\n      <td>0.507617</td>\n      <td>0.086346</td>\n      <td>0.069241</td>\n      <td>0.155546</td>\n      <td>0.475064</td>\n      <td>0.966066</td>\n      <td>0.033934</td>\n      <td>...</td>\n      <td>0.543909</td>\n      <td>0.603990</td>\n      <td>0.770560</td>\n      <td>{'corr_type': 'spearman', 'l2': 0.0001, 'dropo...</td>\n      <td>[0.09319811006662707, 0.0013356306918269564, 0...</td>\n      <td>NaN</td>\n      <td>acc_opportunity</td>\n      <td>ftl_mlp_sreg_initializer</td>\n      <td>adult_dataset_reader</td>\n      <td>{'loss': [0.6103821333395131, 0.58180446046668...</td>\n    </tr>\n  </tbody>\n</table>\n<p>495 rows × 30 columns</p>\n</div>"
     },
     "execution_count": 55,
     "metadata": {},
     "output_type": "execute_result"
    }
   ],
   "source": [
    "ftl_results = read_csv_files_from_folder('ftl_results')\n",
    "ftl_baseline_results = ftl_results[ftl_results.method == 'ftl_mlp_initializer']\n",
    "ftl_pearson_results = ftl_results[ftl_results.method == 'ftl_mlp_preg_initializer']\n",
    "ftl_spearman_results = ftl_results[ftl_results.method == 'ftl_mlp_sreg_initializer']\n",
    "ftl_auto_reg_results = ftl_results[ftl_results.method == 'ftl_mlp_auto_reg_initializer']\n",
    "\n",
    "csv_path = 'ftl_baseline_results' + '.csv'\n",
    "ftl_baseline_results.reset_index(drop=True, inplace=True)\n",
    "ftl_baseline_results[cols].to_csv(csv_path, index=False)\n",
    "\n",
    "csv_path = 'ftl_pearson_results' + '.csv'\n",
    "ftl_pearson_results.reset_index(drop=True, inplace=True)\n",
    "ftl_pearson_results[cols].to_csv(csv_path, index=False)\n",
    "\n",
    "csv_path = 'ftl_spearman_results' + '.csv'\n",
    "ftl_spearman_results.reset_index(drop=True, inplace=True)\n",
    "ftl_spearman_results[cols].to_csv(csv_path, index=False)\n",
    "\n",
    "csv_path = 'ftl_auto_reg_results' + '.csv'\n",
    "ftl_auto_reg_results.reset_index(drop=True, inplace=True)\n",
    "ftl_auto_reg_results[cols].to_csv(csv_path, index=False)\n",
    "\n",
    "ftl_results"
   ],
   "metadata": {
    "collapsed": false,
    "ExecuteTime": {
     "end_time": "2024-05-08T17:04:19.211454640Z",
     "start_time": "2024-05-08T17:04:18.544972624Z"
    }
   }
  },
  {
   "cell_type": "code",
   "execution_count": 55,
   "outputs": [],
   "source": [],
   "metadata": {
    "collapsed": false,
    "ExecuteTime": {
     "end_time": "2024-05-08T17:04:19.222001220Z",
     "start_time": "2024-05-08T17:04:19.214379368Z"
    }
   }
  },
  {
   "cell_type": "code",
   "outputs": [],
   "source": [],
   "metadata": {
    "collapsed": false,
    "ExecuteTime": {
     "end_time": "2024-05-08T17:04:19.222423502Z",
     "start_time": "2024-05-08T17:04:19.218285761Z"
    }
   },
   "execution_count": 55
  }
 ],
 "metadata": {
  "kernelspec": {
   "display_name": "Python 3",
   "language": "python",
   "name": "python3"
  },
  "language_info": {
   "codemirror_mode": {
    "name": "ipython",
    "version": 2
   },
   "file_extension": ".py",
   "mimetype": "text/x-python",
   "name": "python",
   "nbconvert_exporter": "python",
   "pygments_lexer": "ipython2",
   "version": "2.7.6"
  }
 },
 "nbformat": 4,
 "nbformat_minor": 0
}
