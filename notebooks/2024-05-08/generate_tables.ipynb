{
 "cells": [
  {
   "cell_type": "code",
   "execution_count": 41,
   "metadata": {
    "ExecuteTime": {
     "end_time": "2024-05-09T23:44:26.026418300Z",
     "start_time": "2024-05-09T23:44:25.987601513Z"
    }
   },
   "outputs": [],
   "source": [
    "import pandas as pd\n",
    "import json\n",
    "import os\n",
    "import deepsig\n",
    "from IPython.display import display"
   ]
  },
  {
   "cell_type": "code",
   "execution_count": 42,
   "metadata": {
    "ExecuteTime": {
     "end_time": "2024-05-09T23:44:26.028677184Z",
     "start_time": "2024-05-09T23:44:26.026639287Z"
    }
   },
   "outputs": [],
   "source": [
    "cols = ['dataset', 'method', 'fitness_rule', 'fitness', 'ACC', 'MCC', 'f1_score', 'avg_odds_diff', 'stat_par_diff', 'eq_opp_diff']"
   ]
  },
  {
   "cell_type": "code",
   "execution_count": 43,
   "metadata": {
    "ExecuteTime": {
     "end_time": "2024-05-09T23:44:26.064619768Z",
     "start_time": "2024-05-09T23:44:26.028735580Z"
    }
   },
   "outputs": [],
   "source": [
    "mlp_baseline_results = pd.read_csv('mlp_baseline_results.csv')\n",
    "mlp_baseline_results.replace({'simple_mlp_initializer': 'Standard MLP (baseline)'}, inplace=True)\n",
    "\n",
    "mlp_pearson_results = pd.read_csv('mlp_pearson_results.csv')\n",
    "mlp_pearson_results.replace({'mlp_preg_initializer': 'Pearson regularized MLP'}, inplace=True)\n",
    "\n",
    "mlp_spearman_results = pd.read_csv('mlp_spearman_results.csv')\n",
    "mlp_spearman_results.replace({'mlp_sreg_initializer': 'Spearman regularized MLP'}, inplace=True)\n",
    "\n",
    "mlp_auto_reg_results = pd.read_csv('mlp_auto_reg_results.csv')\n",
    "mlp_auto_reg_results.replace({'mlp_auto_reg_initializer': 'Auto corr regularized MLP'}, inplace=True)\n",
    "\n",
    "mlp_results = pd.concat([mlp_baseline_results, mlp_pearson_results, mlp_spearman_results, mlp_auto_reg_results])\n",
    "\n",
    "ftl_baseline_results = pd.read_csv('ftl_baseline_results.csv')\n",
    "ftl_baseline_results.replace({'ftl_mlp_initializer': 'Standard FTL (baseline)'}, inplace=True)\n",
    "\n",
    "ftl_pearson_results = pd.read_csv('ftl_pearson_results.csv')\n",
    "ftl_pearson_results.replace({'ftl_mlp_preg_initializer': 'Pearson regularized FTL'}, inplace=True)\n",
    "\n",
    "ftl_spearman_results = pd.read_csv('ftl_spearman_results.csv')\n",
    "ftl_spearman_results.replace({'ftl_mlp_sreg_initializer': 'Spearman regularized FTL'}, inplace=True)\n",
    "\n",
    "ftl_auto_reg_results = pd.read_csv('ftl_spearman_results.csv')\n",
    "ftl_auto_reg_results.replace({'ftl_mlp_auto_reg_initializer': 'Auto corr regularized FTL'}, inplace=True)\n",
    "\n",
    "ftl_results = pd.concat([ftl_baseline_results, ftl_pearson_results, ftl_spearman_results, ftl_auto_reg_results])"
   ]
  },
  {
   "cell_type": "markdown",
   "source": [],
   "metadata": {
    "collapsed": false
   }
  },
  {
   "cell_type": "code",
   "execution_count": 44,
   "outputs": [],
   "source": [
    "for results in [mlp_results,ftl_results]:\n",
    "    results.replace({'adult_dataset_reader': 'Adult Income', 'compas_dataset_reader': 'Compas Recidivism', 'german_dataset_reader': 'German Credit', 'bank_dataset_reader': 'Bank Marketing'}, inplace=True)\n",
    "    results.rename(columns={'avg_odds_diff': 'Equalized Odds', 'stat_par_diff': 'Statistical Parity', 'eq_opp_diff': 'Equal Opportunity', 'MCC': 'Mathew Correlation', 'ACC': 'Accuracy'}, inplace=True)"
   ],
   "metadata": {
    "collapsed": false,
    "ExecuteTime": {
     "end_time": "2024-05-09T23:44:26.066978203Z",
     "start_time": "2024-05-09T23:44:26.064730395Z"
    }
   }
  },
  {
   "cell_type": "code",
   "execution_count": 45,
   "metadata": {
    "ExecuteTime": {
     "end_time": "2024-05-09T23:44:26.111609781Z",
     "start_time": "2024-05-09T23:44:26.068115496Z"
    }
   },
   "outputs": [
    {
     "name": "stderr",
     "output_type": "stream",
     "text": [
      "/tmp/ipykernel_2889562/3607436483.py:32: FutureWarning: Setting an item of incompatible dtype is deprecated and will raise in a future error of pandas. Value '[0.58517004 0.58512823 0.5840247  0.5836371  0.57625737 0.5769683\n",
      " 0.58075151 0.57811729 0.57147862 0.55847176 0.56402881 0.58191431\n",
      " 0.58343253 0.57740222 0.51579307 0.30958237 0.37962947 0.55899189\n",
      " 0.53558872 0.2598879  0.57717035 0.50086739 0.33275221 0.37929293\n",
      " 0.47729109 0.29196869 0.29037704 0.52303609 0.27480633 0.38668781\n",
      " 0.50626951 0.29960979 0.4042848  0.52119218 0.2936422  0.33522388\n",
      " 0.49730721 0.25112662 0.35119067 0.510052   0.26843855 0.36081008\n",
      " 0.52157495 0.30114722 0.42995147 0.48267704 0.29056691 0.23139881\n",
      " 0.54223416 0.23653437 0.27041017 0.52121263 0.25759348 0.23912165\n",
      " 0.5223892  0.27406652 0.22303564 0.54094974 0.27699558 0.30939251\n",
      " 0.51731345 0.30339828 0.37825089 0.52113734 0.26323857 0.33963196\n",
      " 0.5538225  0.27850228 0.30234984 0.51877126 0.29494101 0.2648939\n",
      " 0.52742877 0.24492927 0.13407928 0.53530394 0.29087766 0.26820576\n",
      " 0.55204731 0.29318377 0.14015216 0.51983069 0.3145689  0.47077449\n",
      " 0.50770986 0.28880123 0.29866465 0.5180664  0.29093567 0.3636368\n",
      " 0.53289704 0.29737768 0.38084556 0.54328387 0.28002914 0.28232519\n",
      " 0.53457987 0.27840735 0.33593551 0.51796238 0.25832521 0.35528234\n",
      " 0.51043886 0.30283203 0.40103589 0.57466433 0.51930203 0.25052381\n",
      " 0.30794088 0.58313411 0.57795296 0.54079623 0.25897255 0.4042125\n",
      " 0.57206622 0.518845   0.30638323 0.32257035 0.57976269 0.52973098\n",
      " 0.25717832 0.31379034 0.58818853 0.49845362 0.25129032 0.38992888\n",
      " 0.58971511 0.54694928 0.31603351 0.33516905 0.58141285 0.57647678\n",
      " 0.52642995 0.28724449 0.26433395 0.59264796 0.58906505 0.50296471\n",
      " 0.32061516 0.20426879 0.5783063  0.54125565 0.25533358 0.31398373\n",
      " 0.57382763 0.52812916 0.28813949 0.33649556 0.56434931 0.53883593\n",
      " 0.26741183 0.37670184 0.59083709 0.53254304 0.2951865  0.28218602\n",
      " 0.56119935 0.5723922  0.48248932 0.30709543 0.38579506 0.57159192\n",
      " 0.5716689  0.52992626 0.32019291 0.39453249 0.56169778 0.50406749\n",
      " 0.33793641 0.34602453 0.57926553 0.52360992 0.25608271 0.42796701\n",
      " 0.56608954 0.53931073 0.28066945 0.35053438 0.58130887 0.53489617\n",
      " 0.32993995 0.41233289 0.56952477]' has dtype incompatible with int64, please explicitly cast to a compatible dtype first.\n",
      "  results.loc[results.fitness_rule == fitness_rule,'Performance'] = results.loc[results.fitness_rule == fitness_rule,performance_metric]\n",
      "/tmp/ipykernel_2889562/3607436483.py:33: FutureWarning: Setting an item of incompatible dtype is deprecated and will raise in a future error of pandas. Value '[0.19263281 0.18664775 0.20096652 0.19289642 0.19661682 0.17761564\n",
      " 0.19442911 0.19755228 0.19564214 0.19166634 0.18299811 0.17482095\n",
      " 0.20208162 0.18919863 0.1076907  0.21583464 0.07390198 0.18518896\n",
      " 0.01873928 0.21915752 0.00551471 0.06514573 0.27067494 0.10218254\n",
      " 0.09458935 0.20988634 0.15838547 0.0800928  0.22152457 0.04387464\n",
      " 0.0698734  0.21395877 0.         0.07046605 0.25600325 0.1\n",
      " 0.07839351 0.17845842 0.13362425 0.11385009 0.16165928 0.\n",
      " 0.07603398 0.22394599 0.10042067 0.07235512 0.17623094 0.05055147\n",
      " 0.10296647 0.13012843 0.01648841 0.12773041 0.23588101 0.01650837\n",
      " 0.10756357 0.22188463 0.04937755 0.08539799 0.27225208 0.04945055\n",
      " 0.1169952  0.18031026 0.07824514 0.11302381 0.1631723  0.01426025\n",
      " 0.09060303 0.26465511 0.05714286 0.07375941 0.25392869 0.15238095\n",
      " 0.06855833 0.14339139 0.05262482 0.10162526 0.17983738 0.03803214\n",
      " 0.11029739 0.21594265 0.04387464 0.09458175 0.21238761 0.13355998\n",
      " 0.12944543 0.23496771 0.10218254 0.11806774 0.24894357 0.05213764\n",
      " 0.07004917 0.17350555 0.01190476 0.12817972 0.20515527 0.02175742\n",
      " 0.07890663 0.15151805 0.03740065 0.08916093 0.22800167 0.09285714\n",
      " 0.09422782 0.21502555 0.12557513 0.19673904 0.07724191 0.18208848\n",
      " 0.05189291 0.1979969  0.16262277 0.09982972 0.15384795 0.09926471\n",
      " 0.18815544 0.0974843  0.24042647 0.03439867 0.19958771 0.10303715\n",
      " 0.16065963 0.07935255 0.17916636 0.07705072 0.21424319 0.16417565\n",
      " 0.19892363 0.0722992  0.2284043  0.06984013 0.20349203 0.17527401\n",
      " 0.13034124 0.19933198 0.2        0.19799709 0.20457963 0.08334361\n",
      " 0.15514718 0.12602402 0.19743834 0.08816558 0.28631322 0.06373626\n",
      " 0.18567119 0.09349354 0.18878133 0.14561136 0.17498725 0.06571671\n",
      " 0.19250183 0.14824374 0.1936076  0.06308722 0.28391847 0.01192288\n",
      " 0.2068789  0.18128896 0.08486689 0.24630312 0.20436508 0.17972498\n",
      " 0.19435242 0.0644417  0.21836983 0.15061906 0.1713737  0.14661742\n",
      " 0.18850006 0.09561216 0.17753449 0.05245636 0.25922608 0.07080429\n",
      " 0.17320505 0.15842862 0.21392231 0.0452183  0.18582267 0.10048997\n",
      " 0.16905876 0.01772705 0.15795735]' has dtype incompatible with int64, please explicitly cast to a compatible dtype first.\n",
      "  results.loc[results.fitness_rule == fitness_rule,'Fairness'] = results.loc[results.fitness_rule == fitness_rule,fairness_metric]\n",
      "/tmp/ipykernel_2889562/3607436483.py:32: FutureWarning: Setting an item of incompatible dtype is deprecated and will raise in a future error of pandas. Value '[0.56423655 0.29766735 0.36058206 0.55945517 0.29521281 0.33972048\n",
      " 0.55905592 0.28944609 0.32121258 0.52530243 0.57125798 0.26719272\n",
      " 0.57663382 0.2155363  0.38625136 0.55988104 0.49558867 0.47660518\n",
      " 0.53020884 0.49731155 0.48088379 0.50936495 0.52610501 0.50501965\n",
      " 0.49517103 0.52255177 0.48277552 0.49360563 0.49928347 0.57064789\n",
      " 0.27474775 0.36389844 0.57728732 0.29373387 0.36565654 0.5693713\n",
      " 0.28971752 0.29725949 0.50500387 0.58303781 0.28510358 0.58527213\n",
      " 0.30706814 0.37073365 0.49428572 0.50830079 0.5315851  0.49084885\n",
      " 0.49727459 0.52602458 0.51498102 0.49446574 0.52981801 0.51333191\n",
      " 0.51460142 0.49477946 0.4559726  0.49333343 0.53090834 0.49284321\n",
      " 0.57617156 0.2554996  0.34753417 0.58020523 0.283334   0.40006041\n",
      " 0.5756102  0.29786409 0.3544721  0.54263684 0.5687672  0.2767434\n",
      " 0.59892475 0.30361592 0.14995343 0.48727491 0.46760391 0.48532912\n",
      " 0.48816006 0.49060769 0.50033309 0.54306751 0.52179051 0.4829124\n",
      " 0.51199556 0.52334945 0.50003926 0.57617156 0.2554996  0.34753417\n",
      " 0.58020523 0.283334   0.40006041 0.5756102  0.29786409 0.3544721\n",
      " 0.54263684 0.5687672  0.2767434  0.59892475 0.30361592 0.14995343\n",
      " 0.48727491 0.46760391 0.48532912 0.48816006 0.49060769 0.50033309\n",
      " 0.54306751 0.52179051 0.4829124  0.51199556 0.52334945 0.50003926]' has dtype incompatible with int64, please explicitly cast to a compatible dtype first.\n",
      "  results.loc[results.fitness_rule == fitness_rule,'Performance'] = results.loc[results.fitness_rule == fitness_rule,performance_metric]\n",
      "/tmp/ipykernel_2889562/3607436483.py:33: FutureWarning: Setting an item of incompatible dtype is deprecated and will raise in a future error of pandas. Value '[0.04884345 0.00318869 0.04725275 0.07879247 0.00767757 0.12307692\n",
      " 0.07240013 0.05023218 0.17032427 0.03014368 0.03368986 0.01061935\n",
      " 0.01610486 0.01464497 0.04113081 0.06563524 0.00434914 0.02991623\n",
      " 0.03287846 0.03464132 0.0015824  0.00711975 0.00623328 0.00497483\n",
      " 0.00291418 0.02981982 0.0109755  0.02228438 0.00327132 0.05460093\n",
      " 0.03296841 0.06965872 0.03489992 0.01304782 0.01578436 0.01949528\n",
      " 0.11716449 0.08333333 0.01216245 0.04624347 0.00041791 0.02850596\n",
      " 0.04842768 0.03505201 0.02537383 0.00143259 0.01617422 0.01169424\n",
      " 0.01656405 0.02579937 0.00583962 0.01503756 0.00376432 0.00064319\n",
      " 0.00965313 0.02342952 0.01174198 0.00202581 0.01859382 0.00603458\n",
      " 0.06811542 0.0115071  0.02080411 0.01378335 0.06282923 0.12746902\n",
      " 0.05982608 0.0039672  0.17064049 0.05387693 0.02277092 0.11169731\n",
      " 0.00160378 0.05113048 0.1996997  0.01774073 0.0244613  0.05969289\n",
      " 0.00814399 0.01136305 0.00834383 0.0523313  0.02800188 0.01513682\n",
      " 0.0100883  0.05535489 0.00268151 0.06811542 0.0115071  0.02080411\n",
      " 0.01378335 0.06282923 0.12746902 0.05982608 0.0039672  0.17064049\n",
      " 0.05387693 0.02277092 0.11169731 0.00160378 0.05113048 0.1996997\n",
      " 0.01774073 0.0244613  0.05969289 0.00814399 0.01136305 0.00834383\n",
      " 0.0523313  0.02800188 0.01513682 0.0100883  0.05535489 0.00268151]' has dtype incompatible with int64, please explicitly cast to a compatible dtype first.\n",
      "  results.loc[results.fitness_rule == fitness_rule,'Fairness'] = results.loc[results.fitness_rule == fitness_rule,fairness_metric]\n"
     ]
    }
   ],
   "source": [
    "fitness_rules_target_metrics = {\n",
    "    'mcc_parity': {'performance': 'Mathew Correlation', 'fairness': 'Statistical Parity'},\n",
    "    'mcc_opportunity': {'performance': 'Mathew Correlation', 'fairness': 'Equal Opportunity'},\n",
    "    'mcc_odds': {'performance': 'Mathew Correlation', 'fairness': 'Equalized Odds'},\n",
    "    'acc_parity': {'performance': 'Accuracy', 'fairness': 'Statistical Parity'},\n",
    "    'acc_opportunity': {'performance': 'Accuracy', 'fairness': 'Equal Opportunity'},\n",
    "    'acc_odds': {'performance': 'Accuracy', 'fairness': 'Equalized Odds'}\n",
    "}\n",
    "\n",
    "fitness_rules_target_metrics = {\n",
    "    'mcc_parity': ('Mathew Correlation', 'Statistical Parity'),\n",
    "    'mcc_opportunity': ('Mathew Correlation', 'Equal Opportunity'),\n",
    "    'mcc_odds': ('Mathew Correlation', 'Equalized Odds'),\n",
    "    'acc_parity': ('Accuracy', 'Statistical Parity'),\n",
    "    'acc_opportunity': ('Accuracy', 'Equal Opportunity'),\n",
    "    'acc_odds': ('Accuracy', 'Equalized Odds')\n",
    "}\n",
    "fitness_rules_abvr = {\n",
    "    'mcc_parity': 'Max(MCC - Stat. Parity)',\n",
    "    'mcc_opportunity': 'Max(MCC - Eq. Odds)',\n",
    "    'mcc_odds': 'Max(MCC - Eq. Opp.)',\n",
    "    'acc_parity': 'Max(Acc - Stat. Parity)',\n",
    "    'acc_opportunity': 'Max(Acc - Eq. Odds)',\n",
    "    'acc_odds': 'Max(Acc - Eq. Opp.)'\n",
    "}\n",
    "\n",
    "for results in [mlp_results,ftl_results]:\n",
    "    results['Performance'] = 0\n",
    "    results['Fairness'] = 0\n",
    "    results['Fitness Rule'] = ''\n",
    "    for fitness_rule, (performance_metric, fairness_metric) in fitness_rules_target_metrics.items():\n",
    "        results.loc[results.fitness_rule == fitness_rule,'Performance'] = results.loc[results.fitness_rule == fitness_rule,performance_metric]\n",
    "        results.loc[results.fitness_rule == fitness_rule,'Fairness'] = results.loc[results.fitness_rule == fitness_rule,fairness_metric]\n",
    "        results.loc[results.fitness_rule == fitness_rule,'Fitness Rule Abvr'] = fitness_rules_abvr[fitness_rule]\n",
    "        results.loc[results.fitness_rule == fitness_rule,'Fitness Rule'] = 'Max(%s - %s)' % fitness_rules_target_metrics[fitness_rule]"
   ]
  },
  {
   "cell_type": "code",
   "execution_count": 46,
   "metadata": {
    "ExecuteTime": {
     "end_time": "2024-05-09T23:44:26.150411797Z",
     "start_time": "2024-05-09T23:44:26.135972854Z"
    }
   },
   "outputs": [
    {
     "data": {
      "text/plain": "['Adult Income', 'Bank Marketing', 'Compas Recidivism', 'German Credit']"
     },
     "execution_count": 46,
     "metadata": {},
     "output_type": "execute_result"
    }
   ],
   "source": [
    "datasets = ['Adult Income', 'Bank Marketing', 'Compas Recidivism','German Credit']\n",
    "datasets"
   ]
  },
  {
   "cell_type": "code",
   "execution_count": 47,
   "metadata": {
    "ExecuteTime": {
     "end_time": "2024-05-09T23:44:26.150939919Z",
     "start_time": "2024-05-09T23:44:26.136104347Z"
    }
   },
   "outputs": [
    {
     "data": {
      "text/plain": "['mcc_parity',\n 'mcc_opportunity',\n 'mcc_odds',\n 'acc_parity',\n 'acc_opportunity',\n 'acc_odds']"
     },
     "execution_count": 47,
     "metadata": {},
     "output_type": "execute_result"
    }
   ],
   "source": [
    "fitness_rules = ['mcc_parity', 'mcc_opportunity', 'mcc_odds', 'acc_parity', 'acc_opportunity', 'acc_odds']\n",
    "fitness_rules"
   ]
  },
  {
   "cell_type": "code",
   "execution_count": 48,
   "metadata": {
    "ExecuteTime": {
     "end_time": "2024-05-09T23:44:26.151326392Z",
     "start_time": "2024-05-09T23:44:26.136168874Z"
    }
   },
   "outputs": [],
   "source": [
    "ftl_methods = ['Standard FTL (baseline)', 'Pearson regularized FTL', 'Spearman regularized FTL', 'Auto corr regularized FTL']\n",
    "mlp_methods = ['Standard MLP (baseline)', 'Pearson regularized MLP', 'Spearman regularized MLP', 'Auto corr regularized MLP']\n",
    "significances = []\n",
    "grouped_results_list = []"
   ]
  },
  {
   "cell_type": "code",
   "execution_count": 49,
   "outputs": [
    {
     "name": "stdout",
     "output_type": "stream",
     "text": [
      "Significance Testing\n"
     ]
    },
    {
     "name": "stderr",
     "output_type": "stream",
     "text": [
      "Model comparisons: 100%|█████████▉| 5994/6000 [00:13<00:00, 439.34it/s]\n",
      "Model comparisons: 100%|█████████▉| 5994/6000 [00:13<00:00, 441.48it/s]\n",
      "Model comparisons: 100%|█████████▉| 5994/6000 [00:13<00:00, 438.22it/s]\n",
      "Model comparisons: 100%|█████████▉| 5994/6000 [00:13<00:00, 429.04it/s]\n",
      "Model comparisons: 100%|█████████▉| 5994/6000 [00:14<00:00, 424.87it/s]\n",
      "Model comparisons: 100%|█████████▉| 5994/6000 [00:13<00:00, 442.72it/s]\n",
      "Model comparisons: 100%|█████████▉| 5994/6000 [00:12<00:00, 465.43it/s]\n",
      "Model comparisons: 100%|█████████▉| 5994/6000 [00:12<00:00, 466.83it/s]\n",
      "Model comparisons: 100%|█████████▉| 5994/6000 [00:12<00:00, 469.72it/s]\n",
      "Model comparisons: 100%|█████████▉| 5994/6000 [00:12<00:00, 468.91it/s]\n",
      "Model comparisons: 100%|█████████▉| 5994/6000 [00:12<00:00, 461.86it/s]\n",
      "Model comparisons: 100%|█████████▉| 5994/6000 [00:12<00:00, 469.01it/s]\n",
      "Model comparisons: 100%|█████████▉| 5994/6000 [00:12<00:00, 464.18it/s]\n",
      "Model comparisons: 100%|█████████▉| 5994/6000 [00:12<00:00, 473.07it/s]\n",
      "Model comparisons: 100%|█████████▉| 5994/6000 [00:12<00:00, 477.44it/s]\n",
      "Model comparisons: 100%|█████████▉| 5994/6000 [00:12<00:00, 470.52it/s]\n",
      "Model comparisons: 100%|█████████▉| 5994/6000 [00:12<00:00, 465.31it/s]\n",
      "Model comparisons: 100%|█████████▉| 5994/6000 [00:12<00:00, 467.50it/s]\n",
      "Model comparisons: 100%|█████████▉| 5994/6000 [00:12<00:00, 470.32it/s]\n",
      "Model comparisons: 100%|█████████▉| 5994/6000 [00:12<00:00, 470.94it/s]\n",
      "Model comparisons: 100%|█████████▉| 5994/6000 [00:12<00:00, 469.00it/s]\n",
      "Model comparisons: 100%|█████████▉| 5994/6000 [00:12<00:00, 473.22it/s]\n",
      "Model comparisons: 100%|█████████▉| 5994/6000 [00:12<00:00, 474.89it/s]\n",
      "Model comparisons: 100%|█████████▉| 5994/6000 [00:12<00:00, 474.82it/s]"
     ]
    },
    {
     "name": "stdout",
     "output_type": "stream",
     "text": [
      "Significance Testing\n"
     ]
    },
    {
     "name": "stderr",
     "output_type": "stream",
     "text": [
      "\n"
     ]
    }
   ],
   "source": [
    "for path, methods, results in zip(['mlp_multi_aso_data_list.json', 'ftl_multi_aso_data_list.json'],\n",
    "                                  [mlp_methods, ftl_methods],\n",
    "                                  (mlp_results,ftl_results)):\n",
    "    if os.path.exists(path):\n",
    "        with open(path) as file:\n",
    "            multi_aso_data_list = json.load(file)\n",
    "    else:    \n",
    "        multi_aso_data_list = []\n",
    "        for d in datasets:\n",
    "            multi_aso_data = []\n",
    "            for f in fitness_rules:\n",
    "                methods_results = []\n",
    "                for m in methods:\n",
    "                    r = results.loc[ (results['dataset'] == d) &\n",
    "                                         (results['fitness_rule'] == f) &\n",
    "                                         (results['method'] == m) ]\\\n",
    "                                .fitness.tolist()\n",
    "                    if len(r) == 0:\n",
    "                        r = [-1]\n",
    "                    methods_results.append(r)\n",
    "                min_eps = deepsig.multi_aso(methods_results, confidence_level=0.95)\n",
    "                multi_aso_data_list.append({'fitness_rule': f, 'dataset': d, 'min_eps': min_eps.tolist()})\n",
    "        with open(path, 'w') as file:\n",
    "            json.dump(multi_aso_data_list, file)\n",
    "    \n",
    "    aso_df_resume = []\n",
    "    for aso_result in sorted(multi_aso_data_list, key=lambda x: x['dataset']):\n",
    "        fitness_rule = aso_result['fitness_rule']\n",
    "        dataset = aso_result['dataset']\n",
    "    \n",
    "        aso_df = pd.DataFrame(aso_result['min_eps'], columns=methods)\n",
    "        aso_df['method'] = methods\n",
    "        aso_df['dataset'] = dataset\n",
    "        aso_df['fitness_rule'] = fitness_rule\n",
    "        aso_df_resume.append(aso_df)\n",
    "    \n",
    "    print('Significance Testing')\n",
    "    significance = pd.concat(aso_df_resume)\n",
    "    significance.replace(fitness_rules_abvr, inplace=True)\n",
    "    significance = significance.set_index(['fitness_rule', 'dataset'])\n",
    "    significance = significance.sort_values(by=['fitness_rule', 'dataset'], ascending=[False, True])\n",
    "    significances.append(significance)\n",
    "    \n",
    "    grouped_results = results\\\n",
    "        .groupby(['Fitness Rule Abvr', 'dataset', 'method'])\\\n",
    "        .agg({'fitness': ['mean', 'std', 'count'], 'Performance': ['mean', 'std'], 'Fairness': ['mean', 'std']})\\\n",
    "        .sort_values(by=['Fitness Rule Abvr', 'dataset', ('fitness','mean')], ascending=False)\n",
    "    grouped_results['formatted_fitness'] = grouped_results.apply(lambda row: f\"${row[('fitness', 'mean')]:.3f} (\\pm{row[('fitness', 'std')]:.2f})$\", axis=1)\n",
    "    grouped_results['formatted_performance'] = grouped_results.apply(lambda row: f\"${row[('Performance', 'mean')]:.3f} (\\pm{row[('Performance', 'std')]:.2f})$\", axis=1)\n",
    "    grouped_results['formatted_fairness'] = grouped_results.apply(lambda row: f\"${row[('Fairness', 'mean')]:.3f} (\\pm{row[('Fairness', 'std')]:.2f})$\", axis=1)\n",
    "    grouped_results = grouped_results.sort_values(by=['Fitness Rule Abvr', 'dataset'])\n",
    "    grouped_results_list.append(grouped_results)"
   ],
   "metadata": {
    "collapsed": false,
    "ExecuteTime": {
     "end_time": "2024-05-09T23:49:38.552833439Z",
     "start_time": "2024-05-09T23:44:26.136212676Z"
    }
   }
  },
  {
   "cell_type": "code",
   "execution_count": 50,
   "outputs": [
    {
     "data": {
      "text/plain": "                                           Standard MLP (baseline)  \\\nfitness_rule            dataset                                      \nMax(MCC - Stat. Parity) Adult Income                      1.000000   \n                        Adult Income                      0.523903   \n                        Adult Income                      1.000000   \n                        Adult Income                      0.232197   \n                        Bank Marketing                    1.000000   \n...                                                            ...   \nMax(Acc - Eq. Odds)     Compas Recidivism                 1.000000   \n                        German Credit                     1.000000   \n                        German Credit                     0.197113   \n                        German Credit                     0.640273   \n                        German Credit                     0.034125   \n\n                                           Pearson regularized MLP  \\\nfitness_rule            dataset                                      \nMax(MCC - Stat. Parity) Adult Income                      1.000000   \n                        Adult Income                      1.000000   \n                        Adult Income                      1.000000   \n                        Adult Income                      0.705617   \n                        Bank Marketing                    1.000000   \n...                                                            ...   \nMax(Acc - Eq. Odds)     Compas Recidivism                 1.000000   \n                        German Credit                     1.000000   \n                        German Credit                     1.000000   \n                        German Credit                     1.000000   \n                        German Credit                     0.103348   \n\n                                           Spearman regularized MLP  \\\nfitness_rule            dataset                                       \nMax(MCC - Stat. Parity) Adult Income                       0.921788   \n                        Adult Income                       0.560019   \n                        Adult Income                       1.000000   \n                        Adult Income                       0.386660   \n                        Bank Marketing                     1.000000   \n...                                                             ...   \nMax(Acc - Eq. Odds)     Compas Recidivism                  1.000000   \n                        German Credit                      1.000000   \n                        German Credit                      0.232851   \n                        German Credit                      1.000000   \n                        German Credit                      0.008415   \n\n                                           Auto corr regularized MLP  \\\nfitness_rule            dataset                                        \nMax(MCC - Stat. Parity) Adult Income                        1.000000   \n                        Adult Income                        1.000000   \n                        Adult Income                        1.000000   \n                        Adult Income                        1.000000   \n                        Bank Marketing                      0.651367   \n...                                                              ...   \nMax(Acc - Eq. Odds)     Compas Recidivism                   1.000000   \n                        German Credit                       0.990951   \n                        German Credit                       1.000000   \n                        German Credit                       0.999065   \n                        German Credit                       1.000000   \n\n                                                              method  \nfitness_rule            dataset                                       \nMax(MCC - Stat. Parity) Adult Income         Standard MLP (baseline)  \n                        Adult Income         Pearson regularized MLP  \n                        Adult Income        Spearman regularized MLP  \n                        Adult Income       Auto corr regularized MLP  \n                        Bank Marketing       Standard MLP (baseline)  \n...                                                              ...  \nMax(Acc - Eq. Odds)     Compas Recidivism  Auto corr regularized MLP  \n                        German Credit        Standard MLP (baseline)  \n                        German Credit        Pearson regularized MLP  \n                        German Credit       Spearman regularized MLP  \n                        German Credit      Auto corr regularized MLP  \n\n[96 rows x 5 columns]",
      "text/html": "<div>\n<style scoped>\n    .dataframe tbody tr th:only-of-type {\n        vertical-align: middle;\n    }\n\n    .dataframe tbody tr th {\n        vertical-align: top;\n    }\n\n    .dataframe thead th {\n        text-align: right;\n    }\n</style>\n<table border=\"1\" class=\"dataframe\">\n  <thead>\n    <tr style=\"text-align: right;\">\n      <th></th>\n      <th></th>\n      <th>Standard MLP (baseline)</th>\n      <th>Pearson regularized MLP</th>\n      <th>Spearman regularized MLP</th>\n      <th>Auto corr regularized MLP</th>\n      <th>method</th>\n    </tr>\n    <tr>\n      <th>fitness_rule</th>\n      <th>dataset</th>\n      <th></th>\n      <th></th>\n      <th></th>\n      <th></th>\n      <th></th>\n    </tr>\n  </thead>\n  <tbody>\n    <tr>\n      <th rowspan=\"5\" valign=\"top\">Max(MCC - Stat. Parity)</th>\n      <th>Adult Income</th>\n      <td>1.000000</td>\n      <td>1.000000</td>\n      <td>0.921788</td>\n      <td>1.000000</td>\n      <td>Standard MLP (baseline)</td>\n    </tr>\n    <tr>\n      <th>Adult Income</th>\n      <td>0.523903</td>\n      <td>1.000000</td>\n      <td>0.560019</td>\n      <td>1.000000</td>\n      <td>Pearson regularized MLP</td>\n    </tr>\n    <tr>\n      <th>Adult Income</th>\n      <td>1.000000</td>\n      <td>1.000000</td>\n      <td>1.000000</td>\n      <td>1.000000</td>\n      <td>Spearman regularized MLP</td>\n    </tr>\n    <tr>\n      <th>Adult Income</th>\n      <td>0.232197</td>\n      <td>0.705617</td>\n      <td>0.386660</td>\n      <td>1.000000</td>\n      <td>Auto corr regularized MLP</td>\n    </tr>\n    <tr>\n      <th>Bank Marketing</th>\n      <td>1.000000</td>\n      <td>1.000000</td>\n      <td>1.000000</td>\n      <td>0.651367</td>\n      <td>Standard MLP (baseline)</td>\n    </tr>\n    <tr>\n      <th>...</th>\n      <th>...</th>\n      <td>...</td>\n      <td>...</td>\n      <td>...</td>\n      <td>...</td>\n      <td>...</td>\n    </tr>\n    <tr>\n      <th rowspan=\"5\" valign=\"top\">Max(Acc - Eq. Odds)</th>\n      <th>Compas Recidivism</th>\n      <td>1.000000</td>\n      <td>1.000000</td>\n      <td>1.000000</td>\n      <td>1.000000</td>\n      <td>Auto corr regularized MLP</td>\n    </tr>\n    <tr>\n      <th>German Credit</th>\n      <td>1.000000</td>\n      <td>1.000000</td>\n      <td>1.000000</td>\n      <td>0.990951</td>\n      <td>Standard MLP (baseline)</td>\n    </tr>\n    <tr>\n      <th>German Credit</th>\n      <td>0.197113</td>\n      <td>1.000000</td>\n      <td>0.232851</td>\n      <td>1.000000</td>\n      <td>Pearson regularized MLP</td>\n    </tr>\n    <tr>\n      <th>German Credit</th>\n      <td>0.640273</td>\n      <td>1.000000</td>\n      <td>1.000000</td>\n      <td>0.999065</td>\n      <td>Spearman regularized MLP</td>\n    </tr>\n    <tr>\n      <th>German Credit</th>\n      <td>0.034125</td>\n      <td>0.103348</td>\n      <td>0.008415</td>\n      <td>1.000000</td>\n      <td>Auto corr regularized MLP</td>\n    </tr>\n  </tbody>\n</table>\n<p>96 rows × 5 columns</p>\n</div>"
     },
     "execution_count": 50,
     "metadata": {},
     "output_type": "execute_result"
    }
   ],
   "source": [
    "significances[0].sort_values(by=['fitness_rule', 'dataset'], ascending=[False, True])"
   ],
   "metadata": {
    "collapsed": false,
    "ExecuteTime": {
     "end_time": "2024-05-09T23:49:38.601969416Z",
     "start_time": "2024-05-09T23:49:38.554534050Z"
    }
   }
  },
  {
   "cell_type": "code",
   "outputs": [
    {
     "data": {
      "text/plain": "                                                                      fitness  \\\n                                                                         mean   \nFitness Rule Abvr       dataset           method                                \nMax(Acc - Eq. Odds)     Adult Income      Auto corr regularized MLP  0.765534   \n                                          Spearman regularized MLP   0.761024   \n                                          Standard MLP (baseline)    0.758290   \n                                          Pearson regularized MLP    0.741188   \n                        Bank Marketing    Standard MLP (baseline)    0.803182   \n...                                                                       ...   \nMax(MCC - Stat. Parity) Compas Recidivism Spearman regularized MLP   0.067990   \n                        German Credit     Auto corr regularized MLP  0.288807   \n                                          Standard MLP (baseline)    0.265661   \n                                          Pearson regularized MLP    0.262448   \n                                          Spearman regularized MLP   0.180405   \n\n                                                                               \\\n                                                                          std   \nFitness Rule Abvr       dataset           method                                \nMax(Acc - Eq. Odds)     Adult Income      Auto corr regularized MLP  0.022879   \n                                          Spearman regularized MLP   0.041571   \n                                          Standard MLP (baseline)    0.035161   \n                                          Pearson regularized MLP    0.045045   \n                        Bank Marketing    Standard MLP (baseline)    0.070894   \n...                                                                       ...   \nMax(MCC - Stat. Parity) Compas Recidivism Spearman regularized MLP   0.069200   \n                        German Credit     Auto corr regularized MLP  0.078940   \n                                          Standard MLP (baseline)    0.099801   \n                                          Pearson regularized MLP    0.030490   \n                                          Spearman regularized MLP   0.088635   \n\n                                                                           \\\n                                                                    count   \nFitness Rule Abvr       dataset           method                            \nMax(Acc - Eq. Odds)     Adult Income      Auto corr regularized MLP     6   \n                                          Spearman regularized MLP      6   \n                                          Standard MLP (baseline)      15   \n                                          Pearson regularized MLP       6   \n                        Bank Marketing    Standard MLP (baseline)      30   \n...                                                                   ...   \nMax(MCC - Stat. Parity) Compas Recidivism Spearman regularized MLP      6   \n                        German Credit     Auto corr regularized MLP     6   \n                                          Standard MLP (baseline)      30   \n                                          Pearson regularized MLP       6   \n                                          Spearman regularized MLP      6   \n\n                                                                    Performance  \\\n                                                                           mean   \nFitness Rule Abvr       dataset           method                                  \nMax(Acc - Eq. Odds)     Adult Income      Auto corr regularized MLP    0.851446   \n                                          Spearman regularized MLP     0.847835   \n                                          Standard MLP (baseline)      0.847864   \n                                          Pearson regularized MLP      0.850341   \n                        Bank Marketing    Standard MLP (baseline)      0.902154   \n...                                                                         ...   \nMax(MCC - Stat. Parity) Compas Recidivism Spearman regularized MLP     0.285655   \n                        German Credit     Auto corr regularized MLP    0.386198   \n                                          Standard MLP (baseline)      0.329468   \n                                          Pearson regularized MLP      0.345602   \n                                          Spearman regularized MLP     0.296328   \n\n                                                                               \\\n                                                                          std   \nFitness Rule Abvr       dataset           method                                \nMax(Acc - Eq. Odds)     Adult Income      Auto corr regularized MLP  0.002568   \n                                          Spearman regularized MLP   0.005097   \n                                          Standard MLP (baseline)    0.004669   \n                                          Pearson regularized MLP    0.002727   \n                        Bank Marketing    Standard MLP (baseline)    0.002618   \n...                                                                       ...   \nMax(MCC - Stat. Parity) Compas Recidivism Spearman regularized MLP   0.022689   \n                        German Credit     Auto corr regularized MLP  0.032812   \n                                          Standard MLP (baseline)    0.090834   \n                                          Pearson regularized MLP    0.041158   \n                                          Spearman regularized MLP   0.060139   \n\n                                                                     Fairness  \\\n                                                                         mean   \nFitness Rule Abvr       dataset           method                                \nMax(Acc - Eq. Odds)     Adult Income      Auto corr regularized MLP  0.085913   \n                                          Spearman regularized MLP   0.086811   \n                                          Standard MLP (baseline)    0.089574   \n                                          Pearson regularized MLP    0.109153   \n                        Bank Marketing    Standard MLP (baseline)    0.098971   \n...                                                                       ...   \nMax(MCC - Stat. Parity) Compas Recidivism Spearman regularized MLP   0.217666   \n                        German Credit     Auto corr regularized MLP  0.097391   \n                                          Standard MLP (baseline)    0.063807   \n                                          Pearson regularized MLP    0.083154   \n                                          Spearman regularized MLP   0.115923   \n\n                                                                               \\\n                                                                          std   \nFitness Rule Abvr       dataset           method                                \nMax(Acc - Eq. Odds)     Adult Income      Auto corr regularized MLP  0.022909   \n                                          Spearman regularized MLP   0.038167   \n                                          Standard MLP (baseline)    0.035575   \n                                          Pearson regularized MLP    0.046080   \n                        Bank Marketing    Standard MLP (baseline)    0.070290   \n...                                                                       ...   \nMax(MCC - Stat. Parity) Compas Recidivism Spearman regularized MLP   0.054432   \n                        German Credit     Auto corr regularized MLP  0.069361   \n                                          Standard MLP (baseline)    0.046639   \n                                          Pearson regularized MLP    0.045541   \n                                          Spearman regularized MLP   0.067285   \n\n                                                                     formatted_fitness  \\\n                                                                                         \nFitness Rule Abvr       dataset           method                                         \nMax(Acc - Eq. Odds)     Adult Income      Auto corr regularized MLP  $0.766 (\\pm0.02)$   \n                                          Spearman regularized MLP   $0.761 (\\pm0.04)$   \n                                          Standard MLP (baseline)    $0.758 (\\pm0.04)$   \n                                          Pearson regularized MLP    $0.741 (\\pm0.05)$   \n                        Bank Marketing    Standard MLP (baseline)    $0.803 (\\pm0.07)$   \n...                                                                                ...   \nMax(MCC - Stat. Parity) Compas Recidivism Spearman regularized MLP   $0.068 (\\pm0.07)$   \n                        German Credit     Auto corr regularized MLP  $0.289 (\\pm0.08)$   \n                                          Standard MLP (baseline)    $0.266 (\\pm0.10)$   \n                                          Pearson regularized MLP    $0.262 (\\pm0.03)$   \n                                          Spearman regularized MLP   $0.180 (\\pm0.09)$   \n\n                                                                    formatted_performance  \\\n                                                                                            \nFitness Rule Abvr       dataset           method                                            \nMax(Acc - Eq. Odds)     Adult Income      Auto corr regularized MLP     $0.851 (\\pm0.00)$   \n                                          Spearman regularized MLP      $0.848 (\\pm0.01)$   \n                                          Standard MLP (baseline)       $0.848 (\\pm0.00)$   \n                                          Pearson regularized MLP       $0.850 (\\pm0.00)$   \n                        Bank Marketing    Standard MLP (baseline)       $0.902 (\\pm0.00)$   \n...                                                                                   ...   \nMax(MCC - Stat. Parity) Compas Recidivism Spearman regularized MLP      $0.286 (\\pm0.02)$   \n                        German Credit     Auto corr regularized MLP     $0.386 (\\pm0.03)$   \n                                          Standard MLP (baseline)       $0.329 (\\pm0.09)$   \n                                          Pearson regularized MLP       $0.346 (\\pm0.04)$   \n                                          Spearman regularized MLP      $0.296 (\\pm0.06)$   \n\n                                                                    formatted_fairness  \n                                                                                        \nFitness Rule Abvr       dataset           method                                        \nMax(Acc - Eq. Odds)     Adult Income      Auto corr regularized MLP  $0.086 (\\pm0.02)$  \n                                          Spearman regularized MLP   $0.087 (\\pm0.04)$  \n                                          Standard MLP (baseline)    $0.090 (\\pm0.04)$  \n                                          Pearson regularized MLP    $0.109 (\\pm0.05)$  \n                        Bank Marketing    Standard MLP (baseline)    $0.099 (\\pm0.07)$  \n...                                                                                ...  \nMax(MCC - Stat. Parity) Compas Recidivism Spearman regularized MLP   $0.218 (\\pm0.05)$  \n                        German Credit     Auto corr regularized MLP  $0.097 (\\pm0.07)$  \n                                          Standard MLP (baseline)    $0.064 (\\pm0.05)$  \n                                          Pearson regularized MLP    $0.083 (\\pm0.05)$  \n                                          Spearman regularized MLP   $0.116 (\\pm0.07)$  \n\n[96 rows x 10 columns]",
      "text/html": "<div>\n<style scoped>\n    .dataframe tbody tr th:only-of-type {\n        vertical-align: middle;\n    }\n\n    .dataframe tbody tr th {\n        vertical-align: top;\n    }\n\n    .dataframe thead tr th {\n        text-align: left;\n    }\n\n    .dataframe thead tr:last-of-type th {\n        text-align: right;\n    }\n</style>\n<table border=\"1\" class=\"dataframe\">\n  <thead>\n    <tr>\n      <th></th>\n      <th></th>\n      <th></th>\n      <th colspan=\"3\" halign=\"left\">fitness</th>\n      <th colspan=\"2\" halign=\"left\">Performance</th>\n      <th colspan=\"2\" halign=\"left\">Fairness</th>\n      <th>formatted_fitness</th>\n      <th>formatted_performance</th>\n      <th>formatted_fairness</th>\n    </tr>\n    <tr>\n      <th></th>\n      <th></th>\n      <th></th>\n      <th>mean</th>\n      <th>std</th>\n      <th>count</th>\n      <th>mean</th>\n      <th>std</th>\n      <th>mean</th>\n      <th>std</th>\n      <th></th>\n      <th></th>\n      <th></th>\n    </tr>\n    <tr>\n      <th>Fitness Rule Abvr</th>\n      <th>dataset</th>\n      <th>method</th>\n      <th></th>\n      <th></th>\n      <th></th>\n      <th></th>\n      <th></th>\n      <th></th>\n      <th></th>\n      <th></th>\n      <th></th>\n      <th></th>\n    </tr>\n  </thead>\n  <tbody>\n    <tr>\n      <th rowspan=\"5\" valign=\"top\">Max(Acc - Eq. Odds)</th>\n      <th rowspan=\"4\" valign=\"top\">Adult Income</th>\n      <th>Auto corr regularized MLP</th>\n      <td>0.765534</td>\n      <td>0.022879</td>\n      <td>6</td>\n      <td>0.851446</td>\n      <td>0.002568</td>\n      <td>0.085913</td>\n      <td>0.022909</td>\n      <td>$0.766 (\\pm0.02)$</td>\n      <td>$0.851 (\\pm0.00)$</td>\n      <td>$0.086 (\\pm0.02)$</td>\n    </tr>\n    <tr>\n      <th>Spearman regularized MLP</th>\n      <td>0.761024</td>\n      <td>0.041571</td>\n      <td>6</td>\n      <td>0.847835</td>\n      <td>0.005097</td>\n      <td>0.086811</td>\n      <td>0.038167</td>\n      <td>$0.761 (\\pm0.04)$</td>\n      <td>$0.848 (\\pm0.01)$</td>\n      <td>$0.087 (\\pm0.04)$</td>\n    </tr>\n    <tr>\n      <th>Standard MLP (baseline)</th>\n      <td>0.758290</td>\n      <td>0.035161</td>\n      <td>15</td>\n      <td>0.847864</td>\n      <td>0.004669</td>\n      <td>0.089574</td>\n      <td>0.035575</td>\n      <td>$0.758 (\\pm0.04)$</td>\n      <td>$0.848 (\\pm0.00)$</td>\n      <td>$0.090 (\\pm0.04)$</td>\n    </tr>\n    <tr>\n      <th>Pearson regularized MLP</th>\n      <td>0.741188</td>\n      <td>0.045045</td>\n      <td>6</td>\n      <td>0.850341</td>\n      <td>0.002727</td>\n      <td>0.109153</td>\n      <td>0.046080</td>\n      <td>$0.741 (\\pm0.05)$</td>\n      <td>$0.850 (\\pm0.00)$</td>\n      <td>$0.109 (\\pm0.05)$</td>\n    </tr>\n    <tr>\n      <th>Bank Marketing</th>\n      <th>Standard MLP (baseline)</th>\n      <td>0.803182</td>\n      <td>0.070894</td>\n      <td>30</td>\n      <td>0.902154</td>\n      <td>0.002618</td>\n      <td>0.098971</td>\n      <td>0.070290</td>\n      <td>$0.803 (\\pm0.07)$</td>\n      <td>$0.902 (\\pm0.00)$</td>\n      <td>$0.099 (\\pm0.07)$</td>\n    </tr>\n    <tr>\n      <th>...</th>\n      <th>...</th>\n      <th>...</th>\n      <td>...</td>\n      <td>...</td>\n      <td>...</td>\n      <td>...</td>\n      <td>...</td>\n      <td>...</td>\n      <td>...</td>\n      <td>...</td>\n      <td>...</td>\n      <td>...</td>\n    </tr>\n    <tr>\n      <th rowspan=\"5\" valign=\"top\">Max(MCC - Stat. Parity)</th>\n      <th>Compas Recidivism</th>\n      <th>Spearman regularized MLP</th>\n      <td>0.067990</td>\n      <td>0.069200</td>\n      <td>6</td>\n      <td>0.285655</td>\n      <td>0.022689</td>\n      <td>0.217666</td>\n      <td>0.054432</td>\n      <td>$0.068 (\\pm0.07)$</td>\n      <td>$0.286 (\\pm0.02)$</td>\n      <td>$0.218 (\\pm0.05)$</td>\n    </tr>\n    <tr>\n      <th rowspan=\"4\" valign=\"top\">German Credit</th>\n      <th>Auto corr regularized MLP</th>\n      <td>0.288807</td>\n      <td>0.078940</td>\n      <td>6</td>\n      <td>0.386198</td>\n      <td>0.032812</td>\n      <td>0.097391</td>\n      <td>0.069361</td>\n      <td>$0.289 (\\pm0.08)$</td>\n      <td>$0.386 (\\pm0.03)$</td>\n      <td>$0.097 (\\pm0.07)$</td>\n    </tr>\n    <tr>\n      <th>Standard MLP (baseline)</th>\n      <td>0.265661</td>\n      <td>0.099801</td>\n      <td>30</td>\n      <td>0.329468</td>\n      <td>0.090834</td>\n      <td>0.063807</td>\n      <td>0.046639</td>\n      <td>$0.266 (\\pm0.10)$</td>\n      <td>$0.329 (\\pm0.09)$</td>\n      <td>$0.064 (\\pm0.05)$</td>\n    </tr>\n    <tr>\n      <th>Pearson regularized MLP</th>\n      <td>0.262448</td>\n      <td>0.030490</td>\n      <td>6</td>\n      <td>0.345602</td>\n      <td>0.041158</td>\n      <td>0.083154</td>\n      <td>0.045541</td>\n      <td>$0.262 (\\pm0.03)$</td>\n      <td>$0.346 (\\pm0.04)$</td>\n      <td>$0.083 (\\pm0.05)$</td>\n    </tr>\n    <tr>\n      <th>Spearman regularized MLP</th>\n      <td>0.180405</td>\n      <td>0.088635</td>\n      <td>6</td>\n      <td>0.296328</td>\n      <td>0.060139</td>\n      <td>0.115923</td>\n      <td>0.067285</td>\n      <td>$0.180 (\\pm0.09)$</td>\n      <td>$0.296 (\\pm0.06)$</td>\n      <td>$0.116 (\\pm0.07)$</td>\n    </tr>\n  </tbody>\n</table>\n<p>96 rows × 10 columns</p>\n</div>"
     },
     "execution_count": 51,
     "metadata": {},
     "output_type": "execute_result"
    }
   ],
   "source": [
    "grouped_results_list[0]"
   ],
   "metadata": {
    "collapsed": false,
    "ExecuteTime": {
     "end_time": "2024-05-09T23:49:38.602824937Z",
     "start_time": "2024-05-09T23:49:38.595019386Z"
    }
   },
   "execution_count": 51
  },
  {
   "cell_type": "code",
   "execution_count": 52,
   "outputs": [
    {
     "data": {
      "text/plain": "                                           Standard FTL (baseline)  \\\nfitness_rule            dataset                                      \nMax(MCC - Stat. Parity) Adult Income                      1.000000   \n                        Adult Income                      0.550914   \n                        Adult Income                      1.000000   \n                        Adult Income                      1.000000   \n                        Bank Marketing                    1.000000   \n...                                                            ...   \nMax(Acc - Eq. Odds)     Compas Recidivism                 1.000000   \n                        German Credit                     1.000000   \n                        German Credit                     1.000000   \n                        German Credit                     1.000000   \n                        German Credit                     1.000000   \n\n                                           Pearson regularized FTL  \\\nfitness_rule            dataset                                      \nMax(MCC - Stat. Parity) Adult Income                      1.000000   \n                        Adult Income                      1.000000   \n                        Adult Income                      1.000000   \n                        Adult Income                      1.000000   \n                        Bank Marketing                    1.000000   \n...                                                            ...   \nMax(Acc - Eq. Odds)     Compas Recidivism                 1.000000   \n                        German Credit                     0.795869   \n                        German Credit                     1.000000   \n                        German Credit                     1.000000   \n                        German Credit                     1.000000   \n\n                                           Spearman regularized FTL  \\\nfitness_rule            dataset                                       \nMax(MCC - Stat. Parity) Adult Income                       0.346959   \n                        Adult Income                       0.223979   \n                        Adult Income                       1.000000   \n                        Adult Income                       1.000000   \n                        Bank Marketing                     1.000000   \n...                                                             ...   \nMax(Acc - Eq. Odds)     Compas Recidivism                  1.000000   \n                        German Credit                      0.000000   \n                        German Credit                      0.000000   \n                        German Credit                      1.000000   \n                        German Credit                      1.000000   \n\n                                           Auto corr regularized FTL  \\\nfitness_rule            dataset                                        \nMax(MCC - Stat. Parity) Adult Income                             0.0   \n                        Adult Income                             0.0   \n                        Adult Income                             0.0   \n                        Adult Income                             1.0   \n                        Bank Marketing                           0.0   \n...                                                              ...   \nMax(Acc - Eq. Odds)     Compas Recidivism                        1.0   \n                        German Credit                            0.0   \n                        German Credit                            0.0   \n                        German Credit                            0.0   \n                        German Credit                            1.0   \n\n                                                              method  \nfitness_rule            dataset                                       \nMax(MCC - Stat. Parity) Adult Income         Standard FTL (baseline)  \n                        Adult Income         Pearson regularized FTL  \n                        Adult Income        Spearman regularized FTL  \n                        Adult Income       Auto corr regularized FTL  \n                        Bank Marketing       Standard FTL (baseline)  \n...                                                              ...  \nMax(Acc - Eq. Odds)     Compas Recidivism  Auto corr regularized FTL  \n                        German Credit        Standard FTL (baseline)  \n                        German Credit        Pearson regularized FTL  \n                        German Credit       Spearman regularized FTL  \n                        German Credit      Auto corr regularized FTL  \n\n[96 rows x 5 columns]",
      "text/html": "<div>\n<style scoped>\n    .dataframe tbody tr th:only-of-type {\n        vertical-align: middle;\n    }\n\n    .dataframe tbody tr th {\n        vertical-align: top;\n    }\n\n    .dataframe thead th {\n        text-align: right;\n    }\n</style>\n<table border=\"1\" class=\"dataframe\">\n  <thead>\n    <tr style=\"text-align: right;\">\n      <th></th>\n      <th></th>\n      <th>Standard FTL (baseline)</th>\n      <th>Pearson regularized FTL</th>\n      <th>Spearman regularized FTL</th>\n      <th>Auto corr regularized FTL</th>\n      <th>method</th>\n    </tr>\n    <tr>\n      <th>fitness_rule</th>\n      <th>dataset</th>\n      <th></th>\n      <th></th>\n      <th></th>\n      <th></th>\n      <th></th>\n    </tr>\n  </thead>\n  <tbody>\n    <tr>\n      <th rowspan=\"5\" valign=\"top\">Max(MCC - Stat. Parity)</th>\n      <th>Adult Income</th>\n      <td>1.000000</td>\n      <td>1.000000</td>\n      <td>0.346959</td>\n      <td>0.0</td>\n      <td>Standard FTL (baseline)</td>\n    </tr>\n    <tr>\n      <th>Adult Income</th>\n      <td>0.550914</td>\n      <td>1.000000</td>\n      <td>0.223979</td>\n      <td>0.0</td>\n      <td>Pearson regularized FTL</td>\n    </tr>\n    <tr>\n      <th>Adult Income</th>\n      <td>1.000000</td>\n      <td>1.000000</td>\n      <td>1.000000</td>\n      <td>0.0</td>\n      <td>Spearman regularized FTL</td>\n    </tr>\n    <tr>\n      <th>Adult Income</th>\n      <td>1.000000</td>\n      <td>1.000000</td>\n      <td>1.000000</td>\n      <td>1.0</td>\n      <td>Auto corr regularized FTL</td>\n    </tr>\n    <tr>\n      <th>Bank Marketing</th>\n      <td>1.000000</td>\n      <td>1.000000</td>\n      <td>1.000000</td>\n      <td>0.0</td>\n      <td>Standard FTL (baseline)</td>\n    </tr>\n    <tr>\n      <th>...</th>\n      <th>...</th>\n      <td>...</td>\n      <td>...</td>\n      <td>...</td>\n      <td>...</td>\n      <td>...</td>\n    </tr>\n    <tr>\n      <th rowspan=\"5\" valign=\"top\">Max(Acc - Eq. Odds)</th>\n      <th>Compas Recidivism</th>\n      <td>1.000000</td>\n      <td>1.000000</td>\n      <td>1.000000</td>\n      <td>1.0</td>\n      <td>Auto corr regularized FTL</td>\n    </tr>\n    <tr>\n      <th>German Credit</th>\n      <td>1.000000</td>\n      <td>0.795869</td>\n      <td>0.000000</td>\n      <td>0.0</td>\n      <td>Standard FTL (baseline)</td>\n    </tr>\n    <tr>\n      <th>German Credit</th>\n      <td>1.000000</td>\n      <td>1.000000</td>\n      <td>0.000000</td>\n      <td>0.0</td>\n      <td>Pearson regularized FTL</td>\n    </tr>\n    <tr>\n      <th>German Credit</th>\n      <td>1.000000</td>\n      <td>1.000000</td>\n      <td>1.000000</td>\n      <td>0.0</td>\n      <td>Spearman regularized FTL</td>\n    </tr>\n    <tr>\n      <th>German Credit</th>\n      <td>1.000000</td>\n      <td>1.000000</td>\n      <td>1.000000</td>\n      <td>1.0</td>\n      <td>Auto corr regularized FTL</td>\n    </tr>\n  </tbody>\n</table>\n<p>96 rows × 5 columns</p>\n</div>"
     },
     "execution_count": 52,
     "metadata": {},
     "output_type": "execute_result"
    }
   ],
   "source": [
    "significances[1].sort_values(by=['fitness_rule', 'dataset'], ascending=[False, True])"
   ],
   "metadata": {
    "collapsed": false,
    "ExecuteTime": {
     "end_time": "2024-05-09T23:49:38.603506427Z",
     "start_time": "2024-05-09T23:49:38.595239514Z"
    }
   }
  },
  {
   "cell_type": "code",
   "execution_count": 53,
   "outputs": [
    {
     "data": {
      "text/plain": "                                                                     fitness  \\\n                                                                        mean   \nFitness Rule Abvr       dataset           method                               \nMax(Acc - Eq. Odds)     Adult Income      Pearson regularized FTL   0.816948   \n                                          Standard FTL (baseline)   0.815099   \n                                          Spearman regularized FTL  0.796648   \n                                          ftl_mlp_sreg_initializer  0.796648   \n                        Bank Marketing    Pearson regularized FTL   0.842059   \n...                                                                      ...   \nMax(MCC - Stat. Parity) Compas Recidivism ftl_mlp_sreg_initializer  0.235185   \n                        German Credit     Pearson regularized FTL   0.298430   \n                                          Standard FTL (baseline)   0.256495   \n                                          Spearman regularized FTL  0.183352   \n                                          ftl_mlp_sreg_initializer  0.183352   \n\n                                                                              \\\n                                                                         std   \nFitness Rule Abvr       dataset           method                               \nMax(Acc - Eq. Odds)     Adult Income      Pearson regularized FTL   0.023932   \n                                          Standard FTL (baseline)   0.022059   \n                                          Spearman regularized FTL  0.036947   \n                                          ftl_mlp_sreg_initializer  0.036947   \n                        Bank Marketing    Pearson regularized FTL   0.037943   \n...                                                                      ...   \nMax(MCC - Stat. Parity) Compas Recidivism ftl_mlp_sreg_initializer  0.047326   \n                        German Credit     Pearson regularized FTL   0.061080   \n                                          Standard FTL (baseline)   0.089117   \n                                          Spearman regularized FTL  0.166189   \n                                          ftl_mlp_sreg_initializer  0.166189   \n\n                                                                          \\\n                                                                   count   \nFitness Rule Abvr       dataset           method                           \nMax(Acc - Eq. Odds)     Adult Income      Pearson regularized FTL     17   \n                                          Standard FTL (baseline)     14   \n                                          Spearman regularized FTL    13   \n                                          ftl_mlp_sreg_initializer    13   \n                        Bank Marketing    Pearson regularized FTL      5   \n...                                                                  ...   \nMax(MCC - Stat. Parity) Compas Recidivism ftl_mlp_sreg_initializer     5   \n                        German Credit     Pearson regularized FTL      4   \n                                          Standard FTL (baseline)      4   \n                                          Spearman regularized FTL     4   \n                                          ftl_mlp_sreg_initializer     4   \n\n                                                                   Performance  \\\n                                                                          mean   \nFitness Rule Abvr       dataset           method                                 \nMax(Acc - Eq. Odds)     Adult Income      Pearson regularized FTL     0.844002   \n                                          Standard FTL (baseline)     0.847485   \n                                          Spearman regularized FTL    0.843398   \n                                          ftl_mlp_sreg_initializer    0.843398   \n                        Bank Marketing    Pearson regularized FTL     0.882781   \n...                                                                        ...   \nMax(MCC - Stat. Parity) Compas Recidivism ftl_mlp_sreg_initializer    0.283411   \n                        German Credit     Pearson regularized FTL     0.349387   \n                                          Standard FTL (baseline)     0.351942   \n                                          Spearman regularized FTL    0.313005   \n                                          ftl_mlp_sreg_initializer    0.313005   \n\n                                                                              \\\n                                                                         std   \nFitness Rule Abvr       dataset           method                               \nMax(Acc - Eq. Odds)     Adult Income      Pearson regularized FTL   0.008850   \n                                          Standard FTL (baseline)   0.003112   \n                                          Spearman regularized FTL  0.003089   \n                                          ftl_mlp_sreg_initializer  0.003089   \n                        Bank Marketing    Pearson regularized FTL   0.017358   \n...                                                                      ...   \nMax(MCC - Stat. Parity) Compas Recidivism ftl_mlp_sreg_initializer  0.018978   \n                        German Credit     Pearson regularized FTL   0.034872   \n                                          Standard FTL (baseline)   0.027961   \n                                          Spearman regularized FTL  0.111170   \n                                          ftl_mlp_sreg_initializer  0.111170   \n\n                                                                    Fairness  \\\n                                                                        mean   \nFitness Rule Abvr       dataset           method                               \nMax(Acc - Eq. Odds)     Adult Income      Pearson regularized FTL   0.027055   \n                                          Standard FTL (baseline)   0.032386   \n                                          Spearman regularized FTL  0.046751   \n                                          ftl_mlp_sreg_initializer  0.046751   \n                        Bank Marketing    Pearson regularized FTL   0.040722   \n...                                                                      ...   \nMax(MCC - Stat. Parity) Compas Recidivism ftl_mlp_sreg_initializer  0.048226   \n                        German Credit     Pearson regularized FTL   0.050957   \n                                          Standard FTL (baseline)   0.095446   \n                                          Spearman regularized FTL  0.129653   \n                                          ftl_mlp_sreg_initializer  0.129653   \n\n                                                                              \\\n                                                                         std   \nFitness Rule Abvr       dataset           method                               \nMax(Acc - Eq. Odds)     Adult Income      Pearson regularized FTL   0.022190   \n                                          Standard FTL (baseline)   0.020821   \n                                          Spearman regularized FTL  0.037872   \n                                          ftl_mlp_sreg_initializer  0.037872   \n                        Bank Marketing    Pearson regularized FTL   0.053618   \n...                                                                      ...   \nMax(MCC - Stat. Parity) Compas Recidivism ftl_mlp_sreg_initializer  0.043467   \n                        German Credit     Pearson regularized FTL   0.031027   \n                                          Standard FTL (baseline)   0.062298   \n                                          Spearman regularized FTL  0.078399   \n                                          ftl_mlp_sreg_initializer  0.078399   \n\n                                                                    formatted_fitness  \\\n                                                                                        \nFitness Rule Abvr       dataset           method                                        \nMax(Acc - Eq. Odds)     Adult Income      Pearson regularized FTL   $0.817 (\\pm0.02)$   \n                                          Standard FTL (baseline)   $0.815 (\\pm0.02)$   \n                                          Spearman regularized FTL  $0.797 (\\pm0.04)$   \n                                          ftl_mlp_sreg_initializer  $0.797 (\\pm0.04)$   \n                        Bank Marketing    Pearson regularized FTL   $0.842 (\\pm0.04)$   \n...                                                                               ...   \nMax(MCC - Stat. Parity) Compas Recidivism ftl_mlp_sreg_initializer  $0.235 (\\pm0.05)$   \n                        German Credit     Pearson regularized FTL   $0.298 (\\pm0.06)$   \n                                          Standard FTL (baseline)   $0.256 (\\pm0.09)$   \n                                          Spearman regularized FTL  $0.183 (\\pm0.17)$   \n                                          ftl_mlp_sreg_initializer  $0.183 (\\pm0.17)$   \n\n                                                                   formatted_performance  \\\n                                                                                           \nFitness Rule Abvr       dataset           method                                           \nMax(Acc - Eq. Odds)     Adult Income      Pearson regularized FTL      $0.844 (\\pm0.01)$   \n                                          Standard FTL (baseline)      $0.847 (\\pm0.00)$   \n                                          Spearman regularized FTL     $0.843 (\\pm0.00)$   \n                                          ftl_mlp_sreg_initializer     $0.843 (\\pm0.00)$   \n                        Bank Marketing    Pearson regularized FTL      $0.883 (\\pm0.02)$   \n...                                                                                  ...   \nMax(MCC - Stat. Parity) Compas Recidivism ftl_mlp_sreg_initializer     $0.283 (\\pm0.02)$   \n                        German Credit     Pearson regularized FTL      $0.349 (\\pm0.03)$   \n                                          Standard FTL (baseline)      $0.352 (\\pm0.03)$   \n                                          Spearman regularized FTL     $0.313 (\\pm0.11)$   \n                                          ftl_mlp_sreg_initializer     $0.313 (\\pm0.11)$   \n\n                                                                   formatted_fairness  \n                                                                                       \nFitness Rule Abvr       dataset           method                                       \nMax(Acc - Eq. Odds)     Adult Income      Pearson regularized FTL   $0.027 (\\pm0.02)$  \n                                          Standard FTL (baseline)   $0.032 (\\pm0.02)$  \n                                          Spearman regularized FTL  $0.047 (\\pm0.04)$  \n                                          ftl_mlp_sreg_initializer  $0.047 (\\pm0.04)$  \n                        Bank Marketing    Pearson regularized FTL   $0.041 (\\pm0.05)$  \n...                                                                               ...  \nMax(MCC - Stat. Parity) Compas Recidivism ftl_mlp_sreg_initializer  $0.048 (\\pm0.04)$  \n                        German Credit     Pearson regularized FTL   $0.051 (\\pm0.03)$  \n                                          Standard FTL (baseline)   $0.095 (\\pm0.06)$  \n                                          Spearman regularized FTL  $0.130 (\\pm0.08)$  \n                                          ftl_mlp_sreg_initializer  $0.130 (\\pm0.08)$  \n\n[96 rows x 10 columns]",
      "text/html": "<div>\n<style scoped>\n    .dataframe tbody tr th:only-of-type {\n        vertical-align: middle;\n    }\n\n    .dataframe tbody tr th {\n        vertical-align: top;\n    }\n\n    .dataframe thead tr th {\n        text-align: left;\n    }\n\n    .dataframe thead tr:last-of-type th {\n        text-align: right;\n    }\n</style>\n<table border=\"1\" class=\"dataframe\">\n  <thead>\n    <tr>\n      <th></th>\n      <th></th>\n      <th></th>\n      <th colspan=\"3\" halign=\"left\">fitness</th>\n      <th colspan=\"2\" halign=\"left\">Performance</th>\n      <th colspan=\"2\" halign=\"left\">Fairness</th>\n      <th>formatted_fitness</th>\n      <th>formatted_performance</th>\n      <th>formatted_fairness</th>\n    </tr>\n    <tr>\n      <th></th>\n      <th></th>\n      <th></th>\n      <th>mean</th>\n      <th>std</th>\n      <th>count</th>\n      <th>mean</th>\n      <th>std</th>\n      <th>mean</th>\n      <th>std</th>\n      <th></th>\n      <th></th>\n      <th></th>\n    </tr>\n    <tr>\n      <th>Fitness Rule Abvr</th>\n      <th>dataset</th>\n      <th>method</th>\n      <th></th>\n      <th></th>\n      <th></th>\n      <th></th>\n      <th></th>\n      <th></th>\n      <th></th>\n      <th></th>\n      <th></th>\n      <th></th>\n    </tr>\n  </thead>\n  <tbody>\n    <tr>\n      <th rowspan=\"5\" valign=\"top\">Max(Acc - Eq. Odds)</th>\n      <th rowspan=\"4\" valign=\"top\">Adult Income</th>\n      <th>Pearson regularized FTL</th>\n      <td>0.816948</td>\n      <td>0.023932</td>\n      <td>17</td>\n      <td>0.844002</td>\n      <td>0.008850</td>\n      <td>0.027055</td>\n      <td>0.022190</td>\n      <td>$0.817 (\\pm0.02)$</td>\n      <td>$0.844 (\\pm0.01)$</td>\n      <td>$0.027 (\\pm0.02)$</td>\n    </tr>\n    <tr>\n      <th>Standard FTL (baseline)</th>\n      <td>0.815099</td>\n      <td>0.022059</td>\n      <td>14</td>\n      <td>0.847485</td>\n      <td>0.003112</td>\n      <td>0.032386</td>\n      <td>0.020821</td>\n      <td>$0.815 (\\pm0.02)$</td>\n      <td>$0.847 (\\pm0.00)$</td>\n      <td>$0.032 (\\pm0.02)$</td>\n    </tr>\n    <tr>\n      <th>Spearman regularized FTL</th>\n      <td>0.796648</td>\n      <td>0.036947</td>\n      <td>13</td>\n      <td>0.843398</td>\n      <td>0.003089</td>\n      <td>0.046751</td>\n      <td>0.037872</td>\n      <td>$0.797 (\\pm0.04)$</td>\n      <td>$0.843 (\\pm0.00)$</td>\n      <td>$0.047 (\\pm0.04)$</td>\n    </tr>\n    <tr>\n      <th>ftl_mlp_sreg_initializer</th>\n      <td>0.796648</td>\n      <td>0.036947</td>\n      <td>13</td>\n      <td>0.843398</td>\n      <td>0.003089</td>\n      <td>0.046751</td>\n      <td>0.037872</td>\n      <td>$0.797 (\\pm0.04)$</td>\n      <td>$0.843 (\\pm0.00)$</td>\n      <td>$0.047 (\\pm0.04)$</td>\n    </tr>\n    <tr>\n      <th>Bank Marketing</th>\n      <th>Pearson regularized FTL</th>\n      <td>0.842059</td>\n      <td>0.037943</td>\n      <td>5</td>\n      <td>0.882781</td>\n      <td>0.017358</td>\n      <td>0.040722</td>\n      <td>0.053618</td>\n      <td>$0.842 (\\pm0.04)$</td>\n      <td>$0.883 (\\pm0.02)$</td>\n      <td>$0.041 (\\pm0.05)$</td>\n    </tr>\n    <tr>\n      <th>...</th>\n      <th>...</th>\n      <th>...</th>\n      <td>...</td>\n      <td>...</td>\n      <td>...</td>\n      <td>...</td>\n      <td>...</td>\n      <td>...</td>\n      <td>...</td>\n      <td>...</td>\n      <td>...</td>\n      <td>...</td>\n    </tr>\n    <tr>\n      <th rowspan=\"5\" valign=\"top\">Max(MCC - Stat. Parity)</th>\n      <th>Compas Recidivism</th>\n      <th>ftl_mlp_sreg_initializer</th>\n      <td>0.235185</td>\n      <td>0.047326</td>\n      <td>5</td>\n      <td>0.283411</td>\n      <td>0.018978</td>\n      <td>0.048226</td>\n      <td>0.043467</td>\n      <td>$0.235 (\\pm0.05)$</td>\n      <td>$0.283 (\\pm0.02)$</td>\n      <td>$0.048 (\\pm0.04)$</td>\n    </tr>\n    <tr>\n      <th rowspan=\"4\" valign=\"top\">German Credit</th>\n      <th>Pearson regularized FTL</th>\n      <td>0.298430</td>\n      <td>0.061080</td>\n      <td>4</td>\n      <td>0.349387</td>\n      <td>0.034872</td>\n      <td>0.050957</td>\n      <td>0.031027</td>\n      <td>$0.298 (\\pm0.06)$</td>\n      <td>$0.349 (\\pm0.03)$</td>\n      <td>$0.051 (\\pm0.03)$</td>\n    </tr>\n    <tr>\n      <th>Standard FTL (baseline)</th>\n      <td>0.256495</td>\n      <td>0.089117</td>\n      <td>4</td>\n      <td>0.351942</td>\n      <td>0.027961</td>\n      <td>0.095446</td>\n      <td>0.062298</td>\n      <td>$0.256 (\\pm0.09)$</td>\n      <td>$0.352 (\\pm0.03)$</td>\n      <td>$0.095 (\\pm0.06)$</td>\n    </tr>\n    <tr>\n      <th>Spearman regularized FTL</th>\n      <td>0.183352</td>\n      <td>0.166189</td>\n      <td>4</td>\n      <td>0.313005</td>\n      <td>0.111170</td>\n      <td>0.129653</td>\n      <td>0.078399</td>\n      <td>$0.183 (\\pm0.17)$</td>\n      <td>$0.313 (\\pm0.11)$</td>\n      <td>$0.130 (\\pm0.08)$</td>\n    </tr>\n    <tr>\n      <th>ftl_mlp_sreg_initializer</th>\n      <td>0.183352</td>\n      <td>0.166189</td>\n      <td>4</td>\n      <td>0.313005</td>\n      <td>0.111170</td>\n      <td>0.129653</td>\n      <td>0.078399</td>\n      <td>$0.183 (\\pm0.17)$</td>\n      <td>$0.313 (\\pm0.11)$</td>\n      <td>$0.130 (\\pm0.08)$</td>\n    </tr>\n  </tbody>\n</table>\n<p>96 rows × 10 columns</p>\n</div>"
     },
     "execution_count": 53,
     "metadata": {},
     "output_type": "execute_result"
    }
   ],
   "source": [
    "grouped_results_list[1]"
   ],
   "metadata": {
    "collapsed": false,
    "ExecuteTime": {
     "end_time": "2024-05-09T23:49:38.604265305Z",
     "start_time": "2024-05-09T23:49:38.596143223Z"
    }
   }
  },
  {
   "cell_type": "code",
   "outputs": [],
   "source": [],
   "metadata": {
    "collapsed": false,
    "ExecuteTime": {
     "end_time": "2024-05-09T23:49:38.604659461Z",
     "start_time": "2024-05-09T23:49:38.599221173Z"
    }
   },
   "execution_count": 53
  }
 ],
 "metadata": {
  "kernelspec": {
   "display_name": "Python 3 (ipykernel)",
   "language": "python",
   "name": "python3"
  },
  "language_info": {
   "codemirror_mode": {
    "name": "ipython",
    "version": 3
   },
   "file_extension": ".py",
   "mimetype": "text/x-python",
   "name": "python",
   "nbconvert_exporter": "python",
   "pygments_lexer": "ipython3",
   "version": "3.8.10"
  }
 },
 "nbformat": 4,
 "nbformat_minor": 1
}
