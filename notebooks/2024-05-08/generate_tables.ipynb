{
 "cells": [
  {
   "cell_type": "code",
   "execution_count": 1,
   "metadata": {
    "ExecuteTime": {
     "end_time": "2024-05-18T15:54:24.577813856Z",
     "start_time": "2024-05-18T15:54:22.106945436Z"
    }
   },
   "outputs": [
    {
     "name": "stderr",
     "output_type": "stream",
     "text": [
      "2024-05-18 12:54:23.467630: E external/local_xla/xla/stream_executor/cuda/cuda_dnn.cc:9261] Unable to register cuDNN factory: Attempting to register factory for plugin cuDNN when one has already been registered\n",
      "2024-05-18 12:54:23.467658: E external/local_xla/xla/stream_executor/cuda/cuda_fft.cc:607] Unable to register cuFFT factory: Attempting to register factory for plugin cuFFT when one has already been registered\n",
      "2024-05-18 12:54:23.468373: E external/local_xla/xla/stream_executor/cuda/cuda_blas.cc:1515] Unable to register cuBLAS factory: Attempting to register factory for plugin cuBLAS when one has already been registered\n",
      "2024-05-18 12:54:23.472568: I tensorflow/core/platform/cpu_feature_guard.cc:182] This TensorFlow binary is optimized to use available CPU instructions in performance-critical operations.\n",
      "To enable the following instructions: AVX2 FMA, in other operations, rebuild TensorFlow with the appropriate compiler flags.\n",
      "2024-05-18 12:54:24.125837: W tensorflow/compiler/tf2tensorrt/utils/py_utils.cc:38] TF-TRT Warning: Could not find TensorRT\n"
     ]
    }
   ],
   "source": [
    "import pandas as pd\n",
    "import json\n",
    "import os\n",
    "import deepsig\n",
    "from IPython.display import display"
   ]
  },
  {
   "cell_type": "code",
   "execution_count": 2,
   "metadata": {
    "ExecuteTime": {
     "end_time": "2024-05-18T15:54:24.582354160Z",
     "start_time": "2024-05-18T15:54:24.579512437Z"
    }
   },
   "outputs": [],
   "source": [
    "cols = ['dataset', 'method', 'fitness_rule', 'fitness', 'ACC', 'MCC', 'f1_score', 'avg_odds_diff', 'stat_par_diff', 'eq_opp_diff']"
   ]
  },
  {
   "cell_type": "code",
   "execution_count": 3,
   "metadata": {
    "ExecuteTime": {
     "end_time": "2024-05-18T15:54:24.609735980Z",
     "start_time": "2024-05-18T15:54:24.583395936Z"
    }
   },
   "outputs": [],
   "source": [
    "mlp_baseline_results = pd.read_csv('simple_mlp_results.csv')\n",
    "mlp_baseline_results.replace({'simple_mlp_initializer': 'MLP'}, inplace=True)\n",
    "\n",
    "mlp_pearson_results = pd.read_csv('mlp_preg_results.csv')\n",
    "mlp_pearson_results.replace({'mlp_preg_initializer': 'PReg-MLP'}, inplace=True)\n",
    "\n",
    "mlp_spearman_results = pd.read_csv('mlp_sreg_results.csv')\n",
    "mlp_spearman_results.replace({'mlp_sreg_initializer': 'SReg-MLP'}, inplace=True)\n",
    "\n",
    "#mlp_auto_reg_results = pd.read_csv('mlp_auto_reg_results.csv')\n",
    "#mlp_auto_reg_results.replace({'mlp_auto_reg_initializer': 'AutoReg-MLP'}, inplace=True)\n",
    "\n",
    "mlp_xi_reg_results = pd.read_csv('mlp_xi_reg_results.csv')\n",
    "mlp_xi_reg_results.replace({'mlp_xi_reg_initializer': 'XiReg-MLP'}, inplace=True)\n",
    "\n",
    "mlp_results = pd.concat([mlp_baseline_results, mlp_pearson_results, mlp_spearman_results, mlp_xi_reg_results])\n",
    "\n",
    "ftl_baseline_results = pd.read_csv('ftl_mlp_results.csv')\n",
    "ftl_baseline_results.replace({'ftl_mlp_initializer': 'FTL'}, inplace=True)\n",
    "\n",
    "ftl_pearson_results = pd.read_csv('ftl_mlp_preg_results.csv')\n",
    "ftl_pearson_results.replace({'ftl_mlp_preg_initializer': 'PReg-FTL'}, inplace=True)\n",
    "\n",
    "ftl_spearman_results = pd.read_csv('ftl_mlp_sreg_results.csv')\n",
    "ftl_spearman_results.replace({'ftl_mlp_sreg_initializer': 'SReg-FTL'}, inplace=True)\n",
    "\n",
    "#ftl_auto_reg_results = pd.read_csv('ftl_mlp_auto_reg_results.csv')\n",
    "#ftl_auto_reg_results.replace({'ftl_mlp_auto_reg_initializer': 'AutoReg-FTL'}, inplace=True)\n",
    "\n",
    "ftl_xi_reg_results = pd.read_csv('ftl_mlp_xi_reg_results.csv')\n",
    "ftl_xi_reg_results.replace({'ftl_mlp_xi_reg_initializer': 'XiReg-FTL'}, inplace=True)\n",
    "\n",
    "ftl_results = pd.concat([ftl_baseline_results, ftl_pearson_results, ftl_spearman_results, ftl_xi_reg_results])"
   ]
  },
  {
   "cell_type": "markdown",
   "metadata": {
    "collapsed": false
   },
   "source": []
  },
  {
   "cell_type": "code",
   "execution_count": 4,
   "metadata": {
    "collapsed": false,
    "ExecuteTime": {
     "end_time": "2024-05-18T15:54:24.619826206Z",
     "start_time": "2024-05-18T15:54:24.607655291Z"
    }
   },
   "outputs": [],
   "source": [
    "for results in [mlp_results,ftl_results]:\n",
    "    results.replace({'adult_dataset_reader': 'Adult Income', 'compas_dataset_reader': 'Compas Recidivism', 'german_dataset_reader': 'German Credit', 'bank_dataset_reader': 'Bank Marketing'}, inplace=True)\n",
    "    results.rename(columns={'avg_odds_diff': 'Equalized Odds', 'stat_par_diff': 'Statistical Parity', 'eq_opp_diff': 'Equal Opportunity', 'MCC': 'Mathew Correlation', 'ACC': 'Accuracy'}, inplace=True)"
   ]
  },
  {
   "cell_type": "code",
   "execution_count": 5,
   "metadata": {
    "ExecuteTime": {
     "end_time": "2024-05-18T15:54:24.644363046Z",
     "start_time": "2024-05-18T15:54:24.621566661Z"
    }
   },
   "outputs": [
    {
     "name": "stderr",
     "output_type": "stream",
     "text": [
      "/tmp/ipykernel_2478217/3607436483.py:32: FutureWarning: Setting an item of incompatible dtype is deprecated and will raise in a future error of pandas. Value '[0.58517004 0.58512823 0.5840247  0.5836371  0.57625737 0.5769683\n",
      " 0.58075151 0.57811729 0.57147862 0.55847176 0.56402881 0.58191431\n",
      " 0.58343253 0.57740222 0.51579307 0.30958237 0.37962947 0.55899189\n",
      " 0.53558872 0.2598879  0.57717035 0.50086739 0.33275221 0.37929293\n",
      " 0.47729109 0.29196869 0.29037704 0.52303609 0.27480633 0.38668781\n",
      " 0.50626951 0.29960979 0.4042848  0.52119218 0.2936422  0.33522388\n",
      " 0.49730721 0.25112662 0.35119067 0.510052   0.26843855 0.36081008\n",
      " 0.52157495 0.30114722 0.42995147 0.48267704 0.29056691 0.23139881\n",
      " 0.54223416 0.23653437 0.27041017 0.52121263 0.25759348 0.23912165\n",
      " 0.5223892  0.27406652 0.22303564 0.54094974 0.27699558 0.30939251\n",
      " 0.51731345 0.30339828 0.37825089 0.52113734 0.26323857 0.33963196\n",
      " 0.5538225  0.27850228 0.30234984 0.51877126 0.29494101 0.2648939\n",
      " 0.52742877 0.24492927 0.13407928 0.53530394 0.29087766 0.26820576\n",
      " 0.55204731 0.29318377 0.14015216 0.51983069 0.3145689  0.47077449\n",
      " 0.50770986 0.28880123 0.29866465 0.5180664  0.29093567 0.3636368\n",
      " 0.53289704 0.29737768 0.38084556 0.54328387 0.28002914 0.28232519\n",
      " 0.53457987 0.27840735 0.33593551 0.51796238 0.25832521 0.35528234\n",
      " 0.51043886 0.30283203 0.40103589 0.57466433 0.51930203 0.25052381\n",
      " 0.30794088 0.58313411 0.57795296 0.54079623 0.25897255 0.4042125\n",
      " 0.57206622 0.518845   0.30638323 0.32257035 0.57976269 0.52973098\n",
      " 0.25717832 0.31379034 0.58818853 0.49845362 0.25129032 0.38992888\n",
      " 0.58971511 0.54694928 0.31603351 0.33516905 0.58141285 0.52219135\n",
      " 0.53112315 0.3032368  0.1982092  0.50904351 0.30428123 0.34543836\n",
      " 0.5102087  0.26061765 0.42432587 0.51644184 0.28540937 0.4238192\n",
      " 0.53781479 0.30380433 0.34569643 0.52951691 0.29353726 0.39008688\n",
      " 0.51919422 0.27575294 0.21283727 0.52769146 0.25688588 0.29143638\n",
      " 0.53178158 0.26280136 0.34901327 0.50261295 0.32250375 0.40869968\n",
      " 0.59528125 0.59244978 0.59065496 0.55831068 0.588155   0.58449354\n",
      " 0.57387745 0.55895378 0.57493657 0.5775283  0.57647678 0.52642995\n",
      " 0.28724449 0.26433395 0.59264796 0.58906505 0.50296471 0.32061516\n",
      " 0.20426879 0.5783063  0.54125565 0.25533358 0.31398373 0.57382763\n",
      " 0.52812916 0.28813949 0.33649556 0.56434931 0.53883593 0.26741183\n",
      " 0.37670184 0.59083709 0.53254304 0.2951865  0.28218602 0.56119935\n",
      " 0.50701858 0.4999707  0.28816213 0.23516056 0.5191908  0.30355288\n",
      " 0.36852719 0.53425053 0.31485449 0.37073799 0.53486715 0.2587397\n",
      " 0.19258469 0.53449692 0.24920875 0.4078551  0.51292741 0.27000453\n",
      " 0.29651763 0.52123107 0.3030348  0.1761725  0.55678632 0.35226511\n",
      " 0.35762447 0.52426605 0.31631181 0.25984182 0.54517277 0.31496799\n",
      " 0.22501758 0.56577541 0.58589138 0.57703846 0.5746733  0.57444626\n",
      " 0.57768448 0.59588216 0.55512651 0.56863559 0.5750216  0.56749877\n",
      " 0.53823804 0.31508219 0.30011892 0.56841546 0.53593136 0.27736532\n",
      " 0.29276068 0.57486325 0.55475549 0.37742341 0.41386763 0.58054526\n",
      " 0.52683247 0.30308226 0.29262695 0.5799324  0.52052204 0.32271689\n",
      " 0.36757294 0.59460839 0.51334273 0.35016465 0.38279532 0.56696388\n",
      " 0.51290233 0.36145201 0.31417586 0.58536707 0.52205773 0.35505396\n",
      " 0.34556054 0.56656046 0.50583602 0.32985378 0.33067725 0.58034596\n",
      " 0.53345208 0.32170125 0.30777776 0.59105173 0.53641936 0.2978954\n",
      " 0.36302796 0.56022817 0.55256059 0.34881645 0.39408932 0.59294727\n",
      " 0.54603456 0.34966957 0.23577639 0.59038885 0.52721971 0.29670547\n",
      " 0.3451873  0.57735741 0.49288435 0.32695931 0.25449819]' has dtype incompatible with int64, please explicitly cast to a compatible dtype first.\n",
      "  results.loc[results.fitness_rule == fitness_rule,'Performance'] = results.loc[results.fitness_rule == fitness_rule,performance_metric]\n",
      "/tmp/ipykernel_2478217/3607436483.py:33: FutureWarning: Setting an item of incompatible dtype is deprecated and will raise in a future error of pandas. Value '[0.19263281 0.18664775 0.20096652 0.19289642 0.19661682 0.17761564\n",
      " 0.19442911 0.19755228 0.19564214 0.19166634 0.18299811 0.17482095\n",
      " 0.20208162 0.18919863 0.1076907  0.21583464 0.07390198 0.18518896\n",
      " 0.01873928 0.21915752 0.00551471 0.06514573 0.27067494 0.10218254\n",
      " 0.09458935 0.20988634 0.15838547 0.0800928  0.22152457 0.04387464\n",
      " 0.0698734  0.21395877 0.         0.07046605 0.25600325 0.1\n",
      " 0.07839351 0.17845842 0.13362425 0.11385009 0.16165928 0.\n",
      " 0.07603398 0.22394599 0.10042067 0.07235512 0.17623094 0.05055147\n",
      " 0.10296647 0.13012843 0.01648841 0.12773041 0.23588101 0.01650837\n",
      " 0.10756357 0.22188463 0.04937755 0.08539799 0.27225208 0.04945055\n",
      " 0.1169952  0.18031026 0.07824514 0.11302381 0.1631723  0.01426025\n",
      " 0.09060303 0.26465511 0.05714286 0.07375941 0.25392869 0.15238095\n",
      " 0.06855833 0.14339139 0.05262482 0.10162526 0.17983738 0.03803214\n",
      " 0.11029739 0.21594265 0.04387464 0.09458175 0.21238761 0.13355998\n",
      " 0.12944543 0.23496771 0.10218254 0.11806774 0.24894357 0.05213764\n",
      " 0.07004917 0.17350555 0.01190476 0.12817972 0.20515527 0.02175742\n",
      " 0.07890663 0.15151805 0.03740065 0.08916093 0.22800167 0.09285714\n",
      " 0.09422782 0.21502555 0.12557513 0.19673904 0.07724191 0.18208848\n",
      " 0.05189291 0.1979969  0.16262277 0.09982972 0.15384795 0.09926471\n",
      " 0.18815544 0.0974843  0.24042647 0.03439867 0.19958771 0.10303715\n",
      " 0.16065963 0.07935255 0.17916636 0.07705072 0.21424319 0.16417565\n",
      " 0.19892363 0.0722992  0.2284043  0.06984013 0.20349203 0.12410495\n",
      " 0.10754735 0.1934033  0.13487611 0.12927991 0.22735281 0.08088235\n",
      " 0.06580864 0.10141357 0.0769051  0.10645766 0.14522853 0.12182554\n",
      " 0.14669979 0.20984412 0.11271707 0.10243238 0.17642319 0.12949012\n",
      " 0.08578567 0.21693176 0.01821272 0.14976519 0.22976602 0.07766346\n",
      " 0.10869613 0.27249434 0.11666667 0.03820365 0.16893176 0.01904762\n",
      " 0.1939596  0.18837321 0.18999305 0.18391646 0.18465345 0.19731304\n",
      " 0.17978833 0.15197031 0.17523225 0.19323672 0.17527401 0.13034124\n",
      " 0.19933198 0.2        0.19799709 0.20457963 0.08334361 0.15514718\n",
      " 0.12602402 0.19743834 0.08816558 0.28631322 0.06373626 0.18567119\n",
      " 0.09349354 0.18878133 0.14561136 0.17498725 0.06571671 0.19250183\n",
      " 0.14824374 0.1936076  0.06308722 0.28391847 0.01192288 0.2068789\n",
      " 0.06458775 0.10060397 0.16227387 0.06862745 0.08530839 0.23391456\n",
      " 0.08243897 0.09657061 0.21559633 0.07892356 0.14592844 0.19097359\n",
      " 0.12068758 0.09813634 0.2208153  0.05347594 0.17005926 0.19910901\n",
      " 0.02234927 0.12420934 0.17343018 0.19980086 0.11393804 0.22028576\n",
      " 0.06863806 0.1143237  0.21256051 0.17142857 0.15650847 0.21808615\n",
      " 0.02900783 0.19535513 0.19877265 0.18870041 0.19782785 0.18142385\n",
      " 0.1818443  0.18552387 0.1921391  0.19370712 0.20988364 0.17043743\n",
      " 0.05697608 0.21898748 0.13643948 0.18191969 0.07822294 0.15132607\n",
      " 0.0093861  0.18250066 0.01264665 0.23559673 0.17586248 0.20119128\n",
      " 0.12096531 0.21087333 0.02412748 0.18387142 0.04716656 0.23445073\n",
      " 0.1132209  0.2090674  0.09540628 0.1758396  0.01529371 0.18249025\n",
      " 0.15451562 0.12960218 0.09163816 0.20582866 0.14099926 0.2366753\n",
      " 0.03453453 0.19831842 0.11669678 0.19751087 0.04320503 0.21100369\n",
      " 0.11171009 0.22862629 0.0948225  0.18915521 0.08142121 0.23568945\n",
      " 0.09572439 0.17217966 0.13371856 0.18956381 0.1276793  0.19149507\n",
      " 0.11958928 0.20095979 0.00578666 0.19921783 0.18474625 0.2564805\n",
      " 0.08839473 0.18470594 0.06862094 0.21756002 0.20082564]' has dtype incompatible with int64, please explicitly cast to a compatible dtype first.\n",
      "  results.loc[results.fitness_rule == fitness_rule,'Fairness'] = results.loc[results.fitness_rule == fitness_rule,fairness_metric]\n",
      "/tmp/ipykernel_2478217/3607436483.py:32: FutureWarning: Setting an item of incompatible dtype is deprecated and will raise in a future error of pandas. Value '[0.55988104 0.49558867 0.47660518 0.53020884 0.49731155 0.48088379\n",
      " 0.50936495 0.52610501 0.50501965 0.49517103 0.52255177 0.48277552\n",
      " 0.49360563 0.49928347 0.52530243 0.57125798 0.26719272 0.56423655\n",
      " 0.29766735 0.36058206 0.55945517 0.29521281 0.33972048 0.55905592\n",
      " 0.28944609 0.32121258 0.57663382 0.2155363  0.38625136 0.51800512\n",
      " 0.56704115 0.27188547 0.41022625 0.50844818 0.58147742 0.29142379\n",
      " 0.49507377 0.55088849 0.55295167 0.29014972 0.19279691 0.49465293\n",
      " 0.59668217 0.27799102 0.40162431 0.50188368 0.56846199 0.26853883\n",
      " 0.33775631 0.51945194 0.57722113 0.30578801 0.37184421 0.47715381\n",
      " 0.57614687 0.23775601 0.21954087 0.53842681 0.55842342 0.26279497\n",
      " 0.42605779 0.49253568 0.54725326 0.30749867 0.36383745 0.51679929\n",
      " 0.57610948 0.25566031 0.34192284 0.49428572 0.50830079 0.5315851\n",
      " 0.49084885 0.49727459 0.52602458 0.51498102 0.49446574 0.52981801\n",
      " 0.51333191 0.51460142 0.49477946 0.4559726  0.49333343 0.53090834\n",
      " 0.49284321 0.50500387 0.58303781 0.28510358 0.57064789 0.27474775\n",
      " 0.36389844 0.57728732 0.29373387 0.36565654 0.5693713  0.28971752\n",
      " 0.29725949 0.58527213 0.30706814 0.37073365 0.56122776 0.57782475\n",
      " 0.33511127 0.37044159 0.58170081 0.30000404 0.38390451 0.5728973\n",
      " 0.26079855 0.34818956 0.57187164 0.17846401 0.23897953 0.56784477\n",
      " 0.27941449 0.34843529 0.56129783 0.3053486  0.37389575 0.55727753\n",
      " 0.23851525 0.29397268 0.57246601 0.25693134 0.33465759 0.55405627\n",
      " 0.26883883 0.30466202 0.55683506 0.29540715 0.31583216 0.48727491\n",
      " 0.46760391 0.48532912 0.48816006 0.49060769 0.50033309 0.54306751\n",
      " 0.52179051 0.4829124  0.51199556 0.52334945 0.50003926 0.54263684\n",
      " 0.5687672  0.2767434  0.57617156 0.2554996  0.34753417 0.58020523\n",
      " 0.283334   0.40006041 0.5756102  0.29786409 0.3544721  0.59892475\n",
      " 0.30361592 0.14995343 0.53900228 0.55597499 0.20463285 0.32421704\n",
      " 0.56245857 0.28145717 0.30595209 0.59158698 0.32239163 0.38393717\n",
      " 0.58443548 0.27116077 0.24001913 0.56759467 0.29845222 0.3266749\n",
      " 0.5764497  0.31688254 0.22454349 0.59355315 0.25542848 0.28860503\n",
      " 0.58147506 0.29318221 0.46505444 0.58051151 0.28424866 0.37198414\n",
      " 0.57271441 0.31545218 0.3816035  0.51058757 0.55100198 0.30099598\n",
      " 0.36266223 0.50312394 0.57982145 0.31194314 0.4653263  0.52249054\n",
      " 0.56323123 0.29980176 0.33126974 0.52834554 0.54237727 0.26726369\n",
      " 0.36816239 0.50039978 0.5727549  0.26481789 0.30434518 0.51789531\n",
      " 0.55194807 0.32738467 0.3825255  0.54230176 0.56579268 0.30680214\n",
      " 0.39278864 0.51073529 0.59522064 0.29391861 0.37328124 0.52032505\n",
      " 0.56379222 0.24911704 0.27519161 0.5393946  0.58057704 0.29958191\n",
      " 0.37323672 0.5309838  0.58115681 0.2283129  0.36913557 0.48187784\n",
      " 0.56128043 0.2708281  0.45238095 0.53923437 0.5682019  0.29936516\n",
      " 0.29872459 0.49428725 0.57227051 0.36044719 0.42488276 0.51292128\n",
      " 0.58056377 0.32580119 0.38945521]' has dtype incompatible with int64, please explicitly cast to a compatible dtype first.\n",
      "  results.loc[results.fitness_rule == fitness_rule,'Performance'] = results.loc[results.fitness_rule == fitness_rule,performance_metric]\n",
      "/tmp/ipykernel_2478217/3607436483.py:33: FutureWarning: Setting an item of incompatible dtype is deprecated and will raise in a future error of pandas. Value '[0.06563524 0.00434914 0.02991623 0.03287846 0.03464132 0.0015824\n",
      " 0.00711975 0.00623328 0.00497483 0.00291418 0.02981982 0.0109755\n",
      " 0.02228438 0.00327132 0.03014368 0.03368986 0.01061935 0.04884345\n",
      " 0.00318869 0.04725275 0.07879247 0.00767757 0.12307692 0.07240013\n",
      " 0.05023218 0.17032427 0.01610486 0.01464497 0.04113081 0.02539461\n",
      " 0.00738464 0.03314062 0.20443238 0.01405335 0.08464225 0.04418413\n",
      " 0.06341958 0.07260789 0.02708251 0.05161231 0.17274306 0.04830241\n",
      " 0.01979831 0.01559766 0.03448276 0.00257988 0.0483141  0.02840623\n",
      " 0.1267524  0.00821899 0.00903848 0.11110273 0.05313139 0.00603834\n",
      " 0.04068929 0.0526122  0.14506428 0.04578193 0.00695801 0.04242893\n",
      " 0.02784147 0.01113432 0.01962781 0.04470059 0.02865904 0.02775235\n",
      " 0.01574879 0.03630877 0.14705882 0.02537383 0.00143259 0.01617422\n",
      " 0.01169424 0.01656405 0.02579937 0.00583962 0.01503756 0.00376432\n",
      " 0.00064319 0.00965313 0.02342952 0.01174198 0.00202581 0.01859382\n",
      " 0.00603458 0.01216245 0.04624347 0.00041791 0.05460093 0.03296841\n",
      " 0.06965872 0.03489992 0.01304782 0.01578436 0.01949528 0.11716449\n",
      " 0.08333333 0.02850596 0.04842768 0.03505201 0.01056908 0.06490397\n",
      " 0.01670592 0.08       0.07083647 0.02628019 0.15357644 0.06309022\n",
      " 0.04312284 0.04137447 0.03372769 0.34736015 0.14104515 0.05973185\n",
      " 0.02266647 0.13949209 0.02690939 0.05275649 0.01981366 0.03123382\n",
      " 0.00861906 0.00752296 0.06134486 0.02437141 0.15213675 0.02681306\n",
      " 0.05192125 0.11948529 0.0785976  0.04325155 0.15726496 0.01774073\n",
      " 0.0244613  0.05969289 0.00814399 0.01136305 0.00834383 0.0523313\n",
      " 0.02800188 0.01513682 0.0100883  0.05535489 0.00268151 0.05387693\n",
      " 0.02277092 0.11169731 0.06811542 0.0115071  0.02080411 0.01378335\n",
      " 0.06282923 0.12746902 0.05982608 0.0039672  0.17064049 0.00160378\n",
      " 0.05113048 0.1996997  0.01174602 0.01505639 0.09092926 0.07397504\n",
      " 0.07230419 0.00156879 0.0406746  0.02984688 0.03211653 0.10477941\n",
      " 0.04478476 0.1196469  0.05596107 0.03253539 0.01379736 0.08965517\n",
      " 0.03741447 0.11878858 0.02905983 0.03003773 0.07028147 0.06646825\n",
      " 0.07829623 0.0226175  0.07099894 0.02543113 0.01619318 0.05413105\n",
      " 0.03196147 0.0210973  0.02232369 0.0109844  0.10781566 0.02974926\n",
      " 0.0452381  0.0050764  0.04388923 0.02444512 0.07446939 0.00696866\n",
      " 0.0599006  0.04742124 0.02566656 0.01850166 0.01588528 0.00798571\n",
      " 0.07470289 0.00492596 0.11916056 0.11480894 0.0967033  0.00527722\n",
      " 0.10149032 0.00326027 0.11536303 0.04272904 0.01503966 0.00821274\n",
      " 0.05773726 0.02078339 0.04197402 0.06509592 0.0600748  0.03245418\n",
      " 0.02382688 0.07972239 0.02245123 0.0381727  0.00426904 0.03826994\n",
      " 0.0041073  0.0661497  0.01623005 0.01917878 0.0258467  0.00536159\n",
      " 0.02439073 0.12379038 0.03421503 0.06870452 0.00874027 0.10842825\n",
      " 0.06250701 0.00047319 0.0856518  0.1045295  0.17064049 0.01275285\n",
      " 0.01676805 0.09199719 0.16263736]' has dtype incompatible with int64, please explicitly cast to a compatible dtype first.\n",
      "  results.loc[results.fitness_rule == fitness_rule,'Fairness'] = results.loc[results.fitness_rule == fitness_rule,fairness_metric]\n"
     ]
    }
   ],
   "source": [
    "fitness_rules_target_metrics = {\n",
    "    'mcc_parity': {'performance': 'Mathew Correlation', 'fairness': 'Statistical Parity'},\n",
    "    'mcc_opportunity': {'performance': 'Mathew Correlation', 'fairness': 'Equal Opportunity'},\n",
    "    'mcc_odds': {'performance': 'Mathew Correlation', 'fairness': 'Equalized Odds'},\n",
    "    'acc_parity': {'performance': 'Accuracy', 'fairness': 'Statistical Parity'},\n",
    "    'acc_opportunity': {'performance': 'Accuracy', 'fairness': 'Equal Opportunity'},\n",
    "    'acc_odds': {'performance': 'Accuracy', 'fairness': 'Equalized Odds'}\n",
    "}\n",
    "\n",
    "fitness_rules_target_metrics = {\n",
    "    'mcc_parity': ('Mathew Correlation', 'Statistical Parity'),\n",
    "    'mcc_opportunity': ('Mathew Correlation', 'Equal Opportunity'),\n",
    "    'mcc_odds': ('Mathew Correlation', 'Equalized Odds'),\n",
    "    'acc_parity': ('Accuracy', 'Statistical Parity'),\n",
    "    'acc_opportunity': ('Accuracy', 'Equal Opportunity'),\n",
    "    'acc_odds': ('Accuracy', 'Equalized Odds')\n",
    "}\n",
    "fitness_rules_abvr = {\n",
    "    'mcc_parity': 'Max(MCC - Stat. Parity)',\n",
    "    'mcc_opportunity': 'Max(MCC - Eq. Odds)',\n",
    "    'mcc_odds': 'Max(MCC - Eq. Opp.)',\n",
    "    'acc_parity': 'Max(Acc - Stat. Parity)',\n",
    "    'acc_opportunity': 'Max(Acc - Eq. Odds)',\n",
    "    'acc_odds': 'Max(Acc - Eq. Opp.)'\n",
    "}\n",
    "\n",
    "for results in [mlp_results,ftl_results]:\n",
    "    results['Performance'] = 0\n",
    "    results['Fairness'] = 0\n",
    "    results['Fitness Rule'] = ''\n",
    "    for fitness_rule, (performance_metric, fairness_metric) in fitness_rules_target_metrics.items():\n",
    "        results.loc[results.fitness_rule == fitness_rule,'Performance'] = results.loc[results.fitness_rule == fitness_rule,performance_metric]\n",
    "        results.loc[results.fitness_rule == fitness_rule,'Fairness'] = results.loc[results.fitness_rule == fitness_rule,fairness_metric]\n",
    "        results.loc[results.fitness_rule == fitness_rule,'Fitness Rule Abvr'] = fitness_rules_abvr[fitness_rule]\n",
    "        results.loc[results.fitness_rule == fitness_rule,'Fitness Rule'] = 'Max(%s - %s)' % fitness_rules_target_metrics[fitness_rule]"
   ]
  },
  {
   "cell_type": "code",
   "execution_count": 6,
   "metadata": {
    "ExecuteTime": {
     "end_time": "2024-05-18T15:54:24.689472621Z",
     "start_time": "2024-05-18T15:54:24.647331332Z"
    }
   },
   "outputs": [
    {
     "data": {
      "text/plain": "['Adult Income', 'Bank Marketing', 'Compas Recidivism', 'German Credit']"
     },
     "execution_count": 6,
     "metadata": {},
     "output_type": "execute_result"
    }
   ],
   "source": [
    "datasets = ['Adult Income', 'Bank Marketing', 'Compas Recidivism','German Credit']\n",
    "datasets"
   ]
  },
  {
   "cell_type": "code",
   "execution_count": 7,
   "metadata": {
    "ExecuteTime": {
     "end_time": "2024-05-18T15:54:24.689943576Z",
     "start_time": "2024-05-18T15:54:24.689027751Z"
    }
   },
   "outputs": [
    {
     "data": {
      "text/plain": "['mcc_parity',\n 'mcc_opportunity',\n 'mcc_odds',\n 'acc_parity',\n 'acc_opportunity',\n 'acc_odds']"
     },
     "execution_count": 7,
     "metadata": {},
     "output_type": "execute_result"
    }
   ],
   "source": [
    "fitness_rules = ['mcc_parity', 'mcc_opportunity', 'mcc_odds', 'acc_parity', 'acc_opportunity', 'acc_odds']\n",
    "fitness_rules"
   ]
  },
  {
   "cell_type": "code",
   "execution_count": 8,
   "metadata": {
    "ExecuteTime": {
     "end_time": "2024-05-18T15:54:24.690274450Z",
     "start_time": "2024-05-18T15:54:24.689169596Z"
    }
   },
   "outputs": [],
   "source": [
    "ftl_methods = ['FTL', 'PReg-FTL', 'SReg-FTL', 'XiReg-FTL']\n",
    "mlp_methods = ['MLP', 'PReg-MLP', 'SReg-MLP', 'XiReg-MLP']\n",
    "significances = []\n",
    "grouped_results_list = []"
   ]
  },
  {
   "cell_type": "code",
   "execution_count": 9,
   "metadata": {
    "collapsed": false,
    "ExecuteTime": {
     "end_time": "2024-05-18T16:05:25.237348035Z",
     "start_time": "2024-05-18T15:54:24.689237324Z"
    }
   },
   "outputs": [
    {
     "name": "stderr",
     "output_type": "stream",
     "text": [
      "Model comparisons: 100%|█████████▉| 5994/6000 [00:14<00:00, 427.77it/s]\n",
      "Model comparisons: 100%|█████████▉| 5994/6000 [00:13<00:00, 433.51it/s]\n",
      "Model comparisons: 100%|█████████▉| 5994/6000 [00:13<00:00, 429.28it/s]\n",
      "Model comparisons: 100%|█████████▉| 5994/6000 [00:13<00:00, 436.30it/s]\n",
      "Model comparisons: 100%|█████████▉| 5994/6000 [00:13<00:00, 439.43it/s]\n",
      "Model comparisons: 100%|█████████▉| 5994/6000 [00:13<00:00, 438.61it/s]\n",
      "Model comparisons: 100%|█████████▉| 5994/6000 [00:14<00:00, 421.56it/s]\n",
      "Model comparisons: 100%|█████████▉| 5994/6000 [00:13<00:00, 434.68it/s]\n",
      "Model comparisons: 100%|█████████▉| 5994/6000 [00:13<00:00, 431.22it/s]\n",
      "Model comparisons: 100%|█████████▉| 5994/6000 [00:14<00:00, 427.96it/s]\n",
      "Model comparisons: 100%|█████████▉| 5994/6000 [00:13<00:00, 428.83it/s]\n",
      "Model comparisons: 100%|█████████▉| 5994/6000 [00:13<00:00, 428.30it/s]\n",
      "Model comparisons: 100%|█████████▉| 5994/6000 [00:14<00:00, 422.73it/s]\n",
      "Model comparisons: 100%|█████████▉| 5994/6000 [00:13<00:00, 430.70it/s]\n",
      "Model comparisons: 100%|█████████▉| 5994/6000 [00:13<00:00, 433.05it/s]\n",
      "Model comparisons: 100%|█████████▉| 5994/6000 [00:13<00:00, 431.82it/s]\n",
      "Model comparisons: 100%|█████████▉| 5994/6000 [00:13<00:00, 436.54it/s]\n",
      "Model comparisons: 100%|█████████▉| 5994/6000 [00:13<00:00, 434.59it/s]\n",
      "Model comparisons: 100%|█████████▉| 5994/6000 [00:14<00:00, 425.58it/s]\n",
      "Model comparisons: 100%|█████████▉| 5994/6000 [00:14<00:00, 426.75it/s]\n",
      "Model comparisons: 100%|█████████▉| 5994/6000 [00:13<00:00, 430.68it/s]\n",
      "Model comparisons: 100%|█████████▉| 5994/6000 [00:13<00:00, 436.69it/s]\n",
      "Model comparisons: 100%|█████████▉| 5994/6000 [00:14<00:00, 426.00it/s]\n",
      "Model comparisons: 100%|█████████▉| 5994/6000 [00:14<00:00, 423.38it/s]\n"
     ]
    },
    {
     "name": "stdout",
     "output_type": "stream",
     "text": [
      "Significance Testing\n"
     ]
    },
    {
     "name": "stderr",
     "output_type": "stream",
     "text": [
      "Model comparisons: 100%|█████████▉| 5994/6000 [00:13<00:00, 430.73it/s]\n",
      "Model comparisons: 100%|█████████▉| 5994/6000 [00:13<00:00, 430.63it/s]\n",
      "Model comparisons: 100%|█████████▉| 5994/6000 [00:13<00:00, 429.54it/s]\n",
      "Model comparisons: 100%|█████████▉| 5994/6000 [00:13<00:00, 432.96it/s]\n",
      "Model comparisons: 100%|█████████▉| 5994/6000 [00:13<00:00, 437.14it/s]\n",
      "Model comparisons: 100%|█████████▉| 5994/6000 [00:13<00:00, 431.39it/s]\n",
      "Model comparisons: 100%|█████████▉| 5994/6000 [00:13<00:00, 442.17it/s]\n",
      "Model comparisons: 100%|█████████▉| 5994/6000 [00:13<00:00, 443.93it/s]\n",
      "Model comparisons: 100%|█████████▉| 5994/6000 [00:13<00:00, 446.74it/s]\n",
      "Model comparisons: 100%|█████████▉| 5994/6000 [00:13<00:00, 446.31it/s]\n",
      "Model comparisons: 100%|█████████▉| 5994/6000 [00:13<00:00, 447.66it/s]\n",
      "Model comparisons: 100%|█████████▉| 5994/6000 [00:13<00:00, 447.94it/s]\n",
      "Model comparisons: 100%|█████████▉| 5994/6000 [00:13<00:00, 448.01it/s]\n",
      "Model comparisons: 100%|█████████▉| 5994/6000 [00:13<00:00, 447.62it/s]\n",
      "Model comparisons: 100%|█████████▉| 5994/6000 [00:13<00:00, 448.39it/s]\n",
      "Model comparisons: 100%|█████████▉| 5994/6000 [00:13<00:00, 449.21it/s]\n",
      "Model comparisons: 100%|█████████▉| 5994/6000 [00:13<00:00, 443.60it/s]\n",
      "Model comparisons: 100%|█████████▉| 5994/6000 [00:13<00:00, 439.21it/s]\n",
      "Model comparisons: 100%|█████████▉| 5994/6000 [00:13<00:00, 437.19it/s]\n",
      "Model comparisons: 100%|█████████▉| 5994/6000 [00:13<00:00, 440.31it/s]\n",
      "Model comparisons: 100%|█████████▉| 5994/6000 [00:13<00:00, 442.91it/s]\n",
      "Model comparisons: 100%|█████████▉| 5994/6000 [00:13<00:00, 439.28it/s]\n",
      "Model comparisons: 100%|█████████▉| 5994/6000 [00:13<00:00, 439.05it/s]\n",
      "Model comparisons: 100%|█████████▉| 5994/6000 [00:13<00:00, 442.12it/s]"
     ]
    },
    {
     "name": "stdout",
     "output_type": "stream",
     "text": [
      "Significance Testing\n"
     ]
    },
    {
     "name": "stderr",
     "output_type": "stream",
     "text": [
      "\n"
     ]
    }
   ],
   "source": [
    "for path, methods, results in zip(['mlp_multi_aso_data_list.json', 'ftl_multi_aso_data_list.json'],\n",
    "                                  [mlp_methods, ftl_methods],\n",
    "                                  (mlp_results,ftl_results)):\n",
    "    if os.path.exists(path):\n",
    "        with open(path) as file:\n",
    "            multi_aso_data_list = json.load(file)\n",
    "    else:    \n",
    "        multi_aso_data_list = []\n",
    "        for d in datasets:\n",
    "            multi_aso_data = []\n",
    "            for f in fitness_rules:\n",
    "                methods_results = []\n",
    "                for m in methods:\n",
    "                    r = results.loc[ (results['dataset'] == d) &\n",
    "                                         (results['fitness_rule'] == f) &\n",
    "                                         (results['method'] == m) ]\\\n",
    "                                .fitness.tolist()\n",
    "                    if len(r) == 0:\n",
    "                        r = [-1]\n",
    "                    methods_results.append(r)\n",
    "                min_eps = deepsig.multi_aso(methods_results, confidence_level=0.95)\n",
    "                multi_aso_data_list.append({'fitness_rule': f, 'dataset': d, 'min_eps': min_eps.tolist()})\n",
    "        with open(path, 'w') as file:\n",
    "            json.dump(multi_aso_data_list, file)\n",
    "    \n",
    "    aso_df_resume = []\n",
    "    for aso_result in sorted(multi_aso_data_list, key=lambda x: x['dataset']):\n",
    "        fitness_rule = aso_result['fitness_rule']\n",
    "        dataset = aso_result['dataset']\n",
    "    \n",
    "        aso_df = pd.DataFrame(aso_result['min_eps'], columns=methods)\n",
    "        aso_df['method'] = methods\n",
    "        aso_df['dataset'] = dataset\n",
    "        aso_df['fitness_rule'] = fitness_rule\n",
    "        aso_df_resume.append(aso_df)\n",
    "    \n",
    "    print('Significance Testing')\n",
    "    significance = pd.concat(aso_df_resume)\n",
    "    significance.replace(fitness_rules_abvr, inplace=True)\n",
    "    significance = significance.set_index(['fitness_rule', 'dataset'])\n",
    "    significance = significance.sort_values(by=['fitness_rule', 'dataset'], ascending=[False, True])\n",
    "    significances.append(significance)\n",
    "    \n",
    "    grouped_results = results\\\n",
    "        .groupby(['Fitness Rule Abvr', 'dataset', 'method'])\\\n",
    "        .agg({'fitness': ['mean', 'std', 'count'], 'Performance': ['mean', 'std'], 'Fairness': ['mean', 'std']})\\\n",
    "        .sort_values(by=['Fitness Rule Abvr', 'dataset', ('fitness','mean')], ascending=False)\n",
    "    grouped_results['formatted_fitness'] = grouped_results.apply(lambda row: f\"${row[('fitness', 'mean')]:.3f} (\\pm{row[('fitness', 'std')]:.2f})$\", axis=1)\n",
    "    grouped_results['formatted_performance'] = grouped_results.apply(lambda row: f\"${row[('Performance', 'mean')]:.3f} (\\pm{row[('Performance', 'std')]:.2f})$\", axis=1)\n",
    "    grouped_results['formatted_fairness'] = grouped_results.apply(lambda row: f\"${row[('Fairness', 'mean')]:.3f} (\\pm{row[('Fairness', 'std')]:.2f})$\", axis=1)\n",
    "    grouped_results = grouped_results.sort_values(by=['Fitness Rule Abvr', 'dataset'])\n",
    "    grouped_results_list.append(grouped_results)"
   ]
  },
  {
   "cell_type": "code",
   "execution_count": 10,
   "metadata": {
    "collapsed": false,
    "ExecuteTime": {
     "end_time": "2024-05-18T16:05:25.274653479Z",
     "start_time": "2024-05-18T16:05:25.241038554Z"
    }
   },
   "outputs": [
    {
     "data": {
      "text/plain": "                                                MLP  PReg-MLP  SReg-MLP  \\\nfitness_rule            dataset                                           \nMax(MCC - Stat. Parity) Adult Income       1.000000  1.000000  0.687397   \n                        Adult Income       0.236552  1.000000  0.146357   \n                        Adult Income       1.000000  1.000000  1.000000   \n                        Adult Income       0.825914  1.000000  0.618027   \n                        Bank Marketing     1.000000  0.550131  0.476932   \n...                                             ...       ...       ...   \nMax(Acc - Eq. Odds)     Compas Recidivism  0.054865  0.283360  0.354095   \n                        German Credit      1.000000  1.000000  1.000000   \n                        German Credit      0.425855  1.000000  0.388310   \n                        German Credit      1.000000  1.000000  1.000000   \n                        German Credit      0.270305  0.518537  0.228995   \n\n                                           XiReg-MLP     method  \nfitness_rule            dataset                                  \nMax(MCC - Stat. Parity) Adult Income         1.00000        MLP  \n                        Adult Income         0.32503   PReg-MLP  \n                        Adult Income         1.00000   SReg-MLP  \n                        Adult Income         1.00000  XiReg-MLP  \n                        Bank Marketing       1.00000        MLP  \n...                                              ...        ...  \nMax(Acc - Eq. Odds)     Compas Recidivism    1.00000  XiReg-MLP  \n                        German Credit        1.00000        MLP  \n                        German Credit        1.00000   PReg-MLP  \n                        German Credit        1.00000   SReg-MLP  \n                        German Credit        1.00000  XiReg-MLP  \n\n[96 rows x 5 columns]",
      "text/html": "<div>\n<style scoped>\n    .dataframe tbody tr th:only-of-type {\n        vertical-align: middle;\n    }\n\n    .dataframe tbody tr th {\n        vertical-align: top;\n    }\n\n    .dataframe thead th {\n        text-align: right;\n    }\n</style>\n<table border=\"1\" class=\"dataframe\">\n  <thead>\n    <tr style=\"text-align: right;\">\n      <th></th>\n      <th></th>\n      <th>MLP</th>\n      <th>PReg-MLP</th>\n      <th>SReg-MLP</th>\n      <th>XiReg-MLP</th>\n      <th>method</th>\n    </tr>\n    <tr>\n      <th>fitness_rule</th>\n      <th>dataset</th>\n      <th></th>\n      <th></th>\n      <th></th>\n      <th></th>\n      <th></th>\n    </tr>\n  </thead>\n  <tbody>\n    <tr>\n      <th rowspan=\"5\" valign=\"top\">Max(MCC - Stat. Parity)</th>\n      <th>Adult Income</th>\n      <td>1.000000</td>\n      <td>1.000000</td>\n      <td>0.687397</td>\n      <td>1.00000</td>\n      <td>MLP</td>\n    </tr>\n    <tr>\n      <th>Adult Income</th>\n      <td>0.236552</td>\n      <td>1.000000</td>\n      <td>0.146357</td>\n      <td>0.32503</td>\n      <td>PReg-MLP</td>\n    </tr>\n    <tr>\n      <th>Adult Income</th>\n      <td>1.000000</td>\n      <td>1.000000</td>\n      <td>1.000000</td>\n      <td>1.00000</td>\n      <td>SReg-MLP</td>\n    </tr>\n    <tr>\n      <th>Adult Income</th>\n      <td>0.825914</td>\n      <td>1.000000</td>\n      <td>0.618027</td>\n      <td>1.00000</td>\n      <td>XiReg-MLP</td>\n    </tr>\n    <tr>\n      <th>Bank Marketing</th>\n      <td>1.000000</td>\n      <td>0.550131</td>\n      <td>0.476932</td>\n      <td>1.00000</td>\n      <td>MLP</td>\n    </tr>\n    <tr>\n      <th>...</th>\n      <th>...</th>\n      <td>...</td>\n      <td>...</td>\n      <td>...</td>\n      <td>...</td>\n      <td>...</td>\n    </tr>\n    <tr>\n      <th rowspan=\"5\" valign=\"top\">Max(Acc - Eq. Odds)</th>\n      <th>Compas Recidivism</th>\n      <td>0.054865</td>\n      <td>0.283360</td>\n      <td>0.354095</td>\n      <td>1.00000</td>\n      <td>XiReg-MLP</td>\n    </tr>\n    <tr>\n      <th>German Credit</th>\n      <td>1.000000</td>\n      <td>1.000000</td>\n      <td>1.000000</td>\n      <td>1.00000</td>\n      <td>MLP</td>\n    </tr>\n    <tr>\n      <th>German Credit</th>\n      <td>0.425855</td>\n      <td>1.000000</td>\n      <td>0.388310</td>\n      <td>1.00000</td>\n      <td>PReg-MLP</td>\n    </tr>\n    <tr>\n      <th>German Credit</th>\n      <td>1.000000</td>\n      <td>1.000000</td>\n      <td>1.000000</td>\n      <td>1.00000</td>\n      <td>SReg-MLP</td>\n    </tr>\n    <tr>\n      <th>German Credit</th>\n      <td>0.270305</td>\n      <td>0.518537</td>\n      <td>0.228995</td>\n      <td>1.00000</td>\n      <td>XiReg-MLP</td>\n    </tr>\n  </tbody>\n</table>\n<p>96 rows × 5 columns</p>\n</div>"
     },
     "execution_count": 10,
     "metadata": {},
     "output_type": "execute_result"
    }
   ],
   "source": [
    "significances[0].sort_values(by=['fitness_rule', 'dataset'], ascending=[False, True])"
   ]
  },
  {
   "cell_type": "code",
   "execution_count": 11,
   "metadata": {
    "collapsed": false,
    "ExecuteTime": {
     "end_time": "2024-05-18T16:05:25.275431898Z",
     "start_time": "2024-05-18T16:05:25.258460269Z"
    }
   },
   "outputs": [
    {
     "data": {
      "text/plain": "                                                      fitness                  \\\n                                                         mean       std count   \nFitness Rule Abvr       dataset           method                                \nMax(Acc - Eq. Odds)     Adult Income      MLP        0.758290  0.035161    15   \n                                          XiReg-MLP  0.757171  0.050661    15   \n                                          PReg-MLP   0.749909  0.036699    16   \n                                          SReg-MLP   0.747867  0.032609    16   \n                        Bank Marketing    XiReg-MLP  0.839229  0.045837    15   \n...                                                       ...       ...   ...   \nMax(MCC - Stat. Parity) Compas Recidivism MLP        0.074028  0.034694    30   \n                        German Credit     MLP        0.265661  0.099801    30   \n                                          PReg-MLP   0.254748  0.071677    16   \n                                          XiReg-MLP  0.245571  0.070406    15   \n                                          SReg-MLP   0.192318  0.107623    16   \n\n                                                    Performance            \\\n                                                           mean       std   \nFitness Rule Abvr       dataset           method                            \nMax(Acc - Eq. Odds)     Adult Income      MLP          0.847864  0.004669   \n                                          XiReg-MLP    0.848624  0.002018   \n                                          PReg-MLP     0.848183  0.004362   \n                                          SReg-MLP     0.848653  0.003668   \n                        Bank Marketing    XiReg-MLP    0.902514  0.004113   \n...                                                         ...       ...   \nMax(MCC - Stat. Parity) Compas Recidivism MLP          0.283302  0.021736   \n                        German Credit     MLP          0.329468  0.090834   \n                                          PReg-MLP     0.341448  0.067708   \n                                          XiReg-MLP    0.329368  0.050637   \n                                          SReg-MLP     0.291751  0.073053   \n\n                                                     Fairness            \\\n                                                         mean       std   \nFitness Rule Abvr       dataset           method                          \nMax(Acc - Eq. Odds)     Adult Income      MLP        0.089574  0.035575   \n                                          XiReg-MLP  0.091452  0.051310   \n                                          PReg-MLP   0.098273  0.039655   \n                                          SReg-MLP   0.100786  0.031567   \n                        Bank Marketing    XiReg-MLP  0.063285  0.044914   \n...                                                       ...       ...   \nMax(MCC - Stat. Parity) Compas Recidivism MLP        0.209274  0.038248   \n                        German Credit     MLP        0.063807  0.046639   \n                                          PReg-MLP   0.086701  0.042336   \n                                          XiReg-MLP  0.083796  0.060963   \n                                          SReg-MLP   0.099432  0.060881   \n\n                                                     formatted_fitness  \\\n                                                                         \nFitness Rule Abvr       dataset           method                         \nMax(Acc - Eq. Odds)     Adult Income      MLP        $0.758 (\\pm0.04)$   \n                                          XiReg-MLP  $0.757 (\\pm0.05)$   \n                                          PReg-MLP   $0.750 (\\pm0.04)$   \n                                          SReg-MLP   $0.748 (\\pm0.03)$   \n                        Bank Marketing    XiReg-MLP  $0.839 (\\pm0.05)$   \n...                                                                ...   \nMax(MCC - Stat. Parity) Compas Recidivism MLP        $0.074 (\\pm0.03)$   \n                        German Credit     MLP        $0.266 (\\pm0.10)$   \n                                          PReg-MLP   $0.255 (\\pm0.07)$   \n                                          XiReg-MLP  $0.246 (\\pm0.07)$   \n                                          SReg-MLP   $0.192 (\\pm0.11)$   \n\n                                                    formatted_performance  \\\n                                                                            \nFitness Rule Abvr       dataset           method                            \nMax(Acc - Eq. Odds)     Adult Income      MLP           $0.848 (\\pm0.00)$   \n                                          XiReg-MLP     $0.849 (\\pm0.00)$   \n                                          PReg-MLP      $0.848 (\\pm0.00)$   \n                                          SReg-MLP      $0.849 (\\pm0.00)$   \n                        Bank Marketing    XiReg-MLP     $0.903 (\\pm0.00)$   \n...                                                                   ...   \nMax(MCC - Stat. Parity) Compas Recidivism MLP           $0.283 (\\pm0.02)$   \n                        German Credit     MLP           $0.329 (\\pm0.09)$   \n                                          PReg-MLP      $0.341 (\\pm0.07)$   \n                                          XiReg-MLP     $0.329 (\\pm0.05)$   \n                                          SReg-MLP      $0.292 (\\pm0.07)$   \n\n                                                    formatted_fairness  \n                                                                        \nFitness Rule Abvr       dataset           method                        \nMax(Acc - Eq. Odds)     Adult Income      MLP        $0.090 (\\pm0.04)$  \n                                          XiReg-MLP  $0.091 (\\pm0.05)$  \n                                          PReg-MLP   $0.098 (\\pm0.04)$  \n                                          SReg-MLP   $0.101 (\\pm0.03)$  \n                        Bank Marketing    XiReg-MLP  $0.063 (\\pm0.04)$  \n...                                                                ...  \nMax(MCC - Stat. Parity) Compas Recidivism MLP        $0.209 (\\pm0.04)$  \n                        German Credit     MLP        $0.064 (\\pm0.05)$  \n                                          PReg-MLP   $0.087 (\\pm0.04)$  \n                                          XiReg-MLP  $0.084 (\\pm0.06)$  \n                                          SReg-MLP   $0.099 (\\pm0.06)$  \n\n[96 rows x 10 columns]",
      "text/html": "<div>\n<style scoped>\n    .dataframe tbody tr th:only-of-type {\n        vertical-align: middle;\n    }\n\n    .dataframe tbody tr th {\n        vertical-align: top;\n    }\n\n    .dataframe thead tr th {\n        text-align: left;\n    }\n\n    .dataframe thead tr:last-of-type th {\n        text-align: right;\n    }\n</style>\n<table border=\"1\" class=\"dataframe\">\n  <thead>\n    <tr>\n      <th></th>\n      <th></th>\n      <th></th>\n      <th colspan=\"3\" halign=\"left\">fitness</th>\n      <th colspan=\"2\" halign=\"left\">Performance</th>\n      <th colspan=\"2\" halign=\"left\">Fairness</th>\n      <th>formatted_fitness</th>\n      <th>formatted_performance</th>\n      <th>formatted_fairness</th>\n    </tr>\n    <tr>\n      <th></th>\n      <th></th>\n      <th></th>\n      <th>mean</th>\n      <th>std</th>\n      <th>count</th>\n      <th>mean</th>\n      <th>std</th>\n      <th>mean</th>\n      <th>std</th>\n      <th></th>\n      <th></th>\n      <th></th>\n    </tr>\n    <tr>\n      <th>Fitness Rule Abvr</th>\n      <th>dataset</th>\n      <th>method</th>\n      <th></th>\n      <th></th>\n      <th></th>\n      <th></th>\n      <th></th>\n      <th></th>\n      <th></th>\n      <th></th>\n      <th></th>\n      <th></th>\n    </tr>\n  </thead>\n  <tbody>\n    <tr>\n      <th rowspan=\"5\" valign=\"top\">Max(Acc - Eq. Odds)</th>\n      <th rowspan=\"4\" valign=\"top\">Adult Income</th>\n      <th>MLP</th>\n      <td>0.758290</td>\n      <td>0.035161</td>\n      <td>15</td>\n      <td>0.847864</td>\n      <td>0.004669</td>\n      <td>0.089574</td>\n      <td>0.035575</td>\n      <td>$0.758 (\\pm0.04)$</td>\n      <td>$0.848 (\\pm0.00)$</td>\n      <td>$0.090 (\\pm0.04)$</td>\n    </tr>\n    <tr>\n      <th>XiReg-MLP</th>\n      <td>0.757171</td>\n      <td>0.050661</td>\n      <td>15</td>\n      <td>0.848624</td>\n      <td>0.002018</td>\n      <td>0.091452</td>\n      <td>0.051310</td>\n      <td>$0.757 (\\pm0.05)$</td>\n      <td>$0.849 (\\pm0.00)$</td>\n      <td>$0.091 (\\pm0.05)$</td>\n    </tr>\n    <tr>\n      <th>PReg-MLP</th>\n      <td>0.749909</td>\n      <td>0.036699</td>\n      <td>16</td>\n      <td>0.848183</td>\n      <td>0.004362</td>\n      <td>0.098273</td>\n      <td>0.039655</td>\n      <td>$0.750 (\\pm0.04)$</td>\n      <td>$0.848 (\\pm0.00)$</td>\n      <td>$0.098 (\\pm0.04)$</td>\n    </tr>\n    <tr>\n      <th>SReg-MLP</th>\n      <td>0.747867</td>\n      <td>0.032609</td>\n      <td>16</td>\n      <td>0.848653</td>\n      <td>0.003668</td>\n      <td>0.100786</td>\n      <td>0.031567</td>\n      <td>$0.748 (\\pm0.03)$</td>\n      <td>$0.849 (\\pm0.00)$</td>\n      <td>$0.101 (\\pm0.03)$</td>\n    </tr>\n    <tr>\n      <th>Bank Marketing</th>\n      <th>XiReg-MLP</th>\n      <td>0.839229</td>\n      <td>0.045837</td>\n      <td>15</td>\n      <td>0.902514</td>\n      <td>0.004113</td>\n      <td>0.063285</td>\n      <td>0.044914</td>\n      <td>$0.839 (\\pm0.05)$</td>\n      <td>$0.903 (\\pm0.00)$</td>\n      <td>$0.063 (\\pm0.04)$</td>\n    </tr>\n    <tr>\n      <th>...</th>\n      <th>...</th>\n      <th>...</th>\n      <td>...</td>\n      <td>...</td>\n      <td>...</td>\n      <td>...</td>\n      <td>...</td>\n      <td>...</td>\n      <td>...</td>\n      <td>...</td>\n      <td>...</td>\n      <td>...</td>\n    </tr>\n    <tr>\n      <th rowspan=\"5\" valign=\"top\">Max(MCC - Stat. Parity)</th>\n      <th>Compas Recidivism</th>\n      <th>MLP</th>\n      <td>0.074028</td>\n      <td>0.034694</td>\n      <td>30</td>\n      <td>0.283302</td>\n      <td>0.021736</td>\n      <td>0.209274</td>\n      <td>0.038248</td>\n      <td>$0.074 (\\pm0.03)$</td>\n      <td>$0.283 (\\pm0.02)$</td>\n      <td>$0.209 (\\pm0.04)$</td>\n    </tr>\n    <tr>\n      <th rowspan=\"4\" valign=\"top\">German Credit</th>\n      <th>MLP</th>\n      <td>0.265661</td>\n      <td>0.099801</td>\n      <td>30</td>\n      <td>0.329468</td>\n      <td>0.090834</td>\n      <td>0.063807</td>\n      <td>0.046639</td>\n      <td>$0.266 (\\pm0.10)$</td>\n      <td>$0.329 (\\pm0.09)$</td>\n      <td>$0.064 (\\pm0.05)$</td>\n    </tr>\n    <tr>\n      <th>PReg-MLP</th>\n      <td>0.254748</td>\n      <td>0.071677</td>\n      <td>16</td>\n      <td>0.341448</td>\n      <td>0.067708</td>\n      <td>0.086701</td>\n      <td>0.042336</td>\n      <td>$0.255 (\\pm0.07)$</td>\n      <td>$0.341 (\\pm0.07)$</td>\n      <td>$0.087 (\\pm0.04)$</td>\n    </tr>\n    <tr>\n      <th>XiReg-MLP</th>\n      <td>0.245571</td>\n      <td>0.070406</td>\n      <td>15</td>\n      <td>0.329368</td>\n      <td>0.050637</td>\n      <td>0.083796</td>\n      <td>0.060963</td>\n      <td>$0.246 (\\pm0.07)$</td>\n      <td>$0.329 (\\pm0.05)$</td>\n      <td>$0.084 (\\pm0.06)$</td>\n    </tr>\n    <tr>\n      <th>SReg-MLP</th>\n      <td>0.192318</td>\n      <td>0.107623</td>\n      <td>16</td>\n      <td>0.291751</td>\n      <td>0.073053</td>\n      <td>0.099432</td>\n      <td>0.060881</td>\n      <td>$0.192 (\\pm0.11)$</td>\n      <td>$0.292 (\\pm0.07)$</td>\n      <td>$0.099 (\\pm0.06)$</td>\n    </tr>\n  </tbody>\n</table>\n<p>96 rows × 10 columns</p>\n</div>"
     },
     "execution_count": 11,
     "metadata": {},
     "output_type": "execute_result"
    }
   ],
   "source": [
    "grouped_results_list[0]"
   ]
  },
  {
   "cell_type": "code",
   "execution_count": 12,
   "metadata": {
    "collapsed": false,
    "ExecuteTime": {
     "end_time": "2024-05-18T16:05:25.276285002Z",
     "start_time": "2024-05-18T16:05:25.260244249Z"
    }
   },
   "outputs": [
    {
     "data": {
      "text/plain": "                                                FTL  PReg-FTL  SReg-FTL  \\\nfitness_rule            dataset                                           \nMax(MCC - Stat. Parity) Adult Income       1.000000  1.000000  0.383339   \n                        Adult Income       0.463432  1.000000  0.210242   \n                        Adult Income       1.000000  1.000000  1.000000   \n                        Adult Income       0.349166  0.881989  0.114389   \n                        Bank Marketing     1.000000  0.697897  1.000000   \n...                                             ...       ...       ...   \nMax(Acc - Eq. Odds)     Compas Recidivism  1.000000  1.000000  1.000000   \n                        German Credit      1.000000  1.000000  0.724423   \n                        German Credit      0.267596  1.000000  0.085384   \n                        German Credit      1.000000  1.000000  1.000000   \n                        German Credit      1.000000  1.000000  0.978734   \n\n                                           XiReg-FTL     method  \nfitness_rule            dataset                                  \nMax(MCC - Stat. Parity) Adult Income        1.000000        FTL  \n                        Adult Income        1.000000   PReg-FTL  \n                        Adult Income        1.000000   SReg-FTL  \n                        Adult Income        1.000000  XiReg-FTL  \n                        Bank Marketing      0.481308        FTL  \n...                                              ...        ...  \nMax(Acc - Eq. Odds)     Compas Recidivism   1.000000  XiReg-FTL  \n                        German Credit       0.765238        FTL  \n                        German Credit       0.134237   PReg-FTL  \n                        German Credit       1.000000   SReg-FTL  \n                        German Credit       1.000000  XiReg-FTL  \n\n[96 rows x 5 columns]",
      "text/html": "<div>\n<style scoped>\n    .dataframe tbody tr th:only-of-type {\n        vertical-align: middle;\n    }\n\n    .dataframe tbody tr th {\n        vertical-align: top;\n    }\n\n    .dataframe thead th {\n        text-align: right;\n    }\n</style>\n<table border=\"1\" class=\"dataframe\">\n  <thead>\n    <tr style=\"text-align: right;\">\n      <th></th>\n      <th></th>\n      <th>FTL</th>\n      <th>PReg-FTL</th>\n      <th>SReg-FTL</th>\n      <th>XiReg-FTL</th>\n      <th>method</th>\n    </tr>\n    <tr>\n      <th>fitness_rule</th>\n      <th>dataset</th>\n      <th></th>\n      <th></th>\n      <th></th>\n      <th></th>\n      <th></th>\n    </tr>\n  </thead>\n  <tbody>\n    <tr>\n      <th rowspan=\"5\" valign=\"top\">Max(MCC - Stat. Parity)</th>\n      <th>Adult Income</th>\n      <td>1.000000</td>\n      <td>1.000000</td>\n      <td>0.383339</td>\n      <td>1.000000</td>\n      <td>FTL</td>\n    </tr>\n    <tr>\n      <th>Adult Income</th>\n      <td>0.463432</td>\n      <td>1.000000</td>\n      <td>0.210242</td>\n      <td>1.000000</td>\n      <td>PReg-FTL</td>\n    </tr>\n    <tr>\n      <th>Adult Income</th>\n      <td>1.000000</td>\n      <td>1.000000</td>\n      <td>1.000000</td>\n      <td>1.000000</td>\n      <td>SReg-FTL</td>\n    </tr>\n    <tr>\n      <th>Adult Income</th>\n      <td>0.349166</td>\n      <td>0.881989</td>\n      <td>0.114389</td>\n      <td>1.000000</td>\n      <td>XiReg-FTL</td>\n    </tr>\n    <tr>\n      <th>Bank Marketing</th>\n      <td>1.000000</td>\n      <td>0.697897</td>\n      <td>1.000000</td>\n      <td>0.481308</td>\n      <td>FTL</td>\n    </tr>\n    <tr>\n      <th>...</th>\n      <th>...</th>\n      <td>...</td>\n      <td>...</td>\n      <td>...</td>\n      <td>...</td>\n      <td>...</td>\n    </tr>\n    <tr>\n      <th rowspan=\"5\" valign=\"top\">Max(Acc - Eq. Odds)</th>\n      <th>Compas Recidivism</th>\n      <td>1.000000</td>\n      <td>1.000000</td>\n      <td>1.000000</td>\n      <td>1.000000</td>\n      <td>XiReg-FTL</td>\n    </tr>\n    <tr>\n      <th>German Credit</th>\n      <td>1.000000</td>\n      <td>1.000000</td>\n      <td>0.724423</td>\n      <td>0.765238</td>\n      <td>FTL</td>\n    </tr>\n    <tr>\n      <th>German Credit</th>\n      <td>0.267596</td>\n      <td>1.000000</td>\n      <td>0.085384</td>\n      <td>0.134237</td>\n      <td>PReg-FTL</td>\n    </tr>\n    <tr>\n      <th>German Credit</th>\n      <td>1.000000</td>\n      <td>1.000000</td>\n      <td>1.000000</td>\n      <td>1.000000</td>\n      <td>SReg-FTL</td>\n    </tr>\n    <tr>\n      <th>German Credit</th>\n      <td>1.000000</td>\n      <td>1.000000</td>\n      <td>0.978734</td>\n      <td>1.000000</td>\n      <td>XiReg-FTL</td>\n    </tr>\n  </tbody>\n</table>\n<p>96 rows × 5 columns</p>\n</div>"
     },
     "execution_count": 12,
     "metadata": {},
     "output_type": "execute_result"
    }
   ],
   "source": [
    "significances[1].sort_values(by=['fitness_rule', 'dataset'], ascending=[False, True])"
   ]
  },
  {
   "cell_type": "code",
   "execution_count": 13,
   "metadata": {
    "collapsed": false,
    "ExecuteTime": {
     "end_time": "2024-05-18T16:05:25.299319263Z",
     "start_time": "2024-05-18T16:05:25.269191577Z"
    }
   },
   "outputs": [
    {
     "data": {
      "text/plain": "                                                      fitness                  \\\n                                                         mean       std count   \nFitness Rule Abvr       dataset           method                                \nMax(Acc - Eq. Odds)     Adult Income      PReg-FTL   0.816948  0.023932    17   \n                                          XiReg-FTL  0.815293  0.020755    15   \n                                          FTL        0.811852  0.025179    24   \n                                          SReg-FTL   0.796648  0.036947    13   \n                        Bank Marketing    SReg-FTL   0.805073  0.086488    15   \n...                                                       ...       ...   ...   \nMax(MCC - Stat. Parity) Compas Recidivism PReg-FTL   0.221342  0.113259    15   \n                        German Credit     XiReg-FTL  0.302067  0.062075    15   \n                                          FTL        0.255934  0.122275    14   \n                                          PReg-FTL   0.249641  0.078402    14   \n                                          SReg-FTL   0.245569  0.106336    14   \n\n                                                    Performance            \\\n                                                           mean       std   \nFitness Rule Abvr       dataset           method                            \nMax(Acc - Eq. Odds)     Adult Income      PReg-FTL     0.844002  0.008850   \n                                          XiReg-FTL    0.846781  0.004568   \n                                          FTL          0.845393  0.005262   \n                                          SReg-FTL     0.843398  0.003089   \n                        Bank Marketing    SReg-FTL     0.898295  0.005811   \n...                                                         ...       ...   \nMax(MCC - Stat. Parity) Compas Recidivism PReg-FTL     0.277947  0.036233   \n                        German Credit     XiReg-FTL    0.370891  0.053377   \n                                          FTL          0.354889  0.077343   \n                                          PReg-FTL     0.336466  0.041280   \n                                          SReg-FTL     0.326044  0.080928   \n\n                                                     Fairness            \\\n                                                         mean       std   \nFitness Rule Abvr       dataset           method                          \nMax(Acc - Eq. Odds)     Adult Income      PReg-FTL   0.027055  0.022190   \n                                          XiReg-FTL  0.031488  0.021377   \n                                          FTL        0.033541  0.023934   \n                                          SReg-FTL   0.046751  0.037872   \n                        Bank Marketing    SReg-FTL   0.093222  0.087795   \n...                                                       ...       ...   \nMax(MCC - Stat. Parity) Compas Recidivism PReg-FTL   0.056605  0.085058   \n                        German Credit     XiReg-FTL  0.068824  0.049439   \n                                          FTL        0.098955  0.062630   \n                                          PReg-FTL   0.086824  0.056425   \n                                          SReg-FTL   0.080474  0.054080   \n\n                                                     formatted_fitness  \\\n                                                                         \nFitness Rule Abvr       dataset           method                         \nMax(Acc - Eq. Odds)     Adult Income      PReg-FTL   $0.817 (\\pm0.02)$   \n                                          XiReg-FTL  $0.815 (\\pm0.02)$   \n                                          FTL        $0.812 (\\pm0.03)$   \n                                          SReg-FTL   $0.797 (\\pm0.04)$   \n                        Bank Marketing    SReg-FTL   $0.805 (\\pm0.09)$   \n...                                                                ...   \nMax(MCC - Stat. Parity) Compas Recidivism PReg-FTL   $0.221 (\\pm0.11)$   \n                        German Credit     XiReg-FTL  $0.302 (\\pm0.06)$   \n                                          FTL        $0.256 (\\pm0.12)$   \n                                          PReg-FTL   $0.250 (\\pm0.08)$   \n                                          SReg-FTL   $0.246 (\\pm0.11)$   \n\n                                                    formatted_performance  \\\n                                                                            \nFitness Rule Abvr       dataset           method                            \nMax(Acc - Eq. Odds)     Adult Income      PReg-FTL      $0.844 (\\pm0.01)$   \n                                          XiReg-FTL     $0.847 (\\pm0.00)$   \n                                          FTL           $0.845 (\\pm0.01)$   \n                                          SReg-FTL      $0.843 (\\pm0.00)$   \n                        Bank Marketing    SReg-FTL      $0.898 (\\pm0.01)$   \n...                                                                   ...   \nMax(MCC - Stat. Parity) Compas Recidivism PReg-FTL      $0.278 (\\pm0.04)$   \n                        German Credit     XiReg-FTL     $0.371 (\\pm0.05)$   \n                                          FTL           $0.355 (\\pm0.08)$   \n                                          PReg-FTL      $0.336 (\\pm0.04)$   \n                                          SReg-FTL      $0.326 (\\pm0.08)$   \n\n                                                    formatted_fairness  \n                                                                        \nFitness Rule Abvr       dataset           method                        \nMax(Acc - Eq. Odds)     Adult Income      PReg-FTL   $0.027 (\\pm0.02)$  \n                                          XiReg-FTL  $0.031 (\\pm0.02)$  \n                                          FTL        $0.034 (\\pm0.02)$  \n                                          SReg-FTL   $0.047 (\\pm0.04)$  \n                        Bank Marketing    SReg-FTL   $0.093 (\\pm0.09)$  \n...                                                                ...  \nMax(MCC - Stat. Parity) Compas Recidivism PReg-FTL   $0.057 (\\pm0.09)$  \n                        German Credit     XiReg-FTL  $0.069 (\\pm0.05)$  \n                                          FTL        $0.099 (\\pm0.06)$  \n                                          PReg-FTL   $0.087 (\\pm0.06)$  \n                                          SReg-FTL   $0.080 (\\pm0.05)$  \n\n[96 rows x 10 columns]",
      "text/html": "<div>\n<style scoped>\n    .dataframe tbody tr th:only-of-type {\n        vertical-align: middle;\n    }\n\n    .dataframe tbody tr th {\n        vertical-align: top;\n    }\n\n    .dataframe thead tr th {\n        text-align: left;\n    }\n\n    .dataframe thead tr:last-of-type th {\n        text-align: right;\n    }\n</style>\n<table border=\"1\" class=\"dataframe\">\n  <thead>\n    <tr>\n      <th></th>\n      <th></th>\n      <th></th>\n      <th colspan=\"3\" halign=\"left\">fitness</th>\n      <th colspan=\"2\" halign=\"left\">Performance</th>\n      <th colspan=\"2\" halign=\"left\">Fairness</th>\n      <th>formatted_fitness</th>\n      <th>formatted_performance</th>\n      <th>formatted_fairness</th>\n    </tr>\n    <tr>\n      <th></th>\n      <th></th>\n      <th></th>\n      <th>mean</th>\n      <th>std</th>\n      <th>count</th>\n      <th>mean</th>\n      <th>std</th>\n      <th>mean</th>\n      <th>std</th>\n      <th></th>\n      <th></th>\n      <th></th>\n    </tr>\n    <tr>\n      <th>Fitness Rule Abvr</th>\n      <th>dataset</th>\n      <th>method</th>\n      <th></th>\n      <th></th>\n      <th></th>\n      <th></th>\n      <th></th>\n      <th></th>\n      <th></th>\n      <th></th>\n      <th></th>\n      <th></th>\n    </tr>\n  </thead>\n  <tbody>\n    <tr>\n      <th rowspan=\"5\" valign=\"top\">Max(Acc - Eq. Odds)</th>\n      <th rowspan=\"4\" valign=\"top\">Adult Income</th>\n      <th>PReg-FTL</th>\n      <td>0.816948</td>\n      <td>0.023932</td>\n      <td>17</td>\n      <td>0.844002</td>\n      <td>0.008850</td>\n      <td>0.027055</td>\n      <td>0.022190</td>\n      <td>$0.817 (\\pm0.02)$</td>\n      <td>$0.844 (\\pm0.01)$</td>\n      <td>$0.027 (\\pm0.02)$</td>\n    </tr>\n    <tr>\n      <th>XiReg-FTL</th>\n      <td>0.815293</td>\n      <td>0.020755</td>\n      <td>15</td>\n      <td>0.846781</td>\n      <td>0.004568</td>\n      <td>0.031488</td>\n      <td>0.021377</td>\n      <td>$0.815 (\\pm0.02)$</td>\n      <td>$0.847 (\\pm0.00)$</td>\n      <td>$0.031 (\\pm0.02)$</td>\n    </tr>\n    <tr>\n      <th>FTL</th>\n      <td>0.811852</td>\n      <td>0.025179</td>\n      <td>24</td>\n      <td>0.845393</td>\n      <td>0.005262</td>\n      <td>0.033541</td>\n      <td>0.023934</td>\n      <td>$0.812 (\\pm0.03)$</td>\n      <td>$0.845 (\\pm0.01)$</td>\n      <td>$0.034 (\\pm0.02)$</td>\n    </tr>\n    <tr>\n      <th>SReg-FTL</th>\n      <td>0.796648</td>\n      <td>0.036947</td>\n      <td>13</td>\n      <td>0.843398</td>\n      <td>0.003089</td>\n      <td>0.046751</td>\n      <td>0.037872</td>\n      <td>$0.797 (\\pm0.04)$</td>\n      <td>$0.843 (\\pm0.00)$</td>\n      <td>$0.047 (\\pm0.04)$</td>\n    </tr>\n    <tr>\n      <th>Bank Marketing</th>\n      <th>SReg-FTL</th>\n      <td>0.805073</td>\n      <td>0.086488</td>\n      <td>15</td>\n      <td>0.898295</td>\n      <td>0.005811</td>\n      <td>0.093222</td>\n      <td>0.087795</td>\n      <td>$0.805 (\\pm0.09)$</td>\n      <td>$0.898 (\\pm0.01)$</td>\n      <td>$0.093 (\\pm0.09)$</td>\n    </tr>\n    <tr>\n      <th>...</th>\n      <th>...</th>\n      <th>...</th>\n      <td>...</td>\n      <td>...</td>\n      <td>...</td>\n      <td>...</td>\n      <td>...</td>\n      <td>...</td>\n      <td>...</td>\n      <td>...</td>\n      <td>...</td>\n      <td>...</td>\n    </tr>\n    <tr>\n      <th rowspan=\"5\" valign=\"top\">Max(MCC - Stat. Parity)</th>\n      <th>Compas Recidivism</th>\n      <th>PReg-FTL</th>\n      <td>0.221342</td>\n      <td>0.113259</td>\n      <td>15</td>\n      <td>0.277947</td>\n      <td>0.036233</td>\n      <td>0.056605</td>\n      <td>0.085058</td>\n      <td>$0.221 (\\pm0.11)$</td>\n      <td>$0.278 (\\pm0.04)$</td>\n      <td>$0.057 (\\pm0.09)$</td>\n    </tr>\n    <tr>\n      <th rowspan=\"4\" valign=\"top\">German Credit</th>\n      <th>XiReg-FTL</th>\n      <td>0.302067</td>\n      <td>0.062075</td>\n      <td>15</td>\n      <td>0.370891</td>\n      <td>0.053377</td>\n      <td>0.068824</td>\n      <td>0.049439</td>\n      <td>$0.302 (\\pm0.06)$</td>\n      <td>$0.371 (\\pm0.05)$</td>\n      <td>$0.069 (\\pm0.05)$</td>\n    </tr>\n    <tr>\n      <th>FTL</th>\n      <td>0.255934</td>\n      <td>0.122275</td>\n      <td>14</td>\n      <td>0.354889</td>\n      <td>0.077343</td>\n      <td>0.098955</td>\n      <td>0.062630</td>\n      <td>$0.256 (\\pm0.12)$</td>\n      <td>$0.355 (\\pm0.08)$</td>\n      <td>$0.099 (\\pm0.06)$</td>\n    </tr>\n    <tr>\n      <th>PReg-FTL</th>\n      <td>0.249641</td>\n      <td>0.078402</td>\n      <td>14</td>\n      <td>0.336466</td>\n      <td>0.041280</td>\n      <td>0.086824</td>\n      <td>0.056425</td>\n      <td>$0.250 (\\pm0.08)$</td>\n      <td>$0.336 (\\pm0.04)$</td>\n      <td>$0.087 (\\pm0.06)$</td>\n    </tr>\n    <tr>\n      <th>SReg-FTL</th>\n      <td>0.245569</td>\n      <td>0.106336</td>\n      <td>14</td>\n      <td>0.326044</td>\n      <td>0.080928</td>\n      <td>0.080474</td>\n      <td>0.054080</td>\n      <td>$0.246 (\\pm0.11)$</td>\n      <td>$0.326 (\\pm0.08)$</td>\n      <td>$0.080 (\\pm0.05)$</td>\n    </tr>\n  </tbody>\n</table>\n<p>96 rows × 10 columns</p>\n</div>"
     },
     "execution_count": 13,
     "metadata": {},
     "output_type": "execute_result"
    }
   ],
   "source": [
    "grouped_results_list[1]"
   ]
  },
  {
   "cell_type": "code",
   "execution_count": 13,
   "metadata": {
    "collapsed": false,
    "ExecuteTime": {
     "end_time": "2024-05-18T16:05:25.299728587Z",
     "start_time": "2024-05-18T16:05:25.281753560Z"
    }
   },
   "outputs": [],
   "source": []
  }
 ],
 "metadata": {
  "kernelspec": {
   "display_name": "Python 3 (ipykernel)",
   "language": "python",
   "name": "python3"
  },
  "language_info": {
   "codemirror_mode": {
    "name": "ipython",
    "version": 3
   },
   "file_extension": ".py",
   "mimetype": "text/x-python",
   "name": "python",
   "nbconvert_exporter": "python",
   "pygments_lexer": "ipython3",
   "version": "3.11.5"
  }
 },
 "nbformat": 4,
 "nbformat_minor": 4
}
