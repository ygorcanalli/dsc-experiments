{
 "cells": [
  {
   "cell_type": "code",
   "execution_count": 66,
   "metadata": {
    "ExecuteTime": {
     "end_time": "2024-05-01T02:21:24.525313982Z",
     "start_time": "2024-05-01T02:21:24.515272517Z"
    }
   },
   "outputs": [],
   "source": [
    "import pandas as pd\n",
    "import json\n",
    "import os\n",
    "import deepsig\n",
    "from IPython.display import display"
   ]
  },
  {
   "cell_type": "code",
   "execution_count": 67,
   "metadata": {
    "ExecuteTime": {
     "end_time": "2024-05-01T02:21:24.526691220Z",
     "start_time": "2024-05-01T02:21:24.525543760Z"
    }
   },
   "outputs": [],
   "source": [
    "cols = ['dataset', 'method', 'fitness_rule', 'fitness', 'ACC', 'MCC', 'f1_score', 'avg_odds_diff', 'stat_par_diff', 'eq_opp_diff']"
   ]
  },
  {
   "cell_type": "code",
   "execution_count": 68,
   "metadata": {
    "ExecuteTime": {
     "end_time": "2024-05-01T02:21:24.560870380Z",
     "start_time": "2024-05-01T02:21:24.525610095Z"
    }
   },
   "outputs": [],
   "source": [
    "baseline_results = pd.read_csv('baseline_results.csv')\n",
    "baseline_results.replace({'ftl_mlp_initializer': 'Standard FTL (baseline)'}, inplace=True)\n",
    "\n",
    "pearson_results = pd.read_csv('pearson_results.csv')\n",
    "pearson_results.replace({'ftl_mlp_initializer': 'Pearson regularized FTL'}, inplace=True)\n",
    "\n",
    "spearman_results = pd.read_csv('spearman_results.csv')\n",
    "spearman_results.replace({'ftl_mlp_initializer': 'Spearman regularized FTL'}, inplace=True)\n",
    "\n",
    "results = pd.concat([baseline_results, pearson_results, spearman_results])"
   ]
  },
  {
   "cell_type": "code",
   "execution_count": 69,
   "outputs": [],
   "source": [
    "results.replace({'adult_dataset_reader': 'Adult Income', 'compas_dataset_reader': 'Compas Recidivism', 'german_dataset_reader': 'German Credit', 'bank_dataset_reader': 'Bank Marketing'}, inplace=True)\n",
    "results.rename(columns={'avg_odds_diff': 'Equalized Odds', 'stat_par_diff': 'Statistical Parity', 'eq_opp_diff': 'Equal Opportunity', 'MCC': 'Mathew Correlation', 'ACC': 'Accuracy'}, inplace=True)"
   ],
   "metadata": {
    "collapsed": false,
    "ExecuteTime": {
     "end_time": "2024-05-01T02:21:24.562428614Z",
     "start_time": "2024-05-01T02:21:24.561023368Z"
    }
   }
  },
  {
   "cell_type": "code",
   "execution_count": 70,
   "metadata": {
    "ExecuteTime": {
     "end_time": "2024-05-01T02:21:24.562916082Z",
     "start_time": "2024-05-01T02:21:24.561097465Z"
    }
   },
   "outputs": [
    {
     "name": "stderr",
     "output_type": "stream",
     "text": [
      "/tmp/ipykernel_1330385/3340472993.py:31: FutureWarning: Setting an item of incompatible dtype is deprecated and will raise in a future error of pandas. Value '[0.55988104 0.49558867 0.47660518 0.53020884 0.49731155 0.48088379\n",
      " 0.50936495 0.52610501 0.50501965 0.49517103 0.52255177 0.48277552\n",
      " 0.49360563 0.49928347 0.49428572 0.50830079 0.5315851  0.49084885\n",
      " 0.49727459 0.52602458 0.51498102 0.49446574 0.52981801 0.51333191\n",
      " 0.51460142 0.49477946 0.4559726  0.49333343 0.53090834 0.49284321\n",
      " 0.48727491 0.46760391 0.48532912 0.48816006 0.49060769 0.50033309\n",
      " 0.54306751 0.52179051 0.4829124  0.51199556 0.52334945 0.50003926]' has dtype incompatible with int64, please explicitly cast to a compatible dtype first.\n",
      "  results.loc[results.fitness_rule == fitness_rule,'Performance'] = results.loc[results.fitness_rule == fitness_rule,performance_metric]\n",
      "/tmp/ipykernel_1330385/3340472993.py:32: FutureWarning: Setting an item of incompatible dtype is deprecated and will raise in a future error of pandas. Value '[0.06563524 0.00434914 0.02991623 0.03287846 0.03464132 0.0015824\n",
      " 0.00711975 0.00623328 0.00497483 0.00291418 0.02981982 0.0109755\n",
      " 0.02228438 0.00327132 0.02537383 0.00143259 0.01617422 0.01169424\n",
      " 0.01656405 0.02579937 0.00583962 0.01503756 0.00376432 0.00064319\n",
      " 0.00965313 0.02342952 0.01174198 0.00202581 0.01859382 0.00603458\n",
      " 0.01774073 0.0244613  0.05969289 0.00814399 0.01136305 0.00834383\n",
      " 0.0523313  0.02800188 0.01513682 0.0100883  0.05535489 0.00268151]' has dtype incompatible with int64, please explicitly cast to a compatible dtype first.\n",
      "  results.loc[results.fitness_rule == fitness_rule,'Fairness'] = results.loc[results.fitness_rule == fitness_rule,fairness_metric]\n"
     ]
    }
   ],
   "source": [
    "fitness_rules_target_metrics = {\n",
    "    'mcc_parity': {'performance': 'Mathew Correlation', 'fairness': 'Statistical Parity'},\n",
    "    'mcc_opportunity': {'performance': 'Mathew Correlation', 'fairness': 'Equal Opportunity'},\n",
    "    'mcc_odds': {'performance': 'Mathew Correlation', 'fairness': 'Equalized Odds'},\n",
    "    'acc_parity': {'performance': 'Accuracy', 'fairness': 'Statistical Parity'},\n",
    "    'acc_opportunity': {'performance': 'Accuracy', 'fairness': 'Equal Opportunity'},\n",
    "    'acc_odds': {'performance': 'Accuracy', 'fairness': 'Equalized Odds'}\n",
    "}\n",
    "\n",
    "fitness_rules_target_metrics = {\n",
    "    'mcc_parity': ('Mathew Correlation', 'Statistical Parity'),\n",
    "    'mcc_opportunity': ('Mathew Correlation', 'Equal Opportunity'),\n",
    "    'mcc_odds': ('Mathew Correlation', 'Equalized Odds'),\n",
    "    'acc_parity': ('Accuracy', 'Statistical Parity'),\n",
    "    'acc_opportunity': ('Accuracy', 'Equal Opportunity'),\n",
    "    'acc_odds': ('Accuracy', 'Equalized Odds')\n",
    "}\n",
    "fitness_rules_abvr = {\n",
    "    'mcc_parity': 'Max(MCC - Stat. Parity)',\n",
    "    'mcc_opportunity': 'Max(MCC - Eq. Odds)',\n",
    "    'mcc_odds': 'Max(MCC - Eq. Opp.)',\n",
    "    'acc_parity': 'Max(Acc - Stat. Parity)',\n",
    "    'acc_opportunity': 'Max(Acc - Eq. Odds)',\n",
    "    'acc_odds': 'Max(Acc - Eq. Opp.)'\n",
    "}\n",
    "\n",
    "results['Performance'] = 0\n",
    "results['Fairness'] = 0\n",
    "results['Fitness Rule'] = ''\n",
    "for fitness_rule, (performance_metric, fairness_metric) in fitness_rules_target_metrics.items():\n",
    "    results.loc[results.fitness_rule == fitness_rule,'Performance'] = results.loc[results.fitness_rule == fitness_rule,performance_metric]\n",
    "    results.loc[results.fitness_rule == fitness_rule,'Fairness'] = results.loc[results.fitness_rule == fitness_rule,fairness_metric]\n",
    "    results.loc[results.fitness_rule == fitness_rule,'Fitness Rule Abvr'] = fitness_rules_abvr[fitness_rule]\n",
    "    results.loc[results.fitness_rule == fitness_rule,'Fitness Rule'] = 'Max(%s - %s)' % fitness_rules_target_metrics[fitness_rule]"
   ]
  },
  {
   "cell_type": "code",
   "execution_count": 71,
   "metadata": {
    "ExecuteTime": {
     "end_time": "2024-05-01T02:21:24.580070676Z",
     "start_time": "2024-05-01T02:21:24.561150737Z"
    }
   },
   "outputs": [
    {
     "data": {
      "text/plain": "         dataset                    method     fitness_rule   fitness  \\\n0   Adult Income   Standard FTL (baseline)       mcc_parity  0.494246   \n1   Adult Income   Standard FTL (baseline)         mcc_odds  0.526651   \n2   Adult Income   Standard FTL (baseline)  mcc_opportunity  0.528761   \n3   Adult Income   Standard FTL (baseline)       acc_parity  0.728663   \n4   Adult Income   Standard FTL (baseline)         acc_odds  0.824289   \n..           ...                       ...              ...       ...   \n67  Adult Income  Spearman regularized FTL         mcc_odds  0.539093   \n68  Adult Income  Spearman regularized FTL  mcc_opportunity  0.585072   \n69  Adult Income  Spearman regularized FTL       acc_parity  0.791413   \n70  Adult Income  Spearman regularized FTL         acc_odds  0.792800   \n71  Adult Income  Spearman regularized FTL  acc_opportunity  0.770560   \n\n    Accuracy  Mathew Correlation  Equalized Odds  Statistical Parity  \\\n0   0.834936            0.559881        0.105715            0.065635   \n1   0.844002            0.575709        0.049059            0.170094   \n2   0.823328            0.590304        0.099124            0.259137   \n3   0.836263            0.530541        0.024246            0.107601   \n4   0.839469            0.526192        0.015181            0.104461   \n..       ...                 ...             ...                 ...   \n67  0.843449            0.580012        0.040919            0.166083   \n68  0.842233            0.589531        0.046258            0.188986   \n69  0.815810            0.436570        0.218489            0.024396   \n70  0.844223            0.557665        0.051423            0.122700   \n71  0.839801            0.543909        0.039787            0.086346   \n\n    Equal Opportunity                                           solution  \\\n0            0.192739  {'corr_type': 'pearson', 'l2': 0.0, 'dropout':...   \n1            0.018271  {'corr_type': 'pearson', 'l2': 0.0, 'dropout':...   \n2            0.061543  {'corr_type': 'pearson', 'l2': 0.0, 'dropout':...   \n3            0.027139  {'corr_type': 'pearson', 'l2': 0.0, 'dropout':...   \n4            0.002116  {'corr_type': 'pearson', 'l2': 0.0, 'dropout':...   \n..                ...                                                ...   \n67           0.012468  {'corr_type': 'spearman', 'l2': 0.001, 'dropou...   \n68           0.004459  {'corr_type': 'spearman', 'l2': 0.0001, 'dropo...   \n69           0.389870  {'corr_type': 'spearman', 'l2': 0.0001, 'dropo...   \n70           0.063949  {'corr_type': 'spearman', 'l2': 0.0001, 'dropo...   \n71           0.069241  {'corr_type': 'spearman', 'l2': 0.0001, 'dropo...   \n\n    Performance  Fairness                                  Fitness Rule  \\\n0      0.559881  0.065635  Max(Mathew Correlation - Statistical Parity)   \n1      0.575709  0.049059      Max(Mathew Correlation - Equalized Odds)   \n2      0.590304  0.061543   Max(Mathew Correlation - Equal Opportunity)   \n3      0.836263  0.107601            Max(Accuracy - Statistical Parity)   \n4      0.839469  0.015181                Max(Accuracy - Equalized Odds)   \n..          ...       ...                                           ...   \n67     0.580012  0.040919      Max(Mathew Correlation - Equalized Odds)   \n68     0.589531  0.004459   Max(Mathew Correlation - Equal Opportunity)   \n69     0.815810  0.024396            Max(Accuracy - Statistical Parity)   \n70     0.844223  0.051423                Max(Accuracy - Equalized Odds)   \n71     0.839801  0.069241             Max(Accuracy - Equal Opportunity)   \n\n          Fitness Rule Abvr  \n0   Max(MCC - Stat. Parity)  \n1       Max(MCC - Eq. Opp.)  \n2       Max(MCC - Eq. Odds)  \n3   Max(Acc - Stat. Parity)  \n4       Max(Acc - Eq. Opp.)  \n..                      ...  \n67      Max(MCC - Eq. Opp.)  \n68      Max(MCC - Eq. Odds)  \n69  Max(Acc - Stat. Parity)  \n70      Max(Acc - Eq. Opp.)  \n71      Max(Acc - Eq. Odds)  \n\n[251 rows x 14 columns]",
      "text/html": "<div>\n<style scoped>\n    .dataframe tbody tr th:only-of-type {\n        vertical-align: middle;\n    }\n\n    .dataframe tbody tr th {\n        vertical-align: top;\n    }\n\n    .dataframe thead th {\n        text-align: right;\n    }\n</style>\n<table border=\"1\" class=\"dataframe\">\n  <thead>\n    <tr style=\"text-align: right;\">\n      <th></th>\n      <th>dataset</th>\n      <th>method</th>\n      <th>fitness_rule</th>\n      <th>fitness</th>\n      <th>Accuracy</th>\n      <th>Mathew Correlation</th>\n      <th>Equalized Odds</th>\n      <th>Statistical Parity</th>\n      <th>Equal Opportunity</th>\n      <th>solution</th>\n      <th>Performance</th>\n      <th>Fairness</th>\n      <th>Fitness Rule</th>\n      <th>Fitness Rule Abvr</th>\n    </tr>\n  </thead>\n  <tbody>\n    <tr>\n      <th>0</th>\n      <td>Adult Income</td>\n      <td>Standard FTL (baseline)</td>\n      <td>mcc_parity</td>\n      <td>0.494246</td>\n      <td>0.834936</td>\n      <td>0.559881</td>\n      <td>0.105715</td>\n      <td>0.065635</td>\n      <td>0.192739</td>\n      <td>{'corr_type': 'pearson', 'l2': 0.0, 'dropout':...</td>\n      <td>0.559881</td>\n      <td>0.065635</td>\n      <td>Max(Mathew Correlation - Statistical Parity)</td>\n      <td>Max(MCC - Stat. Parity)</td>\n    </tr>\n    <tr>\n      <th>1</th>\n      <td>Adult Income</td>\n      <td>Standard FTL (baseline)</td>\n      <td>mcc_odds</td>\n      <td>0.526651</td>\n      <td>0.844002</td>\n      <td>0.575709</td>\n      <td>0.049059</td>\n      <td>0.170094</td>\n      <td>0.018271</td>\n      <td>{'corr_type': 'pearson', 'l2': 0.0, 'dropout':...</td>\n      <td>0.575709</td>\n      <td>0.049059</td>\n      <td>Max(Mathew Correlation - Equalized Odds)</td>\n      <td>Max(MCC - Eq. Opp.)</td>\n    </tr>\n    <tr>\n      <th>2</th>\n      <td>Adult Income</td>\n      <td>Standard FTL (baseline)</td>\n      <td>mcc_opportunity</td>\n      <td>0.528761</td>\n      <td>0.823328</td>\n      <td>0.590304</td>\n      <td>0.099124</td>\n      <td>0.259137</td>\n      <td>0.061543</td>\n      <td>{'corr_type': 'pearson', 'l2': 0.0, 'dropout':...</td>\n      <td>0.590304</td>\n      <td>0.061543</td>\n      <td>Max(Mathew Correlation - Equal Opportunity)</td>\n      <td>Max(MCC - Eq. Odds)</td>\n    </tr>\n    <tr>\n      <th>3</th>\n      <td>Adult Income</td>\n      <td>Standard FTL (baseline)</td>\n      <td>acc_parity</td>\n      <td>0.728663</td>\n      <td>0.836263</td>\n      <td>0.530541</td>\n      <td>0.024246</td>\n      <td>0.107601</td>\n      <td>0.027139</td>\n      <td>{'corr_type': 'pearson', 'l2': 0.0, 'dropout':...</td>\n      <td>0.836263</td>\n      <td>0.107601</td>\n      <td>Max(Accuracy - Statistical Parity)</td>\n      <td>Max(Acc - Stat. Parity)</td>\n    </tr>\n    <tr>\n      <th>4</th>\n      <td>Adult Income</td>\n      <td>Standard FTL (baseline)</td>\n      <td>acc_odds</td>\n      <td>0.824289</td>\n      <td>0.839469</td>\n      <td>0.526192</td>\n      <td>0.015181</td>\n      <td>0.104461</td>\n      <td>0.002116</td>\n      <td>{'corr_type': 'pearson', 'l2': 0.0, 'dropout':...</td>\n      <td>0.839469</td>\n      <td>0.015181</td>\n      <td>Max(Accuracy - Equalized Odds)</td>\n      <td>Max(Acc - Eq. Opp.)</td>\n    </tr>\n    <tr>\n      <th>...</th>\n      <td>...</td>\n      <td>...</td>\n      <td>...</td>\n      <td>...</td>\n      <td>...</td>\n      <td>...</td>\n      <td>...</td>\n      <td>...</td>\n      <td>...</td>\n      <td>...</td>\n      <td>...</td>\n      <td>...</td>\n      <td>...</td>\n      <td>...</td>\n    </tr>\n    <tr>\n      <th>67</th>\n      <td>Adult Income</td>\n      <td>Spearman regularized FTL</td>\n      <td>mcc_odds</td>\n      <td>0.539093</td>\n      <td>0.843449</td>\n      <td>0.580012</td>\n      <td>0.040919</td>\n      <td>0.166083</td>\n      <td>0.012468</td>\n      <td>{'corr_type': 'spearman', 'l2': 0.001, 'dropou...</td>\n      <td>0.580012</td>\n      <td>0.040919</td>\n      <td>Max(Mathew Correlation - Equalized Odds)</td>\n      <td>Max(MCC - Eq. Opp.)</td>\n    </tr>\n    <tr>\n      <th>68</th>\n      <td>Adult Income</td>\n      <td>Spearman regularized FTL</td>\n      <td>mcc_opportunity</td>\n      <td>0.585072</td>\n      <td>0.842233</td>\n      <td>0.589531</td>\n      <td>0.046258</td>\n      <td>0.188986</td>\n      <td>0.004459</td>\n      <td>{'corr_type': 'spearman', 'l2': 0.0001, 'dropo...</td>\n      <td>0.589531</td>\n      <td>0.004459</td>\n      <td>Max(Mathew Correlation - Equal Opportunity)</td>\n      <td>Max(MCC - Eq. Odds)</td>\n    </tr>\n    <tr>\n      <th>69</th>\n      <td>Adult Income</td>\n      <td>Spearman regularized FTL</td>\n      <td>acc_parity</td>\n      <td>0.791413</td>\n      <td>0.815810</td>\n      <td>0.436570</td>\n      <td>0.218489</td>\n      <td>0.024396</td>\n      <td>0.389870</td>\n      <td>{'corr_type': 'spearman', 'l2': 0.0001, 'dropo...</td>\n      <td>0.815810</td>\n      <td>0.024396</td>\n      <td>Max(Accuracy - Statistical Parity)</td>\n      <td>Max(Acc - Stat. Parity)</td>\n    </tr>\n    <tr>\n      <th>70</th>\n      <td>Adult Income</td>\n      <td>Spearman regularized FTL</td>\n      <td>acc_odds</td>\n      <td>0.792800</td>\n      <td>0.844223</td>\n      <td>0.557665</td>\n      <td>0.051423</td>\n      <td>0.122700</td>\n      <td>0.063949</td>\n      <td>{'corr_type': 'spearman', 'l2': 0.0001, 'dropo...</td>\n      <td>0.844223</td>\n      <td>0.051423</td>\n      <td>Max(Accuracy - Equalized Odds)</td>\n      <td>Max(Acc - Eq. Opp.)</td>\n    </tr>\n    <tr>\n      <th>71</th>\n      <td>Adult Income</td>\n      <td>Spearman regularized FTL</td>\n      <td>acc_opportunity</td>\n      <td>0.770560</td>\n      <td>0.839801</td>\n      <td>0.543909</td>\n      <td>0.039787</td>\n      <td>0.086346</td>\n      <td>0.069241</td>\n      <td>{'corr_type': 'spearman', 'l2': 0.0001, 'dropo...</td>\n      <td>0.839801</td>\n      <td>0.069241</td>\n      <td>Max(Accuracy - Equal Opportunity)</td>\n      <td>Max(Acc - Eq. Odds)</td>\n    </tr>\n  </tbody>\n</table>\n<p>251 rows × 14 columns</p>\n</div>"
     },
     "metadata": {},
     "output_type": "display_data"
    }
   ],
   "source": [
    "display(results)"
   ]
  },
  {
   "cell_type": "code",
   "execution_count": 72,
   "metadata": {
    "ExecuteTime": {
     "end_time": "2024-05-01T02:21:24.581576409Z",
     "start_time": "2024-05-01T02:21:24.579628735Z"
    }
   },
   "outputs": [
    {
     "data": {
      "text/plain": "['Adult Income']"
     },
     "execution_count": 72,
     "metadata": {},
     "output_type": "execute_result"
    }
   ],
   "source": [
    "datasets = ['Adult Income']#, 'Bank Marketing', 'Compas Recidivism','German Credit']\n",
    "datasets"
   ]
  },
  {
   "cell_type": "code",
   "execution_count": 73,
   "metadata": {
    "ExecuteTime": {
     "end_time": "2024-05-01T02:21:24.582030238Z",
     "start_time": "2024-05-01T02:21:24.579711452Z"
    }
   },
   "outputs": [
    {
     "data": {
      "text/plain": "['mcc_parity',\n 'mcc_opportunity',\n 'mcc_odds',\n 'acc_parity',\n 'acc_opportunity',\n 'acc_odds']"
     },
     "execution_count": 73,
     "metadata": {},
     "output_type": "execute_result"
    }
   ],
   "source": [
    "fitness_rules = ['mcc_parity', 'mcc_opportunity', 'mcc_odds', 'acc_parity', 'acc_opportunity', 'acc_odds']\n",
    "fitness_rules"
   ]
  },
  {
   "cell_type": "code",
   "execution_count": 74,
   "metadata": {
    "ExecuteTime": {
     "end_time": "2024-05-01T02:21:24.635586352Z",
     "start_time": "2024-05-01T02:21:24.579769604Z"
    }
   },
   "outputs": [
    {
     "data": {
      "text/plain": "['Standard FTL (baseline)',\n 'Pearson regularized FTL',\n 'Spearman regularized FTL']"
     },
     "execution_count": 74,
     "metadata": {},
     "output_type": "execute_result"
    }
   ],
   "source": [
    "methods = ['Standard FTL (baseline)', 'Pearson regularized FTL', 'Spearman regularized FTL']\n",
    "methods"
   ]
  },
  {
   "cell_type": "code",
   "execution_count": 75,
   "outputs": [
    {
     "name": "stderr",
     "output_type": "stream",
     "text": [
      "Model comparisons: 100%|█████████▉| 2997/3000 [00:07<00:00, 418.70it/s]\n",
      "Model comparisons: 100%|█████████▉| 2997/3000 [00:06<00:00, 428.32it/s]\n",
      "Model comparisons: 100%|█████████▉| 2997/3000 [00:07<00:00, 423.09it/s]\n",
      "Model comparisons: 100%|█████████▉| 2997/3000 [00:07<00:00, 425.93it/s]\n",
      "Model comparisons: 100%|█████████▉| 2997/3000 [00:07<00:00, 424.78it/s]\n",
      "Model comparisons: 100%|█████████▉| 2997/3000 [00:07<00:00, 423.56it/s]\n"
     ]
    }
   ],
   "source": [
    "if os.path.exists('multi_aso_data_list.json'):\n",
    "    with open('multi_aso_data_list.json') as file:\n",
    "        multi_aso_data_list = json.load(file)\n",
    "else:    \n",
    "    multi_aso_data_list = []\n",
    "    for d in datasets:\n",
    "        multi_aso_data = []\n",
    "        for f in fitness_rules:\n",
    "            methods_results = []\n",
    "            for m in methods:\n",
    "                r = results.loc[ (results['dataset'] == d) &\n",
    "                                     (results['fitness_rule'] == f) &\n",
    "                                     (results['method'] == m) ]\\\n",
    "                            .fitness.tolist()\n",
    "                if len(r) == 0:\n",
    "                    r = [-1]\n",
    "                methods_results.append(r)\n",
    "            min_eps = deepsig.multi_aso(methods_results, confidence_level=0.95)\n",
    "            multi_aso_data_list.append({'fitness_rule': f, 'dataset': d, 'min_eps': min_eps.tolist()})\n",
    "    with open('multi_aso_data_list.json', 'w') as file:\n",
    "        json.dump(multi_aso_data_list, file)"
   ],
   "metadata": {
    "collapsed": false,
    "ExecuteTime": {
     "end_time": "2024-05-01T02:22:07.007714065Z",
     "start_time": "2024-05-01T02:21:24.619967Z"
    }
   }
  },
  {
   "cell_type": "code",
   "execution_count": 76,
   "outputs": [
    {
     "name": "stdout",
     "output_type": "stream",
     "text": [
      "Significance Testing\n"
     ]
    },
    {
     "data": {
      "text/plain": "                                      Standard FTL (baseline)  \\\nfitness_rule            dataset                                 \nMax(MCC - Stat. Parity) Adult Income                 1.000000   \n                        Adult Income                 0.590427   \n                        Adult Income                 1.000000   \nMax(MCC - Eq. Opp.)     Adult Income                 1.000000   \n                        Adult Income                 0.329814   \n                        Adult Income                 0.430160   \nMax(MCC - Eq. Odds)     Adult Income                 1.000000   \n                        Adult Income                 1.000000   \n                        Adult Income                 1.000000   \nMax(Acc - Stat. Parity) Adult Income                 1.000000   \n                        Adult Income                 0.208404   \n                        Adult Income                 0.448798   \nMax(Acc - Eq. Opp.)     Adult Income                 1.000000   \n                        Adult Income                 0.591118   \n                        Adult Income                 0.560807   \nMax(Acc - Eq. Odds)     Adult Income                 1.000000   \n                        Adult Income                 0.899023   \n                        Adult Income                 1.000000   \n\n                                      Pearson regularized FTL  \\\nfitness_rule            dataset                                 \nMax(MCC - Stat. Parity) Adult Income                 1.000000   \n                        Adult Income                 1.000000   \n                        Adult Income                 1.000000   \nMax(MCC - Eq. Opp.)     Adult Income                 1.000000   \n                        Adult Income                 1.000000   \n                        Adult Income                 1.000000   \nMax(MCC - Eq. Odds)     Adult Income                 0.172210   \n                        Adult Income                 1.000000   \n                        Adult Income                 0.478243   \nMax(Acc - Stat. Parity) Adult Income                 1.000000   \n                        Adult Income                 1.000000   \n                        Adult Income                 1.000000   \nMax(Acc - Eq. Opp.)     Adult Income                 1.000000   \n                        Adult Income                 1.000000   \n                        Adult Income                 0.953523   \nMax(Acc - Eq. Odds)     Adult Income                 1.000000   \n                        Adult Income                 1.000000   \n                        Adult Income                 1.000000   \n\n                                      Spearman regularized FTL  \\\nfitness_rule            dataset                                  \nMax(MCC - Stat. Parity) Adult Income                  0.376663   \n                        Adult Income                  0.233961   \n                        Adult Income                  1.000000   \nMax(MCC - Eq. Opp.)     Adult Income                  1.000000   \n                        Adult Income                  0.692762   \n                        Adult Income                  1.000000   \nMax(MCC - Eq. Odds)     Adult Income                  0.607859   \n                        Adult Income                  1.000000   \n                        Adult Income                  1.000000   \nMax(Acc - Stat. Parity) Adult Income                  1.000000   \n                        Adult Income                  0.540471   \n                        Adult Income                  1.000000   \nMax(Acc - Eq. Opp.)     Adult Income                  1.000000   \n                        Adult Income                  1.000000   \n                        Adult Income                  1.000000   \nMax(Acc - Eq. Odds)     Adult Income                  0.230439   \n                        Adult Income                  0.192494   \n                        Adult Income                  1.000000   \n\n                                                        method  \nfitness_rule            dataset                                 \nMax(MCC - Stat. Parity) Adult Income   Standard FTL (baseline)  \n                        Adult Income   Pearson regularized FTL  \n                        Adult Income  Spearman regularized FTL  \nMax(MCC - Eq. Opp.)     Adult Income   Standard FTL (baseline)  \n                        Adult Income   Pearson regularized FTL  \n                        Adult Income  Spearman regularized FTL  \nMax(MCC - Eq. Odds)     Adult Income   Standard FTL (baseline)  \n                        Adult Income   Pearson regularized FTL  \n                        Adult Income  Spearman regularized FTL  \nMax(Acc - Stat. Parity) Adult Income   Standard FTL (baseline)  \n                        Adult Income   Pearson regularized FTL  \n                        Adult Income  Spearman regularized FTL  \nMax(Acc - Eq. Opp.)     Adult Income   Standard FTL (baseline)  \n                        Adult Income   Pearson regularized FTL  \n                        Adult Income  Spearman regularized FTL  \nMax(Acc - Eq. Odds)     Adult Income   Standard FTL (baseline)  \n                        Adult Income   Pearson regularized FTL  \n                        Adult Income  Spearman regularized FTL  ",
      "text/html": "<div>\n<style scoped>\n    .dataframe tbody tr th:only-of-type {\n        vertical-align: middle;\n    }\n\n    .dataframe tbody tr th {\n        vertical-align: top;\n    }\n\n    .dataframe thead th {\n        text-align: right;\n    }\n</style>\n<table border=\"1\" class=\"dataframe\">\n  <thead>\n    <tr style=\"text-align: right;\">\n      <th></th>\n      <th></th>\n      <th>Standard FTL (baseline)</th>\n      <th>Pearson regularized FTL</th>\n      <th>Spearman regularized FTL</th>\n      <th>method</th>\n    </tr>\n    <tr>\n      <th>fitness_rule</th>\n      <th>dataset</th>\n      <th></th>\n      <th></th>\n      <th></th>\n      <th></th>\n    </tr>\n  </thead>\n  <tbody>\n    <tr>\n      <th rowspan=\"3\" valign=\"top\">Max(MCC - Stat. Parity)</th>\n      <th>Adult Income</th>\n      <td>1.000000</td>\n      <td>1.000000</td>\n      <td>0.376663</td>\n      <td>Standard FTL (baseline)</td>\n    </tr>\n    <tr>\n      <th>Adult Income</th>\n      <td>0.590427</td>\n      <td>1.000000</td>\n      <td>0.233961</td>\n      <td>Pearson regularized FTL</td>\n    </tr>\n    <tr>\n      <th>Adult Income</th>\n      <td>1.000000</td>\n      <td>1.000000</td>\n      <td>1.000000</td>\n      <td>Spearman regularized FTL</td>\n    </tr>\n    <tr>\n      <th rowspan=\"3\" valign=\"top\">Max(MCC - Eq. Opp.)</th>\n      <th>Adult Income</th>\n      <td>1.000000</td>\n      <td>1.000000</td>\n      <td>1.000000</td>\n      <td>Standard FTL (baseline)</td>\n    </tr>\n    <tr>\n      <th>Adult Income</th>\n      <td>0.329814</td>\n      <td>1.000000</td>\n      <td>0.692762</td>\n      <td>Pearson regularized FTL</td>\n    </tr>\n    <tr>\n      <th>Adult Income</th>\n      <td>0.430160</td>\n      <td>1.000000</td>\n      <td>1.000000</td>\n      <td>Spearman regularized FTL</td>\n    </tr>\n    <tr>\n      <th rowspan=\"3\" valign=\"top\">Max(MCC - Eq. Odds)</th>\n      <th>Adult Income</th>\n      <td>1.000000</td>\n      <td>0.172210</td>\n      <td>0.607859</td>\n      <td>Standard FTL (baseline)</td>\n    </tr>\n    <tr>\n      <th>Adult Income</th>\n      <td>1.000000</td>\n      <td>1.000000</td>\n      <td>1.000000</td>\n      <td>Pearson regularized FTL</td>\n    </tr>\n    <tr>\n      <th>Adult Income</th>\n      <td>1.000000</td>\n      <td>0.478243</td>\n      <td>1.000000</td>\n      <td>Spearman regularized FTL</td>\n    </tr>\n    <tr>\n      <th rowspan=\"3\" valign=\"top\">Max(Acc - Stat. Parity)</th>\n      <th>Adult Income</th>\n      <td>1.000000</td>\n      <td>1.000000</td>\n      <td>1.000000</td>\n      <td>Standard FTL (baseline)</td>\n    </tr>\n    <tr>\n      <th>Adult Income</th>\n      <td>0.208404</td>\n      <td>1.000000</td>\n      <td>0.540471</td>\n      <td>Pearson regularized FTL</td>\n    </tr>\n    <tr>\n      <th>Adult Income</th>\n      <td>0.448798</td>\n      <td>1.000000</td>\n      <td>1.000000</td>\n      <td>Spearman regularized FTL</td>\n    </tr>\n    <tr>\n      <th rowspan=\"3\" valign=\"top\">Max(Acc - Eq. Opp.)</th>\n      <th>Adult Income</th>\n      <td>1.000000</td>\n      <td>1.000000</td>\n      <td>1.000000</td>\n      <td>Standard FTL (baseline)</td>\n    </tr>\n    <tr>\n      <th>Adult Income</th>\n      <td>0.591118</td>\n      <td>1.000000</td>\n      <td>1.000000</td>\n      <td>Pearson regularized FTL</td>\n    </tr>\n    <tr>\n      <th>Adult Income</th>\n      <td>0.560807</td>\n      <td>0.953523</td>\n      <td>1.000000</td>\n      <td>Spearman regularized FTL</td>\n    </tr>\n    <tr>\n      <th rowspan=\"3\" valign=\"top\">Max(Acc - Eq. Odds)</th>\n      <th>Adult Income</th>\n      <td>1.000000</td>\n      <td>1.000000</td>\n      <td>0.230439</td>\n      <td>Standard FTL (baseline)</td>\n    </tr>\n    <tr>\n      <th>Adult Income</th>\n      <td>0.899023</td>\n      <td>1.000000</td>\n      <td>0.192494</td>\n      <td>Pearson regularized FTL</td>\n    </tr>\n    <tr>\n      <th>Adult Income</th>\n      <td>1.000000</td>\n      <td>1.000000</td>\n      <td>1.000000</td>\n      <td>Spearman regularized FTL</td>\n    </tr>\n  </tbody>\n</table>\n</div>"
     },
     "metadata": {},
     "output_type": "display_data"
    }
   ],
   "source": [
    "aso_df_resume = []\n",
    "reverse_aso_df_resume = []\n",
    "for aso_result in sorted(multi_aso_data_list, key=lambda x: x['dataset']):\n",
    "    fitness_rule = aso_result['fitness_rule']\n",
    "    dataset = aso_result['dataset']\n",
    "\n",
    "    aso_df = pd.DataFrame(aso_result['min_eps'], columns=methods)\n",
    "    aso_df['method'] = methods\n",
    "    aso_df['dataset'] = dataset\n",
    "    aso_df['fitness_rule'] = fitness_rule\n",
    "    aso_df_resume.append(aso_df)\n",
    "\n",
    "\n",
    "print('Significance Testing')\n",
    "significance = pd.concat(aso_df_resume)\n",
    "significance.replace(fitness_rules_abvr, inplace=True)\n",
    "significance = significance.set_index(['fitness_rule', 'dataset'])\n",
    "significance = significance.sort_values(by=['fitness_rule', 'dataset'], ascending=[False, True])\n",
    "display(significance)\n"
   ],
   "metadata": {
    "collapsed": false,
    "ExecuteTime": {
     "end_time": "2024-05-01T02:22:07.063671192Z",
     "start_time": "2024-05-01T02:22:07.019600894Z"
    }
   }
  },
  {
   "cell_type": "code",
   "execution_count": 77,
   "outputs": [
    {
     "data": {
      "text/plain": "                                                                fitness  \\\n                                                                   mean   \nFitness Rule Abvr       dataset      method                               \nMax(Acc - Eq. Odds)     Adult Income Pearson regularized FTL   0.816440   \n                                     Standard FTL (baseline)   0.813400   \n                                     Spearman regularized FTL  0.793284   \nMax(Acc - Eq. Opp.)     Adult Income Pearson regularized FTL   0.806716   \n                                     Spearman regularized FTL  0.805827   \n                                     Standard FTL (baseline)   0.801817   \nMax(Acc - Stat. Parity) Adult Income Pearson regularized FTL   0.813380   \n                                     Spearman regularized FTL  0.809098   \n                                     Standard FTL (baseline)   0.799946   \nMax(MCC - Eq. Odds)     Adult Income Standard FTL (baseline)   0.552515   \n                                     Spearman regularized FTL  0.542470   \n                                     Pearson regularized FTL   0.527102   \nMax(MCC - Eq. Opp.)     Adult Income Pearson regularized FTL   0.530239   \n                                     Spearman regularized FTL  0.526425   \n                                     Standard FTL (baseline)   0.516256   \nMax(MCC - Stat. Parity) Adult Income Pearson regularized FTL   0.493097   \n                                     Standard FTL (baseline)   0.486983   \n                                     Spearman regularized FTL  0.475760   \n\n                                                                               \\\n                                                                    std count   \nFitness Rule Abvr       dataset      method                                     \nMax(Acc - Eq. Odds)     Adult Income Pearson regularized FTL   0.024623    16   \n                                     Standard FTL (baseline)   0.021986    13   \n                                     Spearman regularized FTL  0.036451    12   \nMax(Acc - Eq. Opp.)     Adult Income Pearson regularized FTL   0.015056    16   \n                                     Spearman regularized FTL  0.011884    12   \n                                     Standard FTL (baseline)   0.015775    14   \nMax(Acc - Stat. Parity) Adult Income Pearson regularized FTL   0.011659    16   \n                                     Spearman regularized FTL  0.012363    12   \n                                     Standard FTL (baseline)   0.023751    14   \nMax(MCC - Eq. Odds)     Adult Income Standard FTL (baseline)   0.029883    14   \n                                     Spearman regularized FTL  0.035399    12   \n                                     Pearson regularized FTL   0.033794    16   \nMax(MCC - Eq. Opp.)     Adult Income Pearson regularized FTL   0.015378    16   \n                                     Spearman regularized FTL  0.014108    12   \n                                     Standard FTL (baseline)   0.030559    14   \nMax(MCC - Stat. Parity) Adult Income Pearson regularized FTL   0.021600    16   \n                                     Standard FTL (baseline)   0.018719    14   \n                                     Spearman regularized FTL  0.022828    12   \n\n                                                              Performance  \\\n                                                                     mean   \nFitness Rule Abvr       dataset      method                                 \nMax(Acc - Eq. Odds)     Adult Income Pearson regularized FTL     0.844002   \n                                     Standard FTL (baseline)     0.847098   \n                                     Spearman regularized FTL    0.843265   \nMax(Acc - Eq. Opp.)     Adult Income Pearson regularized FTL     0.843954   \n                                     Spearman regularized FTL    0.842500   \n                                     Standard FTL (baseline)     0.839035   \nMax(Acc - Stat. Parity) Adult Income Pearson regularized FTL     0.828372   \n                                     Spearman regularized FTL    0.824912   \n                                     Standard FTL (baseline)     0.827561   \nMax(MCC - Eq. Odds)     Adult Income Standard FTL (baseline)     0.580809   \n                                     Spearman regularized FTL    0.580652   \n                                     Pearson regularized FTL     0.575703   \nMax(MCC - Eq. Opp.)     Adult Income Pearson regularized FTL     0.578205   \n                                     Spearman regularized FTL    0.574624   \n                                     Standard FTL (baseline)     0.569236   \nMax(MCC - Stat. Parity) Adult Income Pearson regularized FTL     0.505210   \n                                     Standard FTL (baseline)     0.505311   \n                                     Spearman regularized FTL    0.500205   \n\n                                                                         \\\n                                                                    std   \nFitness Rule Abvr       dataset      method                               \nMax(Acc - Eq. Odds)     Adult Income Pearson regularized FTL   0.009140   \n                                     Standard FTL (baseline)   0.002867   \n                                     Spearman regularized FTL  0.003187   \nMax(Acc - Eq. Opp.)     Adult Income Pearson regularized FTL   0.007224   \n                                     Spearman regularized FTL  0.003842   \n                                     Standard FTL (baseline)   0.008325   \nMax(Acc - Stat. Parity) Adult Income Pearson regularized FTL   0.008529   \n                                     Spearman regularized FTL  0.009076   \n                                     Standard FTL (baseline)   0.008750   \nMax(MCC - Eq. Odds)     Adult Income Standard FTL (baseline)   0.010422   \n                                     Spearman regularized FTL  0.010257   \n                                     Pearson regularized FTL   0.018196   \nMax(MCC - Eq. Opp.)     Adult Income Pearson regularized FTL   0.013779   \n                                     Spearman regularized FTL  0.012236   \n                                     Standard FTL (baseline)   0.024584   \nMax(MCC - Stat. Parity) Adult Income Pearson regularized FTL   0.019975   \n                                     Standard FTL (baseline)   0.022714   \n                                     Spearman regularized FTL  0.021246   \n\n                                                               Fairness  \\\n                                                                   mean   \nFitness Rule Abvr       dataset      method                               \nMax(Acc - Eq. Odds)     Adult Income Pearson regularized FTL   0.027562   \n                                     Standard FTL (baseline)   0.033698   \n                                     Spearman regularized FTL  0.049981   \nMax(Acc - Eq. Opp.)     Adult Income Pearson regularized FTL   0.037238   \n                                     Spearman regularized FTL  0.036674   \n                                     Standard FTL (baseline)   0.037218   \nMax(Acc - Stat. Parity) Adult Income Pearson regularized FTL   0.014992   \n                                     Spearman regularized FTL  0.015814   \n                                     Standard FTL (baseline)   0.027615   \nMax(MCC - Eq. Odds)     Adult Income Standard FTL (baseline)   0.028294   \n                                     Spearman regularized FTL  0.038183   \n                                     Pearson regularized FTL   0.048601   \nMax(MCC - Eq. Opp.)     Adult Income Pearson regularized FTL   0.047966   \n                                     Spearman regularized FTL  0.048200   \n                                     Standard FTL (baseline)   0.052980   \nMax(MCC - Stat. Parity) Adult Income Pearson regularized FTL   0.012113   \n                                     Standard FTL (baseline)   0.018328   \n                                     Spearman regularized FTL  0.024445   \n\n                                                                         \\\n                                                                    std   \nFitness Rule Abvr       dataset      method                               \nMax(Acc - Eq. Odds)     Adult Income Pearson regularized FTL   0.022816   \n                                     Standard FTL (baseline)   0.021060   \n                                     Spearman regularized FTL  0.037638   \nMax(Acc - Eq. Opp.)     Adult Income Pearson regularized FTL   0.014540   \n                                     Spearman regularized FTL  0.011862   \n                                     Standard FTL (baseline)   0.017543   \nMax(Acc - Stat. Parity) Adult Income Pearson regularized FTL   0.011506   \n                                     Spearman regularized FTL  0.008208   \n                                     Standard FTL (baseline)   0.026391   \nMax(MCC - Eq. Odds)     Adult Income Standard FTL (baseline)   0.028730   \n                                     Spearman regularized FTL  0.028510   \n                                     Pearson regularized FTL   0.032912   \nMax(MCC - Eq. Opp.)     Adult Income Pearson regularized FTL   0.017720   \n                                     Spearman regularized FTL  0.012006   \n                                     Standard FTL (baseline)   0.017663   \nMax(MCC - Stat. Parity) Adult Income Pearson regularized FTL   0.008477   \n                                     Standard FTL (baseline)   0.018485   \n                                     Spearman regularized FTL  0.020216   \n\n                                                               formatted_fitness  \\\n                                                                                   \nFitness Rule Abvr       dataset      method                                        \nMax(Acc - Eq. Odds)     Adult Income Pearson regularized FTL   $0.816 (\\pm0.02)$   \n                                     Standard FTL (baseline)   $0.813 (\\pm0.02)$   \n                                     Spearman regularized FTL  $0.793 (\\pm0.04)$   \nMax(Acc - Eq. Opp.)     Adult Income Pearson regularized FTL   $0.807 (\\pm0.02)$   \n                                     Spearman regularized FTL  $0.806 (\\pm0.01)$   \n                                     Standard FTL (baseline)   $0.802 (\\pm0.02)$   \nMax(Acc - Stat. Parity) Adult Income Pearson regularized FTL   $0.813 (\\pm0.01)$   \n                                     Spearman regularized FTL  $0.809 (\\pm0.01)$   \n                                     Standard FTL (baseline)   $0.800 (\\pm0.02)$   \nMax(MCC - Eq. Odds)     Adult Income Standard FTL (baseline)   $0.553 (\\pm0.03)$   \n                                     Spearman regularized FTL  $0.542 (\\pm0.04)$   \n                                     Pearson regularized FTL   $0.527 (\\pm0.03)$   \nMax(MCC - Eq. Opp.)     Adult Income Pearson regularized FTL   $0.530 (\\pm0.02)$   \n                                     Spearman regularized FTL  $0.526 (\\pm0.01)$   \n                                     Standard FTL (baseline)   $0.516 (\\pm0.03)$   \nMax(MCC - Stat. Parity) Adult Income Pearson regularized FTL   $0.493 (\\pm0.02)$   \n                                     Standard FTL (baseline)   $0.487 (\\pm0.02)$   \n                                     Spearman regularized FTL  $0.476 (\\pm0.02)$   \n\n                                                              formatted_performance  \\\n                                                                                      \nFitness Rule Abvr       dataset      method                                           \nMax(Acc - Eq. Odds)     Adult Income Pearson regularized FTL      $0.844 (\\pm0.01)$   \n                                     Standard FTL (baseline)      $0.847 (\\pm0.00)$   \n                                     Spearman regularized FTL     $0.843 (\\pm0.00)$   \nMax(Acc - Eq. Opp.)     Adult Income Pearson regularized FTL      $0.844 (\\pm0.01)$   \n                                     Spearman regularized FTL     $0.843 (\\pm0.00)$   \n                                     Standard FTL (baseline)      $0.839 (\\pm0.01)$   \nMax(Acc - Stat. Parity) Adult Income Pearson regularized FTL      $0.828 (\\pm0.01)$   \n                                     Spearman regularized FTL     $0.825 (\\pm0.01)$   \n                                     Standard FTL (baseline)      $0.828 (\\pm0.01)$   \nMax(MCC - Eq. Odds)     Adult Income Standard FTL (baseline)      $0.581 (\\pm0.01)$   \n                                     Spearman regularized FTL     $0.581 (\\pm0.01)$   \n                                     Pearson regularized FTL      $0.576 (\\pm0.02)$   \nMax(MCC - Eq. Opp.)     Adult Income Pearson regularized FTL      $0.578 (\\pm0.01)$   \n                                     Spearman regularized FTL     $0.575 (\\pm0.01)$   \n                                     Standard FTL (baseline)      $0.569 (\\pm0.02)$   \nMax(MCC - Stat. Parity) Adult Income Pearson regularized FTL      $0.505 (\\pm0.02)$   \n                                     Standard FTL (baseline)      $0.505 (\\pm0.02)$   \n                                     Spearman regularized FTL     $0.500 (\\pm0.02)$   \n\n                                                              formatted_fairness  \n                                                                                  \nFitness Rule Abvr       dataset      method                                       \nMax(Acc - Eq. Odds)     Adult Income Pearson regularized FTL   $0.028 (\\pm0.02)$  \n                                     Standard FTL (baseline)   $0.034 (\\pm0.02)$  \n                                     Spearman regularized FTL  $0.050 (\\pm0.04)$  \nMax(Acc - Eq. Opp.)     Adult Income Pearson regularized FTL   $0.037 (\\pm0.01)$  \n                                     Spearman regularized FTL  $0.037 (\\pm0.01)$  \n                                     Standard FTL (baseline)   $0.037 (\\pm0.02)$  \nMax(Acc - Stat. Parity) Adult Income Pearson regularized FTL   $0.015 (\\pm0.01)$  \n                                     Spearman regularized FTL  $0.016 (\\pm0.01)$  \n                                     Standard FTL (baseline)   $0.028 (\\pm0.03)$  \nMax(MCC - Eq. Odds)     Adult Income Standard FTL (baseline)   $0.028 (\\pm0.03)$  \n                                     Spearman regularized FTL  $0.038 (\\pm0.03)$  \n                                     Pearson regularized FTL   $0.049 (\\pm0.03)$  \nMax(MCC - Eq. Opp.)     Adult Income Pearson regularized FTL   $0.048 (\\pm0.02)$  \n                                     Spearman regularized FTL  $0.048 (\\pm0.01)$  \n                                     Standard FTL (baseline)   $0.053 (\\pm0.02)$  \nMax(MCC - Stat. Parity) Adult Income Pearson regularized FTL   $0.012 (\\pm0.01)$  \n                                     Standard FTL (baseline)   $0.018 (\\pm0.02)$  \n                                     Spearman regularized FTL  $0.024 (\\pm0.02)$  ",
      "text/html": "<div>\n<style scoped>\n    .dataframe tbody tr th:only-of-type {\n        vertical-align: middle;\n    }\n\n    .dataframe tbody tr th {\n        vertical-align: top;\n    }\n\n    .dataframe thead tr th {\n        text-align: left;\n    }\n\n    .dataframe thead tr:last-of-type th {\n        text-align: right;\n    }\n</style>\n<table border=\"1\" class=\"dataframe\">\n  <thead>\n    <tr>\n      <th></th>\n      <th></th>\n      <th></th>\n      <th colspan=\"3\" halign=\"left\">fitness</th>\n      <th colspan=\"2\" halign=\"left\">Performance</th>\n      <th colspan=\"2\" halign=\"left\">Fairness</th>\n      <th>formatted_fitness</th>\n      <th>formatted_performance</th>\n      <th>formatted_fairness</th>\n    </tr>\n    <tr>\n      <th></th>\n      <th></th>\n      <th></th>\n      <th>mean</th>\n      <th>std</th>\n      <th>count</th>\n      <th>mean</th>\n      <th>std</th>\n      <th>mean</th>\n      <th>std</th>\n      <th></th>\n      <th></th>\n      <th></th>\n    </tr>\n    <tr>\n      <th>Fitness Rule Abvr</th>\n      <th>dataset</th>\n      <th>method</th>\n      <th></th>\n      <th></th>\n      <th></th>\n      <th></th>\n      <th></th>\n      <th></th>\n      <th></th>\n      <th></th>\n      <th></th>\n      <th></th>\n    </tr>\n  </thead>\n  <tbody>\n    <tr>\n      <th rowspan=\"3\" valign=\"top\">Max(Acc - Eq. Odds)</th>\n      <th rowspan=\"3\" valign=\"top\">Adult Income</th>\n      <th>Pearson regularized FTL</th>\n      <td>0.816440</td>\n      <td>0.024623</td>\n      <td>16</td>\n      <td>0.844002</td>\n      <td>0.009140</td>\n      <td>0.027562</td>\n      <td>0.022816</td>\n      <td>$0.816 (\\pm0.02)$</td>\n      <td>$0.844 (\\pm0.01)$</td>\n      <td>$0.028 (\\pm0.02)$</td>\n    </tr>\n    <tr>\n      <th>Standard FTL (baseline)</th>\n      <td>0.813400</td>\n      <td>0.021986</td>\n      <td>13</td>\n      <td>0.847098</td>\n      <td>0.002867</td>\n      <td>0.033698</td>\n      <td>0.021060</td>\n      <td>$0.813 (\\pm0.02)$</td>\n      <td>$0.847 (\\pm0.00)$</td>\n      <td>$0.034 (\\pm0.02)$</td>\n    </tr>\n    <tr>\n      <th>Spearman regularized FTL</th>\n      <td>0.793284</td>\n      <td>0.036451</td>\n      <td>12</td>\n      <td>0.843265</td>\n      <td>0.003187</td>\n      <td>0.049981</td>\n      <td>0.037638</td>\n      <td>$0.793 (\\pm0.04)$</td>\n      <td>$0.843 (\\pm0.00)$</td>\n      <td>$0.050 (\\pm0.04)$</td>\n    </tr>\n    <tr>\n      <th rowspan=\"3\" valign=\"top\">Max(Acc - Eq. Opp.)</th>\n      <th rowspan=\"3\" valign=\"top\">Adult Income</th>\n      <th>Pearson regularized FTL</th>\n      <td>0.806716</td>\n      <td>0.015056</td>\n      <td>16</td>\n      <td>0.843954</td>\n      <td>0.007224</td>\n      <td>0.037238</td>\n      <td>0.014540</td>\n      <td>$0.807 (\\pm0.02)$</td>\n      <td>$0.844 (\\pm0.01)$</td>\n      <td>$0.037 (\\pm0.01)$</td>\n    </tr>\n    <tr>\n      <th>Spearman regularized FTL</th>\n      <td>0.805827</td>\n      <td>0.011884</td>\n      <td>12</td>\n      <td>0.842500</td>\n      <td>0.003842</td>\n      <td>0.036674</td>\n      <td>0.011862</td>\n      <td>$0.806 (\\pm0.01)$</td>\n      <td>$0.843 (\\pm0.00)$</td>\n      <td>$0.037 (\\pm0.01)$</td>\n    </tr>\n    <tr>\n      <th>Standard FTL (baseline)</th>\n      <td>0.801817</td>\n      <td>0.015775</td>\n      <td>14</td>\n      <td>0.839035</td>\n      <td>0.008325</td>\n      <td>0.037218</td>\n      <td>0.017543</td>\n      <td>$0.802 (\\pm0.02)$</td>\n      <td>$0.839 (\\pm0.01)$</td>\n      <td>$0.037 (\\pm0.02)$</td>\n    </tr>\n    <tr>\n      <th rowspan=\"3\" valign=\"top\">Max(Acc - Stat. Parity)</th>\n      <th rowspan=\"3\" valign=\"top\">Adult Income</th>\n      <th>Pearson regularized FTL</th>\n      <td>0.813380</td>\n      <td>0.011659</td>\n      <td>16</td>\n      <td>0.828372</td>\n      <td>0.008529</td>\n      <td>0.014992</td>\n      <td>0.011506</td>\n      <td>$0.813 (\\pm0.01)$</td>\n      <td>$0.828 (\\pm0.01)$</td>\n      <td>$0.015 (\\pm0.01)$</td>\n    </tr>\n    <tr>\n      <th>Spearman regularized FTL</th>\n      <td>0.809098</td>\n      <td>0.012363</td>\n      <td>12</td>\n      <td>0.824912</td>\n      <td>0.009076</td>\n      <td>0.015814</td>\n      <td>0.008208</td>\n      <td>$0.809 (\\pm0.01)$</td>\n      <td>$0.825 (\\pm0.01)$</td>\n      <td>$0.016 (\\pm0.01)$</td>\n    </tr>\n    <tr>\n      <th>Standard FTL (baseline)</th>\n      <td>0.799946</td>\n      <td>0.023751</td>\n      <td>14</td>\n      <td>0.827561</td>\n      <td>0.008750</td>\n      <td>0.027615</td>\n      <td>0.026391</td>\n      <td>$0.800 (\\pm0.02)$</td>\n      <td>$0.828 (\\pm0.01)$</td>\n      <td>$0.028 (\\pm0.03)$</td>\n    </tr>\n    <tr>\n      <th rowspan=\"3\" valign=\"top\">Max(MCC - Eq. Odds)</th>\n      <th rowspan=\"3\" valign=\"top\">Adult Income</th>\n      <th>Standard FTL (baseline)</th>\n      <td>0.552515</td>\n      <td>0.029883</td>\n      <td>14</td>\n      <td>0.580809</td>\n      <td>0.010422</td>\n      <td>0.028294</td>\n      <td>0.028730</td>\n      <td>$0.553 (\\pm0.03)$</td>\n      <td>$0.581 (\\pm0.01)$</td>\n      <td>$0.028 (\\pm0.03)$</td>\n    </tr>\n    <tr>\n      <th>Spearman regularized FTL</th>\n      <td>0.542470</td>\n      <td>0.035399</td>\n      <td>12</td>\n      <td>0.580652</td>\n      <td>0.010257</td>\n      <td>0.038183</td>\n      <td>0.028510</td>\n      <td>$0.542 (\\pm0.04)$</td>\n      <td>$0.581 (\\pm0.01)$</td>\n      <td>$0.038 (\\pm0.03)$</td>\n    </tr>\n    <tr>\n      <th>Pearson regularized FTL</th>\n      <td>0.527102</td>\n      <td>0.033794</td>\n      <td>16</td>\n      <td>0.575703</td>\n      <td>0.018196</td>\n      <td>0.048601</td>\n      <td>0.032912</td>\n      <td>$0.527 (\\pm0.03)$</td>\n      <td>$0.576 (\\pm0.02)$</td>\n      <td>$0.049 (\\pm0.03)$</td>\n    </tr>\n    <tr>\n      <th rowspan=\"3\" valign=\"top\">Max(MCC - Eq. Opp.)</th>\n      <th rowspan=\"3\" valign=\"top\">Adult Income</th>\n      <th>Pearson regularized FTL</th>\n      <td>0.530239</td>\n      <td>0.015378</td>\n      <td>16</td>\n      <td>0.578205</td>\n      <td>0.013779</td>\n      <td>0.047966</td>\n      <td>0.017720</td>\n      <td>$0.530 (\\pm0.02)$</td>\n      <td>$0.578 (\\pm0.01)$</td>\n      <td>$0.048 (\\pm0.02)$</td>\n    </tr>\n    <tr>\n      <th>Spearman regularized FTL</th>\n      <td>0.526425</td>\n      <td>0.014108</td>\n      <td>12</td>\n      <td>0.574624</td>\n      <td>0.012236</td>\n      <td>0.048200</td>\n      <td>0.012006</td>\n      <td>$0.526 (\\pm0.01)$</td>\n      <td>$0.575 (\\pm0.01)$</td>\n      <td>$0.048 (\\pm0.01)$</td>\n    </tr>\n    <tr>\n      <th>Standard FTL (baseline)</th>\n      <td>0.516256</td>\n      <td>0.030559</td>\n      <td>14</td>\n      <td>0.569236</td>\n      <td>0.024584</td>\n      <td>0.052980</td>\n      <td>0.017663</td>\n      <td>$0.516 (\\pm0.03)$</td>\n      <td>$0.569 (\\pm0.02)$</td>\n      <td>$0.053 (\\pm0.02)$</td>\n    </tr>\n    <tr>\n      <th rowspan=\"3\" valign=\"top\">Max(MCC - Stat. Parity)</th>\n      <th rowspan=\"3\" valign=\"top\">Adult Income</th>\n      <th>Pearson regularized FTL</th>\n      <td>0.493097</td>\n      <td>0.021600</td>\n      <td>16</td>\n      <td>0.505210</td>\n      <td>0.019975</td>\n      <td>0.012113</td>\n      <td>0.008477</td>\n      <td>$0.493 (\\pm0.02)$</td>\n      <td>$0.505 (\\pm0.02)$</td>\n      <td>$0.012 (\\pm0.01)$</td>\n    </tr>\n    <tr>\n      <th>Standard FTL (baseline)</th>\n      <td>0.486983</td>\n      <td>0.018719</td>\n      <td>14</td>\n      <td>0.505311</td>\n      <td>0.022714</td>\n      <td>0.018328</td>\n      <td>0.018485</td>\n      <td>$0.487 (\\pm0.02)$</td>\n      <td>$0.505 (\\pm0.02)$</td>\n      <td>$0.018 (\\pm0.02)$</td>\n    </tr>\n    <tr>\n      <th>Spearman regularized FTL</th>\n      <td>0.475760</td>\n      <td>0.022828</td>\n      <td>12</td>\n      <td>0.500205</td>\n      <td>0.021246</td>\n      <td>0.024445</td>\n      <td>0.020216</td>\n      <td>$0.476 (\\pm0.02)$</td>\n      <td>$0.500 (\\pm0.02)$</td>\n      <td>$0.024 (\\pm0.02)$</td>\n    </tr>\n  </tbody>\n</table>\n</div>"
     },
     "execution_count": 77,
     "metadata": {},
     "output_type": "execute_result"
    }
   ],
   "source": [
    "grouped_results = results\\\n",
    "    .groupby(['Fitness Rule Abvr', 'dataset', 'method'])\\\n",
    "    .agg({'fitness': ['mean', 'std', 'count'], 'Performance': ['mean', 'std'], 'Fairness': ['mean', 'std']})\\\n",
    "    .sort_values(by=['Fitness Rule Abvr', 'dataset', ('fitness','mean')], ascending=False)\n",
    "grouped_results['formatted_fitness'] = grouped_results.apply(lambda row: f\"${row[('fitness', 'mean')]:.3f} (\\pm{row[('fitness', 'std')]:.2f})$\", axis=1)\n",
    "grouped_results['formatted_performance'] = grouped_results.apply(lambda row: f\"${row[('Performance', 'mean')]:.3f} (\\pm{row[('Performance', 'std')]:.2f})$\", axis=1)\n",
    "grouped_results['formatted_fairness'] = grouped_results.apply(lambda row: f\"${row[('Fairness', 'mean')]:.3f} (\\pm{row[('Fairness', 'std')]:.2f})$\", axis=1)\n",
    "grouped_results = grouped_results.sort_values(by=['Fitness Rule Abvr', 'dataset'])\n",
    "grouped_results"
   ],
   "metadata": {
    "collapsed": false,
    "ExecuteTime": {
     "end_time": "2024-05-01T02:22:07.064284429Z",
     "start_time": "2024-05-01T02:22:07.060001132Z"
    }
   }
  },
  {
   "cell_type": "code",
   "execution_count": 77,
   "outputs": [],
   "source": [],
   "metadata": {
    "collapsed": false,
    "ExecuteTime": {
     "end_time": "2024-05-01T02:22:07.064410924Z",
     "start_time": "2024-05-01T02:22:07.060210879Z"
    }
   }
  }
 ],
 "metadata": {
  "kernelspec": {
   "display_name": "Python 3 (ipykernel)",
   "language": "python",
   "name": "python3"
  },
  "language_info": {
   "codemirror_mode": {
    "name": "ipython",
    "version": 3
   },
   "file_extension": ".py",
   "mimetype": "text/x-python",
   "name": "python",
   "nbconvert_exporter": "python",
   "pygments_lexer": "ipython3",
   "version": "3.8.10"
  }
 },
 "nbformat": 4,
 "nbformat_minor": 1
}
