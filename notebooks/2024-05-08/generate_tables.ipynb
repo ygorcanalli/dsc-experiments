{
 "cells": [
  {
   "cell_type": "code",
   "execution_count": 1,
   "metadata": {
    "ExecuteTime": {
     "end_time": "2024-05-08T17:12:43.723264679Z",
     "start_time": "2024-05-08T17:12:37.655535238Z"
    }
   },
   "outputs": [
    {
     "name": "stderr",
     "output_type": "stream",
     "text": [
      "2024-05-08 14:12:41.588184: E external/local_xla/xla/stream_executor/cuda/cuda_dnn.cc:9261] Unable to register cuDNN factory: Attempting to register factory for plugin cuDNN when one has already been registered\n",
      "2024-05-08 14:12:41.588230: E external/local_xla/xla/stream_executor/cuda/cuda_fft.cc:607] Unable to register cuFFT factory: Attempting to register factory for plugin cuFFT when one has already been registered\n",
      "2024-05-08 14:12:41.589670: E external/local_xla/xla/stream_executor/cuda/cuda_blas.cc:1515] Unable to register cuBLAS factory: Attempting to register factory for plugin cuBLAS when one has already been registered\n",
      "2024-05-08 14:12:42.785064: W tensorflow/compiler/tf2tensorrt/utils/py_utils.cc:38] TF-TRT Warning: Could not find TensorRT\n"
     ]
    }
   ],
   "source": [
    "import pandas as pd\n",
    "import json\n",
    "import os\n",
    "import deepsig\n",
    "from IPython.display import display"
   ]
  },
  {
   "cell_type": "code",
   "execution_count": 2,
   "metadata": {
    "ExecuteTime": {
     "end_time": "2024-05-08T17:12:43.763079019Z",
     "start_time": "2024-05-08T17:12:43.724868936Z"
    }
   },
   "outputs": [],
   "source": [
    "cols = ['dataset', 'method', 'fitness_rule', 'fitness', 'ACC', 'MCC', 'f1_score', 'avg_odds_diff', 'stat_par_diff', 'eq_opp_diff']"
   ]
  },
  {
   "cell_type": "code",
   "execution_count": 3,
   "metadata": {
    "ExecuteTime": {
     "end_time": "2024-05-08T17:12:43.770919557Z",
     "start_time": "2024-05-08T17:12:43.731457839Z"
    }
   },
   "outputs": [],
   "source": [
    "mlp_baseline_results = pd.read_csv('mlp_baseline_results.csv')\n",
    "mlp_baseline_results.replace({'simple_mlp_initializer': 'Standard MLP (baseline)'}, inplace=True)\n",
    "\n",
    "mlp_pearson_results = pd.read_csv('mlp_pearson_results.csv')\n",
    "mlp_pearson_results.replace({'mlp_preg_initializer': 'Pearson regularized MLP'}, inplace=True)\n",
    "\n",
    "mlp_spearman_results = pd.read_csv('mlp_spearman_results.csv')\n",
    "mlp_spearman_results.replace({'mlp_sreg_initializer': 'Spearman regularized MLP'}, inplace=True)\n",
    "\n",
    "mlp_auto_reg_results = pd.read_csv('mlp_auto_reg_results.csv')\n",
    "mlp_auto_reg_results.replace({'mlp_auto_reg_initializer': 'Auto corr regularized MLP'}, inplace=True)\n",
    "\n",
    "mlp_results = pd.concat([mlp_baseline_results, mlp_pearson_results, mlp_spearman_results, mlp_auto_reg_results])\n",
    "\n",
    "ftl_baseline_results = pd.read_csv('ftl_baseline_results.csv')\n",
    "ftl_baseline_results.replace({'ftl_mlp_initializer': 'Standard FTL (baseline)'}, inplace=True)\n",
    "\n",
    "ftl_pearson_results = pd.read_csv('ftl_pearson_results.csv')\n",
    "ftl_pearson_results.replace({'ftl_mlp_preg_initializer': 'Pearson regularized FTL'}, inplace=True)\n",
    "\n",
    "ftl_spearman_results = pd.read_csv('ftl_spearman_results.csv')\n",
    "ftl_spearman_results.replace({'ftl_mlp_sreg_initializer': 'Spearman regularized FTL'}, inplace=True)\n",
    "\n",
    "ftl_results = pd.concat([ftl_baseline_results, ftl_pearson_results, ftl_spearman_results])"
   ]
  },
  {
   "cell_type": "markdown",
   "source": [],
   "metadata": {
    "collapsed": false
   }
  },
  {
   "cell_type": "code",
   "execution_count": 4,
   "outputs": [],
   "source": [
    "for results in [mlp_results,ftl_results]:\n",
    "    results.replace({'adult_dataset_reader': 'Adult Income', 'compas_dataset_reader': 'Compas Recidivism', 'german_dataset_reader': 'German Credit', 'bank_dataset_reader': 'Bank Marketing'}, inplace=True)\n",
    "    results.rename(columns={'avg_odds_diff': 'Equalized Odds', 'stat_par_diff': 'Statistical Parity', 'eq_opp_diff': 'Equal Opportunity', 'MCC': 'Mathew Correlation', 'ACC': 'Accuracy'}, inplace=True)"
   ],
   "metadata": {
    "collapsed": false,
    "ExecuteTime": {
     "end_time": "2024-05-08T17:12:43.793798697Z",
     "start_time": "2024-05-08T17:12:43.770862536Z"
    }
   }
  },
  {
   "cell_type": "code",
   "execution_count": 5,
   "metadata": {
    "ExecuteTime": {
     "end_time": "2024-05-08T17:12:43.835354962Z",
     "start_time": "2024-05-08T17:12:43.783206316Z"
    }
   },
   "outputs": [
    {
     "name": "stderr",
     "output_type": "stream",
     "text": [
      "/tmp/ipykernel_16423/3607436483.py:32: FutureWarning: Setting an item of incompatible dtype is deprecated and will raise in a future error of pandas. Value '[0.58517004 0.58512823 0.5840247  0.5836371  0.57625737 0.5769683\n",
      " 0.58075151 0.57811729 0.57147862 0.55847176 0.56402881 0.58191431\n",
      " 0.58343253 0.57740222 0.51579307 0.30958237 0.37962947 0.55899189\n",
      " 0.53558872 0.2598879  0.57717035 0.50086739 0.33275221 0.37929293\n",
      " 0.47729109 0.29196869 0.29037704 0.52303609 0.27480633 0.38668781\n",
      " 0.50626951 0.29960979 0.4042848  0.52119218 0.2936422  0.33522388\n",
      " 0.49730721 0.25112662 0.35119067 0.510052   0.26843855 0.36081008\n",
      " 0.52157495 0.30114722 0.42995147 0.48267704 0.29056691 0.23139881\n",
      " 0.54223416 0.23653437 0.27041017 0.52121263 0.25759348 0.23912165\n",
      " 0.5223892  0.27406652 0.22303564 0.54094974 0.27699558 0.30939251\n",
      " 0.51731345 0.30339828 0.37825089 0.52113734 0.26323857 0.33963196\n",
      " 0.5538225  0.27850228 0.30234984 0.51877126 0.29494101 0.2648939\n",
      " 0.52742877 0.24492927 0.13407928 0.53530394 0.29087766 0.26820576\n",
      " 0.55204731 0.29318377 0.14015216 0.51983069 0.3145689  0.47077449\n",
      " 0.50770986 0.28880123 0.29866465 0.5180664  0.29093567 0.3636368\n",
      " 0.53289704 0.29737768 0.38084556 0.54328387 0.28002914 0.28232519\n",
      " 0.53457987 0.27840735 0.33593551 0.51796238 0.25832521 0.35528234\n",
      " 0.51043886 0.30283203 0.40103589 0.57466433 0.51930203 0.25052381\n",
      " 0.30794088 0.58313411 0.57795296 0.54079623 0.25897255 0.4042125\n",
      " 0.57206622 0.518845   0.30638323 0.32257035 0.57976269 0.57647678\n",
      " 0.52642995 0.28724449 0.26433395 0.59264796 0.58906505 0.50296471\n",
      " 0.32061516 0.20426879 0.5783063  0.54125565 0.25533358 0.31398373\n",
      " 0.57382763 0.5723922  0.48248932 0.30709543 0.38579506 0.57159192\n",
      " 0.5716689  0.52992626 0.32019291 0.39453249 0.56169778 0.50406749\n",
      " 0.33793641 0.34602453 0.57926553]' has dtype incompatible with int64, please explicitly cast to a compatible dtype first.\n",
      "  results.loc[results.fitness_rule == fitness_rule,'Performance'] = results.loc[results.fitness_rule == fitness_rule,performance_metric]\n",
      "/tmp/ipykernel_16423/3607436483.py:33: FutureWarning: Setting an item of incompatible dtype is deprecated and will raise in a future error of pandas. Value '[0.19263281 0.18664775 0.20096652 0.19289642 0.19661682 0.17761564\n",
      " 0.19442911 0.19755228 0.19564214 0.19166634 0.18299811 0.17482095\n",
      " 0.20208162 0.18919863 0.1076907  0.21583464 0.07390198 0.18518896\n",
      " 0.01873928 0.21915752 0.00551471 0.06514573 0.27067494 0.10218254\n",
      " 0.09458935 0.20988634 0.15838547 0.0800928  0.22152457 0.04387464\n",
      " 0.0698734  0.21395877 0.         0.07046605 0.25600325 0.1\n",
      " 0.07839351 0.17845842 0.13362425 0.11385009 0.16165928 0.\n",
      " 0.07603398 0.22394599 0.10042067 0.07235512 0.17623094 0.05055147\n",
      " 0.10296647 0.13012843 0.01648841 0.12773041 0.23588101 0.01650837\n",
      " 0.10756357 0.22188463 0.04937755 0.08539799 0.27225208 0.04945055\n",
      " 0.1169952  0.18031026 0.07824514 0.11302381 0.1631723  0.01426025\n",
      " 0.09060303 0.26465511 0.05714286 0.07375941 0.25392869 0.15238095\n",
      " 0.06855833 0.14339139 0.05262482 0.10162526 0.17983738 0.03803214\n",
      " 0.11029739 0.21594265 0.04387464 0.09458175 0.21238761 0.13355998\n",
      " 0.12944543 0.23496771 0.10218254 0.11806774 0.24894357 0.05213764\n",
      " 0.07004917 0.17350555 0.01190476 0.12817972 0.20515527 0.02175742\n",
      " 0.07890663 0.15151805 0.03740065 0.08916093 0.22800167 0.09285714\n",
      " 0.09422782 0.21502555 0.12557513 0.19673904 0.07724191 0.18208848\n",
      " 0.05189291 0.1979969  0.16262277 0.09982972 0.15384795 0.09926471\n",
      " 0.18815544 0.0974843  0.24042647 0.03439867 0.19958771 0.17527401\n",
      " 0.13034124 0.19933198 0.2        0.19799709 0.20457963 0.08334361\n",
      " 0.15514718 0.12602402 0.19743834 0.08816558 0.28631322 0.06373626\n",
      " 0.18567119 0.18128896 0.08486689 0.24630312 0.20436508 0.17972498\n",
      " 0.19435242 0.0644417  0.21836983 0.15061906 0.1713737  0.14661742\n",
      " 0.18850006 0.09561216 0.17753449]' has dtype incompatible with int64, please explicitly cast to a compatible dtype first.\n",
      "  results.loc[results.fitness_rule == fitness_rule,'Fairness'] = results.loc[results.fitness_rule == fitness_rule,fairness_metric]\n",
      "/tmp/ipykernel_16423/3607436483.py:32: FutureWarning: Setting an item of incompatible dtype is deprecated and will raise in a future error of pandas. Value '[0.52530243 0.57125798 0.26719272 0.56423655 0.29766735 0.36058206\n",
      " 0.55945517 0.29521281 0.33972048 0.55905592 0.28944609 0.32121258\n",
      " 0.57663382 0.2155363  0.38625136 0.55988104 0.49558867 0.47660518\n",
      " 0.53020884 0.49731155 0.48088379 0.50936495 0.52610501 0.50501965\n",
      " 0.49517103 0.52255177 0.48277552 0.49360563 0.49928347 0.50500387\n",
      " 0.58303781 0.28510358 0.57064789 0.27474775 0.36389844 0.57728732\n",
      " 0.29373387 0.36565654 0.5693713  0.28971752 0.29725949 0.58527213\n",
      " 0.30706814 0.37073365 0.49428572 0.50830079 0.5315851  0.49084885\n",
      " 0.49727459 0.52602458 0.51498102 0.49446574 0.52981801 0.51333191\n",
      " 0.51460142 0.49477946 0.4559726  0.49333343 0.53090834 0.49284321\n",
      " 0.54263684 0.5687672  0.2767434  0.57617156 0.2554996  0.34753417\n",
      " 0.58020523 0.283334   0.40006041 0.5756102  0.29786409 0.3544721\n",
      " 0.59892475 0.30361592 0.14995343 0.48727491 0.46760391 0.48532912\n",
      " 0.48816006 0.49060769 0.50033309 0.54306751 0.52179051 0.4829124\n",
      " 0.51199556 0.52334945 0.50003926]' has dtype incompatible with int64, please explicitly cast to a compatible dtype first.\n",
      "  results.loc[results.fitness_rule == fitness_rule,'Performance'] = results.loc[results.fitness_rule == fitness_rule,performance_metric]\n",
      "/tmp/ipykernel_16423/3607436483.py:33: FutureWarning: Setting an item of incompatible dtype is deprecated and will raise in a future error of pandas. Value '[0.03014368 0.03368986 0.01061935 0.04884345 0.00318869 0.04725275\n",
      " 0.07879247 0.00767757 0.12307692 0.07240013 0.05023218 0.17032427\n",
      " 0.01610486 0.01464497 0.04113081 0.06563524 0.00434914 0.02991623\n",
      " 0.03287846 0.03464132 0.0015824  0.00711975 0.00623328 0.00497483\n",
      " 0.00291418 0.02981982 0.0109755  0.02228438 0.00327132 0.01216245\n",
      " 0.04624347 0.00041791 0.05460093 0.03296841 0.06965872 0.03489992\n",
      " 0.01304782 0.01578436 0.01949528 0.11716449 0.08333333 0.02850596\n",
      " 0.04842768 0.03505201 0.02537383 0.00143259 0.01617422 0.01169424\n",
      " 0.01656405 0.02579937 0.00583962 0.01503756 0.00376432 0.00064319\n",
      " 0.00965313 0.02342952 0.01174198 0.00202581 0.01859382 0.00603458\n",
      " 0.05387693 0.02277092 0.11169731 0.06811542 0.0115071  0.02080411\n",
      " 0.01378335 0.06282923 0.12746902 0.05982608 0.0039672  0.17064049\n",
      " 0.00160378 0.05113048 0.1996997  0.01774073 0.0244613  0.05969289\n",
      " 0.00814399 0.01136305 0.00834383 0.0523313  0.02800188 0.01513682\n",
      " 0.0100883  0.05535489 0.00268151]' has dtype incompatible with int64, please explicitly cast to a compatible dtype first.\n",
      "  results.loc[results.fitness_rule == fitness_rule,'Fairness'] = results.loc[results.fitness_rule == fitness_rule,fairness_metric]\n"
     ]
    }
   ],
   "source": [
    "fitness_rules_target_metrics = {\n",
    "    'mcc_parity': {'performance': 'Mathew Correlation', 'fairness': 'Statistical Parity'},\n",
    "    'mcc_opportunity': {'performance': 'Mathew Correlation', 'fairness': 'Equal Opportunity'},\n",
    "    'mcc_odds': {'performance': 'Mathew Correlation', 'fairness': 'Equalized Odds'},\n",
    "    'acc_parity': {'performance': 'Accuracy', 'fairness': 'Statistical Parity'},\n",
    "    'acc_opportunity': {'performance': 'Accuracy', 'fairness': 'Equal Opportunity'},\n",
    "    'acc_odds': {'performance': 'Accuracy', 'fairness': 'Equalized Odds'}\n",
    "}\n",
    "\n",
    "fitness_rules_target_metrics = {\n",
    "    'mcc_parity': ('Mathew Correlation', 'Statistical Parity'),\n",
    "    'mcc_opportunity': ('Mathew Correlation', 'Equal Opportunity'),\n",
    "    'mcc_odds': ('Mathew Correlation', 'Equalized Odds'),\n",
    "    'acc_parity': ('Accuracy', 'Statistical Parity'),\n",
    "    'acc_opportunity': ('Accuracy', 'Equal Opportunity'),\n",
    "    'acc_odds': ('Accuracy', 'Equalized Odds')\n",
    "}\n",
    "fitness_rules_abvr = {\n",
    "    'mcc_parity': 'Max(MCC - Stat. Parity)',\n",
    "    'mcc_opportunity': 'Max(MCC - Eq. Odds)',\n",
    "    'mcc_odds': 'Max(MCC - Eq. Opp.)',\n",
    "    'acc_parity': 'Max(Acc - Stat. Parity)',\n",
    "    'acc_opportunity': 'Max(Acc - Eq. Odds)',\n",
    "    'acc_odds': 'Max(Acc - Eq. Opp.)'\n",
    "}\n",
    "\n",
    "for results in [mlp_results,ftl_results]:\n",
    "    results['Performance'] = 0\n",
    "    results['Fairness'] = 0\n",
    "    results['Fitness Rule'] = ''\n",
    "    for fitness_rule, (performance_metric, fairness_metric) in fitness_rules_target_metrics.items():\n",
    "        results.loc[results.fitness_rule == fitness_rule,'Performance'] = results.loc[results.fitness_rule == fitness_rule,performance_metric]\n",
    "        results.loc[results.fitness_rule == fitness_rule,'Fairness'] = results.loc[results.fitness_rule == fitness_rule,fairness_metric]\n",
    "        results.loc[results.fitness_rule == fitness_rule,'Fitness Rule Abvr'] = fitness_rules_abvr[fitness_rule]\n",
    "        results.loc[results.fitness_rule == fitness_rule,'Fitness Rule'] = 'Max(%s - %s)' % fitness_rules_target_metrics[fitness_rule]"
   ]
  },
  {
   "cell_type": "code",
   "execution_count": 6,
   "metadata": {
    "ExecuteTime": {
     "end_time": "2024-05-08T17:12:43.850970173Z",
     "start_time": "2024-05-08T17:12:43.828083324Z"
    }
   },
   "outputs": [
    {
     "data": {
      "text/plain": "          dataset                     method     fitness_rule   fitness  \\\n0    Adult Income    Standard MLP (baseline)       mcc_parity  0.392537   \n1    Adult Income    Standard MLP (baseline)         mcc_odds  0.473935   \n2    Adult Income    Standard MLP (baseline)  mcc_opportunity  0.460175   \n3    Adult Income    Standard MLP (baseline)       acc_parity  0.661796   \n4    Adult Income    Standard MLP (baseline)         acc_odds  0.766170   \n..            ...                        ...              ...       ...   \n75  German Credit  Auto corr regularized MLP         acc_odds  0.590270   \n76  German Credit  Auto corr regularized MLP  acc_opportunity  0.733810   \n77   Adult Income  Auto corr regularized MLP       mcc_parity  0.401731   \n78   Adult Income  Auto corr regularized MLP         mcc_odds  0.491259   \n79   Adult Income  Auto corr regularized MLP  mcc_opportunity  0.460511   \n\n    Accuracy  Mathew Correlation  Equalized Odds  Statistical Parity  \\\n0   0.851299            0.585170        0.113127            0.192633   \n1   0.851520            0.585500        0.111565            0.198915   \n2   0.851410            0.585064        0.103235            0.191606   \n3   0.844887            0.565373        0.082386            0.183090   \n4   0.850857            0.577932        0.084687            0.180366   \n..       ...                 ...             ...                 ...   \n75  0.710000            0.297044        0.119730            0.126217   \n76  0.760000            0.313761        0.142903            0.088294   \n77  0.850304            0.579266        0.063586            0.177534   \n78  0.847430            0.569120        0.077861            0.174510   \n79  0.847430            0.580357        0.106897            0.209313   \n\n    Equal Opportunity                                 solution  Performance  \\\n0            0.142532         {'dropout': 0.16228954240968418}     0.585170   \n1            0.132052          {'dropout': 0.1482543145261793}     0.585500   \n2            0.124889         {'dropout': 0.17861515209545933}     0.585064   \n3            0.084174         {'dropout': 0.15655371267306142}     0.844887   \n4            0.093891          {'dropout': 0.1698638434734938}     0.850857   \n..                ...                                      ...          ...   \n75           0.152503       {'l2': 0.001, 'corr_type': 'none'}     0.710000   \n76           0.026190  {'l2': 0.0001, 'corr_type': 'spearman'}     0.760000   \n77           0.051343    {'l2': 0.01, 'corr_type': 'spearman'}     0.579266   \n78           0.083271        {'l2': 0.01, 'corr_type': 'none'}     0.569120   \n79           0.119846        {'l2': 0.01, 'corr_type': 'none'}     0.580357   \n\n    Fairness                                  Fitness Rule  \\\n0   0.192633  Max(Mathew Correlation - Statistical Parity)   \n1   0.111565      Max(Mathew Correlation - Equalized Odds)   \n2   0.124889   Max(Mathew Correlation - Equal Opportunity)   \n3   0.183090            Max(Accuracy - Statistical Parity)   \n4   0.084687                Max(Accuracy - Equalized Odds)   \n..       ...                                           ...   \n75  0.119730                Max(Accuracy - Equalized Odds)   \n76  0.026190             Max(Accuracy - Equal Opportunity)   \n77  0.177534  Max(Mathew Correlation - Statistical Parity)   \n78  0.077861      Max(Mathew Correlation - Equalized Odds)   \n79  0.119846   Max(Mathew Correlation - Equal Opportunity)   \n\n          Fitness Rule Abvr  \n0   Max(MCC - Stat. Parity)  \n1       Max(MCC - Eq. Opp.)  \n2       Max(MCC - Eq. Odds)  \n3   Max(Acc - Stat. Parity)  \n4       Max(Acc - Eq. Opp.)  \n..                      ...  \n75      Max(Acc - Eq. Opp.)  \n76      Max(Acc - Eq. Odds)  \n77  Max(MCC - Stat. Parity)  \n78      Max(MCC - Eq. Opp.)  \n79      Max(MCC - Eq. Odds)  \n\n[866 rows x 14 columns]",
      "text/html": "<div>\n<style scoped>\n    .dataframe tbody tr th:only-of-type {\n        vertical-align: middle;\n    }\n\n    .dataframe tbody tr th {\n        vertical-align: top;\n    }\n\n    .dataframe thead th {\n        text-align: right;\n    }\n</style>\n<table border=\"1\" class=\"dataframe\">\n  <thead>\n    <tr style=\"text-align: right;\">\n      <th></th>\n      <th>dataset</th>\n      <th>method</th>\n      <th>fitness_rule</th>\n      <th>fitness</th>\n      <th>Accuracy</th>\n      <th>Mathew Correlation</th>\n      <th>Equalized Odds</th>\n      <th>Statistical Parity</th>\n      <th>Equal Opportunity</th>\n      <th>solution</th>\n      <th>Performance</th>\n      <th>Fairness</th>\n      <th>Fitness Rule</th>\n      <th>Fitness Rule Abvr</th>\n    </tr>\n  </thead>\n  <tbody>\n    <tr>\n      <th>0</th>\n      <td>Adult Income</td>\n      <td>Standard MLP (baseline)</td>\n      <td>mcc_parity</td>\n      <td>0.392537</td>\n      <td>0.851299</td>\n      <td>0.585170</td>\n      <td>0.113127</td>\n      <td>0.192633</td>\n      <td>0.142532</td>\n      <td>{'dropout': 0.16228954240968418}</td>\n      <td>0.585170</td>\n      <td>0.192633</td>\n      <td>Max(Mathew Correlation - Statistical Parity)</td>\n      <td>Max(MCC - Stat. Parity)</td>\n    </tr>\n    <tr>\n      <th>1</th>\n      <td>Adult Income</td>\n      <td>Standard MLP (baseline)</td>\n      <td>mcc_odds</td>\n      <td>0.473935</td>\n      <td>0.851520</td>\n      <td>0.585500</td>\n      <td>0.111565</td>\n      <td>0.198915</td>\n      <td>0.132052</td>\n      <td>{'dropout': 0.1482543145261793}</td>\n      <td>0.585500</td>\n      <td>0.111565</td>\n      <td>Max(Mathew Correlation - Equalized Odds)</td>\n      <td>Max(MCC - Eq. Opp.)</td>\n    </tr>\n    <tr>\n      <th>2</th>\n      <td>Adult Income</td>\n      <td>Standard MLP (baseline)</td>\n      <td>mcc_opportunity</td>\n      <td>0.460175</td>\n      <td>0.851410</td>\n      <td>0.585064</td>\n      <td>0.103235</td>\n      <td>0.191606</td>\n      <td>0.124889</td>\n      <td>{'dropout': 0.17861515209545933}</td>\n      <td>0.585064</td>\n      <td>0.124889</td>\n      <td>Max(Mathew Correlation - Equal Opportunity)</td>\n      <td>Max(MCC - Eq. Odds)</td>\n    </tr>\n    <tr>\n      <th>3</th>\n      <td>Adult Income</td>\n      <td>Standard MLP (baseline)</td>\n      <td>acc_parity</td>\n      <td>0.661796</td>\n      <td>0.844887</td>\n      <td>0.565373</td>\n      <td>0.082386</td>\n      <td>0.183090</td>\n      <td>0.084174</td>\n      <td>{'dropout': 0.15655371267306142}</td>\n      <td>0.844887</td>\n      <td>0.183090</td>\n      <td>Max(Accuracy - Statistical Parity)</td>\n      <td>Max(Acc - Stat. Parity)</td>\n    </tr>\n    <tr>\n      <th>4</th>\n      <td>Adult Income</td>\n      <td>Standard MLP (baseline)</td>\n      <td>acc_odds</td>\n      <td>0.766170</td>\n      <td>0.850857</td>\n      <td>0.577932</td>\n      <td>0.084687</td>\n      <td>0.180366</td>\n      <td>0.093891</td>\n      <td>{'dropout': 0.1698638434734938}</td>\n      <td>0.850857</td>\n      <td>0.084687</td>\n      <td>Max(Accuracy - Equalized Odds)</td>\n      <td>Max(Acc - Eq. Opp.)</td>\n    </tr>\n    <tr>\n      <th>...</th>\n      <td>...</td>\n      <td>...</td>\n      <td>...</td>\n      <td>...</td>\n      <td>...</td>\n      <td>...</td>\n      <td>...</td>\n      <td>...</td>\n      <td>...</td>\n      <td>...</td>\n      <td>...</td>\n      <td>...</td>\n      <td>...</td>\n      <td>...</td>\n    </tr>\n    <tr>\n      <th>75</th>\n      <td>German Credit</td>\n      <td>Auto corr regularized MLP</td>\n      <td>acc_odds</td>\n      <td>0.590270</td>\n      <td>0.710000</td>\n      <td>0.297044</td>\n      <td>0.119730</td>\n      <td>0.126217</td>\n      <td>0.152503</td>\n      <td>{'l2': 0.001, 'corr_type': 'none'}</td>\n      <td>0.710000</td>\n      <td>0.119730</td>\n      <td>Max(Accuracy - Equalized Odds)</td>\n      <td>Max(Acc - Eq. Opp.)</td>\n    </tr>\n    <tr>\n      <th>76</th>\n      <td>German Credit</td>\n      <td>Auto corr regularized MLP</td>\n      <td>acc_opportunity</td>\n      <td>0.733810</td>\n      <td>0.760000</td>\n      <td>0.313761</td>\n      <td>0.142903</td>\n      <td>0.088294</td>\n      <td>0.026190</td>\n      <td>{'l2': 0.0001, 'corr_type': 'spearman'}</td>\n      <td>0.760000</td>\n      <td>0.026190</td>\n      <td>Max(Accuracy - Equal Opportunity)</td>\n      <td>Max(Acc - Eq. Odds)</td>\n    </tr>\n    <tr>\n      <th>77</th>\n      <td>Adult Income</td>\n      <td>Auto corr regularized MLP</td>\n      <td>mcc_parity</td>\n      <td>0.401731</td>\n      <td>0.850304</td>\n      <td>0.579266</td>\n      <td>0.063586</td>\n      <td>0.177534</td>\n      <td>0.051343</td>\n      <td>{'l2': 0.01, 'corr_type': 'spearman'}</td>\n      <td>0.579266</td>\n      <td>0.177534</td>\n      <td>Max(Mathew Correlation - Statistical Parity)</td>\n      <td>Max(MCC - Stat. Parity)</td>\n    </tr>\n    <tr>\n      <th>78</th>\n      <td>Adult Income</td>\n      <td>Auto corr regularized MLP</td>\n      <td>mcc_odds</td>\n      <td>0.491259</td>\n      <td>0.847430</td>\n      <td>0.569120</td>\n      <td>0.077861</td>\n      <td>0.174510</td>\n      <td>0.083271</td>\n      <td>{'l2': 0.01, 'corr_type': 'none'}</td>\n      <td>0.569120</td>\n      <td>0.077861</td>\n      <td>Max(Mathew Correlation - Equalized Odds)</td>\n      <td>Max(MCC - Eq. Opp.)</td>\n    </tr>\n    <tr>\n      <th>79</th>\n      <td>Adult Income</td>\n      <td>Auto corr regularized MLP</td>\n      <td>mcc_opportunity</td>\n      <td>0.460511</td>\n      <td>0.847430</td>\n      <td>0.580357</td>\n      <td>0.106897</td>\n      <td>0.209313</td>\n      <td>0.119846</td>\n      <td>{'l2': 0.01, 'corr_type': 'none'}</td>\n      <td>0.580357</td>\n      <td>0.119846</td>\n      <td>Max(Mathew Correlation - Equal Opportunity)</td>\n      <td>Max(MCC - Eq. Odds)</td>\n    </tr>\n  </tbody>\n</table>\n<p>866 rows × 14 columns</p>\n</div>"
     },
     "metadata": {},
     "output_type": "display_data"
    }
   ],
   "source": [
    "display(mlp_results)"
   ]
  },
  {
   "cell_type": "code",
   "execution_count": 7,
   "metadata": {
    "ExecuteTime": {
     "end_time": "2024-05-08T17:12:43.875398119Z",
     "start_time": "2024-05-08T17:12:43.848129722Z"
    }
   },
   "outputs": [
    {
     "data": {
      "text/plain": "['Adult Income', 'Bank Marketing', 'Compas Recidivism', 'German Credit']"
     },
     "execution_count": 7,
     "metadata": {},
     "output_type": "execute_result"
    }
   ],
   "source": [
    "datasets = ['Adult Income', 'Bank Marketing', 'Compas Recidivism','German Credit']\n",
    "datasets"
   ]
  },
  {
   "cell_type": "code",
   "execution_count": 8,
   "metadata": {
    "ExecuteTime": {
     "end_time": "2024-05-08T17:12:44.064955574Z",
     "start_time": "2024-05-08T17:12:43.868151358Z"
    }
   },
   "outputs": [
    {
     "data": {
      "text/plain": "['mcc_parity',\n 'mcc_opportunity',\n 'mcc_odds',\n 'acc_parity',\n 'acc_opportunity',\n 'acc_odds']"
     },
     "execution_count": 8,
     "metadata": {},
     "output_type": "execute_result"
    }
   ],
   "source": [
    "fitness_rules = ['mcc_parity', 'mcc_opportunity', 'mcc_odds', 'acc_parity', 'acc_opportunity', 'acc_odds']\n",
    "fitness_rules"
   ]
  },
  {
   "cell_type": "code",
   "execution_count": 14,
   "metadata": {
    "ExecuteTime": {
     "end_time": "2024-05-08T17:54:52.978682083Z",
     "start_time": "2024-05-08T17:54:52.889993581Z"
    }
   },
   "outputs": [],
   "source": [
    "ftl_methods = ['Standard FTL (baseline)', 'Pearson regularized FTL', 'Spearman regularized FTL']\n",
    "mlp_methods = ['Standard MLP (baseline)', 'Pearson regularized MLP', 'Spearman regularized MLP', 'Auto corr regularized MLP']\n",
    "significances = []\n",
    "grouped_results_list = []"
   ]
  },
  {
   "cell_type": "code",
   "execution_count": 15,
   "outputs": [
    {
     "name": "stdout",
     "output_type": "stream",
     "text": [
      "Significance Testing\n",
      "Significance Testing\n"
     ]
    }
   ],
   "source": [
    "for path, methods, results in zip(['mlp_multi_aso_data_list.json', 'ftl_multi_aso_data_list.json'],\n",
    "                                  [mlp_methods, ftl_methods],\n",
    "                                  (mlp_results,ftl_results)):\n",
    "    if os.path.exists(path):\n",
    "        with open(path) as file:\n",
    "            multi_aso_data_list = json.load(file)\n",
    "    else:    \n",
    "        multi_aso_data_list = []\n",
    "        for d in datasets:\n",
    "            multi_aso_data = []\n",
    "            for f in fitness_rules:\n",
    "                methods_results = []\n",
    "                for m in methods:\n",
    "                    r = results.loc[ (results['dataset'] == d) &\n",
    "                                         (results['fitness_rule'] == f) &\n",
    "                                         (results['method'] == m) ]\\\n",
    "                                .fitness.tolist()\n",
    "                    if len(r) == 0:\n",
    "                        r = [-1]\n",
    "                    methods_results.append(r)\n",
    "                min_eps = deepsig.multi_aso(methods_results, confidence_level=0.95)\n",
    "                multi_aso_data_list.append({'fitness_rule': f, 'dataset': d, 'min_eps': min_eps.tolist()})\n",
    "        with open(path, 'w') as file:\n",
    "            json.dump(multi_aso_data_list, file)\n",
    "    \n",
    "    aso_df_resume = []\n",
    "    for aso_result in sorted(multi_aso_data_list, key=lambda x: x['dataset']):\n",
    "        fitness_rule = aso_result['fitness_rule']\n",
    "        dataset = aso_result['dataset']\n",
    "    \n",
    "        aso_df = pd.DataFrame(aso_result['min_eps'], columns=methods)\n",
    "        aso_df['method'] = methods\n",
    "        aso_df['dataset'] = dataset\n",
    "        aso_df['fitness_rule'] = fitness_rule\n",
    "        aso_df_resume.append(aso_df)\n",
    "    \n",
    "    print('Significance Testing')\n",
    "    significance = pd.concat(aso_df_resume)\n",
    "    significance.replace(fitness_rules_abvr, inplace=True)\n",
    "    significance = significance.set_index(['fitness_rule', 'dataset'])\n",
    "    significance = significance.sort_values(by=['fitness_rule', 'dataset'], ascending=[False, True])\n",
    "    significances.append(significance)\n",
    "    \n",
    "    grouped_results = results\\\n",
    "        .groupby(['Fitness Rule Abvr', 'dataset', 'method'])\\\n",
    "        .agg({'fitness': ['mean', 'std', 'count'], 'Performance': ['mean', 'std'], 'Fairness': ['mean', 'std']})\\\n",
    "        .sort_values(by=['Fitness Rule Abvr', 'dataset', ('fitness','mean')], ascending=False)\n",
    "    grouped_results['formatted_fitness'] = grouped_results.apply(lambda row: f\"${row[('fitness', 'mean')]:.3f} (\\pm{row[('fitness', 'std')]:.2f})$\", axis=1)\n",
    "    grouped_results['formatted_performance'] = grouped_results.apply(lambda row: f\"${row[('Performance', 'mean')]:.3f} (\\pm{row[('Performance', 'std')]:.2f})$\", axis=1)\n",
    "    grouped_results['formatted_fairness'] = grouped_results.apply(lambda row: f\"${row[('Fairness', 'mean')]:.3f} (\\pm{row[('Fairness', 'std')]:.2f})$\", axis=1)\n",
    "    grouped_results = grouped_results.sort_values(by=['Fitness Rule Abvr', 'dataset'])\n",
    "    grouped_results_list.append(grouped_results)"
   ],
   "metadata": {
    "collapsed": false,
    "ExecuteTime": {
     "end_time": "2024-05-08T17:54:53.593717929Z",
     "start_time": "2024-05-08T17:54:53.415166039Z"
    }
   }
  },
  {
   "cell_type": "code",
   "execution_count": 11,
   "outputs": [
    {
     "data": {
      "text/plain": "                                           Standard MLP (baseline)  \\\nfitness_rule            dataset                                      \nMax(MCC - Stat. Parity) Adult Income                      1.000000   \n                        Adult Income                      0.775975   \n                        Adult Income                      0.549434   \n                        Adult Income                      0.494774   \n                        Bank Marketing                    1.000000   \n...                                                            ...   \nMax(Acc - Eq. Odds)     Compas Recidivism                 1.000000   \n                        German Credit                     1.000000   \n                        German Credit                     0.099694   \n                        German Credit                     0.877021   \n                        German Credit                     0.044008   \n\n                                           Pearson regularized MLP  \\\nfitness_rule            dataset                                      \nMax(MCC - Stat. Parity) Adult Income                      1.000000   \n                        Adult Income                      1.000000   \n                        Adult Income                      1.000000   \n                        Adult Income                      1.000000   \n                        Bank Marketing                    0.939917   \n...                                                            ...   \nMax(Acc - Eq. Odds)     Compas Recidivism                 1.000000   \n                        German Credit                     1.000000   \n                        German Credit                     1.000000   \n                        German Credit                     1.000000   \n                        German Credit                     0.406318   \n\n                                           Spearman regularized MLP  \\\nfitness_rule            dataset                                       \nMax(MCC - Stat. Parity) Adult Income                       1.000000   \n                        Adult Income                       1.000000   \n                        Adult Income                       1.000000   \n                        Adult Income                       0.990025   \n                        Bank Marketing                     0.656447   \n...                                                             ...   \nMax(Acc - Eq. Odds)     Compas Recidivism                  1.000000   \n                        German Credit                      0.665672   \n                        German Credit                      0.000000   \n                        German Credit                      1.000000   \n                        German Credit                      0.007765   \n\n                                           Auto corr regularized MLP  \\\nfitness_rule            dataset                                        \nMax(MCC - Stat. Parity) Adult Income                        1.000000   \n                        Adult Income                        1.000000   \n                        Adult Income                        1.000000   \n                        Adult Income                        1.000000   \n                        Bank Marketing                      0.589253   \n...                                                              ...   \nMax(Acc - Eq. Odds)     Compas Recidivism                   1.000000   \n                        German Credit                       0.986402   \n                        German Credit                       1.000000   \n                        German Credit                       0.995571   \n                        German Credit                       1.000000   \n\n                                                              method  \nfitness_rule            dataset                                       \nMax(MCC - Stat. Parity) Adult Income         Standard MLP (baseline)  \n                        Adult Income         Pearson regularized MLP  \n                        Adult Income        Spearman regularized MLP  \n                        Adult Income       Auto corr regularized MLP  \n                        Bank Marketing       Standard MLP (baseline)  \n...                                                              ...  \nMax(Acc - Eq. Odds)     Compas Recidivism  Auto corr regularized MLP  \n                        German Credit        Standard MLP (baseline)  \n                        German Credit        Pearson regularized MLP  \n                        German Credit       Spearman regularized MLP  \n                        German Credit      Auto corr regularized MLP  \n\n[96 rows x 5 columns]",
      "text/html": "<div>\n<style scoped>\n    .dataframe tbody tr th:only-of-type {\n        vertical-align: middle;\n    }\n\n    .dataframe tbody tr th {\n        vertical-align: top;\n    }\n\n    .dataframe thead th {\n        text-align: right;\n    }\n</style>\n<table border=\"1\" class=\"dataframe\">\n  <thead>\n    <tr style=\"text-align: right;\">\n      <th></th>\n      <th></th>\n      <th>Standard MLP (baseline)</th>\n      <th>Pearson regularized MLP</th>\n      <th>Spearman regularized MLP</th>\n      <th>Auto corr regularized MLP</th>\n      <th>method</th>\n    </tr>\n    <tr>\n      <th>fitness_rule</th>\n      <th>dataset</th>\n      <th></th>\n      <th></th>\n      <th></th>\n      <th></th>\n      <th></th>\n    </tr>\n  </thead>\n  <tbody>\n    <tr>\n      <th rowspan=\"5\" valign=\"top\">Max(MCC - Stat. Parity)</th>\n      <th>Adult Income</th>\n      <td>1.000000</td>\n      <td>1.000000</td>\n      <td>1.000000</td>\n      <td>1.000000</td>\n      <td>Standard MLP (baseline)</td>\n    </tr>\n    <tr>\n      <th>Adult Income</th>\n      <td>0.775975</td>\n      <td>1.000000</td>\n      <td>1.000000</td>\n      <td>1.000000</td>\n      <td>Pearson regularized MLP</td>\n    </tr>\n    <tr>\n      <th>Adult Income</th>\n      <td>0.549434</td>\n      <td>1.000000</td>\n      <td>1.000000</td>\n      <td>1.000000</td>\n      <td>Spearman regularized MLP</td>\n    </tr>\n    <tr>\n      <th>Adult Income</th>\n      <td>0.494774</td>\n      <td>1.000000</td>\n      <td>0.990025</td>\n      <td>1.000000</td>\n      <td>Auto corr regularized MLP</td>\n    </tr>\n    <tr>\n      <th>Bank Marketing</th>\n      <td>1.000000</td>\n      <td>0.939917</td>\n      <td>0.656447</td>\n      <td>0.589253</td>\n      <td>Standard MLP (baseline)</td>\n    </tr>\n    <tr>\n      <th>...</th>\n      <th>...</th>\n      <td>...</td>\n      <td>...</td>\n      <td>...</td>\n      <td>...</td>\n      <td>...</td>\n    </tr>\n    <tr>\n      <th rowspan=\"5\" valign=\"top\">Max(Acc - Eq. Odds)</th>\n      <th>Compas Recidivism</th>\n      <td>1.000000</td>\n      <td>1.000000</td>\n      <td>1.000000</td>\n      <td>1.000000</td>\n      <td>Auto corr regularized MLP</td>\n    </tr>\n    <tr>\n      <th>German Credit</th>\n      <td>1.000000</td>\n      <td>1.000000</td>\n      <td>0.665672</td>\n      <td>0.986402</td>\n      <td>Standard MLP (baseline)</td>\n    </tr>\n    <tr>\n      <th>German Credit</th>\n      <td>0.099694</td>\n      <td>1.000000</td>\n      <td>0.000000</td>\n      <td>1.000000</td>\n      <td>Pearson regularized MLP</td>\n    </tr>\n    <tr>\n      <th>German Credit</th>\n      <td>0.877021</td>\n      <td>1.000000</td>\n      <td>1.000000</td>\n      <td>0.995571</td>\n      <td>Spearman regularized MLP</td>\n    </tr>\n    <tr>\n      <th>German Credit</th>\n      <td>0.044008</td>\n      <td>0.406318</td>\n      <td>0.007765</td>\n      <td>1.000000</td>\n      <td>Auto corr regularized MLP</td>\n    </tr>\n  </tbody>\n</table>\n<p>96 rows × 5 columns</p>\n</div>"
     },
     "execution_count": 11,
     "metadata": {},
     "output_type": "execute_result"
    }
   ],
   "source": [
    "significances[0].sort_values(by=['fitness_rule', 'dataset'], ascending=[False, True])"
   ],
   "metadata": {
    "collapsed": false,
    "ExecuteTime": {
     "end_time": "2024-05-08T17:37:45.100081211Z",
     "start_time": "2024-05-08T17:37:44.925027947Z"
    }
   }
  },
  {
   "cell_type": "code",
   "outputs": [
    {
     "data": {
      "text/plain": "                                                                      fitness  \\\n                                                                         mean   \nFitness Rule Abvr       dataset           method                                \nMax(Acc - Eq. Odds)     Adult Income      Auto corr regularized MLP  0.771307   \n                                          Spearman regularized MLP   0.764152   \n                                          Standard MLP (baseline)    0.758290   \n                                          Pearson regularized MLP    0.735901   \n                        Bank Marketing    Spearman regularized MLP   0.833750   \n...                                                                       ...   \nMax(MCC - Stat. Parity) Compas Recidivism Standard MLP (baseline)    0.074028   \n                        German Credit     Pearson regularized MLP    0.283056   \n                                          Standard MLP (baseline)    0.265661   \n                                          Auto corr regularized MLP  0.225252   \n                                          Spearman regularized MLP   0.130942   \n\n                                                                               \\\n                                                                          std   \nFitness Rule Abvr       dataset           method                                \nMax(Acc - Eq. Odds)     Adult Income      Auto corr regularized MLP  0.019381   \n                                          Spearman regularized MLP   0.018216   \n                                          Standard MLP (baseline)    0.035161   \n                                          Pearson regularized MLP    0.035771   \n                        Bank Marketing    Spearman regularized MLP   0.031037   \n...                                                                       ...   \nMax(MCC - Stat. Parity) Compas Recidivism Standard MLP (baseline)    0.034694   \n                        German Credit     Pearson regularized MLP    0.024848   \n                                          Standard MLP (baseline)    0.099801   \n                                          Auto corr regularized MLP  0.038090   \n                                          Spearman regularized MLP   0.103555   \n\n                                                                           \\\n                                                                    count   \nFitness Rule Abvr       dataset           method                            \nMax(Acc - Eq. Odds)     Adult Income      Auto corr regularized MLP     3   \n                                          Spearman regularized MLP      3   \n                                          Standard MLP (baseline)      15   \n                                          Pearson regularized MLP       3   \n                        Bank Marketing    Spearman regularized MLP      3   \n...                                                                   ...   \nMax(MCC - Stat. Parity) Compas Recidivism Standard MLP (baseline)      30   \n                        German Credit     Pearson regularized MLP       3   \n                                          Standard MLP (baseline)      30   \n                                          Auto corr regularized MLP     3   \n                                          Spearman regularized MLP      3   \n\n                                                                    Performance  \\\n                                                                           mean   \nFitness Rule Abvr       dataset           method                                  \nMax(Acc - Eq. Odds)     Adult Income      Auto corr regularized MLP    0.852552   \n                                          Spearman regularized MLP     0.848461   \n                                          Standard MLP (baseline)      0.847864   \n                                          Pearson regularized MLP      0.852294   \n                        Bank Marketing    Spearman regularized MLP     0.900514   \n...                                                                         ...   \nMax(MCC - Stat. Parity) Compas Recidivism Standard MLP (baseline)      0.283302   \n                        German Credit     Pearson regularized MLP      0.344908   \n                                          Standard MLP (baseline)      0.329468   \n                                          Auto corr regularized MLP    0.375451   \n                                          Spearman regularized MLP     0.260862   \n\n                                                                               \\\n                                                                          std   \nFitness Rule Abvr       dataset           method                                \nMax(Acc - Eq. Odds)     Adult Income      Auto corr regularized MLP  0.003247   \n                                          Spearman regularized MLP   0.005183   \n                                          Standard MLP (baseline)    0.004669   \n                                          Pearson regularized MLP    0.000797   \n                        Bank Marketing    Spearman regularized MLP   0.001915   \n...                                                                       ...   \nMax(MCC - Stat. Parity) Compas Recidivism Standard MLP (baseline)    0.021736   \n                        German Credit     Pearson regularized MLP    0.051878   \n                                          Standard MLP (baseline)    0.090834   \n                                          Auto corr regularized MLP  0.025856   \n                                          Spearman regularized MLP   0.054940   \n\n                                                                     Fairness  \\\n                                                                         mean   \nFitness Rule Abvr       dataset           method                                \nMax(Acc - Eq. Odds)     Adult Income      Auto corr regularized MLP  0.081245   \n                                          Spearman regularized MLP   0.084310   \n                                          Standard MLP (baseline)    0.089574   \n                                          Pearson regularized MLP    0.116393   \n                        Bank Marketing    Spearman regularized MLP   0.066763   \n...                                                                       ...   \nMax(MCC - Stat. Parity) Compas Recidivism Standard MLP (baseline)    0.209274   \n                        German Credit     Pearson regularized MLP    0.061852   \n                                          Standard MLP (baseline)    0.063807   \n                                          Auto corr regularized MLP  0.150199   \n                                          Spearman regularized MLP   0.129920   \n\n                                                                               \\\n                                                                          std   \nFitness Rule Abvr       dataset           method                                \nMax(Acc - Eq. Odds)     Adult Income      Auto corr regularized MLP  0.021939   \n                                          Spearman regularized MLP   0.015606   \n                                          Standard MLP (baseline)    0.035575   \n                                          Pearson regularized MLP    0.035849   \n                        Bank Marketing    Spearman regularized MLP   0.031313   \n...                                                                       ...   \nMax(MCC - Stat. Parity) Compas Recidivism Standard MLP (baseline)    0.038248   \n                        German Credit     Pearson regularized MLP    0.033560   \n                                          Standard MLP (baseline)    0.046639   \n                                          Auto corr regularized MLP  0.054378   \n                                          Spearman regularized MLP   0.068215   \n\n                                                                     formatted_fitness  \\\n                                                                                         \nFitness Rule Abvr       dataset           method                                         \nMax(Acc - Eq. Odds)     Adult Income      Auto corr regularized MLP  $0.771 (\\pm0.02)$   \n                                          Spearman regularized MLP   $0.764 (\\pm0.02)$   \n                                          Standard MLP (baseline)    $0.758 (\\pm0.04)$   \n                                          Pearson regularized MLP    $0.736 (\\pm0.04)$   \n                        Bank Marketing    Spearman regularized MLP   $0.834 (\\pm0.03)$   \n...                                                                                ...   \nMax(MCC - Stat. Parity) Compas Recidivism Standard MLP (baseline)    $0.074 (\\pm0.03)$   \n                        German Credit     Pearson regularized MLP    $0.283 (\\pm0.02)$   \n                                          Standard MLP (baseline)    $0.266 (\\pm0.10)$   \n                                          Auto corr regularized MLP  $0.225 (\\pm0.04)$   \n                                          Spearman regularized MLP   $0.131 (\\pm0.10)$   \n\n                                                                    formatted_performance  \\\n                                                                                            \nFitness Rule Abvr       dataset           method                                            \nMax(Acc - Eq. Odds)     Adult Income      Auto corr regularized MLP     $0.853 (\\pm0.00)$   \n                                          Spearman regularized MLP      $0.848 (\\pm0.01)$   \n                                          Standard MLP (baseline)       $0.848 (\\pm0.00)$   \n                                          Pearson regularized MLP       $0.852 (\\pm0.00)$   \n                        Bank Marketing    Spearman regularized MLP      $0.901 (\\pm0.00)$   \n...                                                                                   ...   \nMax(MCC - Stat. Parity) Compas Recidivism Standard MLP (baseline)       $0.283 (\\pm0.02)$   \n                        German Credit     Pearson regularized MLP       $0.345 (\\pm0.05)$   \n                                          Standard MLP (baseline)       $0.329 (\\pm0.09)$   \n                                          Auto corr regularized MLP     $0.375 (\\pm0.03)$   \n                                          Spearman regularized MLP      $0.261 (\\pm0.05)$   \n\n                                                                    formatted_fairness  \n                                                                                        \nFitness Rule Abvr       dataset           method                                        \nMax(Acc - Eq. Odds)     Adult Income      Auto corr regularized MLP  $0.081 (\\pm0.02)$  \n                                          Spearman regularized MLP   $0.084 (\\pm0.02)$  \n                                          Standard MLP (baseline)    $0.090 (\\pm0.04)$  \n                                          Pearson regularized MLP    $0.116 (\\pm0.04)$  \n                        Bank Marketing    Spearman regularized MLP   $0.067 (\\pm0.03)$  \n...                                                                                ...  \nMax(MCC - Stat. Parity) Compas Recidivism Standard MLP (baseline)    $0.209 (\\pm0.04)$  \n                        German Credit     Pearson regularized MLP    $0.062 (\\pm0.03)$  \n                                          Standard MLP (baseline)    $0.064 (\\pm0.05)$  \n                                          Auto corr regularized MLP  $0.150 (\\pm0.05)$  \n                                          Spearman regularized MLP   $0.130 (\\pm0.07)$  \n\n[96 rows x 10 columns]",
      "text/html": "<div>\n<style scoped>\n    .dataframe tbody tr th:only-of-type {\n        vertical-align: middle;\n    }\n\n    .dataframe tbody tr th {\n        vertical-align: top;\n    }\n\n    .dataframe thead tr th {\n        text-align: left;\n    }\n\n    .dataframe thead tr:last-of-type th {\n        text-align: right;\n    }\n</style>\n<table border=\"1\" class=\"dataframe\">\n  <thead>\n    <tr>\n      <th></th>\n      <th></th>\n      <th></th>\n      <th colspan=\"3\" halign=\"left\">fitness</th>\n      <th colspan=\"2\" halign=\"left\">Performance</th>\n      <th colspan=\"2\" halign=\"left\">Fairness</th>\n      <th>formatted_fitness</th>\n      <th>formatted_performance</th>\n      <th>formatted_fairness</th>\n    </tr>\n    <tr>\n      <th></th>\n      <th></th>\n      <th></th>\n      <th>mean</th>\n      <th>std</th>\n      <th>count</th>\n      <th>mean</th>\n      <th>std</th>\n      <th>mean</th>\n      <th>std</th>\n      <th></th>\n      <th></th>\n      <th></th>\n    </tr>\n    <tr>\n      <th>Fitness Rule Abvr</th>\n      <th>dataset</th>\n      <th>method</th>\n      <th></th>\n      <th></th>\n      <th></th>\n      <th></th>\n      <th></th>\n      <th></th>\n      <th></th>\n      <th></th>\n      <th></th>\n      <th></th>\n    </tr>\n  </thead>\n  <tbody>\n    <tr>\n      <th rowspan=\"5\" valign=\"top\">Max(Acc - Eq. Odds)</th>\n      <th rowspan=\"4\" valign=\"top\">Adult Income</th>\n      <th>Auto corr regularized MLP</th>\n      <td>0.771307</td>\n      <td>0.019381</td>\n      <td>3</td>\n      <td>0.852552</td>\n      <td>0.003247</td>\n      <td>0.081245</td>\n      <td>0.021939</td>\n      <td>$0.771 (\\pm0.02)$</td>\n      <td>$0.853 (\\pm0.00)$</td>\n      <td>$0.081 (\\pm0.02)$</td>\n    </tr>\n    <tr>\n      <th>Spearman regularized MLP</th>\n      <td>0.764152</td>\n      <td>0.018216</td>\n      <td>3</td>\n      <td>0.848461</td>\n      <td>0.005183</td>\n      <td>0.084310</td>\n      <td>0.015606</td>\n      <td>$0.764 (\\pm0.02)$</td>\n      <td>$0.848 (\\pm0.01)$</td>\n      <td>$0.084 (\\pm0.02)$</td>\n    </tr>\n    <tr>\n      <th>Standard MLP (baseline)</th>\n      <td>0.758290</td>\n      <td>0.035161</td>\n      <td>15</td>\n      <td>0.847864</td>\n      <td>0.004669</td>\n      <td>0.089574</td>\n      <td>0.035575</td>\n      <td>$0.758 (\\pm0.04)$</td>\n      <td>$0.848 (\\pm0.00)$</td>\n      <td>$0.090 (\\pm0.04)$</td>\n    </tr>\n    <tr>\n      <th>Pearson regularized MLP</th>\n      <td>0.735901</td>\n      <td>0.035771</td>\n      <td>3</td>\n      <td>0.852294</td>\n      <td>0.000797</td>\n      <td>0.116393</td>\n      <td>0.035849</td>\n      <td>$0.736 (\\pm0.04)$</td>\n      <td>$0.852 (\\pm0.00)$</td>\n      <td>$0.116 (\\pm0.04)$</td>\n    </tr>\n    <tr>\n      <th>Bank Marketing</th>\n      <th>Spearman regularized MLP</th>\n      <td>0.833750</td>\n      <td>0.031037</td>\n      <td>3</td>\n      <td>0.900514</td>\n      <td>0.001915</td>\n      <td>0.066763</td>\n      <td>0.031313</td>\n      <td>$0.834 (\\pm0.03)$</td>\n      <td>$0.901 (\\pm0.00)$</td>\n      <td>$0.067 (\\pm0.03)$</td>\n    </tr>\n    <tr>\n      <th>...</th>\n      <th>...</th>\n      <th>...</th>\n      <td>...</td>\n      <td>...</td>\n      <td>...</td>\n      <td>...</td>\n      <td>...</td>\n      <td>...</td>\n      <td>...</td>\n      <td>...</td>\n      <td>...</td>\n      <td>...</td>\n    </tr>\n    <tr>\n      <th rowspan=\"5\" valign=\"top\">Max(MCC - Stat. Parity)</th>\n      <th>Compas Recidivism</th>\n      <th>Standard MLP (baseline)</th>\n      <td>0.074028</td>\n      <td>0.034694</td>\n      <td>30</td>\n      <td>0.283302</td>\n      <td>0.021736</td>\n      <td>0.209274</td>\n      <td>0.038248</td>\n      <td>$0.074 (\\pm0.03)$</td>\n      <td>$0.283 (\\pm0.02)$</td>\n      <td>$0.209 (\\pm0.04)$</td>\n    </tr>\n    <tr>\n      <th rowspan=\"4\" valign=\"top\">German Credit</th>\n      <th>Pearson regularized MLP</th>\n      <td>0.283056</td>\n      <td>0.024848</td>\n      <td>3</td>\n      <td>0.344908</td>\n      <td>0.051878</td>\n      <td>0.061852</td>\n      <td>0.033560</td>\n      <td>$0.283 (\\pm0.02)$</td>\n      <td>$0.345 (\\pm0.05)$</td>\n      <td>$0.062 (\\pm0.03)$</td>\n    </tr>\n    <tr>\n      <th>Standard MLP (baseline)</th>\n      <td>0.265661</td>\n      <td>0.099801</td>\n      <td>30</td>\n      <td>0.329468</td>\n      <td>0.090834</td>\n      <td>0.063807</td>\n      <td>0.046639</td>\n      <td>$0.266 (\\pm0.10)$</td>\n      <td>$0.329 (\\pm0.09)$</td>\n      <td>$0.064 (\\pm0.05)$</td>\n    </tr>\n    <tr>\n      <th>Auto corr regularized MLP</th>\n      <td>0.225252</td>\n      <td>0.038090</td>\n      <td>3</td>\n      <td>0.375451</td>\n      <td>0.025856</td>\n      <td>0.150199</td>\n      <td>0.054378</td>\n      <td>$0.225 (\\pm0.04)$</td>\n      <td>$0.375 (\\pm0.03)$</td>\n      <td>$0.150 (\\pm0.05)$</td>\n    </tr>\n    <tr>\n      <th>Spearman regularized MLP</th>\n      <td>0.130942</td>\n      <td>0.103555</td>\n      <td>3</td>\n      <td>0.260862</td>\n      <td>0.054940</td>\n      <td>0.129920</td>\n      <td>0.068215</td>\n      <td>$0.131 (\\pm0.10)$</td>\n      <td>$0.261 (\\pm0.05)$</td>\n      <td>$0.130 (\\pm0.07)$</td>\n    </tr>\n  </tbody>\n</table>\n<p>96 rows × 10 columns</p>\n</div>"
     },
     "execution_count": 16,
     "metadata": {},
     "output_type": "execute_result"
    }
   ],
   "source": [
    "grouped_results_list[0]"
   ],
   "metadata": {
    "collapsed": false,
    "ExecuteTime": {
     "end_time": "2024-05-08T17:55:14.955908988Z",
     "start_time": "2024-05-08T17:55:14.940387204Z"
    }
   },
   "execution_count": 16
  },
  {
   "cell_type": "code",
   "execution_count": 12,
   "outputs": [
    {
     "data": {
      "text/plain": "                                           Standard FTL (baseline)  \\\nfitness_rule            dataset                                      \nMax(MCC - Stat. Parity) Adult Income                      1.000000   \n                        Adult Income                      0.568838   \n                        Adult Income                      1.000000   \n                        Bank Marketing                    1.000000   \n                        Bank Marketing                    0.347302   \n...                                                            ...   \nMax(Acc - Eq. Odds)     Compas Recidivism                 0.223670   \n                        Compas Recidivism                 0.125652   \n                        German Credit                     1.000000   \n                        German Credit                     1.000000   \n                        German Credit                     1.000000   \n\n                                           Pearson regularized FTL  \\\nfitness_rule            dataset                                      \nMax(MCC - Stat. Parity) Adult Income                      1.000000   \n                        Adult Income                      1.000000   \n                        Adult Income                      1.000000   \n                        Bank Marketing                    1.000000   \n                        Bank Marketing                    1.000000   \n...                                                            ...   \nMax(Acc - Eq. Odds)     Compas Recidivism                 1.000000   \n                        Compas Recidivism                 0.760271   \n                        German Credit                     0.830681   \n                        German Credit                     1.000000   \n                        German Credit                     1.000000   \n\n                                           Spearman regularized FTL  \\\nfitness_rule            dataset                                       \nMax(MCC - Stat. Parity) Adult Income                       0.384582   \n                        Adult Income                       0.220182   \n                        Adult Income                       1.000000   \n                        Bank Marketing                     1.000000   \n                        Bank Marketing                     1.000000   \n...                                                             ...   \nMax(Acc - Eq. Odds)     Compas Recidivism                  1.000000   \n                        Compas Recidivism                  1.000000   \n                        German Credit                      0.000000   \n                        German Credit                      0.000000   \n                        German Credit                      1.000000   \n\n                                                             method  \nfitness_rule            dataset                                      \nMax(MCC - Stat. Parity) Adult Income        Standard FTL (baseline)  \n                        Adult Income        Pearson regularized FTL  \n                        Adult Income       Spearman regularized FTL  \n                        Bank Marketing      Standard FTL (baseline)  \n                        Bank Marketing      Pearson regularized FTL  \n...                                                             ...  \nMax(Acc - Eq. Odds)     Compas Recidivism   Pearson regularized FTL  \n                        Compas Recidivism  Spearman regularized FTL  \n                        German Credit       Standard FTL (baseline)  \n                        German Credit       Pearson regularized FTL  \n                        German Credit      Spearman regularized FTL  \n\n[72 rows x 4 columns]",
      "text/html": "<div>\n<style scoped>\n    .dataframe tbody tr th:only-of-type {\n        vertical-align: middle;\n    }\n\n    .dataframe tbody tr th {\n        vertical-align: top;\n    }\n\n    .dataframe thead th {\n        text-align: right;\n    }\n</style>\n<table border=\"1\" class=\"dataframe\">\n  <thead>\n    <tr style=\"text-align: right;\">\n      <th></th>\n      <th></th>\n      <th>Standard FTL (baseline)</th>\n      <th>Pearson regularized FTL</th>\n      <th>Spearman regularized FTL</th>\n      <th>method</th>\n    </tr>\n    <tr>\n      <th>fitness_rule</th>\n      <th>dataset</th>\n      <th></th>\n      <th></th>\n      <th></th>\n      <th></th>\n    </tr>\n  </thead>\n  <tbody>\n    <tr>\n      <th rowspan=\"5\" valign=\"top\">Max(MCC - Stat. Parity)</th>\n      <th>Adult Income</th>\n      <td>1.000000</td>\n      <td>1.000000</td>\n      <td>0.384582</td>\n      <td>Standard FTL (baseline)</td>\n    </tr>\n    <tr>\n      <th>Adult Income</th>\n      <td>0.568838</td>\n      <td>1.000000</td>\n      <td>0.220182</td>\n      <td>Pearson regularized FTL</td>\n    </tr>\n    <tr>\n      <th>Adult Income</th>\n      <td>1.000000</td>\n      <td>1.000000</td>\n      <td>1.000000</td>\n      <td>Spearman regularized FTL</td>\n    </tr>\n    <tr>\n      <th>Bank Marketing</th>\n      <td>1.000000</td>\n      <td>1.000000</td>\n      <td>1.000000</td>\n      <td>Standard FTL (baseline)</td>\n    </tr>\n    <tr>\n      <th>Bank Marketing</th>\n      <td>0.347302</td>\n      <td>1.000000</td>\n      <td>1.000000</td>\n      <td>Pearson regularized FTL</td>\n    </tr>\n    <tr>\n      <th>...</th>\n      <th>...</th>\n      <td>...</td>\n      <td>...</td>\n      <td>...</td>\n      <td>...</td>\n    </tr>\n    <tr>\n      <th rowspan=\"5\" valign=\"top\">Max(Acc - Eq. Odds)</th>\n      <th>Compas Recidivism</th>\n      <td>0.223670</td>\n      <td>1.000000</td>\n      <td>1.000000</td>\n      <td>Pearson regularized FTL</td>\n    </tr>\n    <tr>\n      <th>Compas Recidivism</th>\n      <td>0.125652</td>\n      <td>0.760271</td>\n      <td>1.000000</td>\n      <td>Spearman regularized FTL</td>\n    </tr>\n    <tr>\n      <th>German Credit</th>\n      <td>1.000000</td>\n      <td>0.830681</td>\n      <td>0.000000</td>\n      <td>Standard FTL (baseline)</td>\n    </tr>\n    <tr>\n      <th>German Credit</th>\n      <td>1.000000</td>\n      <td>1.000000</td>\n      <td>0.000000</td>\n      <td>Pearson regularized FTL</td>\n    </tr>\n    <tr>\n      <th>German Credit</th>\n      <td>1.000000</td>\n      <td>1.000000</td>\n      <td>1.000000</td>\n      <td>Spearman regularized FTL</td>\n    </tr>\n  </tbody>\n</table>\n<p>72 rows × 4 columns</p>\n</div>"
     },
     "execution_count": 12,
     "metadata": {},
     "output_type": "execute_result"
    }
   ],
   "source": [
    "significances[1].sort_values(by=['fitness_rule', 'dataset'], ascending=[False, True])"
   ],
   "metadata": {
    "collapsed": false,
    "ExecuteTime": {
     "end_time": "2024-05-08T17:37:45.117451744Z",
     "start_time": "2024-05-08T17:37:44.952796989Z"
    }
   }
  },
  {
   "cell_type": "code",
   "execution_count": 17,
   "outputs": [
    {
     "data": {
      "text/plain": "                                                                     fitness  \\\n                                                                        mean   \nFitness Rule Abvr       dataset           method                               \nMax(Acc - Eq. Odds)     Adult Income      Pearson regularized FTL   0.816948   \n                                          Standard FTL (baseline)   0.815099   \n                                          Spearman regularized FTL  0.796648   \n                        Bank Marketing    Pearson regularized FTL   0.842059   \n                                          Spearman regularized FTL  0.825748   \n...                                                                      ...   \nMax(MCC - Stat. Parity) Compas Recidivism Pearson regularized FTL   0.247669   \n                                          Spearman regularized FTL  0.235185   \n                        German Credit     Pearson regularized FTL   0.298430   \n                                          Standard FTL (baseline)   0.256495   \n                                          Spearman regularized FTL  0.183352   \n\n                                                                              \\\n                                                                         std   \nFitness Rule Abvr       dataset           method                               \nMax(Acc - Eq. Odds)     Adult Income      Pearson regularized FTL   0.023932   \n                                          Standard FTL (baseline)   0.022059   \n                                          Spearman regularized FTL  0.036947   \n                        Bank Marketing    Pearson regularized FTL   0.037943   \n                                          Spearman regularized FTL  0.051318   \n...                                                                      ...   \nMax(MCC - Stat. Parity) Compas Recidivism Pearson regularized FTL   0.045436   \n                                          Spearman regularized FTL  0.047326   \n                        German Credit     Pearson regularized FTL   0.061080   \n                                          Standard FTL (baseline)   0.089117   \n                                          Spearman regularized FTL  0.166189   \n\n                                                                          \\\n                                                                   count   \nFitness Rule Abvr       dataset           method                           \nMax(Acc - Eq. Odds)     Adult Income      Pearson regularized FTL     17   \n                                          Standard FTL (baseline)     14   \n                                          Spearman regularized FTL    13   \n                        Bank Marketing    Pearson regularized FTL      5   \n                                          Spearman regularized FTL     5   \n...                                                                  ...   \nMax(MCC - Stat. Parity) Compas Recidivism Pearson regularized FTL      5   \n                                          Spearman regularized FTL     5   \n                        German Credit     Pearson regularized FTL      4   \n                                          Standard FTL (baseline)      4   \n                                          Spearman regularized FTL     4   \n\n                                                                   Performance  \\\n                                                                          mean   \nFitness Rule Abvr       dataset           method                                 \nMax(Acc - Eq. Odds)     Adult Income      Pearson regularized FTL     0.844002   \n                                          Standard FTL (baseline)     0.847485   \n                                          Spearman regularized FTL    0.843398   \n                        Bank Marketing    Pearson regularized FTL     0.882781   \n                                          Spearman regularized FTL    0.897114   \n...                                                                        ...   \nMax(MCC - Stat. Parity) Compas Recidivism Pearson regularized FTL     0.290074   \n                                          Spearman regularized FTL    0.283411   \n                        German Credit     Pearson regularized FTL     0.349387   \n                                          Standard FTL (baseline)     0.351942   \n                                          Spearman regularized FTL    0.313005   \n\n                                                                              \\\n                                                                         std   \nFitness Rule Abvr       dataset           method                               \nMax(Acc - Eq. Odds)     Adult Income      Pearson regularized FTL   0.008850   \n                                          Standard FTL (baseline)   0.003112   \n                                          Spearman regularized FTL  0.003089   \n                        Bank Marketing    Pearson regularized FTL   0.017358   \n                                          Spearman regularized FTL  0.008812   \n...                                                                      ...   \nMax(MCC - Stat. Parity) Compas Recidivism Pearson regularized FTL   0.011852   \n                                          Spearman regularized FTL  0.018978   \n                        German Credit     Pearson regularized FTL   0.034872   \n                                          Standard FTL (baseline)   0.027961   \n                                          Spearman regularized FTL  0.111170   \n\n                                                                    Fairness  \\\n                                                                        mean   \nFitness Rule Abvr       dataset           method                               \nMax(Acc - Eq. Odds)     Adult Income      Pearson regularized FTL   0.027055   \n                                          Standard FTL (baseline)   0.032386   \n                                          Spearman regularized FTL  0.046751   \n                        Bank Marketing    Pearson regularized FTL   0.040722   \n                                          Spearman regularized FTL  0.071366   \n...                                                                      ...   \nMax(MCC - Stat. Parity) Compas Recidivism Pearson regularized FTL   0.042405   \n                                          Spearman regularized FTL  0.048226   \n                        German Credit     Pearson regularized FTL   0.050957   \n                                          Standard FTL (baseline)   0.095446   \n                                          Spearman regularized FTL  0.129653   \n\n                                                                              \\\n                                                                         std   \nFitness Rule Abvr       dataset           method                               \nMax(Acc - Eq. Odds)     Adult Income      Pearson regularized FTL   0.022190   \n                                          Standard FTL (baseline)   0.020821   \n                                          Spearman regularized FTL  0.037872   \n                        Bank Marketing    Pearson regularized FTL   0.053618   \n                                          Spearman regularized FTL  0.055697   \n...                                                                      ...   \nMax(MCC - Stat. Parity) Compas Recidivism Pearson regularized FTL   0.045659   \n                                          Spearman regularized FTL  0.043467   \n                        German Credit     Pearson regularized FTL   0.031027   \n                                          Standard FTL (baseline)   0.062298   \n                                          Spearman regularized FTL  0.078399   \n\n                                                                    formatted_fitness  \\\n                                                                                        \nFitness Rule Abvr       dataset           method                                        \nMax(Acc - Eq. Odds)     Adult Income      Pearson regularized FTL   $0.817 (\\pm0.02)$   \n                                          Standard FTL (baseline)   $0.815 (\\pm0.02)$   \n                                          Spearman regularized FTL  $0.797 (\\pm0.04)$   \n                        Bank Marketing    Pearson regularized FTL   $0.842 (\\pm0.04)$   \n                                          Spearman regularized FTL  $0.826 (\\pm0.05)$   \n...                                                                               ...   \nMax(MCC - Stat. Parity) Compas Recidivism Pearson regularized FTL   $0.248 (\\pm0.05)$   \n                                          Spearman regularized FTL  $0.235 (\\pm0.05)$   \n                        German Credit     Pearson regularized FTL   $0.298 (\\pm0.06)$   \n                                          Standard FTL (baseline)   $0.256 (\\pm0.09)$   \n                                          Spearman regularized FTL  $0.183 (\\pm0.17)$   \n\n                                                                   formatted_performance  \\\n                                                                                           \nFitness Rule Abvr       dataset           method                                           \nMax(Acc - Eq. Odds)     Adult Income      Pearson regularized FTL      $0.844 (\\pm0.01)$   \n                                          Standard FTL (baseline)      $0.847 (\\pm0.00)$   \n                                          Spearman regularized FTL     $0.843 (\\pm0.00)$   \n                        Bank Marketing    Pearson regularized FTL      $0.883 (\\pm0.02)$   \n                                          Spearman regularized FTL     $0.897 (\\pm0.01)$   \n...                                                                                  ...   \nMax(MCC - Stat. Parity) Compas Recidivism Pearson regularized FTL      $0.290 (\\pm0.01)$   \n                                          Spearman regularized FTL     $0.283 (\\pm0.02)$   \n                        German Credit     Pearson regularized FTL      $0.349 (\\pm0.03)$   \n                                          Standard FTL (baseline)      $0.352 (\\pm0.03)$   \n                                          Spearman regularized FTL     $0.313 (\\pm0.11)$   \n\n                                                                   formatted_fairness  \n                                                                                       \nFitness Rule Abvr       dataset           method                                       \nMax(Acc - Eq. Odds)     Adult Income      Pearson regularized FTL   $0.027 (\\pm0.02)$  \n                                          Standard FTL (baseline)   $0.032 (\\pm0.02)$  \n                                          Spearman regularized FTL  $0.047 (\\pm0.04)$  \n                        Bank Marketing    Pearson regularized FTL   $0.041 (\\pm0.05)$  \n                                          Spearman regularized FTL  $0.071 (\\pm0.06)$  \n...                                                                               ...  \nMax(MCC - Stat. Parity) Compas Recidivism Pearson regularized FTL   $0.042 (\\pm0.05)$  \n                                          Spearman regularized FTL  $0.048 (\\pm0.04)$  \n                        German Credit     Pearson regularized FTL   $0.051 (\\pm0.03)$  \n                                          Standard FTL (baseline)   $0.095 (\\pm0.06)$  \n                                          Spearman regularized FTL  $0.130 (\\pm0.08)$  \n\n[72 rows x 10 columns]",
      "text/html": "<div>\n<style scoped>\n    .dataframe tbody tr th:only-of-type {\n        vertical-align: middle;\n    }\n\n    .dataframe tbody tr th {\n        vertical-align: top;\n    }\n\n    .dataframe thead tr th {\n        text-align: left;\n    }\n\n    .dataframe thead tr:last-of-type th {\n        text-align: right;\n    }\n</style>\n<table border=\"1\" class=\"dataframe\">\n  <thead>\n    <tr>\n      <th></th>\n      <th></th>\n      <th></th>\n      <th colspan=\"3\" halign=\"left\">fitness</th>\n      <th colspan=\"2\" halign=\"left\">Performance</th>\n      <th colspan=\"2\" halign=\"left\">Fairness</th>\n      <th>formatted_fitness</th>\n      <th>formatted_performance</th>\n      <th>formatted_fairness</th>\n    </tr>\n    <tr>\n      <th></th>\n      <th></th>\n      <th></th>\n      <th>mean</th>\n      <th>std</th>\n      <th>count</th>\n      <th>mean</th>\n      <th>std</th>\n      <th>mean</th>\n      <th>std</th>\n      <th></th>\n      <th></th>\n      <th></th>\n    </tr>\n    <tr>\n      <th>Fitness Rule Abvr</th>\n      <th>dataset</th>\n      <th>method</th>\n      <th></th>\n      <th></th>\n      <th></th>\n      <th></th>\n      <th></th>\n      <th></th>\n      <th></th>\n      <th></th>\n      <th></th>\n      <th></th>\n    </tr>\n  </thead>\n  <tbody>\n    <tr>\n      <th rowspan=\"5\" valign=\"top\">Max(Acc - Eq. Odds)</th>\n      <th rowspan=\"3\" valign=\"top\">Adult Income</th>\n      <th>Pearson regularized FTL</th>\n      <td>0.816948</td>\n      <td>0.023932</td>\n      <td>17</td>\n      <td>0.844002</td>\n      <td>0.008850</td>\n      <td>0.027055</td>\n      <td>0.022190</td>\n      <td>$0.817 (\\pm0.02)$</td>\n      <td>$0.844 (\\pm0.01)$</td>\n      <td>$0.027 (\\pm0.02)$</td>\n    </tr>\n    <tr>\n      <th>Standard FTL (baseline)</th>\n      <td>0.815099</td>\n      <td>0.022059</td>\n      <td>14</td>\n      <td>0.847485</td>\n      <td>0.003112</td>\n      <td>0.032386</td>\n      <td>0.020821</td>\n      <td>$0.815 (\\pm0.02)$</td>\n      <td>$0.847 (\\pm0.00)$</td>\n      <td>$0.032 (\\pm0.02)$</td>\n    </tr>\n    <tr>\n      <th>Spearman regularized FTL</th>\n      <td>0.796648</td>\n      <td>0.036947</td>\n      <td>13</td>\n      <td>0.843398</td>\n      <td>0.003089</td>\n      <td>0.046751</td>\n      <td>0.037872</td>\n      <td>$0.797 (\\pm0.04)$</td>\n      <td>$0.843 (\\pm0.00)$</td>\n      <td>$0.047 (\\pm0.04)$</td>\n    </tr>\n    <tr>\n      <th rowspan=\"2\" valign=\"top\">Bank Marketing</th>\n      <th>Pearson regularized FTL</th>\n      <td>0.842059</td>\n      <td>0.037943</td>\n      <td>5</td>\n      <td>0.882781</td>\n      <td>0.017358</td>\n      <td>0.040722</td>\n      <td>0.053618</td>\n      <td>$0.842 (\\pm0.04)$</td>\n      <td>$0.883 (\\pm0.02)$</td>\n      <td>$0.041 (\\pm0.05)$</td>\n    </tr>\n    <tr>\n      <th>Spearman regularized FTL</th>\n      <td>0.825748</td>\n      <td>0.051318</td>\n      <td>5</td>\n      <td>0.897114</td>\n      <td>0.008812</td>\n      <td>0.071366</td>\n      <td>0.055697</td>\n      <td>$0.826 (\\pm0.05)$</td>\n      <td>$0.897 (\\pm0.01)$</td>\n      <td>$0.071 (\\pm0.06)$</td>\n    </tr>\n    <tr>\n      <th>...</th>\n      <th>...</th>\n      <th>...</th>\n      <td>...</td>\n      <td>...</td>\n      <td>...</td>\n      <td>...</td>\n      <td>...</td>\n      <td>...</td>\n      <td>...</td>\n      <td>...</td>\n      <td>...</td>\n      <td>...</td>\n    </tr>\n    <tr>\n      <th rowspan=\"5\" valign=\"top\">Max(MCC - Stat. Parity)</th>\n      <th rowspan=\"2\" valign=\"top\">Compas Recidivism</th>\n      <th>Pearson regularized FTL</th>\n      <td>0.247669</td>\n      <td>0.045436</td>\n      <td>5</td>\n      <td>0.290074</td>\n      <td>0.011852</td>\n      <td>0.042405</td>\n      <td>0.045659</td>\n      <td>$0.248 (\\pm0.05)$</td>\n      <td>$0.290 (\\pm0.01)$</td>\n      <td>$0.042 (\\pm0.05)$</td>\n    </tr>\n    <tr>\n      <th>Spearman regularized FTL</th>\n      <td>0.235185</td>\n      <td>0.047326</td>\n      <td>5</td>\n      <td>0.283411</td>\n      <td>0.018978</td>\n      <td>0.048226</td>\n      <td>0.043467</td>\n      <td>$0.235 (\\pm0.05)$</td>\n      <td>$0.283 (\\pm0.02)$</td>\n      <td>$0.048 (\\pm0.04)$</td>\n    </tr>\n    <tr>\n      <th rowspan=\"3\" valign=\"top\">German Credit</th>\n      <th>Pearson regularized FTL</th>\n      <td>0.298430</td>\n      <td>0.061080</td>\n      <td>4</td>\n      <td>0.349387</td>\n      <td>0.034872</td>\n      <td>0.050957</td>\n      <td>0.031027</td>\n      <td>$0.298 (\\pm0.06)$</td>\n      <td>$0.349 (\\pm0.03)$</td>\n      <td>$0.051 (\\pm0.03)$</td>\n    </tr>\n    <tr>\n      <th>Standard FTL (baseline)</th>\n      <td>0.256495</td>\n      <td>0.089117</td>\n      <td>4</td>\n      <td>0.351942</td>\n      <td>0.027961</td>\n      <td>0.095446</td>\n      <td>0.062298</td>\n      <td>$0.256 (\\pm0.09)$</td>\n      <td>$0.352 (\\pm0.03)$</td>\n      <td>$0.095 (\\pm0.06)$</td>\n    </tr>\n    <tr>\n      <th>Spearman regularized FTL</th>\n      <td>0.183352</td>\n      <td>0.166189</td>\n      <td>4</td>\n      <td>0.313005</td>\n      <td>0.111170</td>\n      <td>0.129653</td>\n      <td>0.078399</td>\n      <td>$0.183 (\\pm0.17)$</td>\n      <td>$0.313 (\\pm0.11)$</td>\n      <td>$0.130 (\\pm0.08)$</td>\n    </tr>\n  </tbody>\n</table>\n<p>72 rows × 10 columns</p>\n</div>"
     },
     "execution_count": 17,
     "metadata": {},
     "output_type": "execute_result"
    }
   ],
   "source": [
    "grouped_results_list[1]"
   ],
   "metadata": {
    "collapsed": false,
    "ExecuteTime": {
     "end_time": "2024-05-08T17:55:24.951221136Z",
     "start_time": "2024-05-08T17:55:24.868839431Z"
    }
   }
  },
  {
   "cell_type": "code",
   "outputs": [],
   "source": [],
   "metadata": {
    "collapsed": false
   }
  }
 ],
 "metadata": {
  "kernelspec": {
   "display_name": "Python 3 (ipykernel)",
   "language": "python",
   "name": "python3"
  },
  "language_info": {
   "codemirror_mode": {
    "name": "ipython",
    "version": 3
   },
   "file_extension": ".py",
   "mimetype": "text/x-python",
   "name": "python",
   "nbconvert_exporter": "python",
   "pygments_lexer": "ipython3",
   "version": "3.8.10"
  }
 },
 "nbformat": 4,
 "nbformat_minor": 1
}
