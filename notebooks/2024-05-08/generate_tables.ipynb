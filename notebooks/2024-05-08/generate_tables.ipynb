{
 "cells": [
  {
   "cell_type": "code",
   "execution_count": 31,
   "metadata": {
    "ExecuteTime": {
     "end_time": "2024-05-03T09:59:46.221033439Z",
     "start_time": "2024-05-03T09:59:46.219128429Z"
    }
   },
   "outputs": [],
   "source": [
    "import pandas as pd\n",
    "import json\n",
    "import os\n",
    "import deepsig\n",
    "from IPython.display import display"
   ]
  },
  {
   "cell_type": "code",
   "execution_count": 32,
   "metadata": {
    "ExecuteTime": {
     "end_time": "2024-05-03T09:59:46.232603321Z",
     "start_time": "2024-05-03T09:59:46.222152040Z"
    }
   },
   "outputs": [],
   "source": [
    "cols = ['dataset', 'method', 'fitness_rule', 'fitness', 'ACC', 'MCC', 'f1_score', 'avg_odds_diff', 'stat_par_diff', 'eq_opp_diff']"
   ]
  },
  {
   "cell_type": "code",
   "execution_count": 33,
   "metadata": {
    "ExecuteTime": {
     "end_time": "2024-05-03T09:59:46.265361017Z",
     "start_time": "2024-05-03T09:59:46.231453156Z"
    }
   },
   "outputs": [],
   "source": [
    "mlp_baseline_results = pd.read_csv('mlp_baseline_results.csv')\n",
    "mlp_baseline_results.replace({'simple_mlp_initializer': 'Standard MLP (baseline)'}, inplace=True)\n",
    "\n",
    "mlp_pearson_results = pd.read_csv('mlp_pearson_results.csv')\n",
    "mlp_pearson_results.replace({'mlp_preg_initializer': 'Pearson regularized MLP'}, inplace=True)\n",
    "\n",
    "mlp_spearman_results = pd.read_csv('mlp_spearman_results.csv')\n",
    "mlp_spearman_results.replace({'mlp_sreg_initializer': 'Spearman regularized MLP'}, inplace=True)\n",
    "\n",
    "mlp_results = pd.concat([mlp_baseline_results, mlp_pearson_results, mlp_spearman_results])\n",
    "\n",
    "ftl_baseline_results = pd.read_csv('ftl_baseline_results.csv')\n",
    "ftl_baseline_results.replace({'ftl_mlp_initializer': 'Standard FTL (baseline)'}, inplace=True)\n",
    "\n",
    "ftl_pearson_results = pd.read_csv('ftl_pearson_results.csv')\n",
    "ftl_pearson_results.replace({'ftl_mlp_initializer': 'Pearson regularized FTL'}, inplace=True)\n",
    "\n",
    "ftl_spearman_results = pd.read_csv('ftl_spearman_results.csv')\n",
    "ftl_spearman_results.replace({'ftl_mlp_initializer': 'Spearman regularized FTL'}, inplace=True)\n",
    "\n",
    "ftl_results = pd.concat([ftl_baseline_results, ftl_pearson_results, ftl_spearman_results])"
   ]
  },
  {
   "cell_type": "markdown",
   "source": [],
   "metadata": {
    "collapsed": false
   }
  },
  {
   "cell_type": "code",
   "execution_count": 34,
   "outputs": [],
   "source": [
    "for results in [mlp_results,ftl_results]:\n",
    "    results.replace({'adult_dataset_reader': 'Adult Income', 'compas_dataset_reader': 'Compas Recidivism', 'german_dataset_reader': 'German Credit', 'bank_dataset_reader': 'Bank Marketing'}, inplace=True)\n",
    "    results.rename(columns={'avg_odds_diff': 'Equalized Odds', 'stat_par_diff': 'Statistical Parity', 'eq_opp_diff': 'Equal Opportunity', 'MCC': 'Mathew Correlation', 'ACC': 'Accuracy'}, inplace=True)"
   ],
   "metadata": {
    "collapsed": false,
    "ExecuteTime": {
     "end_time": "2024-05-03T09:59:46.266891296Z",
     "start_time": "2024-05-03T09:59:46.265695387Z"
    }
   }
  },
  {
   "cell_type": "code",
   "execution_count": 35,
   "metadata": {
    "ExecuteTime": {
     "end_time": "2024-05-03T09:59:46.337849296Z",
     "start_time": "2024-05-03T09:59:46.265857169Z"
    }
   },
   "outputs": [
    {
     "name": "stderr",
     "output_type": "stream",
     "text": [
      "/tmp/ipykernel_1438505/3607436483.py:32: FutureWarning: Setting an item of incompatible dtype is deprecated and will raise in a future error of pandas. Value '[0.58517004 0.58512823 0.5840247  0.5836371  0.57625737 0.5769683\n",
      " 0.58075151 0.57811729 0.57147862 0.55847176 0.56402881 0.58191431\n",
      " 0.58343253 0.57740222 0.51579307 0.30958237 0.37962947 0.55899189\n",
      " 0.53558872 0.2598879  0.57717035 0.50086739 0.33275221 0.37929293\n",
      " 0.47729109 0.29196869 0.29037704 0.52303609 0.27480633 0.38668781\n",
      " 0.50626951 0.29960979 0.4042848  0.52119218 0.2936422  0.33522388\n",
      " 0.49730721 0.25112662 0.35119067 0.510052   0.26843855 0.36081008\n",
      " 0.52157495 0.30114722 0.42995147 0.48267704 0.29056691 0.23139881\n",
      " 0.54223416 0.23653437 0.27041017 0.52121263 0.25759348 0.23912165\n",
      " 0.5223892  0.27406652 0.22303564 0.54094974 0.27699558 0.30939251\n",
      " 0.56841327 0.56481476 0.58141906 0.57136131 0.58334192 0.55288815\n",
      " 0.56058845 0.5737951  0.57000708 0.57640052 0.58261133 0.57287806\n",
      " 0.57274737 0.57959695 0.51101525 0.28242759 0.33054111 0.57762814\n",
      " 0.5368048  0.31623248 0.3465674  0.53986748 0.2479788  0.36563621\n",
      " 0.51959505 0.31018195 0.49570477 0.49453409 0.29658544 0.35273781\n",
      " 0.57072426 0.26732327 0.33607704 0.5028025  0.28860323 0.41107384\n",
      " 0.4950211  0.31309249 0.26181431 0.53881455 0.30955917 0.46992148\n",
      " 0.51847923 0.27905993 0.40734639 0.53345599 0.29808733 0.35120856\n",
      " 0.51674838 0.30400617 0.33382054 0.53207977 0.29554025 0.35745031\n",
      " 0.49688273 0.24860817 0.37518709 0.51300111 0.28885898 0.33341656\n",
      " 0.57454722 0.57134873 0.59039745 0.58475101 0.58230021 0.57479453\n",
      " 0.5876658  0.59199945 0.59145802 0.5797924  0.59391819 0.56892416\n",
      " 0.57651041 0.59548118 0.51495337 0.24006559 0.25919805 0.5690559\n",
      " 0.47222126 0.30141088 0.27646306 0.54048313 0.31300197 0.41447111\n",
      " 0.49188737 0.3155285  0.42385983 0.51585159 0.3071224  0.37414881\n",
      " 0.53277113 0.25745114 0.35561443 0.53952479 0.29007943 0.36452172\n",
      " 0.5168099  0.22651748 0.45001845 0.4889961  0.27305469 0.31008734\n",
      " 0.52875275 0.28728004 0.42696204 0.49382443 0.30884904 0.43154127\n",
      " 0.54760903 0.30764215 0.38657833 0.5191834  0.30484131 0.32388963\n",
      " 0.50100159 0.27105128 0.24674379 0.44780168 0.30279535 0.47786012]' has dtype incompatible with int64, please explicitly cast to a compatible dtype first.\n",
      "  results.loc[results.fitness_rule == fitness_rule,'Performance'] = results.loc[results.fitness_rule == fitness_rule,performance_metric]\n",
      "/tmp/ipykernel_1438505/3607436483.py:33: FutureWarning: Setting an item of incompatible dtype is deprecated and will raise in a future error of pandas. Value '[0.19263281 0.18664775 0.20096652 0.19289642 0.19661682 0.17761564\n",
      " 0.19442911 0.19755228 0.19564214 0.19166634 0.18299811 0.17482095\n",
      " 0.20208162 0.18919863 0.1076907  0.21583464 0.07390198 0.18518896\n",
      " 0.01873928 0.21915752 0.00551471 0.06514573 0.27067494 0.10218254\n",
      " 0.09458935 0.20988634 0.15838547 0.0800928  0.22152457 0.04387464\n",
      " 0.0698734  0.21395877 0.         0.07046605 0.25600325 0.1\n",
      " 0.07839351 0.17845842 0.13362425 0.11385009 0.16165928 0.\n",
      " 0.07603398 0.22394599 0.10042067 0.07235512 0.17623094 0.05055147\n",
      " 0.10296647 0.13012843 0.01648841 0.12773041 0.23588101 0.01650837\n",
      " 0.10756357 0.22188463 0.04937755 0.08539799 0.27225208 0.04945055\n",
      " 0.19053001 0.16746315 0.16763191 0.19320045 0.18703865 0.18429954\n",
      " 0.1597833  0.20815391 0.18244748 0.17584256 0.19747861 0.19980041\n",
      " 0.16926838 0.19824677 0.15701831 0.21769741 0.06096866 0.18805125\n",
      " 0.11698153 0.22540811 0.0997151  0.14348316 0.17935184 0.01840265\n",
      " 0.10986078 0.19111467 0.11079944 0.03214456 0.24020384 0.12442505\n",
      " 0.12214648 0.24391506 0.1452381  0.05158111 0.23260441 0.13931652\n",
      " 0.09667476 0.2145281  0.11111111 0.08085003 0.27861653 0.07536964\n",
      " 0.11089458 0.24925445 0.07863248 0.16119618 0.20082766 0.01039501\n",
      " 0.11426133 0.26034526 0.12709285 0.05705922 0.22945803 0.197151\n",
      " 0.11150527 0.21369112 0.22920998 0.09977647 0.23734645 0.07531194\n",
      " 0.17104265 0.18574429 0.19784707 0.17967529 0.18831391 0.17770337\n",
      " 0.20533483 0.19024169 0.19313822 0.18508573 0.17207131 0.19938199\n",
      " 0.18468992 0.19165909 0.11988757 0.19039244 0.08902821 0.17745478\n",
      " 0.0597935  0.186247   0.05433901 0.18412377 0.21154469 0.05786038\n",
      " 0.12559147 0.20190569 0.1687699  0.07978147 0.19076877 0.15376984\n",
      " 0.17001239 0.2036366  0.11507937 0.11099168 0.17089256 0.12224265\n",
      " 0.09728949 0.24889212 0.15238095 0.14449684 0.21517338 0.18683386\n",
      " 0.0571193  0.20706829 0.00829785 0.10938756 0.21259352 0.03650846\n",
      " 0.1639586  0.20705434 0.2065494  0.07319463 0.16312686 0.04857398\n",
      " 0.11660992 0.16755326 0.04045288 0.02529162 0.16398462 0.10803161]' has dtype incompatible with int64, please explicitly cast to a compatible dtype first.\n",
      "  results.loc[results.fitness_rule == fitness_rule,'Fairness'] = results.loc[results.fitness_rule == fitness_rule,fairness_metric]\n",
      "/tmp/ipykernel_1438505/3607436483.py:32: FutureWarning: Setting an item of incompatible dtype is deprecated and will raise in a future error of pandas. Value '[0.55988104 0.49558867 0.47660518 0.53020884 0.49731155 0.48088379\n",
      " 0.50936495 0.52610501 0.50501965 0.49517103 0.52255177 0.48277552\n",
      " 0.49360563 0.49928347 0.49428572 0.50830079 0.5315851  0.49084885\n",
      " 0.49727459 0.52602458 0.51498102 0.49446574 0.52981801 0.51333191\n",
      " 0.51460142 0.49477946 0.4559726  0.49333343 0.53090834 0.49284321\n",
      " 0.48727491 0.46760391 0.48532912 0.48816006 0.49060769 0.50033309\n",
      " 0.54306751 0.52179051 0.4829124  0.51199556 0.52334945 0.50003926]' has dtype incompatible with int64, please explicitly cast to a compatible dtype first.\n",
      "  results.loc[results.fitness_rule == fitness_rule,'Performance'] = results.loc[results.fitness_rule == fitness_rule,performance_metric]\n",
      "/tmp/ipykernel_1438505/3607436483.py:33: FutureWarning: Setting an item of incompatible dtype is deprecated and will raise in a future error of pandas. Value '[0.06563524 0.00434914 0.02991623 0.03287846 0.03464132 0.0015824\n",
      " 0.00711975 0.00623328 0.00497483 0.00291418 0.02981982 0.0109755\n",
      " 0.02228438 0.00327132 0.02537383 0.00143259 0.01617422 0.01169424\n",
      " 0.01656405 0.02579937 0.00583962 0.01503756 0.00376432 0.00064319\n",
      " 0.00965313 0.02342952 0.01174198 0.00202581 0.01859382 0.00603458\n",
      " 0.01774073 0.0244613  0.05969289 0.00814399 0.01136305 0.00834383\n",
      " 0.0523313  0.02800188 0.01513682 0.0100883  0.05535489 0.00268151]' has dtype incompatible with int64, please explicitly cast to a compatible dtype first.\n",
      "  results.loc[results.fitness_rule == fitness_rule,'Fairness'] = results.loc[results.fitness_rule == fitness_rule,fairness_metric]\n"
     ]
    }
   ],
   "source": [
    "fitness_rules_target_metrics = {\n",
    "    'mcc_parity': {'performance': 'Mathew Correlation', 'fairness': 'Statistical Parity'},\n",
    "    'mcc_opportunity': {'performance': 'Mathew Correlation', 'fairness': 'Equal Opportunity'},\n",
    "    'mcc_odds': {'performance': 'Mathew Correlation', 'fairness': 'Equalized Odds'},\n",
    "    'acc_parity': {'performance': 'Accuracy', 'fairness': 'Statistical Parity'},\n",
    "    'acc_opportunity': {'performance': 'Accuracy', 'fairness': 'Equal Opportunity'},\n",
    "    'acc_odds': {'performance': 'Accuracy', 'fairness': 'Equalized Odds'}\n",
    "}\n",
    "\n",
    "fitness_rules_target_metrics = {\n",
    "    'mcc_parity': ('Mathew Correlation', 'Statistical Parity'),\n",
    "    'mcc_opportunity': ('Mathew Correlation', 'Equal Opportunity'),\n",
    "    'mcc_odds': ('Mathew Correlation', 'Equalized Odds'),\n",
    "    'acc_parity': ('Accuracy', 'Statistical Parity'),\n",
    "    'acc_opportunity': ('Accuracy', 'Equal Opportunity'),\n",
    "    'acc_odds': ('Accuracy', 'Equalized Odds')\n",
    "}\n",
    "fitness_rules_abvr = {\n",
    "    'mcc_parity': 'Max(MCC - Stat. Parity)',\n",
    "    'mcc_opportunity': 'Max(MCC - Eq. Odds)',\n",
    "    'mcc_odds': 'Max(MCC - Eq. Opp.)',\n",
    "    'acc_parity': 'Max(Acc - Stat. Parity)',\n",
    "    'acc_opportunity': 'Max(Acc - Eq. Odds)',\n",
    "    'acc_odds': 'Max(Acc - Eq. Opp.)'\n",
    "}\n",
    "\n",
    "for results in [mlp_results,ftl_results]:\n",
    "    results['Performance'] = 0\n",
    "    results['Fairness'] = 0\n",
    "    results['Fitness Rule'] = ''\n",
    "    for fitness_rule, (performance_metric, fairness_metric) in fitness_rules_target_metrics.items():\n",
    "        results.loc[results.fitness_rule == fitness_rule,'Performance'] = results.loc[results.fitness_rule == fitness_rule,performance_metric]\n",
    "        results.loc[results.fitness_rule == fitness_rule,'Fairness'] = results.loc[results.fitness_rule == fitness_rule,fairness_metric]\n",
    "        results.loc[results.fitness_rule == fitness_rule,'Fitness Rule Abvr'] = fitness_rules_abvr[fitness_rule]\n",
    "        results.loc[results.fitness_rule == fitness_rule,'Fitness Rule'] = 'Max(%s - %s)' % fitness_rules_target_metrics[fitness_rule]"
   ]
  },
  {
   "cell_type": "code",
   "execution_count": 36,
   "metadata": {
    "ExecuteTime": {
     "end_time": "2024-05-03T09:59:46.338696644Z",
     "start_time": "2024-05-03T09:59:46.315016303Z"
    }
   },
   "outputs": [
    {
     "data": {
      "text/plain": "           dataset                    method     fitness_rule   fitness  \\\n0     Adult Income   Standard MLP (baseline)       mcc_parity  0.392537   \n1     Adult Income   Standard MLP (baseline)         mcc_odds  0.473935   \n2     Adult Income   Standard MLP (baseline)  mcc_opportunity  0.460175   \n3     Adult Income   Standard MLP (baseline)       acc_parity  0.661796   \n4     Adult Income   Standard MLP (baseline)         acc_odds  0.766170   \n..             ...                       ...              ...       ...   \n355  German Credit  Spearman regularized MLP         mcc_odds  0.225149   \n356  German Credit  Spearman regularized MLP  mcc_opportunity  0.346545   \n357  German Credit  Spearman regularized MLP       acc_parity  0.685911   \n358  German Credit  Spearman regularized MLP         acc_odds  0.704234   \n359  German Credit  Spearman regularized MLP  acc_opportunity  0.563827   \n\n     Accuracy  Mathew Correlation  Equalized Odds  Statistical Parity  \\\n0    0.851299            0.585170        0.113127            0.192633   \n1    0.851520            0.585500        0.111565            0.198915   \n2    0.851410            0.585064        0.103235            0.191606   \n3    0.844887            0.565373        0.082386            0.183090   \n4    0.850857            0.577932        0.084687            0.180366   \n..        ...                 ...             ...                 ...   \n355  0.730000            0.350563        0.125414            0.074725   \n356  0.765000            0.397535        0.102469            0.096646   \n357  0.745000            0.236132        0.051943            0.059089   \n358  0.760000            0.401230        0.055766            0.009692   \n359  0.715000            0.255098        0.128617            0.159217   \n\n     Equal Opportunity                                        solution  \\\n0             0.142532                {'dropout': 0.16228954240968418}   \n1             0.132052                 {'dropout': 0.1482543145261793}   \n2             0.124889                {'dropout': 0.17861515209545933}   \n3             0.084174                {'dropout': 0.15655371267306142}   \n4             0.093891                 {'dropout': 0.1698638434734938}   \n..                 ...                                             ...   \n355           0.050121    {'l2': 0.0001, 'dropout': 0.152236259935622}   \n356           0.050990  {'l2': 0.001, 'dropout': 0.052866765100860254}   \n357           0.078632    {'l2': 0.01, 'dropout': 0.12328619122121832}   \n358           0.015102   {'l2': 0.001, 'dropout': 0.14909089094980715}   \n359           0.151173  {'l2': 0.0001, 'dropout': 0.19122346802196713}   \n\n     Performance  Fairness                                  Fitness Rule  \\\n0       0.585170  0.192633  Max(Mathew Correlation - Statistical Parity)   \n1       0.585500  0.111565      Max(Mathew Correlation - Equalized Odds)   \n2       0.585064  0.124889   Max(Mathew Correlation - Equal Opportunity)   \n3       0.844887  0.183090            Max(Accuracy - Statistical Parity)   \n4       0.850857  0.084687                Max(Accuracy - Equalized Odds)   \n..           ...       ...                                           ...   \n355     0.350563  0.125414      Max(Mathew Correlation - Equalized Odds)   \n356     0.397535  0.050990   Max(Mathew Correlation - Equal Opportunity)   \n357     0.745000  0.059089            Max(Accuracy - Statistical Parity)   \n358     0.760000  0.055766                Max(Accuracy - Equalized Odds)   \n359     0.715000  0.151173             Max(Accuracy - Equal Opportunity)   \n\n           Fitness Rule Abvr  \n0    Max(MCC - Stat. Parity)  \n1        Max(MCC - Eq. Opp.)  \n2        Max(MCC - Eq. Odds)  \n3    Max(Acc - Stat. Parity)  \n4        Max(Acc - Eq. Opp.)  \n..                       ...  \n355      Max(MCC - Eq. Opp.)  \n356      Max(MCC - Eq. Odds)  \n357  Max(Acc - Stat. Parity)  \n358      Max(Acc - Eq. Opp.)  \n359      Max(Acc - Eq. Odds)  \n\n[1080 rows x 14 columns]",
      "text/html": "<div>\n<style scoped>\n    .dataframe tbody tr th:only-of-type {\n        vertical-align: middle;\n    }\n\n    .dataframe tbody tr th {\n        vertical-align: top;\n    }\n\n    .dataframe thead th {\n        text-align: right;\n    }\n</style>\n<table border=\"1\" class=\"dataframe\">\n  <thead>\n    <tr style=\"text-align: right;\">\n      <th></th>\n      <th>dataset</th>\n      <th>method</th>\n      <th>fitness_rule</th>\n      <th>fitness</th>\n      <th>Accuracy</th>\n      <th>Mathew Correlation</th>\n      <th>Equalized Odds</th>\n      <th>Statistical Parity</th>\n      <th>Equal Opportunity</th>\n      <th>solution</th>\n      <th>Performance</th>\n      <th>Fairness</th>\n      <th>Fitness Rule</th>\n      <th>Fitness Rule Abvr</th>\n    </tr>\n  </thead>\n  <tbody>\n    <tr>\n      <th>0</th>\n      <td>Adult Income</td>\n      <td>Standard MLP (baseline)</td>\n      <td>mcc_parity</td>\n      <td>0.392537</td>\n      <td>0.851299</td>\n      <td>0.585170</td>\n      <td>0.113127</td>\n      <td>0.192633</td>\n      <td>0.142532</td>\n      <td>{'dropout': 0.16228954240968418}</td>\n      <td>0.585170</td>\n      <td>0.192633</td>\n      <td>Max(Mathew Correlation - Statistical Parity)</td>\n      <td>Max(MCC - Stat. Parity)</td>\n    </tr>\n    <tr>\n      <th>1</th>\n      <td>Adult Income</td>\n      <td>Standard MLP (baseline)</td>\n      <td>mcc_odds</td>\n      <td>0.473935</td>\n      <td>0.851520</td>\n      <td>0.585500</td>\n      <td>0.111565</td>\n      <td>0.198915</td>\n      <td>0.132052</td>\n      <td>{'dropout': 0.1482543145261793}</td>\n      <td>0.585500</td>\n      <td>0.111565</td>\n      <td>Max(Mathew Correlation - Equalized Odds)</td>\n      <td>Max(MCC - Eq. Opp.)</td>\n    </tr>\n    <tr>\n      <th>2</th>\n      <td>Adult Income</td>\n      <td>Standard MLP (baseline)</td>\n      <td>mcc_opportunity</td>\n      <td>0.460175</td>\n      <td>0.851410</td>\n      <td>0.585064</td>\n      <td>0.103235</td>\n      <td>0.191606</td>\n      <td>0.124889</td>\n      <td>{'dropout': 0.17861515209545933}</td>\n      <td>0.585064</td>\n      <td>0.124889</td>\n      <td>Max(Mathew Correlation - Equal Opportunity)</td>\n      <td>Max(MCC - Eq. Odds)</td>\n    </tr>\n    <tr>\n      <th>3</th>\n      <td>Adult Income</td>\n      <td>Standard MLP (baseline)</td>\n      <td>acc_parity</td>\n      <td>0.661796</td>\n      <td>0.844887</td>\n      <td>0.565373</td>\n      <td>0.082386</td>\n      <td>0.183090</td>\n      <td>0.084174</td>\n      <td>{'dropout': 0.15655371267306142}</td>\n      <td>0.844887</td>\n      <td>0.183090</td>\n      <td>Max(Accuracy - Statistical Parity)</td>\n      <td>Max(Acc - Stat. Parity)</td>\n    </tr>\n    <tr>\n      <th>4</th>\n      <td>Adult Income</td>\n      <td>Standard MLP (baseline)</td>\n      <td>acc_odds</td>\n      <td>0.766170</td>\n      <td>0.850857</td>\n      <td>0.577932</td>\n      <td>0.084687</td>\n      <td>0.180366</td>\n      <td>0.093891</td>\n      <td>{'dropout': 0.1698638434734938}</td>\n      <td>0.850857</td>\n      <td>0.084687</td>\n      <td>Max(Accuracy - Equalized Odds)</td>\n      <td>Max(Acc - Eq. Opp.)</td>\n    </tr>\n    <tr>\n      <th>...</th>\n      <td>...</td>\n      <td>...</td>\n      <td>...</td>\n      <td>...</td>\n      <td>...</td>\n      <td>...</td>\n      <td>...</td>\n      <td>...</td>\n      <td>...</td>\n      <td>...</td>\n      <td>...</td>\n      <td>...</td>\n      <td>...</td>\n      <td>...</td>\n    </tr>\n    <tr>\n      <th>355</th>\n      <td>German Credit</td>\n      <td>Spearman regularized MLP</td>\n      <td>mcc_odds</td>\n      <td>0.225149</td>\n      <td>0.730000</td>\n      <td>0.350563</td>\n      <td>0.125414</td>\n      <td>0.074725</td>\n      <td>0.050121</td>\n      <td>{'l2': 0.0001, 'dropout': 0.152236259935622}</td>\n      <td>0.350563</td>\n      <td>0.125414</td>\n      <td>Max(Mathew Correlation - Equalized Odds)</td>\n      <td>Max(MCC - Eq. Opp.)</td>\n    </tr>\n    <tr>\n      <th>356</th>\n      <td>German Credit</td>\n      <td>Spearman regularized MLP</td>\n      <td>mcc_opportunity</td>\n      <td>0.346545</td>\n      <td>0.765000</td>\n      <td>0.397535</td>\n      <td>0.102469</td>\n      <td>0.096646</td>\n      <td>0.050990</td>\n      <td>{'l2': 0.001, 'dropout': 0.052866765100860254}</td>\n      <td>0.397535</td>\n      <td>0.050990</td>\n      <td>Max(Mathew Correlation - Equal Opportunity)</td>\n      <td>Max(MCC - Eq. Odds)</td>\n    </tr>\n    <tr>\n      <th>357</th>\n      <td>German Credit</td>\n      <td>Spearman regularized MLP</td>\n      <td>acc_parity</td>\n      <td>0.685911</td>\n      <td>0.745000</td>\n      <td>0.236132</td>\n      <td>0.051943</td>\n      <td>0.059089</td>\n      <td>0.078632</td>\n      <td>{'l2': 0.01, 'dropout': 0.12328619122121832}</td>\n      <td>0.745000</td>\n      <td>0.059089</td>\n      <td>Max(Accuracy - Statistical Parity)</td>\n      <td>Max(Acc - Stat. Parity)</td>\n    </tr>\n    <tr>\n      <th>358</th>\n      <td>German Credit</td>\n      <td>Spearman regularized MLP</td>\n      <td>acc_odds</td>\n      <td>0.704234</td>\n      <td>0.760000</td>\n      <td>0.401230</td>\n      <td>0.055766</td>\n      <td>0.009692</td>\n      <td>0.015102</td>\n      <td>{'l2': 0.001, 'dropout': 0.14909089094980715}</td>\n      <td>0.760000</td>\n      <td>0.055766</td>\n      <td>Max(Accuracy - Equalized Odds)</td>\n      <td>Max(Acc - Eq. Opp.)</td>\n    </tr>\n    <tr>\n      <th>359</th>\n      <td>German Credit</td>\n      <td>Spearman regularized MLP</td>\n      <td>acc_opportunity</td>\n      <td>0.563827</td>\n      <td>0.715000</td>\n      <td>0.255098</td>\n      <td>0.128617</td>\n      <td>0.159217</td>\n      <td>0.151173</td>\n      <td>{'l2': 0.0001, 'dropout': 0.19122346802196713}</td>\n      <td>0.715000</td>\n      <td>0.151173</td>\n      <td>Max(Accuracy - Equal Opportunity)</td>\n      <td>Max(Acc - Eq. Odds)</td>\n    </tr>\n  </tbody>\n</table>\n<p>1080 rows × 14 columns</p>\n</div>"
     },
     "metadata": {},
     "output_type": "display_data"
    }
   ],
   "source": [
    "display(mlp_results)"
   ]
  },
  {
   "cell_type": "code",
   "execution_count": 37,
   "metadata": {
    "ExecuteTime": {
     "end_time": "2024-05-03T09:59:46.339137065Z",
     "start_time": "2024-05-03T09:59:46.315256614Z"
    }
   },
   "outputs": [
    {
     "data": {
      "text/plain": "['Adult Income', 'Bank Marketing', 'Compas Recidivism', 'German Credit']"
     },
     "execution_count": 37,
     "metadata": {},
     "output_type": "execute_result"
    }
   ],
   "source": [
    "datasets = ['Adult Income', 'Bank Marketing', 'Compas Recidivism','German Credit']\n",
    "datasets"
   ]
  },
  {
   "cell_type": "code",
   "execution_count": 38,
   "metadata": {
    "ExecuteTime": {
     "end_time": "2024-05-03T09:59:46.339542663Z",
     "start_time": "2024-05-03T09:59:46.315389057Z"
    }
   },
   "outputs": [
    {
     "data": {
      "text/plain": "['mcc_parity',\n 'mcc_opportunity',\n 'mcc_odds',\n 'acc_parity',\n 'acc_opportunity',\n 'acc_odds']"
     },
     "execution_count": 38,
     "metadata": {},
     "output_type": "execute_result"
    }
   ],
   "source": [
    "fitness_rules = ['mcc_parity', 'mcc_opportunity', 'mcc_odds', 'acc_parity', 'acc_opportunity', 'acc_odds']\n",
    "fitness_rules"
   ]
  },
  {
   "cell_type": "code",
   "execution_count": 42,
   "metadata": {
    "ExecuteTime": {
     "end_time": "2024-05-03T13:31:54.548260853Z",
     "start_time": "2024-05-03T13:31:54.540740528Z"
    }
   },
   "outputs": [],
   "source": [
    "ftl_methods = ['Standard FTL (baseline)', 'Pearson regularized FTL', 'Spearman regularized FTL']\n",
    "mlp_methods = ['Standard MLP (baseline)', 'Pearson regularized MLP', 'Spearman regularized MLP']\n",
    "significances = []"
   ]
  },
  {
   "cell_type": "code",
   "execution_count": 43,
   "outputs": [
    {
     "name": "stdout",
     "output_type": "stream",
     "text": [
      "Significance Testing\n"
     ]
    },
    {
     "data": {
      "text/plain": "                                           Standard MLP (baseline)  \\\nfitness_rule            dataset                                      \nMax(MCC - Stat. Parity) Adult Income                      1.000000   \n                        Adult Income                      0.734049   \n                        Adult Income                      0.130162   \n                        Bank Marketing                    1.000000   \n                        Bank Marketing                    1.000000   \n...                                                            ...   \nMax(Acc - Eq. Odds)     Compas Recidivism                 0.890634   \n                        Compas Recidivism                 1.000000   \n                        German Credit                     1.000000   \n                        German Credit                     0.451214   \n                        German Credit                     0.464468   \n\n                                           Pearson regularized MLP  \\\nfitness_rule            dataset                                      \nMax(MCC - Stat. Parity) Adult Income                      1.000000   \n                        Adult Income                      1.000000   \n                        Adult Income                      0.316765   \n                        Bank Marketing                    0.468484   \n                        Bank Marketing                    1.000000   \n...                                                            ...   \nMax(Acc - Eq. Odds)     Compas Recidivism                 1.000000   \n                        Compas Recidivism                 1.000000   \n                        German Credit                     1.000000   \n                        German Credit                     1.000000   \n                        German Credit                     1.000000   \n\n                                           Spearman regularized MLP  \\\nfitness_rule            dataset                                       \nMax(MCC - Stat. Parity) Adult Income                       1.000000   \n                        Adult Income                       1.000000   \n                        Adult Income                       1.000000   \n                        Bank Marketing                     0.146821   \n                        Bank Marketing                     0.442639   \n...                                                             ...   \nMax(Acc - Eq. Odds)     Compas Recidivism                  0.563892   \n                        Compas Recidivism                  1.000000   \n                        German Credit                      1.000000   \n                        German Credit                      0.884433   \n                        German Credit                      1.000000   \n\n                                                             method  \nfitness_rule            dataset                                      \nMax(MCC - Stat. Parity) Adult Income        Standard MLP (baseline)  \n                        Adult Income        Pearson regularized MLP  \n                        Adult Income       Spearman regularized MLP  \n                        Bank Marketing      Standard MLP (baseline)  \n                        Bank Marketing      Pearson regularized MLP  \n...                                                             ...  \nMax(Acc - Eq. Odds)     Compas Recidivism   Pearson regularized MLP  \n                        Compas Recidivism  Spearman regularized MLP  \n                        German Credit       Standard MLP (baseline)  \n                        German Credit       Pearson regularized MLP  \n                        German Credit      Spearman regularized MLP  \n\n[72 rows x 4 columns]",
      "text/html": "<div>\n<style scoped>\n    .dataframe tbody tr th:only-of-type {\n        vertical-align: middle;\n    }\n\n    .dataframe tbody tr th {\n        vertical-align: top;\n    }\n\n    .dataframe thead th {\n        text-align: right;\n    }\n</style>\n<table border=\"1\" class=\"dataframe\">\n  <thead>\n    <tr style=\"text-align: right;\">\n      <th></th>\n      <th></th>\n      <th>Standard MLP (baseline)</th>\n      <th>Pearson regularized MLP</th>\n      <th>Spearman regularized MLP</th>\n      <th>method</th>\n    </tr>\n    <tr>\n      <th>fitness_rule</th>\n      <th>dataset</th>\n      <th></th>\n      <th></th>\n      <th></th>\n      <th></th>\n    </tr>\n  </thead>\n  <tbody>\n    <tr>\n      <th rowspan=\"5\" valign=\"top\">Max(MCC - Stat. Parity)</th>\n      <th>Adult Income</th>\n      <td>1.000000</td>\n      <td>1.000000</td>\n      <td>1.000000</td>\n      <td>Standard MLP (baseline)</td>\n    </tr>\n    <tr>\n      <th>Adult Income</th>\n      <td>0.734049</td>\n      <td>1.000000</td>\n      <td>1.000000</td>\n      <td>Pearson regularized MLP</td>\n    </tr>\n    <tr>\n      <th>Adult Income</th>\n      <td>0.130162</td>\n      <td>0.316765</td>\n      <td>1.000000</td>\n      <td>Spearman regularized MLP</td>\n    </tr>\n    <tr>\n      <th>Bank Marketing</th>\n      <td>1.000000</td>\n      <td>0.468484</td>\n      <td>0.146821</td>\n      <td>Standard MLP (baseline)</td>\n    </tr>\n    <tr>\n      <th>Bank Marketing</th>\n      <td>1.000000</td>\n      <td>1.000000</td>\n      <td>0.442639</td>\n      <td>Pearson regularized MLP</td>\n    </tr>\n    <tr>\n      <th>...</th>\n      <th>...</th>\n      <td>...</td>\n      <td>...</td>\n      <td>...</td>\n      <td>...</td>\n    </tr>\n    <tr>\n      <th rowspan=\"5\" valign=\"top\">Max(Acc - Eq. Odds)</th>\n      <th>Compas Recidivism</th>\n      <td>0.890634</td>\n      <td>1.000000</td>\n      <td>0.563892</td>\n      <td>Pearson regularized MLP</td>\n    </tr>\n    <tr>\n      <th>Compas Recidivism</th>\n      <td>1.000000</td>\n      <td>1.000000</td>\n      <td>1.000000</td>\n      <td>Spearman regularized MLP</td>\n    </tr>\n    <tr>\n      <th>German Credit</th>\n      <td>1.000000</td>\n      <td>1.000000</td>\n      <td>1.000000</td>\n      <td>Standard MLP (baseline)</td>\n    </tr>\n    <tr>\n      <th>German Credit</th>\n      <td>0.451214</td>\n      <td>1.000000</td>\n      <td>0.884433</td>\n      <td>Pearson regularized MLP</td>\n    </tr>\n    <tr>\n      <th>German Credit</th>\n      <td>0.464468</td>\n      <td>1.000000</td>\n      <td>1.000000</td>\n      <td>Spearman regularized MLP</td>\n    </tr>\n  </tbody>\n</table>\n<p>72 rows × 4 columns</p>\n</div>"
     },
     "metadata": {},
     "output_type": "display_data"
    },
    {
     "data": {
      "text/plain": "                                                                     fitness  \\\n                                                                        mean   \nFitness Rule Abvr       dataset           method                               \nMax(Acc - Eq. Odds)     Adult Income      Spearman regularized MLP  0.768344   \n                                          Standard MLP (baseline)   0.758290   \n                                          Pearson regularized MLP   0.746905   \n                        Bank Marketing    Spearman regularized MLP  0.837676   \n                                          Pearson regularized MLP   0.829691   \n...                                                                      ...   \nMax(MCC - Stat. Parity) Compas Recidivism Standard MLP (baseline)   0.067416   \n                                          Pearson regularized MLP   0.062119   \n                        German Credit     Standard MLP (baseline)   0.284513   \n                                          Spearman regularized MLP  0.264883   \n                                          Pearson regularized MLP   0.261691   \n\n                                                                              \\\n                                                                         std   \nFitness Rule Abvr       dataset           method                               \nMax(Acc - Eq. Odds)     Adult Income      Spearman regularized MLP  0.044868   \n                                          Standard MLP (baseline)   0.035161   \n                                          Pearson regularized MLP   0.016776   \n                        Bank Marketing    Spearman regularized MLP  0.064290   \n                                          Pearson regularized MLP   0.046308   \n...                                                                      ...   \nMax(MCC - Stat. Parity) Compas Recidivism Standard MLP (baseline)   0.032416   \n                                          Pearson regularized MLP   0.028627   \n                        German Credit     Standard MLP (baseline)   0.109260   \n                                          Spearman regularized MLP  0.086960   \n                                          Pearson regularized MLP   0.082999   \n\n                                                                          \\\n                                                                   count   \nFitness Rule Abvr       dataset           method                           \nMax(Acc - Eq. Odds)     Adult Income      Spearman regularized MLP    15   \n                                          Standard MLP (baseline)     15   \n                                          Pearson regularized MLP     15   \n                        Bank Marketing    Spearman regularized MLP    15   \n                                          Pearson regularized MLP     15   \n...                                                                  ...   \nMax(MCC - Stat. Parity) Compas Recidivism Standard MLP (baseline)     15   \n                                          Pearson regularized MLP     15   \n                        German Credit     Standard MLP (baseline)     15   \n                                          Spearman regularized MLP    15   \n                                          Pearson regularized MLP     15   \n\n                                                                   Performance  \\\n                                                                          mean   \nFitness Rule Abvr       dataset           method                                 \nMax(Acc - Eq. Odds)     Adult Income      Spearman regularized MLP    0.847105   \n                                          Standard MLP (baseline)     0.847864   \n                                          Pearson regularized MLP     0.849022   \n                        Bank Marketing    Spearman regularized MLP    0.900022   \n                                          Pearson regularized MLP     0.901935   \n...                                                                        ...   \nMax(MCC - Stat. Parity) Compas Recidivism Standard MLP (baseline)     0.281248   \n                                          Pearson regularized MLP     0.289743   \n                        German Credit     Standard MLP (baseline)     0.344532   \n                                          Spearman regularized MLP    0.368131   \n                                          Pearson regularized MLP     0.368567   \n\n                                                                              \\\n                                                                         std   \nFitness Rule Abvr       dataset           method                               \nMax(Acc - Eq. Odds)     Adult Income      Spearman regularized MLP  0.002409   \n                                          Standard MLP (baseline)   0.004669   \n                                          Pearson regularized MLP   0.002941   \n                        Bank Marketing    Spearman regularized MLP  0.003459   \n                                          Pearson regularized MLP   0.002759   \n...                                                                      ...   \nMax(MCC - Stat. Parity) Compas Recidivism Standard MLP (baseline)   0.024988   \n                                          Pearson regularized MLP   0.021580   \n                        German Credit     Standard MLP (baseline)   0.091782   \n                                          Spearman regularized MLP  0.071892   \n                                          Pearson regularized MLP   0.058125   \n\n                                                                    Fairness  \\\n                                                                        mean   \nFitness Rule Abvr       dataset           method                               \nMax(Acc - Eq. Odds)     Adult Income      Spearman regularized MLP  0.078761   \n                                          Standard MLP (baseline)   0.089574   \n                                          Pearson regularized MLP   0.102117   \n                        Bank Marketing    Spearman regularized MLP  0.062346   \n                                          Pearson regularized MLP   0.072244   \n...                                                                      ...   \nMax(MCC - Stat. Parity) Compas Recidivism Standard MLP (baseline)   0.213832   \n                                          Pearson regularized MLP   0.227624   \n                        German Credit     Standard MLP (baseline)   0.060019   \n                                          Spearman regularized MLP  0.103248   \n                                          Pearson regularized MLP   0.106876   \n\n                                                                              \\\n                                                                         std   \nFitness Rule Abvr       dataset           method                               \nMax(Acc - Eq. Odds)     Adult Income      Spearman regularized MLP  0.044443   \n                                          Standard MLP (baseline)   0.035575   \n                                          Pearson regularized MLP   0.017054   \n                        Bank Marketing    Spearman regularized MLP  0.063412   \n                                          Pearson regularized MLP   0.045095   \n...                                                                      ...   \nMax(MCC - Stat. Parity) Compas Recidivism Standard MLP (baseline)   0.039258   \n                                          Pearson regularized MLP   0.026098   \n                        German Credit     Standard MLP (baseline)   0.049881   \n                                          Spearman regularized MLP  0.061236   \n                                          Pearson regularized MLP   0.058840   \n\n                                                                    formatted_fitness  \\\n                                                                                        \nFitness Rule Abvr       dataset           method                                        \nMax(Acc - Eq. Odds)     Adult Income      Spearman regularized MLP  $0.768 (\\pm0.04)$   \n                                          Standard MLP (baseline)   $0.758 (\\pm0.04)$   \n                                          Pearson regularized MLP   $0.747 (\\pm0.02)$   \n                        Bank Marketing    Spearman regularized MLP  $0.838 (\\pm0.06)$   \n                                          Pearson regularized MLP   $0.830 (\\pm0.05)$   \n...                                                                               ...   \nMax(MCC - Stat. Parity) Compas Recidivism Standard MLP (baseline)   $0.067 (\\pm0.03)$   \n                                          Pearson regularized MLP   $0.062 (\\pm0.03)$   \n                        German Credit     Standard MLP (baseline)   $0.285 (\\pm0.11)$   \n                                          Spearman regularized MLP  $0.265 (\\pm0.09)$   \n                                          Pearson regularized MLP   $0.262 (\\pm0.08)$   \n\n                                                                   formatted_performance  \\\n                                                                                           \nFitness Rule Abvr       dataset           method                                           \nMax(Acc - Eq. Odds)     Adult Income      Spearman regularized MLP     $0.847 (\\pm0.00)$   \n                                          Standard MLP (baseline)      $0.848 (\\pm0.00)$   \n                                          Pearson regularized MLP      $0.849 (\\pm0.00)$   \n                        Bank Marketing    Spearman regularized MLP     $0.900 (\\pm0.00)$   \n                                          Pearson regularized MLP      $0.902 (\\pm0.00)$   \n...                                                                                  ...   \nMax(MCC - Stat. Parity) Compas Recidivism Standard MLP (baseline)      $0.281 (\\pm0.02)$   \n                                          Pearson regularized MLP      $0.290 (\\pm0.02)$   \n                        German Credit     Standard MLP (baseline)      $0.345 (\\pm0.09)$   \n                                          Spearman regularized MLP     $0.368 (\\pm0.07)$   \n                                          Pearson regularized MLP      $0.369 (\\pm0.06)$   \n\n                                                                   formatted_fairness  \n                                                                                       \nFitness Rule Abvr       dataset           method                                       \nMax(Acc - Eq. Odds)     Adult Income      Spearman regularized MLP  $0.079 (\\pm0.04)$  \n                                          Standard MLP (baseline)   $0.090 (\\pm0.04)$  \n                                          Pearson regularized MLP   $0.102 (\\pm0.02)$  \n                        Bank Marketing    Spearman regularized MLP  $0.062 (\\pm0.06)$  \n                                          Pearson regularized MLP   $0.072 (\\pm0.05)$  \n...                                                                               ...  \nMax(MCC - Stat. Parity) Compas Recidivism Standard MLP (baseline)   $0.214 (\\pm0.04)$  \n                                          Pearson regularized MLP   $0.228 (\\pm0.03)$  \n                        German Credit     Standard MLP (baseline)   $0.060 (\\pm0.05)$  \n                                          Spearman regularized MLP  $0.103 (\\pm0.06)$  \n                                          Pearson regularized MLP   $0.107 (\\pm0.06)$  \n\n[72 rows x 10 columns]",
      "text/html": "<div>\n<style scoped>\n    .dataframe tbody tr th:only-of-type {\n        vertical-align: middle;\n    }\n\n    .dataframe tbody tr th {\n        vertical-align: top;\n    }\n\n    .dataframe thead tr th {\n        text-align: left;\n    }\n\n    .dataframe thead tr:last-of-type th {\n        text-align: right;\n    }\n</style>\n<table border=\"1\" class=\"dataframe\">\n  <thead>\n    <tr>\n      <th></th>\n      <th></th>\n      <th></th>\n      <th colspan=\"3\" halign=\"left\">fitness</th>\n      <th colspan=\"2\" halign=\"left\">Performance</th>\n      <th colspan=\"2\" halign=\"left\">Fairness</th>\n      <th>formatted_fitness</th>\n      <th>formatted_performance</th>\n      <th>formatted_fairness</th>\n    </tr>\n    <tr>\n      <th></th>\n      <th></th>\n      <th></th>\n      <th>mean</th>\n      <th>std</th>\n      <th>count</th>\n      <th>mean</th>\n      <th>std</th>\n      <th>mean</th>\n      <th>std</th>\n      <th></th>\n      <th></th>\n      <th></th>\n    </tr>\n    <tr>\n      <th>Fitness Rule Abvr</th>\n      <th>dataset</th>\n      <th>method</th>\n      <th></th>\n      <th></th>\n      <th></th>\n      <th></th>\n      <th></th>\n      <th></th>\n      <th></th>\n      <th></th>\n      <th></th>\n      <th></th>\n    </tr>\n  </thead>\n  <tbody>\n    <tr>\n      <th rowspan=\"5\" valign=\"top\">Max(Acc - Eq. Odds)</th>\n      <th rowspan=\"3\" valign=\"top\">Adult Income</th>\n      <th>Spearman regularized MLP</th>\n      <td>0.768344</td>\n      <td>0.044868</td>\n      <td>15</td>\n      <td>0.847105</td>\n      <td>0.002409</td>\n      <td>0.078761</td>\n      <td>0.044443</td>\n      <td>$0.768 (\\pm0.04)$</td>\n      <td>$0.847 (\\pm0.00)$</td>\n      <td>$0.079 (\\pm0.04)$</td>\n    </tr>\n    <tr>\n      <th>Standard MLP (baseline)</th>\n      <td>0.758290</td>\n      <td>0.035161</td>\n      <td>15</td>\n      <td>0.847864</td>\n      <td>0.004669</td>\n      <td>0.089574</td>\n      <td>0.035575</td>\n      <td>$0.758 (\\pm0.04)$</td>\n      <td>$0.848 (\\pm0.00)$</td>\n      <td>$0.090 (\\pm0.04)$</td>\n    </tr>\n    <tr>\n      <th>Pearson regularized MLP</th>\n      <td>0.746905</td>\n      <td>0.016776</td>\n      <td>15</td>\n      <td>0.849022</td>\n      <td>0.002941</td>\n      <td>0.102117</td>\n      <td>0.017054</td>\n      <td>$0.747 (\\pm0.02)$</td>\n      <td>$0.849 (\\pm0.00)$</td>\n      <td>$0.102 (\\pm0.02)$</td>\n    </tr>\n    <tr>\n      <th rowspan=\"2\" valign=\"top\">Bank Marketing</th>\n      <th>Spearman regularized MLP</th>\n      <td>0.837676</td>\n      <td>0.064290</td>\n      <td>15</td>\n      <td>0.900022</td>\n      <td>0.003459</td>\n      <td>0.062346</td>\n      <td>0.063412</td>\n      <td>$0.838 (\\pm0.06)$</td>\n      <td>$0.900 (\\pm0.00)$</td>\n      <td>$0.062 (\\pm0.06)$</td>\n    </tr>\n    <tr>\n      <th>Pearson regularized MLP</th>\n      <td>0.829691</td>\n      <td>0.046308</td>\n      <td>15</td>\n      <td>0.901935</td>\n      <td>0.002759</td>\n      <td>0.072244</td>\n      <td>0.045095</td>\n      <td>$0.830 (\\pm0.05)$</td>\n      <td>$0.902 (\\pm0.00)$</td>\n      <td>$0.072 (\\pm0.05)$</td>\n    </tr>\n    <tr>\n      <th>...</th>\n      <th>...</th>\n      <th>...</th>\n      <td>...</td>\n      <td>...</td>\n      <td>...</td>\n      <td>...</td>\n      <td>...</td>\n      <td>...</td>\n      <td>...</td>\n      <td>...</td>\n      <td>...</td>\n      <td>...</td>\n    </tr>\n    <tr>\n      <th rowspan=\"5\" valign=\"top\">Max(MCC - Stat. Parity)</th>\n      <th rowspan=\"2\" valign=\"top\">Compas Recidivism</th>\n      <th>Standard MLP (baseline)</th>\n      <td>0.067416</td>\n      <td>0.032416</td>\n      <td>15</td>\n      <td>0.281248</td>\n      <td>0.024988</td>\n      <td>0.213832</td>\n      <td>0.039258</td>\n      <td>$0.067 (\\pm0.03)$</td>\n      <td>$0.281 (\\pm0.02)$</td>\n      <td>$0.214 (\\pm0.04)$</td>\n    </tr>\n    <tr>\n      <th>Pearson regularized MLP</th>\n      <td>0.062119</td>\n      <td>0.028627</td>\n      <td>15</td>\n      <td>0.289743</td>\n      <td>0.021580</td>\n      <td>0.227624</td>\n      <td>0.026098</td>\n      <td>$0.062 (\\pm0.03)$</td>\n      <td>$0.290 (\\pm0.02)$</td>\n      <td>$0.228 (\\pm0.03)$</td>\n    </tr>\n    <tr>\n      <th rowspan=\"3\" valign=\"top\">German Credit</th>\n      <th>Standard MLP (baseline)</th>\n      <td>0.284513</td>\n      <td>0.109260</td>\n      <td>15</td>\n      <td>0.344532</td>\n      <td>0.091782</td>\n      <td>0.060019</td>\n      <td>0.049881</td>\n      <td>$0.285 (\\pm0.11)$</td>\n      <td>$0.345 (\\pm0.09)$</td>\n      <td>$0.060 (\\pm0.05)$</td>\n    </tr>\n    <tr>\n      <th>Spearman regularized MLP</th>\n      <td>0.264883</td>\n      <td>0.086960</td>\n      <td>15</td>\n      <td>0.368131</td>\n      <td>0.071892</td>\n      <td>0.103248</td>\n      <td>0.061236</td>\n      <td>$0.265 (\\pm0.09)$</td>\n      <td>$0.368 (\\pm0.07)$</td>\n      <td>$0.103 (\\pm0.06)$</td>\n    </tr>\n    <tr>\n      <th>Pearson regularized MLP</th>\n      <td>0.261691</td>\n      <td>0.082999</td>\n      <td>15</td>\n      <td>0.368567</td>\n      <td>0.058125</td>\n      <td>0.106876</td>\n      <td>0.058840</td>\n      <td>$0.262 (\\pm0.08)$</td>\n      <td>$0.369 (\\pm0.06)$</td>\n      <td>$0.107 (\\pm0.06)$</td>\n    </tr>\n  </tbody>\n</table>\n<p>72 rows × 10 columns</p>\n</div>"
     },
     "metadata": {},
     "output_type": "display_data"
    },
    {
     "name": "stdout",
     "output_type": "stream",
     "text": [
      "Significance Testing\n"
     ]
    },
    {
     "data": {
      "text/plain": "                                      Standard FTL (baseline)  \\\nfitness_rule            dataset                                 \nMax(MCC - Stat. Parity) Adult Income                 1.000000   \n                        Adult Income                 0.570111   \n                        Adult Income                 1.000000   \nMax(MCC - Eq. Opp.)     Adult Income                 1.000000   \n                        Adult Income                 0.330120   \n                        Adult Income                 0.409720   \nMax(MCC - Eq. Odds)     Adult Income                 1.000000   \n                        Adult Income                 1.000000   \n                        Adult Income                 1.000000   \nMax(Acc - Stat. Parity) Adult Income                 1.000000   \n                        Adult Income                 0.237760   \n                        Adult Income                 0.426893   \nMax(Acc - Eq. Opp.)     Adult Income                 1.000000   \n                        Adult Income                 0.620055   \n                        Adult Income                 0.567884   \nMax(Acc - Eq. Odds)     Adult Income                 1.000000   \n                        Adult Income                 0.898850   \n                        Adult Income                 1.000000   \n\n                                      Pearson regularized FTL  \\\nfitness_rule            dataset                                 \nMax(MCC - Stat. Parity) Adult Income                 1.000000   \n                        Adult Income                 1.000000   \n                        Adult Income                 1.000000   \nMax(MCC - Eq. Opp.)     Adult Income                 1.000000   \n                        Adult Income                 1.000000   \n                        Adult Income                 1.000000   \nMax(MCC - Eq. Odds)     Adult Income                 0.214025   \n                        Adult Income                 1.000000   \n                        Adult Income                 0.463396   \nMax(Acc - Stat. Parity) Adult Income                 1.000000   \n                        Adult Income                 1.000000   \n                        Adult Income                 1.000000   \nMax(Acc - Eq. Opp.)     Adult Income                 1.000000   \n                        Adult Income                 1.000000   \n                        Adult Income                 0.961876   \nMax(Acc - Eq. Odds)     Adult Income                 1.000000   \n                        Adult Income                 1.000000   \n                        Adult Income                 1.000000   \n\n                                      Spearman regularized FTL  \\\nfitness_rule            dataset                                  \nMax(MCC - Stat. Parity) Adult Income                  0.414297   \n                        Adult Income                  0.200100   \n                        Adult Income                  1.000000   \nMax(MCC - Eq. Opp.)     Adult Income                  1.000000   \n                        Adult Income                  0.693668   \n                        Adult Income                  1.000000   \nMax(MCC - Eq. Odds)     Adult Income                  0.591680   \n                        Adult Income                  1.000000   \n                        Adult Income                  1.000000   \nMax(Acc - Stat. Parity) Adult Income                  1.000000   \n                        Adult Income                  0.533003   \n                        Adult Income                  1.000000   \nMax(Acc - Eq. Opp.)     Adult Income                  1.000000   \n                        Adult Income                  1.000000   \n                        Adult Income                  1.000000   \nMax(Acc - Eq. Odds)     Adult Income                  0.258881   \n                        Adult Income                  0.221483   \n                        Adult Income                  1.000000   \n\n                                                        method  \nfitness_rule            dataset                                 \nMax(MCC - Stat. Parity) Adult Income   Standard FTL (baseline)  \n                        Adult Income   Pearson regularized FTL  \n                        Adult Income  Spearman regularized FTL  \nMax(MCC - Eq. Opp.)     Adult Income   Standard FTL (baseline)  \n                        Adult Income   Pearson regularized FTL  \n                        Adult Income  Spearman regularized FTL  \nMax(MCC - Eq. Odds)     Adult Income   Standard FTL (baseline)  \n                        Adult Income   Pearson regularized FTL  \n                        Adult Income  Spearman regularized FTL  \nMax(Acc - Stat. Parity) Adult Income   Standard FTL (baseline)  \n                        Adult Income   Pearson regularized FTL  \n                        Adult Income  Spearman regularized FTL  \nMax(Acc - Eq. Opp.)     Adult Income   Standard FTL (baseline)  \n                        Adult Income   Pearson regularized FTL  \n                        Adult Income  Spearman regularized FTL  \nMax(Acc - Eq. Odds)     Adult Income   Standard FTL (baseline)  \n                        Adult Income   Pearson regularized FTL  \n                        Adult Income  Spearman regularized FTL  ",
      "text/html": "<div>\n<style scoped>\n    .dataframe tbody tr th:only-of-type {\n        vertical-align: middle;\n    }\n\n    .dataframe tbody tr th {\n        vertical-align: top;\n    }\n\n    .dataframe thead th {\n        text-align: right;\n    }\n</style>\n<table border=\"1\" class=\"dataframe\">\n  <thead>\n    <tr style=\"text-align: right;\">\n      <th></th>\n      <th></th>\n      <th>Standard FTL (baseline)</th>\n      <th>Pearson regularized FTL</th>\n      <th>Spearman regularized FTL</th>\n      <th>method</th>\n    </tr>\n    <tr>\n      <th>fitness_rule</th>\n      <th>dataset</th>\n      <th></th>\n      <th></th>\n      <th></th>\n      <th></th>\n    </tr>\n  </thead>\n  <tbody>\n    <tr>\n      <th rowspan=\"3\" valign=\"top\">Max(MCC - Stat. Parity)</th>\n      <th>Adult Income</th>\n      <td>1.000000</td>\n      <td>1.000000</td>\n      <td>0.414297</td>\n      <td>Standard FTL (baseline)</td>\n    </tr>\n    <tr>\n      <th>Adult Income</th>\n      <td>0.570111</td>\n      <td>1.000000</td>\n      <td>0.200100</td>\n      <td>Pearson regularized FTL</td>\n    </tr>\n    <tr>\n      <th>Adult Income</th>\n      <td>1.000000</td>\n      <td>1.000000</td>\n      <td>1.000000</td>\n      <td>Spearman regularized FTL</td>\n    </tr>\n    <tr>\n      <th rowspan=\"3\" valign=\"top\">Max(MCC - Eq. Opp.)</th>\n      <th>Adult Income</th>\n      <td>1.000000</td>\n      <td>1.000000</td>\n      <td>1.000000</td>\n      <td>Standard FTL (baseline)</td>\n    </tr>\n    <tr>\n      <th>Adult Income</th>\n      <td>0.330120</td>\n      <td>1.000000</td>\n      <td>0.693668</td>\n      <td>Pearson regularized FTL</td>\n    </tr>\n    <tr>\n      <th>Adult Income</th>\n      <td>0.409720</td>\n      <td>1.000000</td>\n      <td>1.000000</td>\n      <td>Spearman regularized FTL</td>\n    </tr>\n    <tr>\n      <th rowspan=\"3\" valign=\"top\">Max(MCC - Eq. Odds)</th>\n      <th>Adult Income</th>\n      <td>1.000000</td>\n      <td>0.214025</td>\n      <td>0.591680</td>\n      <td>Standard FTL (baseline)</td>\n    </tr>\n    <tr>\n      <th>Adult Income</th>\n      <td>1.000000</td>\n      <td>1.000000</td>\n      <td>1.000000</td>\n      <td>Pearson regularized FTL</td>\n    </tr>\n    <tr>\n      <th>Adult Income</th>\n      <td>1.000000</td>\n      <td>0.463396</td>\n      <td>1.000000</td>\n      <td>Spearman regularized FTL</td>\n    </tr>\n    <tr>\n      <th rowspan=\"3\" valign=\"top\">Max(Acc - Stat. Parity)</th>\n      <th>Adult Income</th>\n      <td>1.000000</td>\n      <td>1.000000</td>\n      <td>1.000000</td>\n      <td>Standard FTL (baseline)</td>\n    </tr>\n    <tr>\n      <th>Adult Income</th>\n      <td>0.237760</td>\n      <td>1.000000</td>\n      <td>0.533003</td>\n      <td>Pearson regularized FTL</td>\n    </tr>\n    <tr>\n      <th>Adult Income</th>\n      <td>0.426893</td>\n      <td>1.000000</td>\n      <td>1.000000</td>\n      <td>Spearman regularized FTL</td>\n    </tr>\n    <tr>\n      <th rowspan=\"3\" valign=\"top\">Max(Acc - Eq. Opp.)</th>\n      <th>Adult Income</th>\n      <td>1.000000</td>\n      <td>1.000000</td>\n      <td>1.000000</td>\n      <td>Standard FTL (baseline)</td>\n    </tr>\n    <tr>\n      <th>Adult Income</th>\n      <td>0.620055</td>\n      <td>1.000000</td>\n      <td>1.000000</td>\n      <td>Pearson regularized FTL</td>\n    </tr>\n    <tr>\n      <th>Adult Income</th>\n      <td>0.567884</td>\n      <td>0.961876</td>\n      <td>1.000000</td>\n      <td>Spearman regularized FTL</td>\n    </tr>\n    <tr>\n      <th rowspan=\"3\" valign=\"top\">Max(Acc - Eq. Odds)</th>\n      <th>Adult Income</th>\n      <td>1.000000</td>\n      <td>1.000000</td>\n      <td>0.258881</td>\n      <td>Standard FTL (baseline)</td>\n    </tr>\n    <tr>\n      <th>Adult Income</th>\n      <td>0.898850</td>\n      <td>1.000000</td>\n      <td>0.221483</td>\n      <td>Pearson regularized FTL</td>\n    </tr>\n    <tr>\n      <th>Adult Income</th>\n      <td>1.000000</td>\n      <td>1.000000</td>\n      <td>1.000000</td>\n      <td>Spearman regularized FTL</td>\n    </tr>\n  </tbody>\n</table>\n</div>"
     },
     "metadata": {},
     "output_type": "display_data"
    },
    {
     "data": {
      "text/plain": "                                                                fitness  \\\n                                                                   mean   \nFitness Rule Abvr       dataset      method                               \nMax(Acc - Eq. Odds)     Adult Income Pearson regularized FTL   0.816440   \n                                     Standard FTL (baseline)   0.813400   \n                                     Spearman regularized FTL  0.793284   \nMax(Acc - Eq. Opp.)     Adult Income Pearson regularized FTL   0.806716   \n                                     Spearman regularized FTL  0.805827   \n                                     Standard FTL (baseline)   0.801817   \nMax(Acc - Stat. Parity) Adult Income Pearson regularized FTL   0.813380   \n                                     Spearman regularized FTL  0.809098   \n                                     Standard FTL (baseline)   0.799946   \nMax(MCC - Eq. Odds)     Adult Income Standard FTL (baseline)   0.552515   \n                                     Spearman regularized FTL  0.542470   \n                                     Pearson regularized FTL   0.527102   \nMax(MCC - Eq. Opp.)     Adult Income Pearson regularized FTL   0.530239   \n                                     Spearman regularized FTL  0.526425   \n                                     Standard FTL (baseline)   0.516256   \nMax(MCC - Stat. Parity) Adult Income Pearson regularized FTL   0.493097   \n                                     Standard FTL (baseline)   0.486983   \n                                     Spearman regularized FTL  0.475760   \n\n                                                                               \\\n                                                                    std count   \nFitness Rule Abvr       dataset      method                                     \nMax(Acc - Eq. Odds)     Adult Income Pearson regularized FTL   0.024623    16   \n                                     Standard FTL (baseline)   0.021986    13   \n                                     Spearman regularized FTL  0.036451    12   \nMax(Acc - Eq. Opp.)     Adult Income Pearson regularized FTL   0.015056    16   \n                                     Spearman regularized FTL  0.011884    12   \n                                     Standard FTL (baseline)   0.015775    14   \nMax(Acc - Stat. Parity) Adult Income Pearson regularized FTL   0.011659    16   \n                                     Spearman regularized FTL  0.012363    12   \n                                     Standard FTL (baseline)   0.023751    14   \nMax(MCC - Eq. Odds)     Adult Income Standard FTL (baseline)   0.029883    14   \n                                     Spearman regularized FTL  0.035399    12   \n                                     Pearson regularized FTL   0.033794    16   \nMax(MCC - Eq. Opp.)     Adult Income Pearson regularized FTL   0.015378    16   \n                                     Spearman regularized FTL  0.014108    12   \n                                     Standard FTL (baseline)   0.030559    14   \nMax(MCC - Stat. Parity) Adult Income Pearson regularized FTL   0.021600    16   \n                                     Standard FTL (baseline)   0.018719    14   \n                                     Spearman regularized FTL  0.022828    12   \n\n                                                              Performance  \\\n                                                                     mean   \nFitness Rule Abvr       dataset      method                                 \nMax(Acc - Eq. Odds)     Adult Income Pearson regularized FTL     0.844002   \n                                     Standard FTL (baseline)     0.847098   \n                                     Spearman regularized FTL    0.843265   \nMax(Acc - Eq. Opp.)     Adult Income Pearson regularized FTL     0.843954   \n                                     Spearman regularized FTL    0.842500   \n                                     Standard FTL (baseline)     0.839035   \nMax(Acc - Stat. Parity) Adult Income Pearson regularized FTL     0.828372   \n                                     Spearman regularized FTL    0.824912   \n                                     Standard FTL (baseline)     0.827561   \nMax(MCC - Eq. Odds)     Adult Income Standard FTL (baseline)     0.580809   \n                                     Spearman regularized FTL    0.580652   \n                                     Pearson regularized FTL     0.575703   \nMax(MCC - Eq. Opp.)     Adult Income Pearson regularized FTL     0.578205   \n                                     Spearman regularized FTL    0.574624   \n                                     Standard FTL (baseline)     0.569236   \nMax(MCC - Stat. Parity) Adult Income Pearson regularized FTL     0.505210   \n                                     Standard FTL (baseline)     0.505311   \n                                     Spearman regularized FTL    0.500205   \n\n                                                                         \\\n                                                                    std   \nFitness Rule Abvr       dataset      method                               \nMax(Acc - Eq. Odds)     Adult Income Pearson regularized FTL   0.009140   \n                                     Standard FTL (baseline)   0.002867   \n                                     Spearman regularized FTL  0.003187   \nMax(Acc - Eq. Opp.)     Adult Income Pearson regularized FTL   0.007224   \n                                     Spearman regularized FTL  0.003842   \n                                     Standard FTL (baseline)   0.008325   \nMax(Acc - Stat. Parity) Adult Income Pearson regularized FTL   0.008529   \n                                     Spearman regularized FTL  0.009076   \n                                     Standard FTL (baseline)   0.008750   \nMax(MCC - Eq. Odds)     Adult Income Standard FTL (baseline)   0.010422   \n                                     Spearman regularized FTL  0.010257   \n                                     Pearson regularized FTL   0.018196   \nMax(MCC - Eq. Opp.)     Adult Income Pearson regularized FTL   0.013779   \n                                     Spearman regularized FTL  0.012236   \n                                     Standard FTL (baseline)   0.024584   \nMax(MCC - Stat. Parity) Adult Income Pearson regularized FTL   0.019975   \n                                     Standard FTL (baseline)   0.022714   \n                                     Spearman regularized FTL  0.021246   \n\n                                                               Fairness  \\\n                                                                   mean   \nFitness Rule Abvr       dataset      method                               \nMax(Acc - Eq. Odds)     Adult Income Pearson regularized FTL   0.027562   \n                                     Standard FTL (baseline)   0.033698   \n                                     Spearman regularized FTL  0.049981   \nMax(Acc - Eq. Opp.)     Adult Income Pearson regularized FTL   0.037238   \n                                     Spearman regularized FTL  0.036674   \n                                     Standard FTL (baseline)   0.037218   \nMax(Acc - Stat. Parity) Adult Income Pearson regularized FTL   0.014992   \n                                     Spearman regularized FTL  0.015814   \n                                     Standard FTL (baseline)   0.027615   \nMax(MCC - Eq. Odds)     Adult Income Standard FTL (baseline)   0.028294   \n                                     Spearman regularized FTL  0.038183   \n                                     Pearson regularized FTL   0.048601   \nMax(MCC - Eq. Opp.)     Adult Income Pearson regularized FTL   0.047966   \n                                     Spearman regularized FTL  0.048200   \n                                     Standard FTL (baseline)   0.052980   \nMax(MCC - Stat. Parity) Adult Income Pearson regularized FTL   0.012113   \n                                     Standard FTL (baseline)   0.018328   \n                                     Spearman regularized FTL  0.024445   \n\n                                                                         \\\n                                                                    std   \nFitness Rule Abvr       dataset      method                               \nMax(Acc - Eq. Odds)     Adult Income Pearson regularized FTL   0.022816   \n                                     Standard FTL (baseline)   0.021060   \n                                     Spearman regularized FTL  0.037638   \nMax(Acc - Eq. Opp.)     Adult Income Pearson regularized FTL   0.014540   \n                                     Spearman regularized FTL  0.011862   \n                                     Standard FTL (baseline)   0.017543   \nMax(Acc - Stat. Parity) Adult Income Pearson regularized FTL   0.011506   \n                                     Spearman regularized FTL  0.008208   \n                                     Standard FTL (baseline)   0.026391   \nMax(MCC - Eq. Odds)     Adult Income Standard FTL (baseline)   0.028730   \n                                     Spearman regularized FTL  0.028510   \n                                     Pearson regularized FTL   0.032912   \nMax(MCC - Eq. Opp.)     Adult Income Pearson regularized FTL   0.017720   \n                                     Spearman regularized FTL  0.012006   \n                                     Standard FTL (baseline)   0.017663   \nMax(MCC - Stat. Parity) Adult Income Pearson regularized FTL   0.008477   \n                                     Standard FTL (baseline)   0.018485   \n                                     Spearman regularized FTL  0.020216   \n\n                                                               formatted_fitness  \\\n                                                                                   \nFitness Rule Abvr       dataset      method                                        \nMax(Acc - Eq. Odds)     Adult Income Pearson regularized FTL   $0.816 (\\pm0.02)$   \n                                     Standard FTL (baseline)   $0.813 (\\pm0.02)$   \n                                     Spearman regularized FTL  $0.793 (\\pm0.04)$   \nMax(Acc - Eq. Opp.)     Adult Income Pearson regularized FTL   $0.807 (\\pm0.02)$   \n                                     Spearman regularized FTL  $0.806 (\\pm0.01)$   \n                                     Standard FTL (baseline)   $0.802 (\\pm0.02)$   \nMax(Acc - Stat. Parity) Adult Income Pearson regularized FTL   $0.813 (\\pm0.01)$   \n                                     Spearman regularized FTL  $0.809 (\\pm0.01)$   \n                                     Standard FTL (baseline)   $0.800 (\\pm0.02)$   \nMax(MCC - Eq. Odds)     Adult Income Standard FTL (baseline)   $0.553 (\\pm0.03)$   \n                                     Spearman regularized FTL  $0.542 (\\pm0.04)$   \n                                     Pearson regularized FTL   $0.527 (\\pm0.03)$   \nMax(MCC - Eq. Opp.)     Adult Income Pearson regularized FTL   $0.530 (\\pm0.02)$   \n                                     Spearman regularized FTL  $0.526 (\\pm0.01)$   \n                                     Standard FTL (baseline)   $0.516 (\\pm0.03)$   \nMax(MCC - Stat. Parity) Adult Income Pearson regularized FTL   $0.493 (\\pm0.02)$   \n                                     Standard FTL (baseline)   $0.487 (\\pm0.02)$   \n                                     Spearman regularized FTL  $0.476 (\\pm0.02)$   \n\n                                                              formatted_performance  \\\n                                                                                      \nFitness Rule Abvr       dataset      method                                           \nMax(Acc - Eq. Odds)     Adult Income Pearson regularized FTL      $0.844 (\\pm0.01)$   \n                                     Standard FTL (baseline)      $0.847 (\\pm0.00)$   \n                                     Spearman regularized FTL     $0.843 (\\pm0.00)$   \nMax(Acc - Eq. Opp.)     Adult Income Pearson regularized FTL      $0.844 (\\pm0.01)$   \n                                     Spearman regularized FTL     $0.843 (\\pm0.00)$   \n                                     Standard FTL (baseline)      $0.839 (\\pm0.01)$   \nMax(Acc - Stat. Parity) Adult Income Pearson regularized FTL      $0.828 (\\pm0.01)$   \n                                     Spearman regularized FTL     $0.825 (\\pm0.01)$   \n                                     Standard FTL (baseline)      $0.828 (\\pm0.01)$   \nMax(MCC - Eq. Odds)     Adult Income Standard FTL (baseline)      $0.581 (\\pm0.01)$   \n                                     Spearman regularized FTL     $0.581 (\\pm0.01)$   \n                                     Pearson regularized FTL      $0.576 (\\pm0.02)$   \nMax(MCC - Eq. Opp.)     Adult Income Pearson regularized FTL      $0.578 (\\pm0.01)$   \n                                     Spearman regularized FTL     $0.575 (\\pm0.01)$   \n                                     Standard FTL (baseline)      $0.569 (\\pm0.02)$   \nMax(MCC - Stat. Parity) Adult Income Pearson regularized FTL      $0.505 (\\pm0.02)$   \n                                     Standard FTL (baseline)      $0.505 (\\pm0.02)$   \n                                     Spearman regularized FTL     $0.500 (\\pm0.02)$   \n\n                                                              formatted_fairness  \n                                                                                  \nFitness Rule Abvr       dataset      method                                       \nMax(Acc - Eq. Odds)     Adult Income Pearson regularized FTL   $0.028 (\\pm0.02)$  \n                                     Standard FTL (baseline)   $0.034 (\\pm0.02)$  \n                                     Spearman regularized FTL  $0.050 (\\pm0.04)$  \nMax(Acc - Eq. Opp.)     Adult Income Pearson regularized FTL   $0.037 (\\pm0.01)$  \n                                     Spearman regularized FTL  $0.037 (\\pm0.01)$  \n                                     Standard FTL (baseline)   $0.037 (\\pm0.02)$  \nMax(Acc - Stat. Parity) Adult Income Pearson regularized FTL   $0.015 (\\pm0.01)$  \n                                     Spearman regularized FTL  $0.016 (\\pm0.01)$  \n                                     Standard FTL (baseline)   $0.028 (\\pm0.03)$  \nMax(MCC - Eq. Odds)     Adult Income Standard FTL (baseline)   $0.028 (\\pm0.03)$  \n                                     Spearman regularized FTL  $0.038 (\\pm0.03)$  \n                                     Pearson regularized FTL   $0.049 (\\pm0.03)$  \nMax(MCC - Eq. Opp.)     Adult Income Pearson regularized FTL   $0.048 (\\pm0.02)$  \n                                     Spearman regularized FTL  $0.048 (\\pm0.01)$  \n                                     Standard FTL (baseline)   $0.053 (\\pm0.02)$  \nMax(MCC - Stat. Parity) Adult Income Pearson regularized FTL   $0.012 (\\pm0.01)$  \n                                     Standard FTL (baseline)   $0.018 (\\pm0.02)$  \n                                     Spearman regularized FTL  $0.024 (\\pm0.02)$  ",
      "text/html": "<div>\n<style scoped>\n    .dataframe tbody tr th:only-of-type {\n        vertical-align: middle;\n    }\n\n    .dataframe tbody tr th {\n        vertical-align: top;\n    }\n\n    .dataframe thead tr th {\n        text-align: left;\n    }\n\n    .dataframe thead tr:last-of-type th {\n        text-align: right;\n    }\n</style>\n<table border=\"1\" class=\"dataframe\">\n  <thead>\n    <tr>\n      <th></th>\n      <th></th>\n      <th></th>\n      <th colspan=\"3\" halign=\"left\">fitness</th>\n      <th colspan=\"2\" halign=\"left\">Performance</th>\n      <th colspan=\"2\" halign=\"left\">Fairness</th>\n      <th>formatted_fitness</th>\n      <th>formatted_performance</th>\n      <th>formatted_fairness</th>\n    </tr>\n    <tr>\n      <th></th>\n      <th></th>\n      <th></th>\n      <th>mean</th>\n      <th>std</th>\n      <th>count</th>\n      <th>mean</th>\n      <th>std</th>\n      <th>mean</th>\n      <th>std</th>\n      <th></th>\n      <th></th>\n      <th></th>\n    </tr>\n    <tr>\n      <th>Fitness Rule Abvr</th>\n      <th>dataset</th>\n      <th>method</th>\n      <th></th>\n      <th></th>\n      <th></th>\n      <th></th>\n      <th></th>\n      <th></th>\n      <th></th>\n      <th></th>\n      <th></th>\n      <th></th>\n    </tr>\n  </thead>\n  <tbody>\n    <tr>\n      <th rowspan=\"3\" valign=\"top\">Max(Acc - Eq. Odds)</th>\n      <th rowspan=\"3\" valign=\"top\">Adult Income</th>\n      <th>Pearson regularized FTL</th>\n      <td>0.816440</td>\n      <td>0.024623</td>\n      <td>16</td>\n      <td>0.844002</td>\n      <td>0.009140</td>\n      <td>0.027562</td>\n      <td>0.022816</td>\n      <td>$0.816 (\\pm0.02)$</td>\n      <td>$0.844 (\\pm0.01)$</td>\n      <td>$0.028 (\\pm0.02)$</td>\n    </tr>\n    <tr>\n      <th>Standard FTL (baseline)</th>\n      <td>0.813400</td>\n      <td>0.021986</td>\n      <td>13</td>\n      <td>0.847098</td>\n      <td>0.002867</td>\n      <td>0.033698</td>\n      <td>0.021060</td>\n      <td>$0.813 (\\pm0.02)$</td>\n      <td>$0.847 (\\pm0.00)$</td>\n      <td>$0.034 (\\pm0.02)$</td>\n    </tr>\n    <tr>\n      <th>Spearman regularized FTL</th>\n      <td>0.793284</td>\n      <td>0.036451</td>\n      <td>12</td>\n      <td>0.843265</td>\n      <td>0.003187</td>\n      <td>0.049981</td>\n      <td>0.037638</td>\n      <td>$0.793 (\\pm0.04)$</td>\n      <td>$0.843 (\\pm0.00)$</td>\n      <td>$0.050 (\\pm0.04)$</td>\n    </tr>\n    <tr>\n      <th rowspan=\"3\" valign=\"top\">Max(Acc - Eq. Opp.)</th>\n      <th rowspan=\"3\" valign=\"top\">Adult Income</th>\n      <th>Pearson regularized FTL</th>\n      <td>0.806716</td>\n      <td>0.015056</td>\n      <td>16</td>\n      <td>0.843954</td>\n      <td>0.007224</td>\n      <td>0.037238</td>\n      <td>0.014540</td>\n      <td>$0.807 (\\pm0.02)$</td>\n      <td>$0.844 (\\pm0.01)$</td>\n      <td>$0.037 (\\pm0.01)$</td>\n    </tr>\n    <tr>\n      <th>Spearman regularized FTL</th>\n      <td>0.805827</td>\n      <td>0.011884</td>\n      <td>12</td>\n      <td>0.842500</td>\n      <td>0.003842</td>\n      <td>0.036674</td>\n      <td>0.011862</td>\n      <td>$0.806 (\\pm0.01)$</td>\n      <td>$0.843 (\\pm0.00)$</td>\n      <td>$0.037 (\\pm0.01)$</td>\n    </tr>\n    <tr>\n      <th>Standard FTL (baseline)</th>\n      <td>0.801817</td>\n      <td>0.015775</td>\n      <td>14</td>\n      <td>0.839035</td>\n      <td>0.008325</td>\n      <td>0.037218</td>\n      <td>0.017543</td>\n      <td>$0.802 (\\pm0.02)$</td>\n      <td>$0.839 (\\pm0.01)$</td>\n      <td>$0.037 (\\pm0.02)$</td>\n    </tr>\n    <tr>\n      <th rowspan=\"3\" valign=\"top\">Max(Acc - Stat. Parity)</th>\n      <th rowspan=\"3\" valign=\"top\">Adult Income</th>\n      <th>Pearson regularized FTL</th>\n      <td>0.813380</td>\n      <td>0.011659</td>\n      <td>16</td>\n      <td>0.828372</td>\n      <td>0.008529</td>\n      <td>0.014992</td>\n      <td>0.011506</td>\n      <td>$0.813 (\\pm0.01)$</td>\n      <td>$0.828 (\\pm0.01)$</td>\n      <td>$0.015 (\\pm0.01)$</td>\n    </tr>\n    <tr>\n      <th>Spearman regularized FTL</th>\n      <td>0.809098</td>\n      <td>0.012363</td>\n      <td>12</td>\n      <td>0.824912</td>\n      <td>0.009076</td>\n      <td>0.015814</td>\n      <td>0.008208</td>\n      <td>$0.809 (\\pm0.01)$</td>\n      <td>$0.825 (\\pm0.01)$</td>\n      <td>$0.016 (\\pm0.01)$</td>\n    </tr>\n    <tr>\n      <th>Standard FTL (baseline)</th>\n      <td>0.799946</td>\n      <td>0.023751</td>\n      <td>14</td>\n      <td>0.827561</td>\n      <td>0.008750</td>\n      <td>0.027615</td>\n      <td>0.026391</td>\n      <td>$0.800 (\\pm0.02)$</td>\n      <td>$0.828 (\\pm0.01)$</td>\n      <td>$0.028 (\\pm0.03)$</td>\n    </tr>\n    <tr>\n      <th rowspan=\"3\" valign=\"top\">Max(MCC - Eq. Odds)</th>\n      <th rowspan=\"3\" valign=\"top\">Adult Income</th>\n      <th>Standard FTL (baseline)</th>\n      <td>0.552515</td>\n      <td>0.029883</td>\n      <td>14</td>\n      <td>0.580809</td>\n      <td>0.010422</td>\n      <td>0.028294</td>\n      <td>0.028730</td>\n      <td>$0.553 (\\pm0.03)$</td>\n      <td>$0.581 (\\pm0.01)$</td>\n      <td>$0.028 (\\pm0.03)$</td>\n    </tr>\n    <tr>\n      <th>Spearman regularized FTL</th>\n      <td>0.542470</td>\n      <td>0.035399</td>\n      <td>12</td>\n      <td>0.580652</td>\n      <td>0.010257</td>\n      <td>0.038183</td>\n      <td>0.028510</td>\n      <td>$0.542 (\\pm0.04)$</td>\n      <td>$0.581 (\\pm0.01)$</td>\n      <td>$0.038 (\\pm0.03)$</td>\n    </tr>\n    <tr>\n      <th>Pearson regularized FTL</th>\n      <td>0.527102</td>\n      <td>0.033794</td>\n      <td>16</td>\n      <td>0.575703</td>\n      <td>0.018196</td>\n      <td>0.048601</td>\n      <td>0.032912</td>\n      <td>$0.527 (\\pm0.03)$</td>\n      <td>$0.576 (\\pm0.02)$</td>\n      <td>$0.049 (\\pm0.03)$</td>\n    </tr>\n    <tr>\n      <th rowspan=\"3\" valign=\"top\">Max(MCC - Eq. Opp.)</th>\n      <th rowspan=\"3\" valign=\"top\">Adult Income</th>\n      <th>Pearson regularized FTL</th>\n      <td>0.530239</td>\n      <td>0.015378</td>\n      <td>16</td>\n      <td>0.578205</td>\n      <td>0.013779</td>\n      <td>0.047966</td>\n      <td>0.017720</td>\n      <td>$0.530 (\\pm0.02)$</td>\n      <td>$0.578 (\\pm0.01)$</td>\n      <td>$0.048 (\\pm0.02)$</td>\n    </tr>\n    <tr>\n      <th>Spearman regularized FTL</th>\n      <td>0.526425</td>\n      <td>0.014108</td>\n      <td>12</td>\n      <td>0.574624</td>\n      <td>0.012236</td>\n      <td>0.048200</td>\n      <td>0.012006</td>\n      <td>$0.526 (\\pm0.01)$</td>\n      <td>$0.575 (\\pm0.01)$</td>\n      <td>$0.048 (\\pm0.01)$</td>\n    </tr>\n    <tr>\n      <th>Standard FTL (baseline)</th>\n      <td>0.516256</td>\n      <td>0.030559</td>\n      <td>14</td>\n      <td>0.569236</td>\n      <td>0.024584</td>\n      <td>0.052980</td>\n      <td>0.017663</td>\n      <td>$0.516 (\\pm0.03)$</td>\n      <td>$0.569 (\\pm0.02)$</td>\n      <td>$0.053 (\\pm0.02)$</td>\n    </tr>\n    <tr>\n      <th rowspan=\"3\" valign=\"top\">Max(MCC - Stat. Parity)</th>\n      <th rowspan=\"3\" valign=\"top\">Adult Income</th>\n      <th>Pearson regularized FTL</th>\n      <td>0.493097</td>\n      <td>0.021600</td>\n      <td>16</td>\n      <td>0.505210</td>\n      <td>0.019975</td>\n      <td>0.012113</td>\n      <td>0.008477</td>\n      <td>$0.493 (\\pm0.02)$</td>\n      <td>$0.505 (\\pm0.02)$</td>\n      <td>$0.012 (\\pm0.01)$</td>\n    </tr>\n    <tr>\n      <th>Standard FTL (baseline)</th>\n      <td>0.486983</td>\n      <td>0.018719</td>\n      <td>14</td>\n      <td>0.505311</td>\n      <td>0.022714</td>\n      <td>0.018328</td>\n      <td>0.018485</td>\n      <td>$0.487 (\\pm0.02)$</td>\n      <td>$0.505 (\\pm0.02)$</td>\n      <td>$0.018 (\\pm0.02)$</td>\n    </tr>\n    <tr>\n      <th>Spearman regularized FTL</th>\n      <td>0.475760</td>\n      <td>0.022828</td>\n      <td>12</td>\n      <td>0.500205</td>\n      <td>0.021246</td>\n      <td>0.024445</td>\n      <td>0.020216</td>\n      <td>$0.476 (\\pm0.02)$</td>\n      <td>$0.500 (\\pm0.02)$</td>\n      <td>$0.024 (\\pm0.02)$</td>\n    </tr>\n  </tbody>\n</table>\n</div>"
     },
     "metadata": {},
     "output_type": "display_data"
    }
   ],
   "source": [
    "for path, methods, results in zip(['mlp_multi_aso_data_list.json', 'ftl_multi_aso_data_list.json'],\n",
    "                                  [mlp_methods, ftl_methods],\n",
    "                                  (mlp_results,ftl_results)):\n",
    "    if os.path.exists(path):\n",
    "        with open(path) as file:\n",
    "            multi_aso_data_list = json.load(file)\n",
    "    else:    \n",
    "        multi_aso_data_list = []\n",
    "        for d in datasets:\n",
    "            multi_aso_data = []\n",
    "            for f in fitness_rules:\n",
    "                methods_results = []\n",
    "                for m in methods:\n",
    "                    r = results.loc[ (results['dataset'] == d) &\n",
    "                                         (results['fitness_rule'] == f) &\n",
    "                                         (results['method'] == m) ]\\\n",
    "                                .fitness.tolist()\n",
    "                    if len(r) == 0:\n",
    "                        r = [-1]\n",
    "                    methods_results.append(r)\n",
    "                min_eps = deepsig.multi_aso(methods_results, confidence_level=0.95)\n",
    "                multi_aso_data_list.append({'fitness_rule': f, 'dataset': d, 'min_eps': min_eps.tolist()})\n",
    "        with open(path, 'w') as file:\n",
    "            json.dump(multi_aso_data_list, file)\n",
    "    \n",
    "    aso_df_resume = []\n",
    "    for aso_result in sorted(multi_aso_data_list, key=lambda x: x['dataset']):\n",
    "        fitness_rule = aso_result['fitness_rule']\n",
    "        dataset = aso_result['dataset']\n",
    "    \n",
    "        aso_df = pd.DataFrame(aso_result['min_eps'], columns=methods)\n",
    "        aso_df['method'] = methods\n",
    "        aso_df['dataset'] = dataset\n",
    "        aso_df['fitness_rule'] = fitness_rule\n",
    "        aso_df_resume.append(aso_df)\n",
    "    \n",
    "    print('Significance Testing')\n",
    "    significance = pd.concat(aso_df_resume)\n",
    "    significance.replace(fitness_rules_abvr, inplace=True)\n",
    "    significance = significance.set_index(['fitness_rule', 'dataset'])\n",
    "    significance = significance.sort_values(by=['fitness_rule', 'dataset'], ascending=[False, True])\n",
    "    display(significance)\n",
    "    significances.append(significance)\n",
    "    \n",
    "    grouped_results = results\\\n",
    "        .groupby(['Fitness Rule Abvr', 'dataset', 'method'])\\\n",
    "        .agg({'fitness': ['mean', 'std', 'count'], 'Performance': ['mean', 'std'], 'Fairness': ['mean', 'std']})\\\n",
    "        .sort_values(by=['Fitness Rule Abvr', 'dataset', ('fitness','mean')], ascending=False)\n",
    "    grouped_results['formatted_fitness'] = grouped_results.apply(lambda row: f\"${row[('fitness', 'mean')]:.3f} (\\pm{row[('fitness', 'std')]:.2f})$\", axis=1)\n",
    "    grouped_results['formatted_performance'] = grouped_results.apply(lambda row: f\"${row[('Performance', 'mean')]:.3f} (\\pm{row[('Performance', 'std')]:.2f})$\", axis=1)\n",
    "    grouped_results['formatted_fairness'] = grouped_results.apply(lambda row: f\"${row[('Fairness', 'mean')]:.3f} (\\pm{row[('Fairness', 'std')]:.2f})$\", axis=1)\n",
    "    grouped_results = grouped_results.sort_values(by=['Fitness Rule Abvr', 'dataset'])\n",
    "    display(grouped_results)"
   ],
   "metadata": {
    "collapsed": false,
    "ExecuteTime": {
     "end_time": "2024-05-03T13:31:55.174265666Z",
     "start_time": "2024-05-03T13:31:55.023306920Z"
    }
   }
  },
  {
   "cell_type": "code",
   "execution_count": 46,
   "outputs": [
    {
     "data": {
      "text/plain": "                                           Standard MLP (baseline)  \\\nfitness_rule            dataset                                      \nMax(MCC - Stat. Parity) Adult Income                      1.000000   \n                        Adult Income                      0.734049   \n                        Adult Income                      0.130162   \n                        Bank Marketing                    1.000000   \n                        Bank Marketing                    1.000000   \n...                                                            ...   \nMax(Acc - Eq. Odds)     Compas Recidivism                 0.890634   \n                        Compas Recidivism                 1.000000   \n                        German Credit                     1.000000   \n                        German Credit                     0.451214   \n                        German Credit                     0.464468   \n\n                                           Pearson regularized MLP  \\\nfitness_rule            dataset                                      \nMax(MCC - Stat. Parity) Adult Income                      1.000000   \n                        Adult Income                      1.000000   \n                        Adult Income                      0.316765   \n                        Bank Marketing                    0.468484   \n                        Bank Marketing                    1.000000   \n...                                                            ...   \nMax(Acc - Eq. Odds)     Compas Recidivism                 1.000000   \n                        Compas Recidivism                 1.000000   \n                        German Credit                     1.000000   \n                        German Credit                     1.000000   \n                        German Credit                     1.000000   \n\n                                           Spearman regularized MLP  \\\nfitness_rule            dataset                                       \nMax(MCC - Stat. Parity) Adult Income                       1.000000   \n                        Adult Income                       1.000000   \n                        Adult Income                       1.000000   \n                        Bank Marketing                     0.146821   \n                        Bank Marketing                     0.442639   \n...                                                             ...   \nMax(Acc - Eq. Odds)     Compas Recidivism                  0.563892   \n                        Compas Recidivism                  1.000000   \n                        German Credit                      1.000000   \n                        German Credit                      0.884433   \n                        German Credit                      1.000000   \n\n                                                             method  \nfitness_rule            dataset                                      \nMax(MCC - Stat. Parity) Adult Income        Standard MLP (baseline)  \n                        Adult Income        Pearson regularized MLP  \n                        Adult Income       Spearman regularized MLP  \n                        Bank Marketing      Standard MLP (baseline)  \n                        Bank Marketing      Pearson regularized MLP  \n...                                                             ...  \nMax(Acc - Eq. Odds)     Compas Recidivism   Pearson regularized MLP  \n                        Compas Recidivism  Spearman regularized MLP  \n                        German Credit       Standard MLP (baseline)  \n                        German Credit       Pearson regularized MLP  \n                        German Credit      Spearman regularized MLP  \n\n[72 rows x 4 columns]",
      "text/html": "<div>\n<style scoped>\n    .dataframe tbody tr th:only-of-type {\n        vertical-align: middle;\n    }\n\n    .dataframe tbody tr th {\n        vertical-align: top;\n    }\n\n    .dataframe thead th {\n        text-align: right;\n    }\n</style>\n<table border=\"1\" class=\"dataframe\">\n  <thead>\n    <tr style=\"text-align: right;\">\n      <th></th>\n      <th></th>\n      <th>Standard MLP (baseline)</th>\n      <th>Pearson regularized MLP</th>\n      <th>Spearman regularized MLP</th>\n      <th>method</th>\n    </tr>\n    <tr>\n      <th>fitness_rule</th>\n      <th>dataset</th>\n      <th></th>\n      <th></th>\n      <th></th>\n      <th></th>\n    </tr>\n  </thead>\n  <tbody>\n    <tr>\n      <th rowspan=\"5\" valign=\"top\">Max(MCC - Stat. Parity)</th>\n      <th>Adult Income</th>\n      <td>1.000000</td>\n      <td>1.000000</td>\n      <td>1.000000</td>\n      <td>Standard MLP (baseline)</td>\n    </tr>\n    <tr>\n      <th>Adult Income</th>\n      <td>0.734049</td>\n      <td>1.000000</td>\n      <td>1.000000</td>\n      <td>Pearson regularized MLP</td>\n    </tr>\n    <tr>\n      <th>Adult Income</th>\n      <td>0.130162</td>\n      <td>0.316765</td>\n      <td>1.000000</td>\n      <td>Spearman regularized MLP</td>\n    </tr>\n    <tr>\n      <th>Bank Marketing</th>\n      <td>1.000000</td>\n      <td>0.468484</td>\n      <td>0.146821</td>\n      <td>Standard MLP (baseline)</td>\n    </tr>\n    <tr>\n      <th>Bank Marketing</th>\n      <td>1.000000</td>\n      <td>1.000000</td>\n      <td>0.442639</td>\n      <td>Pearson regularized MLP</td>\n    </tr>\n    <tr>\n      <th>...</th>\n      <th>...</th>\n      <td>...</td>\n      <td>...</td>\n      <td>...</td>\n      <td>...</td>\n    </tr>\n    <tr>\n      <th rowspan=\"5\" valign=\"top\">Max(Acc - Eq. Odds)</th>\n      <th>Compas Recidivism</th>\n      <td>0.890634</td>\n      <td>1.000000</td>\n      <td>0.563892</td>\n      <td>Pearson regularized MLP</td>\n    </tr>\n    <tr>\n      <th>Compas Recidivism</th>\n      <td>1.000000</td>\n      <td>1.000000</td>\n      <td>1.000000</td>\n      <td>Spearman regularized MLP</td>\n    </tr>\n    <tr>\n      <th>German Credit</th>\n      <td>1.000000</td>\n      <td>1.000000</td>\n      <td>1.000000</td>\n      <td>Standard MLP (baseline)</td>\n    </tr>\n    <tr>\n      <th>German Credit</th>\n      <td>0.451214</td>\n      <td>1.000000</td>\n      <td>0.884433</td>\n      <td>Pearson regularized MLP</td>\n    </tr>\n    <tr>\n      <th>German Credit</th>\n      <td>0.464468</td>\n      <td>1.000000</td>\n      <td>1.000000</td>\n      <td>Spearman regularized MLP</td>\n    </tr>\n  </tbody>\n</table>\n<p>72 rows × 4 columns</p>\n</div>"
     },
     "execution_count": 46,
     "metadata": {},
     "output_type": "execute_result"
    }
   ],
   "source": [
    "significances[0].sort_values(by=['fitness_rule', 'dataset'], ascending=[False, True])"
   ],
   "metadata": {
    "collapsed": false,
    "ExecuteTime": {
     "end_time": "2024-05-03T13:33:06.237293338Z",
     "start_time": "2024-05-03T13:33:06.230402550Z"
    }
   }
  },
  {
   "cell_type": "code",
   "execution_count": null,
   "outputs": [],
   "source": [],
   "metadata": {
    "collapsed": false
   }
  }
 ],
 "metadata": {
  "kernelspec": {
   "display_name": "Python 3 (ipykernel)",
   "language": "python",
   "name": "python3"
  },
  "language_info": {
   "codemirror_mode": {
    "name": "ipython",
    "version": 3
   },
   "file_extension": ".py",
   "mimetype": "text/x-python",
   "name": "python",
   "nbconvert_exporter": "python",
   "pygments_lexer": "ipython3",
   "version": "3.8.10"
  }
 },
 "nbformat": 4,
 "nbformat_minor": 1
}
