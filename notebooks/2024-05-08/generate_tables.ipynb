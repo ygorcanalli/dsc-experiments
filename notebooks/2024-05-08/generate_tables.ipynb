{
 "cells": [
  {
   "cell_type": "code",
   "execution_count": 1,
   "metadata": {
    "ExecuteTime": {
     "end_time": "2024-05-07T03:23:46.538757489Z",
     "start_time": "2024-05-07T03:23:42.438620414Z"
    }
   },
   "outputs": [
    {
     "name": "stderr",
     "output_type": "stream",
     "text": [
      "2024-05-07 00:23:44.568834: E external/local_xla/xla/stream_executor/cuda/cuda_dnn.cc:9261] Unable to register cuDNN factory: Attempting to register factory for plugin cuDNN when one has already been registered\n",
      "2024-05-07 00:23:44.568877: E external/local_xla/xla/stream_executor/cuda/cuda_fft.cc:607] Unable to register cuFFT factory: Attempting to register factory for plugin cuFFT when one has already been registered\n",
      "2024-05-07 00:23:44.570008: E external/local_xla/xla/stream_executor/cuda/cuda_blas.cc:1515] Unable to register cuBLAS factory: Attempting to register factory for plugin cuBLAS when one has already been registered\n",
      "2024-05-07 00:23:44.578150: I tensorflow/core/platform/cpu_feature_guard.cc:182] This TensorFlow binary is optimized to use available CPU instructions in performance-critical operations.\n",
      "To enable the following instructions: AVX2 FMA, in other operations, rebuild TensorFlow with the appropriate compiler flags.\n",
      "2024-05-07 00:23:45.705137: W tensorflow/compiler/tf2tensorrt/utils/py_utils.cc:38] TF-TRT Warning: Could not find TensorRT\n"
     ]
    }
   ],
   "source": [
    "import pandas as pd\n",
    "import json\n",
    "import os\n",
    "import deepsig\n",
    "from IPython.display import display"
   ]
  },
  {
   "cell_type": "code",
   "execution_count": 2,
   "metadata": {
    "ExecuteTime": {
     "end_time": "2024-05-07T03:23:46.549982186Z",
     "start_time": "2024-05-07T03:23:46.540009214Z"
    }
   },
   "outputs": [],
   "source": [
    "cols = ['dataset', 'method', 'fitness_rule', 'fitness', 'ACC', 'MCC', 'f1_score', 'avg_odds_diff', 'stat_par_diff', 'eq_opp_diff']"
   ]
  },
  {
   "cell_type": "code",
   "execution_count": 3,
   "metadata": {
    "ExecuteTime": {
     "end_time": "2024-05-07T03:23:46.575973873Z",
     "start_time": "2024-05-07T03:23:46.547903389Z"
    }
   },
   "outputs": [],
   "source": [
    "mlp_baseline_results = pd.read_csv('mlp_baseline_results.csv')\n",
    "mlp_baseline_results.replace({'simple_mlp_initializer': 'Standard MLP (baseline)'}, inplace=True)\n",
    "\n",
    "mlp_pearson_results = pd.read_csv('mlp_pearson_results.csv')\n",
    "mlp_pearson_results.replace({'mlp_preg_initializer': 'Pearson regularized MLP'}, inplace=True)\n",
    "\n",
    "mlp_spearman_results = pd.read_csv('mlp_spearman_results.csv')\n",
    "mlp_spearman_results.replace({'mlp_sreg_initializer': 'Spearman regularized MLP'}, inplace=True)\n",
    "\n",
    "mlp_results = pd.concat([mlp_baseline_results, mlp_pearson_results, mlp_spearman_results])\n",
    "\n",
    "ftl_baseline_results = pd.read_csv('ftl_baseline_results.csv')\n",
    "ftl_baseline_results.replace({'ftl_mlp_initializer': 'Standard FTL (baseline)'}, inplace=True)\n",
    "\n",
    "ftl_pearson_results = pd.read_csv('ftl_pearson_results.csv')\n",
    "ftl_pearson_results.replace({'ftl_mlp_initializer': 'Pearson regularized FTL'}, inplace=True)\n",
    "\n",
    "ftl_spearman_results = pd.read_csv('ftl_spearman_results.csv')\n",
    "ftl_spearman_results.replace({'ftl_mlp_initializer': 'Spearman regularized FTL'}, inplace=True)\n",
    "\n",
    "ftl_results = pd.concat([ftl_baseline_results, ftl_pearson_results, ftl_spearman_results])"
   ]
  },
  {
   "cell_type": "markdown",
   "source": [],
   "metadata": {
    "collapsed": false
   }
  },
  {
   "cell_type": "code",
   "execution_count": 4,
   "outputs": [],
   "source": [
    "for results in [mlp_results,ftl_results]:\n",
    "    results.replace({'adult_dataset_reader': 'Adult Income', 'compas_dataset_reader': 'Compas Recidivism', 'german_dataset_reader': 'German Credit', 'bank_dataset_reader': 'Bank Marketing'}, inplace=True)\n",
    "    results.rename(columns={'avg_odds_diff': 'Equalized Odds', 'stat_par_diff': 'Statistical Parity', 'eq_opp_diff': 'Equal Opportunity', 'MCC': 'Mathew Correlation', 'ACC': 'Accuracy'}, inplace=True)"
   ],
   "metadata": {
    "collapsed": false,
    "ExecuteTime": {
     "end_time": "2024-05-07T03:23:46.614727268Z",
     "start_time": "2024-05-07T03:23:46.572284682Z"
    }
   }
  },
  {
   "cell_type": "code",
   "execution_count": 5,
   "metadata": {
    "ExecuteTime": {
     "end_time": "2024-05-07T03:23:46.616237769Z",
     "start_time": "2024-05-07T03:23:46.614605313Z"
    }
   },
   "outputs": [
    {
     "name": "stderr",
     "output_type": "stream",
     "text": [
      "/tmp/ipykernel_88111/3607436483.py:32: FutureWarning: Setting an item of incompatible dtype is deprecated and will raise in a future error of pandas. Value '[0.58517004 0.58512823 0.5840247  0.5836371  0.57625737 0.5769683\n",
      " 0.58075151 0.57811729 0.57147862 0.55847176 0.56402881 0.58191431\n",
      " 0.58343253 0.57740222 0.51579307 0.30958237 0.37962947 0.55899189\n",
      " 0.53558872 0.2598879  0.57717035 0.50086739 0.33275221 0.37929293\n",
      " 0.47729109 0.29196869 0.29037704 0.52303609 0.27480633 0.38668781\n",
      " 0.50626951 0.29960979 0.4042848  0.52119218 0.2936422  0.33522388\n",
      " 0.49730721 0.25112662 0.35119067 0.510052   0.26843855 0.36081008\n",
      " 0.52157495 0.30114722 0.42995147 0.48267704 0.29056691 0.23139881\n",
      " 0.54223416 0.23653437 0.27041017 0.52121263 0.25759348 0.23912165\n",
      " 0.5223892  0.27406652 0.22303564 0.54094974 0.27699558 0.30939251\n",
      " 0.51731345 0.30339828 0.37825089 0.52113734 0.26323857 0.33963196\n",
      " 0.5538225  0.27850228 0.30234984 0.51877126 0.29494101 0.2648939\n",
      " 0.52742877 0.24492927 0.13407928 0.53530394 0.29087766 0.26820576\n",
      " 0.55204731 0.29318377 0.14015216 0.51983069 0.3145689  0.47077449\n",
      " 0.50770986 0.28880123 0.29866465 0.5180664  0.29093567 0.3636368\n",
      " 0.53289704 0.29737768 0.38084556 0.54328387 0.28002914 0.28232519\n",
      " 0.53457987 0.27840735 0.33593551 0.51796238 0.25832521 0.35528234\n",
      " 0.56841327 0.56481476 0.58141906 0.57136131 0.58334192 0.55288815\n",
      " 0.56058845 0.5737951  0.57000708 0.57640052 0.58261133 0.57287806\n",
      " 0.57274737 0.57959695 0.51101525 0.28242759 0.33054111 0.57762814\n",
      " 0.5368048  0.31623248 0.3465674  0.53986748 0.2479788  0.36563621\n",
      " 0.51959505 0.31018195 0.49570477 0.49453409 0.29658544 0.35273781\n",
      " 0.57072426 0.26732327 0.33607704 0.5028025  0.28860323 0.41107384\n",
      " 0.4950211  0.31309249 0.26181431 0.53881455 0.30955917 0.46992148\n",
      " 0.51847923 0.27905993 0.40734639 0.53345599 0.29808733 0.35120856\n",
      " 0.51674838 0.30400617 0.33382054 0.53207977 0.29554025 0.35745031\n",
      " 0.49688273 0.24860817 0.37518709 0.51300111 0.28885898 0.33341656\n",
      " 0.54746609 0.33806515 0.25773919 0.49566045 0.35832992 0.29622289\n",
      " 0.48872084 0.25104879 0.24839151 0.52547455 0.30759684 0.32604299\n",
      " 0.5038134  0.2765542  0.33597078 0.51149487 0.26937221 0.42432587\n",
      " 0.51302392 0.24282792 0.39380493 0.51037513 0.31530266 0.38835931\n",
      " 0.49907303 0.29306901 0.20122826 0.50172568 0.2717186  0.42955028\n",
      " 0.49634793 0.24735157 0.31621737 0.5031433  0.30812391 0.30496431\n",
      " 0.50751542 0.25707381 0.32768447 0.5284993  0.29208444 0.3986898\n",
      " 0.57454722 0.57134873 0.59039745 0.58475101 0.58230021 0.57479453\n",
      " 0.5876658  0.59199945 0.59145802 0.5797924  0.59391819 0.56892416\n",
      " 0.57651041 0.59548118 0.51495337 0.24006559 0.25919805 0.5690559\n",
      " 0.47222126 0.30141088 0.27646306 0.54048313 0.31300197 0.41447111\n",
      " 0.49188737 0.3155285  0.42385983 0.51585159 0.3071224  0.37414881\n",
      " 0.53277113 0.25745114 0.35561443 0.53952479 0.29007943 0.36452172\n",
      " 0.5168099  0.22651748 0.45001845 0.4889961  0.27305469 0.31008734\n",
      " 0.52875275 0.28728004 0.42696204 0.49382443 0.30884904 0.43154127\n",
      " 0.54760903 0.30764215 0.38657833 0.5191834  0.30484131 0.32388963\n",
      " 0.50100159 0.27105128 0.24674379 0.44780168 0.30279535 0.47786012\n",
      " 0.50063643 0.29350762 0.54348346 0.53019832 0.29289506 0.33180065\n",
      " 0.50573476 0.29250316 0.34890332 0.54164919 0.27033361 0.43800813\n",
      " 0.52921653 0.31680898 0.32950267 0.52134118 0.23063912 0.30234171\n",
      " 0.49571303 0.28668448 0.48087614 0.46377871 0.28056525 0.2948637\n",
      " 0.5107077  0.26697035 0.27303854 0.54317177 0.32330556 0.16181683\n",
      " 0.54419957 0.2510335  0.28483161 0.5213889  0.28761011 0.38373836\n",
      " 0.52901011 0.35536651 0.36262033 0.52201954 0.32944714 0.29852876]' has dtype incompatible with int64, please explicitly cast to a compatible dtype first.\n",
      "  results.loc[results.fitness_rule == fitness_rule,'Performance'] = results.loc[results.fitness_rule == fitness_rule,performance_metric]\n",
      "/tmp/ipykernel_88111/3607436483.py:33: FutureWarning: Setting an item of incompatible dtype is deprecated and will raise in a future error of pandas. Value '[0.19263281 0.18664775 0.20096652 0.19289642 0.19661682 0.17761564\n",
      " 0.19442911 0.19755228 0.19564214 0.19166634 0.18299811 0.17482095\n",
      " 0.20208162 0.18919863 0.1076907  0.21583464 0.07390198 0.18518896\n",
      " 0.01873928 0.21915752 0.00551471 0.06514573 0.27067494 0.10218254\n",
      " 0.09458935 0.20988634 0.15838547 0.0800928  0.22152457 0.04387464\n",
      " 0.0698734  0.21395877 0.         0.07046605 0.25600325 0.1\n",
      " 0.07839351 0.17845842 0.13362425 0.11385009 0.16165928 0.\n",
      " 0.07603398 0.22394599 0.10042067 0.07235512 0.17623094 0.05055147\n",
      " 0.10296647 0.13012843 0.01648841 0.12773041 0.23588101 0.01650837\n",
      " 0.10756357 0.22188463 0.04937755 0.08539799 0.27225208 0.04945055\n",
      " 0.1169952  0.18031026 0.07824514 0.11302381 0.1631723  0.01426025\n",
      " 0.09060303 0.26465511 0.05714286 0.07375941 0.25392869 0.15238095\n",
      " 0.06855833 0.14339139 0.05262482 0.10162526 0.17983738 0.03803214\n",
      " 0.11029739 0.21594265 0.04387464 0.09458175 0.21238761 0.13355998\n",
      " 0.12944543 0.23496771 0.10218254 0.11806774 0.24894357 0.05213764\n",
      " 0.07004917 0.17350555 0.01190476 0.12817972 0.20515527 0.02175742\n",
      " 0.07890663 0.15151805 0.03740065 0.08916093 0.22800167 0.09285714\n",
      " 0.19053001 0.16746315 0.16763191 0.19320045 0.18703865 0.18429954\n",
      " 0.1597833  0.20815391 0.18244748 0.17584256 0.19747861 0.19980041\n",
      " 0.16926838 0.19824677 0.15701831 0.21769741 0.06096866 0.18805125\n",
      " 0.11698153 0.22540811 0.0997151  0.14348316 0.17935184 0.01840265\n",
      " 0.10986078 0.19111467 0.11079944 0.03214456 0.24020384 0.12442505\n",
      " 0.12214648 0.24391506 0.1452381  0.05158111 0.23260441 0.13931652\n",
      " 0.09667476 0.2145281  0.11111111 0.08085003 0.27861653 0.07536964\n",
      " 0.11089458 0.24925445 0.07863248 0.16119618 0.20082766 0.01039501\n",
      " 0.11426133 0.26034526 0.12709285 0.05705922 0.22945803 0.197151\n",
      " 0.11150527 0.21369112 0.22920998 0.09977647 0.23734645 0.07531194\n",
      " 0.1370741  0.24113979 0.01699854 0.11879594 0.18390069 0.06163828\n",
      " 0.0923131  0.22300403 0.02807487 0.05792394 0.22802542 0.14415954\n",
      " 0.11940483 0.2184735  0.05962255 0.15253973 0.20076406 0.03015428\n",
      " 0.1440778  0.1515429  0.14415954 0.08534989 0.23991576 0.03768382\n",
      " 0.1986144  0.19821917 0.14826328 0.0984917  0.18423316 0.12121212\n",
      " 0.08210302 0.16535061 0.03549947 0.11785534 0.20745647 0.00689655\n",
      " 0.11912621 0.18018624 0.09563673 0.08798295 0.25232511 0.00666667\n",
      " 0.17104265 0.18574429 0.19784707 0.17967529 0.18831391 0.17770337\n",
      " 0.20533483 0.19024169 0.19313822 0.18508573 0.17207131 0.19938199\n",
      " 0.18468992 0.19165909 0.11988757 0.19039244 0.08902821 0.17745478\n",
      " 0.0597935  0.186247   0.05433901 0.18412377 0.21154469 0.05786038\n",
      " 0.12559147 0.20190569 0.1687699  0.07978147 0.19076877 0.15376984\n",
      " 0.17001239 0.2036366  0.11507937 0.11099168 0.17089256 0.12224265\n",
      " 0.09728949 0.24889212 0.15238095 0.14449684 0.21517338 0.18683386\n",
      " 0.0571193  0.20706829 0.00829785 0.10938756 0.21259352 0.03650846\n",
      " 0.1639586  0.20705434 0.2065494  0.07319463 0.16312686 0.04857398\n",
      " 0.11660992 0.16755326 0.04045288 0.02529162 0.16398462 0.10803161\n",
      " 0.07528604 0.15190623 0.1108742  0.06808805 0.27330518 0.12041514\n",
      " 0.14145636 0.24993504 0.03591067 0.09129862 0.2160431  0.03703704\n",
      " 0.09433381 0.25696893 0.12       0.22304998 0.16504411 0.08047747\n",
      " 0.07043789 0.19727425 0.21388499 0.1018186  0.16300064 0.11661442\n",
      " 0.10102471 0.22321447 0.07531194 0.10560651 0.25859712 0.07236523\n",
      " 0.10178322 0.23536525 0.03161438 0.05963594 0.14179032 0.19086386\n",
      " 0.13180555 0.16610348 0.08321646 0.09326482 0.23961703 0.00444133]' has dtype incompatible with int64, please explicitly cast to a compatible dtype first.\n",
      "  results.loc[results.fitness_rule == fitness_rule,'Fairness'] = results.loc[results.fitness_rule == fitness_rule,fairness_metric]\n",
      "/tmp/ipykernel_88111/3607436483.py:32: FutureWarning: Setting an item of incompatible dtype is deprecated and will raise in a future error of pandas. Value '[0.55988104 0.49558867 0.47660518 0.53020884 0.49731155 0.48088379\n",
      " 0.50936495 0.52610501 0.50501965 0.49517103 0.52255177 0.48277552\n",
      " 0.49360563 0.49928347 0.49428572 0.50830079 0.5315851  0.49084885\n",
      " 0.49727459 0.52602458 0.51498102 0.49446574 0.52981801 0.51333191\n",
      " 0.51460142 0.49477946 0.4559726  0.49333343 0.53090834 0.49284321\n",
      " 0.48727491 0.46760391 0.48532912 0.48816006 0.49060769 0.50033309\n",
      " 0.54306751 0.52179051 0.4829124  0.51199556 0.52334945 0.50003926]' has dtype incompatible with int64, please explicitly cast to a compatible dtype first.\n",
      "  results.loc[results.fitness_rule == fitness_rule,'Performance'] = results.loc[results.fitness_rule == fitness_rule,performance_metric]\n",
      "/tmp/ipykernel_88111/3607436483.py:33: FutureWarning: Setting an item of incompatible dtype is deprecated and will raise in a future error of pandas. Value '[0.06563524 0.00434914 0.02991623 0.03287846 0.03464132 0.0015824\n",
      " 0.00711975 0.00623328 0.00497483 0.00291418 0.02981982 0.0109755\n",
      " 0.02228438 0.00327132 0.02537383 0.00143259 0.01617422 0.01169424\n",
      " 0.01656405 0.02579937 0.00583962 0.01503756 0.00376432 0.00064319\n",
      " 0.00965313 0.02342952 0.01174198 0.00202581 0.01859382 0.00603458\n",
      " 0.01774073 0.0244613  0.05969289 0.00814399 0.01136305 0.00834383\n",
      " 0.0523313  0.02800188 0.01513682 0.0100883  0.05535489 0.00268151]' has dtype incompatible with int64, please explicitly cast to a compatible dtype first.\n",
      "  results.loc[results.fitness_rule == fitness_rule,'Fairness'] = results.loc[results.fitness_rule == fitness_rule,fairness_metric]\n"
     ]
    }
   ],
   "source": [
    "fitness_rules_target_metrics = {\n",
    "    'mcc_parity': {'performance': 'Mathew Correlation', 'fairness': 'Statistical Parity'},\n",
    "    'mcc_opportunity': {'performance': 'Mathew Correlation', 'fairness': 'Equal Opportunity'},\n",
    "    'mcc_odds': {'performance': 'Mathew Correlation', 'fairness': 'Equalized Odds'},\n",
    "    'acc_parity': {'performance': 'Accuracy', 'fairness': 'Statistical Parity'},\n",
    "    'acc_opportunity': {'performance': 'Accuracy', 'fairness': 'Equal Opportunity'},\n",
    "    'acc_odds': {'performance': 'Accuracy', 'fairness': 'Equalized Odds'}\n",
    "}\n",
    "\n",
    "fitness_rules_target_metrics = {\n",
    "    'mcc_parity': ('Mathew Correlation', 'Statistical Parity'),\n",
    "    'mcc_opportunity': ('Mathew Correlation', 'Equal Opportunity'),\n",
    "    'mcc_odds': ('Mathew Correlation', 'Equalized Odds'),\n",
    "    'acc_parity': ('Accuracy', 'Statistical Parity'),\n",
    "    'acc_opportunity': ('Accuracy', 'Equal Opportunity'),\n",
    "    'acc_odds': ('Accuracy', 'Equalized Odds')\n",
    "}\n",
    "fitness_rules_abvr = {\n",
    "    'mcc_parity': 'Max(MCC - Stat. Parity)',\n",
    "    'mcc_opportunity': 'Max(MCC - Eq. Odds)',\n",
    "    'mcc_odds': 'Max(MCC - Eq. Opp.)',\n",
    "    'acc_parity': 'Max(Acc - Stat. Parity)',\n",
    "    'acc_opportunity': 'Max(Acc - Eq. Odds)',\n",
    "    'acc_odds': 'Max(Acc - Eq. Opp.)'\n",
    "}\n",
    "\n",
    "for results in [mlp_results,ftl_results]:\n",
    "    results['Performance'] = 0\n",
    "    results['Fairness'] = 0\n",
    "    results['Fitness Rule'] = ''\n",
    "    for fitness_rule, (performance_metric, fairness_metric) in fitness_rules_target_metrics.items():\n",
    "        results.loc[results.fitness_rule == fitness_rule,'Performance'] = results.loc[results.fitness_rule == fitness_rule,performance_metric]\n",
    "        results.loc[results.fitness_rule == fitness_rule,'Fairness'] = results.loc[results.fitness_rule == fitness_rule,fairness_metric]\n",
    "        results.loc[results.fitness_rule == fitness_rule,'Fitness Rule Abvr'] = fitness_rules_abvr[fitness_rule]\n",
    "        results.loc[results.fitness_rule == fitness_rule,'Fitness Rule'] = 'Max(%s - %s)' % fitness_rules_target_metrics[fitness_rule]"
   ]
  },
  {
   "cell_type": "code",
   "execution_count": 6,
   "metadata": {
    "ExecuteTime": {
     "end_time": "2024-05-07T03:23:46.637856003Z",
     "start_time": "2024-05-07T03:23:46.616919509Z"
    }
   },
   "outputs": [
    {
     "data": {
      "text/plain": "           dataset                    method     fitness_rule   fitness  \\\n0     Adult Income   Standard MLP (baseline)       mcc_parity  0.392537   \n1     Adult Income   Standard MLP (baseline)         mcc_odds  0.473935   \n2     Adult Income   Standard MLP (baseline)  mcc_opportunity  0.460175   \n3     Adult Income   Standard MLP (baseline)       acc_parity  0.661796   \n4     Adult Income   Standard MLP (baseline)         acc_odds  0.766170   \n..             ...                       ...              ...       ...   \n607  German Credit  Spearman regularized MLP         mcc_odds  0.269017   \n608  German Credit  Spearman regularized MLP  mcc_opportunity  0.278468   \n609  German Credit  Spearman regularized MLP       acc_parity  0.757773   \n610  German Credit  Spearman regularized MLP         acc_odds  0.637389   \n611  German Credit  Spearman regularized MLP  acc_opportunity  0.721672   \n\n     Accuracy  Mathew Correlation  Equalized Odds  Statistical Parity  \\\n0    0.851299            0.585170        0.113127            0.192633   \n1    0.851520            0.585500        0.111565            0.198915   \n2    0.851410            0.585064        0.103235            0.191606   \n3    0.844887            0.565373        0.082386            0.183090   \n4    0.850857            0.577932        0.084687            0.180366   \n..        ...                 ...             ...                 ...   \n607  0.735000            0.345826        0.076810            0.062641   \n608  0.780000            0.313542        0.026768            0.008625   \n609  0.770000            0.439860        0.077457            0.012227   \n610  0.780000            0.439125        0.142611            0.077250   \n611  0.740000            0.297452        0.024315            0.036135   \n\n     Equal Opportunity                                        solution  \\\n0             0.142532                {'dropout': 0.16228954240968418}   \n1             0.132052                 {'dropout': 0.1482543145261793}   \n2             0.124889                {'dropout': 0.17861515209545933}   \n3             0.084174                {'dropout': 0.15655371267306142}   \n4             0.093891                 {'dropout': 0.1698638434734938}   \n..                 ...                                             ...   \n607           0.052237  {'l2': 0.0001, 'dropout': 0.16295103402444033}   \n608           0.035074  {'l2': 0.0001, 'dropout': 0.04461888035259414}   \n609           0.070028    {'l2': 0.01, 'dropout': 0.07431439038395596}   \n610           0.039583  {'l2': 0.001, 'dropout': 0.051854059332110194}   \n611           0.018328      {'l2': 0.01, 'dropout': 0.177232278039244}   \n\n     Performance  Fairness                                  Fitness Rule  \\\n0       0.585170  0.192633  Max(Mathew Correlation - Statistical Parity)   \n1       0.585500  0.111565      Max(Mathew Correlation - Equalized Odds)   \n2       0.585064  0.124889   Max(Mathew Correlation - Equal Opportunity)   \n3       0.844887  0.183090            Max(Accuracy - Statistical Parity)   \n4       0.850857  0.084687                Max(Accuracy - Equalized Odds)   \n..           ...       ...                                           ...   \n607     0.345826  0.076810      Max(Mathew Correlation - Equalized Odds)   \n608     0.313542  0.035074   Max(Mathew Correlation - Equal Opportunity)   \n609     0.770000  0.012227            Max(Accuracy - Statistical Parity)   \n610     0.780000  0.142611                Max(Accuracy - Equalized Odds)   \n611     0.740000  0.018328             Max(Accuracy - Equal Opportunity)   \n\n           Fitness Rule Abvr  \n0    Max(MCC - Stat. Parity)  \n1        Max(MCC - Eq. Opp.)  \n2        Max(MCC - Eq. Odds)  \n3    Max(Acc - Stat. Parity)  \n4        Max(Acc - Eq. Opp.)  \n..                       ...  \n607      Max(MCC - Eq. Opp.)  \n608      Max(MCC - Eq. Odds)  \n609  Max(Acc - Stat. Parity)  \n610      Max(Acc - Eq. Opp.)  \n611      Max(Acc - Eq. Odds)  \n\n[1836 rows x 14 columns]",
      "text/html": "<div>\n<style scoped>\n    .dataframe tbody tr th:only-of-type {\n        vertical-align: middle;\n    }\n\n    .dataframe tbody tr th {\n        vertical-align: top;\n    }\n\n    .dataframe thead th {\n        text-align: right;\n    }\n</style>\n<table border=\"1\" class=\"dataframe\">\n  <thead>\n    <tr style=\"text-align: right;\">\n      <th></th>\n      <th>dataset</th>\n      <th>method</th>\n      <th>fitness_rule</th>\n      <th>fitness</th>\n      <th>Accuracy</th>\n      <th>Mathew Correlation</th>\n      <th>Equalized Odds</th>\n      <th>Statistical Parity</th>\n      <th>Equal Opportunity</th>\n      <th>solution</th>\n      <th>Performance</th>\n      <th>Fairness</th>\n      <th>Fitness Rule</th>\n      <th>Fitness Rule Abvr</th>\n    </tr>\n  </thead>\n  <tbody>\n    <tr>\n      <th>0</th>\n      <td>Adult Income</td>\n      <td>Standard MLP (baseline)</td>\n      <td>mcc_parity</td>\n      <td>0.392537</td>\n      <td>0.851299</td>\n      <td>0.585170</td>\n      <td>0.113127</td>\n      <td>0.192633</td>\n      <td>0.142532</td>\n      <td>{'dropout': 0.16228954240968418}</td>\n      <td>0.585170</td>\n      <td>0.192633</td>\n      <td>Max(Mathew Correlation - Statistical Parity)</td>\n      <td>Max(MCC - Stat. Parity)</td>\n    </tr>\n    <tr>\n      <th>1</th>\n      <td>Adult Income</td>\n      <td>Standard MLP (baseline)</td>\n      <td>mcc_odds</td>\n      <td>0.473935</td>\n      <td>0.851520</td>\n      <td>0.585500</td>\n      <td>0.111565</td>\n      <td>0.198915</td>\n      <td>0.132052</td>\n      <td>{'dropout': 0.1482543145261793}</td>\n      <td>0.585500</td>\n      <td>0.111565</td>\n      <td>Max(Mathew Correlation - Equalized Odds)</td>\n      <td>Max(MCC - Eq. Opp.)</td>\n    </tr>\n    <tr>\n      <th>2</th>\n      <td>Adult Income</td>\n      <td>Standard MLP (baseline)</td>\n      <td>mcc_opportunity</td>\n      <td>0.460175</td>\n      <td>0.851410</td>\n      <td>0.585064</td>\n      <td>0.103235</td>\n      <td>0.191606</td>\n      <td>0.124889</td>\n      <td>{'dropout': 0.17861515209545933}</td>\n      <td>0.585064</td>\n      <td>0.124889</td>\n      <td>Max(Mathew Correlation - Equal Opportunity)</td>\n      <td>Max(MCC - Eq. Odds)</td>\n    </tr>\n    <tr>\n      <th>3</th>\n      <td>Adult Income</td>\n      <td>Standard MLP (baseline)</td>\n      <td>acc_parity</td>\n      <td>0.661796</td>\n      <td>0.844887</td>\n      <td>0.565373</td>\n      <td>0.082386</td>\n      <td>0.183090</td>\n      <td>0.084174</td>\n      <td>{'dropout': 0.15655371267306142}</td>\n      <td>0.844887</td>\n      <td>0.183090</td>\n      <td>Max(Accuracy - Statistical Parity)</td>\n      <td>Max(Acc - Stat. Parity)</td>\n    </tr>\n    <tr>\n      <th>4</th>\n      <td>Adult Income</td>\n      <td>Standard MLP (baseline)</td>\n      <td>acc_odds</td>\n      <td>0.766170</td>\n      <td>0.850857</td>\n      <td>0.577932</td>\n      <td>0.084687</td>\n      <td>0.180366</td>\n      <td>0.093891</td>\n      <td>{'dropout': 0.1698638434734938}</td>\n      <td>0.850857</td>\n      <td>0.084687</td>\n      <td>Max(Accuracy - Equalized Odds)</td>\n      <td>Max(Acc - Eq. Opp.)</td>\n    </tr>\n    <tr>\n      <th>...</th>\n      <td>...</td>\n      <td>...</td>\n      <td>...</td>\n      <td>...</td>\n      <td>...</td>\n      <td>...</td>\n      <td>...</td>\n      <td>...</td>\n      <td>...</td>\n      <td>...</td>\n      <td>...</td>\n      <td>...</td>\n      <td>...</td>\n      <td>...</td>\n    </tr>\n    <tr>\n      <th>607</th>\n      <td>German Credit</td>\n      <td>Spearman regularized MLP</td>\n      <td>mcc_odds</td>\n      <td>0.269017</td>\n      <td>0.735000</td>\n      <td>0.345826</td>\n      <td>0.076810</td>\n      <td>0.062641</td>\n      <td>0.052237</td>\n      <td>{'l2': 0.0001, 'dropout': 0.16295103402444033}</td>\n      <td>0.345826</td>\n      <td>0.076810</td>\n      <td>Max(Mathew Correlation - Equalized Odds)</td>\n      <td>Max(MCC - Eq. Opp.)</td>\n    </tr>\n    <tr>\n      <th>608</th>\n      <td>German Credit</td>\n      <td>Spearman regularized MLP</td>\n      <td>mcc_opportunity</td>\n      <td>0.278468</td>\n      <td>0.780000</td>\n      <td>0.313542</td>\n      <td>0.026768</td>\n      <td>0.008625</td>\n      <td>0.035074</td>\n      <td>{'l2': 0.0001, 'dropout': 0.04461888035259414}</td>\n      <td>0.313542</td>\n      <td>0.035074</td>\n      <td>Max(Mathew Correlation - Equal Opportunity)</td>\n      <td>Max(MCC - Eq. Odds)</td>\n    </tr>\n    <tr>\n      <th>609</th>\n      <td>German Credit</td>\n      <td>Spearman regularized MLP</td>\n      <td>acc_parity</td>\n      <td>0.757773</td>\n      <td>0.770000</td>\n      <td>0.439860</td>\n      <td>0.077457</td>\n      <td>0.012227</td>\n      <td>0.070028</td>\n      <td>{'l2': 0.01, 'dropout': 0.07431439038395596}</td>\n      <td>0.770000</td>\n      <td>0.012227</td>\n      <td>Max(Accuracy - Statistical Parity)</td>\n      <td>Max(Acc - Stat. Parity)</td>\n    </tr>\n    <tr>\n      <th>610</th>\n      <td>German Credit</td>\n      <td>Spearman regularized MLP</td>\n      <td>acc_odds</td>\n      <td>0.637389</td>\n      <td>0.780000</td>\n      <td>0.439125</td>\n      <td>0.142611</td>\n      <td>0.077250</td>\n      <td>0.039583</td>\n      <td>{'l2': 0.001, 'dropout': 0.051854059332110194}</td>\n      <td>0.780000</td>\n      <td>0.142611</td>\n      <td>Max(Accuracy - Equalized Odds)</td>\n      <td>Max(Acc - Eq. Opp.)</td>\n    </tr>\n    <tr>\n      <th>611</th>\n      <td>German Credit</td>\n      <td>Spearman regularized MLP</td>\n      <td>acc_opportunity</td>\n      <td>0.721672</td>\n      <td>0.740000</td>\n      <td>0.297452</td>\n      <td>0.024315</td>\n      <td>0.036135</td>\n      <td>0.018328</td>\n      <td>{'l2': 0.01, 'dropout': 0.177232278039244}</td>\n      <td>0.740000</td>\n      <td>0.018328</td>\n      <td>Max(Accuracy - Equal Opportunity)</td>\n      <td>Max(Acc - Eq. Odds)</td>\n    </tr>\n  </tbody>\n</table>\n<p>1836 rows × 14 columns</p>\n</div>"
     },
     "metadata": {},
     "output_type": "display_data"
    }
   ],
   "source": [
    "display(mlp_results)"
   ]
  },
  {
   "cell_type": "code",
   "execution_count": 7,
   "metadata": {
    "ExecuteTime": {
     "end_time": "2024-05-07T03:23:46.639232478Z",
     "start_time": "2024-05-07T03:23:46.636774399Z"
    }
   },
   "outputs": [
    {
     "data": {
      "text/plain": "['Adult Income', 'Bank Marketing', 'Compas Recidivism', 'German Credit']"
     },
     "execution_count": 7,
     "metadata": {},
     "output_type": "execute_result"
    }
   ],
   "source": [
    "datasets = ['Adult Income', 'Bank Marketing', 'Compas Recidivism','German Credit']\n",
    "datasets"
   ]
  },
  {
   "cell_type": "code",
   "execution_count": 8,
   "metadata": {
    "ExecuteTime": {
     "end_time": "2024-05-07T03:23:46.696832970Z",
     "start_time": "2024-05-07T03:23:46.637080570Z"
    }
   },
   "outputs": [
    {
     "data": {
      "text/plain": "['mcc_parity',\n 'mcc_opportunity',\n 'mcc_odds',\n 'acc_parity',\n 'acc_opportunity',\n 'acc_odds']"
     },
     "execution_count": 8,
     "metadata": {},
     "output_type": "execute_result"
    }
   ],
   "source": [
    "fitness_rules = ['mcc_parity', 'mcc_opportunity', 'mcc_odds', 'acc_parity', 'acc_opportunity', 'acc_odds']\n",
    "fitness_rules"
   ]
  },
  {
   "cell_type": "code",
   "execution_count": 9,
   "metadata": {
    "ExecuteTime": {
     "end_time": "2024-05-07T03:23:46.697500174Z",
     "start_time": "2024-05-07T03:23:46.643501271Z"
    }
   },
   "outputs": [],
   "source": [
    "ftl_methods = ['Standard FTL (baseline)', 'Pearson regularized FTL', 'Spearman regularized FTL']\n",
    "mlp_methods = ['Standard MLP (baseline)', 'Pearson regularized MLP', 'Spearman regularized MLP']\n",
    "significances = []"
   ]
  },
  {
   "cell_type": "code",
   "execution_count": 10,
   "outputs": [
    {
     "name": "stderr",
     "output_type": "stream",
     "text": [
      "Model comparisons: 100%|█████████▉| 2997/3000 [00:07<00:00, 383.69it/s]\n",
      "Model comparisons: 100%|█████████▉| 2997/3000 [00:07<00:00, 382.36it/s]\n",
      "Model comparisons: 100%|█████████▉| 2997/3000 [00:08<00:00, 345.04it/s]\n",
      "Model comparisons: 100%|█████████▉| 2997/3000 [00:08<00:00, 350.79it/s]\n",
      "Model comparisons: 100%|█████████▉| 2997/3000 [00:08<00:00, 362.73it/s]\n",
      "Model comparisons: 100%|█████████▉| 2997/3000 [00:07<00:00, 386.44it/s]\n",
      "Model comparisons: 100%|█████████▉| 2997/3000 [00:09<00:00, 328.78it/s]\n",
      "Model comparisons: 100%|█████████▉| 2997/3000 [00:08<00:00, 355.59it/s]\n",
      "Model comparisons: 100%|█████████▉| 2997/3000 [00:08<00:00, 366.05it/s]\n",
      "Model comparisons: 100%|█████████▉| 2997/3000 [00:08<00:00, 357.95it/s]\n",
      "Model comparisons: 100%|█████████▉| 2997/3000 [00:08<00:00, 353.73it/s]\n",
      "Model comparisons: 100%|█████████▉| 2997/3000 [00:08<00:00, 356.17it/s]\n",
      "Model comparisons: 100%|█████████▉| 2997/3000 [00:08<00:00, 346.66it/s]\n",
      "Model comparisons: 100%|█████████▉| 2997/3000 [00:08<00:00, 339.43it/s]\n",
      "Model comparisons: 100%|█████████▉| 2997/3000 [00:08<00:00, 363.37it/s]\n",
      "Model comparisons: 100%|█████████▉| 2997/3000 [00:08<00:00, 358.23it/s]\n",
      "Model comparisons: 100%|█████████▉| 2997/3000 [00:08<00:00, 358.59it/s]\n",
      "Model comparisons: 100%|█████████▉| 2997/3000 [00:08<00:00, 362.35it/s]\n",
      "Model comparisons: 100%|█████████▉| 2997/3000 [00:08<00:00, 361.66it/s]\n",
      "Model comparisons: 100%|█████████▉| 2997/3000 [00:08<00:00, 354.95it/s]\n",
      "Model comparisons: 100%|█████████▉| 2997/3000 [00:08<00:00, 356.87it/s]\n",
      "Model comparisons: 100%|█████████▉| 2997/3000 [00:08<00:00, 350.67it/s]\n",
      "Model comparisons: 100%|█████████▉| 2997/3000 [00:09<00:00, 332.66it/s]\n",
      "Model comparisons: 100%|█████████▉| 2997/3000 [00:08<00:00, 336.13it/s]\n"
     ]
    },
    {
     "name": "stdout",
     "output_type": "stream",
     "text": [
      "Significance Testing\n"
     ]
    },
    {
     "data": {
      "text/plain": "                                           Standard MLP (baseline)  \\\nfitness_rule            dataset                                      \nMax(MCC - Stat. Parity) Adult Income                      1.000000   \n                        Adult Income                      0.749143   \n                        Adult Income                      0.165986   \n                        Bank Marketing                    1.000000   \n                        Bank Marketing                    1.000000   \n...                                                            ...   \nMax(Acc - Eq. Odds)     Compas Recidivism                 0.322421   \n                        Compas Recidivism                 0.627403   \n                        German Credit                     1.000000   \n                        German Credit                     1.000000   \n                        German Credit                     0.559123   \n\n                                           Pearson regularized MLP  \\\nfitness_rule            dataset                                      \nMax(MCC - Stat. Parity) Adult Income                      1.000000   \n                        Adult Income                      1.000000   \n                        Adult Income                      0.328279   \n                        Bank Marketing                    0.094853   \n                        Bank Marketing                    1.000000   \n...                                                            ...   \nMax(Acc - Eq. Odds)     Compas Recidivism                 1.000000   \n                        Compas Recidivism                 1.000000   \n                        German Credit                     0.906084   \n                        German Credit                     1.000000   \n                        German Credit                     0.690288   \n\n                                           Spearman regularized MLP  \\\nfitness_rule            dataset                                       \nMax(MCC - Stat. Parity) Adult Income                       1.000000   \n                        Adult Income                       1.000000   \n                        Adult Income                       1.000000   \n                        Bank Marketing                     0.080965   \n                        Bank Marketing                     1.000000   \n...                                                             ...   \nMax(Acc - Eq. Odds)     Compas Recidivism                  0.826055   \n                        Compas Recidivism                  1.000000   \n                        German Credit                      1.000000   \n                        German Credit                      1.000000   \n                        German Credit                      1.000000   \n\n                                                             method  \nfitness_rule            dataset                                      \nMax(MCC - Stat. Parity) Adult Income        Standard MLP (baseline)  \n                        Adult Income        Pearson regularized MLP  \n                        Adult Income       Spearman regularized MLP  \n                        Bank Marketing      Standard MLP (baseline)  \n                        Bank Marketing      Pearson regularized MLP  \n...                                                             ...  \nMax(Acc - Eq. Odds)     Compas Recidivism   Pearson regularized MLP  \n                        Compas Recidivism  Spearman regularized MLP  \n                        German Credit       Standard MLP (baseline)  \n                        German Credit       Pearson regularized MLP  \n                        German Credit      Spearman regularized MLP  \n\n[72 rows x 4 columns]",
      "text/html": "<div>\n<style scoped>\n    .dataframe tbody tr th:only-of-type {\n        vertical-align: middle;\n    }\n\n    .dataframe tbody tr th {\n        vertical-align: top;\n    }\n\n    .dataframe thead th {\n        text-align: right;\n    }\n</style>\n<table border=\"1\" class=\"dataframe\">\n  <thead>\n    <tr style=\"text-align: right;\">\n      <th></th>\n      <th></th>\n      <th>Standard MLP (baseline)</th>\n      <th>Pearson regularized MLP</th>\n      <th>Spearman regularized MLP</th>\n      <th>method</th>\n    </tr>\n    <tr>\n      <th>fitness_rule</th>\n      <th>dataset</th>\n      <th></th>\n      <th></th>\n      <th></th>\n      <th></th>\n    </tr>\n  </thead>\n  <tbody>\n    <tr>\n      <th rowspan=\"5\" valign=\"top\">Max(MCC - Stat. Parity)</th>\n      <th>Adult Income</th>\n      <td>1.000000</td>\n      <td>1.000000</td>\n      <td>1.000000</td>\n      <td>Standard MLP (baseline)</td>\n    </tr>\n    <tr>\n      <th>Adult Income</th>\n      <td>0.749143</td>\n      <td>1.000000</td>\n      <td>1.000000</td>\n      <td>Pearson regularized MLP</td>\n    </tr>\n    <tr>\n      <th>Adult Income</th>\n      <td>0.165986</td>\n      <td>0.328279</td>\n      <td>1.000000</td>\n      <td>Spearman regularized MLP</td>\n    </tr>\n    <tr>\n      <th>Bank Marketing</th>\n      <td>1.000000</td>\n      <td>0.094853</td>\n      <td>0.080965</td>\n      <td>Standard MLP (baseline)</td>\n    </tr>\n    <tr>\n      <th>Bank Marketing</th>\n      <td>1.000000</td>\n      <td>1.000000</td>\n      <td>1.000000</td>\n      <td>Pearson regularized MLP</td>\n    </tr>\n    <tr>\n      <th>...</th>\n      <th>...</th>\n      <td>...</td>\n      <td>...</td>\n      <td>...</td>\n      <td>...</td>\n    </tr>\n    <tr>\n      <th rowspan=\"5\" valign=\"top\">Max(Acc - Eq. Odds)</th>\n      <th>Compas Recidivism</th>\n      <td>0.322421</td>\n      <td>1.000000</td>\n      <td>0.826055</td>\n      <td>Pearson regularized MLP</td>\n    </tr>\n    <tr>\n      <th>Compas Recidivism</th>\n      <td>0.627403</td>\n      <td>1.000000</td>\n      <td>1.000000</td>\n      <td>Spearman regularized MLP</td>\n    </tr>\n    <tr>\n      <th>German Credit</th>\n      <td>1.000000</td>\n      <td>0.906084</td>\n      <td>1.000000</td>\n      <td>Standard MLP (baseline)</td>\n    </tr>\n    <tr>\n      <th>German Credit</th>\n      <td>1.000000</td>\n      <td>1.000000</td>\n      <td>1.000000</td>\n      <td>Pearson regularized MLP</td>\n    </tr>\n    <tr>\n      <th>German Credit</th>\n      <td>0.559123</td>\n      <td>0.690288</td>\n      <td>1.000000</td>\n      <td>Spearman regularized MLP</td>\n    </tr>\n  </tbody>\n</table>\n<p>72 rows × 4 columns</p>\n</div>"
     },
     "metadata": {},
     "output_type": "display_data"
    },
    {
     "data": {
      "text/plain": "                                                                     fitness  \\\n                                                                        mean   \nFitness Rule Abvr       dataset           method                               \nMax(Acc - Eq. Odds)     Adult Income      Spearman regularized MLP  0.768344   \n                                          Standard MLP (baseline)   0.758290   \n                                          Pearson regularized MLP   0.746905   \n                        Bank Marketing    Spearman regularized MLP  0.837681   \n                                          Pearson regularized MLP   0.813782   \n...                                                                      ...   \nMax(MCC - Stat. Parity) Compas Recidivism Standard MLP (baseline)   0.073553   \n                                          Pearson regularized MLP   0.071923   \n                        German Credit     Standard MLP (baseline)   0.265323   \n                                          Pearson regularized MLP   0.263376   \n                                          Spearman regularized MLP  0.259123   \n\n                                                                              \\\n                                                                         std   \nFitness Rule Abvr       dataset           method                               \nMax(Acc - Eq. Odds)     Adult Income      Spearman regularized MLP  0.044868   \n                                          Standard MLP (baseline)   0.035161   \n                                          Pearson regularized MLP   0.016776   \n                        Bank Marketing    Spearman regularized MLP  0.052500   \n                                          Pearson regularized MLP   0.069120   \n...                                                                      ...   \nMax(MCC - Stat. Parity) Compas Recidivism Standard MLP (baseline)   0.035209   \n                                          Pearson regularized MLP   0.032390   \n                        German Credit     Standard MLP (baseline)   0.101550   \n                                          Pearson regularized MLP   0.083823   \n                                          Spearman regularized MLP  0.086774   \n\n                                                                          \\\n                                                                   count   \nFitness Rule Abvr       dataset           method                           \nMax(Acc - Eq. Odds)     Adult Income      Spearman regularized MLP    15   \n                                          Standard MLP (baseline)     15   \n                                          Pearson regularized MLP     15   \n                        Bank Marketing    Spearman regularized MLP    29   \n                                          Pearson regularized MLP     29   \n...                                                                  ...   \nMax(MCC - Stat. Parity) Compas Recidivism Standard MLP (baseline)     29   \n                                          Pearson regularized MLP     29   \n                        German Credit     Standard MLP (baseline)     29   \n                                          Pearson regularized MLP     29   \n                                          Spearman regularized MLP    29   \n\n                                                                   Performance  \\\n                                                                          mean   \nFitness Rule Abvr       dataset           method                                 \nMax(Acc - Eq. Odds)     Adult Income      Spearman regularized MLP    0.847105   \n                                          Standard MLP (baseline)     0.847864   \n                                          Pearson regularized MLP     0.849022   \n                        Bank Marketing    Spearman regularized MLP    0.900538   \n                                          Pearson regularized MLP     0.901743   \n...                                                                        ...   \nMax(MCC - Stat. Parity) Compas Recidivism Standard MLP (baseline)     0.282629   \n                                          Pearson regularized MLP     0.288782   \n                        German Credit     Standard MLP (baseline)     0.327000   \n                                          Pearson regularized MLP     0.350955   \n                                          Spearman regularized MLP    0.357114   \n\n                                                                              \\\n                                                                         std   \nFitness Rule Abvr       dataset           method                               \nMax(Acc - Eq. Odds)     Adult Income      Spearman regularized MLP  0.002409   \n                                          Standard MLP (baseline)   0.004669   \n                                          Pearson regularized MLP   0.002941   \n                        Bank Marketing    Spearman regularized MLP  0.003442   \n                                          Pearson regularized MLP   0.002584   \n...                                                                      ...   \nMax(MCC - Stat. Parity) Compas Recidivism Standard MLP (baseline)   0.021800   \n                                          Pearson regularized MLP   0.028243   \n                        German Credit     Standard MLP (baseline)   0.091412   \n                                          Pearson regularized MLP   0.065016   \n                                          Spearman regularized MLP  0.083179   \n\n                                                                    Fairness  \\\n                                                                        mean   \nFitness Rule Abvr       dataset           method                               \nMax(Acc - Eq. Odds)     Adult Income      Spearman regularized MLP  0.078761   \n                                          Standard MLP (baseline)   0.089574   \n                                          Pearson regularized MLP   0.102117   \n                        Bank Marketing    Spearman regularized MLP  0.062858   \n                                          Pearson regularized MLP   0.087960   \n...                                                                      ...   \nMax(MCC - Stat. Parity) Compas Recidivism Standard MLP (baseline)   0.209076   \n                                          Pearson regularized MLP   0.216859   \n                        German Credit     Standard MLP (baseline)   0.061677   \n                                          Pearson regularized MLP   0.087580   \n                                          Spearman regularized MLP  0.097991   \n\n                                                                              \\\n                                                                         std   \nFitness Rule Abvr       dataset           method                               \nMax(Acc - Eq. Odds)     Adult Income      Spearman regularized MLP  0.044443   \n                                          Standard MLP (baseline)   0.035575   \n                                          Pearson regularized MLP   0.017054   \n                        Bank Marketing    Spearman regularized MLP  0.052170   \n                                          Pearson regularized MLP   0.068549   \n...                                                                      ...   \nMax(MCC - Stat. Parity) Compas Recidivism Standard MLP (baseline)   0.038909   \n                                          Pearson regularized MLP   0.029837   \n                        German Credit     Standard MLP (baseline)   0.045956   \n                                          Pearson regularized MLP   0.058819   \n                                          Spearman regularized MLP  0.059429   \n\n                                                                    formatted_fitness  \\\n                                                                                        \nFitness Rule Abvr       dataset           method                                        \nMax(Acc - Eq. Odds)     Adult Income      Spearman regularized MLP  $0.768 (\\pm0.04)$   \n                                          Standard MLP (baseline)   $0.758 (\\pm0.04)$   \n                                          Pearson regularized MLP   $0.747 (\\pm0.02)$   \n                        Bank Marketing    Spearman regularized MLP  $0.838 (\\pm0.05)$   \n                                          Pearson regularized MLP   $0.814 (\\pm0.07)$   \n...                                                                               ...   \nMax(MCC - Stat. Parity) Compas Recidivism Standard MLP (baseline)   $0.074 (\\pm0.04)$   \n                                          Pearson regularized MLP   $0.072 (\\pm0.03)$   \n                        German Credit     Standard MLP (baseline)   $0.265 (\\pm0.10)$   \n                                          Pearson regularized MLP   $0.263 (\\pm0.08)$   \n                                          Spearman regularized MLP  $0.259 (\\pm0.09)$   \n\n                                                                   formatted_performance  \\\n                                                                                           \nFitness Rule Abvr       dataset           method                                           \nMax(Acc - Eq. Odds)     Adult Income      Spearman regularized MLP     $0.847 (\\pm0.00)$   \n                                          Standard MLP (baseline)      $0.848 (\\pm0.00)$   \n                                          Pearson regularized MLP      $0.849 (\\pm0.00)$   \n                        Bank Marketing    Spearman regularized MLP     $0.901 (\\pm0.00)$   \n                                          Pearson regularized MLP      $0.902 (\\pm0.00)$   \n...                                                                                  ...   \nMax(MCC - Stat. Parity) Compas Recidivism Standard MLP (baseline)      $0.283 (\\pm0.02)$   \n                                          Pearson regularized MLP      $0.289 (\\pm0.03)$   \n                        German Credit     Standard MLP (baseline)      $0.327 (\\pm0.09)$   \n                                          Pearson regularized MLP      $0.351 (\\pm0.07)$   \n                                          Spearman regularized MLP     $0.357 (\\pm0.08)$   \n\n                                                                   formatted_fairness  \n                                                                                       \nFitness Rule Abvr       dataset           method                                       \nMax(Acc - Eq. Odds)     Adult Income      Spearman regularized MLP  $0.079 (\\pm0.04)$  \n                                          Standard MLP (baseline)   $0.090 (\\pm0.04)$  \n                                          Pearson regularized MLP   $0.102 (\\pm0.02)$  \n                        Bank Marketing    Spearman regularized MLP  $0.063 (\\pm0.05)$  \n                                          Pearson regularized MLP   $0.088 (\\pm0.07)$  \n...                                                                               ...  \nMax(MCC - Stat. Parity) Compas Recidivism Standard MLP (baseline)   $0.209 (\\pm0.04)$  \n                                          Pearson regularized MLP   $0.217 (\\pm0.03)$  \n                        German Credit     Standard MLP (baseline)   $0.062 (\\pm0.05)$  \n                                          Pearson regularized MLP   $0.088 (\\pm0.06)$  \n                                          Spearman regularized MLP  $0.098 (\\pm0.06)$  \n\n[72 rows x 10 columns]",
      "text/html": "<div>\n<style scoped>\n    .dataframe tbody tr th:only-of-type {\n        vertical-align: middle;\n    }\n\n    .dataframe tbody tr th {\n        vertical-align: top;\n    }\n\n    .dataframe thead tr th {\n        text-align: left;\n    }\n\n    .dataframe thead tr:last-of-type th {\n        text-align: right;\n    }\n</style>\n<table border=\"1\" class=\"dataframe\">\n  <thead>\n    <tr>\n      <th></th>\n      <th></th>\n      <th></th>\n      <th colspan=\"3\" halign=\"left\">fitness</th>\n      <th colspan=\"2\" halign=\"left\">Performance</th>\n      <th colspan=\"2\" halign=\"left\">Fairness</th>\n      <th>formatted_fitness</th>\n      <th>formatted_performance</th>\n      <th>formatted_fairness</th>\n    </tr>\n    <tr>\n      <th></th>\n      <th></th>\n      <th></th>\n      <th>mean</th>\n      <th>std</th>\n      <th>count</th>\n      <th>mean</th>\n      <th>std</th>\n      <th>mean</th>\n      <th>std</th>\n      <th></th>\n      <th></th>\n      <th></th>\n    </tr>\n    <tr>\n      <th>Fitness Rule Abvr</th>\n      <th>dataset</th>\n      <th>method</th>\n      <th></th>\n      <th></th>\n      <th></th>\n      <th></th>\n      <th></th>\n      <th></th>\n      <th></th>\n      <th></th>\n      <th></th>\n      <th></th>\n    </tr>\n  </thead>\n  <tbody>\n    <tr>\n      <th rowspan=\"5\" valign=\"top\">Max(Acc - Eq. Odds)</th>\n      <th rowspan=\"3\" valign=\"top\">Adult Income</th>\n      <th>Spearman regularized MLP</th>\n      <td>0.768344</td>\n      <td>0.044868</td>\n      <td>15</td>\n      <td>0.847105</td>\n      <td>0.002409</td>\n      <td>0.078761</td>\n      <td>0.044443</td>\n      <td>$0.768 (\\pm0.04)$</td>\n      <td>$0.847 (\\pm0.00)$</td>\n      <td>$0.079 (\\pm0.04)$</td>\n    </tr>\n    <tr>\n      <th>Standard MLP (baseline)</th>\n      <td>0.758290</td>\n      <td>0.035161</td>\n      <td>15</td>\n      <td>0.847864</td>\n      <td>0.004669</td>\n      <td>0.089574</td>\n      <td>0.035575</td>\n      <td>$0.758 (\\pm0.04)$</td>\n      <td>$0.848 (\\pm0.00)$</td>\n      <td>$0.090 (\\pm0.04)$</td>\n    </tr>\n    <tr>\n      <th>Pearson regularized MLP</th>\n      <td>0.746905</td>\n      <td>0.016776</td>\n      <td>15</td>\n      <td>0.849022</td>\n      <td>0.002941</td>\n      <td>0.102117</td>\n      <td>0.017054</td>\n      <td>$0.747 (\\pm0.02)$</td>\n      <td>$0.849 (\\pm0.00)$</td>\n      <td>$0.102 (\\pm0.02)$</td>\n    </tr>\n    <tr>\n      <th rowspan=\"2\" valign=\"top\">Bank Marketing</th>\n      <th>Spearman regularized MLP</th>\n      <td>0.837681</td>\n      <td>0.052500</td>\n      <td>29</td>\n      <td>0.900538</td>\n      <td>0.003442</td>\n      <td>0.062858</td>\n      <td>0.052170</td>\n      <td>$0.838 (\\pm0.05)$</td>\n      <td>$0.901 (\\pm0.00)$</td>\n      <td>$0.063 (\\pm0.05)$</td>\n    </tr>\n    <tr>\n      <th>Pearson regularized MLP</th>\n      <td>0.813782</td>\n      <td>0.069120</td>\n      <td>29</td>\n      <td>0.901743</td>\n      <td>0.002584</td>\n      <td>0.087960</td>\n      <td>0.068549</td>\n      <td>$0.814 (\\pm0.07)$</td>\n      <td>$0.902 (\\pm0.00)$</td>\n      <td>$0.088 (\\pm0.07)$</td>\n    </tr>\n    <tr>\n      <th>...</th>\n      <th>...</th>\n      <th>...</th>\n      <td>...</td>\n      <td>...</td>\n      <td>...</td>\n      <td>...</td>\n      <td>...</td>\n      <td>...</td>\n      <td>...</td>\n      <td>...</td>\n      <td>...</td>\n      <td>...</td>\n    </tr>\n    <tr>\n      <th rowspan=\"5\" valign=\"top\">Max(MCC - Stat. Parity)</th>\n      <th rowspan=\"2\" valign=\"top\">Compas Recidivism</th>\n      <th>Standard MLP (baseline)</th>\n      <td>0.073553</td>\n      <td>0.035209</td>\n      <td>29</td>\n      <td>0.282629</td>\n      <td>0.021800</td>\n      <td>0.209076</td>\n      <td>0.038909</td>\n      <td>$0.074 (\\pm0.04)$</td>\n      <td>$0.283 (\\pm0.02)$</td>\n      <td>$0.209 (\\pm0.04)$</td>\n    </tr>\n    <tr>\n      <th>Pearson regularized MLP</th>\n      <td>0.071923</td>\n      <td>0.032390</td>\n      <td>29</td>\n      <td>0.288782</td>\n      <td>0.028243</td>\n      <td>0.216859</td>\n      <td>0.029837</td>\n      <td>$0.072 (\\pm0.03)$</td>\n      <td>$0.289 (\\pm0.03)$</td>\n      <td>$0.217 (\\pm0.03)$</td>\n    </tr>\n    <tr>\n      <th rowspan=\"3\" valign=\"top\">German Credit</th>\n      <th>Standard MLP (baseline)</th>\n      <td>0.265323</td>\n      <td>0.101550</td>\n      <td>29</td>\n      <td>0.327000</td>\n      <td>0.091412</td>\n      <td>0.061677</td>\n      <td>0.045956</td>\n      <td>$0.265 (\\pm0.10)$</td>\n      <td>$0.327 (\\pm0.09)$</td>\n      <td>$0.062 (\\pm0.05)$</td>\n    </tr>\n    <tr>\n      <th>Pearson regularized MLP</th>\n      <td>0.263376</td>\n      <td>0.083823</td>\n      <td>29</td>\n      <td>0.350955</td>\n      <td>0.065016</td>\n      <td>0.087580</td>\n      <td>0.058819</td>\n      <td>$0.263 (\\pm0.08)$</td>\n      <td>$0.351 (\\pm0.07)$</td>\n      <td>$0.088 (\\pm0.06)$</td>\n    </tr>\n    <tr>\n      <th>Spearman regularized MLP</th>\n      <td>0.259123</td>\n      <td>0.086774</td>\n      <td>29</td>\n      <td>0.357114</td>\n      <td>0.083179</td>\n      <td>0.097991</td>\n      <td>0.059429</td>\n      <td>$0.259 (\\pm0.09)$</td>\n      <td>$0.357 (\\pm0.08)$</td>\n      <td>$0.098 (\\pm0.06)$</td>\n    </tr>\n  </tbody>\n</table>\n<p>72 rows × 10 columns</p>\n</div>"
     },
     "metadata": {},
     "output_type": "display_data"
    },
    {
     "name": "stdout",
     "output_type": "stream",
     "text": [
      "Significance Testing\n"
     ]
    },
    {
     "data": {
      "text/plain": "                                      Standard FTL (baseline)  \\\nfitness_rule            dataset                                 \nMax(MCC - Stat. Parity) Adult Income                 1.000000   \n                        Adult Income                 0.570111   \n                        Adult Income                 1.000000   \nMax(MCC - Eq. Opp.)     Adult Income                 1.000000   \n                        Adult Income                 0.330120   \n                        Adult Income                 0.409720   \nMax(MCC - Eq. Odds)     Adult Income                 1.000000   \n                        Adult Income                 1.000000   \n                        Adult Income                 1.000000   \nMax(Acc - Stat. Parity) Adult Income                 1.000000   \n                        Adult Income                 0.237760   \n                        Adult Income                 0.426893   \nMax(Acc - Eq. Opp.)     Adult Income                 1.000000   \n                        Adult Income                 0.620055   \n                        Adult Income                 0.567884   \nMax(Acc - Eq. Odds)     Adult Income                 1.000000   \n                        Adult Income                 0.898850   \n                        Adult Income                 1.000000   \n\n                                      Pearson regularized FTL  \\\nfitness_rule            dataset                                 \nMax(MCC - Stat. Parity) Adult Income                 1.000000   \n                        Adult Income                 1.000000   \n                        Adult Income                 1.000000   \nMax(MCC - Eq. Opp.)     Adult Income                 1.000000   \n                        Adult Income                 1.000000   \n                        Adult Income                 1.000000   \nMax(MCC - Eq. Odds)     Adult Income                 0.214025   \n                        Adult Income                 1.000000   \n                        Adult Income                 0.463396   \nMax(Acc - Stat. Parity) Adult Income                 1.000000   \n                        Adult Income                 1.000000   \n                        Adult Income                 1.000000   \nMax(Acc - Eq. Opp.)     Adult Income                 1.000000   \n                        Adult Income                 1.000000   \n                        Adult Income                 0.961876   \nMax(Acc - Eq. Odds)     Adult Income                 1.000000   \n                        Adult Income                 1.000000   \n                        Adult Income                 1.000000   \n\n                                      Spearman regularized FTL  \\\nfitness_rule            dataset                                  \nMax(MCC - Stat. Parity) Adult Income                  0.414297   \n                        Adult Income                  0.200100   \n                        Adult Income                  1.000000   \nMax(MCC - Eq. Opp.)     Adult Income                  1.000000   \n                        Adult Income                  0.693668   \n                        Adult Income                  1.000000   \nMax(MCC - Eq. Odds)     Adult Income                  0.591680   \n                        Adult Income                  1.000000   \n                        Adult Income                  1.000000   \nMax(Acc - Stat. Parity) Adult Income                  1.000000   \n                        Adult Income                  0.533003   \n                        Adult Income                  1.000000   \nMax(Acc - Eq. Opp.)     Adult Income                  1.000000   \n                        Adult Income                  1.000000   \n                        Adult Income                  1.000000   \nMax(Acc - Eq. Odds)     Adult Income                  0.258881   \n                        Adult Income                  0.221483   \n                        Adult Income                  1.000000   \n\n                                                        method  \nfitness_rule            dataset                                 \nMax(MCC - Stat. Parity) Adult Income   Standard FTL (baseline)  \n                        Adult Income   Pearson regularized FTL  \n                        Adult Income  Spearman regularized FTL  \nMax(MCC - Eq. Opp.)     Adult Income   Standard FTL (baseline)  \n                        Adult Income   Pearson regularized FTL  \n                        Adult Income  Spearman regularized FTL  \nMax(MCC - Eq. Odds)     Adult Income   Standard FTL (baseline)  \n                        Adult Income   Pearson regularized FTL  \n                        Adult Income  Spearman regularized FTL  \nMax(Acc - Stat. Parity) Adult Income   Standard FTL (baseline)  \n                        Adult Income   Pearson regularized FTL  \n                        Adult Income  Spearman regularized FTL  \nMax(Acc - Eq. Opp.)     Adult Income   Standard FTL (baseline)  \n                        Adult Income   Pearson regularized FTL  \n                        Adult Income  Spearman regularized FTL  \nMax(Acc - Eq. Odds)     Adult Income   Standard FTL (baseline)  \n                        Adult Income   Pearson regularized FTL  \n                        Adult Income  Spearman regularized FTL  ",
      "text/html": "<div>\n<style scoped>\n    .dataframe tbody tr th:only-of-type {\n        vertical-align: middle;\n    }\n\n    .dataframe tbody tr th {\n        vertical-align: top;\n    }\n\n    .dataframe thead th {\n        text-align: right;\n    }\n</style>\n<table border=\"1\" class=\"dataframe\">\n  <thead>\n    <tr style=\"text-align: right;\">\n      <th></th>\n      <th></th>\n      <th>Standard FTL (baseline)</th>\n      <th>Pearson regularized FTL</th>\n      <th>Spearman regularized FTL</th>\n      <th>method</th>\n    </tr>\n    <tr>\n      <th>fitness_rule</th>\n      <th>dataset</th>\n      <th></th>\n      <th></th>\n      <th></th>\n      <th></th>\n    </tr>\n  </thead>\n  <tbody>\n    <tr>\n      <th rowspan=\"3\" valign=\"top\">Max(MCC - Stat. Parity)</th>\n      <th>Adult Income</th>\n      <td>1.000000</td>\n      <td>1.000000</td>\n      <td>0.414297</td>\n      <td>Standard FTL (baseline)</td>\n    </tr>\n    <tr>\n      <th>Adult Income</th>\n      <td>0.570111</td>\n      <td>1.000000</td>\n      <td>0.200100</td>\n      <td>Pearson regularized FTL</td>\n    </tr>\n    <tr>\n      <th>Adult Income</th>\n      <td>1.000000</td>\n      <td>1.000000</td>\n      <td>1.000000</td>\n      <td>Spearman regularized FTL</td>\n    </tr>\n    <tr>\n      <th rowspan=\"3\" valign=\"top\">Max(MCC - Eq. Opp.)</th>\n      <th>Adult Income</th>\n      <td>1.000000</td>\n      <td>1.000000</td>\n      <td>1.000000</td>\n      <td>Standard FTL (baseline)</td>\n    </tr>\n    <tr>\n      <th>Adult Income</th>\n      <td>0.330120</td>\n      <td>1.000000</td>\n      <td>0.693668</td>\n      <td>Pearson regularized FTL</td>\n    </tr>\n    <tr>\n      <th>Adult Income</th>\n      <td>0.409720</td>\n      <td>1.000000</td>\n      <td>1.000000</td>\n      <td>Spearman regularized FTL</td>\n    </tr>\n    <tr>\n      <th rowspan=\"3\" valign=\"top\">Max(MCC - Eq. Odds)</th>\n      <th>Adult Income</th>\n      <td>1.000000</td>\n      <td>0.214025</td>\n      <td>0.591680</td>\n      <td>Standard FTL (baseline)</td>\n    </tr>\n    <tr>\n      <th>Adult Income</th>\n      <td>1.000000</td>\n      <td>1.000000</td>\n      <td>1.000000</td>\n      <td>Pearson regularized FTL</td>\n    </tr>\n    <tr>\n      <th>Adult Income</th>\n      <td>1.000000</td>\n      <td>0.463396</td>\n      <td>1.000000</td>\n      <td>Spearman regularized FTL</td>\n    </tr>\n    <tr>\n      <th rowspan=\"3\" valign=\"top\">Max(Acc - Stat. Parity)</th>\n      <th>Adult Income</th>\n      <td>1.000000</td>\n      <td>1.000000</td>\n      <td>1.000000</td>\n      <td>Standard FTL (baseline)</td>\n    </tr>\n    <tr>\n      <th>Adult Income</th>\n      <td>0.237760</td>\n      <td>1.000000</td>\n      <td>0.533003</td>\n      <td>Pearson regularized FTL</td>\n    </tr>\n    <tr>\n      <th>Adult Income</th>\n      <td>0.426893</td>\n      <td>1.000000</td>\n      <td>1.000000</td>\n      <td>Spearman regularized FTL</td>\n    </tr>\n    <tr>\n      <th rowspan=\"3\" valign=\"top\">Max(Acc - Eq. Opp.)</th>\n      <th>Adult Income</th>\n      <td>1.000000</td>\n      <td>1.000000</td>\n      <td>1.000000</td>\n      <td>Standard FTL (baseline)</td>\n    </tr>\n    <tr>\n      <th>Adult Income</th>\n      <td>0.620055</td>\n      <td>1.000000</td>\n      <td>1.000000</td>\n      <td>Pearson regularized FTL</td>\n    </tr>\n    <tr>\n      <th>Adult Income</th>\n      <td>0.567884</td>\n      <td>0.961876</td>\n      <td>1.000000</td>\n      <td>Spearman regularized FTL</td>\n    </tr>\n    <tr>\n      <th rowspan=\"3\" valign=\"top\">Max(Acc - Eq. Odds)</th>\n      <th>Adult Income</th>\n      <td>1.000000</td>\n      <td>1.000000</td>\n      <td>0.258881</td>\n      <td>Standard FTL (baseline)</td>\n    </tr>\n    <tr>\n      <th>Adult Income</th>\n      <td>0.898850</td>\n      <td>1.000000</td>\n      <td>0.221483</td>\n      <td>Pearson regularized FTL</td>\n    </tr>\n    <tr>\n      <th>Adult Income</th>\n      <td>1.000000</td>\n      <td>1.000000</td>\n      <td>1.000000</td>\n      <td>Spearman regularized FTL</td>\n    </tr>\n  </tbody>\n</table>\n</div>"
     },
     "metadata": {},
     "output_type": "display_data"
    },
    {
     "data": {
      "text/plain": "                                                                fitness  \\\n                                                                   mean   \nFitness Rule Abvr       dataset      method                               \nMax(Acc - Eq. Odds)     Adult Income Pearson regularized FTL   0.816440   \n                                     Standard FTL (baseline)   0.813400   \n                                     Spearman regularized FTL  0.793284   \nMax(Acc - Eq. Opp.)     Adult Income Pearson regularized FTL   0.806716   \n                                     Spearman regularized FTL  0.805827   \n                                     Standard FTL (baseline)   0.801817   \nMax(Acc - Stat. Parity) Adult Income Pearson regularized FTL   0.813380   \n                                     Spearman regularized FTL  0.809098   \n                                     Standard FTL (baseline)   0.799946   \nMax(MCC - Eq. Odds)     Adult Income Standard FTL (baseline)   0.552515   \n                                     Spearman regularized FTL  0.542470   \n                                     Pearson regularized FTL   0.527102   \nMax(MCC - Eq. Opp.)     Adult Income Pearson regularized FTL   0.530239   \n                                     Spearman regularized FTL  0.526425   \n                                     Standard FTL (baseline)   0.516256   \nMax(MCC - Stat. Parity) Adult Income Pearson regularized FTL   0.493097   \n                                     Standard FTL (baseline)   0.486983   \n                                     Spearman regularized FTL  0.475760   \n\n                                                                               \\\n                                                                    std count   \nFitness Rule Abvr       dataset      method                                     \nMax(Acc - Eq. Odds)     Adult Income Pearson regularized FTL   0.024623    16   \n                                     Standard FTL (baseline)   0.021986    13   \n                                     Spearman regularized FTL  0.036451    12   \nMax(Acc - Eq. Opp.)     Adult Income Pearson regularized FTL   0.015056    16   \n                                     Spearman regularized FTL  0.011884    12   \n                                     Standard FTL (baseline)   0.015775    14   \nMax(Acc - Stat. Parity) Adult Income Pearson regularized FTL   0.011659    16   \n                                     Spearman regularized FTL  0.012363    12   \n                                     Standard FTL (baseline)   0.023751    14   \nMax(MCC - Eq. Odds)     Adult Income Standard FTL (baseline)   0.029883    14   \n                                     Spearman regularized FTL  0.035399    12   \n                                     Pearson regularized FTL   0.033794    16   \nMax(MCC - Eq. Opp.)     Adult Income Pearson regularized FTL   0.015378    16   \n                                     Spearman regularized FTL  0.014108    12   \n                                     Standard FTL (baseline)   0.030559    14   \nMax(MCC - Stat. Parity) Adult Income Pearson regularized FTL   0.021600    16   \n                                     Standard FTL (baseline)   0.018719    14   \n                                     Spearman regularized FTL  0.022828    12   \n\n                                                              Performance  \\\n                                                                     mean   \nFitness Rule Abvr       dataset      method                                 \nMax(Acc - Eq. Odds)     Adult Income Pearson regularized FTL     0.844002   \n                                     Standard FTL (baseline)     0.847098   \n                                     Spearman regularized FTL    0.843265   \nMax(Acc - Eq. Opp.)     Adult Income Pearson regularized FTL     0.843954   \n                                     Spearman regularized FTL    0.842500   \n                                     Standard FTL (baseline)     0.839035   \nMax(Acc - Stat. Parity) Adult Income Pearson regularized FTL     0.828372   \n                                     Spearman regularized FTL    0.824912   \n                                     Standard FTL (baseline)     0.827561   \nMax(MCC - Eq. Odds)     Adult Income Standard FTL (baseline)     0.580809   \n                                     Spearman regularized FTL    0.580652   \n                                     Pearson regularized FTL     0.575703   \nMax(MCC - Eq. Opp.)     Adult Income Pearson regularized FTL     0.578205   \n                                     Spearman regularized FTL    0.574624   \n                                     Standard FTL (baseline)     0.569236   \nMax(MCC - Stat. Parity) Adult Income Pearson regularized FTL     0.505210   \n                                     Standard FTL (baseline)     0.505311   \n                                     Spearman regularized FTL    0.500205   \n\n                                                                         \\\n                                                                    std   \nFitness Rule Abvr       dataset      method                               \nMax(Acc - Eq. Odds)     Adult Income Pearson regularized FTL   0.009140   \n                                     Standard FTL (baseline)   0.002867   \n                                     Spearman regularized FTL  0.003187   \nMax(Acc - Eq. Opp.)     Adult Income Pearson regularized FTL   0.007224   \n                                     Spearman regularized FTL  0.003842   \n                                     Standard FTL (baseline)   0.008325   \nMax(Acc - Stat. Parity) Adult Income Pearson regularized FTL   0.008529   \n                                     Spearman regularized FTL  0.009076   \n                                     Standard FTL (baseline)   0.008750   \nMax(MCC - Eq. Odds)     Adult Income Standard FTL (baseline)   0.010422   \n                                     Spearman regularized FTL  0.010257   \n                                     Pearson regularized FTL   0.018196   \nMax(MCC - Eq. Opp.)     Adult Income Pearson regularized FTL   0.013779   \n                                     Spearman regularized FTL  0.012236   \n                                     Standard FTL (baseline)   0.024584   \nMax(MCC - Stat. Parity) Adult Income Pearson regularized FTL   0.019975   \n                                     Standard FTL (baseline)   0.022714   \n                                     Spearman regularized FTL  0.021246   \n\n                                                               Fairness  \\\n                                                                   mean   \nFitness Rule Abvr       dataset      method                               \nMax(Acc - Eq. Odds)     Adult Income Pearson regularized FTL   0.027562   \n                                     Standard FTL (baseline)   0.033698   \n                                     Spearman regularized FTL  0.049981   \nMax(Acc - Eq. Opp.)     Adult Income Pearson regularized FTL   0.037238   \n                                     Spearman regularized FTL  0.036674   \n                                     Standard FTL (baseline)   0.037218   \nMax(Acc - Stat. Parity) Adult Income Pearson regularized FTL   0.014992   \n                                     Spearman regularized FTL  0.015814   \n                                     Standard FTL (baseline)   0.027615   \nMax(MCC - Eq. Odds)     Adult Income Standard FTL (baseline)   0.028294   \n                                     Spearman regularized FTL  0.038183   \n                                     Pearson regularized FTL   0.048601   \nMax(MCC - Eq. Opp.)     Adult Income Pearson regularized FTL   0.047966   \n                                     Spearman regularized FTL  0.048200   \n                                     Standard FTL (baseline)   0.052980   \nMax(MCC - Stat. Parity) Adult Income Pearson regularized FTL   0.012113   \n                                     Standard FTL (baseline)   0.018328   \n                                     Spearman regularized FTL  0.024445   \n\n                                                                         \\\n                                                                    std   \nFitness Rule Abvr       dataset      method                               \nMax(Acc - Eq. Odds)     Adult Income Pearson regularized FTL   0.022816   \n                                     Standard FTL (baseline)   0.021060   \n                                     Spearman regularized FTL  0.037638   \nMax(Acc - Eq. Opp.)     Adult Income Pearson regularized FTL   0.014540   \n                                     Spearman regularized FTL  0.011862   \n                                     Standard FTL (baseline)   0.017543   \nMax(Acc - Stat. Parity) Adult Income Pearson regularized FTL   0.011506   \n                                     Spearman regularized FTL  0.008208   \n                                     Standard FTL (baseline)   0.026391   \nMax(MCC - Eq. Odds)     Adult Income Standard FTL (baseline)   0.028730   \n                                     Spearman regularized FTL  0.028510   \n                                     Pearson regularized FTL   0.032912   \nMax(MCC - Eq. Opp.)     Adult Income Pearson regularized FTL   0.017720   \n                                     Spearman regularized FTL  0.012006   \n                                     Standard FTL (baseline)   0.017663   \nMax(MCC - Stat. Parity) Adult Income Pearson regularized FTL   0.008477   \n                                     Standard FTL (baseline)   0.018485   \n                                     Spearman regularized FTL  0.020216   \n\n                                                               formatted_fitness  \\\n                                                                                   \nFitness Rule Abvr       dataset      method                                        \nMax(Acc - Eq. Odds)     Adult Income Pearson regularized FTL   $0.816 (\\pm0.02)$   \n                                     Standard FTL (baseline)   $0.813 (\\pm0.02)$   \n                                     Spearman regularized FTL  $0.793 (\\pm0.04)$   \nMax(Acc - Eq. Opp.)     Adult Income Pearson regularized FTL   $0.807 (\\pm0.02)$   \n                                     Spearman regularized FTL  $0.806 (\\pm0.01)$   \n                                     Standard FTL (baseline)   $0.802 (\\pm0.02)$   \nMax(Acc - Stat. Parity) Adult Income Pearson regularized FTL   $0.813 (\\pm0.01)$   \n                                     Spearman regularized FTL  $0.809 (\\pm0.01)$   \n                                     Standard FTL (baseline)   $0.800 (\\pm0.02)$   \nMax(MCC - Eq. Odds)     Adult Income Standard FTL (baseline)   $0.553 (\\pm0.03)$   \n                                     Spearman regularized FTL  $0.542 (\\pm0.04)$   \n                                     Pearson regularized FTL   $0.527 (\\pm0.03)$   \nMax(MCC - Eq. Opp.)     Adult Income Pearson regularized FTL   $0.530 (\\pm0.02)$   \n                                     Spearman regularized FTL  $0.526 (\\pm0.01)$   \n                                     Standard FTL (baseline)   $0.516 (\\pm0.03)$   \nMax(MCC - Stat. Parity) Adult Income Pearson regularized FTL   $0.493 (\\pm0.02)$   \n                                     Standard FTL (baseline)   $0.487 (\\pm0.02)$   \n                                     Spearman regularized FTL  $0.476 (\\pm0.02)$   \n\n                                                              formatted_performance  \\\n                                                                                      \nFitness Rule Abvr       dataset      method                                           \nMax(Acc - Eq. Odds)     Adult Income Pearson regularized FTL      $0.844 (\\pm0.01)$   \n                                     Standard FTL (baseline)      $0.847 (\\pm0.00)$   \n                                     Spearman regularized FTL     $0.843 (\\pm0.00)$   \nMax(Acc - Eq. Opp.)     Adult Income Pearson regularized FTL      $0.844 (\\pm0.01)$   \n                                     Spearman regularized FTL     $0.843 (\\pm0.00)$   \n                                     Standard FTL (baseline)      $0.839 (\\pm0.01)$   \nMax(Acc - Stat. Parity) Adult Income Pearson regularized FTL      $0.828 (\\pm0.01)$   \n                                     Spearman regularized FTL     $0.825 (\\pm0.01)$   \n                                     Standard FTL (baseline)      $0.828 (\\pm0.01)$   \nMax(MCC - Eq. Odds)     Adult Income Standard FTL (baseline)      $0.581 (\\pm0.01)$   \n                                     Spearman regularized FTL     $0.581 (\\pm0.01)$   \n                                     Pearson regularized FTL      $0.576 (\\pm0.02)$   \nMax(MCC - Eq. Opp.)     Adult Income Pearson regularized FTL      $0.578 (\\pm0.01)$   \n                                     Spearman regularized FTL     $0.575 (\\pm0.01)$   \n                                     Standard FTL (baseline)      $0.569 (\\pm0.02)$   \nMax(MCC - Stat. Parity) Adult Income Pearson regularized FTL      $0.505 (\\pm0.02)$   \n                                     Standard FTL (baseline)      $0.505 (\\pm0.02)$   \n                                     Spearman regularized FTL     $0.500 (\\pm0.02)$   \n\n                                                              formatted_fairness  \n                                                                                  \nFitness Rule Abvr       dataset      method                                       \nMax(Acc - Eq. Odds)     Adult Income Pearson regularized FTL   $0.028 (\\pm0.02)$  \n                                     Standard FTL (baseline)   $0.034 (\\pm0.02)$  \n                                     Spearman regularized FTL  $0.050 (\\pm0.04)$  \nMax(Acc - Eq. Opp.)     Adult Income Pearson regularized FTL   $0.037 (\\pm0.01)$  \n                                     Spearman regularized FTL  $0.037 (\\pm0.01)$  \n                                     Standard FTL (baseline)   $0.037 (\\pm0.02)$  \nMax(Acc - Stat. Parity) Adult Income Pearson regularized FTL   $0.015 (\\pm0.01)$  \n                                     Spearman regularized FTL  $0.016 (\\pm0.01)$  \n                                     Standard FTL (baseline)   $0.028 (\\pm0.03)$  \nMax(MCC - Eq. Odds)     Adult Income Standard FTL (baseline)   $0.028 (\\pm0.03)$  \n                                     Spearman regularized FTL  $0.038 (\\pm0.03)$  \n                                     Pearson regularized FTL   $0.049 (\\pm0.03)$  \nMax(MCC - Eq. Opp.)     Adult Income Pearson regularized FTL   $0.048 (\\pm0.02)$  \n                                     Spearman regularized FTL  $0.048 (\\pm0.01)$  \n                                     Standard FTL (baseline)   $0.053 (\\pm0.02)$  \nMax(MCC - Stat. Parity) Adult Income Pearson regularized FTL   $0.012 (\\pm0.01)$  \n                                     Standard FTL (baseline)   $0.018 (\\pm0.02)$  \n                                     Spearman regularized FTL  $0.024 (\\pm0.02)$  ",
      "text/html": "<div>\n<style scoped>\n    .dataframe tbody tr th:only-of-type {\n        vertical-align: middle;\n    }\n\n    .dataframe tbody tr th {\n        vertical-align: top;\n    }\n\n    .dataframe thead tr th {\n        text-align: left;\n    }\n\n    .dataframe thead tr:last-of-type th {\n        text-align: right;\n    }\n</style>\n<table border=\"1\" class=\"dataframe\">\n  <thead>\n    <tr>\n      <th></th>\n      <th></th>\n      <th></th>\n      <th colspan=\"3\" halign=\"left\">fitness</th>\n      <th colspan=\"2\" halign=\"left\">Performance</th>\n      <th colspan=\"2\" halign=\"left\">Fairness</th>\n      <th>formatted_fitness</th>\n      <th>formatted_performance</th>\n      <th>formatted_fairness</th>\n    </tr>\n    <tr>\n      <th></th>\n      <th></th>\n      <th></th>\n      <th>mean</th>\n      <th>std</th>\n      <th>count</th>\n      <th>mean</th>\n      <th>std</th>\n      <th>mean</th>\n      <th>std</th>\n      <th></th>\n      <th></th>\n      <th></th>\n    </tr>\n    <tr>\n      <th>Fitness Rule Abvr</th>\n      <th>dataset</th>\n      <th>method</th>\n      <th></th>\n      <th></th>\n      <th></th>\n      <th></th>\n      <th></th>\n      <th></th>\n      <th></th>\n      <th></th>\n      <th></th>\n      <th></th>\n    </tr>\n  </thead>\n  <tbody>\n    <tr>\n      <th rowspan=\"3\" valign=\"top\">Max(Acc - Eq. Odds)</th>\n      <th rowspan=\"3\" valign=\"top\">Adult Income</th>\n      <th>Pearson regularized FTL</th>\n      <td>0.816440</td>\n      <td>0.024623</td>\n      <td>16</td>\n      <td>0.844002</td>\n      <td>0.009140</td>\n      <td>0.027562</td>\n      <td>0.022816</td>\n      <td>$0.816 (\\pm0.02)$</td>\n      <td>$0.844 (\\pm0.01)$</td>\n      <td>$0.028 (\\pm0.02)$</td>\n    </tr>\n    <tr>\n      <th>Standard FTL (baseline)</th>\n      <td>0.813400</td>\n      <td>0.021986</td>\n      <td>13</td>\n      <td>0.847098</td>\n      <td>0.002867</td>\n      <td>0.033698</td>\n      <td>0.021060</td>\n      <td>$0.813 (\\pm0.02)$</td>\n      <td>$0.847 (\\pm0.00)$</td>\n      <td>$0.034 (\\pm0.02)$</td>\n    </tr>\n    <tr>\n      <th>Spearman regularized FTL</th>\n      <td>0.793284</td>\n      <td>0.036451</td>\n      <td>12</td>\n      <td>0.843265</td>\n      <td>0.003187</td>\n      <td>0.049981</td>\n      <td>0.037638</td>\n      <td>$0.793 (\\pm0.04)$</td>\n      <td>$0.843 (\\pm0.00)$</td>\n      <td>$0.050 (\\pm0.04)$</td>\n    </tr>\n    <tr>\n      <th rowspan=\"3\" valign=\"top\">Max(Acc - Eq. Opp.)</th>\n      <th rowspan=\"3\" valign=\"top\">Adult Income</th>\n      <th>Pearson regularized FTL</th>\n      <td>0.806716</td>\n      <td>0.015056</td>\n      <td>16</td>\n      <td>0.843954</td>\n      <td>0.007224</td>\n      <td>0.037238</td>\n      <td>0.014540</td>\n      <td>$0.807 (\\pm0.02)$</td>\n      <td>$0.844 (\\pm0.01)$</td>\n      <td>$0.037 (\\pm0.01)$</td>\n    </tr>\n    <tr>\n      <th>Spearman regularized FTL</th>\n      <td>0.805827</td>\n      <td>0.011884</td>\n      <td>12</td>\n      <td>0.842500</td>\n      <td>0.003842</td>\n      <td>0.036674</td>\n      <td>0.011862</td>\n      <td>$0.806 (\\pm0.01)$</td>\n      <td>$0.843 (\\pm0.00)$</td>\n      <td>$0.037 (\\pm0.01)$</td>\n    </tr>\n    <tr>\n      <th>Standard FTL (baseline)</th>\n      <td>0.801817</td>\n      <td>0.015775</td>\n      <td>14</td>\n      <td>0.839035</td>\n      <td>0.008325</td>\n      <td>0.037218</td>\n      <td>0.017543</td>\n      <td>$0.802 (\\pm0.02)$</td>\n      <td>$0.839 (\\pm0.01)$</td>\n      <td>$0.037 (\\pm0.02)$</td>\n    </tr>\n    <tr>\n      <th rowspan=\"3\" valign=\"top\">Max(Acc - Stat. Parity)</th>\n      <th rowspan=\"3\" valign=\"top\">Adult Income</th>\n      <th>Pearson regularized FTL</th>\n      <td>0.813380</td>\n      <td>0.011659</td>\n      <td>16</td>\n      <td>0.828372</td>\n      <td>0.008529</td>\n      <td>0.014992</td>\n      <td>0.011506</td>\n      <td>$0.813 (\\pm0.01)$</td>\n      <td>$0.828 (\\pm0.01)$</td>\n      <td>$0.015 (\\pm0.01)$</td>\n    </tr>\n    <tr>\n      <th>Spearman regularized FTL</th>\n      <td>0.809098</td>\n      <td>0.012363</td>\n      <td>12</td>\n      <td>0.824912</td>\n      <td>0.009076</td>\n      <td>0.015814</td>\n      <td>0.008208</td>\n      <td>$0.809 (\\pm0.01)$</td>\n      <td>$0.825 (\\pm0.01)$</td>\n      <td>$0.016 (\\pm0.01)$</td>\n    </tr>\n    <tr>\n      <th>Standard FTL (baseline)</th>\n      <td>0.799946</td>\n      <td>0.023751</td>\n      <td>14</td>\n      <td>0.827561</td>\n      <td>0.008750</td>\n      <td>0.027615</td>\n      <td>0.026391</td>\n      <td>$0.800 (\\pm0.02)$</td>\n      <td>$0.828 (\\pm0.01)$</td>\n      <td>$0.028 (\\pm0.03)$</td>\n    </tr>\n    <tr>\n      <th rowspan=\"3\" valign=\"top\">Max(MCC - Eq. Odds)</th>\n      <th rowspan=\"3\" valign=\"top\">Adult Income</th>\n      <th>Standard FTL (baseline)</th>\n      <td>0.552515</td>\n      <td>0.029883</td>\n      <td>14</td>\n      <td>0.580809</td>\n      <td>0.010422</td>\n      <td>0.028294</td>\n      <td>0.028730</td>\n      <td>$0.553 (\\pm0.03)$</td>\n      <td>$0.581 (\\pm0.01)$</td>\n      <td>$0.028 (\\pm0.03)$</td>\n    </tr>\n    <tr>\n      <th>Spearman regularized FTL</th>\n      <td>0.542470</td>\n      <td>0.035399</td>\n      <td>12</td>\n      <td>0.580652</td>\n      <td>0.010257</td>\n      <td>0.038183</td>\n      <td>0.028510</td>\n      <td>$0.542 (\\pm0.04)$</td>\n      <td>$0.581 (\\pm0.01)$</td>\n      <td>$0.038 (\\pm0.03)$</td>\n    </tr>\n    <tr>\n      <th>Pearson regularized FTL</th>\n      <td>0.527102</td>\n      <td>0.033794</td>\n      <td>16</td>\n      <td>0.575703</td>\n      <td>0.018196</td>\n      <td>0.048601</td>\n      <td>0.032912</td>\n      <td>$0.527 (\\pm0.03)$</td>\n      <td>$0.576 (\\pm0.02)$</td>\n      <td>$0.049 (\\pm0.03)$</td>\n    </tr>\n    <tr>\n      <th rowspan=\"3\" valign=\"top\">Max(MCC - Eq. Opp.)</th>\n      <th rowspan=\"3\" valign=\"top\">Adult Income</th>\n      <th>Pearson regularized FTL</th>\n      <td>0.530239</td>\n      <td>0.015378</td>\n      <td>16</td>\n      <td>0.578205</td>\n      <td>0.013779</td>\n      <td>0.047966</td>\n      <td>0.017720</td>\n      <td>$0.530 (\\pm0.02)$</td>\n      <td>$0.578 (\\pm0.01)$</td>\n      <td>$0.048 (\\pm0.02)$</td>\n    </tr>\n    <tr>\n      <th>Spearman regularized FTL</th>\n      <td>0.526425</td>\n      <td>0.014108</td>\n      <td>12</td>\n      <td>0.574624</td>\n      <td>0.012236</td>\n      <td>0.048200</td>\n      <td>0.012006</td>\n      <td>$0.526 (\\pm0.01)$</td>\n      <td>$0.575 (\\pm0.01)$</td>\n      <td>$0.048 (\\pm0.01)$</td>\n    </tr>\n    <tr>\n      <th>Standard FTL (baseline)</th>\n      <td>0.516256</td>\n      <td>0.030559</td>\n      <td>14</td>\n      <td>0.569236</td>\n      <td>0.024584</td>\n      <td>0.052980</td>\n      <td>0.017663</td>\n      <td>$0.516 (\\pm0.03)$</td>\n      <td>$0.569 (\\pm0.02)$</td>\n      <td>$0.053 (\\pm0.02)$</td>\n    </tr>\n    <tr>\n      <th rowspan=\"3\" valign=\"top\">Max(MCC - Stat. Parity)</th>\n      <th rowspan=\"3\" valign=\"top\">Adult Income</th>\n      <th>Pearson regularized FTL</th>\n      <td>0.493097</td>\n      <td>0.021600</td>\n      <td>16</td>\n      <td>0.505210</td>\n      <td>0.019975</td>\n      <td>0.012113</td>\n      <td>0.008477</td>\n      <td>$0.493 (\\pm0.02)$</td>\n      <td>$0.505 (\\pm0.02)$</td>\n      <td>$0.012 (\\pm0.01)$</td>\n    </tr>\n    <tr>\n      <th>Standard FTL (baseline)</th>\n      <td>0.486983</td>\n      <td>0.018719</td>\n      <td>14</td>\n      <td>0.505311</td>\n      <td>0.022714</td>\n      <td>0.018328</td>\n      <td>0.018485</td>\n      <td>$0.487 (\\pm0.02)$</td>\n      <td>$0.505 (\\pm0.02)$</td>\n      <td>$0.018 (\\pm0.02)$</td>\n    </tr>\n    <tr>\n      <th>Spearman regularized FTL</th>\n      <td>0.475760</td>\n      <td>0.022828</td>\n      <td>12</td>\n      <td>0.500205</td>\n      <td>0.021246</td>\n      <td>0.024445</td>\n      <td>0.020216</td>\n      <td>$0.476 (\\pm0.02)$</td>\n      <td>$0.500 (\\pm0.02)$</td>\n      <td>$0.024 (\\pm0.02)$</td>\n    </tr>\n  </tbody>\n</table>\n</div>"
     },
     "metadata": {},
     "output_type": "display_data"
    }
   ],
   "source": [
    "for path, methods, results in zip(['mlp_multi_aso_data_list.json', 'ftl_multi_aso_data_list.json'],\n",
    "                                  [mlp_methods, ftl_methods],\n",
    "                                  (mlp_results,ftl_results)):\n",
    "    if os.path.exists(path):\n",
    "        with open(path) as file:\n",
    "            multi_aso_data_list = json.load(file)\n",
    "    else:    \n",
    "        multi_aso_data_list = []\n",
    "        for d in datasets:\n",
    "            multi_aso_data = []\n",
    "            for f in fitness_rules:\n",
    "                methods_results = []\n",
    "                for m in methods:\n",
    "                    r = results.loc[ (results['dataset'] == d) &\n",
    "                                         (results['fitness_rule'] == f) &\n",
    "                                         (results['method'] == m) ]\\\n",
    "                                .fitness.tolist()\n",
    "                    if len(r) == 0:\n",
    "                        r = [-1]\n",
    "                    methods_results.append(r)\n",
    "                min_eps = deepsig.multi_aso(methods_results, confidence_level=0.95)\n",
    "                multi_aso_data_list.append({'fitness_rule': f, 'dataset': d, 'min_eps': min_eps.tolist()})\n",
    "        with open(path, 'w') as file:\n",
    "            json.dump(multi_aso_data_list, file)\n",
    "    \n",
    "    aso_df_resume = []\n",
    "    for aso_result in sorted(multi_aso_data_list, key=lambda x: x['dataset']):\n",
    "        fitness_rule = aso_result['fitness_rule']\n",
    "        dataset = aso_result['dataset']\n",
    "    \n",
    "        aso_df = pd.DataFrame(aso_result['min_eps'], columns=methods)\n",
    "        aso_df['method'] = methods\n",
    "        aso_df['dataset'] = dataset\n",
    "        aso_df['fitness_rule'] = fitness_rule\n",
    "        aso_df_resume.append(aso_df)\n",
    "    \n",
    "    print('Significance Testing')\n",
    "    significance = pd.concat(aso_df_resume)\n",
    "    significance.replace(fitness_rules_abvr, inplace=True)\n",
    "    significance = significance.set_index(['fitness_rule', 'dataset'])\n",
    "    significance = significance.sort_values(by=['fitness_rule', 'dataset'], ascending=[False, True])\n",
    "    display(significance)\n",
    "    significances.append(significance)\n",
    "    \n",
    "    grouped_results = results\\\n",
    "        .groupby(['Fitness Rule Abvr', 'dataset', 'method'])\\\n",
    "        .agg({'fitness': ['mean', 'std', 'count'], 'Performance': ['mean', 'std'], 'Fairness': ['mean', 'std']})\\\n",
    "        .sort_values(by=['Fitness Rule Abvr', 'dataset', ('fitness','mean')], ascending=False)\n",
    "    grouped_results['formatted_fitness'] = grouped_results.apply(lambda row: f\"${row[('fitness', 'mean')]:.3f} (\\pm{row[('fitness', 'std')]:.2f})$\", axis=1)\n",
    "    grouped_results['formatted_performance'] = grouped_results.apply(lambda row: f\"${row[('Performance', 'mean')]:.3f} (\\pm{row[('Performance', 'std')]:.2f})$\", axis=1)\n",
    "    grouped_results['formatted_fairness'] = grouped_results.apply(lambda row: f\"${row[('Fairness', 'mean')]:.3f} (\\pm{row[('Fairness', 'std')]:.2f})$\", axis=1)\n",
    "    grouped_results = grouped_results.sort_values(by=['Fitness Rule Abvr', 'dataset'])\n",
    "    display(grouped_results)"
   ],
   "metadata": {
    "collapsed": false,
    "ExecuteTime": {
     "end_time": "2024-05-07T03:27:09.220928656Z",
     "start_time": "2024-05-07T03:23:46.648206160Z"
    }
   }
  },
  {
   "cell_type": "code",
   "execution_count": 11,
   "outputs": [
    {
     "data": {
      "text/plain": "                                           Standard MLP (baseline)  \\\nfitness_rule            dataset                                      \nMax(MCC - Stat. Parity) Adult Income                      1.000000   \n                        Adult Income                      0.749143   \n                        Adult Income                      0.165986   \n                        Bank Marketing                    1.000000   \n                        Bank Marketing                    1.000000   \n...                                                            ...   \nMax(Acc - Eq. Odds)     Compas Recidivism                 0.322421   \n                        Compas Recidivism                 0.627403   \n                        German Credit                     1.000000   \n                        German Credit                     1.000000   \n                        German Credit                     0.559123   \n\n                                           Pearson regularized MLP  \\\nfitness_rule            dataset                                      \nMax(MCC - Stat. Parity) Adult Income                      1.000000   \n                        Adult Income                      1.000000   \n                        Adult Income                      0.328279   \n                        Bank Marketing                    0.094853   \n                        Bank Marketing                    1.000000   \n...                                                            ...   \nMax(Acc - Eq. Odds)     Compas Recidivism                 1.000000   \n                        Compas Recidivism                 1.000000   \n                        German Credit                     0.906084   \n                        German Credit                     1.000000   \n                        German Credit                     0.690288   \n\n                                           Spearman regularized MLP  \\\nfitness_rule            dataset                                       \nMax(MCC - Stat. Parity) Adult Income                       1.000000   \n                        Adult Income                       1.000000   \n                        Adult Income                       1.000000   \n                        Bank Marketing                     0.080965   \n                        Bank Marketing                     1.000000   \n...                                                             ...   \nMax(Acc - Eq. Odds)     Compas Recidivism                  0.826055   \n                        Compas Recidivism                  1.000000   \n                        German Credit                      1.000000   \n                        German Credit                      1.000000   \n                        German Credit                      1.000000   \n\n                                                             method  \nfitness_rule            dataset                                      \nMax(MCC - Stat. Parity) Adult Income        Standard MLP (baseline)  \n                        Adult Income        Pearson regularized MLP  \n                        Adult Income       Spearman regularized MLP  \n                        Bank Marketing      Standard MLP (baseline)  \n                        Bank Marketing      Pearson regularized MLP  \n...                                                             ...  \nMax(Acc - Eq. Odds)     Compas Recidivism   Pearson regularized MLP  \n                        Compas Recidivism  Spearman regularized MLP  \n                        German Credit       Standard MLP (baseline)  \n                        German Credit       Pearson regularized MLP  \n                        German Credit      Spearman regularized MLP  \n\n[72 rows x 4 columns]",
      "text/html": "<div>\n<style scoped>\n    .dataframe tbody tr th:only-of-type {\n        vertical-align: middle;\n    }\n\n    .dataframe tbody tr th {\n        vertical-align: top;\n    }\n\n    .dataframe thead th {\n        text-align: right;\n    }\n</style>\n<table border=\"1\" class=\"dataframe\">\n  <thead>\n    <tr style=\"text-align: right;\">\n      <th></th>\n      <th></th>\n      <th>Standard MLP (baseline)</th>\n      <th>Pearson regularized MLP</th>\n      <th>Spearman regularized MLP</th>\n      <th>method</th>\n    </tr>\n    <tr>\n      <th>fitness_rule</th>\n      <th>dataset</th>\n      <th></th>\n      <th></th>\n      <th></th>\n      <th></th>\n    </tr>\n  </thead>\n  <tbody>\n    <tr>\n      <th rowspan=\"5\" valign=\"top\">Max(MCC - Stat. Parity)</th>\n      <th>Adult Income</th>\n      <td>1.000000</td>\n      <td>1.000000</td>\n      <td>1.000000</td>\n      <td>Standard MLP (baseline)</td>\n    </tr>\n    <tr>\n      <th>Adult Income</th>\n      <td>0.749143</td>\n      <td>1.000000</td>\n      <td>1.000000</td>\n      <td>Pearson regularized MLP</td>\n    </tr>\n    <tr>\n      <th>Adult Income</th>\n      <td>0.165986</td>\n      <td>0.328279</td>\n      <td>1.000000</td>\n      <td>Spearman regularized MLP</td>\n    </tr>\n    <tr>\n      <th>Bank Marketing</th>\n      <td>1.000000</td>\n      <td>0.094853</td>\n      <td>0.080965</td>\n      <td>Standard MLP (baseline)</td>\n    </tr>\n    <tr>\n      <th>Bank Marketing</th>\n      <td>1.000000</td>\n      <td>1.000000</td>\n      <td>1.000000</td>\n      <td>Pearson regularized MLP</td>\n    </tr>\n    <tr>\n      <th>...</th>\n      <th>...</th>\n      <td>...</td>\n      <td>...</td>\n      <td>...</td>\n      <td>...</td>\n    </tr>\n    <tr>\n      <th rowspan=\"5\" valign=\"top\">Max(Acc - Eq. Odds)</th>\n      <th>Compas Recidivism</th>\n      <td>0.322421</td>\n      <td>1.000000</td>\n      <td>0.826055</td>\n      <td>Pearson regularized MLP</td>\n    </tr>\n    <tr>\n      <th>Compas Recidivism</th>\n      <td>0.627403</td>\n      <td>1.000000</td>\n      <td>1.000000</td>\n      <td>Spearman regularized MLP</td>\n    </tr>\n    <tr>\n      <th>German Credit</th>\n      <td>1.000000</td>\n      <td>0.906084</td>\n      <td>1.000000</td>\n      <td>Standard MLP (baseline)</td>\n    </tr>\n    <tr>\n      <th>German Credit</th>\n      <td>1.000000</td>\n      <td>1.000000</td>\n      <td>1.000000</td>\n      <td>Pearson regularized MLP</td>\n    </tr>\n    <tr>\n      <th>German Credit</th>\n      <td>0.559123</td>\n      <td>0.690288</td>\n      <td>1.000000</td>\n      <td>Spearman regularized MLP</td>\n    </tr>\n  </tbody>\n</table>\n<p>72 rows × 4 columns</p>\n</div>"
     },
     "execution_count": 11,
     "metadata": {},
     "output_type": "execute_result"
    }
   ],
   "source": [
    "significances[0].sort_values(by=['fitness_rule', 'dataset'], ascending=[False, True])"
   ],
   "metadata": {
    "collapsed": false,
    "ExecuteTime": {
     "end_time": "2024-05-07T03:27:09.222742735Z",
     "start_time": "2024-05-07T03:27:09.143682088Z"
    }
   }
  },
  {
   "cell_type": "code",
   "execution_count": 11,
   "outputs": [],
   "source": [],
   "metadata": {
    "collapsed": false,
    "ExecuteTime": {
     "end_time": "2024-05-07T03:27:09.223222163Z",
     "start_time": "2024-05-07T03:27:09.156301063Z"
    }
   }
  }
 ],
 "metadata": {
  "kernelspec": {
   "display_name": "Python 3 (ipykernel)",
   "language": "python",
   "name": "python3"
  },
  "language_info": {
   "codemirror_mode": {
    "name": "ipython",
    "version": 3
   },
   "file_extension": ".py",
   "mimetype": "text/x-python",
   "name": "python",
   "nbconvert_exporter": "python",
   "pygments_lexer": "ipython3",
   "version": "3.8.10"
  }
 },
 "nbformat": 4,
 "nbformat_minor": 1
}
