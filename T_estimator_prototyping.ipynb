{
 "cells": [
  {
   "cell_type": "code",
   "execution_count": 485,
   "id": "initial_id",
   "metadata": {
    "collapsed": true,
    "ExecuteTime": {
     "end_time": "2024-05-10T22:10:19.232002423Z",
     "start_time": "2024-05-10T22:10:19.172935187Z"
    }
   },
   "outputs": [],
   "source": []
  },
  {
   "cell_type": "code",
   "execution_count": 486,
   "outputs": [],
   "source": [
    "from dataset_readers import *\n",
    "from sklearn.preprocessing import StandardScaler\n",
    "from aif360.metrics import ClassificationMetric\n",
    "from util import mathew_correlation_coefficient, f1_score\n",
    "from models import FairTransitionLossMLP\n",
    "\n",
    "import numpy as np\n",
    "from scipy.stats import spearmanr, pearsonr\n",
    "from tensorflow import broadcast_to, expand_dims\n",
    "from tensorflow.keras import Sequential\n",
    "from tensorflow.keras.regularizers import Regularizer\n",
    "from tensorflow.keras.layers import InputLayer, Dropout, Dense\n",
    "from tensorflow.keras.optimizers.legacy import Adam\n",
    "from tensorflow.keras.callbacks import EarlyStopping\n",
    "from aif360.algorithms import Transformer\n",
    "from tensorflow.keras import backend as K\n",
    "from xicorrelation import xicorr\n"
   ],
   "metadata": {
    "collapsed": false,
    "ExecuteTime": {
     "end_time": "2024-05-10T22:10:19.233938291Z",
     "start_time": "2024-05-10T22:10:19.228921531Z"
    }
   },
   "id": "6ae68ef39e2d436a"
  },
  {
   "cell_type": "code",
   "execution_count": 487,
   "outputs": [],
   "source": [
    "class FeaturewiseRegularizer(Regularizer):\n",
    "    def __init__(self, lambdas, l2):\n",
    "        # lambdas should be an array of regularization coefficients, one per feature\n",
    "        self.lambdas = K.constant(lambdas)\n",
    "        self.lambdas = expand_dims(self.lambdas, axis=1)\n",
    "        self.l2 = l2\n",
    "\n",
    "    def __call__(self, x):\n",
    "        # Custom regularization: l2 * sum of lambda[i] * sqrt(x[i]) across all features\n",
    "        return self.l2 * K.sum(broadcast_to(self.lambdas, x.shape) * K.square(x))\n",
    "\n",
    "    def get_config(self):\n",
    "        # This method enables the regularizer to be serialized\n",
    "        return {'lambdas': self.lambdas.numpy().tolist(),\n",
    "                'l2': self.l2}"
   ],
   "metadata": {
    "collapsed": false,
    "ExecuteTime": {
     "end_time": "2024-05-10T22:10:19.266192415Z",
     "start_time": "2024-05-10T22:10:19.235384422Z"
    }
   },
   "id": "921110ae47fdc8d1"
  },
  {
   "cell_type": "code",
   "execution_count": 488,
   "outputs": [],
   "source": [
    "class SimpleMLP(Transformer):\n",
    "\n",
    "    def __init__(self, sensitive_attr='',\n",
    "                 hidden_sizes=[32, 64, 32], dropout=0.1,\n",
    "                 num_epochs=20, batch_size=64, patience=5,\n",
    "                 corr_type=None, l2=0.0):\n",
    "\n",
    "        self.model = None\n",
    "        self.hidden_sizes = hidden_sizes\n",
    "        self.input_shape = None\n",
    "        self.num_classes = 2\n",
    "        self.num_epochs = num_epochs\n",
    "        self.batch_size = batch_size\n",
    "        self.dropout = dropout\n",
    "        self.corr_type = corr_type\n",
    "\n",
    "        if corr_type == 'spearman':\n",
    "            self.corr_fn = spearmanr\n",
    "        elif corr_type == 'pearson':\n",
    "            self.corr_fn = pearsonr\n",
    "        elif corr_type == 'xi':\n",
    "            self.corr_fn = xicorr\n",
    "        else:\n",
    "            self.corr_fn = None\n",
    "            self.corr_type = None\n",
    "        self.corr = None\n",
    "        self.l2 = l2\n",
    "        self.patience = patience\n",
    "        self.sensitive_attr = sensitive_attr\n",
    "        self.classes_ = None\n",
    "        self.history = None\n",
    "\n",
    "    def _calculate_corr(self, features, sensitive_feature):\n",
    "        self.corr = np.array([abs(self.corr_fn(features[:, i], sensitive_feature)[0])\n",
    "                     for i in range(features.shape[1])])\n",
    "        self.corr[np.isnan(self.corr)] = 1.0\n",
    "        self.corr[self.corr == 1.0] = 0.0\n",
    "        self.corr[self.corr > 1.0] = 0.0\n",
    "        self.corr = self.corr.tolist()\n",
    "\n",
    "    def _compile_model(self):\n",
    "        self.model = Sequential()\n",
    "        self.model.add(InputLayer(input_shape=self.input_shape))\n",
    "        if self.corr is not None:\n",
    "            regularizer = FeaturewiseRegularizer(l2=self.l2, lambdas=self.corr)\n",
    "        else:\n",
    "            regularizer = None\n",
    "        for i, hidden_size in enumerate(self.hidden_sizes):\n",
    "            if i == 0:\n",
    "                self.model.add(Dense(units=hidden_size, activation='relu',\n",
    "                                     kernel_regularizer=regularizer))\n",
    "            else:\n",
    "                self.model.add(Dense(hidden_size, activation='relu'))\n",
    "                self.model.add(Dropout(self.dropout))\n",
    "\n",
    "        self.model.add(Dense(self.num_classes, activation=\"softmax\"))\n",
    "        self.model.compile(optimizer=Adam(learning_rate=3e-4),\n",
    "                           loss='categorical_crossentropy')\n",
    "    def fit(self, dataset, verbose=False):\n",
    "\n",
    "        callback = EarlyStopping(monitor='val_loss', patience=self.patience, restore_best_weights=True)\n",
    "        dataset_cp = dataset.copy()\n",
    "        X = dataset_cp.features\n",
    "        y = np.zeros(shape=(X.shape[0], 2))\n",
    "\n",
    "        y[:, 0] = (dataset_cp.labels == dataset_cp.unfavorable_label).reshape(X.shape[0]).astype(int)\n",
    "        y[:, 1] = (dataset_cp.labels == dataset_cp.favorable_label).reshape(X.shape[0]).astype(int)\n",
    "\n",
    "        sensitive_index = dataset.protected_attribute_names.index(self.sensitive_attr)\n",
    "        X_protected = (dataset.protected_attributes[:, sensitive_index] == dataset.unprivileged_protected_attributes[\n",
    "            sensitive_index]).astype(int)\n",
    "\n",
    "        if self.model is None:\n",
    "            self.input_shape = dataset.features.shape[1]\n",
    "            if self.corr_type is not None:\n",
    "                self._calculate_corr(dataset.features, X_protected)\n",
    "            self._compile_model()\n",
    "            self.classes_ = np.array([dataset.unfavorable_label, dataset.favorable_label])\n",
    "\n",
    "        self.history = self.model.fit(X, y, epochs=self.num_epochs,\n",
    "                                      batch_size=self.batch_size, callbacks=[callback],\n",
    "                                      verbose=verbose, validation_split=0.1)\n",
    "\n",
    "        return self\n",
    "\n",
    "    def predict_proba(self, X):\n",
    "        return self.model.predict(X, verbose=False)\n",
    "\n",
    "    def predict(self, X):\n",
    "        logits = self.predict_proba(X)\n",
    "        return np.argmax(logits, axis=1)"
   ],
   "metadata": {
    "collapsed": false,
    "ExecuteTime": {
     "end_time": "2024-05-10T22:10:19.266753161Z",
     "start_time": "2024-05-10T22:10:19.252143128Z"
    }
   },
   "id": "ad87251780e3f27b"
  },
  {
   "cell_type": "code",
   "execution_count": 489,
   "outputs": [],
   "source": [
    "def get_counterfactual_dataset(dataset, sens_attr):\n",
    "    # Create a counterfactual dataset, flipping the sensitive feature value\n",
    "    counterfactual_dataset = dataset.copy(deepcopy=True)\n",
    "\n",
    "    sens_index = dataset.feature_names.index(sens_attr)\n",
    "\n",
    "    unprivileged_rows = dataset.features[:,sens_index] == float(dataset.unprivileged_protected_attributes[0])\n",
    "    privileged_rows = dataset.features[:,sens_index] == float(dataset.privileged_protected_attributes[0])\n",
    "\n",
    "    counterfactual_dataset.features[unprivileged_rows,sens_index] = dataset.privileged_protected_attributes[0]\n",
    "    counterfactual_dataset.features[privileged_rows,sens_index] = dataset.unprivileged_protected_attributes[0]\n",
    "\n",
    "    counterfactual_dataset.protected_attributes[unprivileged_rows, 0] = float(dataset.privileged_protected_attributes[0])\n",
    "    counterfactual_dataset.protected_attributes[privileged_rows, 0] = float(dataset.unprivileged_protected_attributes[0])\n",
    "\n",
    "    return counterfactual_dataset"
   ],
   "metadata": {
    "collapsed": false,
    "ExecuteTime": {
     "end_time": "2024-05-10T22:10:19.281882080Z",
     "start_time": "2024-05-10T22:10:19.266386953Z"
    }
   },
   "id": "eb7771bc22a49bd2"
  },
  {
   "cell_type": "code",
   "execution_count": 490,
   "outputs": [],
   "source": [
    "def simple_mlp_initializer(sens_attr, unprivileged_groups, privileged_groups):\n",
    "    hidden_sizes = [100, 100]\n",
    "    corr_type = None\n",
    "    l2 = 0.0\n",
    "    dropout = 0.2\n",
    "\n",
    "    model = SimpleMLP(sensitive_attr=sens_attr,\n",
    "                    hidden_sizes=hidden_sizes,\n",
    "                    dropout=dropout,\n",
    "                    batch_size=64,\n",
    "                    corr_type=corr_type,\n",
    "                    l2=l2)\n",
    "    return model"
   ],
   "metadata": {
    "collapsed": false,
    "ExecuteTime": {
     "end_time": "2024-05-10T22:10:19.294650900Z",
     "start_time": "2024-05-10T22:10:19.270029180Z"
    }
   },
   "id": "d83e3065d16352b1"
  },
  {
   "cell_type": "code",
   "execution_count": 491,
   "outputs": [],
   "source": [
    "def ftl_mlp_initializer(sens_attr, unprivileged_groups, privileged_groups,\n",
    "                        privileged_demotion=0.0, privileged_promotion=0.0, protected_demotion=0.0, protected_promotion=0.0):\n",
    "    hidden_sizes = [100,100]\n",
    "    corr_type = 'xi'\n",
    "    l2 = 0.1\n",
    "    dropout = 0.2\n",
    "\n",
    "    model = FairTransitionLossMLP(sensitive_attr=sens_attr,\n",
    "                                  hidden_sizes=hidden_sizes,\n",
    "                                  dropout=dropout,\n",
    "                                  batch_size=64,\n",
    "                                  privileged_demotion=privileged_demotion,\n",
    "                                  privileged_promotion=privileged_promotion,\n",
    "                                  protected_demotion=protected_demotion,\n",
    "                                  protected_promotion=protected_promotion,\n",
    "                                  corr_type=corr_type, l2=l2)\n",
    "\n",
    "    return model"
   ],
   "metadata": {
    "collapsed": false,
    "ExecuteTime": {
     "end_time": "2024-05-10T22:10:19.295343038Z",
     "start_time": "2024-05-10T22:10:19.285128390Z"
    }
   },
   "id": "49d16a057e79404e"
  },
  {
   "cell_type": "code",
   "execution_count": 492,
   "outputs": [],
   "source": [
    "def eval(model, dataset, unprivileged_groups, privileged_groups):\n",
    "    \n",
    "    try:\n",
    "        # sklearn classifier\n",
    "        y_pred_prob = model.predict_proba(dataset.features)\n",
    "        pos_ind = np.where(model.classes_ == dataset.favorable_label)[0][0]\n",
    "        y_pred = (y_pred_prob[:, 1] > 0.5).astype(np.float64)\n",
    "        \n",
    "\n",
    "\n",
    "        y_pred_mapped = y_pred.copy()\n",
    "        # Map the dataset labels to back to their original values.\n",
    "        y_pred_mapped[y_pred == 0] = dataset.unfavorable_label\n",
    "        y_pred_mapped[y_pred == 1] = dataset.favorable_label\n",
    "\n",
    "        dataset_pred = dataset.copy()\n",
    "        dataset_pred.labels = y_pred_mapped\n",
    "\n",
    "    except AttributeError:\n",
    "        # aif360 inprocessing algorithm\n",
    "        y_pred = model.predict(dataset).labels\n",
    "        y_pred_prob = model.predict_proba(dataset)\n",
    "\n",
    "        dataset_pred = dataset.copy()\n",
    "        dataset_pred.labels = y_pred\n",
    "\n",
    "        # Map the dataset labels to back to their original values.\n",
    "        temp_labels = dataset_pred.labels.copy()\n",
    "\n",
    "        temp_labels[(dataset_pred.labels == 1.0).ravel(), 0] = dataset.favorable_label\n",
    "        temp_labels[(dataset_pred.labels == 0.0).ravel(), 0] = dataset.unfavorable_label\n",
    "\n",
    "        dataset_pred.labels = temp_labels.copy()\n",
    "    metric = ClassificationMetric(\n",
    "            dataset, dataset_pred,\n",
    "            unprivileged_groups=unprivileged_groups,\n",
    "            privileged_groups=privileged_groups)\n",
    "\n",
    "    metrics = dict()\n",
    "    metrics['overall_acc'] = abs(metric.accuracy())\n",
    "    metrics['bal_acc'] = abs((metric.true_positive_rate()\n",
    "                                 + metric.true_negative_rate()) / 2)\n",
    "    metrics['avg_odds_diff'] = metric.average_abs_odds_difference()\n",
    "    metrics['disp_imp'] = abs(metric.disparate_impact())\n",
    "    metrics['stat_par_diff'] = abs(metric.statistical_parity_difference())\n",
    "    metrics['eq_opp_diff'] = abs(metric.equal_opportunity_difference())\n",
    "    metrics['theil_ind'] = abs(metric.theil_index())\n",
    "    metrics.update(metric.performance_measures())\n",
    "    metrics['MCC'] = mathew_correlation_coefficient(metrics)\n",
    "    metrics['f1_score'] = f1_score(metrics)\n",
    "\n",
    "    return metrics, dataset_pred.labels, y_pred_prob"
   ],
   "metadata": {
    "collapsed": false,
    "ExecuteTime": {
     "end_time": "2024-05-10T22:10:19.315260912Z",
     "start_time": "2024-05-10T22:10:19.294969379Z"
    }
   },
   "id": "f6ce61c74947ffdd"
  },
  {
   "cell_type": "code",
   "execution_count": 493,
   "outputs": [],
   "source": [
    "def get_T(model, X):\n",
    "    x_prob = model.predict_proba(X)\n",
    "    x_hat_0 = np.argmax(x_prob[:, 0])\n",
    "    x_hat_1 = np.argmax(x_prob[:, 1])\n",
    "    T_11 = x_prob[x_hat_1, 1]\n",
    "    T_10 = x_prob[x_hat_1, 0]\n",
    "    T_00 = x_prob[x_hat_0, 0]\n",
    "    T_01 = x_prob[x_hat_0, 1]\n",
    "    T = np.array([[T_00, T_01], [T_10, T_11]])\n",
    "    return T"
   ],
   "metadata": {
    "collapsed": false,
    "ExecuteTime": {
     "end_time": "2024-05-10T22:10:19.330392861Z",
     "start_time": "2024-05-10T22:10:19.314772193Z"
    }
   },
   "id": "f665b814f2f7dc63"
  },
  {
   "cell_type": "code",
   "execution_count": 494,
   "outputs": [],
   "source": [
    "def train_model(dataset_reader, model_initializer, **kwargs):\n",
    "    (dataset_expanded_train, dataset_train, dataset_val, dataset_test,\n",
    "     unprivileged_groups, privileged_groups, sens_attr) = dataset_reader(shuffle=True)\n",
    "\n",
    "    counterfactual_dataset_test = get_counterfactual_dataset(dataset_test, sens_attr)\n",
    "\n",
    "    scaler = StandardScaler()\n",
    "    dataset_expanded_train.features = scaler.fit_transform(dataset_expanded_train.features)\n",
    "    dataset_test.features = scaler.transform(dataset_test.features)\n",
    "    counterfactual_dataset_test.features = scaler.transform(counterfactual_dataset_test.features)\n",
    "\n",
    "    model = model_initializer(sens_attr, unprivileged_groups, privileged_groups, **kwargs)\n",
    "\n",
    "    model = model.fit(dataset_expanded_train)\n",
    "    result, prediction, logits = eval(model, dataset_test, unprivileged_groups, privileged_groups)\n",
    "    counterfactual_result, counterfactual_prediction, counterfactual_logits = eval(model, counterfactual_dataset_test, unprivileged_groups, privileged_groups)\n",
    "\n",
    "    return result, prediction, logits, counterfactual_result, counterfactual_prediction, counterfactual_logits"
   ],
   "metadata": {
    "collapsed": false,
    "ExecuteTime": {
     "end_time": "2024-05-10T22:10:19.333498754Z",
     "start_time": "2024-05-10T22:10:19.330133575Z"
    }
   },
   "id": "a8df1adcc577bf2d"
  },
  {
   "cell_type": "code",
   "execution_count": 495,
   "outputs": [
    {
     "name": "stderr",
     "output_type": "stream",
     "text": [
      "WARNING:root:Missing Data: 3620 rows removed from AdultDataset.\n"
     ]
    },
    {
     "name": "stdout",
     "output_type": "stream",
     "text": [
      "#### Training Dataset shape\n",
      "(28941, 102)\n",
      "#### Validation Dataset shape\n",
      "(7236, 102)\n",
      "#### Test Dataset shape\n",
      "(9045, 102)\n",
      "#### Favorable and unfavorable labels\n",
      "1.0 0.0\n",
      "#### Protected attribute names\n",
      "['sex']\n",
      "#### Privileged and unprivileged protected attribute values\n",
      "[array([1.])] [array([0.])]\n",
      "#### Dataset feature names\n",
      "['age', 'education-num', 'sex', 'capital-gain', 'capital-loss', 'hours-per-week', 'workclass=Federal-gov', 'workclass=Local-gov', 'workclass=Private', 'workclass=Self-emp-inc', 'workclass=Self-emp-not-inc', 'workclass=State-gov', 'workclass=Without-pay', 'education=10th', 'education=11th', 'education=12th', 'education=1st-4th', 'education=5th-6th', 'education=7th-8th', 'education=9th', 'education=Assoc-acdm', 'education=Assoc-voc', 'education=Bachelors', 'education=Doctorate', 'education=HS-grad', 'education=Masters', 'education=Preschool', 'education=Prof-school', 'education=Some-college', 'marital-status=Divorced', 'marital-status=Married-AF-spouse', 'marital-status=Married-civ-spouse', 'marital-status=Married-spouse-absent', 'marital-status=Never-married', 'marital-status=Separated', 'marital-status=Widowed', 'occupation=Adm-clerical', 'occupation=Armed-Forces', 'occupation=Craft-repair', 'occupation=Exec-managerial', 'occupation=Farming-fishing', 'occupation=Handlers-cleaners', 'occupation=Machine-op-inspct', 'occupation=Other-service', 'occupation=Priv-house-serv', 'occupation=Prof-specialty', 'occupation=Protective-serv', 'occupation=Sales', 'occupation=Tech-support', 'occupation=Transport-moving', 'relationship=Husband', 'relationship=Not-in-family', 'relationship=Other-relative', 'relationship=Own-child', 'relationship=Unmarried', 'relationship=Wife', 'race=Amer-Indian-Eskimo', 'race=Asian-Pac-Islander', 'race=Black', 'race=Other', 'race=White', 'native-country=Cambodia', 'native-country=Canada', 'native-country=China', 'native-country=Columbia', 'native-country=Cuba', 'native-country=Dominican-Republic', 'native-country=Ecuador', 'native-country=El-Salvador', 'native-country=England', 'native-country=France', 'native-country=Germany', 'native-country=Greece', 'native-country=Guatemala', 'native-country=Haiti', 'native-country=Holand-Netherlands', 'native-country=Honduras', 'native-country=Hong', 'native-country=Hungary', 'native-country=India', 'native-country=Iran', 'native-country=Ireland', 'native-country=Italy', 'native-country=Jamaica', 'native-country=Japan', 'native-country=Laos', 'native-country=Mexico', 'native-country=Nicaragua', 'native-country=Outlying-US(Guam-USVI-etc)', 'native-country=Peru', 'native-country=Philippines', 'native-country=Poland', 'native-country=Portugal', 'native-country=Puerto-Rico', 'native-country=Scotland', 'native-country=South', 'native-country=Taiwan', 'native-country=Thailand', 'native-country=Trinadad&Tobago', 'native-country=United-States', 'native-country=Vietnam', 'native-country=Yugoslavia']\n"
     ]
    },
    {
     "name": "stderr",
     "output_type": "stream",
     "text": [
      "/tmp/ipykernel_3623540/955458856.py:7: DeprecationWarning: Conversion of an array with ndim > 0 to a scalar is deprecated, and will error in future. Ensure you extract a single element from your array before performing this operation. (Deprecated NumPy 1.25.)\n",
      "  unprivileged_rows = dataset.features[:,sens_index] == float(dataset.unprivileged_protected_attributes[0])\n",
      "/tmp/ipykernel_3623540/955458856.py:8: DeprecationWarning: Conversion of an array with ndim > 0 to a scalar is deprecated, and will error in future. Ensure you extract a single element from your array before performing this operation. (Deprecated NumPy 1.25.)\n",
      "  privileged_rows = dataset.features[:,sens_index] == float(dataset.privileged_protected_attributes[0])\n",
      "/tmp/ipykernel_3623540/955458856.py:13: DeprecationWarning: Conversion of an array with ndim > 0 to a scalar is deprecated, and will error in future. Ensure you extract a single element from your array before performing this operation. (Deprecated NumPy 1.25.)\n",
      "  counterfactual_dataset.protected_attributes[unprivileged_rows, 0] = float(dataset.privileged_protected_attributes[0])\n",
      "/tmp/ipykernel_3623540/955458856.py:14: DeprecationWarning: Conversion of an array with ndim > 0 to a scalar is deprecated, and will error in future. Ensure you extract a single element from your array before performing this operation. (Deprecated NumPy 1.25.)\n",
      "  counterfactual_dataset.protected_attributes[privileged_rows, 0] = float(dataset.unprivileged_protected_attributes[0])\n"
     ]
    }
   ],
   "source": [
    "result, prediction, logits, counterfactual_result, counterfactual_prediction, counterfactual_logits  = train_model(adult_dataset_reader, simple_mlp_initializer)"
   ],
   "metadata": {
    "collapsed": false,
    "ExecuteTime": {
     "end_time": "2024-05-10T22:10:27.025810409Z",
     "start_time": "2024-05-10T22:10:19.334792279Z"
    }
   },
   "id": "7b58e6623692cc1e"
  },
  {
   "cell_type": "code",
   "execution_count": 496,
   "outputs": [
    {
     "data": {
      "text/plain": "{'overall_acc': 0.8528468767274737,\n 'bal_acc': 0.7817830134594259,\n 'avg_odds_diff': 0.07965192876393784,\n 'disp_imp': 0.3086443656727532,\n 'stat_par_diff': 0.19362494959747503,\n 'eq_opp_diff': 0.07853293288571983,\n 'theil_ind': 0.11273346983432551,\n 'TPR': 0.6433439345751931,\n 'TNR': 0.9202220923436587,\n 'FPR': 0.07977790765634132,\n 'FNR': 0.3566560654248069,\n 'GTPR': 1.0,\n 'GTNR': 1.0,\n 'GFPR': 0.0,\n 'GFNR': 0.0,\n 'PPV': 0.7217125382262997,\n 'NPV': 0.8891712551178879,\n 'FDR': 0.2782874617737003,\n 'FOR': 0.1108287448821121,\n 'ACC': 0.8528468767274737,\n 'MCC': 0.586748116591865,\n 'f1_score': 0.6802786452077829}"
     },
     "execution_count": 496,
     "metadata": {},
     "output_type": "execute_result"
    }
   ],
   "source": [
    "result"
   ],
   "metadata": {
    "collapsed": false,
    "ExecuteTime": {
     "end_time": "2024-05-10T22:10:27.064862584Z",
     "start_time": "2024-05-10T22:10:27.027454718Z"
    }
   },
   "id": "9d410839eefd550b"
  },
  {
   "cell_type": "code",
   "execution_count": 497,
   "outputs": [
    {
     "data": {
      "text/plain": "array([[0.9932836 , 0.00671642],\n       [0.5716578 , 0.4283422 ],\n       [0.5642539 , 0.4357461 ],\n       ...,\n       [0.999     , 0.001     ],\n       [0.9237688 , 0.07623114],\n       [0.9024113 , 0.09758865]], dtype=float32)"
     },
     "execution_count": 497,
     "metadata": {},
     "output_type": "execute_result"
    }
   ],
   "source": [
    "logits"
   ],
   "metadata": {
    "collapsed": false,
    "ExecuteTime": {
     "end_time": "2024-05-10T22:10:27.065507183Z",
     "start_time": "2024-05-10T22:10:27.059102824Z"
    }
   },
   "id": "b4cf763af2cfa417"
  },
  {
   "cell_type": "code",
   "execution_count": 498,
   "outputs": [
    {
     "data": {
      "text/plain": "array([0., 0., 0., ..., 0., 0., 0.])"
     },
     "execution_count": 498,
     "metadata": {},
     "output_type": "execute_result"
    }
   ],
   "source": [
    "prediction"
   ],
   "metadata": {
    "collapsed": false,
    "ExecuteTime": {
     "end_time": "2024-05-10T22:10:27.066042930Z",
     "start_time": "2024-05-10T22:10:27.059176960Z"
    }
   },
   "id": "3669a633d6221b09"
  },
  {
   "cell_type": "code",
   "execution_count": 499,
   "outputs": [
    {
     "data": {
      "text/plain": "{'overall_acc': 0.8470978441127694,\n 'bal_acc': 0.7597987578569967,\n 'avg_odds_diff': 0.06724973854162426,\n 'disp_imp': 2.0031580894033296,\n 'stat_par_diff': 0.11765854201137359,\n 'eq_opp_diff': 0.10580244430263852,\n 'theil_ind': 0.12507218162432762,\n 'TPR': 0.5897319400272604,\n 'TNR': 0.9298655756867329,\n 'FPR': 0.0701344243132671,\n 'FNR': 0.4102680599727397,\n 'GTPR': 1.0,\n 'GTNR': 1.0,\n 'GFPR': 0.0,\n 'GFNR': 0.0,\n 'PPV': 0.7300337457817773,\n 'NPV': 0.8757396449704142,\n 'FDR': 0.26996625421822273,\n 'FOR': 0.1242603550295858,\n 'ACC': 0.8470978441127694,\n 'MCC': 0.5610332868203817,\n 'f1_score': 0.6524252324704699}"
     },
     "execution_count": 499,
     "metadata": {},
     "output_type": "execute_result"
    }
   ],
   "source": [
    "counterfactual_result"
   ],
   "metadata": {
    "collapsed": false,
    "ExecuteTime": {
     "end_time": "2024-05-10T22:10:27.066596121Z",
     "start_time": "2024-05-10T22:10:27.059219135Z"
    }
   },
   "id": "6db1b6050b57c944"
  },
  {
   "cell_type": "code",
   "execution_count": 500,
   "outputs": [
    {
     "data": {
      "text/plain": "array([[0.9917326 , 0.00826739],\n       [0.6880872 , 0.31191283],\n       [0.61839855, 0.38160142],\n       ...,\n       [0.9973992 , 0.0026008 ],\n       [0.9568373 , 0.0431627 ],\n       [0.9485195 , 0.05148051]], dtype=float32)"
     },
     "execution_count": 500,
     "metadata": {},
     "output_type": "execute_result"
    }
   ],
   "source": [
    "counterfactual_logits"
   ],
   "metadata": {
    "collapsed": false,
    "ExecuteTime": {
     "end_time": "2024-05-10T22:10:27.067164803Z",
     "start_time": "2024-05-10T22:10:27.059254976Z"
    }
   },
   "id": "edd74b5b4bee942e"
  },
  {
   "cell_type": "code",
   "execution_count": 501,
   "outputs": [
    {
     "data": {
      "text/plain": "array([0., 0., 0., ..., 0., 0., 0.])"
     },
     "execution_count": 501,
     "metadata": {},
     "output_type": "execute_result"
    }
   ],
   "source": [
    "counterfactual_prediction"
   ],
   "metadata": {
    "collapsed": false,
    "ExecuteTime": {
     "end_time": "2024-05-10T22:10:27.120038296Z",
     "start_time": "2024-05-10T22:10:27.063572277Z"
    }
   },
   "id": "e9153239ce5aeeeb"
  },
  {
   "cell_type": "code",
   "execution_count": 502,
   "outputs": [
    {
     "data": {
      "text/plain": "array([ True,  True,  True, ...,  True,  True,  True])"
     },
     "execution_count": 502,
     "metadata": {},
     "output_type": "execute_result"
    }
   ],
   "source": [
    "counterfactually_consistent = prediction == counterfactual_prediction\n",
    "counterfactually_consistent"
   ],
   "metadata": {
    "collapsed": false,
    "ExecuteTime": {
     "end_time": "2024-05-10T22:10:27.120704403Z",
     "start_time": "2024-05-10T22:10:27.103968987Z"
    }
   },
   "id": "a50a66adda070130"
  },
  {
   "cell_type": "code",
   "execution_count": 503,
   "outputs": [
    {
     "data": {
      "text/plain": "0.9579878385848535"
     },
     "execution_count": 503,
     "metadata": {},
     "output_type": "execute_result"
    }
   ],
   "source": [
    "np.sum(counterfactually_consistent)/prediction.shape[0]"
   ],
   "metadata": {
    "collapsed": false,
    "ExecuteTime": {
     "end_time": "2024-05-10T22:10:27.121293793Z",
     "start_time": "2024-05-10T22:10:27.104063816Z"
    }
   },
   "id": "679833fe75c5ac37"
  },
  {
   "cell_type": "code",
   "execution_count": 504,
   "outputs": [
    {
     "data": {
      "text/plain": "0.11531232725262576"
     },
     "execution_count": 504,
     "metadata": {},
     "output_type": "execute_result"
    }
   ],
   "source": [
    "sum(logits[:, 1] > 0.7)/logits.shape[0]"
   ],
   "metadata": {
    "collapsed": false,
    "ExecuteTime": {
     "end_time": "2024-05-10T22:10:27.121895200Z",
     "start_time": "2024-05-10T22:10:27.104109385Z"
    }
   },
   "id": "f0511dca591f22f7"
  },
  {
   "cell_type": "code",
   "execution_count": 507,
   "outputs": [
    {
     "data": {
      "text/plain": "array([-0.310433  , -0.29484716, -0.29242566, ...,  0.25849572,\n        0.26054797,  0.31403267], dtype=float32)"
     },
     "execution_count": 507,
     "metadata": {},
     "output_type": "execute_result"
    }
   ],
   "source": [
    "np.sort(logits[:,1] - counterfactual_logits[:,1])"
   ],
   "metadata": {
    "collapsed": false,
    "ExecuteTime": {
     "end_time": "2024-05-10T22:11:42.602188818Z",
     "start_time": "2024-05-10T22:11:42.561736508Z"
    }
   },
   "id": "3a144b01357892eb"
  },
  {
   "cell_type": "code",
   "execution_count": null,
   "outputs": [],
   "source": [],
   "metadata": {
    "collapsed": false
   },
   "id": "98443d73039d15a6"
  }
 ],
 "metadata": {
  "kernelspec": {
   "display_name": "Python 3",
   "language": "python",
   "name": "python3"
  },
  "language_info": {
   "codemirror_mode": {
    "name": "ipython",
    "version": 2
   },
   "file_extension": ".py",
   "mimetype": "text/x-python",
   "name": "python",
   "nbconvert_exporter": "python",
   "pygments_lexer": "ipython2",
   "version": "2.7.6"
  }
 },
 "nbformat": 4,
 "nbformat_minor": 5
}
